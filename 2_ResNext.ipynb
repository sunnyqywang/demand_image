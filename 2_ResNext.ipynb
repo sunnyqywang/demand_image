{
 "cells": [
  {
   "cell_type": "code",
   "execution_count": 1,
   "metadata": {},
   "outputs": [],
   "source": [
    "from setup import out_dir, data_dir, image_dir, model_dir\n",
    "%load_ext autoreload\n",
    "%autoreload 2\n",
    "\n",
    "import os\n",
    "import time\n",
    "from datetime import datetime\n",
    "import importlib\n",
    "import json\n",
    "from collections import OrderedDict\n",
    "import logging\n",
    "import argparse\n",
    "import numpy as np\n",
    "import random\n",
    "import matplotlib.pyplot as plt\n",
    "import glob\n",
    "\n",
    "import torch\n",
    "import torch.nn as nn\n",
    "import torch.optim\n",
    "import torch.utils.data\n",
    "import torch.backends.cudnn\n",
    "import torchvision.utils\n",
    "import torchvision.transforms\n",
    "\n",
    "try:\n",
    "    from tensorboardX import SummaryWriter\n",
    "    is_tensorboard_available = True\n",
    "except Exception:\n",
    "    is_tensorboard_available = False\n",
    "\n",
    "from dataloader import get_loader, image_loader\n",
    "\n",
    "torch.backends.cudnn.benchmark = True\n",
    "\n",
    "logging.basicConfig(\n",
    "    format='[%(asctime)s %(name)s %(levelname)s] - %(message)s',\n",
    "    datefmt='%Y/%m/%d %H:%M:%S',\n",
    "    level=logging.DEBUG)\n",
    "logger = logging.getLogger(__name__)\n",
    "\n",
    "global_step = 0\n",
    "\n",
    "def str2bool(s):\n",
    "    if s.lower() == 'true':\n",
    "        return True\n",
    "    elif s.lower() == 'false':\n",
    "        return False\n",
    "    else:\n",
    "        raise RuntimeError('Boolean value expected')"
   ]
  },
  {
   "cell_type": "code",
   "execution_count": 2,
   "metadata": {},
   "outputs": [],
   "source": [
    "zoomlevel = 'zoom13'\n",
    "device = torch.device(\"cuda:1\" if torch.cuda.is_available() else \"cpu\")\n",
    "#device = torch.device(\"cpu\")"
   ]
  },
  {
   "cell_type": "code",
   "execution_count": 19,
   "metadata": {},
   "outputs": [],
   "source": [
    "args = {'image_size': 224, \n",
    "        'depth': -1,\n",
    "       'base_channels':64,\n",
    "       'output_dim':1,\n",
    "       'cardinality':1,\n",
    "       'epochs':200,\n",
    "       'batch_size':16,\n",
    "       'base_lr':0.1,\n",
    "       'weight_decay':0.0005,\n",
    "       'momentum': 0.9,\n",
    "       'nesterov': True,\n",
    "       'milestones': '[150,225]',\n",
    "       'lr_decay':0.1,\n",
    "       'seed': 1234,\n",
    "       'outdir':out_dir,\n",
    "       'num_workers':8,\n",
    "       'tensorboard':False,\n",
    "       'save':True}\n",
    "\n",
    "model_config = OrderedDict([\n",
    "    ('arch', 'resnext'),\n",
    "    ('depth', args['depth']),\n",
    "    ('base_channels', args['base_channels']),\n",
    "    ('cardinality', args['cardinality']),\n",
    "    ('input_shape', (1, 3, 32, 32)),\n",
    "    ('output_dim', args['output_dim'])\n",
    "])\n",
    "\n",
    "optim_config = OrderedDict([\n",
    "    ('epochs', args['epochs']),\n",
    "    ('batch_size', args['batch_size']),\n",
    "    ('base_lr', args['base_lr']),\n",
    "    ('weight_decay', args['weight_decay']),\n",
    "    ('momentum', args['momentum']),\n",
    "    ('nesterov', args['nesterov']),\n",
    "    ('milestones', json.loads(args['milestones'])),\n",
    "    ('lr_decay', args['lr_decay']),\n",
    "])\n",
    "\n",
    "data_config = OrderedDict([\n",
    "    ('dataset', 'CIFAR10'),\n",
    "    ('image_size', args['image_size'])\n",
    "])\n",
    "\n",
    "run_config = OrderedDict([\n",
    "    ('seed', args['seed']),\n",
    "    ('outdir', args['outdir']),\n",
    "    ('save', args['save']),\n",
    "    ('num_workers', args['num_workers']),\n",
    "    ('tensorboard', args['tensorboard']),\n",
    "])\n",
    "\n",
    "config = OrderedDict([\n",
    "    ('model_config', model_config),\n",
    "    ('optim_config', optim_config),\n",
    "    ('data_config', data_config),\n",
    "    ('run_config', run_config),\n",
    "])"
   ]
  },
  {
   "cell_type": "code",
   "execution_count": 4,
   "metadata": {},
   "outputs": [],
   "source": [
    "# import network\n",
    "def load_model(config, model):\n",
    "    module = importlib.import_module(config['arch'])\n",
    "    Network = getattr(module, model)\n",
    "    return Network(config)\n",
    "\n",
    "\n",
    "class AverageMeter(object):\n",
    "    def __init__(self):\n",
    "        self.reset()\n",
    "\n",
    "    def reset(self):\n",
    "        self.val = 0\n",
    "        self.avg = 0\n",
    "        self.sum = 0\n",
    "        self.count = 0\n",
    "\n",
    "    def update(self, val, num):\n",
    "        self.val = val\n",
    "        self.sum += val * num\n",
    "        self.count += num\n",
    "        self.avg = self.sum / self.count"
   ]
  },
  {
   "cell_type": "code",
   "execution_count": 5,
   "metadata": {},
   "outputs": [],
   "source": [
    "def train(epoch, model, optimizer, criterion, train_loader, run_config,\n",
    "          writer, device):\n",
    "    global global_step\n",
    "\n",
    "    logger.info('Train {}'.format(epoch))\n",
    "\n",
    "    model.train()\n",
    "\n",
    "    loss_meter = AverageMeter()\n",
    "    accuracy_meter = AverageMeter()\n",
    "    start = time.time()\n",
    "\n",
    "    for step, (_,data) in enumerate(train_loader):\n",
    "        global_step += 1\n",
    "\n",
    "        if run_config['tensorboard'] and step == 0:\n",
    "            image = torchvision.utils.make_grid(\n",
    "                data, normalize=True, scale_each=True)\n",
    "            writer.add_image('Train/Image', image, epoch)\n",
    "\n",
    "        data = data.to(device)\n",
    "        # targets = targets.to(device)\n",
    "        optimizer.zero_grad()\n",
    "\n",
    "        outputs = model(data)\n",
    "        loss = criterion(outputs, data)\n",
    "        loss.backward()\n",
    "\n",
    "        optimizer.step()\n",
    "\n",
    "        num = data.size(0)\n",
    "\n",
    "        loss_ = loss.item()\n",
    "        loss_meter.update(loss_, num)\n",
    "\n",
    "#         _, preds = torch.max(outputs, dim=1)\n",
    "#         correct_ = preds.eq(targets).sum().item()\n",
    "#         accuracy = correct_ / num\n",
    "#         accuracy_meter.update(accuracy, num)\n",
    "\n",
    "        if run_config['tensorboard']:\n",
    "            writer.add_scalar('Train/RunningLoss', loss_, global_step)\n",
    "#             writer.add_scalar('Train/RunningAccuracy', accuracy, global_step)\n",
    "\n",
    "#     logger.info('Epoch {} Step {}/{} '\n",
    "#                 'Loss {:.4f} ({:.4f}) '\n",
    "#                 'Accuracy {:.4f} ({:.4f})'.format(\n",
    "#                     epoch,\n",
    "#                     step,\n",
    "#                     len(train_loader),\n",
    "#                     loss_meter.val,\n",
    "#                     loss_meter.avg,\n",
    "#                     accuracy_meter.val,\n",
    "#                     accuracy_meter.avg,\n",
    "#                 ))\n",
    "  \n",
    "    logger.info('Epoch {} Step {}/{} '\n",
    "                'Train Loss {:.8f} ({:.8f}) '.format(\n",
    "                    epoch,\n",
    "                    step,\n",
    "                    len(train_loader),\n",
    "                    loss_meter.val,\n",
    "                    loss_meter.avg\n",
    "                ))\n",
    "\n",
    "    if run_config['tensorboard']:\n",
    "        elapsed = time.time() - start\n",
    "        writer.add_scalar('Train/Loss', loss_meter.avg, epoch)\n",
    "#         writer.add_scalar('Train/Accuracy', accuracy_meter.avg, epoch)\n",
    "        writer.add_scalar('Train/Time', elapsed, epoch)\n",
    "    \n",
    "    return loss_meter.avg"
   ]
  },
  {
   "cell_type": "code",
   "execution_count": 6,
   "metadata": {},
   "outputs": [],
   "source": [
    "def test(epoch, model, criterion, test_loader, run_config, writer, device):\n",
    "    logger.info('Test {}'.format(epoch))\n",
    "\n",
    "    model.eval()\n",
    "\n",
    "    loss_meter = AverageMeter()\n",
    "    correct_meter = AverageMeter()\n",
    "    start = time.time()\n",
    "    for step, (_,data) in enumerate(test_loader):\n",
    "        if run_config['tensorboard'] and epoch == 0 and step == 0:\n",
    "            image = torchvision.utils.make_grid(\n",
    "                data, normalize=True, scale_each=True)\n",
    "            writer.add_image('Test/Image', image, epoch)\n",
    "\n",
    "        data = data.to(device)\n",
    "        # targets = targets.to(device)\n",
    "\n",
    "        with torch.no_grad():\n",
    "            outputs = model(data)\n",
    "        loss = criterion(outputs, data)\n",
    "       \n",
    "        loss_ = loss.item()\n",
    "        num = data.size(0)\n",
    "        loss_meter.update(loss_, num)\n",
    "\n",
    "#         _, preds = torch.max(outputs, dim=1)\n",
    "#         correct_ = preds.eq(targets).sum().item()\n",
    "#         correct_meter.update(correct_, 1)\n",
    "\n",
    "#     accuracy = correct_meter.sum / len(test_loader.dataset)\n",
    "\n",
    "#     logger.info('Epoch {} Loss {:.4f} Accuracy {:.4f}'.format(\n",
    "#         epoch, loss_meter.avg, accuracy))\n",
    "\n",
    "    logger.info('Epoch {} Test Loss {:.8f}'.format(epoch, loss_meter.avg))\n",
    "    \n",
    "    elapsed = time.time() - start\n",
    "    logger.info('Elapsed {:.2f}'.format(elapsed))\n",
    "\n",
    "    if run_config['tensorboard']:\n",
    "        if epoch > 0:\n",
    "            writer.add_scalar('Test/Loss', loss_meter.avg, epoch)\n",
    "#         writer.add_scalar('Test/Accuracy', accuracy, epoch)\n",
    "        writer.add_scalar('Test/Time', elapsed, epoch)\n",
    "\n",
    "        for name, param in model.named_parameters():\n",
    "            writer.add_histogram(name, param, global_step)\n",
    "\n",
    "#     return accuracy\n",
    "    return outputs"
   ]
  },
  {
   "cell_type": "code",
   "execution_count": 20,
   "metadata": {},
   "outputs": [],
   "source": [
    "# parse command line arguments\n",
    "#config = parse_args()\n",
    "#logger.info(json.dumps(config, indent=2))\n",
    "\n",
    "model_name = datetime.now().strftime(\"%m%d-%H%M\")\n",
    "\n",
    "run_config = config['run_config']\n",
    "optim_config = config['optim_config']\n",
    "\n",
    "# TensorBoard SummaryWriter\n",
    "writer = SummaryWriter(model_name) if run_config['tensorboard'] else None\n",
    "\n",
    "# set random seed\n",
    "seed = run_config['seed']\n",
    "torch.manual_seed(seed)\n",
    "np.random.seed(seed)\n",
    "random.seed(seed)\n",
    "\n",
    "# create output directory\n",
    "outdir = run_config['outdir']\n",
    "if not os.path.exists(outdir):\n",
    "    os.makedirs(outdir)\n",
    "\n",
    "# save config as json file in output directory\n",
    "outpath = os.path.join(outdir, 'config.json')\n",
    "with open(outpath, 'w') as fout:\n",
    "    json.dump(config, fout, indent=2)"
   ]
  },
  {
   "cell_type": "code",
   "execution_count": 8,
   "metadata": {
    "scrolled": false
   },
   "outputs": [
    {
     "name": "stderr",
     "output_type": "stream",
     "text": [
      "[2021/07/27 12:23:24 numexpr.utils INFO] - Note: NumExpr detected 20 cores but \"NUMEXPR_MAX_THREADS\" not set, so enforcing safe limit of 8.\n",
      "[2021/07/27 12:23:24 numexpr.utils INFO] - NumExpr defaulting to 8 threads.\n"
     ]
    }
   ],
   "source": [
    "# data loaders\n",
    "# train_loader, test_loader = get_loader(optim_config['batch_size'], run_config['num_workers'])\n",
    "train_loader, test_loader = image_loader(image_dir+zoomlevel+\"/\", data_dir, optim_config['batch_size'], run_config['num_workers'], \n",
    "                                         data_config['image_size'], recalculate_normalize=False)"
   ]
  },
  {
   "cell_type": "code",
   "execution_count": 9,
   "metadata": {},
   "outputs": [],
   "source": [
    "class Autoencoder(nn.Module):\n",
    "    def __init__(self, encoder, decoder):\n",
    "        super(Autoencoder, self).__init__()\n",
    "        \n",
    "        self.encoder = encoder\n",
    "        self.decoder = decoder\n",
    "\n",
    "        \n",
    "    def forward(self, x):\n",
    "        xp = self.encoder(x)  \n",
    "        xp = self.decoder(xp)\n",
    "\n",
    "        return xp"
   ]
  },
  {
   "cell_type": "code",
   "execution_count": 21,
   "metadata": {},
   "outputs": [
    {
     "name": "stdout",
     "output_type": "stream",
     "text": [
      "Encoder torch.Size([1, 2048, 1, 1])\n"
     ]
    }
   ],
   "source": [
    "# model\n",
    "config['model_config']['input_shape'] = (1,3,data_config['image_size'],data_config['image_size'])\n",
    "\n",
    "encoder = load_model(config['model_config'], 'Encoder')\n",
    "encoder = encoder.to(device)"
   ]
  },
  {
   "cell_type": "code",
   "execution_count": 22,
   "metadata": {},
   "outputs": [
    {
     "name": "stdout",
     "output_type": "stream",
     "text": [
      "Decoder: torch.Size([1, 3, 224, 224])\n"
     ]
    }
   ],
   "source": [
    "config['model_config']['input_shape'] = [1,2048,config['model_config']['output_dim'],config['model_config']['output_dim']]\n",
    "\n",
    "config['model_config']['conv_shape'] = [data_config['image_size']//32,data_config['image_size']//32]\n",
    "config['model_config']['output_channels'] = 3\n",
    "\n",
    "decoder = load_model(config['model_config'], 'Decoder')\n",
    "decoder = decoder.to(device)"
   ]
  },
  {
   "cell_type": "code",
   "execution_count": 23,
   "metadata": {
    "scrolled": true
   },
   "outputs": [
    {
     "name": "stderr",
     "output_type": "stream",
     "text": [
      "[2021/07/27 14:59:18 __main__ INFO] - n_params: 31961862\n"
     ]
    }
   ],
   "source": [
    "model = Autoencoder(encoder, decoder)\n",
    "model = model.to(device)\n",
    "\n",
    "n_params = sum([param.view(-1).size()[0] for param in encoder.parameters()]) +\\\n",
    "           sum([param.view(-1).size()[0] for param in decoder.parameters()])\n",
    "logger.info('n_params: {}'.format(n_params))"
   ]
  },
  {
   "cell_type": "code",
   "execution_count": 24,
   "metadata": {},
   "outputs": [],
   "source": [
    "criterion = nn.MSELoss(reduction='mean')\n",
    "\n",
    "# optimizer\n",
    "optimizer = torch.optim.SGD(\n",
    "    model.parameters(),\n",
    "    lr=optim_config['base_lr'],\n",
    "    momentum=optim_config['momentum'],\n",
    "    weight_decay=optim_config['weight_decay'],\n",
    "    nesterov=optim_config['nesterov'])\n",
    "\n",
    "scheduler = torch.optim.lr_scheduler.MultiStepLR(\n",
    "    optimizer,\n",
    "    milestones=optim_config['milestones'],\n",
    "    gamma=optim_config['lr_decay'])\n",
    "\n",
    "# Test with Adam Optimizer (easier to setup, experiment with SGD later)\n",
    "# optimizer = torch.optim.Adam(model.parameters(), lr=optim_config['base_lr'],\n",
    "#                              weight_decay=optim_config['weight_decay'])\n",
    "\n",
    "# run test before start training\n",
    "# test_outputs = test(0, model, criterion, test_loader, run_config, writer, device)"
   ]
  },
  {
   "cell_type": "code",
   "execution_count": 25,
   "metadata": {
    "scrolled": false
   },
   "outputs": [
    {
     "name": "stderr",
     "output_type": "stream",
     "text": [
      "[2021/07/27 14:59:19 __main__ INFO] - Train 0\n",
      "[2021/07/27 15:00:34 __main__ INFO] - Epoch 0 Step 519/520 Train Loss 0.45086026 (0.55312326) \n",
      "[2021/07/27 15:00:34 __main__ INFO] - Test 0\n",
      "[2021/07/27 15:00:37 __main__ INFO] - Epoch 0 Test Loss 0.52424652\n",
      "[2021/07/27 15:00:37 __main__ INFO] - Elapsed 3.54\n",
      "[2021/07/27 15:00:41 __main__ INFO] - Train 1\n",
      "[2021/07/27 15:01:56 __main__ INFO] - Epoch 1 Step 519/520 Train Loss 0.49058387 (0.49730209) \n",
      "[2021/07/27 15:01:56 __main__ INFO] - Test 1\n",
      "[2021/07/27 15:01:59 __main__ INFO] - Epoch 1 Test Loss 0.49142120\n",
      "[2021/07/27 15:01:59 __main__ INFO] - Elapsed 3.05\n",
      "[2021/07/27 15:02:03 __main__ INFO] - Train 2\n",
      "[2021/07/27 15:03:18 __main__ INFO] - Epoch 2 Step 519/520 Train Loss 0.46398926 (0.47799555) \n",
      "[2021/07/27 15:03:18 __main__ INFO] - Test 2\n",
      "[2021/07/27 15:03:21 __main__ INFO] - Epoch 2 Test Loss 0.45234205\n",
      "[2021/07/27 15:03:21 __main__ INFO] - Elapsed 3.06\n",
      "[2021/07/27 15:03:25 __main__ INFO] - Train 3\n",
      "[2021/07/27 15:04:40 __main__ INFO] - Epoch 3 Step 519/520 Train Loss 0.51223302 (0.46532554) \n",
      "[2021/07/27 15:04:40 __main__ INFO] - Test 3\n",
      "[2021/07/27 15:04:43 __main__ INFO] - Epoch 3 Test Loss 0.45794716\n",
      "[2021/07/27 15:04:43 __main__ INFO] - Elapsed 3.05\n",
      "[2021/07/27 15:04:46 __main__ INFO] - Train 4\n",
      "[2021/07/27 15:06:02 __main__ INFO] - Epoch 4 Step 519/520 Train Loss 0.49702400 (0.45591427) \n",
      "[2021/07/27 15:06:02 __main__ INFO] - Test 4\n",
      "[2021/07/27 15:06:05 __main__ INFO] - Epoch 4 Test Loss 0.43655907\n",
      "[2021/07/27 15:06:05 __main__ INFO] - Elapsed 3.07\n",
      "[2021/07/27 15:06:08 __main__ INFO] - Train 5\n",
      "[2021/07/27 15:07:24 __main__ INFO] - Epoch 5 Step 519/520 Train Loss 0.43315300 (0.44921040) \n",
      "[2021/07/27 15:07:24 __main__ INFO] - Test 5\n",
      "[2021/07/27 15:07:27 __main__ INFO] - Epoch 5 Test Loss 0.43310155\n",
      "[2021/07/27 15:07:27 __main__ INFO] - Elapsed 3.06\n",
      "[2021/07/27 15:07:31 __main__ INFO] - Train 6\n",
      "[2021/07/27 15:08:46 __main__ INFO] - Epoch 6 Step 519/520 Train Loss 0.46451813 (0.44294924) \n",
      "[2021/07/27 15:08:46 __main__ INFO] - Test 6\n",
      "[2021/07/27 15:08:49 __main__ INFO] - Epoch 6 Test Loss 0.44870264\n",
      "[2021/07/27 15:08:49 __main__ INFO] - Elapsed 3.05\n",
      "[2021/07/27 15:08:53 __main__ INFO] - Train 7\n",
      "[2021/07/27 15:10:08 __main__ INFO] - Epoch 7 Step 519/520 Train Loss 0.40334418 (0.44109024) \n",
      "[2021/07/27 15:10:08 __main__ INFO] - Test 7\n",
      "[2021/07/27 15:10:11 __main__ INFO] - Epoch 7 Test Loss 0.42086826\n",
      "[2021/07/27 15:10:11 __main__ INFO] - Elapsed 3.07\n",
      "[2021/07/27 15:10:15 __main__ INFO] - Train 8\n",
      "[2021/07/27 15:11:30 __main__ INFO] - Epoch 8 Step 519/520 Train Loss 0.44151637 (0.44004024) \n",
      "[2021/07/27 15:11:30 __main__ INFO] - Test 8\n",
      "[2021/07/27 15:11:33 __main__ INFO] - Epoch 8 Test Loss 0.43621872\n",
      "[2021/07/27 15:11:33 __main__ INFO] - Elapsed 3.06\n",
      "[2021/07/27 15:11:37 __main__ INFO] - Train 9\n",
      "[2021/07/27 15:12:52 __main__ INFO] - Epoch 9 Step 519/520 Train Loss 0.39909393 (0.43683612) \n",
      "[2021/07/27 15:12:52 __main__ INFO] - Test 9\n",
      "[2021/07/27 15:12:56 __main__ INFO] - Epoch 9 Test Loss 0.42188026\n",
      "[2021/07/27 15:12:56 __main__ INFO] - Elapsed 3.08\n",
      "[2021/07/27 15:12:59 __main__ INFO] - Train 10\n",
      "[2021/07/27 15:14:14 __main__ INFO] - Epoch 10 Step 519/520 Train Loss 0.38442785 (0.43531706) \n",
      "[2021/07/27 15:14:14 __main__ INFO] - Test 10\n",
      "[2021/07/27 15:14:17 __main__ INFO] - Epoch 10 Test Loss 0.44696402\n",
      "[2021/07/27 15:14:17 __main__ INFO] - Elapsed 3.05\n",
      "[2021/07/27 15:14:21 __main__ INFO] - Train 11\n",
      "[2021/07/27 15:15:37 __main__ INFO] - Epoch 11 Step 519/520 Train Loss 0.42435470 (0.43366777) \n",
      "[2021/07/27 15:15:37 __main__ INFO] - Test 11\n",
      "[2021/07/27 15:15:40 __main__ INFO] - Epoch 11 Test Loss 0.41472804\n",
      "[2021/07/27 15:15:40 __main__ INFO] - Elapsed 3.06\n",
      "[2021/07/27 15:15:43 __main__ INFO] - Train 12\n",
      "[2021/07/27 15:16:59 __main__ INFO] - Epoch 12 Step 519/520 Train Loss 0.45606735 (0.43407016) \n",
      "[2021/07/27 15:16:59 __main__ INFO] - Test 12\n",
      "[2021/07/27 15:17:02 __main__ INFO] - Epoch 12 Test Loss 0.41343597\n",
      "[2021/07/27 15:17:02 __main__ INFO] - Elapsed 3.06\n",
      "[2021/07/27 15:17:05 __main__ INFO] - Train 13\n",
      "[2021/07/27 15:18:21 __main__ INFO] - Epoch 13 Step 519/520 Train Loss 0.36675349 (0.43145483) \n",
      "[2021/07/27 15:18:21 __main__ INFO] - Test 13\n",
      "[2021/07/27 15:18:24 __main__ INFO] - Epoch 13 Test Loss 0.40893127\n",
      "[2021/07/27 15:18:24 __main__ INFO] - Elapsed 3.07\n",
      "[2021/07/27 15:18:27 __main__ INFO] - Train 14\n",
      "[2021/07/27 15:19:43 __main__ INFO] - Epoch 14 Step 519/520 Train Loss 0.39103231 (0.43061910) \n",
      "[2021/07/27 15:19:43 __main__ INFO] - Test 14\n",
      "[2021/07/27 15:19:46 __main__ INFO] - Epoch 14 Test Loss 0.42333685\n",
      "[2021/07/27 15:19:46 __main__ INFO] - Elapsed 3.08\n",
      "[2021/07/27 15:19:49 __main__ INFO] - Train 15\n",
      "[2021/07/27 15:21:05 __main__ INFO] - Epoch 15 Step 519/520 Train Loss 0.47783363 (0.42723865) \n",
      "[2021/07/27 15:21:05 __main__ INFO] - Test 15\n",
      "[2021/07/27 15:21:08 __main__ INFO] - Epoch 15 Test Loss 0.45703176\n",
      "[2021/07/27 15:21:08 __main__ INFO] - Elapsed 3.08\n",
      "[2021/07/27 15:21:11 __main__ INFO] - Train 16\n",
      "[2021/07/27 15:22:27 __main__ INFO] - Epoch 16 Step 519/520 Train Loss 0.39005601 (0.42612947) \n",
      "[2021/07/27 15:22:27 __main__ INFO] - Test 16\n",
      "[2021/07/27 15:22:30 __main__ INFO] - Epoch 16 Test Loss 0.41099327\n",
      "[2021/07/27 15:22:30 __main__ INFO] - Elapsed 3.08\n",
      "[2021/07/27 15:22:33 __main__ INFO] - Train 17\n",
      "[2021/07/27 15:23:49 __main__ INFO] - Epoch 17 Step 519/520 Train Loss 0.42996430 (0.42620817) \n",
      "[2021/07/27 15:23:49 __main__ INFO] - Test 17\n",
      "[2021/07/27 15:23:52 __main__ INFO] - Epoch 17 Test Loss 0.40190209\n",
      "[2021/07/27 15:23:52 __main__ INFO] - Elapsed 3.06\n",
      "[2021/07/27 15:23:55 __main__ INFO] - Train 18\n",
      "[2021/07/27 15:25:11 __main__ INFO] - Epoch 18 Step 519/520 Train Loss 0.38716841 (0.42604318) \n",
      "[2021/07/27 15:25:11 __main__ INFO] - Test 18\n",
      "[2021/07/27 15:25:14 __main__ INFO] - Epoch 18 Test Loss 0.42878584\n",
      "[2021/07/27 15:25:14 __main__ INFO] - Elapsed 3.08\n",
      "[2021/07/27 15:25:17 __main__ INFO] - Train 19\n",
      "[2021/07/27 15:26:33 __main__ INFO] - Epoch 19 Step 519/520 Train Loss 0.41593850 (0.42343732) \n",
      "[2021/07/27 15:26:33 __main__ INFO] - Test 19\n",
      "[2021/07/27 15:26:36 __main__ INFO] - Epoch 19 Test Loss 0.40635071\n",
      "[2021/07/27 15:26:36 __main__ INFO] - Elapsed 3.08\n",
      "[2021/07/27 15:26:40 __main__ INFO] - Train 20\n",
      "[2021/07/27 15:27:55 __main__ INFO] - Epoch 20 Step 519/520 Train Loss 0.40579093 (0.42439091) \n",
      "[2021/07/27 15:27:55 __main__ INFO] - Test 20\n",
      "[2021/07/27 15:27:58 __main__ INFO] - Epoch 20 Test Loss 0.39929568\n",
      "[2021/07/27 15:27:58 __main__ INFO] - Elapsed 3.08\n",
      "[2021/07/27 15:28:02 __main__ INFO] - Train 21\n",
      "[2021/07/27 15:29:18 __main__ INFO] - Epoch 21 Step 519/520 Train Loss 0.46281877 (0.42268766) \n",
      "[2021/07/27 15:29:18 __main__ INFO] - Test 21\n",
      "[2021/07/27 15:29:21 __main__ INFO] - Epoch 21 Test Loss 0.44843188\n",
      "[2021/07/27 15:29:21 __main__ INFO] - Elapsed 3.07\n",
      "[2021/07/27 15:29:24 __main__ INFO] - Train 22\n",
      "[2021/07/27 15:30:40 __main__ INFO] - Epoch 22 Step 519/520 Train Loss 0.47926331 (0.42226721) \n",
      "[2021/07/27 15:30:40 __main__ INFO] - Test 22\n",
      "[2021/07/27 15:30:43 __main__ INFO] - Epoch 22 Test Loss 0.40030783\n",
      "[2021/07/27 15:30:43 __main__ INFO] - Elapsed 3.07\n",
      "[2021/07/27 15:30:46 __main__ INFO] - Train 23\n",
      "[2021/07/27 15:32:02 __main__ INFO] - Epoch 23 Step 519/520 Train Loss 0.39062443 (0.42179362) \n",
      "[2021/07/27 15:32:02 __main__ INFO] - Test 23\n",
      "[2021/07/27 15:32:05 __main__ INFO] - Epoch 23 Test Loss 0.42835309\n",
      "[2021/07/27 15:32:05 __main__ INFO] - Elapsed 3.07\n",
      "[2021/07/27 15:32:08 __main__ INFO] - Train 24\n",
      "[2021/07/27 15:33:24 __main__ INFO] - Epoch 24 Step 519/520 Train Loss 0.39647403 (0.41974774) \n",
      "[2021/07/27 15:33:24 __main__ INFO] - Test 24\n",
      "[2021/07/27 15:33:27 __main__ INFO] - Epoch 24 Test Loss 0.40186447\n",
      "[2021/07/27 15:33:27 __main__ INFO] - Elapsed 3.06\n",
      "[2021/07/27 15:33:30 __main__ INFO] - Train 25\n",
      "[2021/07/27 15:34:46 __main__ INFO] - Epoch 25 Step 519/520 Train Loss 0.35628664 (0.42006913) \n",
      "[2021/07/27 15:34:46 __main__ INFO] - Test 25\n",
      "[2021/07/27 15:34:49 __main__ INFO] - Epoch 25 Test Loss 0.40813268\n",
      "[2021/07/27 15:34:49 __main__ INFO] - Elapsed 3.05\n",
      "[2021/07/27 15:34:53 __main__ INFO] - Train 26\n",
      "[2021/07/27 15:36:08 __main__ INFO] - Epoch 26 Step 519/520 Train Loss 0.41948444 (0.41884449) \n",
      "[2021/07/27 15:36:08 __main__ INFO] - Test 26\n",
      "[2021/07/27 15:36:12 __main__ INFO] - Epoch 26 Test Loss 0.43445048\n"
     ]
    },
    {
     "name": "stderr",
     "output_type": "stream",
     "text": [
      "[2021/07/27 15:36:12 __main__ INFO] - Elapsed 3.08\n",
      "[2021/07/27 15:36:15 __main__ INFO] - Train 27\n",
      "[2021/07/27 15:37:31 __main__ INFO] - Epoch 27 Step 519/520 Train Loss 0.46387881 (0.41859333) \n",
      "[2021/07/27 15:37:31 __main__ INFO] - Test 27\n",
      "[2021/07/27 15:37:34 __main__ INFO] - Epoch 27 Test Loss 0.41760488\n",
      "[2021/07/27 15:37:34 __main__ INFO] - Elapsed 3.08\n",
      "[2021/07/27 15:37:37 __main__ INFO] - Train 28\n",
      "[2021/07/27 15:38:53 __main__ INFO] - Epoch 28 Step 519/520 Train Loss 0.35939327 (0.41803032) \n",
      "[2021/07/27 15:38:53 __main__ INFO] - Test 28\n",
      "[2021/07/27 15:38:56 __main__ INFO] - Epoch 28 Test Loss 0.40107428\n",
      "[2021/07/27 15:38:56 __main__ INFO] - Elapsed 3.06\n",
      "[2021/07/27 15:38:59 __main__ INFO] - Train 29\n",
      "[2021/07/27 15:40:15 __main__ INFO] - Epoch 29 Step 519/520 Train Loss 0.40181959 (0.41717609) \n",
      "[2021/07/27 15:40:15 __main__ INFO] - Test 29\n",
      "[2021/07/27 15:40:18 __main__ INFO] - Epoch 29 Test Loss 0.41337570\n",
      "[2021/07/27 15:40:18 __main__ INFO] - Elapsed 3.07\n",
      "[2021/07/27 15:40:21 __main__ INFO] - Train 30\n",
      "[2021/07/27 15:41:37 __main__ INFO] - Epoch 30 Step 519/520 Train Loss 0.40403613 (0.41913808) \n",
      "[2021/07/27 15:41:37 __main__ INFO] - Test 30\n",
      "[2021/07/27 15:41:40 __main__ INFO] - Epoch 30 Test Loss 0.41221269\n",
      "[2021/07/27 15:41:40 __main__ INFO] - Elapsed 3.07\n",
      "[2021/07/27 15:41:43 __main__ INFO] - Train 31\n",
      "[2021/07/27 15:42:59 __main__ INFO] - Epoch 31 Step 519/520 Train Loss 0.39715108 (0.41717126) \n",
      "[2021/07/27 15:42:59 __main__ INFO] - Test 31\n",
      "[2021/07/27 15:43:02 __main__ INFO] - Epoch 31 Test Loss 0.40792962\n",
      "[2021/07/27 15:43:02 __main__ INFO] - Elapsed 3.08\n",
      "[2021/07/27 15:43:06 __main__ INFO] - Train 32\n",
      "[2021/07/27 15:44:21 __main__ INFO] - Epoch 32 Step 519/520 Train Loss 0.42910948 (0.41709530) \n",
      "[2021/07/27 15:44:21 __main__ INFO] - Test 32\n",
      "[2021/07/27 15:44:24 __main__ INFO] - Epoch 32 Test Loss 0.39615966\n",
      "[2021/07/27 15:44:24 __main__ INFO] - Elapsed 3.09\n",
      "[2021/07/27 15:44:28 __main__ INFO] - Train 33\n",
      "[2021/07/27 15:45:43 __main__ INFO] - Epoch 33 Step 519/520 Train Loss 0.45553899 (0.41791343) \n",
      "[2021/07/27 15:45:43 __main__ INFO] - Test 33\n",
      "[2021/07/27 15:45:46 __main__ INFO] - Epoch 33 Test Loss 0.40112905\n",
      "[2021/07/27 15:45:46 __main__ INFO] - Elapsed 3.09\n",
      "[2021/07/27 15:45:50 __main__ INFO] - Train 34\n",
      "[2021/07/27 15:47:06 __main__ INFO] - Epoch 34 Step 519/520 Train Loss 0.39981446 (0.41605372) \n",
      "[2021/07/27 15:47:06 __main__ INFO] - Test 34\n",
      "[2021/07/27 15:47:09 __main__ INFO] - Epoch 34 Test Loss 0.40309347\n",
      "[2021/07/27 15:47:09 __main__ INFO] - Elapsed 3.07\n",
      "[2021/07/27 15:47:12 __main__ INFO] - Train 35\n",
      "[2021/07/27 15:48:28 __main__ INFO] - Epoch 35 Step 519/520 Train Loss 0.40322751 (0.41532206) \n",
      "[2021/07/27 15:48:28 __main__ INFO] - Test 35\n",
      "[2021/07/27 15:48:31 __main__ INFO] - Epoch 35 Test Loss 0.47505849\n",
      "[2021/07/27 15:48:31 __main__ INFO] - Elapsed 3.06\n",
      "[2021/07/27 15:48:34 __main__ INFO] - Train 36\n",
      "[2021/07/27 15:49:50 __main__ INFO] - Epoch 36 Step 519/520 Train Loss 0.41864252 (0.41450461) \n",
      "[2021/07/27 15:49:50 __main__ INFO] - Test 36\n",
      "[2021/07/27 15:49:53 __main__ INFO] - Epoch 36 Test Loss 0.39688689\n",
      "[2021/07/27 15:49:53 __main__ INFO] - Elapsed 3.07\n",
      "[2021/07/27 15:49:57 __main__ INFO] - Train 37\n",
      "[2021/07/27 15:51:12 __main__ INFO] - Epoch 37 Step 519/520 Train Loss 0.40156233 (0.41551959) \n",
      "[2021/07/27 15:51:12 __main__ INFO] - Test 37\n",
      "[2021/07/27 15:51:15 __main__ INFO] - Epoch 37 Test Loss 0.39883078\n",
      "[2021/07/27 15:51:15 __main__ INFO] - Elapsed 3.05\n",
      "[2021/07/27 15:51:19 __main__ INFO] - Train 38\n",
      "[2021/07/27 15:52:34 __main__ INFO] - Epoch 38 Step 519/520 Train Loss 0.60074252 (0.41508843) \n",
      "[2021/07/27 15:52:34 __main__ INFO] - Test 38\n",
      "[2021/07/27 15:52:37 __main__ INFO] - Epoch 38 Test Loss 0.42971018\n",
      "[2021/07/27 15:52:37 __main__ INFO] - Elapsed 3.08\n",
      "[2021/07/27 15:52:41 __main__ INFO] - Train 39\n",
      "[2021/07/27 15:53:56 __main__ INFO] - Epoch 39 Step 519/520 Train Loss 0.41160807 (0.41493152) \n",
      "[2021/07/27 15:53:56 __main__ INFO] - Test 39\n",
      "[2021/07/27 15:53:59 __main__ INFO] - Epoch 39 Test Loss 0.41573928\n",
      "[2021/07/27 15:53:59 __main__ INFO] - Elapsed 3.06\n",
      "[2021/07/27 15:54:03 __main__ INFO] - Train 40\n",
      "[2021/07/27 15:55:19 __main__ INFO] - Epoch 40 Step 519/520 Train Loss 0.39032334 (0.41437988) \n",
      "[2021/07/27 15:55:19 __main__ INFO] - Test 40\n",
      "[2021/07/27 15:55:22 __main__ INFO] - Epoch 40 Test Loss 0.41147949\n",
      "[2021/07/27 15:55:22 __main__ INFO] - Elapsed 3.07\n",
      "[2021/07/27 15:55:25 __main__ INFO] - Train 41\n",
      "[2021/07/27 15:56:41 __main__ INFO] - Epoch 41 Step 519/520 Train Loss 0.39745322 (0.41387433) \n",
      "[2021/07/27 15:56:41 __main__ INFO] - Test 41\n",
      "[2021/07/27 15:56:44 __main__ INFO] - Epoch 41 Test Loss 0.42254488\n",
      "[2021/07/27 15:56:44 __main__ INFO] - Elapsed 3.07\n",
      "[2021/07/27 15:56:47 __main__ INFO] - Train 42\n",
      "[2021/07/27 15:58:03 __main__ INFO] - Epoch 42 Step 519/520 Train Loss 0.42461866 (0.41389939) \n",
      "[2021/07/27 15:58:03 __main__ INFO] - Test 42\n",
      "[2021/07/27 15:58:06 __main__ INFO] - Epoch 42 Test Loss 0.39721274\n",
      "[2021/07/27 15:58:06 __main__ INFO] - Elapsed 3.06\n",
      "[2021/07/27 15:58:09 __main__ INFO] - Train 43\n",
      "[2021/07/27 15:59:25 __main__ INFO] - Epoch 43 Step 519/520 Train Loss 0.41811356 (0.41529494) \n",
      "[2021/07/27 15:59:25 __main__ INFO] - Test 43\n",
      "[2021/07/27 15:59:28 __main__ INFO] - Epoch 43 Test Loss 0.39926774\n",
      "[2021/07/27 15:59:28 __main__ INFO] - Elapsed 3.04\n",
      "[2021/07/27 15:59:32 __main__ INFO] - Train 44\n",
      "[2021/07/27 16:00:47 __main__ INFO] - Epoch 44 Step 519/520 Train Loss 0.36775920 (0.41253428) \n",
      "[2021/07/27 16:00:47 __main__ INFO] - Test 44\n",
      "[2021/07/27 16:00:50 __main__ INFO] - Epoch 44 Test Loss 0.40723602\n",
      "[2021/07/27 16:00:50 __main__ INFO] - Elapsed 3.05\n",
      "[2021/07/27 16:00:54 __main__ INFO] - Train 45\n",
      "[2021/07/27 16:02:09 __main__ INFO] - Epoch 45 Step 519/520 Train Loss 0.42691198 (0.41365006) \n",
      "[2021/07/27 16:02:09 __main__ INFO] - Test 45\n",
      "[2021/07/27 16:02:12 __main__ INFO] - Epoch 45 Test Loss 0.44280077\n",
      "[2021/07/27 16:02:12 __main__ INFO] - Elapsed 3.08\n",
      "[2021/07/27 16:02:16 __main__ INFO] - Train 46\n",
      "[2021/07/27 16:03:32 __main__ INFO] - Epoch 46 Step 519/520 Train Loss 0.39068919 (0.41288722) \n",
      "[2021/07/27 16:03:32 __main__ INFO] - Test 46\n",
      "[2021/07/27 16:03:35 __main__ INFO] - Epoch 46 Test Loss 0.39441109\n",
      "[2021/07/27 16:03:35 __main__ INFO] - Elapsed 3.07\n",
      "[2021/07/27 16:03:38 __main__ INFO] - Train 47\n",
      "[2021/07/27 16:04:54 __main__ INFO] - Epoch 47 Step 519/520 Train Loss 0.38936895 (0.41262316) \n",
      "[2021/07/27 16:04:54 __main__ INFO] - Test 47\n",
      "[2021/07/27 16:04:57 __main__ INFO] - Epoch 47 Test Loss 0.42485745\n",
      "[2021/07/27 16:04:57 __main__ INFO] - Elapsed 3.06\n",
      "[2021/07/27 16:05:00 __main__ INFO] - Train 48\n",
      "[2021/07/27 16:06:16 __main__ INFO] - Epoch 48 Step 519/520 Train Loss 0.37876654 (0.41255344) \n",
      "[2021/07/27 16:06:16 __main__ INFO] - Test 48\n",
      "[2021/07/27 16:06:19 __main__ INFO] - Epoch 48 Test Loss 0.39039051\n",
      "[2021/07/27 16:06:19 __main__ INFO] - Elapsed 3.10\n",
      "[2021/07/27 16:06:22 __main__ INFO] - Train 49\n",
      "[2021/07/27 16:07:38 __main__ INFO] - Epoch 49 Step 519/520 Train Loss 0.39267004 (0.41041783) \n",
      "[2021/07/27 16:07:38 __main__ INFO] - Test 49\n",
      "[2021/07/27 16:07:41 __main__ INFO] - Epoch 49 Test Loss 0.40901708\n",
      "[2021/07/27 16:07:41 __main__ INFO] - Elapsed 3.06\n",
      "[2021/07/27 16:07:44 __main__ INFO] - Train 50\n",
      "[2021/07/27 16:09:00 __main__ INFO] - Epoch 50 Step 519/520 Train Loss 0.41922528 (0.40956518) \n",
      "[2021/07/27 16:09:00 __main__ INFO] - Test 50\n",
      "[2021/07/27 16:09:03 __main__ INFO] - Epoch 50 Test Loss 0.41721858\n",
      "[2021/07/27 16:09:03 __main__ INFO] - Elapsed 3.07\n",
      "[2021/07/27 16:09:07 __main__ INFO] - Train 51\n",
      "[2021/07/27 16:10:22 __main__ INFO] - Epoch 51 Step 519/520 Train Loss 0.39502832 (0.40880628) \n",
      "[2021/07/27 16:10:22 __main__ INFO] - Test 51\n",
      "[2021/07/27 16:10:25 __main__ INFO] - Epoch 51 Test Loss 0.40056136\n",
      "[2021/07/27 16:10:25 __main__ INFO] - Elapsed 3.02\n",
      "[2021/07/27 16:10:29 __main__ INFO] - Train 52\n",
      "[2021/07/27 16:11:44 __main__ INFO] - Epoch 52 Step 519/520 Train Loss 0.40245888 (0.40928086) \n",
      "[2021/07/27 16:11:44 __main__ INFO] - Test 52\n",
      "[2021/07/27 16:11:47 __main__ INFO] - Epoch 52 Test Loss 0.41770442\n",
      "[2021/07/27 16:11:48 __main__ INFO] - Elapsed 3.07\n",
      "[2021/07/27 16:11:51 __main__ INFO] - Train 53\n",
      "[2021/07/27 16:13:06 __main__ INFO] - Epoch 53 Step 519/520 Train Loss 0.46242028 (0.40796302) \n"
     ]
    },
    {
     "name": "stderr",
     "output_type": "stream",
     "text": [
      "[2021/07/27 16:13:06 __main__ INFO] - Test 53\n",
      "[2021/07/27 16:13:10 __main__ INFO] - Epoch 53 Test Loss 0.39465623\n",
      "[2021/07/27 16:13:10 __main__ INFO] - Elapsed 3.07\n",
      "[2021/07/27 16:13:13 __main__ INFO] - Train 54\n",
      "[2021/07/27 16:14:29 __main__ INFO] - Epoch 54 Step 519/520 Train Loss 0.42527518 (0.40841335) \n",
      "[2021/07/27 16:14:29 __main__ INFO] - Test 54\n",
      "[2021/07/27 16:14:32 __main__ INFO] - Epoch 54 Test Loss 0.39487892\n",
      "[2021/07/27 16:14:32 __main__ INFO] - Elapsed 3.08\n",
      "[2021/07/27 16:14:35 __main__ INFO] - Train 55\n",
      "[2021/07/27 16:15:51 __main__ INFO] - Epoch 55 Step 519/520 Train Loss 0.35905585 (0.40790237) \n",
      "[2021/07/27 16:15:51 __main__ INFO] - Test 55\n",
      "[2021/07/27 16:15:54 __main__ INFO] - Epoch 55 Test Loss 0.42908091\n",
      "[2021/07/27 16:15:54 __main__ INFO] - Elapsed 3.07\n",
      "[2021/07/27 16:15:58 __main__ INFO] - Train 56\n",
      "[2021/07/27 16:17:13 __main__ INFO] - Epoch 56 Step 519/520 Train Loss 0.40364838 (0.40695305) \n",
      "[2021/07/27 16:17:13 __main__ INFO] - Test 56\n",
      "[2021/07/27 16:17:16 __main__ INFO] - Epoch 56 Test Loss 0.39995508\n",
      "[2021/07/27 16:17:16 __main__ INFO] - Elapsed 3.06\n",
      "[2021/07/27 16:17:20 __main__ INFO] - Train 57\n",
      "[2021/07/27 16:18:35 __main__ INFO] - Epoch 57 Step 519/520 Train Loss 0.40554333 (0.40631091) \n",
      "[2021/07/27 16:18:35 __main__ INFO] - Test 57\n",
      "[2021/07/27 16:18:38 __main__ INFO] - Epoch 57 Test Loss 0.39448454\n",
      "[2021/07/27 16:18:38 __main__ INFO] - Elapsed 3.06\n",
      "[2021/07/27 16:18:42 __main__ INFO] - Train 58\n",
      "[2021/07/27 16:19:57 __main__ INFO] - Epoch 58 Step 519/520 Train Loss 0.48491290 (0.40680787) \n",
      "[2021/07/27 16:19:57 __main__ INFO] - Test 58\n",
      "[2021/07/27 16:20:00 __main__ INFO] - Epoch 58 Test Loss 0.39233487\n",
      "[2021/07/27 16:20:00 __main__ INFO] - Elapsed 3.05\n",
      "[2021/07/27 16:20:04 __main__ INFO] - Train 59\n",
      "[2021/07/27 16:21:19 __main__ INFO] - Epoch 59 Step 519/520 Train Loss 0.38893935 (0.40556852) \n",
      "[2021/07/27 16:21:19 __main__ INFO] - Test 59\n",
      "[2021/07/27 16:21:22 __main__ INFO] - Epoch 59 Test Loss 0.44594830\n",
      "[2021/07/27 16:21:22 __main__ INFO] - Elapsed 3.06\n",
      "[2021/07/27 16:21:26 __main__ INFO] - Train 60\n",
      "[2021/07/27 16:22:41 __main__ INFO] - Epoch 60 Step 519/520 Train Loss 0.33880043 (0.40673628) \n",
      "[2021/07/27 16:22:41 __main__ INFO] - Test 60\n",
      "[2021/07/27 16:22:44 __main__ INFO] - Epoch 60 Test Loss 0.39744138\n",
      "[2021/07/27 16:22:44 __main__ INFO] - Elapsed 3.09\n",
      "[2021/07/27 16:22:48 __main__ INFO] - Train 61\n",
      "[2021/07/27 16:24:04 __main__ INFO] - Epoch 61 Step 519/520 Train Loss 0.53539145 (0.40469794) \n",
      "[2021/07/27 16:24:04 __main__ INFO] - Test 61\n",
      "[2021/07/27 16:24:07 __main__ INFO] - Epoch 61 Test Loss 0.42048369\n",
      "[2021/07/27 16:24:07 __main__ INFO] - Elapsed 3.05\n",
      "[2021/07/27 16:24:10 __main__ INFO] - Train 62\n",
      "[2021/07/27 16:25:26 __main__ INFO] - Epoch 62 Step 519/520 Train Loss 0.40138057 (0.40429160) \n",
      "[2021/07/27 16:25:26 __main__ INFO] - Test 62\n",
      "[2021/07/27 16:25:29 __main__ INFO] - Epoch 62 Test Loss 0.40741911\n",
      "[2021/07/27 16:25:29 __main__ INFO] - Elapsed 3.06\n",
      "[2021/07/27 16:25:32 __main__ INFO] - Train 63\n",
      "[2021/07/27 16:26:48 __main__ INFO] - Epoch 63 Step 519/520 Train Loss 0.39716485 (0.40317735) \n",
      "[2021/07/27 16:26:48 __main__ INFO] - Test 63\n",
      "[2021/07/27 16:26:51 __main__ INFO] - Epoch 63 Test Loss 0.40174680\n",
      "[2021/07/27 16:26:51 __main__ INFO] - Elapsed 3.07\n",
      "[2021/07/27 16:26:54 __main__ INFO] - Train 64\n",
      "[2021/07/27 16:28:10 __main__ INFO] - Epoch 64 Step 519/520 Train Loss 0.39264715 (0.40552233) \n",
      "[2021/07/27 16:28:10 __main__ INFO] - Test 64\n",
      "[2021/07/27 16:28:13 __main__ INFO] - Epoch 64 Test Loss 0.42393097\n",
      "[2021/07/27 16:28:13 __main__ INFO] - Elapsed 3.06\n",
      "[2021/07/27 16:28:16 __main__ INFO] - Train 65\n",
      "[2021/07/27 16:29:32 __main__ INFO] - Epoch 65 Step 519/520 Train Loss 0.42450416 (0.40267292) \n",
      "[2021/07/27 16:29:32 __main__ INFO] - Test 65\n",
      "[2021/07/27 16:29:35 __main__ INFO] - Epoch 65 Test Loss 0.39312165\n",
      "[2021/07/27 16:29:35 __main__ INFO] - Elapsed 3.07\n",
      "[2021/07/27 16:29:39 __main__ INFO] - Train 66\n",
      "[2021/07/27 16:30:54 __main__ INFO] - Epoch 66 Step 519/520 Train Loss 0.37299320 (0.40235047) \n",
      "[2021/07/27 16:30:54 __main__ INFO] - Test 66\n",
      "[2021/07/27 16:30:57 __main__ INFO] - Epoch 66 Test Loss 0.42384358\n",
      "[2021/07/27 16:30:57 __main__ INFO] - Elapsed 3.05\n",
      "[2021/07/27 16:31:01 __main__ INFO] - Train 67\n",
      "[2021/07/27 16:32:16 __main__ INFO] - Epoch 67 Step 519/520 Train Loss 0.39849344 (0.40187353) \n",
      "[2021/07/27 16:32:16 __main__ INFO] - Test 67\n",
      "[2021/07/27 16:32:19 __main__ INFO] - Epoch 67 Test Loss 0.40014027\n",
      "[2021/07/27 16:32:19 __main__ INFO] - Elapsed 3.08\n",
      "[2021/07/27 16:32:23 __main__ INFO] - Train 68\n",
      "[2021/07/27 16:33:38 __main__ INFO] - Epoch 68 Step 519/520 Train Loss 0.42776731 (0.40283271) \n",
      "[2021/07/27 16:33:38 __main__ INFO] - Test 68\n",
      "[2021/07/27 16:33:41 __main__ INFO] - Epoch 68 Test Loss 0.39174239\n",
      "[2021/07/27 16:33:41 __main__ INFO] - Elapsed 3.08\n",
      "[2021/07/27 16:33:45 __main__ INFO] - Train 69\n",
      "[2021/07/27 16:35:00 __main__ INFO] - Epoch 69 Step 519/520 Train Loss 0.34960040 (0.40142599) \n",
      "[2021/07/27 16:35:00 __main__ INFO] - Test 69\n",
      "[2021/07/27 16:35:03 __main__ INFO] - Epoch 69 Test Loss 0.52495675\n",
      "[2021/07/27 16:35:03 __main__ INFO] - Elapsed 3.05\n",
      "[2021/07/27 16:35:07 __main__ INFO] - Train 70\n",
      "[2021/07/27 16:36:22 __main__ INFO] - Epoch 70 Step 519/520 Train Loss 0.41948140 (0.40247241) \n",
      "[2021/07/27 16:36:22 __main__ INFO] - Test 70\n",
      "[2021/07/27 16:36:25 __main__ INFO] - Epoch 70 Test Loss 0.40664793\n",
      "[2021/07/27 16:36:25 __main__ INFO] - Elapsed 3.07\n",
      "[2021/07/27 16:36:29 __main__ INFO] - Train 71\n",
      "[2021/07/27 16:37:44 __main__ INFO] - Epoch 71 Step 519/520 Train Loss 0.38656273 (0.40181709) \n",
      "[2021/07/27 16:37:44 __main__ INFO] - Test 71\n",
      "[2021/07/27 16:37:48 __main__ INFO] - Epoch 71 Test Loss 0.38149232\n",
      "[2021/07/27 16:37:48 __main__ INFO] - Elapsed 3.07\n",
      "[2021/07/27 16:37:51 __main__ INFO] - Train 72\n",
      "[2021/07/27 16:39:07 __main__ INFO] - Epoch 72 Step 519/520 Train Loss 0.36323705 (0.40040691) \n",
      "[2021/07/27 16:39:07 __main__ INFO] - Test 72\n",
      "[2021/07/27 16:39:10 __main__ INFO] - Epoch 72 Test Loss 0.40867072\n",
      "[2021/07/27 16:39:10 __main__ INFO] - Elapsed 3.07\n",
      "[2021/07/27 16:39:13 __main__ INFO] - Train 73\n",
      "[2021/07/27 16:40:29 __main__ INFO] - Epoch 73 Step 519/520 Train Loss 0.41683331 (0.40074325) \n",
      "[2021/07/27 16:40:29 __main__ INFO] - Test 73\n",
      "[2021/07/27 16:40:32 __main__ INFO] - Epoch 73 Test Loss 0.47401577\n",
      "[2021/07/27 16:40:32 __main__ INFO] - Elapsed 3.05\n",
      "[2021/07/27 16:40:35 __main__ INFO] - Train 74\n",
      "[2021/07/27 16:41:51 __main__ INFO] - Epoch 74 Step 519/520 Train Loss 0.37161857 (0.40013770) \n",
      "[2021/07/27 16:41:51 __main__ INFO] - Test 74\n",
      "[2021/07/27 16:41:54 __main__ INFO] - Epoch 74 Test Loss 0.43518055\n",
      "[2021/07/27 16:41:54 __main__ INFO] - Elapsed 3.05\n",
      "[2021/07/27 16:41:57 __main__ INFO] - Train 75\n",
      "[2021/07/27 16:43:13 __main__ INFO] - Epoch 75 Step 519/520 Train Loss 0.49730802 (0.39982051) \n",
      "[2021/07/27 16:43:13 __main__ INFO] - Test 75\n",
      "[2021/07/27 16:43:16 __main__ INFO] - Epoch 75 Test Loss 0.41636754\n",
      "[2021/07/27 16:43:16 __main__ INFO] - Elapsed 3.07\n",
      "[2021/07/27 16:43:20 __main__ INFO] - Train 76\n",
      "[2021/07/27 16:44:35 __main__ INFO] - Epoch 76 Step 519/520 Train Loss 0.43948689 (0.39962590) \n",
      "[2021/07/27 16:44:35 __main__ INFO] - Test 76\n",
      "[2021/07/27 16:44:38 __main__ INFO] - Epoch 76 Test Loss 0.41600896\n",
      "[2021/07/27 16:44:38 __main__ INFO] - Elapsed 3.06\n",
      "[2021/07/27 16:44:42 __main__ INFO] - Train 77\n",
      "[2021/07/27 16:45:57 __main__ INFO] - Epoch 77 Step 519/520 Train Loss 0.43770748 (0.39883628) \n",
      "[2021/07/27 16:45:57 __main__ INFO] - Test 77\n",
      "[2021/07/27 16:46:00 __main__ INFO] - Epoch 77 Test Loss 0.39993438\n",
      "[2021/07/27 16:46:00 __main__ INFO] - Elapsed 3.09\n",
      "[2021/07/27 16:46:04 __main__ INFO] - Train 78\n",
      "[2021/07/27 16:47:19 __main__ INFO] - Epoch 78 Step 519/520 Train Loss 0.39542201 (0.39926964) \n",
      "[2021/07/27 16:47:19 __main__ INFO] - Test 78\n",
      "[2021/07/27 16:47:22 __main__ INFO] - Epoch 78 Test Loss 0.42916716\n",
      "[2021/07/27 16:47:22 __main__ INFO] - Elapsed 3.07\n",
      "[2021/07/27 16:47:26 __main__ INFO] - Train 79\n",
      "[2021/07/27 16:48:41 __main__ INFO] - Epoch 79 Step 519/520 Train Loss 0.40899590 (0.40060838) \n",
      "[2021/07/27 16:48:41 __main__ INFO] - Test 79\n",
      "[2021/07/27 16:48:44 __main__ INFO] - Epoch 79 Test Loss 0.37653959\n",
      "[2021/07/27 16:48:44 __main__ INFO] - Elapsed 3.06\n",
      "[2021/07/27 16:48:48 __main__ INFO] - Train 80\n"
     ]
    },
    {
     "name": "stderr",
     "output_type": "stream",
     "text": [
      "[2021/07/27 16:50:03 __main__ INFO] - Epoch 80 Step 519/520 Train Loss 0.39691108 (0.40108491) \n",
      "[2021/07/27 16:50:03 __main__ INFO] - Test 80\n",
      "[2021/07/27 16:50:06 __main__ INFO] - Epoch 80 Test Loss 0.38396114\n",
      "[2021/07/27 16:50:06 __main__ INFO] - Elapsed 3.05\n"
     ]
    },
    {
     "name": "stdout",
     "output_type": "stream",
     "text": [
      "Early stopping at epoch 80\n"
     ]
    }
   ],
   "source": [
    "ref1 = 0\n",
    "ref2 = 0\n",
    "\n",
    "for epoch in range(optim_config['epochs']):\n",
    "        \n",
    "    loss_ = train(epoch, model, optimizer, criterion, train_loader, run_config,\n",
    "         writer, device)\n",
    "    \n",
    "    scheduler.step()\n",
    "\n",
    "    test_outputs = test(epoch, model, criterion, test_loader, run_config,\n",
    "                    writer, device)\n",
    "    \n",
    "    if epoch % 5 == 0:\n",
    "        if epoch > 50:\n",
    "            if (np.abs(loss_ - ref1)/ref1<0.005) & (np.abs(loss_ - ref2)/ref2<0.005):\n",
    "                print(\"Early stopping at epoch\", epoch)\n",
    "                break\n",
    "            if (ref1 < loss_) & (ref1 < ref2):\n",
    "                print(\"Diverging. stop.\")\n",
    "                break\n",
    "            if loss_ < best:\n",
    "                best = loss_\n",
    "                best_epoch = epoch\n",
    "        else:\n",
    "            best = loss_\n",
    "            best_epoch = epoch\n",
    "\n",
    "        ref2 = ref1\n",
    "        ref1 = loss_\n",
    "\n",
    "        if (config['run_config']['save']) & (best_epoch==epoch):\n",
    "            torch.save({'epoch': epoch,\n",
    "                'model_state_dict': model.state_dict(),\n",
    "                'optimizer_state_dict': optimizer.state_dict()},\n",
    "                model_dir+zoomlevel+\"_\"+str(model_config['output_dim']**2*2048)+\"_\"+str(epoch)+\".pt\")\n",
    "\n",
    "            files = glob.glob(model_dir+zoomlevel+\"_\"+str(model_config['output_dim']**2*2048)+\"_*.pt\")\n",
    "\n",
    "if config['run_config']['save']:\n",
    "    for f in files:\n",
    "        e = int(f.split(\"_\")[-1].split(\".\")[0])\n",
    "        if e != best_epoch:\n",
    "            os.remove(f)\n",
    "            \n",
    "if run_config['tensorboard']:\n",
    "    outpath = os.path.join(outdir, 'all_scalars.json')\n",
    "    writer.export_scalars_to_json(outpath)"
   ]
  },
  {
   "cell_type": "code",
   "execution_count": 15,
   "metadata": {},
   "outputs": [],
   "source": [
    "# Reverse Normalization\n",
    "\n",
    "# CIFAR\n",
    "# inv_normalize = torchvision.transforms.Normalize(\n",
    "#     mean=[-0.4914/0.2470, -0.4822/0.2435, -0.4465/0.2616],\n",
    "#     std=[1/0.2470, 1/0.2435, 1/0.2616]\n",
    "# )\n",
    "\n",
    "\n",
    "# Satellite image\n",
    "inv_normalize = torchvision.transforms.Normalize(\n",
    "    mean=[-0.3733/0.2173, -0.3991/0.2055, -0.3711/0.2143],\n",
    "    std=[1/0.2173, 1/0.2055, 1/0.2143]\n",
    ")"
   ]
  },
  {
   "cell_type": "code",
   "execution_count": 16,
   "metadata": {
    "scrolled": true
   },
   "outputs": [
    {
     "ename": "AttributeError",
     "evalue": "'list' object has no attribute 'to'",
     "output_type": "error",
     "traceback": [
      "\u001b[0;31m---------------------------------------------------------------------------\u001b[0m",
      "\u001b[0;31mAttributeError\u001b[0m                            Traceback (most recent call last)",
      "\u001b[0;32m<ipython-input-16-64899431f9a6>\u001b[0m in \u001b[0;36m<module>\u001b[0;34m\u001b[0m\n\u001b[1;32m      1\u001b[0m \u001b[0;32mfor\u001b[0m \u001b[0mstep\u001b[0m\u001b[0;34m,\u001b[0m \u001b[0mdata\u001b[0m \u001b[0;32min\u001b[0m \u001b[0menumerate\u001b[0m\u001b[0;34m(\u001b[0m\u001b[0mtest_loader\u001b[0m\u001b[0;34m)\u001b[0m\u001b[0;34m:\u001b[0m\u001b[0;34m\u001b[0m\u001b[0;34m\u001b[0m\u001b[0m\n\u001b[0;32m----> 2\u001b[0;31m     \u001b[0mdata\u001b[0m \u001b[0;34m=\u001b[0m \u001b[0mdata\u001b[0m\u001b[0;34m.\u001b[0m\u001b[0mto\u001b[0m\u001b[0;34m(\u001b[0m\u001b[0mdevice\u001b[0m\u001b[0;34m)\u001b[0m\u001b[0;34m\u001b[0m\u001b[0;34m\u001b[0m\u001b[0m\n\u001b[0m\u001b[1;32m      3\u001b[0m     \u001b[0mtest_output\u001b[0m \u001b[0;34m=\u001b[0m \u001b[0mmodel\u001b[0m\u001b[0;34m(\u001b[0m\u001b[0mdata\u001b[0m\u001b[0;34m)\u001b[0m\u001b[0;34m\u001b[0m\u001b[0;34m\u001b[0m\u001b[0m\n\u001b[1;32m      4\u001b[0m     \u001b[0mtest_output_orig\u001b[0m \u001b[0;34m=\u001b[0m \u001b[0minv_normalize\u001b[0m\u001b[0;34m(\u001b[0m\u001b[0mtest_output\u001b[0m\u001b[0;34m)\u001b[0m\u001b[0;34m\u001b[0m\u001b[0;34m\u001b[0m\u001b[0m\n\u001b[1;32m      5\u001b[0m     \u001b[0mdata_orig\u001b[0m \u001b[0;34m=\u001b[0m \u001b[0minv_normalize\u001b[0m\u001b[0;34m(\u001b[0m\u001b[0mdata\u001b[0m\u001b[0;34m)\u001b[0m\u001b[0;34m\u001b[0m\u001b[0;34m\u001b[0m\u001b[0m\n",
      "\u001b[0;31mAttributeError\u001b[0m: 'list' object has no attribute 'to'"
     ]
    }
   ],
   "source": [
    "for step, data in enumerate(test_loader):\n",
    "    data = data.to(device)\n",
    "    test_output = model(data)\n",
    "    test_output_orig = inv_normalize(test_output)\n",
    "    data_orig = inv_normalize(data)\n",
    "    if step == 0:\n",
    "        break"
   ]
  },
  {
   "cell_type": "code",
   "execution_count": null,
   "metadata": {},
   "outputs": [],
   "source": [
    "plot_image = 15"
   ]
  },
  {
   "cell_type": "code",
   "execution_count": 24,
   "metadata": {
    "scrolled": false
   },
   "outputs": [
    {
     "data": {
      "text/plain": [
       "(array([ 4295., 30016., 31308., 26029., 14675., 16040., 14020.,  8954.,\n",
       "         4087.,  1104.]),\n",
       " array([-1.503182  , -1.0644608 , -0.62573934, -0.18701798,  0.25170338,\n",
       "         0.69042474,  1.1291461 ,  1.5678675 ,  2.006589  ,  2.44531   ,\n",
       "         2.8840315 ], dtype=float32),\n",
       " <a list of 10 Patch objects>)"
      ]
     },
     "execution_count": 24,
     "metadata": {},
     "output_type": "execute_result"
    },
    {
     "data": {
      "image/png": "[encoded data removed]",
      "text/plain": [
       "<Figure size 432x288 with 1 Axes>"
      ]
     },
     "metadata": {
      "needs_background": "light"
     },
     "output_type": "display_data"
    }
   ],
   "source": [
    "plt.hist(data[plot_image, :, :, :].cpu().detach().numpy().flatten())"
   ]
  },
  {
   "cell_type": "code",
   "execution_count": 25,
   "metadata": {},
   "outputs": [
    {
     "data": {
      "text/plain": [
       "(array([ 6183., 18212., 18743., 27188., 18572., 15837., 18870., 14926.,\n",
       "         8511.,  3486.]),\n",
       " array([-1.0106246 , -0.807294  , -0.6039634 , -0.40063277, -0.19730215,\n",
       "         0.00602847,  0.2093591 ,  0.41268972,  0.6160203 ,  0.81935096,\n",
       "         1.0226816 ], dtype=float32),\n",
       " <a list of 10 Patch objects>)"
      ]
     },
     "execution_count": 25,
     "metadata": {},
     "output_type": "execute_result"
    },
    {
     "data": {
      "image/png": "[encoded data removed]",
      "text/plain": [
       "<Figure size 432x288 with 1 Axes>"
      ]
     },
     "metadata": {
      "needs_background": "light"
     },
     "output_type": "display_data"
    }
   ],
   "source": [
    "plt.hist(test_output[plot_image, :, :, :].cpu().detach().numpy().flatten())"
   ]
  },
  {
   "cell_type": "code",
   "execution_count": 26,
   "metadata": {},
   "outputs": [
    {
     "data": {
      "text/plain": [
       "tensor(0.1851, device='cuda:1', grad_fn=<MeanBackward0>)"
      ]
     },
     "execution_count": 26,
     "metadata": {},
     "output_type": "execute_result"
    }
   ],
   "source": [
    "torch.mean(test_output[:,0,:,:])"
   ]
  },
  {
   "cell_type": "code",
   "execution_count": 27,
   "metadata": {},
   "outputs": [
    {
     "data": {
      "text/plain": [
       "tensor(-0.0149, device='cuda:1', grad_fn=<MeanBackward0>)"
      ]
     },
     "execution_count": 27,
     "metadata": {},
     "output_type": "execute_result"
    }
   ],
   "source": [
    "torch.mean(test_output[:,1,:,:])"
   ]
  },
  {
   "cell_type": "code",
   "execution_count": 28,
   "metadata": {},
   "outputs": [
    {
     "data": {
      "text/plain": [
       "tensor(-0.0742, device='cuda:1', grad_fn=<MeanBackward0>)"
      ]
     },
     "execution_count": 28,
     "metadata": {},
     "output_type": "execute_result"
    }
   ],
   "source": [
    "torch.mean(test_output[:,2,:,:])"
   ]
  },
  {
   "cell_type": "code",
   "execution_count": 29,
   "metadata": {},
   "outputs": [
    {
     "data": {
      "text/plain": [
       "tensor(0.6245, device='cuda:1')"
      ]
     },
     "execution_count": 29,
     "metadata": {},
     "output_type": "execute_result"
    }
   ],
   "source": [
    "torch.mean(data[:,0,:,:])"
   ]
  },
  {
   "cell_type": "code",
   "execution_count": 30,
   "metadata": {},
   "outputs": [
    {
     "data": {
      "text/plain": [
       "tensor(0.2048, device='cuda:1')"
      ]
     },
     "execution_count": 30,
     "metadata": {},
     "output_type": "execute_result"
    }
   ],
   "source": [
    "torch.mean(data[:,1,:,:])"
   ]
  },
  {
   "cell_type": "code",
   "execution_count": 31,
   "metadata": {},
   "outputs": [
    {
     "data": {
      "text/plain": [
       "tensor(0.2048, device='cuda:1')"
      ]
     },
     "execution_count": 31,
     "metadata": {},
     "output_type": "execute_result"
    }
   ],
   "source": [
    "torch.mean(data[:,1,:,:])"
   ]
  },
  {
   "cell_type": "code",
   "execution_count": 35,
   "metadata": {},
   "outputs": [
    {
     "data": {
      "text/plain": [
       "-0.4393439"
      ]
     },
     "execution_count": 35,
     "metadata": {},
     "output_type": "execute_result"
    }
   ],
   "source": [
    "np.mean((test_output - data).detach().cpu().numpy()[:,0,:,:])"
   ]
  },
  {
   "cell_type": "code",
   "execution_count": 36,
   "metadata": {},
   "outputs": [
    {
     "data": {
      "text/plain": [
       "-0.21970952"
      ]
     },
     "execution_count": 36,
     "metadata": {},
     "output_type": "execute_result"
    }
   ],
   "source": [
    "np.mean((test_output - data).detach().cpu().numpy()[:,1,:,:])"
   ]
  },
  {
   "cell_type": "code",
   "execution_count": 37,
   "metadata": {},
   "outputs": [
    {
     "data": {
      "text/plain": [
       "-0.258049"
      ]
     },
     "execution_count": 37,
     "metadata": {},
     "output_type": "execute_result"
    }
   ],
   "source": [
    "np.mean((test_output - data).detach().cpu().numpy()[:,2,:,:])"
   ]
  },
  {
   "cell_type": "code",
   "execution_count": 38,
   "metadata": {},
   "outputs": [
    {
     "data": {
      "text/plain": [
       "-0.3057009"
      ]
     },
     "execution_count": 38,
     "metadata": {},
     "output_type": "execute_result"
    }
   ],
   "source": [
    "np.mean((test_output - data).cpu().detach().numpy())"
   ]
  },
  {
   "cell_type": "code",
   "execution_count": 39,
   "metadata": {},
   "outputs": [
    {
     "data": {
      "text/plain": [
       "0.72291917"
      ]
     },
     "execution_count": 39,
     "metadata": {},
     "output_type": "execute_result"
    }
   ],
   "source": [
    "np.mean(np.power((test_output - data).cpu().detach().numpy(), 2))"
   ]
  },
  {
   "cell_type": "code",
   "execution_count": 41,
   "metadata": {},
   "outputs": [
    {
     "data": {
      "text/plain": [
       "(array([3.50000e+02, 3.25100e+03, 2.71720e+04, 9.42300e+04, 1.73947e+05,\n",
       "        3.10590e+05, 1.63170e+05, 2.74380e+04, 2.56700e+03, 1.01000e+02]),\n",
       " array([-4.0459247 , -3.319411  , -2.5928974 , -1.8663839 , -1.1398704 ,\n",
       "        -0.41335678,  0.31315678,  1.0396703 ,  1.766184  ,  2.4926975 ,\n",
       "         3.219211  ], dtype=float32),\n",
       " <a list of 10 Patch objects>)"
      ]
     },
     "execution_count": 41,
     "metadata": {},
     "output_type": "execute_result"
    },
    {
     "data": {
      "image/png": "[encoded data removed]",
      "text/plain": [
       "<Figure size 432x288 with 1 Axes>"
      ]
     },
     "metadata": {
      "needs_background": "light"
     },
     "output_type": "display_data"
    }
   ],
   "source": [
    "plt.hist((test_output - data).detach().cpu().numpy()[:,2,:,:].flatten())"
   ]
  },
  {
   "cell_type": "code",
   "execution_count": 43,
   "metadata": {},
   "outputs": [
    {
     "data": {
      "image/png": "[encoded data removed]",
      "text/plain": [
       "<Figure size 432x288 with 1 Axes>"
      ]
     },
     "metadata": {
      "needs_background": "light"
     },
     "output_type": "display_data"
    }
   ],
   "source": [
    "plt.hist((test_output - data).detach().cpu().numpy()[:,1,:,:].flatten());"
   ]
  },
  {
   "cell_type": "code",
   "execution_count": 44,
   "metadata": {},
   "outputs": [
    {
     "data": {
      "text/plain": [
       "(array([6.74000e+02, 9.19200e+03, 4.83720e+04, 1.37380e+05, 2.66461e+05,\n",
       "        2.52947e+05, 7.54210e+04, 1.10250e+04, 1.30200e+03, 4.20000e+01]),\n",
       " array([-3.4238567 , -2.7913926 , -2.1589284 , -1.5264642 , -0.89400005,\n",
       "        -0.26153588,  0.3709283 ,  1.0033925 ,  1.6358566 ,  2.2683208 ,\n",
       "         2.900785  ], dtype=float32),\n",
       " <a list of 10 Patch objects>)"
      ]
     },
     "execution_count": 44,
     "metadata": {},
     "output_type": "execute_result"
    },
    {
     "data": {
      "image/png": "[encoded data removed]",
      "text/plain": [
       "<Figure size 432x288 with 1 Axes>"
      ]
     },
     "metadata": {
      "needs_background": "light"
     },
     "output_type": "display_data"
    }
   ],
   "source": [
    "plt.hist((test_output - data).detach().cpu().numpy()[:,0,:,:].flatten())"
   ]
  },
  {
   "cell_type": "code",
   "execution_count": 45,
   "metadata": {},
   "outputs": [
    {
     "data": {
      "text/plain": [
       "array([[[0.39432952, 0.4084809 , 0.39417177],\n",
       "        [0.39598325, 0.40991765, 0.396675  ],\n",
       "        [0.41272426, 0.42679325, 0.41829467],\n",
       "        ...,\n",
       "        [0.31551498, 0.3314867 , 0.3060067 ],\n",
       "        [0.32079005, 0.33457687, 0.30921015],\n",
       "        [0.3216532 , 0.3356929 , 0.3102236 ]],\n",
       "\n",
       "       [[0.39704326, 0.41030225, 0.39724463],\n",
       "        [0.39843225, 0.4111037 , 0.39796886],\n",
       "        [0.41462782, 0.42852995, 0.42042258],\n",
       "        ...,\n",
       "        [0.31563625, 0.3305856 , 0.30534625],\n",
       "        [0.32129052, 0.334225  , 0.30987614],\n",
       "        [0.32198995, 0.3348163 , 0.31056798]],\n",
       "\n",
       "       [[0.41006613, 0.42749467, 0.41683638],\n",
       "        [0.41014874, 0.42777178, 0.41678345],\n",
       "        [0.41316965, 0.43185896, 0.42518926],\n",
       "        ...,\n",
       "        [0.32343987, 0.32969326, 0.29286695],\n",
       "        [0.32590488, 0.33761472, 0.3080101 ],\n",
       "        [0.32733402, 0.33814985, 0.30909687]],\n",
       "\n",
       "       ...,\n",
       "\n",
       "       [[0.45754248, 0.47002283, 0.47089824],\n",
       "        [0.46099272, 0.47369924, 0.4750863 ],\n",
       "        [0.4623337 , 0.47464857, 0.48947036],\n",
       "        ...,\n",
       "        [0.27743748, 0.27983764, 0.22552383],\n",
       "        [0.27291977, 0.28357667, 0.24060993],\n",
       "        [0.27329814, 0.28408247, 0.24222687]],\n",
       "\n",
       "       [[0.4349267 , 0.4450041 , 0.43820983],\n",
       "        [0.43902498, 0.44823188, 0.44321498],\n",
       "        [0.45809922, 0.4692232 , 0.47305083],\n",
       "        ...,\n",
       "        [0.2696811 , 0.28214303, 0.24088793],\n",
       "        [0.27376884, 0.28685158, 0.25282416],\n",
       "        [0.2752583 , 0.28649628, 0.25162333]],\n",
       "\n",
       "       [[0.4364354 , 0.44515586, 0.4370156 ],\n",
       "        [0.43986568, 0.44804597, 0.4403855 ],\n",
       "        [0.45712346, 0.467967  , 0.4725162 ],\n",
       "        ...,\n",
       "        [0.2711486 , 0.2842758 , 0.2425295 ],\n",
       "        [0.27328467, 0.28745443, 0.25202152],\n",
       "        [0.27552915, 0.28929436, 0.25299865]]], dtype=float32)"
      ]
     },
     "execution_count": 45,
     "metadata": {},
     "output_type": "execute_result"
    }
   ],
   "source": [
    "test_output_orig[plot_image,:,:,:].cpu().detach().permute(1, 2, 0).numpy()"
   ]
  },
  {
   "cell_type": "code",
   "execution_count": 47,
   "metadata": {
    "scrolled": false
   },
   "outputs": [
    {
     "data": {
      "text/plain": [
       "array([[[0.36470586, 0.23921569, 0.20392157],\n",
       "        [0.36470586, 0.23921569, 0.20392157],\n",
       "        [0.38039213, 0.25490198, 0.20392157],\n",
       "        ...,\n",
       "        [0.29411763, 0.19607843, 0.16470589],\n",
       "        [0.28627452, 0.18039216, 0.14901961],\n",
       "        [0.28627452, 0.18039216, 0.13333336]],\n",
       "\n",
       "       [[0.36470586, 0.23921569, 0.20392157],\n",
       "        [0.36470586, 0.23921569, 0.20392157],\n",
       "        [0.38039213, 0.25490198, 0.20392157],\n",
       "        ...,\n",
       "        [0.28627452, 0.16470589, 0.14901961],\n",
       "        [0.28627452, 0.18039216, 0.14901961],\n",
       "        [0.28627452, 0.18039216, 0.14901961]],\n",
       "\n",
       "       [[0.36470586, 0.23921569, 0.20392157],\n",
       "        [0.36470586, 0.23921569, 0.20392157],\n",
       "        [0.38039213, 0.25490198, 0.20392157],\n",
       "        ...,\n",
       "        [0.25882354, 0.1490196 , 0.11764705],\n",
       "        [0.29411763, 0.19215687, 0.14117648],\n",
       "        [0.29411763, 0.19215687, 0.14117648]],\n",
       "\n",
       "       ...,\n",
       "\n",
       "       [[0.7647059 , 0.7607843 , 0.76078427],\n",
       "        [0.44313723, 0.4117647 , 0.41176468],\n",
       "        [0.32156864, 0.23921569, 0.2235294 ],\n",
       "        ...,\n",
       "        [0.29411763, 0.19607843, 0.16470589],\n",
       "        [0.29411763, 0.19215687, 0.14117648],\n",
       "        [0.29411763, 0.19607843, 0.16470589]],\n",
       "\n",
       "       [[0.7647059 , 0.7607843 , 0.76078427],\n",
       "        [0.44313723, 0.4117647 , 0.41176468],\n",
       "        [0.28627452, 0.23921569, 0.23921567],\n",
       "        ...,\n",
       "        [0.29411763, 0.19607843, 0.16470589],\n",
       "        [0.29411763, 0.19215687, 0.14117648],\n",
       "        [0.3019608 , 0.22352941, 0.17254902]],\n",
       "\n",
       "       [[0.7647059 , 0.7607843 , 0.76078427],\n",
       "        [0.44313723, 0.4117647 , 0.41176468],\n",
       "        [0.28627452, 0.23921569, 0.23921567],\n",
       "        ...,\n",
       "        [0.29411763, 0.19607843, 0.16470589],\n",
       "        [0.29411763, 0.19607843, 0.16470589],\n",
       "        [0.3019608 , 0.22352941, 0.17254902]]], dtype=float32)"
      ]
     },
     "execution_count": 47,
     "metadata": {},
     "output_type": "execute_result"
    }
   ],
   "source": [
    "data_orig[plot_image,:,:,:].cpu().detach().permute(1, 2, 0).numpy()"
   ]
  },
  {
   "cell_type": "code",
   "execution_count": 25,
   "metadata": {},
   "outputs": [],
   "source": [
    "plot_image = 3"
   ]
  },
  {
   "cell_type": "code",
   "execution_count": 26,
   "metadata": {
    "scrolled": true
   },
   "outputs": [
    {
     "data": {
      "image/png": "[encoded data removed]",
      "text/plain": [
       "<Figure size 432x288 with 1 Axes>"
      ]
     },
     "metadata": {
      "needs_background": "light"
     },
     "output_type": "display_data"
    }
   ],
   "source": [
    "plt.imshow(test_output_orig[plot_image,:,:,:].cpu().detach().permute(1, 2, 0))\n",
    "plt.axis('off');"
   ]
  },
  {
   "cell_type": "code",
   "execution_count": 24,
   "metadata": {
    "scrolled": true
   },
   "outputs": [
    {
     "data": {
      "image/png": "[encoded data removed]",
      "text/plain": [
       "<Figure size 432x288 with 1 Axes>"
      ]
     },
     "metadata": {
      "needs_background": "light"
     },
     "output_type": "display_data"
    }
   ],
   "source": [
    "plt.imshow(data_orig[plot_image,:,:,:].cpu().detach().permute(1, 2, 0));\n",
    "plt.axis('off');"
   ]
  },
  {
   "cell_type": "code",
   "execution_count": null,
   "metadata": {
    "scrolled": false
   },
   "outputs": [],
   "source": [
    "model"
   ]
  },
  {
   "cell_type": "code",
   "execution_count": null,
   "metadata": {},
   "outputs": [],
   "source": [
    "plt.hist(data.detach().numpy()[:,0,:,:].flatten())"
   ]
  },
  {
   "cell_type": "code",
   "execution_count": null,
   "metadata": {},
   "outputs": [],
   "source": []
  }
 ],
 "metadata": {
  "kernelspec": {
   "display_name": "Python 3",
   "language": "python",
   "name": "python3"
  },
  "language_info": {
   "codemirror_mode": {
    "name": "ipython",
    "version": 3
   },
   "file_extension": ".py",
   "mimetype": "text/x-python",
   "name": "python",
   "nbconvert_exporter": "python",
   "pygments_lexer": "ipython3",
   "version": "3.7.4"
  }
 },
 "nbformat": 4,
 "nbformat_minor": 4
}
