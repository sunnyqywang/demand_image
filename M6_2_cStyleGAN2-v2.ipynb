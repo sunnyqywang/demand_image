{
 "cells": [
  {
   "cell_type": "markdown",
   "id": "d0598b6d",
   "metadata": {},
   "source": [
    "## Condition on mapper"
   ]
  },
  {
   "cell_type": "code",
   "execution_count": 1,
   "id": "eb30b5e2",
   "metadata": {},
   "outputs": [],
   "source": [
    "import os\n",
    "import fire\n",
    "import random\n",
    "from retry.api import retry_call\n",
    "from tqdm import tqdm\n",
    "from datetime import datetime\n",
    "from functools import wraps\n",
    "import sys\n",
    "sys.path.append(\"models/stylegan2/\")\n",
    "# from stylegan2 import Trainer, NanException\n",
    "from csgan2_trainer import Trainer\n",
    "from util import NanException\n",
    "\n",
    "import torch\n",
    "import torch.multiprocessing as mp\n",
    "import torch.distributed as dist\n",
    "\n",
    "import numpy as np\n",
    "\n",
    "from setup import proj_dir, image_dir, out_dir, model_dir\n",
    "\n",
    "%load_ext autoreload\n",
    "%autoreload 2\n"
   ]
  },
  {
   "cell_type": "code",
   "execution_count": 2,
   "id": "e3aaf127",
   "metadata": {},
   "outputs": [],
   "source": [
    "data = image_dir+'zoom15/'\n",
    "results_dir = out_dir\n",
    "models_dir = model_dir\n",
    "name = '2211-ctest5'\n",
    "new = True\n",
    "load_from = -1\n",
    "image_size = 64\n",
    "condition_dim = 7\n",
    "condition_on_mapper = False\n",
    "network_capacity = 16\n",
    "fmap_max = 512\n",
    "transparent = False\n",
    "batch_size = 8\n",
    "gradient_accumulate_every = 6\n",
    "num_train_steps = 100000\n",
    "learning_rate = 2e-4\n",
    "lr_mlp = 0.1\n",
    "ttur_mult = 1.5\n",
    "rel_disc_loss = False\n",
    "num_workers =  None\n",
    "save_every = 1000\n",
    "evaluate_every = 1000\n",
    "generate = False\n",
    "num_generate = 1\n",
    "generate_interpolation = False\n",
    "interpolation_num_steps = 100\n",
    "save_frames = False\n",
    "num_image_tiles = 8\n",
    "trunc_psi = 0.75\n",
    "mixed_prob = 0.9\n",
    "fp16 = False\n",
    "no_pl_reg = False\n",
    "cl_reg = False\n",
    "fq_layers = []\n",
    "fq_dict_size = 256\n",
    "attn_layers = []\n",
    "no_const = False\n",
    "aug_prob = 0.\n",
    "aug_types = ['translation', 'cutout']\n",
    "top_k_training = False\n",
    "generator_top_k_gamma = 0.99\n",
    "generator_top_k_frac = 0.5\n",
    "dual_contrast_loss = False\n",
    "dataset_aug_prob = 0.\n",
    "multi_gpus = False\n",
    "calculate_fid_every = None\n",
    "calculate_fid_num_images = 12800\n",
    "clear_fid_cache = False\n",
    "seed = 42\n",
    "log = False\n",
    "rank = 1\n"
   ]
  },
  {
   "cell_type": "code",
   "execution_count": 3,
   "id": "43323bc2",
   "metadata": {},
   "outputs": [],
   "source": [
    "model_args = dict(\n",
    "    name = name,\n",
    "    results_dir = results_dir,\n",
    "    models_dir = models_dir,\n",
    "    batch_size = batch_size,\n",
    "    gradient_accumulate_every = gradient_accumulate_every,\n",
    "    image_size = image_size,\n",
    "    condition_dim = condition_dim,\n",
    "    condition_on_mapper = condition_on_mapper,\n",
    "    network_capacity = network_capacity,\n",
    "    fmap_max = fmap_max,\n",
    "    transparent = transparent,\n",
    "    lr = learning_rate,\n",
    "    lr_mlp = lr_mlp,\n",
    "    ttur_mult = ttur_mult,\n",
    "    rel_disc_loss = rel_disc_loss,\n",
    "    num_workers = num_workers,\n",
    "    save_every = save_every,\n",
    "    evaluate_every = evaluate_every,\n",
    "    num_image_tiles = num_image_tiles,\n",
    "    trunc_psi = trunc_psi,\n",
    "    fp16 = fp16,\n",
    "    no_pl_reg = no_pl_reg,\n",
    "    cl_reg = cl_reg,\n",
    "    fq_layers = fq_layers,\n",
    "    fq_dict_size = fq_dict_size,\n",
    "    attn_layers = attn_layers,\n",
    "    no_const = no_const,\n",
    "    aug_prob = aug_prob,\n",
    "    aug_types = aug_types,\n",
    "    top_k_training = top_k_training,\n",
    "    generator_top_k_gamma = generator_top_k_gamma,\n",
    "    generator_top_k_frac = generator_top_k_frac,\n",
    "    dual_contrast_loss = dual_contrast_loss,\n",
    "    dataset_aug_prob = dataset_aug_prob,\n",
    "    calculate_fid_every = calculate_fid_every,\n",
    "    calculate_fid_num_images = calculate_fid_num_images,\n",
    "    clear_fid_cache = clear_fid_cache,\n",
    "    mixed_prob = mixed_prob,\n",
    "    log = log,\n",
    "    rank = rank,\n",
    "    demo_channels = 7\n",
    ")"
   ]
  },
  {
   "cell_type": "code",
   "execution_count": 4,
   "id": "8512c50f",
   "metadata": {},
   "outputs": [],
   "source": [
    "def run_training(rank, world_size, model_args, data, load_from, new, num_train_steps, name, seed):\n",
    "    is_main = True #rank == 0\n",
    "    is_ddp = world_size > 1\n",
    "\n",
    "    if is_ddp:\n",
    "        set_seed(seed)\n",
    "        os.environ['MASTER_ADDR'] = 'localhost'\n",
    "        os.environ['MASTER_PORT'] = '12355'\n",
    "        dist.init_process_group('nccl', rank=rank, world_size=world_size)\n",
    "\n",
    "        print(f\"{rank + 1}/{world_size} process initialized.\")\n",
    "\n",
    "    model_args.update(\n",
    "        is_ddp = is_ddp,\n",
    "        rank = rank,\n",
    "        world_size = world_size\n",
    "    )\n",
    "\n",
    "    model = Trainer(**model_args)\n",
    "    \n",
    "    if not new:\n",
    "        model.load(load_from)\n",
    "    else:\n",
    "        model.clear()\n",
    "\n",
    "    model.set_data_src(data)\n",
    "\n",
    "    progress_bar = tqdm(initial = model.steps, total = num_train_steps, mininterval=10., desc=f'{name}<{data}>', position=0, leave=True)\n",
    "    while model.steps < num_train_steps:\n",
    "        retry_call(model.train, tries=3, exceptions=NanException)\n",
    "        progress_bar.n = model.steps\n",
    "        progress_bar.refresh()\n",
    "        if is_main and model.steps % 50 == 0:\n",
    "            model.print_log()\n",
    "\n",
    "    model.save(model.checkpoint_num)\n",
    "\n",
    "    if is_ddp:\n",
    "        dist.destroy_process_group()"
   ]
  },
  {
   "cell_type": "code",
   "execution_count": null,
   "id": "8f5c695b",
   "metadata": {
    "scrolled": true
   },
   "outputs": [
    {
     "name": "stdout",
     "output_type": "stream",
     "text": [
      "Results directory: /home/jtl/Dropbox (MIT)/project_image_demand/results/sGAN2/2211-ctest5\n",
      "Model directory: /dreambig/qingyi/image_chicago/models/sGAN2/2211-ctest5\n",
      "28280 images in dataset\n",
      "3140 images in dataset\n"
     ]
    },
    {
     "name": "stderr",
     "output_type": "stream",
     "text": [
      "2211-ctest5</dreambig/qingyi/image_chicago/data/images/satellite/zoom15/>:   0%|          | 50/100000 [00:49<27:36:12,  1.01it/s]"
     ]
    },
    {
     "name": "stdout",
     "output_type": "stream",
     "text": [
      "G: 13177.37 | D: 0.31 | GP: 24.87\n"
     ]
    },
    {
     "name": "stderr",
     "output_type": "stream",
     "text": [
      "2211-ctest5</dreambig/qingyi/image_chicago/data/images/satellite/zoom15/>:   0%|          | 100/100000 [01:31<25:31:40,  1.09it/s]"
     ]
    },
    {
     "name": "stdout",
     "output_type": "stream",
     "text": [
      "G: 10969.26 | D: 5.90 | GP: 159.01\n"
     ]
    },
    {
     "name": "stderr",
     "output_type": "stream",
     "text": [
      "2211-ctest5</dreambig/qingyi/image_chicago/data/images/satellite/zoom15/>:   0%|          | 150/100000 [02:18<25:32:06,  1.09it/s]"
     ]
    },
    {
     "name": "stdout",
     "output_type": "stream",
     "text": [
      "G: 3449.87 | D: 0.00 | GP: 667.27\n"
     ]
    },
    {
     "name": "stderr",
     "output_type": "stream",
     "text": [
      "2211-ctest5</dreambig/qingyi/image_chicago/data/images/satellite/zoom15/>:   0%|          | 200/100000 [03:00<24:59:43,  1.11it/s]"
     ]
    },
    {
     "name": "stdout",
     "output_type": "stream",
     "text": [
      "G: 614.96 | D: 0.00 | GP: 0.10\n"
     ]
    },
    {
     "name": "stderr",
     "output_type": "stream",
     "text": [
      "2211-ctest5</dreambig/qingyi/image_chicago/data/images/satellite/zoom15/>:   0%|          | 250/100000 [03:46<25:05:03,  1.10it/s]"
     ]
    },
    {
     "name": "stdout",
     "output_type": "stream",
     "text": [
      "G: 14094.10 | D: 16.53 | GP: 184.37\n"
     ]
    },
    {
     "name": "stderr",
     "output_type": "stream",
     "text": [
      "2211-ctest5</dreambig/qingyi/image_chicago/data/images/satellite/zoom15/>:   0%|          | 300/100000 [04:29<24:52:45,  1.11it/s]"
     ]
    },
    {
     "name": "stdout",
     "output_type": "stream",
     "text": [
      "G: 1281.85 | D: 0.06 | GP: 11.71\n"
     ]
    },
    {
     "name": "stderr",
     "output_type": "stream",
     "text": [
      "2211-ctest5</dreambig/qingyi/image_chicago/data/images/satellite/zoom15/>:   0%|          | 350/100000 [05:15<24:57:04,  1.11it/s]"
     ]
    },
    {
     "name": "stdout",
     "output_type": "stream",
     "text": [
      "G: 14163.51 | D: 0.00 | GP: 244.42\n"
     ]
    },
    {
     "name": "stderr",
     "output_type": "stream",
     "text": [
      "2211-ctest5</dreambig/qingyi/image_chicago/data/images/satellite/zoom15/>:   0%|          | 500/100000 [07:25<24:38:49,  1.12it/s]"
     ]
    },
    {
     "name": "stdout",
     "output_type": "stream",
     "text": [
      "G: 434.51 | D: 0.00 | GP: 7.35\n"
     ]
    },
    {
     "name": "stderr",
     "output_type": "stream",
     "text": [
      "2211-ctest5</dreambig/qingyi/image_chicago/data/images/satellite/zoom15/>:   1%|          | 550/100000 [08:11<24:41:28,  1.12it/s]"
     ]
    },
    {
     "name": "stdout",
     "output_type": "stream",
     "text": [
      "G: 1070.92 | D: 0.00 | GP: 0.16\n"
     ]
    },
    {
     "name": "stderr",
     "output_type": "stream",
     "text": [
      "2211-ctest5</dreambig/qingyi/image_chicago/data/images/satellite/zoom15/>:   1%|          | 600/100000 [08:54<24:36:40,  1.12it/s]"
     ]
    },
    {
     "name": "stdout",
     "output_type": "stream",
     "text": [
      "G: 389.86 | D: 4.11 | GP: 26.60\n"
     ]
    },
    {
     "name": "stderr",
     "output_type": "stream",
     "text": [
      "2211-ctest5</dreambig/qingyi/image_chicago/data/images/satellite/zoom15/>:   1%|          | 650/100000 [09:40<24:39:23,  1.12it/s]"
     ]
    },
    {
     "name": "stdout",
     "output_type": "stream",
     "text": [
      "G: 144.89 | D: 0.07 | GP: 7.30\n"
     ]
    },
    {
     "name": "stderr",
     "output_type": "stream",
     "text": [
      "2211-ctest5</dreambig/qingyi/image_chicago/data/images/satellite/zoom15/>:   1%|          | 700/100000 [10:22<24:32:43,  1.12it/s]"
     ]
    },
    {
     "name": "stdout",
     "output_type": "stream",
     "text": [
      "G: 2603.23 | D: 0.00 | GP: 1.82\n"
     ]
    },
    {
     "name": "stderr",
     "output_type": "stream",
     "text": [
      "2211-ctest5</dreambig/qingyi/image_chicago/data/images/satellite/zoom15/>:   1%|          | 750/100000 [11:08<24:35:18,  1.12it/s]"
     ]
    },
    {
     "name": "stdout",
     "output_type": "stream",
     "text": [
      "G: 431.35 | D: 0.57 | GP: 0.39\n"
     ]
    },
    {
     "name": "stderr",
     "output_type": "stream",
     "text": [
      "2211-ctest5</dreambig/qingyi/image_chicago/data/images/satellite/zoom15/>:   1%|          | 800/100000 [11:51<24:29:39,  1.12it/s]"
     ]
    },
    {
     "name": "stdout",
     "output_type": "stream",
     "text": [
      "G: 521.83 | D: 1.00 | GP: 0.23\n"
     ]
    },
    {
     "name": "stderr",
     "output_type": "stream",
     "text": [
      "2211-ctest5</dreambig/qingyi/image_chicago/data/images/satellite/zoom15/>:   1%|          | 850/100000 [12:37<24:31:56,  1.12it/s]"
     ]
    },
    {
     "name": "stdout",
     "output_type": "stream",
     "text": [
      "G: 62.75 | D: 2.64 | GP: 0.31\n"
     ]
    },
    {
     "name": "stderr",
     "output_type": "stream",
     "text": [
      "2211-ctest5</dreambig/qingyi/image_chicago/data/images/satellite/zoom15/>:   1%|          | 900/100000 [13:20<24:28:25,  1.12it/s]"
     ]
    },
    {
     "name": "stdout",
     "output_type": "stream",
     "text": [
      "G: 247.82 | D: 0.09 | GP: 0.04\n"
     ]
    },
    {
     "name": "stderr",
     "output_type": "stream",
     "text": [
      "2211-ctest5</dreambig/qingyi/image_chicago/data/images/satellite/zoom15/>:   1%|          | 950/100000 [14:06<24:31:09,  1.12it/s]"
     ]
    },
    {
     "name": "stdout",
     "output_type": "stream",
     "text": [
      "G: 448.52 | D: 0.09 | GP: 10.71\n"
     ]
    },
    {
     "name": "stderr",
     "output_type": "stream",
     "text": [
      "2211-ctest5</dreambig/qingyi/image_chicago/data/images/satellite/zoom15/>:   1%|          | 1000/100000 [14:48<24:26:35,  1.13it/s]"
     ]
    },
    {
     "name": "stdout",
     "output_type": "stream",
     "text": [
      "G: 2708.52 | D: 0.04 | GP: 3.42\n"
     ]
    },
    {
     "name": "stderr",
     "output_type": "stream",
     "text": [
      "2211-ctest5</dreambig/qingyi/image_chicago/data/images/satellite/zoom15/>:   1%|          | 1050/100000 [15:35<24:28:39,  1.12it/s]"
     ]
    },
    {
     "name": "stdout",
     "output_type": "stream",
     "text": [
      "G: 101.28 | D: 512.00 | GP: 745.30\n"
     ]
    },
    {
     "name": "stderr",
     "output_type": "stream",
     "text": [
      "2211-ctest5</dreambig/qingyi/image_chicago/data/images/satellite/zoom15/>:   1%|          | 1100/100000 [16:17<24:24:26,  1.13it/s]"
     ]
    },
    {
     "name": "stdout",
     "output_type": "stream",
     "text": [
      "G: 708.98 | D: 0.00 | GP: 0.07\n"
     ]
    },
    {
     "name": "stderr",
     "output_type": "stream",
     "text": [
      "2211-ctest5</dreambig/qingyi/image_chicago/data/images/satellite/zoom15/>:   1%|          | 1150/100000 [17:03<24:25:48,  1.12it/s]"
     ]
    },
    {
     "name": "stdout",
     "output_type": "stream",
     "text": [
      "G: 1087.92 | D: 0.00 | GP: 1.18\n"
     ]
    },
    {
     "name": "stderr",
     "output_type": "stream",
     "text": [
      "2211-ctest5</dreambig/qingyi/image_chicago/data/images/satellite/zoom15/>:   1%|          | 1200/100000 [17:46<24:23:14,  1.13it/s]"
     ]
    },
    {
     "name": "stdout",
     "output_type": "stream",
     "text": [
      "G: 639.93 | D: 0.22 | GP: 0.24\n"
     ]
    },
    {
     "name": "stderr",
     "output_type": "stream",
     "text": [
      "2211-ctest5</dreambig/qingyi/image_chicago/data/images/satellite/zoom15/>:   1%|▏         | 1250/100000 [18:32<24:24:17,  1.12it/s]"
     ]
    },
    {
     "name": "stdout",
     "output_type": "stream",
     "text": [
      "G: 378.82 | D: 0.91 | GP: 0.10\n"
     ]
    },
    {
     "name": "stderr",
     "output_type": "stream",
     "text": [
      "2211-ctest5</dreambig/qingyi/image_chicago/data/images/satellite/zoom15/>:   1%|▏         | 1300/100000 [19:14<24:20:49,  1.13it/s]"
     ]
    },
    {
     "name": "stdout",
     "output_type": "stream",
     "text": [
      "G: 35.30 | D: 0.04 | GP: 3.04\n"
     ]
    },
    {
     "name": "stderr",
     "output_type": "stream",
     "text": [
      "2211-ctest5</dreambig/qingyi/image_chicago/data/images/satellite/zoom15/>:   1%|▏         | 1350/100000 [20:00<24:21:48,  1.12it/s]"
     ]
    },
    {
     "name": "stdout",
     "output_type": "stream",
     "text": [
      "G: 114.51 | D: 0.00 | GP: 0.72\n"
     ]
    },
    {
     "name": "stderr",
     "output_type": "stream",
     "text": [
      "2211-ctest5</dreambig/qingyi/image_chicago/data/images/satellite/zoom15/>:   1%|▏         | 1400/100000 [20:42<24:18:40,  1.13it/s]"
     ]
    },
    {
     "name": "stdout",
     "output_type": "stream",
     "text": [
      "G: 827.88 | D: 0.00 | GP: 0.33\n"
     ]
    },
    {
     "name": "stderr",
     "output_type": "stream",
     "text": [
      "2211-ctest5</dreambig/qingyi/image_chicago/data/images/satellite/zoom15/>:   1%|▏         | 1450/100000 [21:28<24:20:00,  1.12it/s]"
     ]
    },
    {
     "name": "stdout",
     "output_type": "stream",
     "text": [
      "G: 219.30 | D: 0.00 | GP: 1.42\n"
     ]
    },
    {
     "name": "stderr",
     "output_type": "stream",
     "text": [
      "2211-ctest5</dreambig/qingyi/image_chicago/data/images/satellite/zoom15/>:   2%|▏         | 1500/100000 [22:12<24:17:50,  1.13it/s]"
     ]
    },
    {
     "name": "stdout",
     "output_type": "stream",
     "text": [
      "G: 116.10 | D: 0.00 | GP: 0.82\n"
     ]
    },
    {
     "name": "stderr",
     "output_type": "stream",
     "text": [
      "2211-ctest5</dreambig/qingyi/image_chicago/data/images/satellite/zoom15/>:   2%|▏         | 1550/100000 [22:58<24:18:48,  1.12it/s]"
     ]
    },
    {
     "name": "stdout",
     "output_type": "stream",
     "text": [
      "G: 1758.07 | D: 0.42 | GP: 0.14\n"
     ]
    },
    {
     "name": "stderr",
     "output_type": "stream",
     "text": [
      "2211-ctest5</dreambig/qingyi/image_chicago/data/images/satellite/zoom15/>:   2%|▏         | 1600/100000 [23:40<24:15:51,  1.13it/s]"
     ]
    },
    {
     "name": "stdout",
     "output_type": "stream",
     "text": [
      "G: 486.24 | D: 0.00 | GP: 0.92\n"
     ]
    },
    {
     "name": "stderr",
     "output_type": "stream",
     "text": [
      "2211-ctest5</dreambig/qingyi/image_chicago/data/images/satellite/zoom15/>:   2%|▏         | 1650/100000 [24:26<24:16:48,  1.13it/s]"
     ]
    },
    {
     "name": "stdout",
     "output_type": "stream",
     "text": [
      "G: 474.51 | D: 0.00 | GP: 0.41\n"
     ]
    },
    {
     "name": "stderr",
     "output_type": "stream",
     "text": [
      "2211-ctest5</dreambig/qingyi/image_chicago/data/images/satellite/zoom15/>:   2%|▏         | 1700/100000 [25:08<24:14:12,  1.13it/s]"
     ]
    },
    {
     "name": "stdout",
     "output_type": "stream",
     "text": [
      "G: 109.06 | D: 0.00 | GP: 1.11\n"
     ]
    },
    {
     "name": "stderr",
     "output_type": "stream",
     "text": [
      "2211-ctest5</dreambig/qingyi/image_chicago/data/images/satellite/zoom15/>:   2%|▏         | 1750/100000 [25:54<24:14:51,  1.13it/s]"
     ]
    },
    {
     "name": "stdout",
     "output_type": "stream",
     "text": [
      "G: 355.18 | D: 0.00 | GP: 0.01\n"
     ]
    },
    {
     "name": "stderr",
     "output_type": "stream",
     "text": [
      "2211-ctest5</dreambig/qingyi/image_chicago/data/images/satellite/zoom15/>:   2%|▏         | 1800/100000 [26:38<24:13:10,  1.13it/s]"
     ]
    },
    {
     "name": "stdout",
     "output_type": "stream",
     "text": [
      "G: 261.78 | D: 0.00 | GP: 1.07\n"
     ]
    },
    {
     "name": "stderr",
     "output_type": "stream",
     "text": [
      "2211-ctest5</dreambig/qingyi/image_chicago/data/images/satellite/zoom15/>:   2%|▏         | 1850/100000 [27:24<24:13:43,  1.13it/s]"
     ]
    },
    {
     "name": "stdout",
     "output_type": "stream",
     "text": [
      "G: 27.50 | D: 1.54 | GP: 0.66\n"
     ]
    },
    {
     "name": "stderr",
     "output_type": "stream",
     "text": [
      "2211-ctest5</dreambig/qingyi/image_chicago/data/images/satellite/zoom15/>:   2%|▏         | 1900/100000 [28:06<24:11:16,  1.13it/s]"
     ]
    },
    {
     "name": "stdout",
     "output_type": "stream",
     "text": [
      "G: 988.76 | D: 0.00 | GP: 0.76\n"
     ]
    },
    {
     "name": "stderr",
     "output_type": "stream",
     "text": [
      "2211-ctest5</dreambig/qingyi/image_chicago/data/images/satellite/zoom15/>:   2%|▏         | 1950/100000 [28:52<24:11:55,  1.13it/s]"
     ]
    },
    {
     "name": "stdout",
     "output_type": "stream",
     "text": [
      "G: 477.51 | D: 1.74 | GP: 2.77\n"
     ]
    },
    {
     "name": "stderr",
     "output_type": "stream",
     "text": [
      "2211-ctest5</dreambig/qingyi/image_chicago/data/images/satellite/zoom15/>:   2%|▏         | 2000/100000 [29:35<24:10:01,  1.13it/s]"
     ]
    },
    {
     "name": "stdout",
     "output_type": "stream",
     "text": [
      "G: -3.65 | D: 2.01 | GP: 2.09\n"
     ]
    },
    {
     "name": "stderr",
     "output_type": "stream",
     "text": [
      "2211-ctest5</dreambig/qingyi/image_chicago/data/images/satellite/zoom15/>:   2%|▏         | 2050/100000 [30:21<24:10:44,  1.13it/s]"
     ]
    },
    {
     "name": "stdout",
     "output_type": "stream",
     "text": [
      "G: 98.17 | D: 0.05 | GP: 1.40\n"
     ]
    },
    {
     "name": "stderr",
     "output_type": "stream",
     "text": [
      "2211-ctest5</dreambig/qingyi/image_chicago/data/images/satellite/zoom15/>:   2%|▏         | 2100/100000 [31:04<24:09:01,  1.13it/s]"
     ]
    },
    {
     "name": "stdout",
     "output_type": "stream",
     "text": [
      "G: 12.45 | D: 2.06 | GP: 0.12\n"
     ]
    },
    {
     "name": "stderr",
     "output_type": "stream",
     "text": [
      "2211-ctest5</dreambig/qingyi/image_chicago/data/images/satellite/zoom15/>:   2%|▏         | 2150/100000 [31:51<24:09:39,  1.12it/s]"
     ]
    },
    {
     "name": "stdout",
     "output_type": "stream",
     "text": [
      "G: 24.86 | D: 0.00 | GP: 0.14\n"
     ]
    },
    {
     "name": "stderr",
     "output_type": "stream",
     "text": [
      "2211-ctest5</dreambig/qingyi/image_chicago/data/images/satellite/zoom15/>:   2%|▏         | 2200/100000 [32:33<24:07:20,  1.13it/s]"
     ]
    },
    {
     "name": "stdout",
     "output_type": "stream",
     "text": [
      "G: 213.47 | D: 0.00 | GP: 0.04\n"
     ]
    },
    {
     "name": "stderr",
     "output_type": "stream",
     "text": [
      "2211-ctest5</dreambig/qingyi/image_chicago/data/images/satellite/zoom15/>:   2%|▏         | 2250/100000 [33:19<24:07:46,  1.13it/s]"
     ]
    },
    {
     "name": "stdout",
     "output_type": "stream",
     "text": [
      "G: 53.47 | D: 0.05 | GP: 14.04\n"
     ]
    },
    {
     "name": "stderr",
     "output_type": "stream",
     "text": [
      "2211-ctest5</dreambig/qingyi/image_chicago/data/images/satellite/zoom15/>:   2%|▏         | 2300/100000 [34:01<24:05:29,  1.13it/s]"
     ]
    },
    {
     "name": "stdout",
     "output_type": "stream",
     "text": [
      "G: 47.23 | D: 0.42 | GP: 0.26\n"
     ]
    },
    {
     "name": "stderr",
     "output_type": "stream",
     "text": [
      "2211-ctest5</dreambig/qingyi/image_chicago/data/images/satellite/zoom15/>:   2%|▏         | 2350/100000 [34:47<24:05:55,  1.13it/s]"
     ]
    },
    {
     "name": "stdout",
     "output_type": "stream",
     "text": [
      "G: 17.05 | D: 0.10 | GP: 1.52\n"
     ]
    },
    {
     "name": "stderr",
     "output_type": "stream",
     "text": [
      "2211-ctest5</dreambig/qingyi/image_chicago/data/images/satellite/zoom15/>:   2%|▏         | 2400/100000 [35:31<24:04:28,  1.13it/s]"
     ]
    },
    {
     "name": "stdout",
     "output_type": "stream",
     "text": [
      "G: 121.21 | D: 0.00 | GP: 0.04\n"
     ]
    },
    {
     "name": "stderr",
     "output_type": "stream",
     "text": [
      "2211-ctest5</dreambig/qingyi/image_chicago/data/images/satellite/zoom15/>:   2%|▏         | 2450/100000 [36:17<24:04:52,  1.13it/s]"
     ]
    },
    {
     "name": "stdout",
     "output_type": "stream",
     "text": [
      "G: 6.83 | D: 1.41 | GP: 0.13\n"
     ]
    },
    {
     "name": "stderr",
     "output_type": "stream",
     "text": [
      "2211-ctest5</dreambig/qingyi/image_chicago/data/images/satellite/zoom15/>:   2%|▎         | 2500/100000 [36:59<24:02:40,  1.13it/s]"
     ]
    },
    {
     "name": "stdout",
     "output_type": "stream",
     "text": [
      "G: 35.60 | D: 0.04 | GP: 1.19\n"
     ]
    },
    {
     "name": "stderr",
     "output_type": "stream",
     "text": [
      "2211-ctest5</dreambig/qingyi/image_chicago/data/images/satellite/zoom15/>:   3%|▎         | 2550/100000 [37:42<24:01:18,  1.13it/s]"
     ]
    },
    {
     "name": "stdout",
     "output_type": "stream",
     "text": [
      "G: 23.82 | D: 0.09 | GP: 0.11\n"
     ]
    },
    {
     "name": "stderr",
     "output_type": "stream",
     "text": [
      "2211-ctest5</dreambig/qingyi/image_chicago/data/images/satellite/zoom15/>:   3%|▎         | 2600/100000 [38:25<23:59:08,  1.13it/s]"
     ]
    },
    {
     "name": "stdout",
     "output_type": "stream",
     "text": [
      "G: 18.19 | D: 0.10 | GP: 2.25\n"
     ]
    },
    {
     "name": "stderr",
     "output_type": "stream",
     "text": [
      "2211-ctest5</dreambig/qingyi/image_chicago/data/images/satellite/zoom15/>:   3%|▎         | 2650/100000 [39:08<23:58:00,  1.13it/s]"
     ]
    },
    {
     "name": "stdout",
     "output_type": "stream",
     "text": [
      "G: 158.96 | D: 0.06 | GP: 0.01\n"
     ]
    },
    {
     "name": "stderr",
     "output_type": "stream",
     "text": [
      "2211-ctest5</dreambig/qingyi/image_chicago/data/images/satellite/zoom15/>:   3%|▎         | 2700/100000 [39:51<23:56:39,  1.13it/s]"
     ]
    },
    {
     "name": "stdout",
     "output_type": "stream",
     "text": [
      "G: 172.20 | D: 0.12 | GP: 0.21\n"
     ]
    },
    {
     "name": "stderr",
     "output_type": "stream",
     "text": [
      "2211-ctest5</dreambig/qingyi/image_chicago/data/images/satellite/zoom15/>:   3%|▎         | 2750/100000 [40:35<23:55:28,  1.13it/s]"
     ]
    },
    {
     "name": "stdout",
     "output_type": "stream",
     "text": [
      "G: 134.61 | D: 0.44 | GP: 0.25\n"
     ]
    },
    {
     "name": "stderr",
     "output_type": "stream",
     "text": [
      "2211-ctest5</dreambig/qingyi/image_chicago/data/images/satellite/zoom15/>:   3%|▎         | 2800/100000 [41:17<23:53:35,  1.13it/s]"
     ]
    },
    {
     "name": "stdout",
     "output_type": "stream",
     "text": [
      "G: 62.04 | D: 0.11 | GP: 0.14\n"
     ]
    },
    {
     "name": "stderr",
     "output_type": "stream",
     "text": [
      "2211-ctest5</dreambig/qingyi/image_chicago/data/images/satellite/zoom15/>:   3%|▎         | 2850/100000 [42:01<23:52:23,  1.13it/s]"
     ]
    },
    {
     "name": "stdout",
     "output_type": "stream",
     "text": [
      "G: 376.68 | D: 0.00 | GP: 0.03\n"
     ]
    },
    {
     "name": "stderr",
     "output_type": "stream",
     "text": [
      "2211-ctest5</dreambig/qingyi/image_chicago/data/images/satellite/zoom15/>:   3%|▎         | 2900/100000 [42:43<23:50:36,  1.13it/s]"
     ]
    },
    {
     "name": "stdout",
     "output_type": "stream",
     "text": [
      "G: 33.02 | D: 0.13 | GP: 2.19\n"
     ]
    },
    {
     "name": "stderr",
     "output_type": "stream",
     "text": [
      "2211-ctest5</dreambig/qingyi/image_chicago/data/images/satellite/zoom15/>:   3%|▎         | 2950/100000 [43:28<23:49:59,  1.13it/s]"
     ]
    },
    {
     "name": "stdout",
     "output_type": "stream",
     "text": [
      "G: 100.45 | D: 0.06 | GP: 0.02\n"
     ]
    },
    {
     "name": "stderr",
     "output_type": "stream",
     "text": [
      "2211-ctest5</dreambig/qingyi/image_chicago/data/images/satellite/zoom15/>:   3%|▎         | 3000/100000 [44:10<23:48:14,  1.13it/s]"
     ]
    },
    {
     "name": "stdout",
     "output_type": "stream",
     "text": [
      "G: 15.90 | D: 0.00 | GP: 0.58\n"
     ]
    },
    {
     "name": "stderr",
     "output_type": "stream",
     "text": [
      "2211-ctest5</dreambig/qingyi/image_chicago/data/images/satellite/zoom15/>:   3%|▎         | 3050/100000 [44:56<23:48:37,  1.13it/s]"
     ]
    },
    {
     "name": "stdout",
     "output_type": "stream",
     "text": [
      "G: 21.89 | D: 0.00 | GP: 2.29\n"
     ]
    },
    {
     "name": "stderr",
     "output_type": "stream",
     "text": [
      "2211-ctest5</dreambig/qingyi/image_chicago/data/images/satellite/zoom15/>:   3%|▎         | 3100/100000 [45:39<23:47:02,  1.13it/s]"
     ]
    },
    {
     "name": "stdout",
     "output_type": "stream",
     "text": [
      "G: 91.87 | D: 0.09 | GP: 1.94\n"
     ]
    },
    {
     "name": "stderr",
     "output_type": "stream",
     "text": [
      "2211-ctest5</dreambig/qingyi/image_chicago/data/images/satellite/zoom15/>:   3%|▎         | 3150/100000 [46:22<23:45:52,  1.13it/s]"
     ]
    },
    {
     "name": "stdout",
     "output_type": "stream",
     "text": [
      "G: 353.26 | D: 0.00 | GP: 0.01\n"
     ]
    },
    {
     "name": "stderr",
     "output_type": "stream",
     "text": [
      "2211-ctest5</dreambig/qingyi/image_chicago/data/images/satellite/zoom15/>:   3%|▎         | 3200/100000 [47:04<23:44:09,  1.13it/s]"
     ]
    },
    {
     "name": "stdout",
     "output_type": "stream",
     "text": [
      "G: 43.43 | D: 0.55 | GP: 2.02\n"
     ]
    },
    {
     "name": "stderr",
     "output_type": "stream",
     "text": [
      "2211-ctest5</dreambig/qingyi/image_chicago/data/images/satellite/zoom15/>:   3%|▎         | 3250/100000 [47:49<23:43:32,  1.13it/s]"
     ]
    },
    {
     "name": "stdout",
     "output_type": "stream",
     "text": [
      "G: 6.87 | D: 0.19 | GP: 0.79\n"
     ]
    },
    {
     "name": "stderr",
     "output_type": "stream",
     "text": [
      "2211-ctest5</dreambig/qingyi/image_chicago/data/images/satellite/zoom15/>:   3%|▎         | 3300/100000 [48:31<23:41:50,  1.13it/s]"
     ]
    },
    {
     "name": "stdout",
     "output_type": "stream",
     "text": [
      "G: 8.36 | D: 1.06 | GP: 0.26\n"
     ]
    },
    {
     "name": "stderr",
     "output_type": "stream",
     "text": [
      "2211-ctest5</dreambig/qingyi/image_chicago/data/images/satellite/zoom15/>:   3%|▎         | 3350/100000 [49:14<23:40:50,  1.13it/s]"
     ]
    },
    {
     "name": "stdout",
     "output_type": "stream",
     "text": [
      "G: 18.30 | D: 0.23 | GP: 0.01\n"
     ]
    },
    {
     "name": "stderr",
     "output_type": "stream",
     "text": [
      "2211-ctest5</dreambig/qingyi/image_chicago/data/images/satellite/zoom15/>:   3%|▎         | 3400/100000 [49:57<23:39:13,  1.13it/s]"
     ]
    },
    {
     "name": "stdout",
     "output_type": "stream",
     "text": [
      "G: 18.89 | D: 0.00 | GP: 0.04\n"
     ]
    },
    {
     "name": "stderr",
     "output_type": "stream",
     "text": [
      "2211-ctest5</dreambig/qingyi/image_chicago/data/images/satellite/zoom15/>:   3%|▎         | 3425/100000 [50:19<23:38:59,  1.13it/s]IOPub message rate exceeded.\n",
      "The notebook server will temporarily stop sending output\n",
      "to the client in order to avoid crashing it.\n",
      "To change this limit, set the config variable\n",
      "`--NotebookApp.iopub_msg_rate_limit`.\n",
      "\n",
      "Current values:\n",
      "NotebookApp.iopub_msg_rate_limit=1000.0 (msgs/sec)\n",
      "NotebookApp.rate_limit_window=3.0 (secs)\n",
      "\n",
      "2211-ctest5</dreambig/qingyi/image_chicago/data/images/satellite/zoom15/>:  16%|█▌        | 16100/100000 [3:56:01<20:29:56,  1.14it/s]"
     ]
    },
    {
     "name": "stdout",
     "output_type": "stream",
     "text": [
      "G: 0.59 | D: 1.07 | GP: 0.67 | PL: 0.01\n"
     ]
    },
    {
     "name": "stderr",
     "output_type": "stream",
     "text": [
      "2211-ctest5</dreambig/qingyi/image_chicago/data/images/satellite/zoom15/>:  16%|█▌        | 16150/100000 [3:56:45<20:29:12,  1.14it/s]"
     ]
    },
    {
     "name": "stdout",
     "output_type": "stream",
     "text": [
      "G: 1.40 | D: 0.81 | GP: 0.07 | PL: 0.01\n"
     ]
    },
    {
     "name": "stderr",
     "output_type": "stream",
     "text": [
      "2211-ctest5</dreambig/qingyi/image_chicago/data/images/satellite/zoom15/>:  16%|█▌        | 16200/100000 [3:57:28<20:28:24,  1.14it/s]"
     ]
    },
    {
     "name": "stdout",
     "output_type": "stream",
     "text": [
      "G: 0.97 | D: 1.01 | GP: 1.88 | PL: 0.01\n"
     ]
    },
    {
     "name": "stderr",
     "output_type": "stream",
     "text": [
      "2211-ctest5</dreambig/qingyi/image_chicago/data/images/satellite/zoom15/>:  16%|█▋        | 16250/100000 [3:58:13<20:27:45,  1.14it/s]"
     ]
    },
    {
     "name": "stdout",
     "output_type": "stream",
     "text": [
      "G: 2.17 | D: 1.08 | GP: 1.06 | PL: 0.01\n"
     ]
    },
    {
     "name": "stderr",
     "output_type": "stream",
     "text": [
      "2211-ctest5</dreambig/qingyi/image_chicago/data/images/satellite/zoom15/>:  16%|█▋        | 16300/100000 [3:58:56<20:26:58,  1.14it/s]"
     ]
    },
    {
     "name": "stdout",
     "output_type": "stream",
     "text": [
      "G: 1.47 | D: 1.34 | GP: 0.13 | PL: 0.01\n"
     ]
    },
    {
     "name": "stderr",
     "output_type": "stream",
     "text": [
      "2211-ctest5</dreambig/qingyi/image_chicago/data/images/satellite/zoom15/>:  16%|█▋        | 16350/100000 [3:59:40<20:26:16,  1.14it/s]"
     ]
    },
    {
     "name": "stdout",
     "output_type": "stream",
     "text": [
      "G: 1.15 | D: 1.23 | GP: 0.78 | PL: 0.01\n"
     ]
    },
    {
     "name": "stderr",
     "output_type": "stream",
     "text": [
      "2211-ctest5</dreambig/qingyi/image_chicago/data/images/satellite/zoom15/>:  16%|█▋        | 16400/100000 [4:00:24<20:25:28,  1.14it/s]"
     ]
    },
    {
     "name": "stdout",
     "output_type": "stream",
     "text": [
      "G: 1.07 | D: 0.95 | GP: 0.44 | PL: 0.01\n"
     ]
    },
    {
     "name": "stderr",
     "output_type": "stream",
     "text": [
      "2211-ctest5</dreambig/qingyi/image_chicago/data/images/satellite/zoom15/>:  16%|█▋        | 16450/100000 [4:01:08<20:24:47,  1.14it/s]"
     ]
    },
    {
     "name": "stdout",
     "output_type": "stream",
     "text": [
      "G: 0.59 | D: 1.32 | GP: 2.59 | PL: 0.01\n"
     ]
    },
    {
     "name": "stderr",
     "output_type": "stream",
     "text": [
      "2211-ctest5</dreambig/qingyi/image_chicago/data/images/satellite/zoom15/>:  16%|█▋        | 16500/100000 [4:01:52<20:24:03,  1.14it/s]"
     ]
    },
    {
     "name": "stdout",
     "output_type": "stream",
     "text": [
      "G: 1.83 | D: 1.11 | GP: 0.59 | PL: 0.01\n"
     ]
    },
    {
     "name": "stderr",
     "output_type": "stream",
     "text": [
      "2211-ctest5</dreambig/qingyi/image_chicago/data/images/satellite/zoom15/>:  17%|█▋        | 16550/100000 [4:02:37<20:23:22,  1.14it/s]"
     ]
    },
    {
     "name": "stdout",
     "output_type": "stream",
     "text": [
      "G: -0.12 | D: 1.14 | GP: 0.14 | PL: 0.01\n"
     ]
    },
    {
     "name": "stderr",
     "output_type": "stream",
     "text": [
      "2211-ctest5</dreambig/qingyi/image_chicago/data/images/satellite/zoom15/>:  17%|█▋        | 16600/100000 [4:03:20<20:22:33,  1.14it/s]"
     ]
    },
    {
     "name": "stdout",
     "output_type": "stream",
     "text": [
      "G: 1.50 | D: 1.05 | GP: 0.57 | PL: 0.01\n"
     ]
    },
    {
     "name": "stderr",
     "output_type": "stream",
     "text": [
      "2211-ctest5</dreambig/qingyi/image_chicago/data/images/satellite/zoom15/>:  17%|█▋        | 16650/100000 [4:04:04<20:21:52,  1.14it/s]"
     ]
    },
    {
     "name": "stdout",
     "output_type": "stream",
     "text": [
      "G: 0.29 | D: 1.53 | GP: 4.43 | PL: 0.01\n"
     ]
    },
    {
     "name": "stderr",
     "output_type": "stream",
     "text": [
      "2211-ctest5</dreambig/qingyi/image_chicago/data/images/satellite/zoom15/>:  17%|█▋        | 16700/100000 [4:04:47<20:21:03,  1.14it/s]"
     ]
    },
    {
     "name": "stdout",
     "output_type": "stream",
     "text": [
      "G: 0.29 | D: 0.87 | GP: 0.32 | PL: 0.01\n"
     ]
    },
    {
     "name": "stderr",
     "output_type": "stream",
     "text": [
      "2211-ctest5</dreambig/qingyi/image_chicago/data/images/satellite/zoom15/>:  17%|█▋        | 16750/100000 [4:05:32<20:20:22,  1.14it/s]"
     ]
    },
    {
     "name": "stdout",
     "output_type": "stream",
     "text": [
      "G: 0.54 | D: 1.42 | GP: 0.71 | PL: 0.01\n"
     ]
    },
    {
     "name": "stderr",
     "output_type": "stream",
     "text": [
      "2211-ctest5</dreambig/qingyi/image_chicago/data/images/satellite/zoom15/>:  17%|█▋        | 16800/100000 [4:06:16<20:19:37,  1.14it/s]"
     ]
    },
    {
     "name": "stdout",
     "output_type": "stream",
     "text": [
      "G: 2.11 | D: 0.78 | GP: 0.31 | PL: 0.01\n"
     ]
    },
    {
     "name": "stderr",
     "output_type": "stream",
     "text": [
      "2211-ctest5</dreambig/qingyi/image_chicago/data/images/satellite/zoom15/>:  17%|█▋        | 16850/100000 [4:07:00<20:18:56,  1.14it/s]"
     ]
    },
    {
     "name": "stdout",
     "output_type": "stream",
     "text": [
      "G: 1.10 | D: 1.14 | GP: 1.55 | PL: 0.01\n"
     ]
    },
    {
     "name": "stderr",
     "output_type": "stream",
     "text": [
      "2211-ctest5</dreambig/qingyi/image_chicago/data/images/satellite/zoom15/>:  17%|█▋        | 16900/100000 [4:07:43<20:18:08,  1.14it/s]"
     ]
    },
    {
     "name": "stdout",
     "output_type": "stream",
     "text": [
      "G: 0.43 | D: 1.12 | GP: 1.13 | PL: 0.01\n"
     ]
    },
    {
     "name": "stderr",
     "output_type": "stream",
     "text": [
      "2211-ctest5</dreambig/qingyi/image_chicago/data/images/satellite/zoom15/>:  17%|█▋        | 16950/100000 [4:08:27<20:17:24,  1.14it/s]"
     ]
    },
    {
     "name": "stdout",
     "output_type": "stream",
     "text": [
      "G: 1.57 | D: 1.35 | GP: 1.58 | PL: 0.01\n"
     ]
    },
    {
     "name": "stderr",
     "output_type": "stream",
     "text": [
      "2211-ctest5</dreambig/qingyi/image_chicago/data/images/satellite/zoom15/>:  17%|█▋        | 17000/100000 [4:09:11<20:16:36,  1.14it/s]"
     ]
    },
    {
     "name": "stdout",
     "output_type": "stream",
     "text": [
      "G: 2.14 | D: 0.73 | GP: 0.06 | PL: 0.01\n"
     ]
    },
    {
     "name": "stderr",
     "output_type": "stream",
     "text": [
      "2211-ctest5</dreambig/qingyi/image_chicago/data/images/satellite/zoom15/>:  17%|█▋        | 17050/100000 [4:09:59<20:16:12,  1.14it/s]"
     ]
    },
    {
     "name": "stdout",
     "output_type": "stream",
     "text": [
      "G: 0.72 | D: 1.20 | GP: 0.14 | PL: 0.01\n"
     ]
    },
    {
     "name": "stderr",
     "output_type": "stream",
     "text": [
      "2211-ctest5</dreambig/qingyi/image_chicago/data/images/satellite/zoom15/>:  17%|█▋        | 17100/100000 [4:10:43<20:15:29,  1.14it/s]"
     ]
    },
    {
     "name": "stdout",
     "output_type": "stream",
     "text": [
      "G: 1.51 | D: 0.89 | GP: 0.74 | PL: 0.01\n"
     ]
    },
    {
     "name": "stderr",
     "output_type": "stream",
     "text": [
      "2211-ctest5</dreambig/qingyi/image_chicago/data/images/satellite/zoom15/>:  17%|█▋        | 17150/100000 [4:11:27<20:14:45,  1.14it/s]"
     ]
    },
    {
     "name": "stdout",
     "output_type": "stream",
     "text": [
      "G: 0.62 | D: 1.01 | GP: 0.09 | PL: 0.01\n"
     ]
    },
    {
     "name": "stderr",
     "output_type": "stream",
     "text": [
      "2211-ctest5</dreambig/qingyi/image_chicago/data/images/satellite/zoom15/>:  17%|█▋        | 17200/100000 [4:12:10<20:13:58,  1.14it/s]"
     ]
    },
    {
     "name": "stdout",
     "output_type": "stream",
     "text": [
      "G: -0.85 | D: 1.79 | GP: 0.71 | PL: 0.01\n"
     ]
    },
    {
     "name": "stderr",
     "output_type": "stream",
     "text": [
      "2211-ctest5</dreambig/qingyi/image_chicago/data/images/satellite/zoom15/>:  17%|█▋        | 17250/100000 [4:12:55<20:13:17,  1.14it/s]"
     ]
    },
    {
     "name": "stdout",
     "output_type": "stream",
     "text": [
      "G: 1.05 | D: 1.37 | GP: 0.28 | PL: 0.01\n"
     ]
    },
    {
     "name": "stderr",
     "output_type": "stream",
     "text": [
      "2211-ctest5</dreambig/qingyi/image_chicago/data/images/satellite/zoom15/>:  17%|█▋        | 17300/100000 [4:13:38<20:12:27,  1.14it/s]"
     ]
    },
    {
     "name": "stdout",
     "output_type": "stream",
     "text": [
      "G: 1.05 | D: 0.81 | GP: 0.03 | PL: 0.01\n"
     ]
    },
    {
     "name": "stderr",
     "output_type": "stream",
     "text": [
      "2211-ctest5</dreambig/qingyi/image_chicago/data/images/satellite/zoom15/>:  17%|█▋        | 17350/100000 [4:14:22<20:11:46,  1.14it/s]"
     ]
    },
    {
     "name": "stdout",
     "output_type": "stream",
     "text": [
      "G: 0.13 | D: 2.03 | GP: 2.55 | PL: 0.01\n"
     ]
    },
    {
     "name": "stderr",
     "output_type": "stream",
     "text": [
      "2211-ctest5</dreambig/qingyi/image_chicago/data/images/satellite/zoom15/>:  17%|█▋        | 17400/100000 [4:15:06<20:11:01,  1.14it/s]"
     ]
    },
    {
     "name": "stdout",
     "output_type": "stream",
     "text": [
      "G: -0.22 | D: 1.97 | GP: 0.09 | PL: 0.01\n"
     ]
    },
    {
     "name": "stderr",
     "output_type": "stream",
     "text": [
      "2211-ctest5</dreambig/qingyi/image_chicago/data/images/satellite/zoom15/>:  17%|█▋        | 17450/100000 [4:15:51<20:10:20,  1.14it/s]"
     ]
    },
    {
     "name": "stdout",
     "output_type": "stream",
     "text": [
      "G: 0.65 | D: 1.42 | GP: 0.85 | PL: 0.01\n"
     ]
    },
    {
     "name": "stderr",
     "output_type": "stream",
     "text": [
      "2211-ctest5</dreambig/qingyi/image_chicago/data/images/satellite/zoom15/>:  18%|█▊        | 17500/100000 [4:16:33<20:09:31,  1.14it/s]"
     ]
    },
    {
     "name": "stdout",
     "output_type": "stream",
     "text": [
      "G: 1.53 | D: 0.92 | GP: 1.10 | PL: 0.01\n"
     ]
    },
    {
     "name": "stderr",
     "output_type": "stream",
     "text": [
      "2211-ctest5</dreambig/qingyi/image_chicago/data/images/satellite/zoom15/>:  18%|█▊        | 17550/100000 [4:17:18<20:08:50,  1.14it/s]"
     ]
    },
    {
     "name": "stdout",
     "output_type": "stream",
     "text": [
      "G: 0.43 | D: 1.28 | GP: 0.21 | PL: 0.01\n"
     ]
    },
    {
     "name": "stderr",
     "output_type": "stream",
     "text": [
      "2211-ctest5</dreambig/qingyi/image_chicago/data/images/satellite/zoom15/>:  18%|█▊        | 17600/100000 [4:18:01<20:08:01,  1.14it/s]"
     ]
    },
    {
     "name": "stdout",
     "output_type": "stream",
     "text": [
      "G: -0.48 | D: 0.99 | GP: 0.90 | PL: 0.01\n"
     ]
    },
    {
     "name": "stderr",
     "output_type": "stream",
     "text": [
      "2211-ctest5</dreambig/qingyi/image_chicago/data/images/satellite/zoom15/>:  18%|█▊        | 17650/100000 [4:18:46<20:07:20,  1.14it/s]"
     ]
    },
    {
     "name": "stdout",
     "output_type": "stream",
     "text": [
      "G: 0.46 | D: 1.25 | GP: 0.09 | PL: 0.01\n"
     ]
    },
    {
     "name": "stderr",
     "output_type": "stream",
     "text": [
      "2211-ctest5</dreambig/qingyi/image_chicago/data/images/satellite/zoom15/>:  18%|█▊        | 17700/100000 [4:19:30<20:06:37,  1.14it/s]"
     ]
    },
    {
     "name": "stdout",
     "output_type": "stream",
     "text": [
      "G: 1.00 | D: 1.30 | GP: 2.09 | PL: 0.01\n"
     ]
    },
    {
     "name": "stderr",
     "output_type": "stream",
     "text": [
      "2211-ctest5</dreambig/qingyi/image_chicago/data/images/satellite/zoom15/>:  18%|█▊        | 17750/100000 [4:20:14<20:05:53,  1.14it/s]"
     ]
    },
    {
     "name": "stdout",
     "output_type": "stream",
     "text": [
      "G: 0.48 | D: 0.83 | GP: 0.85 | PL: 0.01\n"
     ]
    },
    {
     "name": "stderr",
     "output_type": "stream",
     "text": [
      "2211-ctest5</dreambig/qingyi/image_chicago/data/images/satellite/zoom15/>:  18%|█▊        | 17800/100000 [4:20:57<20:05:06,  1.14it/s]"
     ]
    },
    {
     "name": "stdout",
     "output_type": "stream",
     "text": [
      "G: 1.25 | D: 1.04 | GP: 0.12 | PL: 0.01\n"
     ]
    },
    {
     "name": "stderr",
     "output_type": "stream",
     "text": [
      "2211-ctest5</dreambig/qingyi/image_chicago/data/images/satellite/zoom15/>:  18%|█▊        | 17850/100000 [4:21:41<20:04:23,  1.14it/s]"
     ]
    },
    {
     "name": "stdout",
     "output_type": "stream",
     "text": [
      "G: 0.80 | D: 1.90 | GP: 0.37 | PL: 0.01\n"
     ]
    },
    {
     "name": "stderr",
     "output_type": "stream",
     "text": [
      "2211-ctest5</dreambig/qingyi/image_chicago/data/images/satellite/zoom15/>:  18%|█▊        | 17900/100000 [4:22:25<20:03:36,  1.14it/s]"
     ]
    },
    {
     "name": "stdout",
     "output_type": "stream",
     "text": [
      "G: 0.77 | D: 1.07 | GP: 0.13 | PL: 0.01\n"
     ]
    },
    {
     "name": "stderr",
     "output_type": "stream",
     "text": [
      "2211-ctest5</dreambig/qingyi/image_chicago/data/images/satellite/zoom15/>:  18%|█▊        | 17950/100000 [4:23:09<20:02:52,  1.14it/s]"
     ]
    },
    {
     "name": "stdout",
     "output_type": "stream",
     "text": [
      "G: 1.08 | D: 1.22 | GP: 1.50 | PL: 0.01\n"
     ]
    },
    {
     "name": "stderr",
     "output_type": "stream",
     "text": [
      "2211-ctest5</dreambig/qingyi/image_chicago/data/images/satellite/zoom15/>:  18%|█▊        | 18000/100000 [4:23:53<20:02:10,  1.14it/s]"
     ]
    },
    {
     "name": "stdout",
     "output_type": "stream",
     "text": [
      "G: 1.46 | D: 1.15 | GP: 0.24 | PL: 0.01\n"
     ]
    },
    {
     "name": "stderr",
     "output_type": "stream",
     "text": [
      "2211-ctest5</dreambig/qingyi/image_chicago/data/images/satellite/zoom15/>:  18%|█▊        | 18050/100000 [4:24:40<20:01:41,  1.14it/s]"
     ]
    },
    {
     "name": "stdout",
     "output_type": "stream",
     "text": [
      "G: 1.82 | D: 0.96 | GP: 0.34 | PL: 0.01\n"
     ]
    },
    {
     "name": "stderr",
     "output_type": "stream",
     "text": [
      "2211-ctest5</dreambig/qingyi/image_chicago/data/images/satellite/zoom15/>:  18%|█▊        | 18100/100000 [4:25:24<20:00:53,  1.14it/s]"
     ]
    },
    {
     "name": "stdout",
     "output_type": "stream",
     "text": [
      "G: 0.73 | D: 1.36 | GP: 1.29 | PL: 0.01\n"
     ]
    },
    {
     "name": "stderr",
     "output_type": "stream",
     "text": [
      "2211-ctest5</dreambig/qingyi/image_chicago/data/images/satellite/zoom15/>:  18%|█▊        | 18150/100000 [4:26:08<20:00:11,  1.14it/s]"
     ]
    },
    {
     "name": "stdout",
     "output_type": "stream",
     "text": [
      "G: 0.46 | D: 1.61 | GP: 3.78 | PL: 0.01\n"
     ]
    },
    {
     "name": "stderr",
     "output_type": "stream",
     "text": [
      "2211-ctest5</dreambig/qingyi/image_chicago/data/images/satellite/zoom15/>:  18%|█▊        | 18200/100000 [4:26:51<19:59:22,  1.14it/s]"
     ]
    },
    {
     "name": "stdout",
     "output_type": "stream",
     "text": [
      "G: -0.51 | D: 2.06 | GP: 0.54 | PL: 0.01\n"
     ]
    },
    {
     "name": "stderr",
     "output_type": "stream",
     "text": [
      "2211-ctest5</dreambig/qingyi/image_chicago/data/images/satellite/zoom15/>:  18%|█▊        | 18250/100000 [4:27:36<19:58:42,  1.14it/s]"
     ]
    },
    {
     "name": "stdout",
     "output_type": "stream",
     "text": [
      "G: 1.45 | D: 0.90 | GP: 0.50 | PL: 0.01\n"
     ]
    },
    {
     "name": "stderr",
     "output_type": "stream",
     "text": [
      "2211-ctest5</dreambig/qingyi/image_chicago/data/images/satellite/zoom15/>:  18%|█▊        | 18300/100000 [4:28:19<19:57:57,  1.14it/s]"
     ]
    },
    {
     "name": "stdout",
     "output_type": "stream",
     "text": [
      "G: 1.09 | D: 1.21 | GP: 5.44 | PL: 0.01\n"
     ]
    },
    {
     "name": "stderr",
     "output_type": "stream",
     "text": [
      "2211-ctest5</dreambig/qingyi/image_chicago/data/images/satellite/zoom15/>:  18%|█▊        | 18350/100000 [4:29:04<19:57:15,  1.14it/s]"
     ]
    },
    {
     "name": "stdout",
     "output_type": "stream",
     "text": [
      "G: 1.07 | D: 1.28 | GP: 0.18 | PL: 0.01\n"
     ]
    },
    {
     "name": "stderr",
     "output_type": "stream",
     "text": [
      "2211-ctest5</dreambig/qingyi/image_chicago/data/images/satellite/zoom15/>:  18%|█▊        | 18400/100000 [4:29:46<19:56:25,  1.14it/s]"
     ]
    },
    {
     "name": "stdout",
     "output_type": "stream",
     "text": [
      "G: -0.18 | D: 0.74 | GP: 0.40 | PL: 0.01\n"
     ]
    },
    {
     "name": "stderr",
     "output_type": "stream",
     "text": [
      "2211-ctest5</dreambig/qingyi/image_chicago/data/images/satellite/zoom15/>:  18%|█▊        | 18450/100000 [4:30:31<19:55:45,  1.14it/s]"
     ]
    },
    {
     "name": "stdout",
     "output_type": "stream",
     "text": [
      "G: 0.81 | D: 0.82 | GP: 0.21 | PL: 0.01\n"
     ]
    },
    {
     "name": "stderr",
     "output_type": "stream",
     "text": [
      "2211-ctest5</dreambig/qingyi/image_chicago/data/images/satellite/zoom15/>:  18%|█▊        | 18500/100000 [4:31:15<19:54:58,  1.14it/s]"
     ]
    },
    {
     "name": "stdout",
     "output_type": "stream",
     "text": [
      "G: 0.68 | D: 1.54 | GP: 5.57 | PL: 0.01\n"
     ]
    },
    {
     "name": "stderr",
     "output_type": "stream",
     "text": [
      "2211-ctest5</dreambig/qingyi/image_chicago/data/images/satellite/zoom15/>:  19%|█▊        | 18550/100000 [4:31:58<19:54:13,  1.14it/s]"
     ]
    },
    {
     "name": "stdout",
     "output_type": "stream",
     "text": [
      "G: -0.35 | D: 1.59 | GP: 0.20 | PL: 0.01\n"
     ]
    },
    {
     "name": "stderr",
     "output_type": "stream",
     "text": [
      "2211-ctest5</dreambig/qingyi/image_chicago/data/images/satellite/zoom15/>:  19%|█▊        | 18600/100000 [4:32:43<19:53:30,  1.14it/s]"
     ]
    },
    {
     "name": "stdout",
     "output_type": "stream",
     "text": [
      "G: 1.11 | D: 1.37 | GP: 1.84 | PL: 0.01\n"
     ]
    },
    {
     "name": "stderr",
     "output_type": "stream",
     "text": [
      "2211-ctest5</dreambig/qingyi/image_chicago/data/images/satellite/zoom15/>:  19%|█▊        | 18650/100000 [4:33:27<19:52:47,  1.14it/s]"
     ]
    },
    {
     "name": "stdout",
     "output_type": "stream",
     "text": [
      "G: 1.52 | D: 1.06 | GP: 0.67 | PL: 0.01\n"
     ]
    },
    {
     "name": "stderr",
     "output_type": "stream",
     "text": [
      "2211-ctest5</dreambig/qingyi/image_chicago/data/images/satellite/zoom15/>:  19%|█▊        | 18700/100000 [4:34:10<19:52:00,  1.14it/s]"
     ]
    },
    {
     "name": "stdout",
     "output_type": "stream",
     "text": [
      "G: 1.11 | D: 1.18 | GP: 0.74 | PL: 0.01\n"
     ]
    },
    {
     "name": "stderr",
     "output_type": "stream",
     "text": [
      "2211-ctest5</dreambig/qingyi/image_chicago/data/images/satellite/zoom15/>:  19%|█▉        | 18750/100000 [4:34:54<19:51:17,  1.14it/s]"
     ]
    },
    {
     "name": "stdout",
     "output_type": "stream",
     "text": [
      "G: -0.36 | D: 1.25 | GP: 0.12 | PL: 0.01\n"
     ]
    },
    {
     "name": "stderr",
     "output_type": "stream",
     "text": [
      "2211-ctest5</dreambig/qingyi/image_chicago/data/images/satellite/zoom15/>:  19%|█▉        | 18800/100000 [4:35:38<19:50:30,  1.14it/s]"
     ]
    },
    {
     "name": "stdout",
     "output_type": "stream",
     "text": [
      "G: 0.98 | D: 0.93 | GP: 0.25 | PL: 0.01\n"
     ]
    },
    {
     "name": "stderr",
     "output_type": "stream",
     "text": [
      "2211-ctest5</dreambig/qingyi/image_chicago/data/images/satellite/zoom15/>:  19%|█▉        | 18850/100000 [4:36:22<19:49:49,  1.14it/s]"
     ]
    },
    {
     "name": "stdout",
     "output_type": "stream",
     "text": [
      "G: 0.91 | D: 0.97 | GP: 0.13 | PL: 0.01\n"
     ]
    },
    {
     "name": "stderr",
     "output_type": "stream",
     "text": [
      "2211-ctest5</dreambig/qingyi/image_chicago/data/images/satellite/zoom15/>:  19%|█▉        | 18900/100000 [4:37:06<19:49:03,  1.14it/s]"
     ]
    },
    {
     "name": "stdout",
     "output_type": "stream",
     "text": [
      "G: 1.28 | D: 1.50 | GP: 0.21 | PL: 0.01\n"
     ]
    },
    {
     "name": "stderr",
     "output_type": "stream",
     "text": [
      "2211-ctest5</dreambig/qingyi/image_chicago/data/images/satellite/zoom15/>:  19%|█▉        | 18950/100000 [4:37:50<19:48:22,  1.14it/s]"
     ]
    },
    {
     "name": "stdout",
     "output_type": "stream",
     "text": [
      "G: 0.58 | D: 1.05 | GP: 0.84 | PL: 0.01\n"
     ]
    },
    {
     "name": "stderr",
     "output_type": "stream",
     "text": [
      "2211-ctest5</dreambig/qingyi/image_chicago/data/images/satellite/zoom15/>:  19%|█▉        | 19000/100000 [4:38:33<19:47:33,  1.14it/s]"
     ]
    },
    {
     "name": "stdout",
     "output_type": "stream",
     "text": [
      "G: 0.97 | D: 1.13 | GP: 0.58 | PL: 0.01\n"
     ]
    },
    {
     "name": "stderr",
     "output_type": "stream",
     "text": [
      "IOPub message rate exceeded.\n",
      "The notebook server will temporarily stop sending output\n",
      "to the client in order to avoid crashing it.\n",
      "To change this limit, set the config variable\n",
      "`--NotebookApp.iopub_msg_rate_limit`.\n",
      "\n",
      "Current values:\n",
      "NotebookApp.iopub_msg_rate_limit=1000.0 (msgs/sec)\n",
      "NotebookApp.rate_limit_window=3.0 (secs)\n",
      "\n",
      "2211-ctest5</dreambig/qingyi/image_chicago/data/images/satellite/zoom15/>:  32%|███▏      | 32250/100000 [7:53:24<16:34:30,  1.14it/s]"
     ]
    },
    {
     "name": "stdout",
     "output_type": "stream",
     "text": [
      "G: 1.53 | D: 1.13 | GP: 0.18 | PL: 0.01\n"
     ]
    },
    {
     "name": "stderr",
     "output_type": "stream",
     "text": [
      "2211-ctest5</dreambig/qingyi/image_chicago/data/images/satellite/zoom15/>:  32%|███▏      | 32300/100000 [7:54:07<16:33:45,  1.14it/s]"
     ]
    },
    {
     "name": "stdout",
     "output_type": "stream",
     "text": [
      "G: 0.73 | D: 1.27 | GP: 0.38 | PL: 0.01\n"
     ]
    },
    {
     "name": "stderr",
     "output_type": "stream",
     "text": [
      "2211-ctest5</dreambig/qingyi/image_chicago/data/images/satellite/zoom15/>:  32%|███▏      | 32350/100000 [7:54:51<16:33:01,  1.14it/s]"
     ]
    },
    {
     "name": "stdout",
     "output_type": "stream",
     "text": [
      "G: 0.79 | D: 0.99 | GP: 0.11 | PL: 0.01\n"
     ]
    },
    {
     "name": "stderr",
     "output_type": "stream",
     "text": [
      "2211-ctest5</dreambig/qingyi/image_chicago/data/images/satellite/zoom15/>:  32%|███▏      | 32400/100000 [7:55:35<16:32:16,  1.14it/s]"
     ]
    },
    {
     "name": "stdout",
     "output_type": "stream",
     "text": [
      "G: 1.29 | D: 1.25 | GP: 0.07 | PL: 0.01\n"
     ]
    },
    {
     "name": "stderr",
     "output_type": "stream",
     "text": [
      "2211-ctest5</dreambig/qingyi/image_chicago/data/images/satellite/zoom15/>:  32%|███▏      | 32450/100000 [7:56:20<16:31:35,  1.14it/s]"
     ]
    },
    {
     "name": "stdout",
     "output_type": "stream",
     "text": [
      "G: 1.18 | D: 0.96 | GP: 0.22 | PL: 0.01\n"
     ]
    },
    {
     "name": "stderr",
     "output_type": "stream",
     "text": [
      "2211-ctest5</dreambig/qingyi/image_chicago/data/images/satellite/zoom15/>:  32%|███▎      | 32500/100000 [7:57:03<16:30:48,  1.14it/s]"
     ]
    },
    {
     "name": "stdout",
     "output_type": "stream",
     "text": [
      "G: 0.58 | D: 1.13 | GP: 0.76 | PL: 0.01\n"
     ]
    },
    {
     "name": "stderr",
     "output_type": "stream",
     "text": [
      "2211-ctest5</dreambig/qingyi/image_chicago/data/images/satellite/zoom15/>:  33%|███▎      | 32550/100000 [7:57:47<16:30:05,  1.14it/s]"
     ]
    },
    {
     "name": "stdout",
     "output_type": "stream",
     "text": [
      "G: 0.13 | D: 1.33 | GP: 0.40 | PL: 0.01\n"
     ]
    },
    {
     "name": "stderr",
     "output_type": "stream",
     "text": [
      "2211-ctest5</dreambig/qingyi/image_chicago/data/images/satellite/zoom15/>:  33%|███▎      | 32600/100000 [7:58:30<16:29:19,  1.14it/s]"
     ]
    },
    {
     "name": "stdout",
     "output_type": "stream",
     "text": [
      "G: 0.40 | D: 1.14 | GP: 0.62 | PL: 0.01\n"
     ]
    },
    {
     "name": "stderr",
     "output_type": "stream",
     "text": [
      "2211-ctest5</dreambig/qingyi/image_chicago/data/images/satellite/zoom15/>:  33%|███▎      | 32650/100000 [7:59:15<16:28:36,  1.14it/s]"
     ]
    },
    {
     "name": "stdout",
     "output_type": "stream",
     "text": [
      "G: 0.70 | D: 1.34 | GP: 0.13 | PL: 0.01\n"
     ]
    },
    {
     "name": "stderr",
     "output_type": "stream",
     "text": [
      "2211-ctest5</dreambig/qingyi/image_chicago/data/images/satellite/zoom15/>:  33%|███▎      | 32700/100000 [7:59:59<16:27:52,  1.14it/s]"
     ]
    },
    {
     "name": "stdout",
     "output_type": "stream",
     "text": [
      "G: 1.56 | D: 0.98 | GP: 0.13 | PL: 0.01\n"
     ]
    },
    {
     "name": "stderr",
     "output_type": "stream",
     "text": [
      "2211-ctest5</dreambig/qingyi/image_chicago/data/images/satellite/zoom15/>:  33%|███▎      | 32750/100000 [8:00:43<16:27:09,  1.14it/s]"
     ]
    },
    {
     "name": "stdout",
     "output_type": "stream",
     "text": [
      "G: 0.29 | D: 1.64 | GP: 0.14 | PL: 0.01\n"
     ]
    },
    {
     "name": "stderr",
     "output_type": "stream",
     "text": [
      "2211-ctest5</dreambig/qingyi/image_chicago/data/images/satellite/zoom15/>:  33%|███▎      | 32800/100000 [8:01:26<16:26:23,  1.14it/s]"
     ]
    },
    {
     "name": "stdout",
     "output_type": "stream",
     "text": [
      "G: 0.45 | D: 1.38 | GP: 0.32 | PL: 0.01\n"
     ]
    },
    {
     "name": "stderr",
     "output_type": "stream",
     "text": [
      "2211-ctest5</dreambig/qingyi/image_chicago/data/images/satellite/zoom15/>:  33%|███▎      | 32850/100000 [8:02:11<16:25:39,  1.14it/s]"
     ]
    },
    {
     "name": "stdout",
     "output_type": "stream",
     "text": [
      "G: 0.99 | D: 1.08 | GP: 0.37 | PL: 0.01\n"
     ]
    },
    {
     "name": "stderr",
     "output_type": "stream",
     "text": [
      "2211-ctest5</dreambig/qingyi/image_chicago/data/images/satellite/zoom15/>:  33%|███▎      | 32900/100000 [8:02:54<16:24:54,  1.14it/s]"
     ]
    },
    {
     "name": "stdout",
     "output_type": "stream",
     "text": [
      "G: 0.83 | D: 1.63 | GP: 0.11 | PL: 0.01\n"
     ]
    },
    {
     "name": "stderr",
     "output_type": "stream",
     "text": [
      "2211-ctest5</dreambig/qingyi/image_chicago/data/images/satellite/zoom15/>:  33%|███▎      | 32950/100000 [8:03:38<16:24:10,  1.14it/s]"
     ]
    },
    {
     "name": "stdout",
     "output_type": "stream",
     "text": [
      "G: 0.74 | D: 1.56 | GP: 1.07 | PL: 0.01\n"
     ]
    },
    {
     "name": "stderr",
     "output_type": "stream",
     "text": [
      "2211-ctest5</dreambig/qingyi/image_chicago/data/images/satellite/zoom15/>:  33%|███▎      | 33000/100000 [8:04:23<16:23:26,  1.14it/s]"
     ]
    },
    {
     "name": "stdout",
     "output_type": "stream",
     "text": [
      "G: 0.50 | D: 1.33 | GP: 0.43 | PL: 0.01\n"
     ]
    },
    {
     "name": "stderr",
     "output_type": "stream",
     "text": [
      "2211-ctest5</dreambig/qingyi/image_chicago/data/images/satellite/zoom15/>:  33%|███▎      | 33050/100000 [8:05:09<16:22:48,  1.14it/s]"
     ]
    },
    {
     "name": "stdout",
     "output_type": "stream",
     "text": [
      "G: 1.98 | D: 1.53 | GP: 0.09 | PL: 0.01\n"
     ]
    },
    {
     "name": "stderr",
     "output_type": "stream",
     "text": [
      "2211-ctest5</dreambig/qingyi/image_chicago/data/images/satellite/zoom15/>:  33%|███▎      | 33100/100000 [8:05:53<16:22:04,  1.14it/s]"
     ]
    },
    {
     "name": "stdout",
     "output_type": "stream",
     "text": [
      "G: 0.67 | D: 1.13 | GP: 1.48 | PL: 0.01\n"
     ]
    },
    {
     "name": "stderr",
     "output_type": "stream",
     "text": [
      "2211-ctest5</dreambig/qingyi/image_chicago/data/images/satellite/zoom15/>:  33%|███▎      | 33150/100000 [8:06:37<16:21:20,  1.14it/s]"
     ]
    },
    {
     "name": "stdout",
     "output_type": "stream",
     "text": [
      "G: 2.71 | D: 1.19 | GP: 0.42 | PL: 0.01\n"
     ]
    },
    {
     "name": "stderr",
     "output_type": "stream",
     "text": [
      "2211-ctest5</dreambig/qingyi/image_chicago/data/images/satellite/zoom15/>:  33%|███▎      | 33200/100000 [8:07:21<16:20:34,  1.14it/s]"
     ]
    },
    {
     "name": "stdout",
     "output_type": "stream",
     "text": [
      "G: 0.61 | D: 1.25 | GP: 1.15 | PL: 0.01\n"
     ]
    },
    {
     "name": "stderr",
     "output_type": "stream",
     "text": [
      "2211-ctest5</dreambig/qingyi/image_chicago/data/images/satellite/zoom15/>:  33%|███▎      | 33250/100000 [8:08:05<16:19:52,  1.14it/s]"
     ]
    },
    {
     "name": "stdout",
     "output_type": "stream",
     "text": [
      "G: 0.27 | D: 1.12 | GP: 0.20 | PL: 0.01\n"
     ]
    },
    {
     "name": "stderr",
     "output_type": "stream",
     "text": [
      "2211-ctest5</dreambig/qingyi/image_chicago/data/images/satellite/zoom15/>:  33%|███▎      | 33300/100000 [8:08:49<16:19:07,  1.14it/s]"
     ]
    },
    {
     "name": "stdout",
     "output_type": "stream",
     "text": [
      "G: 1.44 | D: 1.47 | GP: 0.45 | PL: 0.01\n"
     ]
    },
    {
     "name": "stderr",
     "output_type": "stream",
     "text": [
      "2211-ctest5</dreambig/qingyi/image_chicago/data/images/satellite/zoom15/>:  33%|███▎      | 33350/100000 [8:09:34<16:18:24,  1.14it/s]"
     ]
    },
    {
     "name": "stdout",
     "output_type": "stream",
     "text": [
      "G: 1.16 | D: 0.85 | GP: 0.07 | PL: 0.01\n"
     ]
    },
    {
     "name": "stderr",
     "output_type": "stream",
     "text": [
      "2211-ctest5</dreambig/qingyi/image_chicago/data/images/satellite/zoom15/>:  33%|███▎      | 33400/100000 [8:10:17<16:17:38,  1.14it/s]"
     ]
    },
    {
     "name": "stdout",
     "output_type": "stream",
     "text": [
      "G: 0.75 | D: 1.75 | GP: 0.09 | PL: 0.01\n"
     ]
    },
    {
     "name": "stderr",
     "output_type": "stream",
     "text": [
      "2211-ctest5</dreambig/qingyi/image_chicago/data/images/satellite/zoom15/>:  33%|███▎      | 33450/100000 [8:11:01<16:16:55,  1.14it/s]"
     ]
    },
    {
     "name": "stdout",
     "output_type": "stream",
     "text": [
      "G: 1.35 | D: 1.34 | GP: 0.52 | PL: 0.01\n"
     ]
    },
    {
     "name": "stderr",
     "output_type": "stream",
     "text": [
      "2211-ctest5</dreambig/qingyi/image_chicago/data/images/satellite/zoom15/>:  34%|███▎      | 33500/100000 [8:11:44<16:16:09,  1.14it/s]"
     ]
    },
    {
     "name": "stdout",
     "output_type": "stream",
     "text": [
      "G: 0.47 | D: 1.06 | GP: 0.66 | PL: 0.01\n"
     ]
    },
    {
     "name": "stderr",
     "output_type": "stream",
     "text": [
      "2211-ctest5</dreambig/qingyi/image_chicago/data/images/satellite/zoom15/>:  34%|███▎      | 33550/100000 [8:12:29<16:15:26,  1.14it/s]"
     ]
    },
    {
     "name": "stdout",
     "output_type": "stream",
     "text": [
      "G: 1.16 | D: 0.95 | GP: 0.08 | PL: 0.01\n"
     ]
    },
    {
     "name": "stderr",
     "output_type": "stream",
     "text": [
      "2211-ctest5</dreambig/qingyi/image_chicago/data/images/satellite/zoom15/>:  34%|███▎      | 33600/100000 [8:13:13<16:14:42,  1.14it/s]"
     ]
    },
    {
     "name": "stdout",
     "output_type": "stream",
     "text": [
      "G: -0.02 | D: 1.25 | GP: 1.01 | PL: 0.01\n"
     ]
    },
    {
     "name": "stderr",
     "output_type": "stream",
     "text": [
      "2211-ctest5</dreambig/qingyi/image_chicago/data/images/satellite/zoom15/>:  34%|███▎      | 33650/100000 [8:13:57<16:13:59,  1.14it/s]"
     ]
    },
    {
     "name": "stdout",
     "output_type": "stream",
     "text": [
      "G: 1.79 | D: 1.31 | GP: 0.07 | PL: 0.01\n"
     ]
    },
    {
     "name": "stderr",
     "output_type": "stream",
     "text": [
      "2211-ctest5</dreambig/qingyi/image_chicago/data/images/satellite/zoom15/>:  34%|███▎      | 33700/100000 [8:14:41<16:13:13,  1.14it/s]"
     ]
    },
    {
     "name": "stdout",
     "output_type": "stream",
     "text": [
      "G: 1.49 | D: 1.22 | GP: 0.38 | PL: 0.01\n"
     ]
    },
    {
     "name": "stderr",
     "output_type": "stream",
     "text": [
      "2211-ctest5</dreambig/qingyi/image_chicago/data/images/satellite/zoom15/>:  34%|███▍      | 33750/100000 [8:15:25<16:12:30,  1.14it/s]"
     ]
    },
    {
     "name": "stdout",
     "output_type": "stream",
     "text": [
      "G: 1.66 | D: 1.03 | GP: 0.57 | PL: 0.01\n"
     ]
    },
    {
     "name": "stderr",
     "output_type": "stream",
     "text": [
      "2211-ctest5</dreambig/qingyi/image_chicago/data/images/satellite/zoom15/>:  34%|███▍      | 33800/100000 [8:16:09<16:11:45,  1.14it/s]"
     ]
    },
    {
     "name": "stdout",
     "output_type": "stream",
     "text": [
      "G: 1.61 | D: 1.46 | GP: 0.07 | PL: 0.01\n"
     ]
    },
    {
     "name": "stderr",
     "output_type": "stream",
     "text": [
      "2211-ctest5</dreambig/qingyi/image_chicago/data/images/satellite/zoom15/>:  34%|███▍      | 33850/100000 [8:16:53<16:11:01,  1.14it/s]"
     ]
    },
    {
     "name": "stdout",
     "output_type": "stream",
     "text": [
      "G: -0.27 | D: 1.06 | GP: 0.02 | PL: 0.01\n"
     ]
    },
    {
     "name": "stderr",
     "output_type": "stream",
     "text": [
      "2211-ctest5</dreambig/qingyi/image_chicago/data/images/satellite/zoom15/>:  34%|███▍      | 33900/100000 [8:17:37<16:10:17,  1.14it/s]"
     ]
    },
    {
     "name": "stdout",
     "output_type": "stream",
     "text": [
      "G: 0.62 | D: 1.13 | GP: 0.10 | PL: 0.01\n"
     ]
    },
    {
     "name": "stderr",
     "output_type": "stream",
     "text": [
      "2211-ctest5</dreambig/qingyi/image_chicago/data/images/satellite/zoom15/>:  34%|███▍      | 33950/100000 [8:18:21<16:09:33,  1.14it/s]"
     ]
    },
    {
     "name": "stdout",
     "output_type": "stream",
     "text": [
      "G: 1.05 | D: 1.11 | GP: 0.32 | PL: 0.01\n"
     ]
    },
    {
     "name": "stderr",
     "output_type": "stream",
     "text": [
      "2211-ctest5</dreambig/qingyi/image_chicago/data/images/satellite/zoom15/>:  34%|███▍      | 34000/100000 [8:19:04<16:08:48,  1.14it/s]"
     ]
    },
    {
     "name": "stdout",
     "output_type": "stream",
     "text": [
      "G: 1.18 | D: 1.15 | GP: 0.77 | PL: 0.01\n"
     ]
    },
    {
     "name": "stderr",
     "output_type": "stream",
     "text": [
      "2211-ctest5</dreambig/qingyi/image_chicago/data/images/satellite/zoom15/>:  34%|███▍      | 34050/100000 [8:19:51<16:08:10,  1.14it/s]"
     ]
    },
    {
     "name": "stdout",
     "output_type": "stream",
     "text": [
      "G: 0.39 | D: 1.25 | GP: 0.14 | PL: 0.01\n"
     ]
    },
    {
     "name": "stderr",
     "output_type": "stream",
     "text": [
      "2211-ctest5</dreambig/qingyi/image_chicago/data/images/satellite/zoom15/>:  34%|███▍      | 34100/100000 [8:20:34<16:07:23,  1.14it/s]"
     ]
    },
    {
     "name": "stdout",
     "output_type": "stream",
     "text": [
      "G: 0.54 | D: 1.22 | GP: 0.28 | PL: 0.01\n"
     ]
    },
    {
     "name": "stderr",
     "output_type": "stream",
     "text": [
      "2211-ctest5</dreambig/qingyi/image_chicago/data/images/satellite/zoom15/>:  34%|███▍      | 34150/100000 [8:21:19<16:06:41,  1.14it/s]"
     ]
    },
    {
     "name": "stdout",
     "output_type": "stream",
     "text": [
      "G: 0.41 | D: 1.16 | GP: 0.84 | PL: 0.01\n"
     ]
    },
    {
     "name": "stderr",
     "output_type": "stream",
     "text": [
      "2211-ctest5</dreambig/qingyi/image_chicago/data/images/satellite/zoom15/>:  34%|███▍      | 34200/100000 [8:22:03<16:05:57,  1.14it/s]"
     ]
    },
    {
     "name": "stdout",
     "output_type": "stream",
     "text": [
      "G: -0.74 | D: 1.26 | GP: 0.49 | PL: 0.01\n"
     ]
    },
    {
     "name": "stderr",
     "output_type": "stream",
     "text": [
      "2211-ctest5</dreambig/qingyi/image_chicago/data/images/satellite/zoom15/>:  34%|███▍      | 34250/100000 [8:22:48<16:05:14,  1.14it/s]"
     ]
    },
    {
     "name": "stdout",
     "output_type": "stream",
     "text": [
      "G: 1.21 | D: 1.16 | GP: 0.82 | PL: 0.01\n"
     ]
    },
    {
     "name": "stderr",
     "output_type": "stream",
     "text": [
      "2211-ctest5</dreambig/qingyi/image_chicago/data/images/satellite/zoom15/>:  34%|███▍      | 34300/100000 [8:23:31<16:04:28,  1.14it/s]"
     ]
    },
    {
     "name": "stdout",
     "output_type": "stream",
     "text": [
      "G: 2.36 | D: 1.15 | GP: 0.52 | PL: 0.01\n"
     ]
    },
    {
     "name": "stderr",
     "output_type": "stream",
     "text": [
      "2211-ctest5</dreambig/qingyi/image_chicago/data/images/satellite/zoom15/>:  34%|███▍      | 34350/100000 [8:24:16<16:03:45,  1.14it/s]"
     ]
    },
    {
     "name": "stdout",
     "output_type": "stream",
     "text": [
      "G: 0.80 | D: 0.95 | GP: 0.35 | PL: 0.01\n"
     ]
    },
    {
     "name": "stderr",
     "output_type": "stream",
     "text": [
      "2211-ctest5</dreambig/qingyi/image_chicago/data/images/satellite/zoom15/>:  34%|███▍      | 34400/100000 [8:24:58<16:02:59,  1.14it/s]"
     ]
    },
    {
     "name": "stdout",
     "output_type": "stream",
     "text": [
      "G: -0.28 | D: 1.53 | GP: 0.84 | PL: 0.01\n"
     ]
    },
    {
     "name": "stderr",
     "output_type": "stream",
     "text": [
      "2211-ctest5</dreambig/qingyi/image_chicago/data/images/satellite/zoom15/>:  34%|███▍      | 34450/100000 [8:25:43<16:02:16,  1.14it/s]"
     ]
    },
    {
     "name": "stdout",
     "output_type": "stream",
     "text": [
      "G: 1.68 | D: 1.58 | GP: 0.13 | PL: 0.01\n"
     ]
    },
    {
     "name": "stderr",
     "output_type": "stream",
     "text": [
      "2211-ctest5</dreambig/qingyi/image_chicago/data/images/satellite/zoom15/>:  34%|███▍      | 34500/100000 [8:26:28<16:01:33,  1.14it/s]"
     ]
    },
    {
     "name": "stdout",
     "output_type": "stream",
     "text": [
      "G: 0.59 | D: 1.05 | GP: 1.14 | PL: 0.01\n"
     ]
    },
    {
     "name": "stderr",
     "output_type": "stream",
     "text": [
      "2211-ctest5</dreambig/qingyi/image_chicago/data/images/satellite/zoom15/>:  35%|███▍      | 34550/100000 [8:27:12<16:00:49,  1.14it/s]"
     ]
    },
    {
     "name": "stdout",
     "output_type": "stream",
     "text": [
      "G: 0.44 | D: 1.73 | GP: 1.39 | PL: 0.01\n"
     ]
    },
    {
     "name": "stderr",
     "output_type": "stream",
     "text": [
      "2211-ctest5</dreambig/qingyi/image_chicago/data/images/satellite/zoom15/>:  35%|███▍      | 34600/100000 [8:27:55<16:00:04,  1.14it/s]"
     ]
    },
    {
     "name": "stdout",
     "output_type": "stream",
     "text": [
      "G: 0.61 | D: 1.44 | GP: 0.55 | PL: 0.01\n"
     ]
    },
    {
     "name": "stderr",
     "output_type": "stream",
     "text": [
      "2211-ctest5</dreambig/qingyi/image_chicago/data/images/satellite/zoom15/>:  35%|███▍      | 34650/100000 [8:28:39<15:59:20,  1.14it/s]"
     ]
    },
    {
     "name": "stdout",
     "output_type": "stream",
     "text": [
      "G: 0.86 | D: 0.99 | GP: 0.36 | PL: 0.01\n"
     ]
    },
    {
     "name": "stderr",
     "output_type": "stream",
     "text": [
      "2211-ctest5</dreambig/qingyi/image_chicago/data/images/satellite/zoom15/>:  35%|███▍      | 34700/100000 [8:29:22<15:58:34,  1.14it/s]"
     ]
    },
    {
     "name": "stdout",
     "output_type": "stream",
     "text": [
      "G: -1.64 | D: 1.48 | GP: 0.70 | PL: 0.01\n"
     ]
    },
    {
     "name": "stderr",
     "output_type": "stream",
     "text": [
      "2211-ctest5</dreambig/qingyi/image_chicago/data/images/satellite/zoom15/>:  35%|███▍      | 34750/100000 [8:30:07<15:57:51,  1.14it/s]"
     ]
    },
    {
     "name": "stdout",
     "output_type": "stream",
     "text": [
      "G: 0.04 | D: 1.54 | GP: 1.19 | PL: 0.01\n"
     ]
    },
    {
     "name": "stderr",
     "output_type": "stream",
     "text": [
      "2211-ctest5</dreambig/qingyi/image_chicago/data/images/satellite/zoom15/>:  35%|███▍      | 34800/100000 [8:30:51<15:57:07,  1.14it/s]"
     ]
    },
    {
     "name": "stdout",
     "output_type": "stream",
     "text": [
      "G: 0.52 | D: 1.16 | GP: 0.34 | PL: 0.01\n"
     ]
    },
    {
     "name": "stderr",
     "output_type": "stream",
     "text": [
      "2211-ctest5</dreambig/qingyi/image_chicago/data/images/satellite/zoom15/>:  35%|███▍      | 34850/100000 [8:31:36<15:56:24,  1.14it/s]"
     ]
    },
    {
     "name": "stdout",
     "output_type": "stream",
     "text": [
      "G: 1.30 | D: 0.97 | GP: 0.16 | PL: 0.01\n"
     ]
    },
    {
     "name": "stderr",
     "output_type": "stream",
     "text": [
      "2211-ctest5</dreambig/qingyi/image_chicago/data/images/satellite/zoom15/>:  35%|███▍      | 34900/100000 [8:32:18<15:55:38,  1.14it/s]"
     ]
    },
    {
     "name": "stdout",
     "output_type": "stream",
     "text": [
      "G: 1.21 | D: 1.26 | GP: 1.42 | PL: 0.01\n"
     ]
    },
    {
     "name": "stderr",
     "output_type": "stream",
     "text": [
      "2211-ctest5</dreambig/qingyi/image_chicago/data/images/satellite/zoom15/>:  35%|███▍      | 34950/100000 [8:33:03<15:54:55,  1.14it/s]"
     ]
    },
    {
     "name": "stdout",
     "output_type": "stream",
     "text": [
      "G: 1.05 | D: 1.46 | GP: 3.13 | PL: 0.01\n"
     ]
    },
    {
     "name": "stderr",
     "output_type": "stream",
     "text": [
      "2211-ctest5</dreambig/qingyi/image_chicago/data/images/satellite/zoom15/>:  35%|███▌      | 35000/100000 [8:33:46<15:54:08,  1.14it/s]"
     ]
    },
    {
     "name": "stdout",
     "output_type": "stream",
     "text": [
      "G: 0.85 | D: 1.49 | GP: 1.24 | PL: 0.01\n"
     ]
    },
    {
     "name": "stderr",
     "output_type": "stream",
     "text": [
      "2211-ctest5</dreambig/qingyi/image_chicago/data/images/satellite/zoom15/>:  35%|███▌      | 35050/100000 [8:34:33<15:53:31,  1.14it/s]"
     ]
    },
    {
     "name": "stdout",
     "output_type": "stream",
     "text": [
      "G: 0.24 | D: 1.31 | GP: 1.24 | PL: 0.01\n"
     ]
    },
    {
     "name": "stderr",
     "output_type": "stream",
     "text": [
      "2211-ctest5</dreambig/qingyi/image_chicago/data/images/satellite/zoom15/>:  35%|███▌      | 35100/100000 [8:35:17<15:52:46,  1.14it/s]"
     ]
    },
    {
     "name": "stdout",
     "output_type": "stream",
     "text": [
      "G: 1.22 | D: 0.76 | GP: 0.52 | PL: 0.01\n"
     ]
    },
    {
     "name": "stderr",
     "output_type": "stream",
     "text": [
      "2211-ctest5</dreambig/qingyi/image_chicago/data/images/satellite/zoom15/>:  35%|███▌      | 35150/100000 [8:36:02<15:52:03,  1.14it/s]"
     ]
    },
    {
     "name": "stdout",
     "output_type": "stream",
     "text": [
      "G: 1.35 | D: 0.97 | GP: 0.22 | PL: 0.01\n"
     ]
    },
    {
     "name": "stderr",
     "output_type": "stream",
     "text": [
      "2211-ctest5</dreambig/qingyi/image_chicago/data/images/satellite/zoom15/>:  35%|███▌      | 35181/100000 [8:36:29<15:51:36,  1.14it/s]IOPub message rate exceeded.\n",
      "The notebook server will temporarily stop sending output\n",
      "to the client in order to avoid crashing it.\n",
      "To change this limit, set the config variable\n",
      "`--NotebookApp.iopub_msg_rate_limit`.\n",
      "\n",
      "Current values:\n",
      "NotebookApp.iopub_msg_rate_limit=1000.0 (msgs/sec)\n",
      "NotebookApp.rate_limit_window=3.0 (secs)\n",
      "\n",
      "2211-ctest5</dreambig/qingyi/image_chicago/data/images/satellite/zoom15/>:  45%|████▌     | 45350/100000 [11:06:00<13:22:35,  1.13it/s]"
     ]
    },
    {
     "name": "stdout",
     "output_type": "stream",
     "text": [
      "G: 0.33 | D: 1.31 | GP: 0.23 | PL: 0.01\n"
     ]
    },
    {
     "name": "stderr",
     "output_type": "stream",
     "text": [
      "2211-ctest5</dreambig/qingyi/image_chicago/data/images/satellite/zoom15/>:  45%|████▌     | 45400/100000 [11:06:44<13:21:51,  1.13it/s]"
     ]
    },
    {
     "name": "stdout",
     "output_type": "stream",
     "text": [
      "G: -0.44 | D: 0.96 | GP: 0.20 | PL: 0.01\n"
     ]
    },
    {
     "name": "stderr",
     "output_type": "stream",
     "text": [
      "2211-ctest5</dreambig/qingyi/image_chicago/data/images/satellite/zoom15/>:  45%|████▌     | 45450/100000 [11:07:29<13:21:08,  1.13it/s]"
     ]
    },
    {
     "name": "stdout",
     "output_type": "stream",
     "text": [
      "G: 0.69 | D: 1.09 | GP: 0.52 | PL: 0.01\n"
     ]
    },
    {
     "name": "stderr",
     "output_type": "stream",
     "text": [
      "2211-ctest5</dreambig/qingyi/image_chicago/data/images/satellite/zoom15/>:  46%|████▌     | 45500/100000 [11:08:12<13:20:22,  1.13it/s]"
     ]
    },
    {
     "name": "stdout",
     "output_type": "stream",
     "text": [
      "G: 1.14 | D: 1.08 | GP: 0.19 | PL: 0.01\n"
     ]
    },
    {
     "name": "stderr",
     "output_type": "stream",
     "text": [
      "2211-ctest5</dreambig/qingyi/image_chicago/data/images/satellite/zoom15/>:  46%|████▌     | 45550/100000 [11:08:57<13:19:39,  1.13it/s]"
     ]
    },
    {
     "name": "stdout",
     "output_type": "stream",
     "text": [
      "G: 0.17 | D: 1.11 | GP: 1.20 | PL: 0.01\n"
     ]
    },
    {
     "name": "stderr",
     "output_type": "stream",
     "text": [
      "2211-ctest5</dreambig/qingyi/image_chicago/data/images/satellite/zoom15/>:  46%|████▌     | 45600/100000 [11:09:40<13:18:54,  1.13it/s]"
     ]
    },
    {
     "name": "stdout",
     "output_type": "stream",
     "text": [
      "G: 0.67 | D: 0.96 | GP: 0.28 | PL: 0.01\n"
     ]
    },
    {
     "name": "stderr",
     "output_type": "stream",
     "text": [
      "2211-ctest5</dreambig/qingyi/image_chicago/data/images/satellite/zoom15/>:  46%|████▌     | 45650/100000 [11:10:25<13:18:11,  1.13it/s]"
     ]
    },
    {
     "name": "stdout",
     "output_type": "stream",
     "text": [
      "G: 1.21 | D: 1.05 | GP: 0.15 | PL: 0.01\n"
     ]
    },
    {
     "name": "stderr",
     "output_type": "stream",
     "text": [
      "2211-ctest5</dreambig/qingyi/image_chicago/data/images/satellite/zoom15/>:  46%|████▌     | 45700/100000 [11:11:09<13:17:27,  1.13it/s]"
     ]
    },
    {
     "name": "stdout",
     "output_type": "stream",
     "text": [
      "G: 0.47 | D: 1.22 | GP: 2.33 | PL: 0.02\n"
     ]
    },
    {
     "name": "stderr",
     "output_type": "stream",
     "text": [
      "2211-ctest5</dreambig/qingyi/image_chicago/data/images/satellite/zoom15/>:  46%|████▌     | 45750/100000 [11:11:53<13:16:43,  1.13it/s]"
     ]
    },
    {
     "name": "stdout",
     "output_type": "stream",
     "text": [
      "G: 0.87 | D: 1.63 | GP: 0.25 | PL: 0.02\n"
     ]
    },
    {
     "name": "stderr",
     "output_type": "stream",
     "text": [
      "2211-ctest5</dreambig/qingyi/image_chicago/data/images/satellite/zoom15/>:  46%|████▌     | 45800/100000 [11:12:37<13:15:58,  1.13it/s]"
     ]
    },
    {
     "name": "stdout",
     "output_type": "stream",
     "text": [
      "G: -0.66 | D: 1.24 | GP: 0.43 | PL: 0.02\n"
     ]
    },
    {
     "name": "stderr",
     "output_type": "stream",
     "text": [
      "2211-ctest5</dreambig/qingyi/image_chicago/data/images/satellite/zoom15/>:  46%|████▌     | 45850/100000 [11:13:21<13:15:14,  1.13it/s]"
     ]
    },
    {
     "name": "stdout",
     "output_type": "stream",
     "text": [
      "G: -0.16 | D: 1.38 | GP: 0.26 | PL: 0.02\n"
     ]
    },
    {
     "name": "stderr",
     "output_type": "stream",
     "text": [
      "2211-ctest5</dreambig/qingyi/image_chicago/data/images/satellite/zoom15/>:  46%|████▌     | 45900/100000 [11:14:04<13:14:29,  1.13it/s]"
     ]
    },
    {
     "name": "stdout",
     "output_type": "stream",
     "text": [
      "G: 0.69 | D: 0.96 | GP: 0.63 | PL: 0.02\n"
     ]
    },
    {
     "name": "stderr",
     "output_type": "stream",
     "text": [
      "2211-ctest5</dreambig/qingyi/image_chicago/data/images/satellite/zoom15/>:  46%|████▌     | 45950/100000 [11:14:49<13:13:46,  1.13it/s]"
     ]
    },
    {
     "name": "stdout",
     "output_type": "stream",
     "text": [
      "G: 0.35 | D: 1.13 | GP: 0.17 | PL: 0.02\n"
     ]
    },
    {
     "name": "stderr",
     "output_type": "stream",
     "text": [
      "2211-ctest5</dreambig/qingyi/image_chicago/data/images/satellite/zoom15/>:  46%|████▌     | 46000/100000 [11:15:33<13:13:02,  1.13it/s]"
     ]
    },
    {
     "name": "stdout",
     "output_type": "stream",
     "text": [
      "G: 0.66 | D: 1.03 | GP: 0.14 | PL: 0.02\n"
     ]
    },
    {
     "name": "stderr",
     "output_type": "stream",
     "text": [
      "2211-ctest5</dreambig/qingyi/image_chicago/data/images/satellite/zoom15/>:  46%|████▌     | 46050/100000 [11:16:20<13:12:22,  1.13it/s]"
     ]
    },
    {
     "name": "stdout",
     "output_type": "stream",
     "text": [
      "G: 0.19 | D: 1.07 | GP: 0.25 | PL: 0.02\n"
     ]
    },
    {
     "name": "stderr",
     "output_type": "stream",
     "text": [
      "2211-ctest5</dreambig/qingyi/image_chicago/data/images/satellite/zoom15/>:  46%|████▌     | 46100/100000 [11:17:03<13:11:37,  1.13it/s]"
     ]
    },
    {
     "name": "stdout",
     "output_type": "stream",
     "text": [
      "G: 0.39 | D: 0.99 | GP: 0.07 | PL: 0.02\n"
     ]
    },
    {
     "name": "stderr",
     "output_type": "stream",
     "text": [
      "2211-ctest5</dreambig/qingyi/image_chicago/data/images/satellite/zoom15/>:  46%|████▌     | 46150/100000 [11:17:48<13:10:53,  1.13it/s]"
     ]
    },
    {
     "name": "stdout",
     "output_type": "stream",
     "text": [
      "G: 0.44 | D: 1.03 | GP: 0.91 | PL: 0.02\n"
     ]
    },
    {
     "name": "stderr",
     "output_type": "stream",
     "text": [
      "2211-ctest5</dreambig/qingyi/image_chicago/data/images/satellite/zoom15/>:  46%|████▌     | 46200/100000 [11:18:31<13:10:08,  1.13it/s]"
     ]
    },
    {
     "name": "stdout",
     "output_type": "stream",
     "text": [
      "G: 0.58 | D: 1.37 | GP: 0.45 | PL: 0.02\n"
     ]
    },
    {
     "name": "stderr",
     "output_type": "stream",
     "text": [
      "2211-ctest5</dreambig/qingyi/image_chicago/data/images/satellite/zoom15/>:  46%|████▋     | 46250/100000 [11:19:17<13:09:26,  1.13it/s]"
     ]
    },
    {
     "name": "stdout",
     "output_type": "stream",
     "text": [
      "G: 0.77 | D: 1.12 | GP: 0.35 | PL: 0.02\n"
     ]
    },
    {
     "name": "stderr",
     "output_type": "stream",
     "text": [
      "2211-ctest5</dreambig/qingyi/image_chicago/data/images/satellite/zoom15/>:  46%|████▋     | 46300/100000 [11:20:00<13:08:41,  1.13it/s]"
     ]
    },
    {
     "name": "stdout",
     "output_type": "stream",
     "text": [
      "G: 1.30 | D: 1.22 | GP: 1.39 | PL: 0.02\n"
     ]
    },
    {
     "name": "stderr",
     "output_type": "stream",
     "text": [
      "2211-ctest5</dreambig/qingyi/image_chicago/data/images/satellite/zoom15/>:  46%|████▋     | 46350/100000 [11:20:44<13:07:57,  1.13it/s]"
     ]
    },
    {
     "name": "stdout",
     "output_type": "stream",
     "text": [
      "G: 0.43 | D: 0.87 | GP: 0.33 | PL: 0.02\n"
     ]
    },
    {
     "name": "stderr",
     "output_type": "stream",
     "text": [
      "2211-ctest5</dreambig/qingyi/image_chicago/data/images/satellite/zoom15/>:  46%|████▋     | 46400/100000 [11:21:27<13:07:12,  1.13it/s]"
     ]
    },
    {
     "name": "stdout",
     "output_type": "stream",
     "text": [
      "G: 2.10 | D: 1.06 | GP: 0.22 | PL: 0.02\n"
     ]
    },
    {
     "name": "stderr",
     "output_type": "stream",
     "text": [
      "2211-ctest5</dreambig/qingyi/image_chicago/data/images/satellite/zoom15/>:  46%|████▋     | 46450/100000 [11:22:12<13:06:28,  1.13it/s]"
     ]
    },
    {
     "name": "stdout",
     "output_type": "stream",
     "text": [
      "G: 1.02 | D: 1.20 | GP: 0.12 | PL: 0.02\n"
     ]
    },
    {
     "name": "stderr",
     "output_type": "stream",
     "text": [
      "2211-ctest5</dreambig/qingyi/image_chicago/data/images/satellite/zoom15/>:  46%|████▋     | 46500/100000 [11:22:55<13:05:44,  1.13it/s]"
     ]
    },
    {
     "name": "stdout",
     "output_type": "stream",
     "text": [
      "G: 1.11 | D: 1.05 | GP: 0.29 | PL: 0.02\n"
     ]
    },
    {
     "name": "stderr",
     "output_type": "stream",
     "text": [
      "2211-ctest5</dreambig/qingyi/image_chicago/data/images/satellite/zoom15/>:  47%|████▋     | 46550/100000 [11:23:40<13:05:01,  1.13it/s]"
     ]
    },
    {
     "name": "stdout",
     "output_type": "stream",
     "text": [
      "G: 0.80 | D: 0.88 | GP: 0.36 | PL: 0.02\n"
     ]
    },
    {
     "name": "stderr",
     "output_type": "stream",
     "text": [
      "2211-ctest5</dreambig/qingyi/image_chicago/data/images/satellite/zoom15/>:  47%|████▋     | 46600/100000 [11:24:23<13:04:16,  1.13it/s]"
     ]
    },
    {
     "name": "stdout",
     "output_type": "stream",
     "text": [
      "G: 0.75 | D: 2.41 | GP: 0.15 | PL: 0.02\n"
     ]
    },
    {
     "name": "stderr",
     "output_type": "stream",
     "text": [
      "2211-ctest5</dreambig/qingyi/image_chicago/data/images/satellite/zoom15/>:  47%|████▋     | 46650/100000 [11:25:08<13:03:32,  1.13it/s]"
     ]
    },
    {
     "name": "stdout",
     "output_type": "stream",
     "text": [
      "G: 0.80 | D: 1.09 | GP: 1.09 | PL: 0.02\n"
     ]
    },
    {
     "name": "stderr",
     "output_type": "stream",
     "text": [
      "2211-ctest5</dreambig/qingyi/image_chicago/data/images/satellite/zoom15/>:  47%|████▋     | 46700/100000 [11:25:51<13:02:47,  1.13it/s]"
     ]
    },
    {
     "name": "stdout",
     "output_type": "stream",
     "text": [
      "G: 0.82 | D: 1.14 | GP: 0.36 | PL: 0.02\n"
     ]
    },
    {
     "name": "stderr",
     "output_type": "stream",
     "text": [
      "2211-ctest5</dreambig/qingyi/image_chicago/data/images/satellite/zoom15/>:  47%|████▋     | 46750/100000 [11:26:35<13:02:03,  1.13it/s]"
     ]
    },
    {
     "name": "stdout",
     "output_type": "stream",
     "text": [
      "G: 0.52 | D: 1.11 | GP: 0.55 | PL: 0.02\n"
     ]
    },
    {
     "name": "stderr",
     "output_type": "stream",
     "text": [
      "2211-ctest5</dreambig/qingyi/image_chicago/data/images/satellite/zoom15/>:  47%|████▋     | 46800/100000 [11:27:19<13:01:18,  1.13it/s]"
     ]
    },
    {
     "name": "stdout",
     "output_type": "stream",
     "text": [
      "G: 0.79 | D: 1.05 | GP: 0.25 | PL: 0.02\n"
     ]
    },
    {
     "name": "stderr",
     "output_type": "stream",
     "text": [
      "2211-ctest5</dreambig/qingyi/image_chicago/data/images/satellite/zoom15/>:  47%|████▋     | 46850/100000 [11:28:04<13:00:36,  1.13it/s]"
     ]
    },
    {
     "name": "stdout",
     "output_type": "stream",
     "text": [
      "G: -0.33 | D: 0.88 | GP: 0.12 | PL: 0.02\n"
     ]
    },
    {
     "name": "stderr",
     "output_type": "stream",
     "text": [
      "2211-ctest5</dreambig/qingyi/image_chicago/data/images/satellite/zoom15/>:  47%|████▋     | 46900/100000 [11:28:47<12:59:50,  1.13it/s]"
     ]
    },
    {
     "name": "stdout",
     "output_type": "stream",
     "text": [
      "G: 2.69 | D: 1.05 | GP: 0.13 | PL: 0.02\n"
     ]
    },
    {
     "name": "stderr",
     "output_type": "stream",
     "text": [
      "2211-ctest5</dreambig/qingyi/image_chicago/data/images/satellite/zoom15/>:  47%|████▋     | 46950/100000 [11:29:32<12:59:07,  1.13it/s]"
     ]
    },
    {
     "name": "stdout",
     "output_type": "stream",
     "text": [
      "G: 0.46 | D: 1.40 | GP: 1.97 | PL: 0.02\n"
     ]
    },
    {
     "name": "stderr",
     "output_type": "stream",
     "text": [
      "2211-ctest5</dreambig/qingyi/image_chicago/data/images/satellite/zoom15/>:  47%|████▋     | 47000/100000 [11:30:15<12:58:23,  1.13it/s]"
     ]
    },
    {
     "name": "stdout",
     "output_type": "stream",
     "text": [
      "G: 1.51 | D: 1.82 | GP: 0.44 | PL: 0.02\n"
     ]
    },
    {
     "name": "stderr",
     "output_type": "stream",
     "text": [
      "2211-ctest5</dreambig/qingyi/image_chicago/data/images/satellite/zoom15/>:  47%|████▋     | 47050/100000 [11:31:03<12:57:42,  1.13it/s]"
     ]
    },
    {
     "name": "stdout",
     "output_type": "stream",
     "text": [
      "G: 0.97 | D: 1.45 | GP: 0.21 | PL: 0.02\n"
     ]
    },
    {
     "name": "stderr",
     "output_type": "stream",
     "text": [
      "2211-ctest5</dreambig/qingyi/image_chicago/data/images/satellite/zoom15/>:  47%|████▋     | 47100/100000 [11:31:46<12:56:57,  1.13it/s]"
     ]
    },
    {
     "name": "stdout",
     "output_type": "stream",
     "text": [
      "G: 2.11 | D: 1.02 | GP: 0.84 | PL: 0.02\n"
     ]
    },
    {
     "name": "stderr",
     "output_type": "stream",
     "text": [
      "2211-ctest5</dreambig/qingyi/image_chicago/data/images/satellite/zoom15/>:  47%|████▋     | 47150/100000 [11:32:31<12:56:15,  1.13it/s]"
     ]
    },
    {
     "name": "stdout",
     "output_type": "stream",
     "text": [
      "G: 0.85 | D: 1.08 | GP: 0.16 | PL: 0.02\n"
     ]
    },
    {
     "name": "stderr",
     "output_type": "stream",
     "text": [
      "2211-ctest5</dreambig/qingyi/image_chicago/data/images/satellite/zoom15/>:  47%|████▋     | 47200/100000 [11:33:14<12:55:29,  1.13it/s]"
     ]
    },
    {
     "name": "stdout",
     "output_type": "stream",
     "text": [
      "G: 1.45 | D: 0.88 | GP: 0.72 | PL: 0.02\n"
     ]
    },
    {
     "name": "stderr",
     "output_type": "stream",
     "text": [
      "2211-ctest5</dreambig/qingyi/image_chicago/data/images/satellite/zoom15/>:  47%|████▋     | 47250/100000 [11:33:59<12:54:46,  1.13it/s]"
     ]
    },
    {
     "name": "stdout",
     "output_type": "stream",
     "text": [
      "G: 0.19 | D: 0.96 | GP: 0.57 | PL: 0.02\n"
     ]
    },
    {
     "name": "stderr",
     "output_type": "stream",
     "text": [
      "2211-ctest5</dreambig/qingyi/image_chicago/data/images/satellite/zoom15/>:  47%|████▋     | 47300/100000 [11:34:42<12:54:01,  1.13it/s]"
     ]
    },
    {
     "name": "stdout",
     "output_type": "stream",
     "text": [
      "G: 0.12 | D: 1.63 | GP: 0.33 | PL: 0.02\n"
     ]
    },
    {
     "name": "stderr",
     "output_type": "stream",
     "text": [
      "2211-ctest5</dreambig/qingyi/image_chicago/data/images/satellite/zoom15/>:  47%|████▋     | 47350/100000 [11:35:27<12:53:17,  1.13it/s]"
     ]
    },
    {
     "name": "stdout",
     "output_type": "stream",
     "text": [
      "G: 0.94 | D: 1.01 | GP: 0.99 | PL: 0.02\n"
     ]
    },
    {
     "name": "stderr",
     "output_type": "stream",
     "text": [
      "2211-ctest5</dreambig/qingyi/image_chicago/data/images/satellite/zoom15/>:  47%|████▋     | 47400/100000 [11:36:10<12:52:33,  1.13it/s]"
     ]
    },
    {
     "name": "stdout",
     "output_type": "stream",
     "text": [
      "G: 1.31 | D: 1.91 | GP: 0.29 | PL: 0.02\n"
     ]
    },
    {
     "name": "stderr",
     "output_type": "stream",
     "text": [
      "2211-ctest5</dreambig/qingyi/image_chicago/data/images/satellite/zoom15/>:  47%|████▋     | 47450/100000 [11:36:55<12:51:50,  1.13it/s]"
     ]
    },
    {
     "name": "stdout",
     "output_type": "stream",
     "text": [
      "G: 0.81 | D: 0.98 | GP: 0.46 | PL: 0.02\n"
     ]
    },
    {
     "name": "stderr",
     "output_type": "stream",
     "text": [
      "2211-ctest5</dreambig/qingyi/image_chicago/data/images/satellite/zoom15/>:  48%|████▊     | 47500/100000 [11:37:39<12:51:05,  1.13it/s]"
     ]
    },
    {
     "name": "stdout",
     "output_type": "stream",
     "text": [
      "G: 0.38 | D: 1.14 | GP: 0.34 | PL: 0.02\n"
     ]
    },
    {
     "name": "stderr",
     "output_type": "stream",
     "text": [
      "2211-ctest5</dreambig/qingyi/image_chicago/data/images/satellite/zoom15/>:  48%|████▊     | 47550/100000 [11:38:23<12:50:21,  1.13it/s]"
     ]
    },
    {
     "name": "stdout",
     "output_type": "stream",
     "text": [
      "G: 1.74 | D: 1.40 | GP: 0.22 | PL: 0.02\n"
     ]
    },
    {
     "name": "stderr",
     "output_type": "stream",
     "text": [
      "2211-ctest5</dreambig/qingyi/image_chicago/data/images/satellite/zoom15/>:  48%|████▊     | 47600/100000 [11:39:06<12:49:36,  1.13it/s]"
     ]
    },
    {
     "name": "stdout",
     "output_type": "stream",
     "text": [
      "G: 0.49 | D: 1.12 | GP: 0.74 | PL: 0.02\n"
     ]
    },
    {
     "name": "stderr",
     "output_type": "stream",
     "text": [
      "2211-ctest5</dreambig/qingyi/image_chicago/data/images/satellite/zoom15/>:  48%|████▊     | 47650/100000 [11:39:51<12:48:53,  1.13it/s]"
     ]
    },
    {
     "name": "stdout",
     "output_type": "stream",
     "text": [
      "G: 0.82 | D: 0.87 | GP: 0.22 | PL: 0.02\n"
     ]
    },
    {
     "name": "stderr",
     "output_type": "stream",
     "text": [
      "2211-ctest5</dreambig/qingyi/image_chicago/data/images/satellite/zoom15/>:  48%|████▊     | 47700/100000 [11:40:34<12:48:07,  1.13it/s]"
     ]
    },
    {
     "name": "stdout",
     "output_type": "stream",
     "text": [
      "G: 1.01 | D: 1.47 | GP: 0.14 | PL: 0.02\n"
     ]
    },
    {
     "name": "stderr",
     "output_type": "stream",
     "text": [
      "2211-ctest5</dreambig/qingyi/image_chicago/data/images/satellite/zoom15/>:  48%|████▊     | 47750/100000 [11:41:19<12:47:25,  1.13it/s]"
     ]
    },
    {
     "name": "stdout",
     "output_type": "stream",
     "text": [
      "G: 1.23 | D: 1.14 | GP: 0.04 | PL: 0.02\n"
     ]
    },
    {
     "name": "stderr",
     "output_type": "stream",
     "text": [
      "2211-ctest5</dreambig/qingyi/image_chicago/data/images/satellite/zoom15/>:  48%|████▊     | 47800/100000 [11:42:02<12:46:40,  1.13it/s]"
     ]
    },
    {
     "name": "stdout",
     "output_type": "stream",
     "text": [
      "G: -0.59 | D: 1.38 | GP: 0.47 | PL: 0.02\n"
     ]
    },
    {
     "name": "stderr",
     "output_type": "stream",
     "text": [
      "2211-ctest5</dreambig/qingyi/image_chicago/data/images/satellite/zoom15/>:  48%|████▊     | 47850/100000 [11:42:47<12:45:57,  1.13it/s]"
     ]
    },
    {
     "name": "stdout",
     "output_type": "stream",
     "text": [
      "G: -0.47 | D: 1.21 | GP: 0.09 | PL: 0.02\n"
     ]
    },
    {
     "name": "stderr",
     "output_type": "stream",
     "text": [
      "2211-ctest5</dreambig/qingyi/image_chicago/data/images/satellite/zoom15/>:  48%|████▊     | 47900/100000 [11:43:30<12:45:11,  1.13it/s]"
     ]
    },
    {
     "name": "stdout",
     "output_type": "stream",
     "text": [
      "G: 2.33 | D: 0.94 | GP: 0.26 | PL: 0.02\n"
     ]
    },
    {
     "name": "stderr",
     "output_type": "stream",
     "text": [
      "2211-ctest5</dreambig/qingyi/image_chicago/data/images/satellite/zoom15/>:  48%|████▊     | 47950/100000 [11:44:15<12:44:28,  1.13it/s]"
     ]
    },
    {
     "name": "stdout",
     "output_type": "stream",
     "text": [
      "G: 0.98 | D: 0.91 | GP: 0.12 | PL: 0.02\n"
     ]
    },
    {
     "name": "stderr",
     "output_type": "stream",
     "text": [
      "2211-ctest5</dreambig/qingyi/image_chicago/data/images/satellite/zoom15/>:  48%|████▊     | 48000/100000 [11:44:58<12:43:42,  1.13it/s]"
     ]
    },
    {
     "name": "stdout",
     "output_type": "stream",
     "text": [
      "G: 0.85 | D: 1.18 | GP: 0.29 | PL: 0.02\n"
     ]
    },
    {
     "name": "stderr",
     "output_type": "stream",
     "text": [
      "2211-ctest5</dreambig/qingyi/image_chicago/data/images/satellite/zoom15/>:  48%|████▊     | 48050/100000 [11:45:46<12:43:03,  1.13it/s]"
     ]
    },
    {
     "name": "stdout",
     "output_type": "stream",
     "text": [
      "G: 0.48 | D: 1.56 | GP: 0.09 | PL: 0.02\n"
     ]
    },
    {
     "name": "stderr",
     "output_type": "stream",
     "text": [
      "2211-ctest5</dreambig/qingyi/image_chicago/data/images/satellite/zoom15/>:  48%|████▊     | 48100/100000 [11:46:30<12:42:19,  1.13it/s]"
     ]
    },
    {
     "name": "stdout",
     "output_type": "stream",
     "text": [
      "G: 0.50 | D: 0.90 | GP: 0.95 | PL: 0.02\n"
     ]
    },
    {
     "name": "stderr",
     "output_type": "stream",
     "text": [
      "2211-ctest5</dreambig/qingyi/image_chicago/data/images/satellite/zoom15/>:  48%|████▊     | 48150/100000 [11:47:14<12:41:35,  1.13it/s]"
     ]
    },
    {
     "name": "stdout",
     "output_type": "stream",
     "text": [
      "G: 0.41 | D: 1.19 | GP: 1.02 | PL: 0.02\n"
     ]
    },
    {
     "name": "stderr",
     "output_type": "stream",
     "text": [
      "2211-ctest5</dreambig/qingyi/image_chicago/data/images/satellite/zoom15/>:  48%|████▊     | 48200/100000 [11:47:58<12:40:50,  1.13it/s]"
     ]
    },
    {
     "name": "stdout",
     "output_type": "stream",
     "text": [
      "G: -1.02 | D: 0.71 | GP: 0.05 | PL: 0.02\n"
     ]
    },
    {
     "name": "stderr",
     "output_type": "stream",
     "text": [
      "2211-ctest5</dreambig/qingyi/image_chicago/data/images/satellite/zoom15/>:  48%|████▊     | 48250/100000 [11:48:42<12:40:06,  1.13it/s]"
     ]
    },
    {
     "name": "stdout",
     "output_type": "stream",
     "text": [
      "G: -0.20 | D: 1.13 | GP: 0.24 | PL: 0.02\n"
     ]
    },
    {
     "name": "stderr",
     "output_type": "stream",
     "text": [
      "2211-ctest5</dreambig/qingyi/image_chicago/data/images/satellite/zoom15/>:  48%|████▊     | 48300/100000 [11:49:25<12:39:21,  1.13it/s]"
     ]
    },
    {
     "name": "stdout",
     "output_type": "stream",
     "text": [
      "G: 0.14 | D: 1.43 | GP: 2.55 | PL: 0.02\n"
     ]
    },
    {
     "name": "stderr",
     "output_type": "stream",
     "text": [
      "2211-ctest5</dreambig/qingyi/image_chicago/data/images/satellite/zoom15/>:  48%|████▊     | 48350/100000 [11:50:10<12:38:39,  1.13it/s]"
     ]
    },
    {
     "name": "stdout",
     "output_type": "stream",
     "text": [
      "G: 0.06 | D: 1.07 | GP: 0.73 | PL: 0.02\n"
     ]
    },
    {
     "name": "stderr",
     "output_type": "stream",
     "text": [
      "2211-ctest5</dreambig/qingyi/image_chicago/data/images/satellite/zoom15/>:  48%|████▊     | 48400/100000 [11:50:54<12:37:54,  1.13it/s]"
     ]
    },
    {
     "name": "stdout",
     "output_type": "stream",
     "text": [
      "G: 0.89 | D: 1.08 | GP: 1.17 | PL: 0.02\n"
     ]
    },
    {
     "name": "stderr",
     "output_type": "stream",
     "text": [
      "2211-ctest5</dreambig/qingyi/image_chicago/data/images/satellite/zoom15/>:  48%|████▊     | 48450/100000 [11:51:38<12:37:10,  1.13it/s]"
     ]
    },
    {
     "name": "stdout",
     "output_type": "stream",
     "text": [
      "G: 1.78 | D: 1.30 | GP: 0.10 | PL: 0.02\n"
     ]
    },
    {
     "name": "stderr",
     "output_type": "stream",
     "text": [
      "2211-ctest5</dreambig/qingyi/image_chicago/data/images/satellite/zoom15/>:  48%|████▊     | 48500/100000 [11:52:21<12:36:25,  1.13it/s]"
     ]
    },
    {
     "name": "stdout",
     "output_type": "stream",
     "text": [
      "G: 0.44 | D: 0.87 | GP: 0.30 | PL: 0.02\n"
     ]
    },
    {
     "name": "stderr",
     "output_type": "stream",
     "text": [
      "2211-ctest5</dreambig/qingyi/image_chicago/data/images/satellite/zoom15/>:  49%|████▊     | 48550/100000 [11:53:06<12:35:42,  1.13it/s]"
     ]
    },
    {
     "name": "stdout",
     "output_type": "stream",
     "text": [
      "G: 0.44 | D: 1.79 | GP: 1.27 | PL: 0.02\n"
     ]
    },
    {
     "name": "stderr",
     "output_type": "stream",
     "text": [
      "2211-ctest5</dreambig/qingyi/image_chicago/data/images/satellite/zoom15/>:  49%|████▊     | 48600/100000 [11:53:49<12:34:57,  1.13it/s]"
     ]
    },
    {
     "name": "stdout",
     "output_type": "stream",
     "text": [
      "G: -0.57 | D: 0.97 | GP: 0.05 | PL: 0.02\n"
     ]
    },
    {
     "name": "stderr",
     "output_type": "stream",
     "text": [
      "2211-ctest5</dreambig/qingyi/image_chicago/data/images/satellite/zoom15/>:  49%|████▊     | 48650/100000 [11:54:35<12:34:14,  1.13it/s]"
     ]
    },
    {
     "name": "stdout",
     "output_type": "stream",
     "text": [
      "G: -0.21 | D: 1.30 | GP: 0.12 | PL: 0.02\n"
     ]
    },
    {
     "name": "stderr",
     "output_type": "stream",
     "text": [
      "2211-ctest5</dreambig/qingyi/image_chicago/data/images/satellite/zoom15/>:  49%|████▊     | 48700/100000 [11:55:17<12:33:29,  1.13it/s]"
     ]
    },
    {
     "name": "stdout",
     "output_type": "stream",
     "text": [
      "G: 1.94 | D: 1.13 | GP: 0.05 | PL: 0.02\n"
     ]
    },
    {
     "name": "stderr",
     "output_type": "stream",
     "text": [
      "2211-ctest5</dreambig/qingyi/image_chicago/data/images/satellite/zoom15/>:  49%|████▉     | 48750/100000 [11:56:02<12:32:45,  1.13it/s]"
     ]
    },
    {
     "name": "stdout",
     "output_type": "stream",
     "text": [
      "G: 0.05 | D: 1.06 | GP: 0.22 | PL: 0.02\n"
     ]
    },
    {
     "name": "stderr",
     "output_type": "stream",
     "text": [
      "2211-ctest5</dreambig/qingyi/image_chicago/data/images/satellite/zoom15/>:  49%|████▉     | 48800/100000 [11:56:45<12:32:00,  1.13it/s]"
     ]
    },
    {
     "name": "stdout",
     "output_type": "stream",
     "text": [
      "G: 0.53 | D: 0.95 | GP: 0.48 | PL: 0.02\n"
     ]
    },
    {
     "name": "stderr",
     "output_type": "stream",
     "text": [
      "2211-ctest5</dreambig/qingyi/image_chicago/data/images/satellite/zoom15/>:  49%|████▉     | 48850/100000 [11:57:30<12:31:17,  1.13it/s]"
     ]
    },
    {
     "name": "stdout",
     "output_type": "stream",
     "text": [
      "G: -0.06 | D: 1.26 | GP: 0.38 | PL: 0.02\n"
     ]
    },
    {
     "name": "stderr",
     "output_type": "stream",
     "text": [
      "2211-ctest5</dreambig/qingyi/image_chicago/data/images/satellite/zoom15/>:  49%|████▉     | 48900/100000 [11:58:13<12:30:32,  1.13it/s]"
     ]
    },
    {
     "name": "stdout",
     "output_type": "stream",
     "text": [
      "G: 0.97 | D: 1.67 | GP: 0.51 | PL: 0.02\n"
     ]
    },
    {
     "name": "stderr",
     "output_type": "stream",
     "text": [
      "2211-ctest5</dreambig/qingyi/image_chicago/data/images/satellite/zoom15/>:  49%|████▉     | 48950/100000 [11:58:58<12:29:49,  1.13it/s]"
     ]
    },
    {
     "name": "stdout",
     "output_type": "stream",
     "text": [
      "G: 1.54 | D: 1.05 | GP: 0.24 | PL: 0.02\n"
     ]
    },
    {
     "name": "stderr",
     "output_type": "stream",
     "text": [
      "2211-ctest5</dreambig/qingyi/image_chicago/data/images/satellite/zoom15/>:  49%|████▉     | 49000/100000 [11:59:41<12:29:04,  1.13it/s]"
     ]
    },
    {
     "name": "stdout",
     "output_type": "stream",
     "text": [
      "G: 0.71 | D: 1.26 | GP: 2.03 | PL: 0.02\n"
     ]
    },
    {
     "name": "stderr",
     "output_type": "stream",
     "text": [
      "2211-ctest5</dreambig/qingyi/image_chicago/data/images/satellite/zoom15/>:  49%|████▉     | 49050/100000 [12:00:28<12:28:23,  1.13it/s]"
     ]
    },
    {
     "name": "stdout",
     "output_type": "stream",
     "text": [
      "G: 2.21 | D: 1.02 | GP: 0.11 | PL: 0.02\n"
     ]
    },
    {
     "name": "stderr",
     "output_type": "stream",
     "text": [
      "2211-ctest5</dreambig/qingyi/image_chicago/data/images/satellite/zoom15/>:  49%|████▉     | 49100/100000 [12:01:12<12:27:38,  1.13it/s]"
     ]
    },
    {
     "name": "stdout",
     "output_type": "stream",
     "text": [
      "G: 1.42 | D: 0.98 | GP: 0.24 | PL: 0.02\n"
     ]
    },
    {
     "name": "stderr",
     "output_type": "stream",
     "text": [
      "2211-ctest5</dreambig/qingyi/image_chicago/data/images/satellite/zoom15/>:  49%|████▉     | 49150/100000 [12:01:56<12:26:55,  1.13it/s]"
     ]
    },
    {
     "name": "stdout",
     "output_type": "stream",
     "text": [
      "G: -0.28 | D: 0.88 | GP: 0.14 | PL: 0.02\n"
     ]
    },
    {
     "name": "stderr",
     "output_type": "stream",
     "text": [
      "2211-ctest5</dreambig/qingyi/image_chicago/data/images/satellite/zoom15/>:  49%|████▉     | 49200/100000 [12:02:41<12:26:11,  1.13it/s]"
     ]
    },
    {
     "name": "stdout",
     "output_type": "stream",
     "text": [
      "G: 0.82 | D: 0.83 | GP: 0.20 | PL: 0.02\n"
     ]
    },
    {
     "name": "stderr",
     "output_type": "stream",
     "text": [
      "2211-ctest5</dreambig/qingyi/image_chicago/data/images/satellite/zoom15/>:  49%|████▉     | 49250/100000 [12:03:25<12:25:27,  1.13it/s]"
     ]
    },
    {
     "name": "stdout",
     "output_type": "stream",
     "text": [
      "G: -0.40 | D: 1.54 | GP: 0.10 | PL: 0.02\n"
     ]
    },
    {
     "name": "stderr",
     "output_type": "stream",
     "text": [
      "2211-ctest5</dreambig/qingyi/image_chicago/data/images/satellite/zoom15/>:  49%|████▉     | 49300/100000 [12:04:08<12:24:42,  1.13it/s]"
     ]
    },
    {
     "name": "stdout",
     "output_type": "stream",
     "text": [
      "G: 0.86 | D: 1.15 | GP: 2.07 | PL: 0.02\n"
     ]
    },
    {
     "name": "stderr",
     "output_type": "stream",
     "text": [
      "2211-ctest5</dreambig/qingyi/image_chicago/data/images/satellite/zoom15/>:  49%|████▉     | 49350/100000 [12:04:53<12:23:59,  1.13it/s]"
     ]
    },
    {
     "name": "stdout",
     "output_type": "stream",
     "text": [
      "G: 0.31 | D: 1.07 | GP: 1.10 | PL: 0.02\n"
     ]
    },
    {
     "name": "stderr",
     "output_type": "stream",
     "text": [
      "2211-ctest5</dreambig/qingyi/image_chicago/data/images/satellite/zoom15/>:  49%|████▉     | 49400/100000 [12:05:36<12:23:13,  1.13it/s]"
     ]
    },
    {
     "name": "stdout",
     "output_type": "stream",
     "text": [
      "G: 1.59 | D: 1.23 | GP: 0.03 | PL: 0.02\n"
     ]
    },
    {
     "name": "stderr",
     "output_type": "stream",
     "text": [
      "2211-ctest5</dreambig/qingyi/image_chicago/data/images/satellite/zoom15/>:  49%|████▉     | 49450/100000 [12:06:20<12:22:30,  1.13it/s]"
     ]
    },
    {
     "name": "stdout",
     "output_type": "stream",
     "text": [
      "G: 0.76 | D: 1.11 | GP: 0.50 | PL: 0.02\n"
     ]
    },
    {
     "name": "stderr",
     "output_type": "stream",
     "text": [
      "2211-ctest5</dreambig/qingyi/image_chicago/data/images/satellite/zoom15/>:  50%|████▉     | 49500/100000 [12:07:04<12:21:45,  1.13it/s]"
     ]
    },
    {
     "name": "stdout",
     "output_type": "stream",
     "text": [
      "G: 0.53 | D: 0.83 | GP: 0.40 | PL: 0.02\n"
     ]
    },
    {
     "name": "stderr",
     "output_type": "stream",
     "text": [
      "2211-ctest5</dreambig/qingyi/image_chicago/data/images/satellite/zoom15/>:  50%|████▉     | 49550/100000 [12:07:49<12:21:02,  1.13it/s]"
     ]
    },
    {
     "name": "stdout",
     "output_type": "stream",
     "text": [
      "G: 0.30 | D: 1.11 | GP: 1.51 | PL: 0.02\n"
     ]
    },
    {
     "name": "stderr",
     "output_type": "stream",
     "text": [
      "2211-ctest5</dreambig/qingyi/image_chicago/data/images/satellite/zoom15/>:  50%|████▉     | 49600/100000 [12:08:32<12:20:17,  1.13it/s]"
     ]
    },
    {
     "name": "stdout",
     "output_type": "stream",
     "text": [
      "G: 1.17 | D: 1.23 | GP: 0.94 | PL: 0.02\n"
     ]
    },
    {
     "name": "stderr",
     "output_type": "stream",
     "text": [
      "2211-ctest5</dreambig/qingyi/image_chicago/data/images/satellite/zoom15/>:  50%|████▉     | 49650/100000 [12:09:16<12:19:33,  1.13it/s]"
     ]
    },
    {
     "name": "stdout",
     "output_type": "stream",
     "text": [
      "G: 1.15 | D: 1.39 | GP: 0.34 | PL: 0.02\n"
     ]
    },
    {
     "name": "stderr",
     "output_type": "stream",
     "text": [
      "2211-ctest5</dreambig/qingyi/image_chicago/data/images/satellite/zoom15/>:  50%|████▉     | 49700/100000 [12:10:00<12:18:49,  1.13it/s]"
     ]
    },
    {
     "name": "stdout",
     "output_type": "stream",
     "text": [
      "G: 2.14 | D: 1.37 | GP: 0.40 | PL: 0.02\n"
     ]
    },
    {
     "name": "stderr",
     "output_type": "stream",
     "text": [
      "2211-ctest5</dreambig/qingyi/image_chicago/data/images/satellite/zoom15/>:  50%|████▉     | 49750/100000 [12:10:44<12:18:05,  1.13it/s]"
     ]
    },
    {
     "name": "stdout",
     "output_type": "stream",
     "text": [
      "G: -0.20 | D: 1.10 | GP: 0.15 | PL: 0.02\n"
     ]
    },
    {
     "name": "stderr",
     "output_type": "stream",
     "text": [
      "2211-ctest5</dreambig/qingyi/image_chicago/data/images/satellite/zoom15/>:  50%|████▉     | 49800/100000 [12:11:28<12:17:21,  1.13it/s]"
     ]
    },
    {
     "name": "stdout",
     "output_type": "stream",
     "text": [
      "G: 0.80 | D: 1.20 | GP: 3.97 | PL: 0.02\n"
     ]
    },
    {
     "name": "stderr",
     "output_type": "stream",
     "text": [
      "2211-ctest5</dreambig/qingyi/image_chicago/data/images/satellite/zoom15/>:  50%|████▉     | 49850/100000 [12:12:13<12:16:37,  1.13it/s]"
     ]
    },
    {
     "name": "stdout",
     "output_type": "stream",
     "text": [
      "G: 2.10 | D: 1.16 | GP: 0.24 | PL: 0.02\n"
     ]
    },
    {
     "name": "stderr",
     "output_type": "stream",
     "text": [
      "2211-ctest5</dreambig/qingyi/image_chicago/data/images/satellite/zoom15/>:  50%|████▉     | 49900/100000 [12:12:56<12:15:52,  1.13it/s]"
     ]
    },
    {
     "name": "stdout",
     "output_type": "stream",
     "text": [
      "G: 0.91 | D: 1.26 | GP: 1.51 | PL: 0.02\n"
     ]
    },
    {
     "name": "stderr",
     "output_type": "stream",
     "text": [
      "2211-ctest5</dreambig/qingyi/image_chicago/data/images/satellite/zoom15/>:  50%|████▉     | 49950/100000 [12:13:40<12:15:08,  1.13it/s]"
     ]
    },
    {
     "name": "stdout",
     "output_type": "stream",
     "text": [
      "G: 0.26 | D: 1.17 | GP: 0.61 | PL: 0.02\n"
     ]
    },
    {
     "name": "stderr",
     "output_type": "stream",
     "text": [
      "2211-ctest5</dreambig/qingyi/image_chicago/data/images/satellite/zoom15/>:  50%|█████     | 50000/100000 [12:14:24<12:14:24,  1.13it/s]"
     ]
    },
    {
     "name": "stdout",
     "output_type": "stream",
     "text": [
      "G: 0.23 | D: 1.62 | GP: 0.11 | PL: 0.02\n"
     ]
    },
    {
     "name": "stderr",
     "output_type": "stream",
     "text": [
      "2211-ctest5</dreambig/qingyi/image_chicago/data/images/satellite/zoom15/>:  50%|█████     | 50050/100000 [12:15:11<12:13:43,  1.13it/s]"
     ]
    },
    {
     "name": "stdout",
     "output_type": "stream",
     "text": [
      "G: -0.11 | D: 1.45 | GP: 0.20 | PL: 0.02\n"
     ]
    },
    {
     "name": "stderr",
     "output_type": "stream",
     "text": [
      "2211-ctest5</dreambig/qingyi/image_chicago/data/images/satellite/zoom15/>:  50%|█████     | 50100/100000 [12:15:55<12:12:58,  1.13it/s]"
     ]
    },
    {
     "name": "stdout",
     "output_type": "stream",
     "text": [
      "G: 0.28 | D: 1.09 | GP: 0.53 | PL: 0.02\n"
     ]
    },
    {
     "name": "stderr",
     "output_type": "stream",
     "text": [
      "2211-ctest5</dreambig/qingyi/image_chicago/data/images/satellite/zoom15/>:  50%|█████     | 50150/100000 [12:16:40<12:12:15,  1.13it/s]"
     ]
    },
    {
     "name": "stdout",
     "output_type": "stream",
     "text": [
      "G: 1.27 | D: 0.99 | GP: 0.30 | PL: 0.02\n"
     ]
    },
    {
     "name": "stderr",
     "output_type": "stream",
     "text": [
      "2211-ctest5</dreambig/qingyi/image_chicago/data/images/satellite/zoom15/>:  50%|█████     | 50200/100000 [12:17:22<12:11:30,  1.13it/s]"
     ]
    },
    {
     "name": "stdout",
     "output_type": "stream",
     "text": [
      "G: 1.32 | D: 1.20 | GP: 0.10 | PL: 0.02\n"
     ]
    },
    {
     "name": "stderr",
     "output_type": "stream",
     "text": [
      "2211-ctest5</dreambig/qingyi/image_chicago/data/images/satellite/zoom15/>:  50%|█████     | 50250/100000 [12:18:07<12:10:47,  1.13it/s]"
     ]
    },
    {
     "name": "stdout",
     "output_type": "stream",
     "text": [
      "G: 0.18 | D: 1.83 | GP: 1.45 | PL: 0.02\n"
     ]
    },
    {
     "name": "stderr",
     "output_type": "stream",
     "text": [
      "2211-ctest5</dreambig/qingyi/image_chicago/data/images/satellite/zoom15/>:  50%|█████     | 50300/100000 [12:18:50<12:10:01,  1.13it/s]"
     ]
    },
    {
     "name": "stdout",
     "output_type": "stream",
     "text": [
      "G: 1.05 | D: 1.00 | GP: 0.26 | PL: 0.02\n"
     ]
    },
    {
     "name": "stderr",
     "output_type": "stream",
     "text": [
      "2211-ctest5</dreambig/qingyi/image_chicago/data/images/satellite/zoom15/>:  50%|█████     | 50350/100000 [12:19:35<12:09:18,  1.13it/s]"
     ]
    },
    {
     "name": "stdout",
     "output_type": "stream",
     "text": [
      "G: 1.29 | D: 1.52 | GP: 1.13 | PL: 0.02\n"
     ]
    },
    {
     "name": "stderr",
     "output_type": "stream",
     "text": [
      "2211-ctest5</dreambig/qingyi/image_chicago/data/images/satellite/zoom15/>:  50%|█████     | 50400/100000 [12:20:19<12:08:34,  1.13it/s]"
     ]
    },
    {
     "name": "stdout",
     "output_type": "stream",
     "text": [
      "G: 0.89 | D: 0.97 | GP: 0.37 | PL: 0.02\n"
     ]
    },
    {
     "name": "stderr",
     "output_type": "stream",
     "text": [
      "2211-ctest5</dreambig/qingyi/image_chicago/data/images/satellite/zoom15/>:  50%|█████     | 50450/100000 [12:21:04<12:07:50,  1.13it/s]"
     ]
    },
    {
     "name": "stdout",
     "output_type": "stream",
     "text": [
      "G: 0.62 | D: 1.16 | GP: 0.12 | PL: 0.02\n"
     ]
    },
    {
     "name": "stderr",
     "output_type": "stream",
     "text": [
      "2211-ctest5</dreambig/qingyi/image_chicago/data/images/satellite/zoom15/>:  50%|█████     | 50500/100000 [12:21:47<12:07:06,  1.13it/s]"
     ]
    },
    {
     "name": "stdout",
     "output_type": "stream",
     "text": [
      "G: 0.78 | D: 2.09 | GP: 0.23 | PL: 0.02\n"
     ]
    },
    {
     "name": "stderr",
     "output_type": "stream",
     "text": [
      "2211-ctest5</dreambig/qingyi/image_chicago/data/images/satellite/zoom15/>:  51%|█████     | 50550/100000 [12:22:31<12:06:22,  1.13it/s]"
     ]
    },
    {
     "name": "stdout",
     "output_type": "stream",
     "text": [
      "G: 0.69 | D: 1.19 | GP: 0.05 | PL: 0.02\n"
     ]
    },
    {
     "name": "stderr",
     "output_type": "stream",
     "text": [
      "2211-ctest5</dreambig/qingyi/image_chicago/data/images/satellite/zoom15/>:  51%|█████     | 50600/100000 [12:23:15<12:05:37,  1.13it/s]"
     ]
    },
    {
     "name": "stdout",
     "output_type": "stream",
     "text": [
      "G: 0.74 | D: 0.90 | GP: 0.62 | PL: 0.02\n"
     ]
    },
    {
     "name": "stderr",
     "output_type": "stream",
     "text": [
      "2211-ctest5</dreambig/qingyi/image_chicago/data/images/satellite/zoom15/>:  51%|█████     | 50650/100000 [12:23:59<12:04:53,  1.13it/s]"
     ]
    },
    {
     "name": "stdout",
     "output_type": "stream",
     "text": [
      "G: -0.01 | D: 1.21 | GP: 0.12 | PL: 0.02\n"
     ]
    },
    {
     "name": "stderr",
     "output_type": "stream",
     "text": [
      "2211-ctest5</dreambig/qingyi/image_chicago/data/images/satellite/zoom15/>:  51%|█████     | 50700/100000 [12:24:43<12:04:09,  1.13it/s]"
     ]
    },
    {
     "name": "stdout",
     "output_type": "stream",
     "text": [
      "G: 1.32 | D: 1.26 | GP: 0.41 | PL: 0.02\n"
     ]
    },
    {
     "name": "stderr",
     "output_type": "stream",
     "text": [
      "2211-ctest5</dreambig/qingyi/image_chicago/data/images/satellite/zoom15/>:  51%|█████     | 50750/100000 [12:25:27<12:03:25,  1.13it/s]"
     ]
    },
    {
     "name": "stdout",
     "output_type": "stream",
     "text": [
      "G: 1.12 | D: 0.96 | GP: 0.32 | PL: 0.02\n"
     ]
    },
    {
     "name": "stderr",
     "output_type": "stream",
     "text": [
      "2211-ctest5</dreambig/qingyi/image_chicago/data/images/satellite/zoom15/>:  51%|█████     | 50800/100000 [12:26:11<12:02:41,  1.13it/s]"
     ]
    },
    {
     "name": "stdout",
     "output_type": "stream",
     "text": [
      "G: 1.27 | D: 1.00 | GP: 0.58 | PL: 0.02\n"
     ]
    },
    {
     "name": "stderr",
     "output_type": "stream",
     "text": [
      "2211-ctest5</dreambig/qingyi/image_chicago/data/images/satellite/zoom15/>:  51%|█████     | 50850/100000 [12:26:55<12:01:57,  1.13it/s]"
     ]
    },
    {
     "name": "stdout",
     "output_type": "stream",
     "text": [
      "G: 0.98 | D: 0.99 | GP: 0.22 | PL: 0.02\n"
     ]
    },
    {
     "name": "stderr",
     "output_type": "stream",
     "text": [
      "2211-ctest5</dreambig/qingyi/image_chicago/data/images/satellite/zoom15/>:  51%|█████     | 50900/100000 [12:27:39<12:01:12,  1.13it/s]"
     ]
    },
    {
     "name": "stdout",
     "output_type": "stream",
     "text": [
      "G: -0.12 | D: 1.27 | GP: 1.88 | PL: 0.02\n"
     ]
    },
    {
     "name": "stderr",
     "output_type": "stream",
     "text": [
      "2211-ctest5</dreambig/qingyi/image_chicago/data/images/satellite/zoom15/>:  51%|█████     | 50950/100000 [12:28:23<12:00:29,  1.13it/s]"
     ]
    },
    {
     "name": "stdout",
     "output_type": "stream",
     "text": [
      "G: 0.38 | D: 1.34 | GP: 0.10 | PL: 0.02\n"
     ]
    },
    {
     "name": "stderr",
     "output_type": "stream",
     "text": [
      "2211-ctest5</dreambig/qingyi/image_chicago/data/images/satellite/zoom15/>:  51%|█████     | 51000/100000 [12:29:07<11:59:44,  1.13it/s]"
     ]
    },
    {
     "name": "stdout",
     "output_type": "stream",
     "text": [
      "G: 1.21 | D: 1.11 | GP: 0.21 | PL: 0.02\n"
     ]
    },
    {
     "name": "stderr",
     "output_type": "stream",
     "text": [
      "2211-ctest5</dreambig/qingyi/image_chicago/data/images/satellite/zoom15/>:  51%|█████     | 51050/100000 [12:29:55<11:59:04,  1.13it/s]"
     ]
    },
    {
     "name": "stdout",
     "output_type": "stream",
     "text": [
      "G: 1.27 | D: 1.08 | GP: 0.46 | PL: 0.02\n"
     ]
    },
    {
     "name": "stderr",
     "output_type": "stream",
     "text": [
      "2211-ctest5</dreambig/qingyi/image_chicago/data/images/satellite/zoom15/>:  51%|█████     | 51100/100000 [12:30:37<11:58:18,  1.13it/s]"
     ]
    },
    {
     "name": "stdout",
     "output_type": "stream",
     "text": [
      "G: 1.27 | D: 1.22 | GP: 0.04 | PL: 0.02\n"
     ]
    },
    {
     "name": "stderr",
     "output_type": "stream",
     "text": [
      "2211-ctest5</dreambig/qingyi/image_chicago/data/images/satellite/zoom15/>:  51%|█████     | 51150/100000 [12:31:22<11:57:35,  1.13it/s]"
     ]
    },
    {
     "name": "stdout",
     "output_type": "stream",
     "text": [
      "G: 1.42 | D: 1.14 | GP: 1.43 | PL: 0.02\n"
     ]
    },
    {
     "name": "stderr",
     "output_type": "stream",
     "text": [
      "2211-ctest5</dreambig/qingyi/image_chicago/data/images/satellite/zoom15/>:  51%|█████     | 51200/100000 [12:32:05<11:56:50,  1.13it/s]"
     ]
    },
    {
     "name": "stdout",
     "output_type": "stream",
     "text": [
      "G: -0.01 | D: 1.54 | GP: 0.37 | PL: 0.02\n"
     ]
    },
    {
     "name": "stderr",
     "output_type": "stream",
     "text": [
      "2211-ctest5</dreambig/qingyi/image_chicago/data/images/satellite/zoom15/>:  51%|█████▏    | 51250/100000 [12:32:49<11:56:06,  1.13it/s]"
     ]
    },
    {
     "name": "stdout",
     "output_type": "stream",
     "text": [
      "G: 0.03 | D: 0.79 | GP: 0.28 | PL: 0.02\n"
     ]
    },
    {
     "name": "stderr",
     "output_type": "stream",
     "text": [
      "2211-ctest5</dreambig/qingyi/image_chicago/data/images/satellite/zoom15/>:  51%|█████▏    | 51300/100000 [12:33:34<11:55:22,  1.13it/s]"
     ]
    },
    {
     "name": "stdout",
     "output_type": "stream",
     "text": [
      "G: 0.52 | D: 1.15 | GP: 0.08 | PL: 0.02\n"
     ]
    },
    {
     "name": "stderr",
     "output_type": "stream",
     "text": [
      "2211-ctest5</dreambig/qingyi/image_chicago/data/images/satellite/zoom15/>:  51%|█████▏    | 51350/100000 [12:34:18<11:54:38,  1.13it/s]"
     ]
    },
    {
     "name": "stdout",
     "output_type": "stream",
     "text": [
      "G: 0.79 | D: 1.41 | GP: 0.16 | PL: 0.02\n"
     ]
    },
    {
     "name": "stderr",
     "output_type": "stream",
     "text": [
      "2211-ctest5</dreambig/qingyi/image_chicago/data/images/satellite/zoom15/>:  51%|█████▏    | 51400/100000 [12:35:02<11:53:54,  1.13it/s]"
     ]
    },
    {
     "name": "stdout",
     "output_type": "stream",
     "text": [
      "G: 1.16 | D: 0.93 | GP: 0.09 | PL: 0.02\n"
     ]
    },
    {
     "name": "stderr",
     "output_type": "stream",
     "text": [
      "2211-ctest5</dreambig/qingyi/image_chicago/data/images/satellite/zoom15/>:  51%|█████▏    | 51450/100000 [12:35:46<11:53:10,  1.13it/s]"
     ]
    },
    {
     "name": "stdout",
     "output_type": "stream",
     "text": [
      "G: 0.92 | D: 0.92 | GP: 0.33 | PL: 0.02\n"
     ]
    },
    {
     "name": "stderr",
     "output_type": "stream",
     "text": [
      "2211-ctest5</dreambig/qingyi/image_chicago/data/images/satellite/zoom15/>:  52%|█████▏    | 51500/100000 [12:36:29<11:52:25,  1.13it/s]"
     ]
    },
    {
     "name": "stdout",
     "output_type": "stream",
     "text": [
      "G: 1.59 | D: 1.57 | GP: 0.28 | PL: 0.02\n"
     ]
    },
    {
     "name": "stderr",
     "output_type": "stream",
     "text": [
      "2211-ctest5</dreambig/qingyi/image_chicago/data/images/satellite/zoom15/>:  52%|█████▏    | 51550/100000 [12:37:13<11:51:41,  1.13it/s]"
     ]
    },
    {
     "name": "stdout",
     "output_type": "stream",
     "text": [
      "G: 2.35 | D: 0.92 | GP: 0.04 | PL: 0.02\n"
     ]
    },
    {
     "name": "stderr",
     "output_type": "stream",
     "text": [
      "2211-ctest5</dreambig/qingyi/image_chicago/data/images/satellite/zoom15/>:  52%|█████▏    | 51600/100000 [12:37:58<11:50:57,  1.13it/s]"
     ]
    },
    {
     "name": "stdout",
     "output_type": "stream",
     "text": [
      "G: 1.32 | D: 1.33 | GP: 0.38 | PL: 0.02\n"
     ]
    },
    {
     "name": "stderr",
     "output_type": "stream",
     "text": [
      "2211-ctest5</dreambig/qingyi/image_chicago/data/images/satellite/zoom15/>:  52%|█████▏    | 51650/100000 [12:38:42<11:50:14,  1.13it/s]"
     ]
    },
    {
     "name": "stdout",
     "output_type": "stream",
     "text": [
      "G: 0.57 | D: 1.15 | GP: 1.07 | PL: 0.02\n"
     ]
    },
    {
     "name": "stderr",
     "output_type": "stream",
     "text": [
      "2211-ctest5</dreambig/qingyi/image_chicago/data/images/satellite/zoom15/>:  52%|█████▏    | 51700/100000 [12:39:25<11:49:29,  1.13it/s]"
     ]
    },
    {
     "name": "stdout",
     "output_type": "stream",
     "text": [
      "G: 0.79 | D: 0.89 | GP: 0.58 | PL: 0.02\n"
     ]
    },
    {
     "name": "stderr",
     "output_type": "stream",
     "text": [
      "2211-ctest5</dreambig/qingyi/image_chicago/data/images/satellite/zoom15/>:  52%|█████▏    | 51750/100000 [12:40:10<11:48:45,  1.13it/s]"
     ]
    },
    {
     "name": "stdout",
     "output_type": "stream",
     "text": [
      "G: 0.34 | D: 1.31 | GP: 1.31 | PL: 0.02\n"
     ]
    },
    {
     "name": "stderr",
     "output_type": "stream",
     "text": [
      "2211-ctest5</dreambig/qingyi/image_chicago/data/images/satellite/zoom15/>:  52%|█████▏    | 51800/100000 [12:40:52<11:48:00,  1.13it/s]"
     ]
    },
    {
     "name": "stdout",
     "output_type": "stream",
     "text": [
      "G: -0.69 | D: 1.18 | GP: 0.16 | PL: 0.02\n"
     ]
    },
    {
     "name": "stderr",
     "output_type": "stream",
     "text": [
      "2211-ctest5</dreambig/qingyi/image_chicago/data/images/satellite/zoom15/>:  52%|█████▏    | 51850/100000 [12:41:38<11:47:17,  1.13it/s]"
     ]
    },
    {
     "name": "stdout",
     "output_type": "stream",
     "text": [
      "G: -0.21 | D: 1.33 | GP: 0.55 | PL: 0.02\n"
     ]
    },
    {
     "name": "stderr",
     "output_type": "stream",
     "text": [
      "2211-ctest5</dreambig/qingyi/image_chicago/data/images/satellite/zoom15/>:  52%|█████▏    | 51900/100000 [12:42:21<11:46:32,  1.13it/s]"
     ]
    },
    {
     "name": "stdout",
     "output_type": "stream",
     "text": [
      "G: 0.76 | D: 1.88 | GP: 0.07 | PL: 0.02\n"
     ]
    },
    {
     "name": "stderr",
     "output_type": "stream",
     "text": [
      "2211-ctest5</dreambig/qingyi/image_chicago/data/images/satellite/zoom15/>:  52%|█████▏    | 51950/100000 [12:43:05<11:45:48,  1.13it/s]"
     ]
    },
    {
     "name": "stdout",
     "output_type": "stream",
     "text": [
      "G: 0.10 | D: 1.24 | GP: 0.41 | PL: 0.02\n"
     ]
    },
    {
     "name": "stderr",
     "output_type": "stream",
     "text": [
      "2211-ctest5</dreambig/qingyi/image_chicago/data/images/satellite/zoom15/>:  52%|█████▏    | 52000/100000 [12:43:48<11:45:03,  1.13it/s]"
     ]
    },
    {
     "name": "stdout",
     "output_type": "stream",
     "text": [
      "G: 0.00 | D: 1.57 | GP: 0.05 | PL: 0.02\n"
     ]
    },
    {
     "name": "stderr",
     "output_type": "stream",
     "text": [
      "2211-ctest5</dreambig/qingyi/image_chicago/data/images/satellite/zoom15/>:  52%|█████▏    | 52050/100000 [12:44:36<11:44:22,  1.13it/s]"
     ]
    },
    {
     "name": "stdout",
     "output_type": "stream",
     "text": [
      "G: -0.02 | D: 0.95 | GP: 0.47 | PL: 0.02\n"
     ]
    },
    {
     "name": "stderr",
     "output_type": "stream",
     "text": [
      "2211-ctest5</dreambig/qingyi/image_chicago/data/images/satellite/zoom15/>:  52%|█████▏    | 52100/100000 [12:45:19<11:43:37,  1.13it/s]"
     ]
    },
    {
     "name": "stdout",
     "output_type": "stream",
     "text": [
      "G: 1.64 | D: 1.06 | GP: 0.05 | PL: 0.02\n"
     ]
    },
    {
     "name": "stderr",
     "output_type": "stream",
     "text": [
      "2211-ctest5</dreambig/qingyi/image_chicago/data/images/satellite/zoom15/>:  52%|█████▏    | 52150/100000 [12:46:04<11:42:54,  1.13it/s]"
     ]
    },
    {
     "name": "stdout",
     "output_type": "stream",
     "text": [
      "G: 1.55 | D: 1.00 | GP: 0.11 | PL: 0.02\n"
     ]
    },
    {
     "name": "stderr",
     "output_type": "stream",
     "text": [
      "2211-ctest5</dreambig/qingyi/image_chicago/data/images/satellite/zoom15/>:  52%|█████▏    | 52200/100000 [12:46:47<11:42:09,  1.13it/s]"
     ]
    },
    {
     "name": "stdout",
     "output_type": "stream",
     "text": [
      "G: 1.02 | D: 0.78 | GP: 0.28 | PL: 0.02\n"
     ]
    },
    {
     "name": "stderr",
     "output_type": "stream",
     "text": [
      "2211-ctest5</dreambig/qingyi/image_chicago/data/images/satellite/zoom15/>:  52%|█████▏    | 52250/100000 [12:47:31<11:41:25,  1.13it/s]"
     ]
    },
    {
     "name": "stdout",
     "output_type": "stream",
     "text": [
      "G: 0.30 | D: 1.23 | GP: 0.61 | PL: 0.02\n"
     ]
    },
    {
     "name": "stderr",
     "output_type": "stream",
     "text": [
      "2211-ctest5</dreambig/qingyi/image_chicago/data/images/satellite/zoom15/>:  52%|█████▏    | 52300/100000 [12:48:15<11:40:40,  1.13it/s]"
     ]
    },
    {
     "name": "stdout",
     "output_type": "stream",
     "text": [
      "G: 1.18 | D: 1.41 | GP: 0.21 | PL: 0.02\n"
     ]
    },
    {
     "name": "stderr",
     "output_type": "stream",
     "text": [
      "2211-ctest5</dreambig/qingyi/image_chicago/data/images/satellite/zoom15/>:  52%|█████▏    | 52350/100000 [12:48:59<11:39:56,  1.13it/s]"
     ]
    },
    {
     "name": "stdout",
     "output_type": "stream",
     "text": [
      "G: 0.27 | D: 1.09 | GP: 0.10 | PL: 0.02\n"
     ]
    },
    {
     "name": "stderr",
     "output_type": "stream",
     "text": [
      "2211-ctest5</dreambig/qingyi/image_chicago/data/images/satellite/zoom15/>:  52%|█████▏    | 52400/100000 [12:49:43<11:39:12,  1.13it/s]"
     ]
    },
    {
     "name": "stdout",
     "output_type": "stream",
     "text": [
      "G: 2.35 | D: 1.14 | GP: 0.32 | PL: 0.02\n"
     ]
    },
    {
     "name": "stderr",
     "output_type": "stream",
     "text": [
      "2211-ctest5</dreambig/qingyi/image_chicago/data/images/satellite/zoom15/>:  52%|█████▏    | 52450/100000 [12:50:28<11:38:29,  1.13it/s]"
     ]
    },
    {
     "name": "stdout",
     "output_type": "stream",
     "text": [
      "G: 0.27 | D: 1.35 | GP: 2.77 | PL: 0.02\n"
     ]
    },
    {
     "name": "stderr",
     "output_type": "stream",
     "text": [
      "2211-ctest5</dreambig/qingyi/image_chicago/data/images/satellite/zoom15/>:  52%|█████▎    | 52500/100000 [12:51:11<11:37:44,  1.13it/s]"
     ]
    },
    {
     "name": "stdout",
     "output_type": "stream",
     "text": [
      "G: 0.92 | D: 0.99 | GP: 0.31 | PL: 0.02\n"
     ]
    },
    {
     "name": "stderr",
     "output_type": "stream",
     "text": [
      "2211-ctest5</dreambig/qingyi/image_chicago/data/images/satellite/zoom15/>:  53%|█████▎    | 52550/100000 [12:51:56<11:37:01,  1.13it/s]"
     ]
    },
    {
     "name": "stdout",
     "output_type": "stream",
     "text": [
      "G: 0.43 | D: 1.19 | GP: 0.25 | PL: 0.02\n"
     ]
    },
    {
     "name": "stderr",
     "output_type": "stream",
     "text": [
      "2211-ctest5</dreambig/qingyi/image_chicago/data/images/satellite/zoom15/>:  53%|█████▎    | 52600/100000 [12:52:39<11:36:16,  1.13it/s]"
     ]
    },
    {
     "name": "stdout",
     "output_type": "stream",
     "text": [
      "G: 0.71 | D: 1.13 | GP: 0.83 | PL: 0.02\n"
     ]
    },
    {
     "name": "stderr",
     "output_type": "stream",
     "text": [
      "2211-ctest5</dreambig/qingyi/image_chicago/data/images/satellite/zoom15/>:  53%|█████▎    | 52650/100000 [12:53:23<11:35:32,  1.13it/s]"
     ]
    },
    {
     "name": "stdout",
     "output_type": "stream",
     "text": [
      "G: 0.46 | D: 0.84 | GP: 0.12 | PL: 0.02\n"
     ]
    },
    {
     "name": "stderr",
     "output_type": "stream",
     "text": [
      "2211-ctest5</dreambig/qingyi/image_chicago/data/images/satellite/zoom15/>:  53%|█████▎    | 52700/100000 [12:54:06<11:34:47,  1.13it/s]"
     ]
    },
    {
     "name": "stdout",
     "output_type": "stream",
     "text": [
      "G: 0.15 | D: 1.78 | GP: 0.15 | PL: 0.02\n"
     ]
    },
    {
     "name": "stderr",
     "output_type": "stream",
     "text": [
      "2211-ctest5</dreambig/qingyi/image_chicago/data/images/satellite/zoom15/>:  53%|█████▎    | 52750/100000 [12:54:52<11:34:04,  1.13it/s]"
     ]
    },
    {
     "name": "stdout",
     "output_type": "stream",
     "text": [
      "G: 0.05 | D: 1.45 | GP: 0.10 | PL: 0.02\n"
     ]
    },
    {
     "name": "stderr",
     "output_type": "stream",
     "text": [
      "2211-ctest5</dreambig/qingyi/image_chicago/data/images/satellite/zoom15/>:  53%|█████▎    | 52800/100000 [12:55:34<11:33:19,  1.13it/s]"
     ]
    },
    {
     "name": "stdout",
     "output_type": "stream",
     "text": [
      "G: 0.08 | D: 1.20 | GP: 0.33 | PL: 0.02\n"
     ]
    },
    {
     "name": "stderr",
     "output_type": "stream",
     "text": [
      "2211-ctest5</dreambig/qingyi/image_chicago/data/images/satellite/zoom15/>:  53%|█████▎    | 52850/100000 [12:56:19<11:32:35,  1.13it/s]"
     ]
    },
    {
     "name": "stdout",
     "output_type": "stream",
     "text": [
      "G: 1.27 | D: 1.06 | GP: 0.39 | PL: 0.02\n"
     ]
    },
    {
     "name": "stderr",
     "output_type": "stream",
     "text": [
      "2211-ctest5</dreambig/qingyi/image_chicago/data/images/satellite/zoom15/>:  53%|█████▎    | 52900/100000 [12:57:02<11:31:51,  1.13it/s]"
     ]
    },
    {
     "name": "stdout",
     "output_type": "stream",
     "text": [
      "G: 0.67 | D: 1.15 | GP: 0.56 | PL: 0.02\n"
     ]
    },
    {
     "name": "stderr",
     "output_type": "stream",
     "text": [
      "2211-ctest5</dreambig/qingyi/image_chicago/data/images/satellite/zoom15/>:  53%|█████▎    | 52950/100000 [12:57:47<11:31:07,  1.13it/s]"
     ]
    },
    {
     "name": "stdout",
     "output_type": "stream",
     "text": [
      "G: 0.06 | D: 1.11 | GP: 0.15 | PL: 0.02\n"
     ]
    },
    {
     "name": "stderr",
     "output_type": "stream",
     "text": [
      "2211-ctest5</dreambig/qingyi/image_chicago/data/images/satellite/zoom15/>:  53%|█████▎    | 53000/100000 [12:58:30<11:30:22,  1.13it/s]"
     ]
    },
    {
     "name": "stdout",
     "output_type": "stream",
     "text": [
      "G: 1.35 | D: 1.01 | GP: 0.10 | PL: 0.02\n"
     ]
    },
    {
     "name": "stderr",
     "output_type": "stream",
     "text": [
      "2211-ctest5</dreambig/qingyi/image_chicago/data/images/satellite/zoom15/>:  53%|█████▎    | 53050/100000 [12:59:18<11:29:41,  1.13it/s]"
     ]
    },
    {
     "name": "stdout",
     "output_type": "stream",
     "text": [
      "G: 1.10 | D: 0.99 | GP: 0.75 | PL: 0.02\n"
     ]
    },
    {
     "name": "stderr",
     "output_type": "stream",
     "text": [
      "2211-ctest5</dreambig/qingyi/image_chicago/data/images/satellite/zoom15/>:  53%|█████▎    | 53100/100000 [13:00:01<11:28:57,  1.13it/s]"
     ]
    },
    {
     "name": "stdout",
     "output_type": "stream",
     "text": [
      "G: 1.24 | D: 1.70 | GP: 0.31 | PL: 0.02\n"
     ]
    },
    {
     "name": "stderr",
     "output_type": "stream",
     "text": [
      "2211-ctest5</dreambig/qingyi/image_chicago/data/images/satellite/zoom15/>:  53%|█████▎    | 53150/100000 [13:00:46<11:28:13,  1.13it/s]"
     ]
    },
    {
     "name": "stdout",
     "output_type": "stream",
     "text": [
      "G: 1.24 | D: 1.20 | GP: 0.40 | PL: 0.02\n"
     ]
    },
    {
     "name": "stderr",
     "output_type": "stream",
     "text": [
      "2211-ctest5</dreambig/qingyi/image_chicago/data/images/satellite/zoom15/>:  53%|█████▎    | 53200/100000 [13:01:29<11:27:28,  1.13it/s]"
     ]
    },
    {
     "name": "stdout",
     "output_type": "stream",
     "text": [
      "G: 0.38 | D: 1.01 | GP: 1.01 | PL: 0.02\n"
     ]
    },
    {
     "name": "stderr",
     "output_type": "stream",
     "text": [
      "2211-ctest5</dreambig/qingyi/image_chicago/data/images/satellite/zoom15/>:  53%|█████▎    | 53250/100000 [13:02:14<11:26:45,  1.13it/s]"
     ]
    },
    {
     "name": "stdout",
     "output_type": "stream",
     "text": [
      "G: 1.02 | D: 0.86 | GP: 0.53 | PL: 0.02\n"
     ]
    },
    {
     "name": "stderr",
     "output_type": "stream",
     "text": [
      "2211-ctest5</dreambig/qingyi/image_chicago/data/images/satellite/zoom15/>:  53%|█████▎    | 53300/100000 [13:02:57<11:26:00,  1.13it/s]"
     ]
    },
    {
     "name": "stdout",
     "output_type": "stream",
     "text": [
      "G: 0.87 | D: 1.34 | GP: 1.40 | PL: 0.02\n"
     ]
    },
    {
     "name": "stderr",
     "output_type": "stream",
     "text": [
      "2211-ctest5</dreambig/qingyi/image_chicago/data/images/satellite/zoom15/>:  53%|█████▎    | 53350/100000 [13:03:42<11:25:17,  1.13it/s]"
     ]
    },
    {
     "name": "stdout",
     "output_type": "stream",
     "text": [
      "G: 0.90 | D: 0.96 | GP: 0.33 | PL: 0.02\n"
     ]
    },
    {
     "name": "stderr",
     "output_type": "stream",
     "text": [
      "2211-ctest5</dreambig/qingyi/image_chicago/data/images/satellite/zoom15/>:  53%|█████▎    | 53400/100000 [13:04:25<11:24:32,  1.13it/s]"
     ]
    },
    {
     "name": "stdout",
     "output_type": "stream",
     "text": [
      "G: 0.13 | D: 2.11 | GP: 0.17 | PL: 0.02\n"
     ]
    },
    {
     "name": "stderr",
     "output_type": "stream",
     "text": [
      "2211-ctest5</dreambig/qingyi/image_chicago/data/images/satellite/zoom15/>:  53%|█████▎    | 53450/100000 [13:05:10<11:23:48,  1.13it/s]"
     ]
    },
    {
     "name": "stdout",
     "output_type": "stream",
     "text": [
      "G: 0.56 | D: 0.96 | GP: 0.20 | PL: 0.02\n"
     ]
    },
    {
     "name": "stderr",
     "output_type": "stream",
     "text": [
      "2211-ctest5</dreambig/qingyi/image_chicago/data/images/satellite/zoom15/>:  54%|█████▎    | 53500/100000 [13:05:53<11:23:03,  1.13it/s]"
     ]
    },
    {
     "name": "stdout",
     "output_type": "stream",
     "text": [
      "G: 1.55 | D: 0.93 | GP: 0.36 | PL: 0.02\n"
     ]
    },
    {
     "name": "stderr",
     "output_type": "stream",
     "text": [
      "2211-ctest5</dreambig/qingyi/image_chicago/data/images/satellite/zoom15/>:  54%|█████▎    | 53550/100000 [13:06:37<11:22:20,  1.13it/s]"
     ]
    },
    {
     "name": "stdout",
     "output_type": "stream",
     "text": [
      "G: 1.27 | D: 1.10 | GP: 0.40 | PL: 0.02\n"
     ]
    },
    {
     "name": "stderr",
     "output_type": "stream",
     "text": [
      "2211-ctest5</dreambig/qingyi/image_chicago/data/images/satellite/zoom15/>:  54%|█████▎    | 53600/100000 [13:07:20<11:21:35,  1.13it/s]"
     ]
    },
    {
     "name": "stdout",
     "output_type": "stream",
     "text": [
      "G: -0.34 | D: 1.45 | GP: 0.42 | PL: 0.02\n"
     ]
    },
    {
     "name": "stderr",
     "output_type": "stream",
     "text": [
      "2211-ctest5</dreambig/qingyi/image_chicago/data/images/satellite/zoom15/>:  54%|█████▎    | 53650/100000 [13:08:06<11:20:52,  1.13it/s]"
     ]
    },
    {
     "name": "stdout",
     "output_type": "stream",
     "text": [
      "G: 0.71 | D: 1.20 | GP: 0.53 | PL: 0.02\n"
     ]
    },
    {
     "name": "stderr",
     "output_type": "stream",
     "text": [
      "2211-ctest5</dreambig/qingyi/image_chicago/data/images/satellite/zoom15/>:  54%|█████▎    | 53700/100000 [13:08:49<11:20:07,  1.13it/s]"
     ]
    },
    {
     "name": "stdout",
     "output_type": "stream",
     "text": [
      "G: 0.68 | D: 1.09 | GP: 0.69 | PL: 0.02\n"
     ]
    },
    {
     "name": "stderr",
     "output_type": "stream",
     "text": [
      "2211-ctest5</dreambig/qingyi/image_chicago/data/images/satellite/zoom15/>:  54%|█████▍    | 53750/100000 [13:09:34<11:19:23,  1.13it/s]"
     ]
    },
    {
     "name": "stdout",
     "output_type": "stream",
     "text": [
      "G: 0.79 | D: 1.24 | GP: 1.32 | PL: 0.02\n"
     ]
    },
    {
     "name": "stderr",
     "output_type": "stream",
     "text": [
      "2211-ctest5</dreambig/qingyi/image_chicago/data/images/satellite/zoom15/>:  54%|█████▍    | 53800/100000 [13:10:17<11:18:39,  1.13it/s]"
     ]
    },
    {
     "name": "stdout",
     "output_type": "stream",
     "text": [
      "G: 1.31 | D: 1.10 | GP: 0.66 | PL: 0.02\n"
     ]
    },
    {
     "name": "stderr",
     "output_type": "stream",
     "text": [
      "2211-ctest5</dreambig/qingyi/image_chicago/data/images/satellite/zoom15/>:  54%|█████▍    | 53850/100000 [13:11:01<11:17:55,  1.13it/s]"
     ]
    },
    {
     "name": "stdout",
     "output_type": "stream",
     "text": [
      "G: 1.15 | D: 1.06 | GP: 0.22 | PL: 0.02\n"
     ]
    },
    {
     "name": "stderr",
     "output_type": "stream",
     "text": [
      "2211-ctest5</dreambig/qingyi/image_chicago/data/images/satellite/zoom15/>:  54%|█████▍    | 53900/100000 [13:11:45<11:17:10,  1.13it/s]"
     ]
    },
    {
     "name": "stdout",
     "output_type": "stream",
     "text": [
      "G: 0.18 | D: 0.75 | GP: 0.14 | PL: 0.02\n"
     ]
    },
    {
     "name": "stderr",
     "output_type": "stream",
     "text": [
      "2211-ctest5</dreambig/qingyi/image_chicago/data/images/satellite/zoom15/>:  54%|█████▍    | 53950/100000 [13:12:30<11:16:27,  1.13it/s]"
     ]
    },
    {
     "name": "stdout",
     "output_type": "stream",
     "text": [
      "G: 0.89 | D: 1.63 | GP: 0.13 | PL: 0.02\n"
     ]
    },
    {
     "name": "stderr",
     "output_type": "stream",
     "text": [
      "2211-ctest5</dreambig/qingyi/image_chicago/data/images/satellite/zoom15/>:  54%|█████▍    | 54000/100000 [13:13:13<11:15:42,  1.13it/s]"
     ]
    },
    {
     "name": "stdout",
     "output_type": "stream",
     "text": [
      "G: 0.45 | D: 0.98 | GP: 0.35 | PL: 0.02\n"
     ]
    },
    {
     "name": "stderr",
     "output_type": "stream",
     "text": [
      "2211-ctest5</dreambig/qingyi/image_chicago/data/images/satellite/zoom15/>:  54%|█████▍    | 54050/100000 [13:14:01<11:15:01,  1.13it/s]"
     ]
    },
    {
     "name": "stdout",
     "output_type": "stream",
     "text": [
      "G: 1.46 | D: 1.21 | GP: 0.41 | PL: 0.02\n"
     ]
    },
    {
     "name": "stderr",
     "output_type": "stream",
     "text": [
      "2211-ctest5</dreambig/qingyi/image_chicago/data/images/satellite/zoom15/>:  54%|█████▍    | 54100/100000 [13:14:44<11:14:16,  1.13it/s]"
     ]
    },
    {
     "name": "stdout",
     "output_type": "stream",
     "text": [
      "G: 1.17 | D: 1.21 | GP: 0.23 | PL: 0.02\n"
     ]
    },
    {
     "name": "stderr",
     "output_type": "stream",
     "text": [
      "2211-ctest5</dreambig/qingyi/image_chicago/data/images/satellite/zoom15/>:  54%|█████▍    | 54150/100000 [13:15:29<11:13:33,  1.13it/s]"
     ]
    },
    {
     "name": "stdout",
     "output_type": "stream",
     "text": [
      "G: 1.06 | D: 0.92 | GP: 0.89 | PL: 0.02\n"
     ]
    },
    {
     "name": "stderr",
     "output_type": "stream",
     "text": [
      "2211-ctest5</dreambig/qingyi/image_chicago/data/images/satellite/zoom15/>:  54%|█████▍    | 54200/100000 [13:16:12<11:12:48,  1.13it/s]"
     ]
    },
    {
     "name": "stdout",
     "output_type": "stream",
     "text": [
      "G: 0.72 | D: 2.47 | GP: 0.14 | PL: 0.02\n"
     ]
    },
    {
     "name": "stderr",
     "output_type": "stream",
     "text": [
      "2211-ctest5</dreambig/qingyi/image_chicago/data/images/satellite/zoom15/>:  54%|█████▍    | 54250/100000 [13:16:57<11:12:05,  1.13it/s]"
     ]
    },
    {
     "name": "stdout",
     "output_type": "stream",
     "text": [
      "G: 0.13 | D: 1.46 | GP: 0.10 | PL: 0.02\n"
     ]
    },
    {
     "name": "stderr",
     "output_type": "stream",
     "text": [
      "2211-ctest5</dreambig/qingyi/image_chicago/data/images/satellite/zoom15/>:  54%|█████▍    | 54300/100000 [13:17:40<11:11:20,  1.13it/s]"
     ]
    },
    {
     "name": "stdout",
     "output_type": "stream",
     "text": [
      "G: 0.06 | D: 1.08 | GP: 0.04 | PL: 0.02\n"
     ]
    },
    {
     "name": "stderr",
     "output_type": "stream",
     "text": [
      "2211-ctest5</dreambig/qingyi/image_chicago/data/images/satellite/zoom15/>:  54%|█████▍    | 54350/100000 [13:18:25<11:10:37,  1.13it/s]"
     ]
    },
    {
     "name": "stdout",
     "output_type": "stream",
     "text": [
      "G: 1.73 | D: 1.03 | GP: 0.19 | PL: 0.02\n"
     ]
    },
    {
     "name": "stderr",
     "output_type": "stream",
     "text": [
      "2211-ctest5</dreambig/qingyi/image_chicago/data/images/satellite/zoom15/>:  54%|█████▍    | 54400/100000 [13:19:08<11:09:52,  1.13it/s]"
     ]
    },
    {
     "name": "stdout",
     "output_type": "stream",
     "text": [
      "G: 0.63 | D: 1.26 | GP: 0.92 | PL: 0.02\n"
     ]
    },
    {
     "name": "stderr",
     "output_type": "stream",
     "text": [
      "2211-ctest5</dreambig/qingyi/image_chicago/data/images/satellite/zoom15/>:  54%|█████▍    | 54450/100000 [13:19:53<11:09:08,  1.13it/s]"
     ]
    },
    {
     "name": "stdout",
     "output_type": "stream",
     "text": [
      "G: 0.26 | D: 1.27 | GP: 0.85 | PL: 0.02\n"
     ]
    },
    {
     "name": "stderr",
     "output_type": "stream",
     "text": [
      "2211-ctest5</dreambig/qingyi/image_chicago/data/images/satellite/zoom15/>:  55%|█████▍    | 54500/100000 [13:20:38<11:08:25,  1.13it/s]"
     ]
    },
    {
     "name": "stdout",
     "output_type": "stream",
     "text": [
      "G: 0.12 | D: 1.69 | GP: 0.12 | PL: 0.02\n"
     ]
    },
    {
     "name": "stderr",
     "output_type": "stream",
     "text": [
      "2211-ctest5</dreambig/qingyi/image_chicago/data/images/satellite/zoom15/>:  55%|█████▍    | 54550/100000 [13:21:22<11:07:41,  1.13it/s]"
     ]
    },
    {
     "name": "stdout",
     "output_type": "stream",
     "text": [
      "G: 0.73 | D: 1.41 | GP: 1.43 | PL: 0.02\n"
     ]
    },
    {
     "name": "stderr",
     "output_type": "stream",
     "text": [
      "2211-ctest5</dreambig/qingyi/image_chicago/data/images/satellite/zoom15/>:  55%|█████▍    | 54600/100000 [13:22:05<11:06:56,  1.13it/s]"
     ]
    },
    {
     "name": "stdout",
     "output_type": "stream",
     "text": [
      "G: 0.70 | D: 1.38 | GP: 1.71 | PL: 0.02\n"
     ]
    },
    {
     "name": "stderr",
     "output_type": "stream",
     "text": [
      "2211-ctest5</dreambig/qingyi/image_chicago/data/images/satellite/zoom15/>:  55%|█████▍    | 54650/100000 [13:22:50<11:06:12,  1.13it/s]"
     ]
    },
    {
     "name": "stdout",
     "output_type": "stream",
     "text": [
      "G: 0.85 | D: 0.92 | GP: 0.11 | PL: 0.02\n"
     ]
    },
    {
     "name": "stderr",
     "output_type": "stream",
     "text": [
      "2211-ctest5</dreambig/qingyi/image_chicago/data/images/satellite/zoom15/>:  55%|█████▍    | 54700/100000 [13:23:33<11:05:28,  1.13it/s]"
     ]
    },
    {
     "name": "stdout",
     "output_type": "stream",
     "text": [
      "G: 1.06 | D: 1.38 | GP: 6.08 | PL: 0.02\n"
     ]
    },
    {
     "name": "stderr",
     "output_type": "stream",
     "text": [
      "2211-ctest5</dreambig/qingyi/image_chicago/data/images/satellite/zoom15/>:  55%|█████▍    | 54750/100000 [13:24:17<11:04:44,  1.13it/s]"
     ]
    },
    {
     "name": "stdout",
     "output_type": "stream",
     "text": [
      "G: 1.21 | D: 1.63 | GP: 0.09 | PL: 0.02\n"
     ]
    },
    {
     "name": "stderr",
     "output_type": "stream",
     "text": [
      "2211-ctest5</dreambig/qingyi/image_chicago/data/images/satellite/zoom15/>:  55%|█████▍    | 54800/100000 [13:25:02<11:04:00,  1.13it/s]"
     ]
    },
    {
     "name": "stdout",
     "output_type": "stream",
     "text": [
      "G: -0.17 | D: 1.04 | GP: 0.14 | PL: 0.02\n"
     ]
    },
    {
     "name": "stderr",
     "output_type": "stream",
     "text": [
      "2211-ctest5</dreambig/qingyi/image_chicago/data/images/satellite/zoom15/>:  55%|█████▍    | 54850/100000 [13:25:46<11:03:16,  1.13it/s]"
     ]
    },
    {
     "name": "stdout",
     "output_type": "stream",
     "text": [
      "G: 0.57 | D: 1.20 | GP: 0.92 | PL: 0.02\n"
     ]
    },
    {
     "name": "stderr",
     "output_type": "stream",
     "text": [
      "2211-ctest5</dreambig/qingyi/image_chicago/data/images/satellite/zoom15/>:  55%|█████▍    | 54900/100000 [13:26:29<11:02:31,  1.13it/s]"
     ]
    },
    {
     "name": "stdout",
     "output_type": "stream",
     "text": [
      "G: -0.19 | D: 0.86 | GP: 0.28 | PL: 0.02\n"
     ]
    },
    {
     "name": "stderr",
     "output_type": "stream",
     "text": [
      "2211-ctest5</dreambig/qingyi/image_chicago/data/images/satellite/zoom15/>:  55%|█████▍    | 54950/100000 [13:27:14<11:01:48,  1.13it/s]"
     ]
    },
    {
     "name": "stdout",
     "output_type": "stream",
     "text": [
      "G: 0.85 | D: 0.91 | GP: 0.06 | PL: 0.02\n"
     ]
    },
    {
     "name": "stderr",
     "output_type": "stream",
     "text": [
      "2211-ctest5</dreambig/qingyi/image_chicago/data/images/satellite/zoom15/>:  55%|█████▌    | 55000/100000 [13:27:57<11:01:03,  1.13it/s]"
     ]
    },
    {
     "name": "stdout",
     "output_type": "stream",
     "text": [
      "G: 0.29 | D: 0.91 | GP: 0.07 | PL: 0.02\n"
     ]
    },
    {
     "name": "stderr",
     "output_type": "stream",
     "text": [
      "2211-ctest5</dreambig/qingyi/image_chicago/data/images/satellite/zoom15/>:  55%|█████▌    | 55050/100000 [13:28:44<11:00:21,  1.13it/s]"
     ]
    },
    {
     "name": "stdout",
     "output_type": "stream",
     "text": [
      "G: 0.32 | D: 1.34 | GP: 2.02 | PL: 0.02\n"
     ]
    },
    {
     "name": "stderr",
     "output_type": "stream",
     "text": [
      "2211-ctest5</dreambig/qingyi/image_chicago/data/images/satellite/zoom15/>:  55%|█████▌    | 55100/100000 [13:29:28<10:59:37,  1.13it/s]"
     ]
    },
    {
     "name": "stdout",
     "output_type": "stream",
     "text": [
      "G: 1.00 | D: 1.63 | GP: 0.06 | PL: 0.02\n"
     ]
    },
    {
     "name": "stderr",
     "output_type": "stream",
     "text": [
      "2211-ctest5</dreambig/qingyi/image_chicago/data/images/satellite/zoom15/>:  55%|█████▌    | 55150/100000 [13:30:13<10:58:54,  1.13it/s]"
     ]
    },
    {
     "name": "stdout",
     "output_type": "stream",
     "text": [
      "G: 0.01 | D: 1.09 | GP: 0.08 | PL: 0.02\n"
     ]
    },
    {
     "name": "stderr",
     "output_type": "stream",
     "text": [
      "2211-ctest5</dreambig/qingyi/image_chicago/data/images/satellite/zoom15/>:  55%|█████▌    | 55200/100000 [13:30:56<10:58:09,  1.13it/s]"
     ]
    },
    {
     "name": "stdout",
     "output_type": "stream",
     "text": [
      "G: 2.58 | D: 0.82 | GP: 0.05 | PL: 0.02\n"
     ]
    },
    {
     "name": "stderr",
     "output_type": "stream",
     "text": [
      "2211-ctest5</dreambig/qingyi/image_chicago/data/images/satellite/zoom15/>:  55%|█████▌    | 55250/100000 [13:31:40<10:57:25,  1.13it/s]"
     ]
    },
    {
     "name": "stdout",
     "output_type": "stream",
     "text": [
      "G: 1.11 | D: 0.95 | GP: 0.29 | PL: 0.02\n"
     ]
    },
    {
     "name": "stderr",
     "output_type": "stream",
     "text": [
      "2211-ctest5</dreambig/qingyi/image_chicago/data/images/satellite/zoom15/>:  55%|█████▌    | 55300/100000 [13:32:24<10:56:40,  1.13it/s]"
     ]
    },
    {
     "name": "stdout",
     "output_type": "stream",
     "text": [
      "G: 0.58 | D: 0.66 | GP: 0.18 | PL: 0.02\n"
     ]
    },
    {
     "name": "stderr",
     "output_type": "stream",
     "text": [
      "2211-ctest5</dreambig/qingyi/image_chicago/data/images/satellite/zoom15/>:  55%|█████▌    | 55350/100000 [13:33:08<10:55:56,  1.13it/s]"
     ]
    },
    {
     "name": "stdout",
     "output_type": "stream",
     "text": [
      "G: 0.47 | D: 1.44 | GP: 0.64 | PL: 0.02\n"
     ]
    },
    {
     "name": "stderr",
     "output_type": "stream",
     "text": [
      "2211-ctest5</dreambig/qingyi/image_chicago/data/images/satellite/zoom15/>:  55%|█████▌    | 55400/100000 [13:33:52<10:55:13,  1.13it/s]"
     ]
    },
    {
     "name": "stdout",
     "output_type": "stream",
     "text": [
      "G: 0.88 | D: 1.22 | GP: 4.76 | PL: 0.02\n"
     ]
    },
    {
     "name": "stderr",
     "output_type": "stream",
     "text": [
      "2211-ctest5</dreambig/qingyi/image_chicago/data/images/satellite/zoom15/>:  55%|█████▌    | 55450/100000 [13:34:36<10:54:29,  1.13it/s]"
     ]
    },
    {
     "name": "stdout",
     "output_type": "stream",
     "text": [
      "G: 0.27 | D: 1.48 | GP: 1.00 | PL: 0.02\n"
     ]
    },
    {
     "name": "stderr",
     "output_type": "stream",
     "text": [
      "2211-ctest5</dreambig/qingyi/image_chicago/data/images/satellite/zoom15/>:  56%|█████▌    | 55500/100000 [13:35:20<10:53:44,  1.13it/s]"
     ]
    },
    {
     "name": "stdout",
     "output_type": "stream",
     "text": [
      "G: 0.64 | D: 0.95 | GP: 0.32 | PL: 0.02\n"
     ]
    },
    {
     "name": "stderr",
     "output_type": "stream",
     "text": [
      "2211-ctest5</dreambig/qingyi/image_chicago/data/images/satellite/zoom15/>:  56%|█████▌    | 55550/100000 [13:36:04<10:53:00,  1.13it/s]"
     ]
    },
    {
     "name": "stdout",
     "output_type": "stream",
     "text": [
      "G: 0.55 | D: 1.05 | GP: 3.42 | PL: 0.02\n"
     ]
    },
    {
     "name": "stderr",
     "output_type": "stream",
     "text": [
      "2211-ctest5</dreambig/qingyi/image_chicago/data/images/satellite/zoom15/>:  56%|█████▌    | 55600/100000 [13:36:47<10:52:15,  1.13it/s]"
     ]
    },
    {
     "name": "stdout",
     "output_type": "stream",
     "text": [
      "G: 1.40 | D: 1.81 | GP: 0.03 | PL: 0.02\n"
     ]
    },
    {
     "name": "stderr",
     "output_type": "stream",
     "text": [
      "2211-ctest5</dreambig/qingyi/image_chicago/data/images/satellite/zoom15/>:  56%|█████▌    | 55650/100000 [13:37:31<10:51:31,  1.13it/s]"
     ]
    },
    {
     "name": "stdout",
     "output_type": "stream",
     "text": [
      "G: 0.49 | D: 1.20 | GP: 0.44 | PL: 0.02\n"
     ]
    },
    {
     "name": "stderr",
     "output_type": "stream",
     "text": [
      "2211-ctest5</dreambig/qingyi/image_chicago/data/images/satellite/zoom15/>:  56%|█████▌    | 55700/100000 [13:38:15<10:50:47,  1.13it/s]"
     ]
    },
    {
     "name": "stdout",
     "output_type": "stream",
     "text": [
      "G: 1.24 | D: 1.15 | GP: 0.89 | PL: 0.02\n"
     ]
    },
    {
     "name": "stderr",
     "output_type": "stream",
     "text": [
      "2211-ctest5</dreambig/qingyi/image_chicago/data/images/satellite/zoom15/>:  56%|█████▌    | 55750/100000 [13:38:59<10:50:03,  1.13it/s]"
     ]
    },
    {
     "name": "stdout",
     "output_type": "stream",
     "text": [
      "G: 1.63 | D: 1.43 | GP: 0.55 | PL: 0.02\n"
     ]
    },
    {
     "name": "stderr",
     "output_type": "stream",
     "text": [
      "2211-ctest5</dreambig/qingyi/image_chicago/data/images/satellite/zoom15/>:  56%|█████▌    | 55800/100000 [13:39:42<10:49:17,  1.13it/s]"
     ]
    },
    {
     "name": "stdout",
     "output_type": "stream",
     "text": [
      "G: 0.21 | D: 0.93 | GP: 0.32 | PL: 0.02\n"
     ]
    },
    {
     "name": "stderr",
     "output_type": "stream",
     "text": [
      "2211-ctest5</dreambig/qingyi/image_chicago/data/images/satellite/zoom15/>:  56%|█████▌    | 55850/100000 [13:40:26<10:48:33,  1.13it/s]"
     ]
    },
    {
     "name": "stdout",
     "output_type": "stream",
     "text": [
      "G: 0.82 | D: 1.64 | GP: 0.29 | PL: 0.02\n"
     ]
    },
    {
     "name": "stderr",
     "output_type": "stream",
     "text": [
      "2211-ctest5</dreambig/qingyi/image_chicago/data/images/satellite/zoom15/>:  56%|█████▌    | 55900/100000 [13:41:08<10:47:48,  1.13it/s]"
     ]
    },
    {
     "name": "stdout",
     "output_type": "stream",
     "text": [
      "G: 0.56 | D: 0.90 | GP: 0.07 | PL: 0.02\n"
     ]
    },
    {
     "name": "stderr",
     "output_type": "stream",
     "text": [
      "2211-ctest5</dreambig/qingyi/image_chicago/data/images/satellite/zoom15/>:  56%|█████▌    | 55950/100000 [13:41:52<10:47:04,  1.13it/s]"
     ]
    },
    {
     "name": "stdout",
     "output_type": "stream",
     "text": [
      "G: 0.22 | D: 1.12 | GP: 0.40 | PL: 0.02\n"
     ]
    },
    {
     "name": "stderr",
     "output_type": "stream",
     "text": [
      "2211-ctest5</dreambig/qingyi/image_chicago/data/images/satellite/zoom15/>:  56%|█████▌    | 56000/100000 [13:42:36<10:46:19,  1.13it/s]"
     ]
    },
    {
     "name": "stdout",
     "output_type": "stream",
     "text": [
      "G: 1.03 | D: 1.23 | GP: 0.08 | PL: 0.02\n"
     ]
    },
    {
     "name": "stderr",
     "output_type": "stream",
     "text": [
      "2211-ctest5</dreambig/qingyi/image_chicago/data/images/satellite/zoom15/>:  56%|█████▌    | 56050/100000 [13:43:22<10:45:37,  1.13it/s]"
     ]
    },
    {
     "name": "stdout",
     "output_type": "stream",
     "text": [
      "G: 1.74 | D: 0.95 | GP: 0.13 | PL: 0.02\n"
     ]
    },
    {
     "name": "stderr",
     "output_type": "stream",
     "text": [
      "2211-ctest5</dreambig/qingyi/image_chicago/data/images/satellite/zoom15/>:  56%|█████▌    | 56100/100000 [13:44:05<10:44:52,  1.13it/s]"
     ]
    },
    {
     "name": "stdout",
     "output_type": "stream",
     "text": [
      "G: -0.30 | D: 1.15 | GP: 0.10 | PL: 0.02\n"
     ]
    },
    {
     "name": "stderr",
     "output_type": "stream",
     "text": [
      "2211-ctest5</dreambig/qingyi/image_chicago/data/images/satellite/zoom15/>:  56%|█████▌    | 56150/100000 [13:44:49<10:44:08,  1.13it/s]"
     ]
    },
    {
     "name": "stdout",
     "output_type": "stream",
     "text": [
      "G: 0.66 | D: 1.14 | GP: 0.69 | PL: 0.02\n"
     ]
    },
    {
     "name": "stderr",
     "output_type": "stream",
     "text": [
      "2211-ctest5</dreambig/qingyi/image_chicago/data/images/satellite/zoom15/>:  56%|█████▌    | 56200/100000 [13:45:32<10:43:23,  1.13it/s]"
     ]
    },
    {
     "name": "stdout",
     "output_type": "stream",
     "text": [
      "G: 0.41 | D: 1.42 | GP: 0.27 | PL: 0.02\n"
     ]
    },
    {
     "name": "stderr",
     "output_type": "stream",
     "text": [
      "2211-ctest5</dreambig/qingyi/image_chicago/data/images/satellite/zoom15/>:  56%|█████▋    | 56250/100000 [13:46:16<10:42:39,  1.13it/s]"
     ]
    },
    {
     "name": "stdout",
     "output_type": "stream",
     "text": [
      "G: 0.92 | D: 1.47 | GP: 0.68 | PL: 0.02\n"
     ]
    },
    {
     "name": "stderr",
     "output_type": "stream",
     "text": [
      "2211-ctest5</dreambig/qingyi/image_chicago/data/images/satellite/zoom15/>:  56%|█████▋    | 56300/100000 [13:46:59<10:41:54,  1.13it/s]"
     ]
    },
    {
     "name": "stdout",
     "output_type": "stream",
     "text": [
      "G: 1.68 | D: 1.02 | GP: 0.80 | PL: 0.02\n"
     ]
    },
    {
     "name": "stderr",
     "output_type": "stream",
     "text": [
      "2211-ctest5</dreambig/qingyi/image_chicago/data/images/satellite/zoom15/>:  56%|█████▋    | 56350/100000 [13:47:43<10:41:10,  1.13it/s]"
     ]
    },
    {
     "name": "stdout",
     "output_type": "stream",
     "text": [
      "G: -0.05 | D: 1.24 | GP: 0.20 | PL: 0.02\n"
     ]
    },
    {
     "name": "stderr",
     "output_type": "stream",
     "text": [
      "2211-ctest5</dreambig/qingyi/image_chicago/data/images/satellite/zoom15/>:  56%|█████▋    | 56400/100000 [13:48:26<10:40:25,  1.13it/s]"
     ]
    },
    {
     "name": "stdout",
     "output_type": "stream",
     "text": [
      "G: -0.24 | D: 1.36 | GP: 0.19 | PL: 0.02\n"
     ]
    },
    {
     "name": "stderr",
     "output_type": "stream",
     "text": [
      "2211-ctest5</dreambig/qingyi/image_chicago/data/images/satellite/zoom15/>:  56%|█████▋    | 56450/100000 [13:49:10<10:39:41,  1.13it/s]"
     ]
    },
    {
     "name": "stdout",
     "output_type": "stream",
     "text": [
      "G: 1.50 | D: 1.13 | GP: 0.63 | PL: 0.02\n"
     ]
    },
    {
     "name": "stderr",
     "output_type": "stream",
     "text": [
      "2211-ctest5</dreambig/qingyi/image_chicago/data/images/satellite/zoom15/>:  56%|█████▋    | 56500/100000 [13:49:52<10:38:55,  1.13it/s]"
     ]
    },
    {
     "name": "stdout",
     "output_type": "stream",
     "text": [
      "G: 2.83 | D: 1.04 | GP: 0.08 | PL: 0.02\n"
     ]
    },
    {
     "name": "stderr",
     "output_type": "stream",
     "text": [
      "2211-ctest5</dreambig/qingyi/image_chicago/data/images/satellite/zoom15/>:  57%|█████▋    | 56550/100000 [13:50:36<10:38:11,  1.13it/s]"
     ]
    },
    {
     "name": "stdout",
     "output_type": "stream",
     "text": [
      "G: 0.34 | D: 0.94 | GP: 0.11 | PL: 0.02\n"
     ]
    },
    {
     "name": "stderr",
     "output_type": "stream",
     "text": [
      "2211-ctest5</dreambig/qingyi/image_chicago/data/images/satellite/zoom15/>:  57%|█████▋    | 56600/100000 [13:51:20<10:37:27,  1.13it/s]"
     ]
    },
    {
     "name": "stdout",
     "output_type": "stream",
     "text": [
      "G: 0.92 | D: 1.03 | GP: 0.09 | PL: 0.02\n"
     ]
    },
    {
     "name": "stderr",
     "output_type": "stream",
     "text": [
      "2211-ctest5</dreambig/qingyi/image_chicago/data/images/satellite/zoom15/>:  57%|█████▋    | 56650/100000 [13:52:04<10:36:43,  1.13it/s]"
     ]
    },
    {
     "name": "stdout",
     "output_type": "stream",
     "text": [
      "G: 1.33 | D: 0.93 | GP: 1.71 | PL: 0.02\n"
     ]
    },
    {
     "name": "stderr",
     "output_type": "stream",
     "text": [
      "2211-ctest5</dreambig/qingyi/image_chicago/data/images/satellite/zoom15/>:  57%|█████▋    | 56700/100000 [13:52:46<10:35:58,  1.13it/s]"
     ]
    },
    {
     "name": "stdout",
     "output_type": "stream",
     "text": [
      "G: 0.82 | D: 1.41 | GP: 0.85 | PL: 0.02\n"
     ]
    },
    {
     "name": "stderr",
     "output_type": "stream",
     "text": [
      "2211-ctest5</dreambig/qingyi/image_chicago/data/images/satellite/zoom15/>:  57%|█████▋    | 56750/100000 [13:53:31<10:35:14,  1.13it/s]"
     ]
    },
    {
     "name": "stdout",
     "output_type": "stream",
     "text": [
      "G: 1.55 | D: 1.23 | GP: 0.09 | PL: 0.02\n"
     ]
    },
    {
     "name": "stderr",
     "output_type": "stream",
     "text": [
      "2211-ctest5</dreambig/qingyi/image_chicago/data/images/satellite/zoom15/>:  57%|█████▋    | 56800/100000 [13:54:13<10:34:28,  1.13it/s]"
     ]
    },
    {
     "name": "stdout",
     "output_type": "stream",
     "text": [
      "G: 1.14 | D: 2.06 | GP: 0.29 | PL: 0.02\n"
     ]
    },
    {
     "name": "stderr",
     "output_type": "stream",
     "text": [
      "2211-ctest5</dreambig/qingyi/image_chicago/data/images/satellite/zoom15/>:  57%|█████▋    | 56850/100000 [13:54:58<10:33:45,  1.13it/s]"
     ]
    },
    {
     "name": "stdout",
     "output_type": "stream",
     "text": [
      "G: 1.09 | D: 0.99 | GP: 0.11 | PL: 0.02\n"
     ]
    },
    {
     "name": "stderr",
     "output_type": "stream",
     "text": [
      "2211-ctest5</dreambig/qingyi/image_chicago/data/images/satellite/zoom15/>:  57%|█████▋    | 56900/100000 [13:55:42<10:33:01,  1.13it/s]"
     ]
    },
    {
     "name": "stdout",
     "output_type": "stream",
     "text": [
      "G: 1.27 | D: 0.87 | GP: 0.58 | PL: 0.02\n"
     ]
    },
    {
     "name": "stderr",
     "output_type": "stream",
     "text": [
      "2211-ctest5</dreambig/qingyi/image_chicago/data/images/satellite/zoom15/>:  57%|█████▋    | 56950/100000 [13:56:26<10:32:17,  1.13it/s]"
     ]
    },
    {
     "name": "stdout",
     "output_type": "stream",
     "text": [
      "G: -0.72 | D: 1.62 | GP: 0.17 | PL: 0.02\n"
     ]
    },
    {
     "name": "stderr",
     "output_type": "stream",
     "text": [
      "2211-ctest5</dreambig/qingyi/image_chicago/data/images/satellite/zoom15/>:  57%|█████▋    | 57000/100000 [13:57:09<10:31:32,  1.13it/s]"
     ]
    },
    {
     "name": "stdout",
     "output_type": "stream",
     "text": [
      "G: 1.88 | D: 0.92 | GP: 0.28 | PL: 0.02\n"
     ]
    },
    {
     "name": "stderr",
     "output_type": "stream",
     "text": [
      "2211-ctest5</dreambig/qingyi/image_chicago/data/images/satellite/zoom15/>:  57%|█████▋    | 57050/100000 [13:57:56<10:30:50,  1.13it/s]"
     ]
    },
    {
     "name": "stdout",
     "output_type": "stream",
     "text": [
      "G: 0.62 | D: 0.94 | GP: 0.17 | PL: 0.02\n"
     ]
    },
    {
     "name": "stderr",
     "output_type": "stream",
     "text": [
      "2211-ctest5</dreambig/qingyi/image_chicago/data/images/satellite/zoom15/>:  57%|█████▋    | 57250/100000 [14:00:53<10:27:54,  1.13it/s]"
     ]
    },
    {
     "name": "stdout",
     "output_type": "stream",
     "text": [
      "G: 0.27 | D: 1.14 | GP: 0.39 | PL: 0.02\n"
     ]
    },
    {
     "name": "stderr",
     "output_type": "stream",
     "text": [
      "2211-ctest5</dreambig/qingyi/image_chicago/data/images/satellite/zoom15/>:  57%|█████▋    | 57300/100000 [14:01:36<10:27:10,  1.13it/s]"
     ]
    },
    {
     "name": "stdout",
     "output_type": "stream",
     "text": [
      "G: 0.71 | D: 0.95 | GP: 0.88 | PL: 0.02\n"
     ]
    },
    {
     "name": "stderr",
     "output_type": "stream",
     "text": [
      "2211-ctest5</dreambig/qingyi/image_chicago/data/images/satellite/zoom15/>:  57%|█████▋    | 57350/100000 [14:02:20<10:26:26,  1.13it/s]"
     ]
    },
    {
     "name": "stdout",
     "output_type": "stream",
     "text": [
      "G: -0.03 | D: 1.39 | GP: 0.07 | PL: 0.02\n"
     ]
    },
    {
     "name": "stderr",
     "output_type": "stream",
     "text": [
      "2211-ctest5</dreambig/qingyi/image_chicago/data/images/satellite/zoom15/>:  57%|█████▋    | 57400/100000 [14:03:03<10:25:41,  1.13it/s]"
     ]
    },
    {
     "name": "stdout",
     "output_type": "stream",
     "text": [
      "G: 2.54 | D: 1.40 | GP: 0.20 | PL: 0.02\n"
     ]
    },
    {
     "name": "stderr",
     "output_type": "stream",
     "text": [
      "2211-ctest5</dreambig/qingyi/image_chicago/data/images/satellite/zoom15/>:  57%|█████▋    | 57450/100000 [14:03:49<10:24:58,  1.13it/s]"
     ]
    },
    {
     "name": "stdout",
     "output_type": "stream",
     "text": [
      "G: 0.88 | D: 0.98 | GP: 0.69 | PL: 0.02\n"
     ]
    },
    {
     "name": "stderr",
     "output_type": "stream",
     "text": [
      "2211-ctest5</dreambig/qingyi/image_chicago/data/images/satellite/zoom15/>:  57%|█████▊    | 57500/100000 [14:04:31<10:24:13,  1.13it/s]"
     ]
    },
    {
     "name": "stdout",
     "output_type": "stream",
     "text": [
      "G: 2.56 | D: 0.78 | GP: 0.21 | PL: 0.02\n"
     ]
    },
    {
     "name": "stderr",
     "output_type": "stream",
     "text": [
      "2211-ctest5</dreambig/qingyi/image_chicago/data/images/satellite/zoom15/>:  58%|█████▊    | 57550/100000 [14:05:16<10:23:29,  1.13it/s]"
     ]
    },
    {
     "name": "stdout",
     "output_type": "stream",
     "text": [
      "G: 1.26 | D: 1.10 | GP: 3.62 | PL: 0.02\n"
     ]
    },
    {
     "name": "stderr",
     "output_type": "stream",
     "text": [
      "2211-ctest5</dreambig/qingyi/image_chicago/data/images/satellite/zoom15/>:  58%|█████▊    | 57600/100000 [14:05:58<10:22:44,  1.13it/s]"
     ]
    },
    {
     "name": "stdout",
     "output_type": "stream",
     "text": [
      "G: -0.27 | D: 1.21 | GP: 0.19 | PL: 0.02\n"
     ]
    },
    {
     "name": "stderr",
     "output_type": "stream",
     "text": [
      "2211-ctest5</dreambig/qingyi/image_chicago/data/images/satellite/zoom15/>:  58%|█████▊    | 57650/100000 [14:06:43<10:22:00,  1.13it/s]"
     ]
    },
    {
     "name": "stdout",
     "output_type": "stream",
     "text": [
      "G: 1.35 | D: 1.21 | GP: 0.39 | PL: 0.02\n"
     ]
    },
    {
     "name": "stderr",
     "output_type": "stream",
     "text": [
      "2211-ctest5</dreambig/qingyi/image_chicago/data/images/satellite/zoom15/>:  58%|█████▊    | 57700/100000 [14:07:26<10:21:15,  1.13it/s]"
     ]
    },
    {
     "name": "stdout",
     "output_type": "stream",
     "text": [
      "G: 0.38 | D: 0.98 | GP: 0.10 | PL: 0.02\n"
     ]
    },
    {
     "name": "stderr",
     "output_type": "stream",
     "text": [
      "2211-ctest5</dreambig/qingyi/image_chicago/data/images/satellite/zoom15/>:  58%|█████▊    | 57750/100000 [14:08:11<10:20:32,  1.13it/s]"
     ]
    },
    {
     "name": "stdout",
     "output_type": "stream",
     "text": [
      "G: 0.38 | D: 1.01 | GP: 1.19 | PL: 0.02\n"
     ]
    },
    {
     "name": "stderr",
     "output_type": "stream",
     "text": [
      "2211-ctest5</dreambig/qingyi/image_chicago/data/images/satellite/zoom15/>:  58%|█████▊    | 57800/100000 [14:08:55<10:19:48,  1.13it/s]"
     ]
    },
    {
     "name": "stdout",
     "output_type": "stream",
     "text": [
      "G: 0.43 | D: 0.88 | GP: 0.04 | PL: 0.02\n"
     ]
    },
    {
     "name": "stderr",
     "output_type": "stream",
     "text": [
      "2211-ctest5</dreambig/qingyi/image_chicago/data/images/satellite/zoom15/>:  58%|█████▊    | 57850/100000 [14:09:39<10:19:03,  1.13it/s]"
     ]
    },
    {
     "name": "stdout",
     "output_type": "stream",
     "text": [
      "G: 0.69 | D: 1.07 | GP: 0.41 | PL: 0.02\n"
     ]
    },
    {
     "name": "stderr",
     "output_type": "stream",
     "text": [
      "2211-ctest5</dreambig/qingyi/image_chicago/data/images/satellite/zoom15/>:  58%|█████▊    | 57900/100000 [14:10:22<10:18:19,  1.13it/s]"
     ]
    },
    {
     "name": "stdout",
     "output_type": "stream",
     "text": [
      "G: 0.86 | D: 1.31 | GP: 3.26 | PL: 0.02\n"
     ]
    },
    {
     "name": "stderr",
     "output_type": "stream",
     "text": [
      "2211-ctest5</dreambig/qingyi/image_chicago/data/images/satellite/zoom15/>:  58%|█████▊    | 57950/100000 [14:11:06<10:17:35,  1.13it/s]"
     ]
    },
    {
     "name": "stdout",
     "output_type": "stream",
     "text": [
      "G: 0.08 | D: 1.01 | GP: 0.91 | PL: 0.02\n"
     ]
    },
    {
     "name": "stderr",
     "output_type": "stream",
     "text": [
      "2211-ctest5</dreambig/qingyi/image_chicago/data/images/satellite/zoom15/>:  58%|█████▊    | 58000/100000 [14:11:50<10:16:50,  1.13it/s]"
     ]
    },
    {
     "name": "stdout",
     "output_type": "stream",
     "text": [
      "G: 1.01 | D: 0.92 | GP: 0.11 | PL: 0.02\n"
     ]
    },
    {
     "name": "stderr",
     "output_type": "stream",
     "text": [
      "2211-ctest5</dreambig/qingyi/image_chicago/data/images/satellite/zoom15/>:  58%|█████▊    | 58050/100000 [14:12:38<10:16:09,  1.13it/s]"
     ]
    },
    {
     "name": "stdout",
     "output_type": "stream",
     "text": [
      "G: 0.70 | D: 0.71 | GP: 0.16 | PL: 0.02\n"
     ]
    },
    {
     "name": "stderr",
     "output_type": "stream",
     "text": [
      "2211-ctest5</dreambig/qingyi/image_chicago/data/images/satellite/zoom15/>:  58%|█████▊    | 58100/100000 [14:13:20<10:15:24,  1.13it/s]"
     ]
    },
    {
     "name": "stdout",
     "output_type": "stream",
     "text": [
      "G: 0.63 | D: 0.90 | GP: 0.05 | PL: 0.02\n"
     ]
    },
    {
     "name": "stderr",
     "output_type": "stream",
     "text": [
      "2211-ctest5</dreambig/qingyi/image_chicago/data/images/satellite/zoom15/>:  58%|█████▊    | 58150/100000 [14:14:05<10:14:41,  1.13it/s]"
     ]
    },
    {
     "name": "stdout",
     "output_type": "stream",
     "text": [
      "G: 1.37 | D: 1.26 | GP: 0.06 | PL: 0.02\n"
     ]
    },
    {
     "name": "stderr",
     "output_type": "stream",
     "text": [
      "2211-ctest5</dreambig/qingyi/image_chicago/data/images/satellite/zoom15/>:  58%|█████▊    | 58200/100000 [14:14:48<10:13:56,  1.13it/s]"
     ]
    },
    {
     "name": "stdout",
     "output_type": "stream",
     "text": [
      "G: 1.36 | D: 1.55 | GP: 0.05 | PL: 0.02\n"
     ]
    },
    {
     "name": "stderr",
     "output_type": "stream",
     "text": [
      "2211-ctest5</dreambig/qingyi/image_chicago/data/images/satellite/zoom15/>:  58%|█████▊    | 58250/100000 [14:15:33<10:13:12,  1.13it/s]"
     ]
    },
    {
     "name": "stdout",
     "output_type": "stream",
     "text": [
      "G: 0.51 | D: 1.16 | GP: 0.45 | PL: 0.02\n"
     ]
    },
    {
     "name": "stderr",
     "output_type": "stream",
     "text": [
      "2211-ctest5</dreambig/qingyi/image_chicago/data/images/satellite/zoom15/>:  58%|█████▊    | 58300/100000 [14:16:15<10:12:27,  1.13it/s]"
     ]
    },
    {
     "name": "stdout",
     "output_type": "stream",
     "text": [
      "G: 3.54 | D: 1.07 | GP: 0.24 | PL: 0.02\n"
     ]
    },
    {
     "name": "stderr",
     "output_type": "stream",
     "text": [
      "2211-ctest5</dreambig/qingyi/image_chicago/data/images/satellite/zoom15/>:  58%|█████▊    | 58350/100000 [14:17:00<10:11:44,  1.13it/s]"
     ]
    },
    {
     "name": "stdout",
     "output_type": "stream",
     "text": [
      "G: 0.41 | D: 1.42 | GP: 0.81 | PL: 0.02\n"
     ]
    },
    {
     "name": "stderr",
     "output_type": "stream",
     "text": [
      "2211-ctest5</dreambig/qingyi/image_chicago/data/images/satellite/zoom15/>:  58%|█████▊    | 58400/100000 [14:17:43<10:10:59,  1.13it/s]"
     ]
    },
    {
     "name": "stdout",
     "output_type": "stream",
     "text": [
      "G: -0.44 | D: 1.01 | GP: 0.05 | PL: 0.02\n"
     ]
    },
    {
     "name": "stderr",
     "output_type": "stream",
     "text": [
      "2211-ctest5</dreambig/qingyi/image_chicago/data/images/satellite/zoom15/>:  58%|█████▊    | 58450/100000 [14:18:28<10:10:15,  1.13it/s]"
     ]
    },
    {
     "name": "stdout",
     "output_type": "stream",
     "text": [
      "G: 0.90 | D: 0.94 | GP: 0.22 | PL: 0.02\n"
     ]
    },
    {
     "name": "stderr",
     "output_type": "stream",
     "text": [
      "2211-ctest5</dreambig/qingyi/image_chicago/data/images/satellite/zoom15/>:  58%|█████▊    | 58500/100000 [14:19:11<10:09:30,  1.13it/s]"
     ]
    },
    {
     "name": "stdout",
     "output_type": "stream",
     "text": [
      "G: 0.51 | D: 0.80 | GP: 0.13 | PL: 0.02\n"
     ]
    },
    {
     "name": "stderr",
     "output_type": "stream",
     "text": [
      "2211-ctest5</dreambig/qingyi/image_chicago/data/images/satellite/zoom15/>:  59%|█████▊    | 58550/100000 [14:19:55<10:08:46,  1.13it/s]"
     ]
    },
    {
     "name": "stdout",
     "output_type": "stream",
     "text": [
      "G: 1.16 | D: 0.69 | GP: 0.18 | PL: 0.02\n"
     ]
    },
    {
     "name": "stderr",
     "output_type": "stream",
     "text": [
      "2211-ctest5</dreambig/qingyi/image_chicago/data/images/satellite/zoom15/>:  59%|█████▊    | 58600/100000 [14:20:39<10:08:02,  1.13it/s]"
     ]
    },
    {
     "name": "stdout",
     "output_type": "stream",
     "text": [
      "G: 0.31 | D: 0.83 | GP: 0.11 | PL: 0.02\n"
     ]
    },
    {
     "name": "stderr",
     "output_type": "stream",
     "text": [
      "2211-ctest5</dreambig/qingyi/image_chicago/data/images/satellite/zoom15/>:  59%|█████▊    | 58650/100000 [14:21:24<10:07:18,  1.13it/s]"
     ]
    },
    {
     "name": "stdout",
     "output_type": "stream",
     "text": [
      "G: 0.79 | D: 0.86 | GP: 0.10 | PL: 0.02\n"
     ]
    },
    {
     "name": "stderr",
     "output_type": "stream",
     "text": [
      "2211-ctest5</dreambig/qingyi/image_chicago/data/images/satellite/zoom15/>:  59%|█████▊    | 58700/100000 [14:22:07<10:06:34,  1.13it/s]"
     ]
    },
    {
     "name": "stdout",
     "output_type": "stream",
     "text": [
      "G: -0.02 | D: 1.14 | GP: 0.52 | PL: 0.02\n"
     ]
    },
    {
     "name": "stderr",
     "output_type": "stream",
     "text": [
      "2211-ctest5</dreambig/qingyi/image_chicago/data/images/satellite/zoom15/>:  59%|█████▉    | 58750/100000 [14:22:51<10:05:50,  1.13it/s]"
     ]
    },
    {
     "name": "stdout",
     "output_type": "stream",
     "text": [
      "G: 0.43 | D: 1.08 | GP: 0.10 | PL: 0.02\n"
     ]
    },
    {
     "name": "stderr",
     "output_type": "stream",
     "text": [
      "2211-ctest5</dreambig/qingyi/image_chicago/data/images/satellite/zoom15/>:  59%|█████▉    | 58800/100000 [14:23:34<10:05:05,  1.13it/s]"
     ]
    },
    {
     "name": "stdout",
     "output_type": "stream",
     "text": [
      "G: -0.14 | D: 1.20 | GP: 1.02 | PL: 0.02\n"
     ]
    },
    {
     "name": "stderr",
     "output_type": "stream",
     "text": [
      "2211-ctest5</dreambig/qingyi/image_chicago/data/images/satellite/zoom15/>:  59%|█████▉    | 58850/100000 [14:24:19<10:04:21,  1.13it/s]"
     ]
    },
    {
     "name": "stdout",
     "output_type": "stream",
     "text": [
      "G: 1.72 | D: 0.88 | GP: 0.08 | PL: 0.02\n"
     ]
    },
    {
     "name": "stderr",
     "output_type": "stream",
     "text": [
      "2211-ctest5</dreambig/qingyi/image_chicago/data/images/satellite/zoom15/>:  59%|█████▉    | 58900/100000 [14:25:02<10:03:37,  1.13it/s]"
     ]
    },
    {
     "name": "stdout",
     "output_type": "stream",
     "text": [
      "G: 0.27 | D: 1.53 | GP: 0.05 | PL: 0.02\n"
     ]
    },
    {
     "name": "stderr",
     "output_type": "stream",
     "text": [
      "2211-ctest5</dreambig/qingyi/image_chicago/data/images/satellite/zoom15/>:  59%|█████▉    | 58950/100000 [14:25:47<10:02:54,  1.13it/s]"
     ]
    },
    {
     "name": "stdout",
     "output_type": "stream",
     "text": [
      "G: 1.39 | D: 1.11 | GP: 0.25 | PL: 0.02\n"
     ]
    },
    {
     "name": "stderr",
     "output_type": "stream",
     "text": [
      "2211-ctest5</dreambig/qingyi/image_chicago/data/images/satellite/zoom15/>:  59%|█████▉    | 59000/100000 [14:26:30<10:02:09,  1.13it/s]"
     ]
    },
    {
     "name": "stdout",
     "output_type": "stream",
     "text": [
      "G: 0.25 | D: 0.94 | GP: 0.38 | PL: 0.02\n"
     ]
    },
    {
     "name": "stderr",
     "output_type": "stream",
     "text": [
      "2211-ctest5</dreambig/qingyi/image_chicago/data/images/satellite/zoom15/>:  59%|█████▉    | 59050/100000 [14:27:18<10:01:27,  1.13it/s]"
     ]
    },
    {
     "name": "stdout",
     "output_type": "stream",
     "text": [
      "G: 1.15 | D: 1.06 | GP: 0.13 | PL: 0.02\n"
     ]
    },
    {
     "name": "stderr",
     "output_type": "stream",
     "text": [
      "2211-ctest5</dreambig/qingyi/image_chicago/data/images/satellite/zoom15/>:  59%|█████▉    | 59100/100000 [14:28:00<10:00:42,  1.13it/s]"
     ]
    },
    {
     "name": "stdout",
     "output_type": "stream",
     "text": [
      "G: 0.78 | D: 1.38 | GP: 0.08 | PL: 0.02\n"
     ]
    },
    {
     "name": "stderr",
     "output_type": "stream",
     "text": [
      "2211-ctest5</dreambig/qingyi/image_chicago/data/images/satellite/zoom15/>:  59%|█████▉    | 59150/100000 [14:28:45<9:59:58,  1.13it/s] "
     ]
    },
    {
     "name": "stdout",
     "output_type": "stream",
     "text": [
      "G: 1.06 | D: 1.10 | GP: 1.44 | PL: 0.02\n"
     ]
    },
    {
     "name": "stderr",
     "output_type": "stream",
     "text": [
      "2211-ctest5</dreambig/qingyi/image_chicago/data/images/satellite/zoom15/>:  59%|█████▉    | 59200/100000 [14:29:28<9:59:13,  1.13it/s]"
     ]
    },
    {
     "name": "stdout",
     "output_type": "stream",
     "text": [
      "G: 1.50 | D: 1.08 | GP: 0.09 | PL: 0.02\n"
     ]
    },
    {
     "name": "stderr",
     "output_type": "stream",
     "text": [
      "2211-ctest5</dreambig/qingyi/image_chicago/data/images/satellite/zoom15/>:  59%|█████▉    | 59250/100000 [14:30:13<9:58:30,  1.13it/s]"
     ]
    },
    {
     "name": "stdout",
     "output_type": "stream",
     "text": [
      "G: 0.67 | D: 0.97 | GP: 0.24 | PL: 0.02\n"
     ]
    },
    {
     "name": "stderr",
     "output_type": "stream",
     "text": [
      "2211-ctest5</dreambig/qingyi/image_chicago/data/images/satellite/zoom15/>:  59%|█████▉    | 59300/100000 [14:30:56<9:57:46,  1.13it/s]"
     ]
    },
    {
     "name": "stdout",
     "output_type": "stream",
     "text": [
      "G: -0.39 | D: 1.47 | GP: 0.16 | PL: 0.02\n"
     ]
    },
    {
     "name": "stderr",
     "output_type": "stream",
     "text": [
      "2211-ctest5</dreambig/qingyi/image_chicago/data/images/satellite/zoom15/>:  59%|█████▉    | 59350/100000 [14:31:40<9:57:01,  1.13it/s]"
     ]
    },
    {
     "name": "stdout",
     "output_type": "stream",
     "text": [
      "G: 1.47 | D: 1.38 | GP: 0.15 | PL: 0.02\n"
     ]
    },
    {
     "name": "stderr",
     "output_type": "stream",
     "text": [
      "2211-ctest5</dreambig/qingyi/image_chicago/data/images/satellite/zoom15/>:  59%|█████▉    | 59400/100000 [14:32:24<9:56:17,  1.13it/s]"
     ]
    },
    {
     "name": "stdout",
     "output_type": "stream",
     "text": [
      "G: 2.32 | D: 0.90 | GP: 0.55 | PL: 0.02\n"
     ]
    },
    {
     "name": "stderr",
     "output_type": "stream",
     "text": [
      "2211-ctest5</dreambig/qingyi/image_chicago/data/images/satellite/zoom15/>:  59%|█████▉    | 59450/100000 [14:33:08<9:55:33,  1.13it/s]"
     ]
    },
    {
     "name": "stdout",
     "output_type": "stream",
     "text": [
      "G: 0.25 | D: 1.37 | GP: 0.32 | PL: 0.02\n"
     ]
    },
    {
     "name": "stderr",
     "output_type": "stream",
     "text": [
      "2211-ctest5</dreambig/qingyi/image_chicago/data/images/satellite/zoom15/>:  60%|█████▉    | 59500/100000 [14:33:51<9:54:48,  1.13it/s]"
     ]
    },
    {
     "name": "stdout",
     "output_type": "stream",
     "text": [
      "G: 2.85 | D: 1.08 | GP: 0.11 | PL: 0.02\n"
     ]
    },
    {
     "name": "stderr",
     "output_type": "stream",
     "text": [
      "2211-ctest5</dreambig/qingyi/image_chicago/data/images/satellite/zoom15/>:  60%|█████▉    | 59550/100000 [14:34:36<9:54:05,  1.13it/s]"
     ]
    },
    {
     "name": "stdout",
     "output_type": "stream",
     "text": [
      "G: 0.99 | D: 1.60 | GP: 0.48 | PL: 0.02\n"
     ]
    },
    {
     "name": "stderr",
     "output_type": "stream",
     "text": [
      "2211-ctest5</dreambig/qingyi/image_chicago/data/images/satellite/zoom15/>:  60%|█████▉    | 59600/100000 [14:35:20<9:53:20,  1.13it/s]"
     ]
    },
    {
     "name": "stdout",
     "output_type": "stream",
     "text": [
      "G: 0.02 | D: 1.42 | GP: 0.45 | PL: 0.02\n"
     ]
    },
    {
     "name": "stderr",
     "output_type": "stream",
     "text": [
      "2211-ctest5</dreambig/qingyi/image_chicago/data/images/satellite/zoom15/>:  60%|█████▉    | 59650/100000 [14:36:04<9:52:37,  1.13it/s]"
     ]
    },
    {
     "name": "stdout",
     "output_type": "stream",
     "text": [
      "G: 0.59 | D: 1.07 | GP: 0.40 | PL: 0.02\n"
     ]
    },
    {
     "name": "stderr",
     "output_type": "stream",
     "text": [
      "2211-ctest5</dreambig/qingyi/image_chicago/data/images/satellite/zoom15/>:  60%|█████▉    | 59700/100000 [14:36:47<9:51:52,  1.13it/s]"
     ]
    },
    {
     "name": "stdout",
     "output_type": "stream",
     "text": [
      "G: 0.75 | D: 1.44 | GP: 0.62 | PL: 0.02\n"
     ]
    },
    {
     "name": "stderr",
     "output_type": "stream",
     "text": [
      "2211-ctest5</dreambig/qingyi/image_chicago/data/images/satellite/zoom15/>:  60%|█████▉    | 59750/100000 [14:37:32<9:51:08,  1.13it/s]"
     ]
    },
    {
     "name": "stdout",
     "output_type": "stream",
     "text": [
      "G: 0.11 | D: 1.14 | GP: 1.51 | PL: 0.02\n"
     ]
    },
    {
     "name": "stderr",
     "output_type": "stream",
     "text": [
      "2211-ctest5</dreambig/qingyi/image_chicago/data/images/satellite/zoom15/>:  60%|█████▉    | 59800/100000 [14:38:15<9:50:23,  1.13it/s]"
     ]
    },
    {
     "name": "stdout",
     "output_type": "stream",
     "text": [
      "G: 0.65 | D: 1.00 | GP: 0.62 | PL: 0.02\n"
     ]
    },
    {
     "name": "stderr",
     "output_type": "stream",
     "text": [
      "2211-ctest5</dreambig/qingyi/image_chicago/data/images/satellite/zoom15/>:  60%|█████▉    | 59850/100000 [14:39:00<9:49:40,  1.13it/s]"
     ]
    },
    {
     "name": "stdout",
     "output_type": "stream",
     "text": [
      "G: 1.25 | D: 1.10 | GP: 0.54 | PL: 0.02\n"
     ]
    },
    {
     "name": "stderr",
     "output_type": "stream",
     "text": [
      "2211-ctest5</dreambig/qingyi/image_chicago/data/images/satellite/zoom15/>:  60%|█████▉    | 59900/100000 [14:39:43<9:48:55,  1.13it/s]"
     ]
    },
    {
     "name": "stdout",
     "output_type": "stream",
     "text": [
      "G: 0.40 | D: 1.11 | GP: 0.65 | PL: 0.02\n"
     ]
    },
    {
     "name": "stderr",
     "output_type": "stream",
     "text": [
      "2211-ctest5</dreambig/qingyi/image_chicago/data/images/satellite/zoom15/>:  60%|█████▉    | 59950/100000 [14:40:27<9:48:12,  1.13it/s]"
     ]
    },
    {
     "name": "stdout",
     "output_type": "stream",
     "text": [
      "G: 1.33 | D: 1.15 | GP: 0.15 | PL: 0.02\n"
     ]
    },
    {
     "name": "stderr",
     "output_type": "stream",
     "text": [
      "2211-ctest5</dreambig/qingyi/image_chicago/data/images/satellite/zoom15/>:  60%|██████    | 60000/100000 [14:41:10<9:47:27,  1.13it/s]"
     ]
    },
    {
     "name": "stdout",
     "output_type": "stream",
     "text": [
      "G: 1.30 | D: 1.23 | GP: 0.40 | PL: 0.02\n"
     ]
    },
    {
     "name": "stderr",
     "output_type": "stream",
     "text": [
      "2211-ctest5</dreambig/qingyi/image_chicago/data/images/satellite/zoom15/>:  60%|██████    | 60050/100000 [14:41:57<9:46:45,  1.13it/s]"
     ]
    },
    {
     "name": "stdout",
     "output_type": "stream",
     "text": [
      "G: 1.83 | D: 0.99 | GP: 0.14 | PL: 0.02\n"
     ]
    },
    {
     "name": "stderr",
     "output_type": "stream",
     "text": [
      "2211-ctest5</dreambig/qingyi/image_chicago/data/images/satellite/zoom15/>:  60%|██████    | 60100/100000 [14:42:42<9:46:01,  1.13it/s]"
     ]
    },
    {
     "name": "stdout",
     "output_type": "stream",
     "text": [
      "G: 1.64 | D: 0.82 | GP: 0.17 | PL: 0.02\n"
     ]
    },
    {
     "name": "stderr",
     "output_type": "stream",
     "text": [
      "2211-ctest5</dreambig/qingyi/image_chicago/data/images/satellite/zoom15/>:  60%|██████    | 60150/100000 [14:43:25<9:45:17,  1.13it/s]"
     ]
    },
    {
     "name": "stdout",
     "output_type": "stream",
     "text": [
      "G: 0.32 | D: 1.02 | GP: 0.13 | PL: 0.02\n"
     ]
    },
    {
     "name": "stderr",
     "output_type": "stream",
     "text": [
      "2211-ctest5</dreambig/qingyi/image_chicago/data/images/satellite/zoom15/>:  60%|██████    | 60154/100000 [14:43:29<9:45:13,  1.13it/s]IOPub message rate exceeded.\n",
      "The notebook server will temporarily stop sending output\n",
      "to the client in order to avoid crashing it.\n",
      "To change this limit, set the config variable\n",
      "`--NotebookApp.iopub_msg_rate_limit`.\n",
      "\n",
      "Current values:\n",
      "NotebookApp.iopub_msg_rate_limit=1000.0 (msgs/sec)\n",
      "NotebookApp.rate_limit_window=3.0 (secs)\n",
      "\n",
      "2211-ctest5</dreambig/qingyi/image_chicago/data/images/satellite/zoom15/>:  73%|███████▎  | 72900/100000 [17:50:32<6:37:57,  1.13it/s]"
     ]
    },
    {
     "name": "stdout",
     "output_type": "stream",
     "text": [
      "G: 1.24 | D: 1.25 | GP: 0.05 | PL: 0.02\n"
     ]
    },
    {
     "name": "stderr",
     "output_type": "stream",
     "text": [
      "2211-ctest5</dreambig/qingyi/image_chicago/data/images/satellite/zoom15/>:  73%|███████▎  | 72950/100000 [17:51:15<6:37:13,  1.13it/s]"
     ]
    },
    {
     "name": "stdout",
     "output_type": "stream",
     "text": [
      "G: 0.24 | D: 1.41 | GP: 4.21 | PL: 0.02\n"
     ]
    },
    {
     "name": "stderr",
     "output_type": "stream",
     "text": [
      "2211-ctest5</dreambig/qingyi/image_chicago/data/images/satellite/zoom15/>:  73%|███████▎  | 73000/100000 [17:51:59<6:36:29,  1.13it/s]"
     ]
    },
    {
     "name": "stdout",
     "output_type": "stream",
     "text": [
      "G: 0.17 | D: 1.19 | GP: 0.18 | PL: 0.02\n"
     ]
    },
    {
     "name": "stderr",
     "output_type": "stream",
     "text": [
      "2211-ctest5</dreambig/qingyi/image_chicago/data/images/satellite/zoom15/>:  73%|███████▎  | 73050/100000 [17:52:46<6:35:46,  1.13it/s]"
     ]
    },
    {
     "name": "stdout",
     "output_type": "stream",
     "text": [
      "G: 1.04 | D: 1.44 | GP: 0.49 | PL: 0.02\n"
     ]
    },
    {
     "name": "stderr",
     "output_type": "stream",
     "text": [
      "2211-ctest5</dreambig/qingyi/image_chicago/data/images/satellite/zoom15/>:  73%|███████▎  | 73100/100000 [17:53:30<6:35:02,  1.13it/s]"
     ]
    },
    {
     "name": "stdout",
     "output_type": "stream",
     "text": [
      "G: 0.97 | D: 1.18 | GP: 0.37 | PL: 0.02\n"
     ]
    },
    {
     "name": "stderr",
     "output_type": "stream",
     "text": [
      "2211-ctest5</dreambig/qingyi/image_chicago/data/images/satellite/zoom15/>:  73%|███████▎  | 73150/100000 [17:54:14<6:34:18,  1.13it/s]"
     ]
    },
    {
     "name": "stdout",
     "output_type": "stream",
     "text": [
      "G: 0.31 | D: 0.90 | GP: 0.43 | PL: 0.02\n"
     ]
    },
    {
     "name": "stderr",
     "output_type": "stream",
     "text": [
      "2211-ctest5</dreambig/qingyi/image_chicago/data/images/satellite/zoom15/>:  73%|███████▎  | 73200/100000 [17:54:57<6:33:33,  1.13it/s]"
     ]
    },
    {
     "name": "stdout",
     "output_type": "stream",
     "text": [
      "G: 0.79 | D: 0.99 | GP: 0.39 | PL: 0.02\n"
     ]
    },
    {
     "name": "stderr",
     "output_type": "stream",
     "text": [
      "2211-ctest5</dreambig/qingyi/image_chicago/data/images/satellite/zoom15/>:  73%|███████▎  | 73250/100000 [17:55:42<6:32:50,  1.13it/s]"
     ]
    },
    {
     "name": "stdout",
     "output_type": "stream",
     "text": [
      "G: 1.38 | D: 0.78 | GP: 0.39 | PL: 0.02\n"
     ]
    },
    {
     "name": "stderr",
     "output_type": "stream",
     "text": [
      "2211-ctest5</dreambig/qingyi/image_chicago/data/images/satellite/zoom15/>:  73%|███████▎  | 73300/100000 [17:56:25<6:32:05,  1.13it/s]"
     ]
    },
    {
     "name": "stdout",
     "output_type": "stream",
     "text": [
      "G: 1.14 | D: 1.22 | GP: 1.70 | PL: 0.02\n"
     ]
    },
    {
     "name": "stderr",
     "output_type": "stream",
     "text": [
      "2211-ctest5</dreambig/qingyi/image_chicago/data/images/satellite/zoom15/>:  73%|███████▎  | 73350/100000 [17:57:09<6:31:21,  1.13it/s]"
     ]
    },
    {
     "name": "stdout",
     "output_type": "stream",
     "text": [
      "G: 0.53 | D: 1.17 | GP: 0.27 | PL: 0.02\n"
     ]
    },
    {
     "name": "stderr",
     "output_type": "stream",
     "text": [
      "2211-ctest5</dreambig/qingyi/image_chicago/data/images/satellite/zoom15/>:  73%|███████▎  | 73400/100000 [17:57:53<6:30:37,  1.13it/s]"
     ]
    },
    {
     "name": "stdout",
     "output_type": "stream",
     "text": [
      "G: 0.55 | D: 1.14 | GP: 0.17 | PL: 0.02\n"
     ]
    },
    {
     "name": "stderr",
     "output_type": "stream",
     "text": [
      "2211-ctest5</dreambig/qingyi/image_chicago/data/images/satellite/zoom15/>:  73%|███████▎  | 73450/100000 [17:58:37<6:29:53,  1.13it/s]"
     ]
    },
    {
     "name": "stdout",
     "output_type": "stream",
     "text": [
      "G: 0.11 | D: 1.20 | GP: 0.22 | PL: 0.02\n"
     ]
    },
    {
     "name": "stderr",
     "output_type": "stream",
     "text": [
      "2211-ctest5</dreambig/qingyi/image_chicago/data/images/satellite/zoom15/>:  74%|███████▎  | 73500/100000 [17:59:20<6:29:08,  1.13it/s]"
     ]
    },
    {
     "name": "stdout",
     "output_type": "stream",
     "text": [
      "G: 0.31 | D: 1.01 | GP: 0.16 | PL: 0.02\n"
     ]
    },
    {
     "name": "stderr",
     "output_type": "stream",
     "text": [
      "2211-ctest5</dreambig/qingyi/image_chicago/data/images/satellite/zoom15/>:  74%|███████▎  | 73550/100000 [18:00:04<6:28:25,  1.13it/s]"
     ]
    },
    {
     "name": "stdout",
     "output_type": "stream",
     "text": [
      "G: 0.56 | D: 1.61 | GP: 0.13 | PL: 0.02\n"
     ]
    },
    {
     "name": "stderr",
     "output_type": "stream",
     "text": [
      "2211-ctest5</dreambig/qingyi/image_chicago/data/images/satellite/zoom15/>:  74%|███████▎  | 73600/100000 [18:00:47<6:27:40,  1.13it/s]"
     ]
    },
    {
     "name": "stdout",
     "output_type": "stream",
     "text": [
      "G: 0.59 | D: 0.98 | GP: 1.06 | PL: 0.02\n"
     ]
    },
    {
     "name": "stderr",
     "output_type": "stream",
     "text": [
      "2211-ctest5</dreambig/qingyi/image_chicago/data/images/satellite/zoom15/>:  74%|███████▎  | 73650/100000 [18:01:33<6:26:57,  1.13it/s]"
     ]
    },
    {
     "name": "stdout",
     "output_type": "stream",
     "text": [
      "G: 0.15 | D: 0.90 | GP: 0.08 | PL: 0.02\n"
     ]
    },
    {
     "name": "stderr",
     "output_type": "stream",
     "text": [
      "2211-ctest5</dreambig/qingyi/image_chicago/data/images/satellite/zoom15/>:  74%|███████▎  | 73700/100000 [18:02:16<6:26:12,  1.13it/s]"
     ]
    },
    {
     "name": "stdout",
     "output_type": "stream",
     "text": [
      "G: 1.37 | D: 0.94 | GP: 0.28 | PL: 0.02\n"
     ]
    },
    {
     "name": "stderr",
     "output_type": "stream",
     "text": [
      "2211-ctest5</dreambig/qingyi/image_chicago/data/images/satellite/zoom15/>:  74%|███████▍  | 73750/100000 [18:03:00<6:25:28,  1.13it/s]"
     ]
    },
    {
     "name": "stdout",
     "output_type": "stream",
     "text": [
      "G: 0.53 | D: 0.82 | GP: 0.35 | PL: 0.02\n"
     ]
    },
    {
     "name": "stderr",
     "output_type": "stream",
     "text": [
      "2211-ctest5</dreambig/qingyi/image_chicago/data/images/satellite/zoom15/>:  74%|███████▍  | 73800/100000 [18:03:44<6:24:44,  1.13it/s]"
     ]
    },
    {
     "name": "stdout",
     "output_type": "stream",
     "text": [
      "G: -0.13 | D: 1.39 | GP: 0.05 | PL: 0.02\n"
     ]
    },
    {
     "name": "stderr",
     "output_type": "stream",
     "text": [
      "2211-ctest5</dreambig/qingyi/image_chicago/data/images/satellite/zoom15/>:  74%|███████▍  | 73850/100000 [18:04:28<6:24:00,  1.13it/s]"
     ]
    },
    {
     "name": "stdout",
     "output_type": "stream",
     "text": [
      "G: 0.31 | D: 0.91 | GP: 0.21 | PL: 0.02\n"
     ]
    },
    {
     "name": "stderr",
     "output_type": "stream",
     "text": [
      "2211-ctest5</dreambig/qingyi/image_chicago/data/images/satellite/zoom15/>:  74%|███████▍  | 73900/100000 [18:05:11<6:23:15,  1.13it/s]"
     ]
    },
    {
     "name": "stdout",
     "output_type": "stream",
     "text": [
      "G: 1.13 | D: 1.03 | GP: 0.41 | PL: 0.02\n"
     ]
    },
    {
     "name": "stderr",
     "output_type": "stream",
     "text": [
      "2211-ctest5</dreambig/qingyi/image_chicago/data/images/satellite/zoom15/>:  74%|███████▍  | 73950/100000 [18:05:56<6:22:32,  1.13it/s]"
     ]
    },
    {
     "name": "stdout",
     "output_type": "stream",
     "text": [
      "G: 0.93 | D: 0.92 | GP: 0.19 | PL: 0.02\n"
     ]
    },
    {
     "name": "stderr",
     "output_type": "stream",
     "text": [
      "2211-ctest5</dreambig/qingyi/image_chicago/data/images/satellite/zoom15/>:  74%|███████▍  | 74000/100000 [18:06:39<6:21:48,  1.13it/s]"
     ]
    },
    {
     "name": "stdout",
     "output_type": "stream",
     "text": [
      "G: 3.33 | D: 1.07 | GP: 0.11 | PL: 0.02\n"
     ]
    },
    {
     "name": "stderr",
     "output_type": "stream",
     "text": [
      "2211-ctest5</dreambig/qingyi/image_chicago/data/images/satellite/zoom15/>:  74%|███████▍  | 74050/100000 [18:07:27<6:21:05,  1.13it/s]"
     ]
    },
    {
     "name": "stdout",
     "output_type": "stream",
     "text": [
      "G: 2.12 | D: 1.09 | GP: 0.03 | PL: 0.02\n"
     ]
    },
    {
     "name": "stderr",
     "output_type": "stream",
     "text": [
      "2211-ctest5</dreambig/qingyi/image_chicago/data/images/satellite/zoom15/>:  74%|███████▍  | 74100/100000 [18:08:10<6:20:20,  1.13it/s]"
     ]
    },
    {
     "name": "stdout",
     "output_type": "stream",
     "text": [
      "G: 1.11 | D: 0.99 | GP: 0.17 | PL: 0.02\n"
     ]
    },
    {
     "name": "stderr",
     "output_type": "stream",
     "text": [
      "2211-ctest5</dreambig/qingyi/image_chicago/data/images/satellite/zoom15/>:  74%|███████▍  | 74150/100000 [18:08:54<6:19:36,  1.13it/s]"
     ]
    },
    {
     "name": "stdout",
     "output_type": "stream",
     "text": [
      "G: -0.02 | D: 1.14 | GP: 0.26 | PL: 0.02\n"
     ]
    },
    {
     "name": "stderr",
     "output_type": "stream",
     "text": [
      "2211-ctest5</dreambig/qingyi/image_chicago/data/images/satellite/zoom15/>:  74%|███████▍  | 74200/100000 [18:09:37<6:18:52,  1.13it/s]"
     ]
    },
    {
     "name": "stdout",
     "output_type": "stream",
     "text": [
      "G: 0.90 | D: 1.14 | GP: 1.03 | PL: 0.02\n"
     ]
    },
    {
     "name": "stderr",
     "output_type": "stream",
     "text": [
      "2211-ctest5</dreambig/qingyi/image_chicago/data/images/satellite/zoom15/>:  74%|███████▍  | 74250/100000 [18:10:23<6:18:08,  1.13it/s]"
     ]
    },
    {
     "name": "stdout",
     "output_type": "stream",
     "text": [
      "G: 0.46 | D: 0.99 | GP: 0.46 | PL: 0.02\n"
     ]
    },
    {
     "name": "stderr",
     "output_type": "stream",
     "text": [
      "2211-ctest5</dreambig/qingyi/image_chicago/data/images/satellite/zoom15/>:  74%|███████▍  | 74300/100000 [18:11:05<6:17:24,  1.13it/s]"
     ]
    },
    {
     "name": "stdout",
     "output_type": "stream",
     "text": [
      "G: 0.87 | D: 0.75 | GP: 0.12 | PL: 0.02\n"
     ]
    },
    {
     "name": "stderr",
     "output_type": "stream",
     "text": [
      "2211-ctest5</dreambig/qingyi/image_chicago/data/images/satellite/zoom15/>:  74%|███████▍  | 74350/100000 [18:11:50<6:16:40,  1.13it/s]"
     ]
    },
    {
     "name": "stdout",
     "output_type": "stream",
     "text": [
      "G: 1.36 | D: 1.13 | GP: 0.03 | PL: 0.02\n"
     ]
    },
    {
     "name": "stderr",
     "output_type": "stream",
     "text": [
      "2211-ctest5</dreambig/qingyi/image_chicago/data/images/satellite/zoom15/>:  74%|███████▍  | 74400/100000 [18:12:33<6:15:56,  1.13it/s]"
     ]
    },
    {
     "name": "stdout",
     "output_type": "stream",
     "text": [
      "G: 1.97 | D: 0.75 | GP: 0.09 | PL: 0.02\n"
     ]
    },
    {
     "name": "stderr",
     "output_type": "stream",
     "text": [
      "2211-ctest5</dreambig/qingyi/image_chicago/data/images/satellite/zoom15/>:  74%|███████▍  | 74450/100000 [18:13:18<6:15:12,  1.13it/s]"
     ]
    },
    {
     "name": "stdout",
     "output_type": "stream",
     "text": [
      "G: 0.01 | D: 0.75 | GP: 0.16 | PL: 0.02\n"
     ]
    },
    {
     "name": "stderr",
     "output_type": "stream",
     "text": [
      "2211-ctest5</dreambig/qingyi/image_chicago/data/images/satellite/zoom15/>:  74%|███████▍  | 74500/100000 [18:14:01<6:14:27,  1.13it/s]"
     ]
    },
    {
     "name": "stdout",
     "output_type": "stream",
     "text": [
      "G: 0.74 | D: 1.03 | GP: 0.14 | PL: 0.02\n"
     ]
    },
    {
     "name": "stderr",
     "output_type": "stream",
     "text": [
      "2211-ctest5</dreambig/qingyi/image_chicago/data/images/satellite/zoom15/>:  75%|███████▍  | 74550/100000 [18:14:46<6:13:44,  1.13it/s]"
     ]
    },
    {
     "name": "stdout",
     "output_type": "stream",
     "text": [
      "G: 0.18 | D: 1.06 | GP: 0.65 | PL: 0.02\n"
     ]
    },
    {
     "name": "stderr",
     "output_type": "stream",
     "text": [
      "2211-ctest5</dreambig/qingyi/image_chicago/data/images/satellite/zoom15/>:  75%|███████▍  | 74600/100000 [18:15:29<6:12:59,  1.13it/s]"
     ]
    },
    {
     "name": "stdout",
     "output_type": "stream",
     "text": [
      "G: 0.55 | D: 0.86 | GP: 0.09 | PL: 0.02\n"
     ]
    },
    {
     "name": "stderr",
     "output_type": "stream",
     "text": [
      "2211-ctest5</dreambig/qingyi/image_chicago/data/images/satellite/zoom15/>:  75%|███████▍  | 74650/100000 [18:16:13<6:12:15,  1.13it/s]"
     ]
    },
    {
     "name": "stdout",
     "output_type": "stream",
     "text": [
      "G: 0.80 | D: 1.34 | GP: 1.51 | PL: 0.02\n"
     ]
    },
    {
     "name": "stderr",
     "output_type": "stream",
     "text": [
      "2211-ctest5</dreambig/qingyi/image_chicago/data/images/satellite/zoom15/>:  75%|███████▍  | 74700/100000 [18:16:56<6:11:31,  1.13it/s]"
     ]
    },
    {
     "name": "stdout",
     "output_type": "stream",
     "text": [
      "G: 1.61 | D: 1.14 | GP: 0.13 | PL: 0.02\n"
     ]
    },
    {
     "name": "stderr",
     "output_type": "stream",
     "text": [
      "2211-ctest5</dreambig/qingyi/image_chicago/data/images/satellite/zoom15/>:  75%|███████▍  | 74750/100000 [18:17:40<6:10:47,  1.13it/s]"
     ]
    },
    {
     "name": "stdout",
     "output_type": "stream",
     "text": [
      "G: 0.47 | D: 1.12 | GP: 0.30 | PL: 0.02\n"
     ]
    },
    {
     "name": "stderr",
     "output_type": "stream",
     "text": [
      "2211-ctest5</dreambig/qingyi/image_chicago/data/images/satellite/zoom15/>:  75%|███████▍  | 74800/100000 [18:18:24<6:10:03,  1.13it/s]"
     ]
    },
    {
     "name": "stdout",
     "output_type": "stream",
     "text": [
      "G: 0.57 | D: 0.91 | GP: 0.11 | PL: 0.02\n"
     ]
    },
    {
     "name": "stderr",
     "output_type": "stream",
     "text": [
      "2211-ctest5</dreambig/qingyi/image_chicago/data/images/satellite/zoom15/>:  75%|███████▍  | 74850/100000 [18:19:09<6:09:19,  1.13it/s]"
     ]
    },
    {
     "name": "stdout",
     "output_type": "stream",
     "text": [
      "G: 0.34 | D: 0.83 | GP: 0.08 | PL: 0.02\n"
     ]
    },
    {
     "name": "stderr",
     "output_type": "stream",
     "text": [
      "2211-ctest5</dreambig/qingyi/image_chicago/data/images/satellite/zoom15/>:  75%|███████▍  | 74900/100000 [18:19:52<6:08:35,  1.13it/s]"
     ]
    },
    {
     "name": "stdout",
     "output_type": "stream",
     "text": [
      "G: 0.25 | D: 1.04 | GP: 0.22 | PL: 0.02\n"
     ]
    },
    {
     "name": "stderr",
     "output_type": "stream",
     "text": [
      "2211-ctest5</dreambig/qingyi/image_chicago/data/images/satellite/zoom15/>:  75%|███████▍  | 74950/100000 [18:20:37<6:07:51,  1.13it/s]"
     ]
    },
    {
     "name": "stdout",
     "output_type": "stream",
     "text": [
      "G: 0.41 | D: 0.86 | GP: 0.07 | PL: 0.02\n"
     ]
    },
    {
     "name": "stderr",
     "output_type": "stream",
     "text": [
      "2211-ctest5</dreambig/qingyi/image_chicago/data/images/satellite/zoom15/>:  75%|███████▌  | 75000/100000 [18:21:20<6:07:06,  1.13it/s]"
     ]
    },
    {
     "name": "stdout",
     "output_type": "stream",
     "text": [
      "G: 0.82 | D: 0.87 | GP: 0.46 | PL: 0.02\n"
     ]
    },
    {
     "name": "stderr",
     "output_type": "stream",
     "text": [
      "2211-ctest5</dreambig/qingyi/image_chicago/data/images/satellite/zoom15/>:  75%|███████▌  | 75050/100000 [18:22:07<6:06:23,  1.13it/s]"
     ]
    },
    {
     "name": "stdout",
     "output_type": "stream",
     "text": [
      "G: 1.76 | D: 1.21 | GP: 0.18 | PL: 0.02\n"
     ]
    },
    {
     "name": "stderr",
     "output_type": "stream",
     "text": [
      "2211-ctest5</dreambig/qingyi/image_chicago/data/images/satellite/zoom15/>:  75%|███████▌  | 75100/100000 [18:22:50<6:05:39,  1.13it/s]"
     ]
    },
    {
     "name": "stdout",
     "output_type": "stream",
     "text": [
      "G: 0.34 | D: 0.87 | GP: 0.10 | PL: 0.02\n"
     ]
    },
    {
     "name": "stderr",
     "output_type": "stream",
     "text": [
      "2211-ctest5</dreambig/qingyi/image_chicago/data/images/satellite/zoom15/>:  75%|███████▌  | 75150/100000 [18:23:35<6:04:55,  1.13it/s]"
     ]
    },
    {
     "name": "stdout",
     "output_type": "stream",
     "text": [
      "G: 0.31 | D: 1.16 | GP: 0.13 | PL: 0.02\n"
     ]
    },
    {
     "name": "stderr",
     "output_type": "stream",
     "text": [
      "2211-ctest5</dreambig/qingyi/image_chicago/data/images/satellite/zoom15/>:  75%|███████▌  | 75200/100000 [18:24:18<6:04:11,  1.13it/s]"
     ]
    },
    {
     "name": "stdout",
     "output_type": "stream",
     "text": [
      "G: 0.19 | D: 0.87 | GP: 0.63 | PL: 0.02\n"
     ]
    },
    {
     "name": "stderr",
     "output_type": "stream",
     "text": [
      "2211-ctest5</dreambig/qingyi/image_chicago/data/images/satellite/zoom15/>:  75%|███████▌  | 75250/100000 [18:25:03<6:03:27,  1.13it/s]"
     ]
    },
    {
     "name": "stdout",
     "output_type": "stream",
     "text": [
      "G: 1.36 | D: 1.24 | GP: 0.44 | PL: 0.02\n"
     ]
    },
    {
     "name": "stderr",
     "output_type": "stream",
     "text": [
      "2211-ctest5</dreambig/qingyi/image_chicago/data/images/satellite/zoom15/>:  75%|███████▌  | 75300/100000 [18:25:46<6:02:43,  1.13it/s]"
     ]
    },
    {
     "name": "stdout",
     "output_type": "stream",
     "text": [
      "G: 0.46 | D: 1.69 | GP: 0.23 | PL: 0.02\n"
     ]
    },
    {
     "name": "stderr",
     "output_type": "stream",
     "text": [
      "2211-ctest5</dreambig/qingyi/image_chicago/data/images/satellite/zoom15/>:  75%|███████▌  | 75350/100000 [18:26:30<6:01:59,  1.13it/s]"
     ]
    },
    {
     "name": "stdout",
     "output_type": "stream",
     "text": [
      "G: 0.94 | D: 1.00 | GP: 0.25 | PL: 0.02\n"
     ]
    },
    {
     "name": "stderr",
     "output_type": "stream",
     "text": [
      "2211-ctest5</dreambig/qingyi/image_chicago/data/images/satellite/zoom15/>:  75%|███████▌  | 75400/100000 [18:27:13<6:01:14,  1.13it/s]"
     ]
    },
    {
     "name": "stdout",
     "output_type": "stream",
     "text": [
      "G: 1.25 | D: 0.94 | GP: 0.09 | PL: 0.02\n"
     ]
    },
    {
     "name": "stderr",
     "output_type": "stream",
     "text": [
      "2211-ctest5</dreambig/qingyi/image_chicago/data/images/satellite/zoom15/>:  75%|███████▌  | 75450/100000 [18:27:58<6:00:30,  1.13it/s]"
     ]
    },
    {
     "name": "stdout",
     "output_type": "stream",
     "text": [
      "G: 0.98 | D: 0.91 | GP: 0.07 | PL: 0.02\n"
     ]
    },
    {
     "name": "stderr",
     "output_type": "stream",
     "text": [
      "2211-ctest5</dreambig/qingyi/image_chicago/data/images/satellite/zoom15/>:  76%|███████▌  | 75500/100000 [18:28:42<5:59:46,  1.13it/s]"
     ]
    },
    {
     "name": "stdout",
     "output_type": "stream",
     "text": [
      "G: 2.14 | D: 1.50 | GP: 0.05 | PL: 0.02\n"
     ]
    },
    {
     "name": "stderr",
     "output_type": "stream",
     "text": [
      "2211-ctest5</dreambig/qingyi/image_chicago/data/images/satellite/zoom15/>:  76%|███████▌  | 75550/100000 [18:29:26<5:59:02,  1.13it/s]"
     ]
    },
    {
     "name": "stdout",
     "output_type": "stream",
     "text": [
      "G: 0.86 | D: 1.05 | GP: 1.93 | PL: 0.02\n"
     ]
    },
    {
     "name": "stderr",
     "output_type": "stream",
     "text": [
      "2211-ctest5</dreambig/qingyi/image_chicago/data/images/satellite/zoom15/>:  76%|███████▌  | 75600/100000 [18:30:09<5:58:18,  1.13it/s]"
     ]
    },
    {
     "name": "stdout",
     "output_type": "stream",
     "text": [
      "G: 0.89 | D: 1.14 | GP: 0.14 | PL: 0.02\n"
     ]
    },
    {
     "name": "stderr",
     "output_type": "stream",
     "text": [
      "2211-ctest5</dreambig/qingyi/image_chicago/data/images/satellite/zoom15/>:  76%|███████▌  | 75650/100000 [18:30:54<5:57:34,  1.13it/s]"
     ]
    },
    {
     "name": "stdout",
     "output_type": "stream",
     "text": [
      "G: 0.42 | D: 0.92 | GP: 0.10 | PL: 0.02\n"
     ]
    },
    {
     "name": "stderr",
     "output_type": "stream",
     "text": [
      "2211-ctest5</dreambig/qingyi/image_chicago/data/images/satellite/zoom15/>:  76%|███████▌  | 75700/100000 [18:31:37<5:56:50,  1.13it/s]"
     ]
    },
    {
     "name": "stdout",
     "output_type": "stream",
     "text": [
      "G: 0.98 | D: 0.94 | GP: 1.01 | PL: 0.02\n"
     ]
    },
    {
     "name": "stderr",
     "output_type": "stream",
     "text": [
      "2211-ctest5</dreambig/qingyi/image_chicago/data/images/satellite/zoom15/>:  76%|███████▌  | 75750/100000 [18:32:22<5:56:06,  1.13it/s]"
     ]
    },
    {
     "name": "stdout",
     "output_type": "stream",
     "text": [
      "G: 1.16 | D: 0.81 | GP: 0.02 | PL: 0.02\n"
     ]
    },
    {
     "name": "stderr",
     "output_type": "stream",
     "text": [
      "2211-ctest5</dreambig/qingyi/image_chicago/data/images/satellite/zoom15/>:  76%|███████▌  | 75800/100000 [18:33:05<5:55:21,  1.13it/s]"
     ]
    },
    {
     "name": "stdout",
     "output_type": "stream",
     "text": [
      "G: 1.69 | D: 0.87 | GP: 0.26 | PL: 0.02\n"
     ]
    },
    {
     "name": "stderr",
     "output_type": "stream",
     "text": [
      "2211-ctest5</dreambig/qingyi/image_chicago/data/images/satellite/zoom15/>:  76%|███████▌  | 75803/100000 [18:33:08<5:55:19,  1.13it/s]IOPub message rate exceeded.\n",
      "The notebook server will temporarily stop sending output\n",
      "to the client in order to avoid crashing it.\n",
      "To change this limit, set the config variable\n",
      "`--NotebookApp.iopub_msg_rate_limit`.\n",
      "\n",
      "Current values:\n",
      "NotebookApp.iopub_msg_rate_limit=1000.0 (msgs/sec)\n",
      "NotebookApp.rate_limit_window=3.0 (secs)\n",
      "\n",
      "2211-ctest5</dreambig/qingyi/image_chicago/data/images/satellite/zoom15/>:  89%|████████▉ | 89150/100000 [21:48:57<2:39:18,  1.14it/s]"
     ]
    },
    {
     "name": "stdout",
     "output_type": "stream",
     "text": [
      "G: 0.67 | D: 0.81 | GP: 0.08 | PL: 0.02\n"
     ]
    },
    {
     "name": "stderr",
     "output_type": "stream",
     "text": [
      "2211-ctest5</dreambig/qingyi/image_chicago/data/images/satellite/zoom15/>:  89%|████████▉ | 89200/100000 [21:49:40<2:38:34,  1.14it/s]"
     ]
    },
    {
     "name": "stdout",
     "output_type": "stream",
     "text": [
      "G: 1.16 | D: 0.85 | GP: 1.71 | PL: 0.02\n"
     ]
    },
    {
     "name": "stderr",
     "output_type": "stream",
     "text": [
      "2211-ctest5</dreambig/qingyi/image_chicago/data/images/satellite/zoom15/>:  89%|████████▉ | 89250/100000 [21:50:25<2:37:50,  1.14it/s]"
     ]
    },
    {
     "name": "stdout",
     "output_type": "stream",
     "text": [
      "G: 1.29 | D: 0.87 | GP: 0.06 | PL: 0.02\n"
     ]
    },
    {
     "name": "stderr",
     "output_type": "stream",
     "text": [
      "2211-ctest5</dreambig/qingyi/image_chicago/data/images/satellite/zoom15/>:  89%|████████▉ | 89300/100000 [21:51:09<2:37:06,  1.14it/s]"
     ]
    },
    {
     "name": "stdout",
     "output_type": "stream",
     "text": [
      "G: 0.97 | D: 1.15 | GP: 1.84 | PL: 0.02\n"
     ]
    },
    {
     "name": "stderr",
     "output_type": "stream",
     "text": [
      "2211-ctest5</dreambig/qingyi/image_chicago/data/images/satellite/zoom15/>:  89%|████████▉ | 89350/100000 [21:51:53<2:36:22,  1.14it/s]"
     ]
    },
    {
     "name": "stdout",
     "output_type": "stream",
     "text": [
      "G: 1.79 | D: 0.75 | GP: 0.13 | PL: 0.02\n"
     ]
    },
    {
     "name": "stderr",
     "output_type": "stream",
     "text": [
      "2211-ctest5</dreambig/qingyi/image_chicago/data/images/satellite/zoom15/>:  89%|████████▉ | 89400/100000 [21:52:36<2:35:38,  1.14it/s]"
     ]
    },
    {
     "name": "stdout",
     "output_type": "stream",
     "text": [
      "G: -0.02 | D: 1.19 | GP: 0.05 | PL: 0.02\n"
     ]
    },
    {
     "name": "stderr",
     "output_type": "stream",
     "text": [
      "2211-ctest5</dreambig/qingyi/image_chicago/data/images/satellite/zoom15/>:  89%|████████▉ | 89450/100000 [21:53:21<2:34:54,  1.14it/s]"
     ]
    },
    {
     "name": "stdout",
     "output_type": "stream",
     "text": [
      "G: 0.75 | D: 0.80 | GP: 0.08 | PL: 0.02\n"
     ]
    },
    {
     "name": "stderr",
     "output_type": "stream",
     "text": [
      "2211-ctest5</dreambig/qingyi/image_chicago/data/images/satellite/zoom15/>:  90%|████████▉ | 89500/100000 [21:54:03<2:34:09,  1.14it/s]"
     ]
    },
    {
     "name": "stdout",
     "output_type": "stream",
     "text": [
      "G: 0.42 | D: 1.02 | GP: 0.30 | PL: 0.02\n"
     ]
    },
    {
     "name": "stderr",
     "output_type": "stream",
     "text": [
      "2211-ctest5</dreambig/qingyi/image_chicago/data/images/satellite/zoom15/>:  90%|████████▉ | 89531/100000 [21:54:31<2:33:42,  1.14it/s]"
     ]
    }
   ],
   "source": [
    "rank = 0\n",
    "world_size = 1\n",
    "run_training(rank, world_size, model_args, data, load_from, new, num_train_steps, name, seed)"
   ]
  },
  {
   "cell_type": "code",
   "execution_count": 7,
   "id": "e5bea289",
   "metadata": {},
   "outputs": [
    {
     "name": "stdout",
     "output_type": "stream",
     "text": [
      "Results directory: /home/jtl/Dropbox (MIT)/project_image_demand/results/sGAN2/2211-ctest5\n",
      "Model directory: /dreambig/qingyi/image_chicago/models/sGAN2/2211-ctest5\n"
     ]
    }
   ],
   "source": [
    "model = Trainer(**model_args)\n"
   ]
  },
  {
   "cell_type": "code",
   "execution_count": 22,
   "id": "5f4d36c6",
   "metadata": {},
   "outputs": [
    {
     "name": "stdout",
     "output_type": "stream",
     "text": [
      "Loading /dreambig/qingyi/image_chicago/models/sGAN2/2211-ctest/model_27.pt\n"
     ]
    }
   ],
   "source": [
    "model.load(27)"
   ]
  },
  {
   "cell_type": "code",
   "execution_count": 10,
   "id": "2d115ae2",
   "metadata": {},
   "outputs": [
    {
     "name": "stdout",
     "output_type": "stream",
     "text": [
      "3140 images in dataset\n",
      "3140 images in dataset\n"
     ]
    }
   ],
   "source": [
    "model.set_data_src(data)"
   ]
  },
  {
   "cell_type": "code",
   "execution_count": 24,
   "id": "6e4c2c00",
   "metadata": {},
   "outputs": [],
   "source": [
    "model.evaluate(100)"
   ]
  },
  {
   "cell_type": "code",
   "execution_count": null,
   "id": "d56c7b1c",
   "metadata": {},
   "outputs": [],
   "source": []
  }
 ],
 "metadata": {
  "kernelspec": {
   "display_name": "qingyi",
   "language": "python",
   "name": "qingyi"
  },
  "language_info": {
   "codemirror_mode": {
    "name": "ipython",
    "version": 3
   },
   "file_extension": ".py",
   "mimetype": "text/x-python",
   "name": "python",
   "nbconvert_exporter": "python",
   "pygments_lexer": "ipython3",
   "version": "3.8.3"
  }
 },
 "nbformat": 4,
 "nbformat_minor": 5
}
