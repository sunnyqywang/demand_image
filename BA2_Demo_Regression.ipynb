{
 "cells": [
  {
   "cell_type": "code",
   "execution_count": 1,
   "id": "3dc2bd25",
   "metadata": {},
   "outputs": [],
   "source": [
    "import sys\n",
    "sys.path.append(\"models/\")\n",
    "\n",
    "import itertools\n",
    "import matplotlib.pyplot as plt\n",
    "import numpy as np\n",
    "import pandas as pd\n",
    "\n",
    "from scipy.stats import entropy\n",
    "from sklearn import linear_model\n",
    "from sklearn.metrics import r2_score, mean_squared_error\n",
    "import statsmodels.api as sm\n",
    "import torch\n",
    "import torch.nn as nn\n",
    "from torch.utils.data import DataLoader\n",
    "\n",
    "from dataloader import SurveyDataset, load_demo, load_aggregate_travel_behavior, train_test_split\n",
    "import mnl\n",
    "from setup import *\n",
    "\n",
    "%load_ext autoreload\n",
    "%autoreload 2\n",
    "%matplotlib inline"
   ]
  },
  {
   "cell_type": "code",
   "execution_count": 2,
   "id": "343da39a",
   "metadata": {},
   "outputs": [],
   "source": [
    "variable_names = ['active','auto','mas','pt','trpgen']\n",
    "\n",
    "demo_variables = ['tot_population','pct25_34yrs','pct35_50yrs','pctover65yrs',\n",
    "         'pctwhite_alone','pct_nonwhite','pctblack_alone',\n",
    "         'pct_col_grad','avg_tt_to_work','inc_per_capita']\n"
   ]
  },
  {
   "cell_type": "code",
   "execution_count": 3,
   "id": "d8939bbb",
   "metadata": {},
   "outputs": [],
   "source": [
    "# target variables y\n",
    "\n",
    "file = \"origin_trip_behavior.csv\"\n",
    "df_pivot = load_aggregate_travel_behavior(file)\n",
    "\n",
    "train_test_index = df_pivot['train_test'].astype(bool)\n",
    "y = df_pivot[variable_names].to_numpy()\n",
    "y_train = y[~train_test_index, :4]\n",
    "y_test = y[train_test_index, :4]"
   ]
  },
  {
   "cell_type": "code",
   "execution_count": 4,
   "id": "684331c2",
   "metadata": {},
   "outputs": [],
   "source": [
    "# explanatory variables x\n",
    "\n",
    "demo_variables = ['tot_population','pct25_34yrs','pct35_50yrs','pctover65yrs',\n",
    "         'pctwhite_alone','pct_nonwhite','pctblack_alone',\n",
    "         'pct_col_grad','avg_tt_to_work','inc_per_capita']\n",
    "\n",
    "demo_cs, demo_np = load_demo(data_dir)\n",
    "demo = np.hstack((np.array(demo_cs).reshape(-1,1), demo_np))\n",
    "demo = pd.DataFrame(demo, columns = ['geoid'] + demo_variables)\n",
    "demo_split = train_test_split(demo)\n",
    "\n",
    "x_train = demo_split[~demo_split['train_test'].astype(bool)][demo_variables].to_numpy(dtype=float)\n",
    "x_test = demo_split[demo_split['train_test'].astype(bool)][demo_variables].to_numpy(dtype=float)\n"
   ]
  },
  {
   "cell_type": "markdown",
   "id": "be50f468",
   "metadata": {},
   "source": [
    "# MNL for mode choice"
   ]
  },
  {
   "cell_type": "code",
   "execution_count": 7,
   "id": "5b6ee503",
   "metadata": {},
   "outputs": [],
   "source": [
    "# dataloader and model definition\n",
    "\n",
    "trainset = SurveyDataset(torch.tensor(x_train,  dtype=torch.float), torch.tensor(y_train, dtype=torch.float))\n",
    "trainloader = DataLoader(trainset, batch_size=256, shuffle=True)\n",
    "\n",
    "testset = SurveyDataset(torch.tensor(x_test, dtype=torch.float), torch.tensor(y_test, dtype=torch.float))\n",
    "testloader = DataLoader(testset, batch_size=len(testset), shuffle=True)\n",
    "\n",
    "kldivloss = nn.KLDivLoss(reduction='sum')\n",
    "mseloss = nn.MSELoss(reduction='none')"
   ]
  },
  {
   "cell_type": "code",
   "execution_count": 14,
   "id": "267ed279",
   "metadata": {},
   "outputs": [
    {
     "name": "stdout",
     "output_type": "stream",
     "text": [
      "[epoch:  0] Train KL loss: 0.822                 RMSE 0.673                 0.172 0.544 0.311 0.175\n",
      "[epoch:  0] Test KL loss: 0.568                    RMSE 0.549                     0.160 0.439 0.250 0.144\n",
      "\t\t\t\t\t\t\tR2 score: -0.069 -2.774 -39.744 -1.238 \n",
      "[epoch: 10] Train KL loss: 0.214                 RMSE 0.294                 0.151 0.225 0.057 0.096\n",
      "[epoch: 10] Test KL loss: 0.194                    RMSE 0.281                     0.139 0.219 0.040 0.099\n",
      "\t\t\t\t\t\t\tR2 score: 0.188 0.060 -0.071 -0.063 \n",
      "[epoch: 20] Train KL loss: 0.181                 RMSE 0.260                 0.134 0.196 0.057 0.090\n",
      "[epoch: 20] Test KL loss: 0.165                    RMSE 0.249                     0.122 0.192 0.041 0.094\n",
      "\t\t\t\t\t\t\tR2 score: 0.376 0.280 -0.119 0.048 \n",
      "[epoch: 30] Train KL loss: 0.167                 RMSE 0.247                 0.131 0.183 0.057 0.084\n",
      "[epoch: 30] Test KL loss: 0.152                    RMSE 0.237                     0.119 0.180 0.041 0.089\n",
      "\t\t\t\t\t\t\tR2 score: 0.408 0.362 -0.113 0.134 \n",
      "[epoch: 40] Train KL loss: 0.160                 RMSE 0.240                 0.130 0.177 0.057 0.080\n",
      "[epoch: 40] Test KL loss: 0.146                    RMSE 0.233                     0.118 0.176 0.041 0.087\n",
      "\t\t\t\t\t\t\tR2 score: 0.415 0.394 -0.113 0.187 \n",
      "[epoch: 50] Train KL loss: 0.156                 RMSE 0.237                 0.129 0.174 0.057 0.078\n",
      "[epoch: 50] Test KL loss: 0.143                    RMSE 0.230                     0.118 0.174 0.041 0.086\n",
      "\t\t\t\t\t\t\tR2 score: 0.421 0.410 -0.108 0.205 \n",
      "[epoch: 60] Train KL loss: 0.154                 RMSE 0.235                 0.128 0.173 0.057 0.077\n",
      "[epoch: 60] Test KL loss: 0.141                    RMSE 0.229                     0.117 0.172 0.041 0.086\n",
      "\t\t\t\t\t\t\tR2 score: 0.427 0.419 -0.107 0.206 \n",
      "[epoch: 70] Train KL loss: 0.152                 RMSE 0.234                 0.127 0.172 0.057 0.077\n",
      "[epoch: 70] Test KL loss: 0.140                    RMSE 0.228                     0.117 0.171 0.041 0.086\n",
      "\t\t\t\t\t\t\tR2 score: 0.432 0.425 -0.102 0.202 \n",
      "[epoch: 80] Train KL loss: 0.151                 RMSE 0.233                 0.127 0.171 0.057 0.076\n",
      "[epoch: 80] Test KL loss: 0.140                    RMSE 0.227                     0.116 0.170 0.041 0.086\n",
      "\t\t\t\t\t\t\tR2 score: 0.435 0.431 -0.101 0.201 \n",
      "[epoch: 90] Train KL loss: 0.151                 RMSE 0.232                 0.126 0.170 0.057 0.076\n",
      "[epoch: 90] Test KL loss: 0.139                    RMSE 0.226                     0.116 0.170 0.041 0.086\n",
      "\t\t\t\t\t\t\tR2 score: 0.438 0.436 -0.098 0.197 \n",
      "[epoch: 100] Train KL loss: 0.150                 RMSE 0.232                 0.126 0.170 0.057 0.076\n",
      "[epoch: 100] Test KL loss: 0.139                    RMSE 0.226                     0.116 0.169 0.041 0.086\n",
      "\t\t\t\t\t\t\tR2 score: 0.439 0.440 -0.100 0.204 \n",
      "[epoch: 110] Train KL loss: 0.149                 RMSE 0.231                 0.126 0.169 0.057 0.076\n",
      "[epoch: 110] Test KL loss: 0.138                    RMSE 0.225                     0.115 0.168 0.041 0.086\n",
      "\t\t\t\t\t\t\tR2 score: 0.442 0.445 -0.099 0.205 \n",
      "[epoch: 120] Train KL loss: 0.149                 RMSE 0.230                 0.126 0.169 0.057 0.076\n",
      "[epoch: 120] Test KL loss: 0.137                    RMSE 0.224                     0.115 0.168 0.041 0.085\n",
      "\t\t\t\t\t\t\tR2 score: 0.444 0.449 -0.097 0.207 \n",
      "[epoch: 130] Train KL loss: 0.149                 RMSE 0.230                 0.125 0.168 0.056 0.076\n",
      "[epoch: 130] Test KL loss: 0.137                    RMSE 0.224                     0.115 0.167 0.041 0.085\n",
      "\t\t\t\t\t\t\tR2 score: 0.445 0.455 -0.098 0.213 \n",
      "[epoch: 140] Train KL loss: 0.148                 RMSE 0.230                 0.125 0.168 0.056 0.075\n",
      "[epoch: 140] Test KL loss: 0.136                    RMSE 0.223                     0.115 0.166 0.041 0.085\n",
      "\t\t\t\t\t\t\tR2 score: 0.447 0.458 -0.092 0.213 \n",
      "[epoch: 150] Train KL loss: 0.148                 RMSE 0.229                 0.125 0.168 0.056 0.075\n",
      "[epoch: 150] Test KL loss: 0.136                    RMSE 0.223                     0.115 0.166 0.041 0.085\n",
      "\t\t\t\t\t\t\tR2 score: 0.448 0.461 -0.096 0.216 \n",
      "[epoch: 160] Train KL loss: 0.148                 RMSE 0.229                 0.125 0.167 0.056 0.075\n",
      "[epoch: 160] Test KL loss: 0.136                    RMSE 0.222                     0.115 0.165 0.041 0.085\n",
      "\t\t\t\t\t\t\tR2 score: 0.449 0.464 -0.093 0.220 \n",
      "[epoch: 170] Train KL loss: 0.147                 RMSE 0.229                 0.125 0.167 0.056 0.075\n",
      "[epoch: 170] Test KL loss: 0.135                    RMSE 0.222                     0.115 0.165 0.041 0.085\n",
      "\t\t\t\t\t\t\tR2 score: 0.449 0.466 -0.094 0.223 \n",
      "[epoch: 180] Train KL loss: 0.147                 RMSE 0.229                 0.125 0.167 0.056 0.075\n",
      "Early stopping at epoch 180\n"
     ]
    }
   ],
   "source": [
    "wd_list = [0.01]\n",
    "lr_list = [0.02]\n",
    "\n",
    "for (lr, wd) in itertools.product(lr_list, wd_list):\n",
    "    # model setup\n",
    "    model = mnl.MNL(n_alts=4, n_features=x_train.shape[-1])\n",
    "    optimizer = torch.optim.Adam(model.parameters(), lr=lr, weight_decay=wd)\n",
    "\n",
    "    # model training\n",
    "\n",
    "    ref1 = 0\n",
    "    ref2 = 0\n",
    "\n",
    "    for epoch in range(400):\n",
    "\n",
    "        kl_ = 0\n",
    "        mse_ = 0\n",
    "        mse1_ = 0\n",
    "        mse2_ = 0\n",
    "        mse3_ = 0\n",
    "        mse4_ = 0\n",
    "\n",
    "        for batch, (x_batch, y_batch) in enumerate(trainloader):\n",
    "            # Compute prediction and loss\n",
    "            util = model(x_batch)\n",
    "            probs = torch.log(nn.functional.softmax(util, dim=1))\n",
    "            kl = kldivloss(probs, y_batch)\n",
    "    #         kl = kldivloss(torch.log(util), y_batch)\n",
    "            kl_ += kl.item()\n",
    "\n",
    "            mse = mseloss(torch.exp(probs), y_batch)\n",
    "    #         mse = mseloss(util, y_batch)\n",
    "            mse_ += mse.sum().item()\n",
    "            mse1_ += mse[:,0].sum().item()\n",
    "            mse2_ += mse[:,1].sum().item()\n",
    "            mse3_ += mse[:,2].sum().item()\n",
    "            mse4_ += mse[:,3].sum().item()\n",
    "            mse = mse.sum()\n",
    "\n",
    "            # Backpropagation\n",
    "            optimizer.zero_grad()\n",
    "            kl.backward()\n",
    "            optimizer.step()\n",
    "\n",
    "        train_kl = kl_/len(trainset)\n",
    "        train_mse = np.sqrt(mse_/len(trainset))\n",
    "        train_mse1 = np.sqrt(mse1_/len(trainset))\n",
    "        train_mse2 = np.sqrt(mse2_/len(trainset))\n",
    "        train_mse3 = np.sqrt(mse3_/len(trainset))\n",
    "        train_mse4 = np.sqrt(mse4_/len(trainset))\n",
    "\n",
    "        if epoch % 10 == 0:\n",
    "            print(f\"[epoch: {epoch:>2d}] Train KL loss: {train_kl:.3f} \\\n",
    "                RMSE {train_mse:.3f} \\\n",
    "                {train_mse1:.3f} {train_mse2:.3f} {train_mse3:.3f} {train_mse4:.3f}\")\n",
    "        loss_ = train_kl\n",
    "\n",
    "        if epoch % 5 == 0:\n",
    "            if epoch > 50:\n",
    "                if (np.abs(loss_ - ref1)/ref1<ref1*0.01) & (np.abs(loss_ - ref2)/ref2<ref2*0.01):\n",
    "                    print(\"Early stopping at epoch\", epoch)\n",
    "                    break\n",
    "                if (ref1 < loss_) & (ref1 < ref2):\n",
    "                    print(\"Diverging. stop.\")\n",
    "                    break\n",
    "                if loss_ < best:\n",
    "                    best = loss_\n",
    "                    best_epoch = epoch\n",
    "            else:\n",
    "                best = loss_\n",
    "                best_epoch = epoch\n",
    "\n",
    "            ref2 = ref1\n",
    "            ref1 = loss_\n",
    "\n",
    "        if epoch % 10 == 0:\n",
    "\n",
    "            kl_ = 0\n",
    "            mse_ = 0 \n",
    "            mse1_ = 0\n",
    "            mse2_ = 0\n",
    "            mse3_ = 0\n",
    "            mse4_ = 0\n",
    "\n",
    "            for batch, (x_batch, y_batch) in enumerate(testloader):\n",
    "                util = model(x_batch)\n",
    "                probs = torch.log(nn.functional.softmax(util,dim=1))\n",
    "                kl = kldivloss(probs, y_batch)\n",
    "        #         kl = kldivloss(torch.log(util), y_batch)\n",
    "                kl_ += kl.item()\n",
    "\n",
    "                mse = mseloss(torch.exp(probs), y_batch)\n",
    "        #         mse = mseloss(util, y_batch)\n",
    "                mse_ += mse.sum().item()\n",
    "                mse1_ += mse[:,0].sum().item()\n",
    "                mse2_ += mse[:,1].sum().item()\n",
    "                mse3_ += mse[:,2].sum().item()\n",
    "                mse4_ += mse[:,3].sum().item()\n",
    "\n",
    "            test_kl = kl_/len(testset)\n",
    "            test_mse = np.sqrt(mse_/len(testset))\n",
    "            test_mse1 = np.sqrt(mse1_/len(testset))\n",
    "            test_mse2 = np.sqrt(mse2_/len(testset))\n",
    "            test_mse3 = np.sqrt(mse3_/len(testset))\n",
    "            test_mse4 = np.sqrt(mse4_/len(testset))\n",
    "\n",
    "            r1 = r2_score(y_batch.numpy()[:,0],torch.exp(probs).detach().numpy()[:,0])\n",
    "            r2 = r2_score(y_batch.numpy()[:,1],torch.exp(probs).detach().numpy()[:,1])\n",
    "            r3 = r2_score(y_batch.numpy()[:,2],torch.exp(probs).detach().numpy()[:,2])\n",
    "            r4 = r2_score(y_batch.numpy()[:,3],torch.exp(probs).detach().numpy()[:,3])\n",
    "\n",
    "            print(f\"[epoch: {epoch:>2d}] Test KL loss: {kl_/len(testset):.3f}\\\n",
    "                    RMSE {np.sqrt(mse_/len(testset)):.3f} \\\n",
    "                    {np.sqrt(mse1_/len(testset)):.3f} {np.sqrt(mse2_/len(testset)):.3f} {np.sqrt(mse3_/len(testset)):.3f} {np.sqrt(mse4_/len(testset)):.3f}\")\n",
    "            print(f\"\\t\\t\\t\\t\\t\\t\\tR2 score: {r1:.3f} {r2:.3f} {r3:.3f} {r4:.3f} \")\n",
    "\n",
    "\n",
    "    with open(out_dir+\"BA_mode_choice.csv\", \"a\") as f:\n",
    "        f.write(\"%s,%.4f,%.4f,%.4f,%.4f,%.4f,%.4f,%.4f,%.4f,%.4f,%.4f,%.4f,%.4f,%.4f,%.4f,%.4f,%.4f,%.4f,%.4f\\n\" % \n",
    "                (\"MNL\",lr, wd,\n",
    "                  train_kl, train_mse, train_mse1, train_mse2, train_mse3, train_mse4,\n",
    "                  test_kl, test_mse, test_mse1, test_mse2, test_mse3, test_mse4,\n",
    "                  r1, r2, r3, r4))"
   ]
  },
  {
   "cell_type": "code",
   "execution_count": 9,
   "id": "0f30e930",
   "metadata": {},
   "outputs": [],
   "source": [
    "fig, ax = plt.subplots(1,1, figsize=(5,5))\n",
    "for i in range(4):\n",
    "    ax.scatter(y_batch.detach().numpy()[:,i], torch.exp(probs).detach().numpy()[:,i], s=10)\n",
    "\n",
    "ax.set_xlabel(\"True Probs\")\n",
    "ax.set_ylabel(\"Predicted Probs\")\n",
    "ax.set_xlim([0,1])\n",
    "ax.set_ylim([0,1]);\n"
   ]
  },
  {
   "cell_type": "markdown",
   "id": "8259b809",
   "metadata": {},
   "source": [
    "# LR for mode choice"
   ]
  },
  {
   "cell_type": "code",
   "execution_count": 49,
   "id": "bca5e336",
   "metadata": {},
   "outputs": [],
   "source": [
    "model = \"GLM\""
   ]
  },
  {
   "cell_type": "code",
   "execution_count": 50,
   "id": "30963ffb",
   "metadata": {},
   "outputs": [
    {
     "data": {
      "image/png": "[encoded data removed]",
      "text/plain": [
       "<Figure size 1440x288 with 4 Axes>"
      ]
     },
     "metadata": {
      "needs_background": "light"
     },
     "output_type": "display_data"
    }
   ],
   "source": [
    "fig, ax = plt.subplots(1,4, figsize=(20,4))\n",
    "\n",
    "pred_train = []\n",
    "pred_test = []\n",
    "train_mse_lr = []\n",
    "train_r_lr = []\n",
    "test_mse_lr = []\n",
    "test_r_lr = []\n",
    "\n",
    "for i in range(4):\n",
    "\n",
    "    y_train_lr = y[~train_test_index,i]\n",
    "    y_test_lr = y[train_test_index,i]\n",
    "\n",
    "    if model == \"LR\":\n",
    "    # Normal Linear Regression\n",
    "        lr = linear_model.LinearRegression()\n",
    "        lr.fit(x_train, y_train_lr)\n",
    "\n",
    "    elif model == \"GLM\":\n",
    "    # GLM with logit link (ensure probs are \\in [0,1])\n",
    "        lr = sm.GLM(y_train_lr, x_train, family=sm.families.Binomial())\n",
    "        lr = lr.fit()\n",
    "    else:\n",
    "        print(\"ERROR\")\n",
    "        break\n",
    "        \n",
    "    ax[i].scatter(y_train_lr, lr.predict(x_train), s=5)\n",
    "    ax[i].scatter(y_test_lr, lr.predict(x_test), s=5)\n",
    "    ax[i].plot([0,max(y_train_lr)],[0, max(y_train_lr)])\n",
    "\n",
    "    pred_train.append(lr.predict(x_train))\n",
    "    pred_test.append(lr.predict(x_test)) \n",
    "\n",
    "    train_mse_lr.append(np.sqrt(mean_squared_error(lr.predict(x_train), y_train_lr)))\n",
    "    train_r_lr.append(r2_score(y_train_lr, lr.predict(x_train)))\n",
    "    test_mse_lr.append(np.sqrt(mean_squared_error(lr.predict(x_test), y_test_lr)))\n",
    "    test_r_lr.append(r2_score(y_test_lr, lr.predict(x_test)))\n",
    "\n",
    "pred_train = np.array(pred_train).T\n",
    "pred_test = np.array(pred_test).T"
   ]
  },
  {
   "cell_type": "code",
   "execution_count": 51,
   "id": "34f67428",
   "metadata": {},
   "outputs": [],
   "source": [
    "train_mse = np.sqrt(mean_squared_error(pred_train, y[~train_test_index,:4]))\n",
    "test_mse = np.sqrt(mean_squared_error(pred_test, y[train_test_index,:4]))\n",
    "\n",
    "# the entropy function will normalize the probabilities\n",
    "# not suitable for probabilities gotten from linear regression and GLM\n",
    "\n",
    "# train_kl = entropy(y[~train_test_index,:4], pred_train, axis=1).mean()\n",
    "# test_kl = entropy(y[train_test_index,:4], pred_test, axis=1).mean()"
   ]
  },
  {
   "cell_type": "code",
   "execution_count": 52,
   "id": "e58736f0",
   "metadata": {},
   "outputs": [],
   "source": [
    "with open(out_dir+\"BA_mode_choice.csv\", \"a\") as f:\n",
    "    f.write(\"%s,,,%.4f,%.4f,%.4f,%.4f,%.4f,%.4f,%.4f,%.4f,%.4f,%.4f,%.4f,%.4f,%.4f,%.4f,%.4f,%.4f\\n\" % (model,\n",
    "                      -1, train_mse, train_mse_lr[0], train_mse_lr[1], train_mse_lr[2], train_mse_lr[3],\n",
    "                      -1, test_mse, test_mse_lr[0], test_mse_lr[1], test_mse_lr[2], test_mse_lr[3],\n",
    "                      test_r_lr[0], test_r_lr[1], test_r_lr[2], test_r_lr[3])) \n",
    "                                                                                                      "
   ]
  },
  {
   "cell_type": "code",
   "execution_count": 63,
   "id": "ec4505eb",
   "metadata": {},
   "outputs": [
    {
     "data": {
      "image/png": "[encoded data removed]",
      "text/plain": [
       "<Figure size 720x288 with 2 Axes>"
      ]
     },
     "metadata": {
      "needs_background": "light"
     },
     "output_type": "display_data"
    }
   ],
   "source": [
    "fig, ax = plt.subplots(1,2, figsize=(10,4))\n",
    "ax[0].hist(pred_train.sum(axis=1), bins = np.linspace(0.875, 1.275, 9))\n",
    "ax[1].hist(pred_test.sum(axis=1), bins = np.linspace(0.875, 1.275, 9));"
   ]
  },
  {
   "cell_type": "markdown",
   "id": "a2839a62",
   "metadata": {},
   "source": [
    "# LR for trip generation"
   ]
  },
  {
   "cell_type": "code",
   "execution_count": 10,
   "id": "33350f5f",
   "metadata": {},
   "outputs": [],
   "source": [
    "trpgen_train = y[~train_test_index,-1]\n",
    "trpgen_test = y[train_test_index,-1]"
   ]
  },
  {
   "cell_type": "code",
   "execution_count": 11,
   "id": "e7afbb2b",
   "metadata": {},
   "outputs": [],
   "source": [
    "lr = linear_model.LinearRegression()\n",
    "lr.fit(x_train, trpgen_train)\n",
    "with open(out_dir+\"BA_\"+variable_names[-1]+\".csv\", \"a\") as f:\n",
    "    f.write(\"%.4f,%.4f,%.4f,%s,%d,%d\\n\" % (-1, \n",
    "        lr.score(x_train, trpgen_train), lr.score(x_test, trpgen_test), 'lr', \n",
    "        np.sum(lr.coef_ != 0), len(lr.coef_)))"
   ]
  },
  {
   "cell_type": "code",
   "execution_count": 12,
   "id": "eabe6903",
   "metadata": {},
   "outputs": [],
   "source": [
    "for a in np.linspace(0.005, 0.014, 10):\n",
    "    lasso = linear_model.Lasso(alpha=a)\n",
    "    lasso.fit(x_train, trpgen_train)\n",
    "    with open(out_dir+\"BA_\"+variable_names[-1]+\".csv\", \"a\") as f:\n",
    "        f.write(\"%.6f,%.4f,%.4f,%s,%d,%d\\n\" % (a, \n",
    "            lasso.score(x_train, trpgen_train), lasso.score(x_test, trpgen_test), 'lasso', \n",
    "            np.sum(lasso.coef_ != 0), len(lasso.coef_)))"
   ]
  },
  {
   "cell_type": "code",
   "execution_count": 13,
   "id": "1937c2cf",
   "metadata": {},
   "outputs": [],
   "source": [
    "for a in np.linspace(1,4,10):\n",
    "    ridge = linear_model.Ridge(alpha=a)\n",
    "    ridge.fit(x_train, trpgen_train)\n",
    "    with open(out_dir+\"BA_\"+variable_names[-1]+\".csv\", \"a\") as f:\n",
    "        f.write(\"%.4f,%.4f,%.4f,%s,%d,%d\\n\" % (a, \n",
    "            ridge.score(x_train, trpgen_train), ridge.score(x_test, trpgen_test), 'ridge', \n",
    "            np.sum(ridge.coef_ != 0), len(ridge.coef_)))"
   ]
  },
  {
   "cell_type": "code",
   "execution_count": null,
   "id": "34ceb982",
   "metadata": {},
   "outputs": [],
   "source": []
  },
  {
   "cell_type": "code",
   "execution_count": null,
   "id": "94db67ca",
   "metadata": {},
   "outputs": [],
   "source": []
  }
 ],
 "metadata": {
  "kernelspec": {
   "display_name": "Python 3",
   "language": "python",
   "name": "python3"
  },
  "language_info": {
   "codemirror_mode": {
    "name": "ipython",
    "version": 3
   },
   "file_extension": ".py",
   "mimetype": "text/x-python",
   "name": "python",
   "nbconvert_exporter": "python",
   "pygments_lexer": "ipython3",
   "version": "3.7.11"
  }
 },
 "nbformat": 4,
 "nbformat_minor": 5
}
