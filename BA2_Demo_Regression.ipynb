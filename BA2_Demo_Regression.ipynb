{
 "cells": [
  {
   "cell_type": "markdown",
   "id": "8c8bee22",
   "metadata": {},
   "source": [
    "This notebook documents part 1 of the complementarity of image and demographic information: the ability of demographics to predict mode choice and trip generation."
   ]
  },
  {
   "cell_type": "code",
   "execution_count": 2,
   "id": "3dc2bd25",
   "metadata": {},
   "outputs": [
    {
     "name": "stdout",
     "output_type": "stream",
     "text": [
      "The autoreload extension is already loaded. To reload it, use:\n",
      "  %reload_ext autoreload\n"
     ]
    }
   ],
   "source": [
    "import sys\n",
    "sys.path.append(\"models/\")\n",
    "\n",
    "import itertools\n",
    "import matplotlib.pyplot as plt\n",
    "import numpy as np\n",
    "import pandas as pd\n",
    "\n",
    "from scipy.stats import entropy\n",
    "from sklearn import linear_model\n",
    "from sklearn.metrics import r2_score, mean_squared_error\n",
    "import statsmodels.api as sm\n",
    "import torch\n",
    "import torch.nn as nn\n",
    "import torch.nn.functional as F\n",
    "from torch.utils.data import DataLoader\n",
    "\n",
    "from dataloader import SurveyDataset, load_demo, load_aggregate_travel_behavior, train_test_split\n",
    "import mnl\n",
    "import linear_reg\n",
    "from setup import *\n",
    "\n",
    "%load_ext autoreload\n",
    "%autoreload 2\n",
    "%matplotlib inline"
   ]
  },
  {
   "cell_type": "code",
   "execution_count": 3,
   "id": "343da39a",
   "metadata": {},
   "outputs": [],
   "source": [
    "data_version = '1571'\n",
    "variable_names = ['active','auto','mas','pt','trpgen']\n",
    "\n",
    "demo_variables = ['tot_population','pct25_34yrs','pct35_50yrs','pctover65yrs',\n",
    "         'pctwhite_alone','pct_nonwhite','pctblack_alone',\n",
    "         'pct_col_grad','avg_tt_to_work','inc_per_capita']\n"
   ]
  },
  {
   "cell_type": "code",
   "execution_count": 4,
   "id": "d8939bbb",
   "metadata": {},
   "outputs": [],
   "source": [
    "# target variables y\n",
    "\n",
    "file = \"origin_trip_behavior.csv\"\n",
    "df_pivot = load_aggregate_travel_behavior(file, data_version)\n",
    "\n",
    "train_test_index = df_pivot['train_test'].astype(bool)\n",
    "y = df_pivot[variable_names].to_numpy()\n",
    "y_train = y[~train_test_index, :4]\n",
    "y_test = y[train_test_index, :4]"
   ]
  },
  {
   "cell_type": "code",
   "execution_count": 5,
   "id": "ebf49277",
   "metadata": {},
   "outputs": [],
   "source": [
    "sst_train = np.sum(np.power(y_train - np.mean(y_train, axis=0), 2), axis=0)\n",
    "sst_test = np.sum(np.power(y_test - np.mean(y_test, axis=0), 2), axis=0)"
   ]
  },
  {
   "cell_type": "code",
   "execution_count": 6,
   "id": "684331c2",
   "metadata": {},
   "outputs": [],
   "source": [
    "# explanatory variables x\n",
    "\n",
    "demo_variables = ['tot_population','pct25_34yrs','pct35_50yrs','pctover65yrs',\n",
    "         'pctwhite_alone','pct_nonwhite','pctblack_alone',\n",
    "         'pct_col_grad','avg_tt_to_work','inc_per_capita']\n",
    "\n",
    "demo_cs, demo_np = load_demo(data_dir)\n",
    "demo = np.hstack((np.array(demo_cs).reshape(-1,1), demo_np))\n",
    "demo = pd.DataFrame(demo, columns = ['geoid'] + demo_variables)\n",
    "demo_split = train_test_split(demo, data_version)\n",
    "\n",
    "x_train = demo_split[~demo_split['train_test'].astype(bool)][demo_variables].to_numpy(dtype=float)\n",
    "x_test = demo_split[demo_split['train_test'].astype(bool)][demo_variables].to_numpy(dtype=float)\n"
   ]
  },
  {
   "cell_type": "code",
   "execution_count": 11,
   "id": "00bca47b",
   "metadata": {},
   "outputs": [
    {
     "data": {
      "text/plain": [
       "array([ 0.1173614 ,  0.77258279,  0.04028305,  0.06977276, 13.70586056])"
      ]
     },
     "execution_count": 11,
     "metadata": {},
     "output_type": "execute_result"
    }
   ],
   "source": [
    "y.mean(axis=0)"
   ]
  },
  {
   "cell_type": "code",
   "execution_count": 13,
   "id": "33350f5f",
   "metadata": {},
   "outputs": [],
   "source": [
    "auto_train = y[~train_test_index,1]\n",
    "auto_test = y[train_test_index,1]\n",
    "\n",
    "pt_train = y[~train_test_index,3]\n",
    "pt_test = y[train_test_index,3]\n",
    "\n",
    "active_train = y[~train_test_index,0]\n",
    "active_test = y[train_test_index,0]\n",
    "\n",
    "trpgen_train = y[~train_test_index,-1]\n",
    "trpgen_test = y[train_test_index,-1]"
   ]
  },
  {
   "cell_type": "markdown",
   "id": "a2839a62",
   "metadata": {},
   "source": [
    "# 1. Linear Regresion"
   ]
  },
  {
   "cell_type": "markdown",
   "id": "e74e39a0",
   "metadata": {},
   "source": [
    "Highlight:\n",
    "\n",
    "Auto\n",
    "\n",
    "Parameter: 0.00e+00 Train R2: 0.4444 \t Test R: 0.5033\n",
    "\n",
    "PT\n",
    "\n",
    "Parameter: 0.00e+00 Train R2: 0.3893 \t Test R: 0.2894\n",
    "\n",
    "Active\n",
    "\n",
    "Parameter: 0.00e+00 Train R2: 0.3505 \t Test R: 0.4702\n",
    "\n",
    "Trip Generation\n",
    "\n",
    "Ridge Parameter: 4.00e+00 Train R2: 0.2159 \t Test R: 0.1730\n",
    "\n",
    "Lasso Parameter: 1.00e-02 Train R2: 0.2387 \t Test R: 0.1578 \t Nonzero coef: 7\n"
   ]
  },
  {
   "cell_type": "markdown",
   "id": "da12409f",
   "metadata": {},
   "source": [
    "### 1.1 Auto Share"
   ]
  },
  {
   "cell_type": "code",
   "execution_count": 32,
   "id": "404b8cd3",
   "metadata": {},
   "outputs": [
    {
     "name": "stdout",
     "output_type": "stream",
     "text": [
      "Train R2: 0.4444 \t Test R2: 0.5033\n"
     ]
    }
   ],
   "source": [
    "# Linear Regression without Regularization\n",
    "lr = linear_model.LinearRegression()\n",
    "lr.fit(x_train, auto_train)\n",
    "# with open(out_dir+sampling+\"_\"+model_code+\"_regression_\"+variable_names[-1]+\".csv\", \"a\") as f:\n",
    "#     f.write(\"%s,%s,%s,%.4f,%.4f,%.4f,%s,%s,%d,%d\\n\" % (model_run_date, model_type, variable_names[-1], -1, \n",
    "#         lr.score(x_train, auto_train), lr.score(x_test, auto_test), 'lr', zoomlevel,\n",
    "#         np.sum(lr.coef_ != 0), len(lr.coef_)))\n",
    "print(\"Train R2: %.4f \\t Test R2: %.4f\" % (lr.score(x_train, auto_train), lr.score(x_test, auto_test)))"
   ]
  },
  {
   "cell_type": "code",
   "execution_count": 192,
   "id": "e555b2a0",
   "metadata": {},
   "outputs": [
    {
     "name": "stdout",
     "output_type": "stream",
     "text": [
      "Parameter: 0.00e+00 Train R2: 0.4444 \t Test R: 0.5033 \t Nonzero coef: 10\n",
      "Parameter: 1.00e-05 Train R2: 0.4444 \t Test R: 0.5031 \t Nonzero coef: 10\n",
      "Parameter: 1.00e-04 Train R2: 0.4436 \t Test R: 0.5018 \t Nonzero coef: 10\n",
      "Parameter: 2.00e-04 Train R2: 0.4413 \t Test R: 0.4997 \t Nonzero coef: 10\n",
      "Parameter: 3.00e-04 Train R2: 0.4403 \t Test R: 0.4991 \t Nonzero coef: 8\n",
      "Parameter: 4.00e-04 Train R2: 0.4395 \t Test R: 0.4986 \t Nonzero coef: 8\n",
      "Parameter: 5.00e-04 Train R2: 0.4384 \t Test R: 0.4979 \t Nonzero coef: 8\n",
      "Parameter: 6.00e-04 Train R2: 0.4372 \t Test R: 0.4970 \t Nonzero coef: 7\n",
      "Parameter: 7.00e-04 Train R2: 0.4360 \t Test R: 0.4959 \t Nonzero coef: 7\n",
      "Parameter: 8.00e-04 Train R2: 0.4347 \t Test R: 0.4947 \t Nonzero coef: 7\n",
      "Parameter: 1.00e-03 Train R2: 0.4315 \t Test R: 0.4918 \t Nonzero coef: 7\n",
      "Parameter: 2.00e-03 Train R2: 0.4149 \t Test R: 0.4724 \t Nonzero coef: 5\n",
      "Parameter: 5.00e-03 Train R2: 0.3792 \t Test R: 0.4217 \t Nonzero coef: 4\n"
     ]
    },
    {
     "name": "stderr",
     "output_type": "stream",
     "text": [
      "/home/jtl/anaconda3/lib/python3.7/site-packages/ipykernel_launcher.py:4: UserWarning: With alpha=0, this algorithm does not converge well. You are advised to use the LinearRegression estimator\n",
      "  after removing the cwd from sys.path.\n",
      "/home/jtl/anaconda3/lib/python3.7/site-packages/sklearn/linear_model/_coordinate_descent.py:648: UserWarning: Coordinate descent with no regularization may lead to unexpected results and is discouraged.\n",
      "  coef_, l1_reg, l2_reg, X, y, max_iter, tol, rng, random, positive\n",
      "/home/jtl/anaconda3/lib/python3.7/site-packages/sklearn/linear_model/_coordinate_descent.py:648: ConvergenceWarning: Objective did not converge. You might want to increase the number of iterations, check the scale of the features or consider increasing regularisation. Duality gap: 2.140e+01, tolerance: 7.704e-03 Linear regression models with null weight for the l1 regularization term are more efficiently fitted using one of the solvers implemented in sklearn.linear_model.Ridge/RidgeCV instead.\n",
      "  coef_, l1_reg, l2_reg, X, y, max_iter, tol, rng, random, positive\n"
     ]
    }
   ],
   "source": [
    "# Lasso\n",
    "for a in (1e-4)*np.array([0,0.1,1,2,3,4,5,6,7,8,10,20,50]):\n",
    "    lasso = linear_model.Lasso(alpha=a)\n",
    "    lasso.fit(x_train, auto_train)\n",
    "    print(\"Parameter: %.2e Train R2: %.4f \\t Test R: %.4f \\t Nonzero coef: %d\" % (a, lasso.score(x_train, auto_train), \n",
    "                                                                                  lasso.score(x_test, auto_test), \n",
    "                                                                                  np.sum(lasso.coef_ != 0)))\n",
    "\n",
    "#     with open(out_dir+\"BA_\"+variable_names[-1]+\".csv\", \"a\") as f:\n",
    "#         f.write(\"%.6f,%.4f,%.4f,%s,%d,%d\\n\" % (a, \n",
    "#             lasso.score(x_train, trpgen_train), lasso.score(x_test, trpgen_test), 'lasso', \n",
    "#             np.sum(lasso.coef_ != 0), len(lasso.coef_)))"
   ]
  },
  {
   "cell_type": "code",
   "execution_count": 194,
   "id": "e7afbb2b",
   "metadata": {},
   "outputs": [
    {
     "name": "stdout",
     "output_type": "stream",
     "text": [
      "Parameter: 0.00e+00 Train R2: 0.4444 \t Test R: 0.5033\n",
      "Parameter: 1.00e+00 Train R2: 0.4426 \t Test R: 0.5008\n",
      "Parameter: 1.00e+01 Train R2: 0.4197 \t Test R: 0.4778\n",
      "Parameter: 2.00e+01 Train R2: 0.3918 \t Test R: 0.4469\n",
      "Parameter: 3.00e+01 Train R2: 0.3660 \t Test R: 0.4171\n",
      "Parameter: 4.00e+01 Train R2: 0.3430 \t Test R: 0.3900\n",
      "Parameter: 5.00e+01 Train R2: 0.3224 \t Test R: 0.3655\n",
      "Parameter: 6.00e+01 Train R2: 0.3041 \t Test R: 0.3437\n",
      "Parameter: 7.00e+01 Train R2: 0.2878 \t Test R: 0.3241\n",
      "Parameter: 8.00e+01 Train R2: 0.2731 \t Test R: 0.3065\n",
      "Parameter: 1.00e+02 Train R2: 0.2478 \t Test R: 0.2763\n",
      "Parameter: 2.00e+02 Train R2: 0.1701 \t Test R: 0.1845\n",
      "Parameter: 5.00e+02 Train R2: 0.0888 \t Test R: 0.0919\n"
     ]
    }
   ],
   "source": [
    "# Ridge\n",
    "\n",
    "for a in (1e+1)*np.array([0,0.1,1,2,3,4,5,6,7,8,10,20,50]):\n",
    "\n",
    "    ridge = linear_model.Ridge(alpha=a)\n",
    "    ridge.fit(x_train, auto_train)\n",
    "#     with open(out_dir+sampling+\"_\"+model_code+\"_regression_\"+variable_names[-1]+\".csv\", \"a\") as f:\n",
    "#         f.write(\"%s,%s,%s,%.5f,%.4f,%.4f,%s,%s,%d,%d\\n\" % (model_run_date, model_type, variable_names[-1], a, \n",
    "#             ridge.score(x_train, trpgen_train), ridge.score(x_test, trpgen_test), 'ridge', zoomlevel,\n",
    "#             np.sum(ridge.coef_ != 0), len(ridge.coef_)))\n",
    "    print(\"Parameter: %.2e Train R2: %.4f \\t Test R: %.4f\" % (a, ridge.score(x_train, auto_train), \n",
    "                                                              ridge.score(x_test, auto_test)))"
   ]
  },
  {
   "cell_type": "markdown",
   "id": "1f57018a",
   "metadata": {},
   "source": [
    "### 1.2 PT"
   ]
  },
  {
   "cell_type": "code",
   "execution_count": 85,
   "id": "49eb787c",
   "metadata": {},
   "outputs": [
    {
     "name": "stdout",
     "output_type": "stream",
     "text": [
      "Train R2: 0.3893 \t Test R2: 0.2894\n"
     ]
    }
   ],
   "source": [
    "# Linear Regression without Regularization\n",
    "lr = linear_model.LinearRegression()\n",
    "lr.fit(x_train, pt_train)\n",
    "# with open(out_dir+sampling+\"_\"+model_code+\"_regression_\"+variable_names[-1]+\".csv\", \"a\") as f:\n",
    "#     f.write(\"%s,%s,%s,%.4f,%.4f,%.4f,%s,%s,%d,%d\\n\" % (model_run_date, model_type, variable_names[-1], -1, \n",
    "#         lr.score(x_train, auto_train), lr.score(x_test, auto_test), 'lr', zoomlevel,\n",
    "#         np.sum(lr.coef_ != 0), len(lr.coef_)))\n",
    "print(\"Train R2: %.4f \\t Test R2: %.4f\" % (lr.score(x_train, pt_train), lr.score(x_test, pt_test)))"
   ]
  },
  {
   "cell_type": "code",
   "execution_count": 21,
   "id": "eabe6903",
   "metadata": {},
   "outputs": [
    {
     "name": "stdout",
     "output_type": "stream",
     "text": [
      "Parameter: 0.00e+00 Train R2: 0.3893 \t Test R: 0.2894 \t Nonzero coef: 10\n",
      "Parameter: 1.00e-04 Train R2: 0.3852 \t Test R: 0.2904 \t Nonzero coef: 9\n",
      "Parameter: 1.00e-03 Train R2: 0.3498 \t Test R: 0.2752 \t Nonzero coef: 5\n",
      "Parameter: 2.00e-03 Train R2: 0.3167 \t Test R: 0.2463 \t Nonzero coef: 4\n",
      "Parameter: 3.00e-03 Train R2: 0.2785 \t Test R: 0.2165 \t Nonzero coef: 3\n",
      "Parameter: 4.00e-03 Train R2: 0.2351 \t Test R: 0.1876 \t Nonzero coef: 3\n",
      "Parameter: 5.00e-03 Train R2: 0.1792 \t Test R: 0.1461 \t Nonzero coef: 3\n",
      "Parameter: 6.00e-03 Train R2: 0.1109 \t Test R: 0.0920 \t Nonzero coef: 3\n",
      "Parameter: 7.00e-03 Train R2: 0.0302 \t Test R: 0.0252 \t Nonzero coef: 3\n",
      "Parameter: 8.00e-03 Train R2: 0.0000 \t Test R: -0.0000 \t Nonzero coef: 0\n",
      "Parameter: 1.00e-02 Train R2: 0.0000 \t Test R: -0.0000 \t Nonzero coef: 0\n",
      "Parameter: 2.00e-02 Train R2: 0.0000 \t Test R: -0.0000 \t Nonzero coef: 0\n",
      "Parameter: 5.00e-02 Train R2: 0.0000 \t Test R: -0.0000 \t Nonzero coef: 0\n"
     ]
    },
    {
     "name": "stderr",
     "output_type": "stream",
     "text": [
      "/home/jtl/anaconda3/lib/python3.7/site-packages/ipykernel_launcher.py:7: UserWarning: With alpha=0, this algorithm does not converge well. You are advised to use the LinearRegression estimator\n",
      "  import sys\n",
      "/home/jtl/anaconda3/lib/python3.7/site-packages/sklearn/linear_model/_coordinate_descent.py:648: UserWarning: Coordinate descent with no regularization may lead to unexpected results and is discouraged.\n",
      "  coef_, l1_reg, l2_reg, X, y, max_iter, tol, rng, random, positive\n",
      "/home/jtl/anaconda3/lib/python3.7/site-packages/sklearn/linear_model/_coordinate_descent.py:648: ConvergenceWarning: Objective did not converge. You might want to increase the number of iterations, check the scale of the features or consider increasing regularisation. Duality gap: 4.191e+00, tolerance: 1.373e-03 Linear regression models with null weight for the l1 regularization term are more efficiently fitted using one of the solvers implemented in sklearn.linear_model.Ridge/RidgeCV instead.\n",
      "  coef_, l1_reg, l2_reg, X, y, max_iter, tol, rng, random, positive\n"
     ]
    }
   ],
   "source": [
    "# Lasso\n",
    "for a in (1e-3)*np.array([0,0.1,1,2,3,4,5,6,7,8,10,20,50]):\n",
    "    lasso = linear_model.Lasso(alpha=a)\n",
    "    lasso.fit(x_train, pt_train)\n",
    "    print(\"Parameter: %.2e Train R2: %.4f \\t Test R: %.4f \\t Nonzero coef: %d\" % (a, lasso.score(x_train, pt_train), \n",
    "                                                                                  lasso.score(x_test, pt_test), \n",
    "                                                                                  np.sum(lasso.coef_ != 0)))\n",
    "\n",
    "#     with open(out_dir+\"BA_\"+variable_names[-1]+\".csv\", \"a\") as f:\n",
    "#         f.write(\"%.6f,%.4f,%.4f,%s,%d,%d\\n\" % (a, \n",
    "#             lasso.score(x_train, trpgen_train), lasso.score(x_test, trpgen_test), 'lasso', \n",
    "#             np.sum(lasso.coef_ != 0), len(lasso.coef_)))"
   ]
  },
  {
   "cell_type": "code",
   "execution_count": 22,
   "id": "62e75a4f",
   "metadata": {},
   "outputs": [
    {
     "name": "stdout",
     "output_type": "stream",
     "text": [
      "Parameter: 0.00e+00 Train R2: 0.3893 \t Test R: 0.2894\n",
      "Parameter: 1.00e+00 Train R2: 0.3838 \t Test R: 0.2934\n",
      "Parameter: 1.00e+01 Train R2: 0.3567 \t Test R: 0.2929\n",
      "Parameter: 2.00e+01 Train R2: 0.3327 \t Test R: 0.2810\n",
      "Parameter: 3.00e+01 Train R2: 0.3117 \t Test R: 0.2672\n",
      "Parameter: 4.00e+01 Train R2: 0.2934 \t Test R: 0.2537\n",
      "Parameter: 5.00e+01 Train R2: 0.2774 \t Test R: 0.2411\n",
      "Parameter: 6.00e+01 Train R2: 0.2632 \t Test R: 0.2295\n",
      "Parameter: 7.00e+01 Train R2: 0.2507 \t Test R: 0.2189\n",
      "Parameter: 8.00e+01 Train R2: 0.2394 \t Test R: 0.2093\n",
      "Parameter: 1.00e+02 Train R2: 0.2200 \t Test R: 0.1924\n",
      "Parameter: 2.00e+02 Train R2: 0.1594 \t Test R: 0.1386\n",
      "Parameter: 5.00e+02 Train R2: 0.0912 \t Test R: 0.0782\n"
     ]
    }
   ],
   "source": [
    "# Ridge\n",
    "\n",
    "for a in (1e+1)*np.array([0,0.1,1,2,3,4,5,6,7,8,10,20,50]):\n",
    "\n",
    "    ridge = linear_model.Ridge(alpha=a)\n",
    "    ridge.fit(x_train, pt_train)\n",
    "#     with open(out_dir+sampling+\"_\"+model_code+\"_regression_\"+variable_names[-1]+\".csv\", \"a\") as f:\n",
    "#         f.write(\"%s,%s,%s,%.5f,%.4f,%.4f,%s,%s,%d,%d\\n\" % (model_run_date, model_type, variable_names[-1], a, \n",
    "#             ridge.score(x_train, trpgen_train), ridge.score(x_test, trpgen_test), 'ridge', zoomlevel,\n",
    "#             np.sum(ridge.coef_ != 0), len(ridge.coef_)))\n",
    "    print(\"Parameter: %.2e Train R2: %.4f \\t Test R: %.4f\" % (a, ridge.score(x_train, pt_train), \n",
    "                                                              ridge.score(x_test, pt_test)))"
   ]
  },
  {
   "cell_type": "markdown",
   "id": "f7f24acf",
   "metadata": {},
   "source": [
    "### 1.3 Active"
   ]
  },
  {
   "cell_type": "code",
   "execution_count": 23,
   "id": "1937c2cf",
   "metadata": {},
   "outputs": [
    {
     "name": "stdout",
     "output_type": "stream",
     "text": [
      "Parameter: 0.00e+00 Train R2: 0.3505 \t Test R: 0.4702 \t Nonzero coef: 10\n",
      "Parameter: 1.00e-04 Train R2: 0.3500 \t Test R: 0.4715 \t Nonzero coef: 9\n",
      "Parameter: 1.00e-03 Train R2: 0.3310 \t Test R: 0.4598 \t Nonzero coef: 6\n",
      "Parameter: 2.00e-03 Train R2: 0.3152 \t Test R: 0.4355 \t Nonzero coef: 4\n",
      "Parameter: 3.00e-03 Train R2: 0.2995 \t Test R: 0.4077 \t Nonzero coef: 4\n",
      "Parameter: 4.00e-03 Train R2: 0.2776 \t Test R: 0.3734 \t Nonzero coef: 4\n",
      "Parameter: 5.00e-03 Train R2: 0.2495 \t Test R: 0.3325 \t Nonzero coef: 3\n",
      "Parameter: 6.00e-03 Train R2: 0.2281 \t Test R: 0.3004 \t Nonzero coef: 2\n",
      "Parameter: 7.00e-03 Train R2: 0.2030 \t Test R: 0.2641 \t Nonzero coef: 2\n",
      "Parameter: 8.00e-03 Train R2: 0.1739 \t Test R: 0.2237 \t Nonzero coef: 2\n",
      "Parameter: 1.00e-02 Train R2: 0.1043 \t Test R: 0.1304 \t Nonzero coef: 2\n",
      "Parameter: 2.00e-02 Train R2: 0.0000 \t Test R: -0.0003 \t Nonzero coef: 0\n",
      "Parameter: 5.00e-02 Train R2: 0.0000 \t Test R: -0.0003 \t Nonzero coef: 0\n"
     ]
    },
    {
     "name": "stderr",
     "output_type": "stream",
     "text": [
      "/home/jtl/anaconda3/lib/python3.7/site-packages/ipykernel_launcher.py:6: UserWarning: With alpha=0, this algorithm does not converge well. You are advised to use the LinearRegression estimator\n",
      "  \n",
      "/home/jtl/anaconda3/lib/python3.7/site-packages/sklearn/linear_model/_coordinate_descent.py:648: UserWarning: Coordinate descent with no regularization may lead to unexpected results and is discouraged.\n",
      "  coef_, l1_reg, l2_reg, X, y, max_iter, tol, rng, random, positive\n",
      "/home/jtl/anaconda3/lib/python3.7/site-packages/sklearn/linear_model/_coordinate_descent.py:648: ConvergenceWarning: Objective did not converge. You might want to increase the number of iterations, check the scale of the features or consider increasing regularisation. Duality gap: 1.231e+01, tolerance: 3.791e-03 Linear regression models with null weight for the l1 regularization term are more efficiently fitted using one of the solvers implemented in sklearn.linear_model.Ridge/RidgeCV instead.\n",
      "  coef_, l1_reg, l2_reg, X, y, max_iter, tol, rng, random, positive\n"
     ]
    }
   ],
   "source": [
    "for a in (1e-3)*np.array([0,0.1,1,2,3,4,5,6,7,8,10,20,50]):\n",
    "    lasso = linear_model.Lasso(alpha=a)\n",
    "    lasso.fit(x_train, active_train)\n",
    "    print(\"Parameter: %.2e Train R2: %.4f \\t Test R: %.4f \\t Nonzero coef: %d\" % (a, lasso.score(x_train, active_train), \n",
    "                                                                                  lasso.score(x_test, active_test), \n",
    "                                                                                  np.sum(lasso.coef_ != 0)))\n",
    "\n",
    "#     with open(out_dir+\"BA_\"+variable_names[-1]+\".csv\", \"a\") as f:\n",
    "#         f.write(\"%.6f,%.4f,%.4f,%s,%d,%d\\n\" % (a, \n",
    "#             lasso.score(x_train, trpgen_train), lasso.score(x_test, trpgen_test), 'lasso', \n",
    "#             np.sum(lasso.coef_ != 0), len(lasso.coef_)))"
   ]
  },
  {
   "cell_type": "code",
   "execution_count": 33,
   "id": "ea131a10",
   "metadata": {},
   "outputs": [
    {
     "name": "stdout",
     "output_type": "stream",
     "text": [
      "Parameter: 0.00e+00 Train R2: 0.3505 \t Test R: 0.4702\n",
      "Parameter: 1.00e+00 Train R2: 0.3500 \t Test R: 0.4696\n",
      "Parameter: 1.00e+01 Train R2: 0.3322 \t Test R: 0.4478\n",
      "Parameter: 2.00e+01 Train R2: 0.3095 \t Test R: 0.4170\n",
      "Parameter: 3.00e+01 Train R2: 0.2886 \t Test R: 0.3879\n",
      "Parameter: 4.00e+01 Train R2: 0.2698 \t Test R: 0.3617\n",
      "Parameter: 5.00e+01 Train R2: 0.2531 \t Test R: 0.3384\n",
      "Parameter: 6.00e+01 Train R2: 0.2382 \t Test R: 0.3176\n",
      "Parameter: 7.00e+01 Train R2: 0.2249 \t Test R: 0.2992\n",
      "Parameter: 8.00e+01 Train R2: 0.2129 \t Test R: 0.2826\n",
      "Parameter: 1.00e+02 Train R2: 0.1923 \t Test R: 0.2543\n",
      "Parameter: 2.00e+02 Train R2: 0.1292 \t Test R: 0.1688\n",
      "Parameter: 5.00e+02 Train R2: 0.0649 \t Test R: 0.0836\n"
     ]
    }
   ],
   "source": [
    "# Ridge\n",
    "\n",
    "for a in (1e+1)*np.array([0,0.1,1,2,3,4,5,6,7,8,10,20,50]):\n",
    "\n",
    "    ridge = linear_model.Ridge(alpha=a)\n",
    "    ridge.fit(x_train, active_train)\n",
    "#     with open(out_dir+sampling+\"_\"+model_code+\"_regression_\"+variable_names[-1]+\".csv\", \"a\") as f:\n",
    "#         f.write(\"%s,%s,%s,%.5f,%.4f,%.4f,%s,%s,%d,%d\\n\" % (model_run_date, model_type, variable_names[-1], a, \n",
    "#             ridge.score(x_train, trpgen_train), ridge.score(x_test, trpgen_test), 'ridge', zoomlevel,\n",
    "#             np.sum(ridge.coef_ != 0), len(ridge.coef_)))\n",
    "    print(\"Parameter: %.2e Train R2: %.4f \\t Test R: %.4f\" % (a, ridge.score(x_train, active_train), \n",
    "                                                              ridge.score(x_test, active_test)))"
   ]
  },
  {
   "cell_type": "markdown",
   "id": "d1b7d2b3",
   "metadata": {},
   "source": [
    "### 1.4 Trip Generation"
   ]
  },
  {
   "cell_type": "code",
   "execution_count": 203,
   "id": "086e5033",
   "metadata": {},
   "outputs": [
    {
     "name": "stdout",
     "output_type": "stream",
     "text": [
      "Parameter: 0.00e+00 Train R2: 0.2404 \t Test R: 0.1470 \t Nonzero coef: 10\n",
      "Parameter: 1.00e-03 Train R2: 0.2404 \t Test R: 0.1481 \t Nonzero coef: 10\n",
      "Parameter: 5.00e-03 Train R2: 0.2399 \t Test R: 0.1534 \t Nonzero coef: 9\n",
      "Parameter: 8.00e-03 Train R2: 0.2392 \t Test R: 0.1572 \t Nonzero coef: 8\n",
      "Parameter: 9.00e-03 Train R2: 0.2389 \t Test R: 0.1575 \t Nonzero coef: 8\n",
      "Parameter: 1.00e-02 Train R2: 0.2387 \t Test R: 0.1578 \t Nonzero coef: 7\n",
      "Parameter: 1.50e-02 Train R2: 0.2383 \t Test R: 0.1578 \t Nonzero coef: 7\n",
      "Parameter: 2.00e-02 Train R2: 0.2379 \t Test R: 0.1576 \t Nonzero coef: 7\n",
      "Parameter: 2.00e-01 Train R2: 0.1799 \t Test R: 0.1072 \t Nonzero coef: 2\n",
      "Parameter: 5.00e-01 Train R2: 0.0280 \t Test R: 0.0591 \t Nonzero coef: 1\n"
     ]
    },
    {
     "name": "stderr",
     "output_type": "stream",
     "text": [
      "/home/jtl/anaconda3/lib/python3.7/site-packages/ipykernel_launcher.py:3: UserWarning: With alpha=0, this algorithm does not converge well. You are advised to use the LinearRegression estimator\n",
      "  This is separate from the ipykernel package so we can avoid doing imports until\n",
      "/home/jtl/anaconda3/lib/python3.7/site-packages/sklearn/linear_model/_coordinate_descent.py:648: UserWarning: Coordinate descent with no regularization may lead to unexpected results and is discouraged.\n",
      "  coef_, l1_reg, l2_reg, X, y, max_iter, tol, rng, random, positive\n",
      "/home/jtl/anaconda3/lib/python3.7/site-packages/sklearn/linear_model/_coordinate_descent.py:648: ConvergenceWarning: Objective did not converge. You might want to increase the number of iterations, check the scale of the features or consider increasing regularisation. Duality gap: 1.379e+05, tolerance: 3.630e+01 Linear regression models with null weight for the l1 regularization term are more efficiently fitted using one of the solvers implemented in sklearn.linear_model.Ridge/RidgeCV instead.\n",
      "  coef_, l1_reg, l2_reg, X, y, max_iter, tol, rng, random, positive\n"
     ]
    }
   ],
   "source": [
    "for a in (1e-2)*np.array([0,0.1,0.5,0.8,0.9,1,1.5,2,20,50]):\n",
    "    lasso = linear_model.Lasso(alpha=a)\n",
    "    lasso.fit(x_train, trpgen_train)\n",
    "    print(\"Parameter: %.2e Train R2: %.4f \\t Test R: %.4f \\t Nonzero coef: %d\" % (a, lasso.score(x_train, trpgen_train), \n",
    "                                                                                  lasso.score(x_test, trpgen_test), \n",
    "                                                                                  np.sum(lasso.coef_ != 0)))\n",
    "#     with open(out_dir+\"BA_\"+variable_names[-1]+\".csv\", \"a\") as f:\n",
    "#         f.write(\"%.6f,%.4f,%.4f,%s,%d,%d\\n\" % (a, \n",
    "#             lasso.score(x_train, trpgen_train), lasso.score(x_test, trpgen_test), 'lasso', \n",
    "#             np.sum(lasso.coef_ != 0), len(lasso.coef_)))"
   ]
  },
  {
   "cell_type": "code",
   "execution_count": 204,
   "id": "9b1e8abb",
   "metadata": {},
   "outputs": [
    {
     "name": "stdout",
     "output_type": "stream",
     "text": [
      "Parameter: 0.00e+00 Train R2: 0.2404 \t Test R: 0.1470\n",
      "Parameter: 1.00e-01 Train R2: 0.2404 \t Test R: 0.1495\n",
      "Parameter: 1.00e+00 Train R2: 0.2372 \t Test R: 0.1633\n",
      "Parameter: 2.00e+00 Train R2: 0.2309 \t Test R: 0.1700\n",
      "Parameter: 3.00e+00 Train R2: 0.2236 \t Test R: 0.1727\n",
      "Parameter: 4.00e+00 Train R2: 0.2159 \t Test R: 0.1730\n",
      "Parameter: 5.00e+00 Train R2: 0.2084 \t Test R: 0.1721\n",
      "Parameter: 6.00e+00 Train R2: 0.2012 \t Test R: 0.1705\n",
      "Parameter: 7.00e+00 Train R2: 0.1944 \t Test R: 0.1684\n",
      "Parameter: 8.00e+00 Train R2: 0.1880 \t Test R: 0.1660\n",
      "Parameter: 1.00e+01 Train R2: 0.1764 \t Test R: 0.1611\n",
      "Parameter: 2.00e+01 Train R2: 0.1365 \t Test R: 0.1386\n",
      "Parameter: 5.00e+01 Train R2: 0.0881 \t Test R: 0.1011\n"
     ]
    }
   ],
   "source": [
    "# Ridge\n",
    "\n",
    "for a in (1e0)*np.array([0,0.1,1,2,3,4,5,6,7,8,10,20,50]):\n",
    "\n",
    "    ridge = linear_model.Ridge(alpha=a)\n",
    "    ridge.fit(x_train, trpgen_train)\n",
    "#     with open(out_dir+sampling+\"_\"+model_code+\"_regression_\"+variable_names[-1]+\".csv\", \"a\") as f:\n",
    "#         f.write(\"%s,%s,%s,%.5f,%.4f,%.4f,%s,%s,%d,%d\\n\" % (model_run_date, model_type, variable_names[-1], a, \n",
    "#             ridge.score(x_train, trpgen_train), ridge.score(x_test, trpgen_test), 'ridge', zoomlevel,\n",
    "#             np.sum(ridge.coef_ != 0), len(ridge.coef_)))\n",
    "    print(\"Parameter: %.2e Train R2: %.4f \\t Test R: %.4f\" % (a, ridge.score(x_train, trpgen_train), \n",
    "                                                              ridge.score(x_test, trpgen_test)))"
   ]
  },
  {
   "cell_type": "markdown",
   "id": "48fe9f73",
   "metadata": {},
   "source": [
    "# 2. Linear Regression (PyTorch)\n",
    "\n",
    "Learning Rate very sensitive to data magnitude."
   ]
  },
  {
   "cell_type": "code",
   "execution_count": 305,
   "id": "34ceb982",
   "metadata": {},
   "outputs": [],
   "source": [
    "def pytorch_lr(w2_list, lr_list, x1, x2, y1, y2, reg_type='L2'):\n",
    "    \n",
    "    mseloss = nn.MSELoss(reduction='sum')\n",
    "    \n",
    "    trainset = SurveyDataset(torch.tensor(x1,  dtype=torch.float), torch.tensor(y1, dtype=torch.float))\n",
    "    trainloader = DataLoader(trainset, batch_size=len(trainset), shuffle=True)\n",
    "\n",
    "    testset = SurveyDataset(torch.tensor(x2, dtype=torch.float), torch.tensor(y2, dtype=torch.float))\n",
    "    testloader = DataLoader(testset, batch_size=len(testset), shuffle=False)\n",
    "\n",
    "    # decay rates for embedding\n",
    "    w1_list = [0]\n",
    "    # decay rates for demo (There is no demo in this case)\n",
    "#     w2_list = [0]\n",
    "    # lr_list = [0.005,0.01, 0.02]\n",
    "#     lr_list = [0.002]\n",
    "\n",
    "    dim_demo = x1.shape[1]\n",
    "    dim_embed = 0\n",
    "\n",
    "    for lr in lr_list:\n",
    "\n",
    "        for w1, w2 in itertools.product(w1_list, w2_list):\n",
    "\n",
    "            # model setup\n",
    "            model = linear_reg.LR(dim_embed=dim_embed, dim_demo=dim_demo)\n",
    "\n",
    "#             print(model)\n",
    "            embed_params = []\n",
    "            demo_params = []\n",
    "            other_params = []\n",
    "            for name, m in model.named_parameters():\n",
    "        #             print(name)\n",
    "                if 'embed' in name:\n",
    "                    embed_params.append(m)\n",
    "                elif 'demo' in name:\n",
    "                    demo_params.append(m)\n",
    "                else:\n",
    "                    other_params.append(m)\n",
    "\n",
    "#             optimizer = torch.optim.Adam([{'params':demo_params,'lr':lr}])\n",
    "            if reg_type == 'L2':\n",
    "                optimizer = torch.optim.Adam([{'params':embed_params,'weight_decay':w1,'lr':lr},\n",
    "                                          {'params':demo_params,'weight_decay':w2, 'lr':lr},\n",
    "                                          {'params':other_params,'weight_decay':0, 'lr':lr}])\n",
    "            else:\n",
    "                optimizer = torch.optim.Adam(model.parameters(), lr=lr)\n",
    "#             print(optimizer)\n",
    "#             print(demo_params)\n",
    "            \n",
    "            # model training\n",
    "            ref1 = 0\n",
    "            ref2 = 0\n",
    "\n",
    "            for epoch in range(5000):\n",
    "\n",
    "                mse_ = 0\n",
    "\n",
    "                for batch, (x_batch, y_batch) in enumerate(trainloader):\n",
    "                    # Compute prediction and loss\n",
    "                    pred = model(None, x_batch)\n",
    "                    pred = F.relu(pred).squeeze()\n",
    "\n",
    "                    mse = mseloss(pred, y_batch)\n",
    "                    mse_ += mse.item()\n",
    "\n",
    "                    if reg_type == 'L1':\n",
    "                        l1_reg = w2 * torch.norm(demo_params, 1)\n",
    "                        mse += l1_reg\n",
    "                    \n",
    "                    # Backpropagation\n",
    "                    optimizer.zero_grad()\n",
    "                    mse.backward()\n",
    "                    optimizer.step()\n",
    "\n",
    "                train_r = r2_score(y_batch.numpy(), pred.detach().numpy())\n",
    "                train_mse = mse_/len(trainset)\n",
    "\n",
    "                if epoch % 20 == 0:\n",
    "                    print(f\"[epoch: {epoch:>3d}] Train MSE : {train_mse:.4f} R2 score: {train_r:.3f} \")\n",
    "                loss_ = train_mse\n",
    "\n",
    "                if epoch % 5 == 0:\n",
    "                    if epoch >=40:\n",
    "                        if (np.abs(loss_ - ref1)/ref1<0.0005) & (np.abs(loss_ - ref2)/ref2<0.0005):\n",
    "                            print(\"Early stopping at epoch\", epoch)\n",
    "                            print(ref2, ref1, loss_)\n",
    "                            break\n",
    "                        if (ref1 < loss_) & (ref1 < ref2):\n",
    "                            print(\"Diverging. stop.\")\n",
    "                            break\n",
    "                        if loss_ < best:\n",
    "                            best = loss_\n",
    "                            best_epoch = epoch\n",
    "                    else:\n",
    "                        best = loss_\n",
    "                        best_epoch = epoch\n",
    "\n",
    "                    ref2 = ref1\n",
    "                    ref1 = loss_\n",
    "\n",
    "                if epoch % 20 == 0:\n",
    "\n",
    "                    mse_ = 0 \n",
    "\n",
    "                    for batch, (x_batch, y_batch) in enumerate(testloader):\n",
    "                        pred = model(None, x_batch)\n",
    "                        pred = F.relu(pred).squeeze()\n",
    "\n",
    "                        mse = mseloss(pred, y_batch)\n",
    "                        mse_ += mse.item()\n",
    "                        \n",
    "#                     print(len(testset))\n",
    "\n",
    "                    test_mse = mse_/len(testset)\n",
    "                    test_r = r2_score(y_batch.numpy(),pred.detach().numpy())\n",
    "\n",
    "                    print(f\"[epoch: {epoch:>3d}] Test MSE {test_mse:.4f} R2 score: {test_r:.3f} \")\n",
    "    return model\n",
    "    #         with open(out_dir+model_code+\"_regression_trpgen.csv\", \"a\") as f:\n",
    "    #             f.write(\"%s,%s,%s,%s,%.4f,%.4f,%.4f,%.4f,%.4f,%.4f\\n\" % \\\n",
    "    #                 (model_run_date, model_type, zoomlevel, \"LR\", lr, w1, \n",
    "    #                   train_rmse, train_r, test_rmse, test_r))"
   ]
  },
  {
   "cell_type": "code",
   "execution_count": 304,
   "id": "94db67ca",
   "metadata": {
    "scrolled": true
   },
   "outputs": [
    {
     "name": "stdout",
     "output_type": "stream",
     "text": [
      "[epoch:   0] Train MSE : 0.6450 R2 score: -10.838 \n",
      "[epoch:   0] Test MSE 0.6247 R2 score: -11.327 \n",
      "[epoch:  20] Train MSE : 0.1336 R2 score: -1.452 \n",
      "[epoch:  20] Test MSE 0.1245 R2 score: -1.457 \n",
      "[epoch:  40] Train MSE : 0.0758 R2 score: -0.391 \n",
      "[epoch:  40] Test MSE 0.0762 R2 score: -0.503 \n",
      "[epoch:  60] Train MSE : 0.0605 R2 score: -0.110 \n",
      "[epoch:  60] Test MSE 0.0610 R2 score: -0.204 \n",
      "[epoch:  80] Train MSE : 0.0496 R2 score: 0.089 \n",
      "[epoch:  80] Test MSE 0.0491 R2 score: 0.032 \n",
      "[epoch: 100] Train MSE : 0.0433 R2 score: 0.205 \n",
      "[epoch: 100] Test MSE 0.0421 R2 score: 0.170 \n",
      "[epoch: 120] Train MSE : 0.0397 R2 score: 0.271 \n",
      "[epoch: 120] Test MSE 0.0379 R2 score: 0.253 \n",
      "[epoch: 140] Train MSE : 0.0377 R2 score: 0.308 \n",
      "[epoch: 140] Test MSE 0.0354 R2 score: 0.302 \n",
      "[epoch: 160] Train MSE : 0.0365 R2 score: 0.330 \n",
      "[epoch: 160] Test MSE 0.0338 R2 score: 0.332 \n",
      "[epoch: 180] Train MSE : 0.0357 R2 score: 0.344 \n",
      "[epoch: 180] Test MSE 0.0328 R2 score: 0.354 \n",
      "[epoch: 200] Train MSE : 0.0351 R2 score: 0.356 \n",
      "[epoch: 200] Test MSE 0.0320 R2 score: 0.369 \n",
      "[epoch: 220] Train MSE : 0.0346 R2 score: 0.366 \n",
      "[epoch: 220] Test MSE 0.0313 R2 score: 0.382 \n",
      "[epoch: 240] Train MSE : 0.0341 R2 score: 0.374 \n",
      "[epoch: 240] Test MSE 0.0307 R2 score: 0.393 \n",
      "[epoch: 260] Train MSE : 0.0337 R2 score: 0.382 \n",
      "[epoch: 260] Test MSE 0.0303 R2 score: 0.403 \n",
      "[epoch: 280] Train MSE : 0.0333 R2 score: 0.389 \n",
      "[epoch: 280] Test MSE 0.0298 R2 score: 0.412 \n",
      "[epoch: 300] Train MSE : 0.0330 R2 score: 0.395 \n",
      "[epoch: 300] Test MSE 0.0294 R2 score: 0.420 \n",
      "[epoch: 320] Train MSE : 0.0327 R2 score: 0.400 \n",
      "[epoch: 320] Test MSE 0.0291 R2 score: 0.427 \n",
      "[epoch: 340] Train MSE : 0.0324 R2 score: 0.405 \n",
      "[epoch: 340] Test MSE 0.0287 R2 score: 0.433 \n",
      "[epoch: 360] Train MSE : 0.0322 R2 score: 0.410 \n",
      "[epoch: 360] Test MSE 0.0284 R2 score: 0.439 \n",
      "[epoch: 380] Train MSE : 0.0319 R2 score: 0.414 \n",
      "[epoch: 380] Test MSE 0.0281 R2 score: 0.445 \n",
      "[epoch: 400] Train MSE : 0.0318 R2 score: 0.417 \n",
      "[epoch: 400] Test MSE 0.0279 R2 score: 0.450 \n",
      "[epoch: 420] Train MSE : 0.0316 R2 score: 0.420 \n",
      "[epoch: 420] Test MSE 0.0276 R2 score: 0.455 \n",
      "[epoch: 440] Train MSE : 0.0314 R2 score: 0.423 \n",
      "[epoch: 440] Test MSE 0.0274 R2 score: 0.459 \n",
      "[epoch: 460] Train MSE : 0.0313 R2 score: 0.426 \n",
      "[epoch: 460] Test MSE 0.0272 R2 score: 0.463 \n",
      "[epoch: 480] Train MSE : 0.0312 R2 score: 0.428 \n",
      "[epoch: 480] Test MSE 0.0270 R2 score: 0.467 \n",
      "[epoch: 500] Train MSE : 0.0310 R2 score: 0.430 \n",
      "[epoch: 500] Test MSE 0.0268 R2 score: 0.471 \n",
      "[epoch: 520] Train MSE : 0.0309 R2 score: 0.432 \n",
      "[epoch: 520] Test MSE 0.0267 R2 score: 0.474 \n",
      "[epoch: 540] Train MSE : 0.0309 R2 score: 0.434 \n",
      "[epoch: 540] Test MSE 0.0265 R2 score: 0.477 \n",
      "[epoch: 560] Train MSE : 0.0308 R2 score: 0.435 \n",
      "[epoch: 560] Test MSE 0.0264 R2 score: 0.479 \n",
      "[epoch: 580] Train MSE : 0.0307 R2 score: 0.436 \n",
      "[epoch: 580] Test MSE 0.0263 R2 score: 0.481 \n",
      "[epoch: 600] Train MSE : 0.0306 R2 score: 0.437 \n",
      "[epoch: 600] Test MSE 0.0262 R2 score: 0.484 \n",
      "[epoch: 620] Train MSE : 0.0306 R2 score: 0.438 \n",
      "[epoch: 620] Test MSE 0.0261 R2 score: 0.486 \n",
      "[epoch: 640] Train MSE : 0.0305 R2 score: 0.439 \n",
      "[epoch: 640] Test MSE 0.0260 R2 score: 0.487 \n",
      "[epoch: 660] Train MSE : 0.0305 R2 score: 0.440 \n",
      "[epoch: 660] Test MSE 0.0259 R2 score: 0.489 \n",
      "[epoch: 680] Train MSE : 0.0305 R2 score: 0.441 \n",
      "[epoch: 680] Test MSE 0.0258 R2 score: 0.490 \n",
      "[epoch: 700] Train MSE : 0.0304 R2 score: 0.441 \n",
      "Early stopping at epoch 700\n",
      "0.030457972805773184 0.030450475603721435 0.030443253577851506\n"
     ]
    }
   ],
   "source": [
    "model = pytorch_lr(w2_list=[0], lr_list=[0.02], x1=x_train, x2=x_test, y1=auto_train, y2=auto_test)\n"
   ]
  },
  {
   "cell_type": "code",
   "execution_count": 241,
   "id": "e803a55c",
   "metadata": {
    "scrolled": true
   },
   "outputs": [
    {
     "name": "stdout",
     "output_type": "stream",
     "text": [
      "[epoch:   0] Train MSE : 0.0209 R2 score: -1.151 \n",
      "[epoch:   0] Test MSE 0.0165 R2 score: -0.770 \n",
      "[epoch:  20] Train MSE : 0.0128 R2 score: -0.324 \n",
      "[epoch:  20] Test MSE 0.0119 R2 score: -0.276 \n",
      "[epoch:  40] Train MSE : 0.0119 R2 score: -0.231 \n",
      "[epoch:  40] Test MSE 0.0112 R2 score: -0.205 \n",
      "[epoch:  60] Train MSE : 0.0110 R2 score: -0.131 \n",
      "[epoch:  60] Test MSE 0.0098 R2 score: -0.050 \n",
      "[epoch:  80] Train MSE : 0.0097 R2 score: -0.004 \n",
      "[epoch:  80] Test MSE 0.0085 R2 score: 0.085 \n",
      "[epoch: 100] Train MSE : 0.0088 R2 score: 0.092 \n",
      "[epoch: 100] Test MSE 0.0079 R2 score: 0.154 \n",
      "[epoch: 120] Train MSE : 0.0082 R2 score: 0.160 \n",
      "[epoch: 120] Test MSE 0.0075 R2 score: 0.194 \n",
      "[epoch: 140] Train MSE : 0.0077 R2 score: 0.209 \n",
      "[epoch: 140] Test MSE 0.0073 R2 score: 0.221 \n",
      "[epoch: 160] Train MSE : 0.0073 R2 score: 0.246 \n",
      "[epoch: 160] Test MSE 0.0071 R2 score: 0.237 \n",
      "[epoch: 180] Train MSE : 0.0071 R2 score: 0.273 \n",
      "[epoch: 180] Test MSE 0.0070 R2 score: 0.247 \n",
      "[epoch: 200] Train MSE : 0.0068 R2 score: 0.296 \n",
      "[epoch: 200] Test MSE 0.0069 R2 score: 0.256 \n",
      "[epoch: 220] Train MSE : 0.0067 R2 score: 0.314 \n",
      "[epoch: 220] Test MSE 0.0069 R2 score: 0.262 \n",
      "[epoch: 240] Train MSE : 0.0065 R2 score: 0.329 \n",
      "[epoch: 240] Test MSE 0.0068 R2 score: 0.268 \n",
      "[epoch: 260] Train MSE : 0.0064 R2 score: 0.341 \n",
      "[epoch: 260] Test MSE 0.0068 R2 score: 0.273 \n",
      "[epoch: 280] Train MSE : 0.0063 R2 score: 0.351 \n",
      "[epoch: 280] Test MSE 0.0067 R2 score: 0.277 \n",
      "[epoch: 300] Train MSE : 0.0062 R2 score: 0.358 \n",
      "[epoch: 300] Test MSE 0.0067 R2 score: 0.280 \n",
      "[epoch: 320] Train MSE : 0.0062 R2 score: 0.364 \n",
      "[epoch: 320] Test MSE 0.0067 R2 score: 0.283 \n",
      "[epoch: 340] Train MSE : 0.0061 R2 score: 0.369 \n",
      "[epoch: 340] Test MSE 0.0067 R2 score: 0.285 \n",
      "[epoch: 360] Train MSE : 0.0061 R2 score: 0.373 \n",
      "[epoch: 360] Test MSE 0.0067 R2 score: 0.286 \n",
      "[epoch: 380] Train MSE : 0.0061 R2 score: 0.376 \n",
      "[epoch: 380] Test MSE 0.0066 R2 score: 0.287 \n",
      "[epoch: 400] Train MSE : 0.0060 R2 score: 0.379 \n",
      "[epoch: 400] Test MSE 0.0066 R2 score: 0.288 \n",
      "[epoch: 420] Train MSE : 0.0060 R2 score: 0.381 \n",
      "[epoch: 420] Test MSE 0.0066 R2 score: 0.289 \n",
      "[epoch: 440] Train MSE : 0.0060 R2 score: 0.383 \n",
      "[epoch: 440] Test MSE 0.0066 R2 score: 0.290 \n",
      "[epoch: 460] Train MSE : 0.0060 R2 score: 0.384 \n",
      "[epoch: 460] Test MSE 0.0066 R2 score: 0.290 \n",
      "[epoch: 480] Train MSE : 0.0060 R2 score: 0.385 \n",
      "[epoch: 480] Test MSE 0.0066 R2 score: 0.291 \n",
      "[epoch: 500] Train MSE : 0.0060 R2 score: 0.387 \n",
      "[epoch: 500] Test MSE 0.0066 R2 score: 0.291 \n",
      "[epoch: 520] Train MSE : 0.0059 R2 score: 0.387 \n",
      "[epoch: 520] Test MSE 0.0066 R2 score: 0.291 \n",
      "[epoch: 540] Train MSE : 0.0059 R2 score: 0.388 \n",
      "[epoch: 540] Test MSE 0.0066 R2 score: 0.292 \n",
      "[epoch: 560] Train MSE : 0.0059 R2 score: 0.389 \n",
      "[epoch: 560] Test MSE 0.0066 R2 score: 0.292 \n",
      "Early stopping at epoch 565\n",
      "0.005933469559212217 0.00593199453394349 0.005930584930463087\n"
     ]
    }
   ],
   "source": [
    "model = pytorch_lr(w2_list=[0], lr_list=[0.003], x1=x_train, x2=x_test, y1=pt_train, y2=pt_test)\n"
   ]
  },
  {
   "cell_type": "code",
   "execution_count": 242,
   "id": "e5ff054a",
   "metadata": {
    "scrolled": true
   },
   "outputs": [
    {
     "name": "stdout",
     "output_type": "stream",
     "text": [
      "[epoch:   0] Train MSE : 0.0406 R2 score: -0.514 \n",
      "[epoch:   0] Test MSE 0.0378 R2 score: -0.537 \n",
      "[epoch:  20] Train MSE : 0.0265 R2 score: 0.011 \n",
      "[epoch:  20] Test MSE 0.0239 R2 score: 0.031 \n",
      "[epoch:  40] Train MSE : 0.0222 R2 score: 0.172 \n",
      "[epoch:  40] Test MSE 0.0196 R2 score: 0.201 \n",
      "[epoch:  60] Train MSE : 0.0199 R2 score: 0.259 \n",
      "[epoch:  60] Test MSE 0.0163 R2 score: 0.336 \n",
      "[epoch:  80] Train MSE : 0.0188 R2 score: 0.297 \n",
      "[epoch:  80] Test MSE 0.0147 R2 score: 0.401 \n",
      "[epoch: 100] Train MSE : 0.0184 R2 score: 0.313 \n",
      "[epoch: 100] Test MSE 0.0140 R2 score: 0.432 \n",
      "[epoch: 120] Train MSE : 0.0182 R2 score: 0.321 \n",
      "[epoch: 120] Test MSE 0.0136 R2 score: 0.447 \n",
      "[epoch: 140] Train MSE : 0.0181 R2 score: 0.326 \n",
      "[epoch: 140] Test MSE 0.0134 R2 score: 0.456 \n",
      "[epoch: 160] Train MSE : 0.0179 R2 score: 0.331 \n",
      "[epoch: 160] Test MSE 0.0132 R2 score: 0.462 \n",
      "[epoch: 180] Train MSE : 0.0178 R2 score: 0.335 \n",
      "[epoch: 180] Test MSE 0.0131 R2 score: 0.466 \n",
      "[epoch: 200] Train MSE : 0.0177 R2 score: 0.338 \n",
      "[epoch: 200] Test MSE 0.0131 R2 score: 0.469 \n",
      "[epoch: 220] Train MSE : 0.0177 R2 score: 0.341 \n",
      "[epoch: 220] Test MSE 0.0130 R2 score: 0.472 \n",
      "[epoch: 240] Train MSE : 0.0176 R2 score: 0.344 \n",
      "[epoch: 240] Test MSE 0.0130 R2 score: 0.473 \n",
      "[epoch: 260] Train MSE : 0.0175 R2 score: 0.346 \n",
      "[epoch: 260] Test MSE 0.0129 R2 score: 0.475 \n",
      "[epoch: 280] Train MSE : 0.0175 R2 score: 0.348 \n",
      "[epoch: 280] Test MSE 0.0129 R2 score: 0.476 \n",
      "[epoch: 300] Train MSE : 0.0174 R2 score: 0.349 \n",
      "[epoch: 300] Test MSE 0.0129 R2 score: 0.477 \n",
      "[epoch: 320] Train MSE : 0.0174 R2 score: 0.351 \n",
      "[epoch: 320] Test MSE 0.0129 R2 score: 0.477 \n",
      "[epoch: 340] Train MSE : 0.0174 R2 score: 0.352 \n",
      "[epoch: 340] Test MSE 0.0129 R2 score: 0.477 \n",
      "[epoch: 360] Train MSE : 0.0174 R2 score: 0.353 \n",
      "[epoch: 360] Test MSE 0.0129 R2 score: 0.477 \n",
      "[epoch: 380] Train MSE : 0.0173 R2 score: 0.353 \n",
      "[epoch: 380] Test MSE 0.0129 R2 score: 0.478 \n",
      "Early stopping at epoch 395\n",
      "0.01733011572162029 0.017325835652870707 0.01732179029321738\n"
     ]
    }
   ],
   "source": [
    "model = pytorch_lr(w2_list=[0], lr_list=[0.005], x1=x_train, x2=x_test, y1=active_train, y2=active_test)\n"
   ]
  },
  {
   "cell_type": "code",
   "execution_count": 247,
   "id": "dfdb6b4f",
   "metadata": {
    "scrolled": true
   },
   "outputs": [
    {
     "name": "stdout",
     "output_type": "stream",
     "text": [
      "[epoch:   0] Train MSE : 442.0938 R2 score: -0.722 \n",
      "[epoch:   0] Test MSE 380.1566 R2 score: -1.005 \n",
      "[epoch:  20] Train MSE : 258.4086 R2 score: -0.007 \n",
      "[epoch:  20] Test MSE 184.4423 R2 score: 0.027 \n",
      "[epoch:  40] Train MSE : 241.0255 R2 score: 0.061 \n",
      "[epoch:  40] Test MSE 179.1828 R2 score: 0.055 \n",
      "[epoch:  60] Train MSE : 236.4879 R2 score: 0.079 \n",
      "[epoch:  60] Test MSE 177.2693 R2 score: 0.065 \n",
      "[epoch:  80] Train MSE : 231.7684 R2 score: 0.097 \n",
      "[epoch:  80] Test MSE 173.2355 R2 score: 0.087 \n",
      "[epoch: 100] Train MSE : 227.4779 R2 score: 0.114 \n",
      "[epoch: 100] Test MSE 170.7736 R2 score: 0.100 \n",
      "[epoch: 120] Train MSE : 223.5468 R2 score: 0.129 \n",
      "[epoch: 120] Test MSE 168.7242 R2 score: 0.110 \n",
      "[epoch: 140] Train MSE : 220.0191 R2 score: 0.143 \n",
      "[epoch: 140] Test MSE 166.9102 R2 score: 0.120 \n",
      "[epoch: 160] Train MSE : 216.8922 R2 score: 0.155 \n",
      "[epoch: 160] Test MSE 165.3753 R2 score: 0.128 \n",
      "[epoch: 180] Train MSE : 214.1471 R2 score: 0.166 \n",
      "[epoch: 180] Test MSE 164.1018 R2 score: 0.135 \n",
      "[epoch: 200] Train MSE : 211.7547 R2 score: 0.175 \n",
      "[epoch: 200] Test MSE 163.0520 R2 score: 0.140 \n",
      "[epoch: 220] Train MSE : 209.6813 R2 score: 0.183 \n",
      "[epoch: 220] Test MSE 162.1890 R2 score: 0.145 \n",
      "[epoch: 240] Train MSE : 207.8925 R2 score: 0.190 \n",
      "[epoch: 240] Test MSE 161.4787 R2 score: 0.149 \n",
      "[epoch: 260] Train MSE : 206.3550 R2 score: 0.196 \n",
      "[epoch: 260] Test MSE 160.8930 R2 score: 0.152 \n",
      "[epoch: 280] Train MSE : 205.0376 R2 score: 0.201 \n",
      "[epoch: 280] Test MSE 160.4090 R2 score: 0.154 \n",
      "[epoch: 300] Train MSE : 203.9117 R2 score: 0.206 \n",
      "[epoch: 300] Test MSE 160.0083 R2 score: 0.156 \n",
      "[epoch: 320] Train MSE : 202.9515 R2 score: 0.209 \n",
      "[epoch: 320] Test MSE 159.6758 R2 score: 0.158 \n",
      "[epoch: 340] Train MSE : 202.1312 R2 score: 0.213 \n",
      "[epoch: 340] Test MSE 159.4151 R2 score: 0.159 \n",
      "[epoch: 360] Train MSE : 201.4263 R2 score: 0.215 \n",
      "[epoch: 360] Test MSE 159.1787 R2 score: 0.161 \n",
      "[epoch: 380] Train MSE : 200.8200 R2 score: 0.218 \n",
      "[epoch: 380] Test MSE 158.9628 R2 score: 0.162 \n",
      "[epoch: 400] Train MSE : 200.3006 R2 score: 0.220 \n",
      "[epoch: 400] Test MSE 158.7681 R2 score: 0.163 \n",
      "[epoch: 420] Train MSE : 199.8582 R2 score: 0.222 \n",
      "[epoch: 420] Test MSE 158.6092 R2 score: 0.164 \n",
      "[epoch: 440] Train MSE : 199.4816 R2 score: 0.223 \n",
      "[epoch: 440] Test MSE 158.4843 R2 score: 0.164 \n",
      "[epoch: 460] Train MSE : 199.1582 R2 score: 0.224 \n",
      "[epoch: 460] Test MSE 158.3613 R2 score: 0.165 \n",
      "[epoch: 480] Train MSE : 198.8782 R2 score: 0.225 \n",
      "[epoch: 480] Test MSE 158.2319 R2 score: 0.166 \n",
      "[epoch: 500] Train MSE : 198.6384 R2 score: 0.226 \n",
      "[epoch: 500] Test MSE 158.1177 R2 score: 0.166 \n",
      "[epoch: 520] Train MSE : 198.4348 R2 score: 0.227 \n",
      "Early stopping at epoch 520\n",
      "198.53244342291373 198.48260696605374 198.43480374823196\n"
     ]
    }
   ],
   "source": [
    "model = pytorch_lr(w2_list=[4], lr_list=[0.4], x1=x_train, x2=x_test, y1=trpgen_train, y2=trpgen_test)\n"
   ]
  },
  {
   "cell_type": "markdown",
   "id": "be50f468",
   "metadata": {},
   "source": [
    "# 3. MNL for mode choice"
   ]
  },
  {
   "cell_type": "code",
   "execution_count": 184,
   "id": "5b6ee503",
   "metadata": {},
   "outputs": [],
   "source": [
    "# dataloader and model definition\n",
    "\n",
    "trainset = SurveyDataset(torch.tensor(x_train,  dtype=torch.float), torch.tensor(y_train, dtype=torch.float))\n",
    "trainloader = DataLoader(trainset, batch_size=len(trainset), shuffle=False)\n",
    "\n",
    "testset = SurveyDataset(torch.tensor(x_test, dtype=torch.float), torch.tensor(y_test, dtype=torch.float))\n",
    "testloader = DataLoader(testset, batch_size=len(testset), shuffle=False)\n",
    "\n",
    "kldivloss = nn.KLDivLoss(reduction='sum')\n",
    "mseloss = nn.MSELoss(reduction='none')"
   ]
  },
  {
   "cell_type": "code",
   "execution_count": 297,
   "id": "71baf8c5",
   "metadata": {
    "scrolled": false
   },
   "outputs": [],
   "source": [
    "def mnl_torch(lr_list, wd_list):\n",
    "    \n",
    "    for (lr, wd) in itertools.product(lr_list, wd_list):\n",
    "        print(f\"[lr: {lr:.3f}, wd: {wd:3.4f}]\")\n",
    "\n",
    "        # model setup\n",
    "        model = mnl.MNL(n_alts=4, n_features=x_train.shape[-1])\n",
    "        optimizer = torch.optim.Adam(model.parameters(), lr=lr, weight_decay=wd)\n",
    "\n",
    "        # model training\n",
    "\n",
    "        ref1 = 0\n",
    "        ref2 = 0\n",
    "\n",
    "        for epoch in range(1000):\n",
    "\n",
    "            kl_ = 0\n",
    "            mse_ = 0\n",
    "            mse1_ = 0\n",
    "            mse2_ = 0\n",
    "            mse3_ = 0\n",
    "            mse4_ = 0\n",
    "\n",
    "            for batch, (x_batch, y_batch) in enumerate(trainloader):\n",
    "                # Compute prediction and loss\n",
    "                util = model(x_batch)\n",
    "                probs = torch.log(nn.functional.softmax(util, dim=1))\n",
    "                kl = kldivloss(probs, y_batch)\n",
    "        #         kl = kldivloss(torch.log(util), y_batch)\n",
    "                kl_ += kl.item()\n",
    "\n",
    "                mse = mseloss(torch.exp(probs), y_batch)\n",
    "        #         mse = mseloss(util, y_batch)\n",
    "                mse_ += mse.sum().item()\n",
    "                mse1_ += mse[:,0].sum().item()\n",
    "                mse2_ += mse[:,1].sum().item()\n",
    "                mse3_ += mse[:,2].sum().item()\n",
    "                mse4_ += mse[:,3].sum().item()\n",
    "                mse = mse.sum()\n",
    "\n",
    "                # Backpropagation\n",
    "                optimizer.zero_grad()\n",
    "                kl.backward()\n",
    "                optimizer.step()\n",
    "\n",
    "            train_kl = kl_/len(trainset)\n",
    "            train_mse = np.sqrt(mse_/len(trainset))\n",
    "            train_mse1 = np.sqrt(mse1_/len(trainset))\n",
    "            train_mse2 = np.sqrt(mse2_/len(trainset))\n",
    "            train_mse3 = np.sqrt(mse3_/len(trainset))\n",
    "            train_mse4 = np.sqrt(mse4_/len(trainset))\n",
    "\n",
    "            train_r1 = 1-mse1_/sst_train[0]\n",
    "            train_r2 = 1-mse2_/sst_train[1]\n",
    "            train_r3 = 1-mse3_/sst_train[2]\n",
    "            train_r4 = 1-mse4_/sst_train[3]\n",
    "\n",
    "            loss_ = train_kl\n",
    "\n",
    "            if epoch % 5 == 0:\n",
    "\n",
    "                kl_ = 0\n",
    "                mse_ = 0 \n",
    "                mse1_ = 0\n",
    "                mse2_ = 0\n",
    "                mse3_ = 0\n",
    "                mse4_ = 0\n",
    "\n",
    "                for batch, (x_batch, y_batch) in enumerate(testloader):\n",
    "                    util = model(x_batch)\n",
    "                    probs = torch.log(nn.functional.softmax(util,dim=1))\n",
    "                    kl = kldivloss(probs, y_batch)\n",
    "            #         kl = kldivloss(torch.log(util), y_batch)\n",
    "                    kl_ += kl.item()\n",
    "\n",
    "                    mse = mseloss(torch.exp(probs), y_batch)\n",
    "            #         mse = mseloss(util, y_batch)\n",
    "                    mse_ += mse.sum().item()\n",
    "                    mse1_ += mse[:,0].sum().item()\n",
    "                    mse2_ += mse[:,1].sum().item()\n",
    "                    mse3_ += mse[:,2].sum().item()\n",
    "                    mse4_ += mse[:,3].sum().item()\n",
    "\n",
    "                test_kl = kl_/len(testset)\n",
    "                test_mse = np.sqrt(mse_/len(testset))\n",
    "                test_mse1 = np.sqrt(mse1_/len(testset))\n",
    "                test_mse2 = np.sqrt(mse2_/len(testset))\n",
    "                test_mse3 = np.sqrt(mse3_/len(testset))\n",
    "                test_mse4 = np.sqrt(mse4_/len(testset))\n",
    "\n",
    "                r1 = r2_score(y_batch.numpy()[:,0],torch.exp(probs).detach().numpy()[:,0])\n",
    "                r2 = r2_score(y_batch.numpy()[:,1],torch.exp(probs).detach().numpy()[:,1])\n",
    "                r3 = r2_score(y_batch.numpy()[:,2],torch.exp(probs).detach().numpy()[:,2])\n",
    "                r4 = r2_score(y_batch.numpy()[:,3],torch.exp(probs).detach().numpy()[:,3])\n",
    "\n",
    "                if epoch >= 40:\n",
    "                    if (np.abs(loss_ - ref1)/ref1<0.001) & (np.abs(loss_ - ref2)/ref2<0.001):\n",
    "                        print(\"Early stopping at epoch\", epoch)\n",
    "                        break\n",
    "                    if (ref1 < loss_) & (ref1 < ref2):\n",
    "                        print(\"Diverging. stop.\")\n",
    "                        break\n",
    "                    if loss_ < best:\n",
    "                        best = loss_\n",
    "                        best_epoch = epoch\n",
    "                        output = (train_kl, train_mse, train_mse1, train_mse2, train_mse3, train_mse4,\n",
    "                                  test_kl, test_mse, test_mse1, test_mse2, test_mse3, test_mse4,\n",
    "                                  r1, r2, r3, r4, train_r1, train_r2, train_r3, train_r4)\n",
    "                else:\n",
    "                    best = loss_\n",
    "                    best_epoch = epoch\n",
    "                    output = (train_kl, train_mse, train_mse1, train_mse2, train_mse3, train_mse4,\n",
    "                                  test_kl, test_mse, test_mse1, test_mse2, test_mse3, test_mse4,\n",
    "                                  r1, r2, r3, r4, train_r1, train_r2, train_r3, train_r4)\n",
    "                ref2 = ref1\n",
    "                ref1 = loss_\n",
    "\n",
    "#             if epoch % 20 == 0:\n",
    "\n",
    "    #             print(f\"[epoch: {epoch:>3d}] Train KL loss: {train_kl:.3f} RMSE {train_mse:.3f} \\\n",
    "    #                 {train_mse1:.3f} {train_mse2:.3f} {train_mse3:.3f} {train_mse4:.3f}\")\n",
    "    #             print(f\"\\t\\t\\t\\t\\t\\t Train R2 score: {train_r1:.3f} {train_r2:.3f} {train_r3:.3f} {train_r4:.3f} \")\n",
    "    #             print(f\"[epoch: {epoch:>3d}] Test KL loss: {kl_/len(testset):.3f} RMSE {np.sqrt(mse_/len(testset)):.3f} \\\n",
    "    #                     {np.sqrt(mse1_/len(testset)):.3f} {np.sqrt(mse2_/len(testset)):.3f} {np.sqrt(mse3_/len(testset)):.3f} {np.sqrt(mse4_/len(testset)):.3f}\")\n",
    "    #             print(f\"\\t\\t\\t\\t\\t\\t Test R2 score: {r1:.3f} {r2:.3f} {r3:.3f} {r4:.3f} \")\n",
    "\n",
    "#                 print(f\"[epoch: {epoch:>3d}] Train KL loss: {train_kl:.3f} Train R2 score: {train_r1:.3f} {train_r2:.3f} {train_r3:.3f} {train_r4:.3f} \")\n",
    "#                 print(f\"[epoch: {epoch:>3d}] Test KL loss: {kl_/len(testset):.3f} Test R2 score: {r1:.3f} {r2:.3f} {r3:.3f} {r4:.3f} \")\n",
    "\n",
    "    #     with open(out_dir+\"BA_mode_choice.csv\", \"a\") as f:\n",
    "    #         f.write(\"%s,%.4f,%.4f,%.4f,%.4f,%.4f,%.4f,%.4f,%.4f,%.4f,%.4f,%.4f,%.4f,%.4f,%.4f,%.4f,%.4f,%.4f,%.4f,%.4f,%.4f,%.4f,%.4f\\n\" % \n",
    "    #                 ((\"MNL\",lr, wd)+output))\n",
    "    \n",
    "        print(f\"[epoch: {best_epoch:>3d}] Train KL loss: {output[0]:.3f} Train R2 score: {output[12]:.3f} {output[13]:.3f} {output[14]:.3f} {output[15]:.3f} \")\n",
    "        print(f\"[epoch: {best_epoch:>3d}] Test KL loss: {output[6]:.3f} Test R2 score: {output[16]:.3f} {output[17]:.3f} {output[18]:.3f} {output[19]:.3f} \")\n",
    "        print()"
   ]
  },
  {
   "cell_type": "code",
   "execution_count": 299,
   "id": "4de1d22b",
   "metadata": {},
   "outputs": [
    {
     "name": "stdout",
     "output_type": "stream",
     "text": [
      "[lr: 0.010, wd: 0.0000]\n",
      "Early stopping at epoch 505\n",
      "[epoch: 500] Train KL loss: 0.168 Train R2 score: 0.439 0.445 -0.151 0.230 \n",
      "[epoch: 500] Test KL loss: 0.145 Test R2 score: 0.339 0.414 -0.019 0.337 \n",
      "\n",
      "[lr: 0.010, wd: 0.0005]\n",
      "Early stopping at epoch 640\n",
      "[epoch: 635] Train KL loss: 0.170 Train R2 score: 0.440 0.445 -0.133 0.241 \n",
      "[epoch: 635] Test KL loss: 0.145 Test R2 score: 0.331 0.409 -0.013 0.323 \n",
      "\n",
      "[lr: 0.010, wd: 0.0010]\n",
      "Early stopping at epoch 715\n",
      "[epoch: 710] Train KL loss: 0.169 Train R2 score: 0.444 0.442 -0.149 0.221 \n",
      "[epoch: 710] Test KL loss: 0.145 Test R2 score: 0.341 0.415 -0.012 0.312 \n",
      "\n",
      "[lr: 0.010, wd: 0.0020]\n",
      "Early stopping at epoch 580\n",
      "[epoch: 575] Train KL loss: 0.169 Train R2 score: 0.436 0.442 -0.132 0.232 \n",
      "[epoch: 575] Test KL loss: 0.145 Test R2 score: 0.334 0.410 -0.015 0.333 \n",
      "\n",
      "[lr: 0.010, wd: 0.0100]\n",
      "Early stopping at epoch 680\n",
      "[epoch: 675] Train KL loss: 0.168 Train R2 score: 0.442 0.449 -0.134 0.234 \n",
      "[epoch: 675] Test KL loss: 0.145 Test R2 score: 0.342 0.418 -0.006 0.321 \n",
      "\n",
      "[lr: 0.010, wd: 0.1000]\n",
      "Early stopping at epoch 705\n",
      "[epoch: 700] Train KL loss: 0.170 Train R2 score: 0.434 0.431 -0.159 0.225 \n",
      "[epoch: 700] Test KL loss: 0.147 Test R2 score: 0.333 0.406 -0.012 0.322 \n",
      "\n",
      "[lr: 0.010, wd: 1.0000]\n",
      "Early stopping at epoch 555\n",
      "[epoch: 550] Train KL loss: 0.171 Train R2 score: 0.416 0.427 -0.135 0.251 \n",
      "[epoch: 550] Test KL loss: 0.148 Test R2 score: 0.320 0.397 -0.011 0.334 \n",
      "\n",
      "[lr: 0.010, wd: 10.0000]\n",
      "Early stopping at epoch 585\n",
      "[epoch: 580] Train KL loss: 0.189 Train R2 score: 0.320 0.305 -0.194 0.174 \n",
      "[epoch: 580] Test KL loss: 0.167 Test R2 score: 0.251 0.296 -0.012 0.221 \n",
      "\n",
      "[lr: 0.010, wd: 100.0000]\n",
      "Early stopping at epoch 230\n",
      "[epoch: 225] Train KL loss: 0.238 Train R2 score: 0.035 -0.065 -0.821 -0.010 \n",
      "[epoch: 225] Test KL loss: 0.224 Test R2 score: 0.035 -0.010 -0.155 0.014 \n",
      "\n"
     ]
    }
   ],
   "source": [
    "mnl_torch(lr_list=[0.01], wd_list=[0, 0.0005, 0.001, 0.002, 0.01, 0.1, 1, 10, 100])"
   ]
  },
  {
   "cell_type": "code",
   "execution_count": 265,
   "id": "0f30e930",
   "metadata": {},
   "outputs": [
    {
     "data": {
      "image/png": "[encoded data removed]",
      "text/plain": [
       "<Figure size 360x360 with 1 Axes>"
      ]
     },
     "metadata": {
      "needs_background": "light"
     },
     "output_type": "display_data"
    }
   ],
   "source": [
    "fig, ax = plt.subplots(1,1, figsize=(5,5))\n",
    "for i in range(4):\n",
    "    ax.scatter(y_batch.detach().numpy()[:,i], torch.exp(probs).detach().numpy()[:,i], s=10)\n",
    "\n",
    "ax.set_xlabel(\"True Probs\")\n",
    "ax.set_ylabel(\"Predicted Probs\")\n",
    "ax.set_xlim([0,1])\n",
    "ax.set_ylim([0,1]);\n"
   ]
  },
  {
   "cell_type": "code",
   "execution_count": 86,
   "id": "1ee3db40",
   "metadata": {},
   "outputs": [],
   "source": [
    "torch.save(model.state_dict(), out_dir+\"demo_weights.pt\")"
   ]
  }
 ],
 "metadata": {
  "kernelspec": {
   "display_name": "Python 3",
   "language": "python",
   "name": "python3"
  },
  "language_info": {
   "codemirror_mode": {
    "name": "ipython",
    "version": 3
   },
   "file_extension": ".py",
   "mimetype": "text/x-python",
   "name": "python",
   "nbconvert_exporter": "python",
   "pygments_lexer": "ipython3",
   "version": "3.7.11"
  }
 },
 "nbformat": 4,
 "nbformat_minor": 5
}
