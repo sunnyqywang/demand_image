{
 "cells": [
  {
   "cell_type": "code",
   "execution_count": 1,
   "id": "dda7dfbb",
   "metadata": {},
   "outputs": [],
   "source": [
    "import cv2\n",
    "from setup import out_dir, data_dir, image_dir, model_dir\n",
    "import glob\n",
    "import matplotlib.pyplot as plt\n",
    "import numpy as np\n",
    "import pandas as pd\n",
    "import util_image\n",
    "\n",
    "%matplotlib inline"
   ]
  },
  {
   "cell_type": "code",
   "execution_count": 19,
   "id": "037b0cf6",
   "metadata": {},
   "outputs": [],
   "source": [
    "image_list = glob.glob(image_dir+\"zoom15/*.png\")\n",
    "# image_list = glob.glob('/dreambig/qingyi/image_chicago/data/images/streetview/*.jpg')"
   ]
  },
  {
   "cell_type": "code",
   "execution_count": 3,
   "id": "e8f9e596",
   "metadata": {},
   "outputs": [
    {
     "name": "stdout",
     "output_type": "stream",
     "text": [
      "31760\n"
     ]
    }
   ],
   "source": [
    "print(len(image_list))"
   ]
  },
  {
   "cell_type": "markdown",
   "id": "3f791ce4",
   "metadata": {},
   "source": [
    "# Re-package images for faster I/O"
   ]
  },
  {
   "cell_type": "code",
   "execution_count": 22,
   "id": "f6f04003",
   "metadata": {},
   "outputs": [],
   "source": [
    "image_df = [i.split('/')[-1][:-4].split('_')+[i] for i in image_list]\n",
    "image_df = pd.DataFrame(image_df, columns = ['state','county','tract','idx','dir'])\n",
    "for i in ['state','county','tract','idx']:\n",
    "    image_df[i] = image_df[i].astype(int)\n",
    "image_df = image_df.sort_values(by=['state','county','tract','idx'])"
   ]
  },
  {
   "cell_type": "code",
   "execution_count": 24,
   "id": "818f9c7c",
   "metadata": {},
   "outputs": [
    {
     "data": {
      "text/html": [
       "<div>\n",
       "<style scoped>\n",
       "    .dataframe tbody tr th:only-of-type {\n",
       "        vertical-align: middle;\n",
       "    }\n",
       "\n",
       "    .dataframe tbody tr th {\n",
       "        vertical-align: top;\n",
       "    }\n",
       "\n",
       "    .dataframe thead th {\n",
       "        text-align: right;\n",
       "    }\n",
       "</style>\n",
       "<table border=\"1\" class=\"dataframe\">\n",
       "  <thead>\n",
       "    <tr style=\"text-align: right;\">\n",
       "      <th></th>\n",
       "      <th>state</th>\n",
       "      <th>county</th>\n",
       "      <th>tract</th>\n",
       "      <th>idx</th>\n",
       "      <th>dir</th>\n",
       "    </tr>\n",
       "  </thead>\n",
       "  <tbody>\n",
       "  </tbody>\n",
       "</table>\n",
       "</div>"
      ],
      "text/plain": [
       "Empty DataFrame\n",
       "Columns: [state, county, tract, idx, dir]\n",
       "Index: []"
      ]
     },
     "execution_count": 24,
     "metadata": {},
     "output_type": "execute_result"
    }
   ],
   "source": [
    "image_count = image_df.groupby(['state','county','tract'], as_index=False).count()\n",
    "image_count[image_count['idx']<20]"
   ]
  },
  {
   "cell_type": "code",
   "execution_count": 25,
   "id": "00a93986",
   "metadata": {},
   "outputs": [],
   "source": [
    "# package into 1 file\n",
    "image_index = np.arange(len(image_df))\n",
    "image_group = image_index // 2000\n",
    "image_df.loc[:,'group'] = image_group\n",
    "image_df.to_csv(data_dir+\"data_info.csv\", index=False)\n"
   ]
  },
  {
   "cell_type": "code",
   "execution_count": 26,
   "id": "9524ebce",
   "metadata": {
    "scrolled": true
   },
   "outputs": [
    {
     "name": "stderr",
     "output_type": "stream",
     "text": [
      "<ipython-input-26-89d7eb36d078>:7: SettingWithCopyWarning: \n",
      "A value is trying to be set on a copy of a slice from a DataFrame.\n",
      "Try using .loc[row_indexer,col_indexer] = value instead\n",
      "\n",
      "See the caveats in the documentation: https://pandas.pydata.org/pandas-docs/stable/user_guide/indexing.html#returning-a-view-versus-a-copy\n",
      "  train_image_df.loc[:,'group'] = image_group\n",
      "<ipython-input-26-89d7eb36d078>:11: SettingWithCopyWarning: \n",
      "A value is trying to be set on a copy of a slice from a DataFrame.\n",
      "Try using .loc[row_indexer,col_indexer] = value instead\n",
      "\n",
      "See the caveats in the documentation: https://pandas.pydata.org/pandas-docs/stable/user_guide/indexing.html#returning-a-view-versus-a-copy\n",
      "  test_image_df.loc[:,'group'] = image_group\n"
     ]
    }
   ],
   "source": [
    "# package into train/test (stratified)\n",
    "train_image_df = image_df[image_df['idx'].astype(int) < 18]\n",
    "test_image_df = image_df[image_df['idx'].astype(int) >= 18]\n",
    "\n",
    "image_index = np.arange(len(train_image_df))\n",
    "image_group = image_index // 2000\n",
    "train_image_df.loc[:,'group'] = image_group\n",
    "\n",
    "image_index = np.arange(len(test_image_df))\n",
    "image_group = image_index // 2000\n",
    "test_image_df.loc[:,'group'] = image_group\n",
    "\n",
    "train_image_df.to_csv(data_dir+\"train_data_info.csv\", index=False)\n",
    "test_image_df.to_csv(data_dir+\"test_data_info.csv\", index=False)"
   ]
  },
  {
   "cell_type": "code",
   "execution_count": 27,
   "id": "f7b54b4c",
   "metadata": {},
   "outputs": [],
   "source": [
    "from PIL import Image\n",
    "import h5py\n",
    "import torchvision"
   ]
  },
  {
   "cell_type": "code",
   "execution_count": 28,
   "id": "894eb83e",
   "metadata": {},
   "outputs": [],
   "source": [
    "transform = torchvision.transforms.Compose([\n",
    "            torchvision.transforms.ToTensor(),\n",
    "            torchvision.transforms.CenterCrop(256),\n",
    "            torchvision.transforms.Resize(64)])"
   ]
  },
  {
   "cell_type": "code",
   "execution_count": 32,
   "id": "673e400c",
   "metadata": {},
   "outputs": [],
   "source": [
    "for (s,g),df in image_df.groupby(['state', 'group']):\n",
    "    save_hdf = h5py.File(image_dir+'zoom15/hdf5/'+str(s)+\"_\"+str(g)+\".hdf5\", 'w')\n",
    "    imgs = []\n",
    "    for i in df['dir']:\n",
    "        imgs.append(transform(util_image.center_crop(cv2.imread(i), (256,256))).numpy())\n",
    "    imgs = np.array(imgs)\n",
    "    dset = save_hdf.create_dataset('default', data=imgs)\n",
    "    save_hdf.close()"
   ]
  },
  {
   "cell_type": "code",
   "execution_count": 33,
   "id": "25606470",
   "metadata": {},
   "outputs": [],
   "source": [
    "for (s,g),df in test_image_df.groupby(['state', 'group']):\n",
    "    save_hdf = h5py.File(image_dir+'zoom15/hdf5/test_'+str(s)+\"_\"+str(g)+\".hdf5\", 'w')\n",
    "    imgs = []\n",
    "    for i in df['dir']:\n",
    "        imgs.append(transform(util_image.center_crop(cv2.imread(i), (256,256))).numpy())\n",
    "    imgs = np.array(imgs)\n",
    "    dset = save_hdf.create_dataset('default', data=imgs)\n",
    "    save_hdf.close()"
   ]
  },
  {
   "cell_type": "code",
   "execution_count": 34,
   "id": "aa7ffcaa",
   "metadata": {
    "scrolled": true
   },
   "outputs": [],
   "source": [
    "for (s,g),df in train_image_df.groupby(['state', 'group']):\n",
    "    save_hdf = h5py.File(image_dir+'zoom15/hdf5/train_'+str(s)+\"_\"+str(g)+\".hdf5\", 'w')\n",
    "    imgs = []\n",
    "    for i in df['dir']:\n",
    "        imgs.append(transform(util_image.center_crop(cv2.imread(i), (256,256))).numpy())\n",
    "    imgs = np.array(imgs)\n",
    "    dset = save_hdf.create_dataset('default', data=imgs)\n",
    "    save_hdf.close()\n"
   ]
  },
  {
   "cell_type": "markdown",
   "id": "3aeecf5b",
   "metadata": {},
   "source": [
    "# Crop"
   ]
  },
  {
   "cell_type": "code",
   "execution_count": 28,
   "id": "c529fa69",
   "metadata": {},
   "outputs": [],
   "source": [
    "for i in image_list:\n",
    "    im = cv2.imread(i)\n",
    "    im = util_image.center_crop(im, (224,224))\n",
    "    im = cv2.resize(im, (64,64))\n",
    "#     plt.figure(figsize=(2,2))\n",
    "#     plt.imshow(im)\n",
    "#     break\n",
    "    new_name = i.replace('streetview', 'streetview_64')\n",
    "    cv2.imwrite(new_name, im)\n"
   ]
  },
  {
   "cell_type": "markdown",
   "id": "a73dbe2f",
   "metadata": {},
   "source": [
    "# Blurring"
   ]
  },
  {
   "cell_type": "code",
   "execution_count": 7,
   "id": "5b984f73",
   "metadata": {
    "scrolled": false
   },
   "outputs": [],
   "source": [
    "for i in image_list:\n",
    "    im = cv2.imread(i)\n",
    "#     im_gray = cv2.cvtColor(im, cv2.COLOR_BGR2GRAY)\n",
    "\n",
    "#     im_gaussian = cv2.GaussianBlur(im, (5,5), 5)\n",
    "#     im_avg = cv2.blur(im, (5,5))\n",
    "\n",
    "    \n",
    "#     sharpen_kernel = np.array([[0, -1, 0],\n",
    "#                        [-1, 5,-1],\n",
    "#                        [0, -1, 0]])\n",
    "#     edge_kernel = np.array([[-1, -1, -1],\n",
    "#                        [-1, 8,-1],\n",
    "#                        [-1, -1, -1]])    \n",
    "    \n",
    "#     im_sharp = cv2.filter2D(src=im, ddepth=-1, kernel=sharpen_kernel)\n",
    "    \n",
    "#     im_edge = cv2.GaussianBlur(im_gray, (5,5), 5)\n",
    "#     im_edge = cv2.GaussianBlur(im_edge, (5,5), 5)\n",
    "#     im_edge = cv2.filter2D(src=im_edge, ddepth=-1, kernel=edge_kernel)\n",
    "    \n",
    "    im_bilateral = cv2.bilateralFilter(src=im, d=7, sigmaColor=20, sigmaSpace=200)\n",
    "    for j in range(5):\n",
    "        im_bilateral = cv2.bilateralFilter(src=im_bilateral, d=7, sigmaColor=20, sigmaSpace=200)\n",
    "\n",
    "#     plt.imshow(im_bilateral)\n",
    "#     plt.imshow(im_avg)\n",
    "#     plt.imshow(im_gaussian)\n",
    "#     plt.imshow(im_sharp)\n",
    "#     plt.imshow(im_edge, cmap='gray', vmin=0, vmax=255)\n",
    "#     plt.show()\n",
    "    \n",
    "    new_name = i.replace('zoom15', 'zoom15_bilateral')\n",
    "    cv2.imwrite(new_name, im_bilateral)\n",
    "    \n"
   ]
  },
  {
   "cell_type": "code",
   "execution_count": null,
   "id": "c1a8609d",
   "metadata": {},
   "outputs": [],
   "source": [
    "import cv2\n",
    "\n",
    "geoid = '17_43_846523'\n",
    "images_list = [cv2.imread(image_dir+zoomlevel+\"/\"+geoid+\"_\"+str(i)+\".png\") for i in range(10)]\n",
    "util_plot.plot_images(1, 10, images_list, mag=3);"
   ]
  }
 ],
 "metadata": {
  "kernelspec": {
   "display_name": "qingyi",
   "language": "python",
   "name": "qingyi"
  },
  "language_info": {
   "codemirror_mode": {
    "name": "ipython",
    "version": 3
   },
   "file_extension": ".py",
   "mimetype": "text/x-python",
   "name": "python",
   "nbconvert_exporter": "python",
   "pygments_lexer": "ipython3",
   "version": "3.8.3"
  }
 },
 "nbformat": 4,
 "nbformat_minor": 5
}
