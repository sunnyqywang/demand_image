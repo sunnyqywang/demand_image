{
 "cells": [
  {
   "cell_type": "code",
   "execution_count": 1,
   "id": "dda7dfbb",
   "metadata": {},
   "outputs": [],
   "source": [
    "import cv2\n",
    "from setup import out_dir, data_dir, image_dir, model_dir\n",
    "import glob\n",
    "import matplotlib.pyplot as plt\n",
    "import numpy as np\n",
    "\n",
    "%matplotlib inline"
   ]
  },
  {
   "cell_type": "code",
   "execution_count": 2,
   "id": "037b0cf6",
   "metadata": {},
   "outputs": [],
   "source": [
    "image_list = glob.glob(image_dir+\"zoom15/*.png\")"
   ]
  },
  {
   "cell_type": "code",
   "execution_count": 7,
   "id": "5b984f73",
   "metadata": {
    "scrolled": false
   },
   "outputs": [],
   "source": [
    "for i in image_list:\n",
    "    im = cv2.imread(i)\n",
    "#     im_gray = cv2.cvtColor(im, cv2.COLOR_BGR2GRAY)\n",
    "\n",
    "#     im_gaussian = cv2.GaussianBlur(im, (5,5), 5)\n",
    "#     im_avg = cv2.blur(im, (5,5))\n",
    "\n",
    "    \n",
    "#     sharpen_kernel = np.array([[0, -1, 0],\n",
    "#                        [-1, 5,-1],\n",
    "#                        [0, -1, 0]])\n",
    "#     edge_kernel = np.array([[-1, -1, -1],\n",
    "#                        [-1, 8,-1],\n",
    "#                        [-1, -1, -1]])    \n",
    "    \n",
    "#     im_sharp = cv2.filter2D(src=im, ddepth=-1, kernel=sharpen_kernel)\n",
    "    \n",
    "#     im_edge = cv2.GaussianBlur(im_gray, (5,5), 5)\n",
    "#     im_edge = cv2.GaussianBlur(im_edge, (5,5), 5)\n",
    "#     im_edge = cv2.filter2D(src=im_edge, ddepth=-1, kernel=edge_kernel)\n",
    "    \n",
    "    im_bilateral = cv2.bilateralFilter(src=im, d=7, sigmaColor=20, sigmaSpace=200)\n",
    "    for j in range(5):\n",
    "        im_bilateral = cv2.bilateralFilter(src=im_bilateral, d=7, sigmaColor=20, sigmaSpace=200)\n",
    "\n",
    "#     plt.imshow(im_bilateral)\n",
    "#     plt.imshow(im_avg)\n",
    "#     plt.imshow(im_gaussian)\n",
    "#     plt.imshow(im_sharp)\n",
    "#     plt.imshow(im_edge, cmap='gray', vmin=0, vmax=255)\n",
    "#     plt.show()\n",
    "    \n",
    "    new_name = i.replace('zoom15', 'zoom15_bilateral')\n",
    "    cv2.imwrite(new_name, im_bilateral)\n",
    "    \n"
   ]
  },
  {
   "cell_type": "code",
   "execution_count": null,
   "id": "0af44ae0",
   "metadata": {},
   "outputs": [],
   "source": []
  }
 ],
 "metadata": {
  "kernelspec": {
   "display_name": "Python 3",
   "language": "python",
   "name": "python3"
  },
  "language_info": {
   "codemirror_mode": {
    "name": "ipython",
    "version": 3
   },
   "file_extension": ".py",
   "mimetype": "text/x-python",
   "name": "python",
   "nbconvert_exporter": "python",
   "pygments_lexer": "ipython3",
   "version": "3.7.11"
  }
 },
 "nbformat": 4,
 "nbformat_minor": 5
}
