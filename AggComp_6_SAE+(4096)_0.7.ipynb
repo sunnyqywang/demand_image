{
 "cells": [
  {
   "cell_type": "code",
   "execution_count": 1,
   "metadata": {},
   "outputs": [],
   "source": [
    "import sys\n",
    "sys.path.append(\"models/\")\n",
    "\n",
    "%load_ext autoreload\n",
    "%autoreload 2\n",
    "from collections import OrderedDict\n",
    "import os\n",
    "import matplotlib.pyplot as plt\n",
    "%matplotlib inline\n",
    "\n",
    "import pandas as pd\n",
    "import pickle as pkl\n",
    "import numpy as np\n",
    "\n",
    "import itertools\n",
    "import glob\n",
    "\n",
    "import torch\n",
    "import torch.nn as nn\n",
    "import torch.nn.functional as F\n",
    "from torch.utils.data import DataLoader\n",
    "from sklearn import linear_model\n",
    "from sklearn.metrics import r2_score, mean_squared_error\n",
    "from sklearn.model_selection import cross_validate, GroupKFold\n",
    "import statsmodels.api as sm\n",
    "\n",
    "\n",
    "from dataloader import SurveyDataset, load_aggregate_travel_behavior, load_demo_v1\n",
    "from M1_util_train_test import load_model, test\n",
    "import linear_reg\n",
    "import mnl\n",
    "from setup import out_dir, data_dir, image_dir, model_dir, proj_dir\n"
   ]
  },
  {
   "cell_type": "code",
   "execution_count": 2,
   "metadata": {},
   "outputs": [],
   "source": [
    "data_version = '1571'\n",
    "\n",
    "model_type = 'AE'\n",
    "sampling = 's'\n",
    "\n",
    "zoomlevel = 'zoom15'\n",
    "\n",
    "variable_names = ['active','auto','mas','pt', 'trpgen']\n",
    "\n",
    "demo_variables = ['tot_population','pct25_34yrs','pct35_50yrs','pctover65yrs',\n",
    "         'pctwhite_alone','pct_nonwhite','pctblack_alone',\n",
    "         'pct_col_grad','avg_tt_to_work','inc_per_capita']"
   ]
  },
  {
   "cell_type": "markdown",
   "metadata": {},
   "source": [
    "\n",
    "# Load Model Embeddings"
   ]
  },
  {
   "cell_type": "code",
   "execution_count": 3,
   "metadata": {},
   "outputs": [],
   "source": [
    "# 0.7\n",
    "with open(proj_dir+\"latent_space/2023-07-01T02-22-28_sae_kl_f32_ep69.pkl\", \"rb\") as f:\n",
    "    encoder_output = pkl.load(f)\n",
    "    im = pkl.load(f)\n",
    "    ct = pkl.load(f)\n",
    "    sup_true_list = pkl.load(f)\n",
    "    sup_list = pkl.load(f)"
   ]
  },
  {
   "cell_type": "code",
   "execution_count": 4,
   "metadata": {},
   "outputs": [],
   "source": [
    "# Aggregate Embeddings\n",
    "unique_ct = list(set(ct))\n",
    "unique_ct.sort()\n",
    "ct = np.array(ct)\n",
    "aggregate_embeddings = []\n",
    "for i in unique_ct:\n",
    "#     aggregate_embeddings.append(np.mean(sup_list[ct == i], axis=0))\n",
    "    aggregate_embeddings.append(np.mean(encoder_output[ct == i], axis=0))\n",
    "aggregate_embeddings = np.array(aggregate_embeddings)\n",
    "\n",
    "x = aggregate_embeddings\n",
    "\n",
    "x = x.reshape(x.shape[0],-1)"
   ]
  },
  {
   "cell_type": "code",
   "execution_count": 5,
   "metadata": {},
   "outputs": [
    {
     "name": "stdout",
     "output_type": "stream",
     "text": [
      "(1588, 4096)\n"
     ]
    }
   ],
   "source": [
    "print(x.shape)"
   ]
  },
  {
   "cell_type": "markdown",
   "metadata": {},
   "source": [
    "# Load Trip Behavior"
   ]
  },
  {
   "cell_type": "code",
   "execution_count": 6,
   "metadata": {},
   "outputs": [],
   "source": [
    "file = \"MyDailyTravel/origin_trip_behavior.csv\"\n",
    "df_pivot = load_aggregate_travel_behavior(file, data_version)\n",
    "y_ct = df_pivot['geoid'].to_list()\n",
    "y = df_pivot[variable_names].to_numpy()[:,:4]\n",
    "\n",
    "groups = df_pivot['train_test']\n",
    "group_split = GroupKFold(n_splits=5)"
   ]
  },
  {
   "cell_type": "code",
   "execution_count": 7,
   "metadata": {},
   "outputs": [],
   "source": [
    "if len(x) != len(y):\n",
    "    x_mask = [True if c in y_ct else False for c in unique_ct]\n",
    "    x = x[x_mask,:]\n",
    "    unique_ct = list(np.array(unique_ct)[x_mask])\n",
    "    y_mask = [True if c in unique_ct else False for c in y_ct]\n",
    "    y = y[y_mask,:]\n",
    "    y_ct = list(np.array(y_ct)[y_mask])\n",
    "\n",
    "x = x[[y_ct.index(val) for val in unique_ct],:]\n",
    "unique_ct = list(np.array(unique_ct)[np.array([y_ct.index(val) for val in unique_ct])])\n",
    "for xc,yc in zip(unique_ct, y_ct):\n",
    "    assert xc == yc"
   ]
  },
  {
   "cell_type": "code",
   "execution_count": 8,
   "metadata": {},
   "outputs": [
    {
     "name": "stdout",
     "output_type": "stream",
     "text": [
      "1571\n"
     ]
    }
   ],
   "source": [
    "print(len(y))"
   ]
  },
  {
   "cell_type": "markdown",
   "metadata": {},
   "source": [
    "# 1. Linear Regression"
   ]
  },
  {
   "cell_type": "markdown",
   "metadata": {},
   "source": [
    "### 1.1 Auto Share"
   ]
  },
  {
   "cell_type": "code",
   "execution_count": 42,
   "metadata": {},
   "outputs": [],
   "source": [
    "y_index = 1"
   ]
  },
  {
   "cell_type": "code",
   "execution_count": 44,
   "metadata": {
    "scrolled": false
   },
   "outputs": [
    {
     "name": "stderr",
     "output_type": "stream",
     "text": [
      "/home/jtl/anaconda3/envs/qingyi/lib/python3.8/site-packages/sklearn/linear_model/_coordinate_descent.py:529: ConvergenceWarning: Objective did not converge. You might want to increase the number of iterations. Duality gap: 1.1876341104507446, tolerance: 0.006768209859728813\n",
      "  model = cd_fast.enet_coordinate_descent(\n",
      "/home/jtl/anaconda3/envs/qingyi/lib/python3.8/site-packages/sklearn/linear_model/_coordinate_descent.py:529: ConvergenceWarning: Objective did not converge. You might want to increase the number of iterations. Duality gap: 1.2545095682144165, tolerance: 0.006595651153475046\n",
      "  model = cd_fast.enet_coordinate_descent(\n",
      "/home/jtl/anaconda3/envs/qingyi/lib/python3.8/site-packages/sklearn/linear_model/_coordinate_descent.py:529: ConvergenceWarning: Objective did not converge. You might want to increase the number of iterations. Duality gap: 1.3698740005493164, tolerance: 0.006768940482288599\n",
      "  model = cd_fast.enet_coordinate_descent(\n",
      "/home/jtl/anaconda3/envs/qingyi/lib/python3.8/site-packages/sklearn/linear_model/_coordinate_descent.py:529: ConvergenceWarning: Objective did not converge. You might want to increase the number of iterations. Duality gap: 1.4102588891983032, tolerance: 0.007110722362995148\n",
      "  model = cd_fast.enet_coordinate_descent(\n",
      "/home/jtl/anaconda3/envs/qingyi/lib/python3.8/site-packages/sklearn/linear_model/_coordinate_descent.py:529: ConvergenceWarning: Objective did not converge. You might want to increase the number of iterations. Duality gap: 1.4060266017913818, tolerance: 0.00676005519926548\n",
      "  model = cd_fast.enet_coordinate_descent(\n"
     ]
    },
    {
     "name": "stdout",
     "output_type": "stream",
     "text": [
      "Parameter: 1.00e-04 \t Train score: 0.9962 \t Cross val score: 0.1830 \t Nonzero coef: 2691\n"
     ]
    },
    {
     "name": "stderr",
     "output_type": "stream",
     "text": [
      "/home/jtl/anaconda3/envs/qingyi/lib/python3.8/site-packages/sklearn/linear_model/_coordinate_descent.py:529: ConvergenceWarning: Objective did not converge. You might want to increase the number of iterations. Duality gap: 3.2509963512420654, tolerance: 0.006768209859728813\n",
      "  model = cd_fast.enet_coordinate_descent(\n",
      "/home/jtl/anaconda3/envs/qingyi/lib/python3.8/site-packages/sklearn/linear_model/_coordinate_descent.py:529: ConvergenceWarning: Objective did not converge. You might want to increase the number of iterations. Duality gap: 3.327174186706543, tolerance: 0.006595651153475046\n",
      "  model = cd_fast.enet_coordinate_descent(\n",
      "/home/jtl/anaconda3/envs/qingyi/lib/python3.8/site-packages/sklearn/linear_model/_coordinate_descent.py:529: ConvergenceWarning: Objective did not converge. You might want to increase the number of iterations. Duality gap: 3.2618064880371094, tolerance: 0.006768940482288599\n",
      "  model = cd_fast.enet_coordinate_descent(\n",
      "/home/jtl/anaconda3/envs/qingyi/lib/python3.8/site-packages/sklearn/linear_model/_coordinate_descent.py:529: ConvergenceWarning: Objective did not converge. You might want to increase the number of iterations. Duality gap: 3.013141632080078, tolerance: 0.007110722362995148\n",
      "  model = cd_fast.enet_coordinate_descent(\n",
      "/home/jtl/anaconda3/envs/qingyi/lib/python3.8/site-packages/sklearn/linear_model/_coordinate_descent.py:529: ConvergenceWarning: Objective did not converge. You might want to increase the number of iterations. Duality gap: 2.8671560287475586, tolerance: 0.00676005519926548\n",
      "  model = cd_fast.enet_coordinate_descent(\n"
     ]
    },
    {
     "name": "stdout",
     "output_type": "stream",
     "text": [
      "Parameter: 1.00e-03 \t Train score: 0.8940 \t Cross val score: 0.5318 \t Nonzero coef: 790\n"
     ]
    },
    {
     "name": "stderr",
     "output_type": "stream",
     "text": [
      "/home/jtl/anaconda3/envs/qingyi/lib/python3.8/site-packages/sklearn/linear_model/_coordinate_descent.py:529: ConvergenceWarning: Objective did not converge. You might want to increase the number of iterations. Duality gap: 0.025388717651367188, tolerance: 0.006595651153475046\n",
      "  model = cd_fast.enet_coordinate_descent(\n",
      "/home/jtl/anaconda3/envs/qingyi/lib/python3.8/site-packages/sklearn/linear_model/_coordinate_descent.py:529: ConvergenceWarning: Objective did not converge. You might want to increase the number of iterations. Duality gap: 0.023401260375976562, tolerance: 0.007110722362995148\n",
      "  model = cd_fast.enet_coordinate_descent(\n"
     ]
    },
    {
     "name": "stdout",
     "output_type": "stream",
     "text": [
      "Parameter: 1.00e-02 \t Train score: 0.6735 \t Cross val score: 0.6399 \t Nonzero coef: 54\n",
      "Parameter: 1.00e-01 \t Train score: 0.6056 \t Cross val score: 0.5943 \t Nonzero coef: 12\n",
      "Parameter: 1.00e+00 \t Train score: 0.2215 \t Cross val score: 0.2168 \t Nonzero coef: 3\n"
     ]
    }
   ],
   "source": [
    "# Lasso\n",
    "for a in (1e-3)*np.array([0.1,1,10,100,1000]):\n",
    "    lasso = linear_model.Lasso(alpha=a)\n",
    "    cross_results = cross_validate(lasso, x, y[:,y_index], cv=group_split, groups=groups, scoring='r2', return_train_score=True, return_estimator=True)\n",
    "    nz = 0\n",
    "    for m in cross_results['estimator']:\n",
    "        nz += sum(m.coef_ != 0)\n",
    "    nz /= 5\n",
    "    \n",
    "    print(\"Parameter: %.2e \\t Train score: %.4f \\t Cross val score: %.4f \\t Nonzero coef: %d\" % \n",
    "          (a, cross_results['train_score'].mean(), cross_results['test_score'].mean(), nz))"
   ]
  },
  {
   "cell_type": "markdown",
   "metadata": {},
   "source": [
    "### 1.2 PT"
   ]
  },
  {
   "cell_type": "code",
   "execution_count": 38,
   "metadata": {},
   "outputs": [],
   "source": [
    "y_index = 3"
   ]
  },
  {
   "cell_type": "code",
   "execution_count": 39,
   "metadata": {
    "scrolled": false
   },
   "outputs": [
    {
     "name": "stderr",
     "output_type": "stream",
     "text": [
      "/home/jtl/anaconda3/envs/qingyi/lib/python3.8/site-packages/sklearn/linear_model/_coordinate_descent.py:529: ConvergenceWarning: Objective did not converge. You might want to increase the number of iterations. Duality gap: 0.19405460357666016, tolerance: 0.0011677747825160623\n",
      "  model = cd_fast.enet_coordinate_descent(\n",
      "/home/jtl/anaconda3/envs/qingyi/lib/python3.8/site-packages/sklearn/linear_model/_coordinate_descent.py:529: ConvergenceWarning: Objective did not converge. You might want to increase the number of iterations. Duality gap: 0.3804285526275635, tolerance: 0.0011298793833702803\n",
      "  model = cd_fast.enet_coordinate_descent(\n",
      "/home/jtl/anaconda3/envs/qingyi/lib/python3.8/site-packages/sklearn/linear_model/_coordinate_descent.py:529: ConvergenceWarning: Objective did not converge. You might want to increase the number of iterations. Duality gap: 0.4088153839111328, tolerance: 0.0012104269117116928\n",
      "  model = cd_fast.enet_coordinate_descent(\n",
      "/home/jtl/anaconda3/envs/qingyi/lib/python3.8/site-packages/sklearn/linear_model/_coordinate_descent.py:529: ConvergenceWarning: Objective did not converge. You might want to increase the number of iterations. Duality gap: 0.34175729751586914, tolerance: 0.00128577696159482\n",
      "  model = cd_fast.enet_coordinate_descent(\n",
      "/home/jtl/anaconda3/envs/qingyi/lib/python3.8/site-packages/sklearn/linear_model/_coordinate_descent.py:529: ConvergenceWarning: Objective did not converge. You might want to increase the number of iterations. Duality gap: 0.5073068141937256, tolerance: 0.0012813423527404666\n",
      "  model = cd_fast.enet_coordinate_descent(\n"
     ]
    },
    {
     "name": "stdout",
     "output_type": "stream",
     "text": [
      "Parameter: 1.00e-03 \t Train score: 0.7159 \t Cross val score: 0.4453 \t Nonzero coef: 371\n"
     ]
    },
    {
     "name": "stderr",
     "output_type": "stream",
     "text": [
      "/home/jtl/anaconda3/envs/qingyi/lib/python3.8/site-packages/sklearn/linear_model/_coordinate_descent.py:529: ConvergenceWarning: Objective did not converge. You might want to increase the number of iterations. Duality gap: 0.0026068687438964844, tolerance: 0.0012104269117116928\n",
      "  model = cd_fast.enet_coordinate_descent(\n",
      "/home/jtl/anaconda3/envs/qingyi/lib/python3.8/site-packages/sklearn/linear_model/_coordinate_descent.py:529: ConvergenceWarning: Objective did not converge. You might want to increase the number of iterations. Duality gap: 0.01209259033203125, tolerance: 0.00128577696159482\n",
      "  model = cd_fast.enet_coordinate_descent(\n",
      "/home/jtl/anaconda3/envs/qingyi/lib/python3.8/site-packages/sklearn/linear_model/_coordinate_descent.py:529: ConvergenceWarning: Objective did not converge. You might want to increase the number of iterations. Duality gap: 0.0017757415771484375, tolerance: 0.0012813423527404666\n",
      "  model = cd_fast.enet_coordinate_descent(\n"
     ]
    },
    {
     "name": "stdout",
     "output_type": "stream",
     "text": [
      "Parameter: 5.00e-03 \t Train score: 0.5382 \t Cross val score: 0.4826 \t Nonzero coef: 44\n",
      "Parameter: 9.00e-03 \t Train score: 0.5204 \t Cross val score: 0.4834 \t Nonzero coef: 31\n",
      "Parameter: 1.30e-02 \t Train score: 0.5095 \t Cross val score: 0.4818 \t Nonzero coef: 23\n",
      "Parameter: 1.70e-02 \t Train score: 0.5030 \t Cross val score: 0.4804 \t Nonzero coef: 19\n"
     ]
    }
   ],
   "source": [
    "# Lasso\n",
    "for a in (1e-3)*np.array([1,5,9,13,17]):\n",
    "    lasso = linear_model.Lasso(alpha=a)\n",
    "    cross_results = cross_validate(lasso, x, y[:,y_index], cv=group_split, groups=groups, scoring='r2', return_train_score=True, return_estimator=True)\n",
    "    nz = 0\n",
    "    for m in cross_results['estimator']:\n",
    "        nz += sum(m.coef_ != 0)\n",
    "    nz /= 5\n",
    "    \n",
    "    print(\"Parameter: %.2e \\t Train score: %.4f \\t Cross val score: %.4f \\t Nonzero coef: %d\" % \n",
    "          (a, cross_results['train_score'].mean(), cross_results['test_score'].mean(), nz))"
   ]
  },
  {
   "cell_type": "markdown",
   "metadata": {},
   "source": [
    "### 1.3 Active"
   ]
  },
  {
   "cell_type": "code",
   "execution_count": 40,
   "metadata": {},
   "outputs": [],
   "source": [
    "y_index = 0"
   ]
  },
  {
   "cell_type": "code",
   "execution_count": 41,
   "metadata": {
    "scrolled": false
   },
   "outputs": [
    {
     "name": "stderr",
     "output_type": "stream",
     "text": [
      "/home/jtl/anaconda3/envs/qingyi/lib/python3.8/site-packages/sklearn/linear_model/_coordinate_descent.py:529: ConvergenceWarning: Objective did not converge. You might want to increase the number of iterations. Duality gap: 1.4056975841522217, tolerance: 0.003382583614438772\n",
      "  model = cd_fast.enet_coordinate_descent(\n",
      "/home/jtl/anaconda3/envs/qingyi/lib/python3.8/site-packages/sklearn/linear_model/_coordinate_descent.py:529: ConvergenceWarning: Objective did not converge. You might want to increase the number of iterations. Duality gap: 2.0554556846618652, tolerance: 0.0032401869539171457\n",
      "  model = cd_fast.enet_coordinate_descent(\n",
      "/home/jtl/anaconda3/envs/qingyi/lib/python3.8/site-packages/sklearn/linear_model/_coordinate_descent.py:529: ConvergenceWarning: Objective did not converge. You might want to increase the number of iterations. Duality gap: 1.6076326370239258, tolerance: 0.0033550586085766554\n",
      "  model = cd_fast.enet_coordinate_descent(\n",
      "/home/jtl/anaconda3/envs/qingyi/lib/python3.8/site-packages/sklearn/linear_model/_coordinate_descent.py:529: ConvergenceWarning: Objective did not converge. You might want to increase the number of iterations. Duality gap: 1.9526584148406982, tolerance: 0.003441375680267811\n",
      "  model = cd_fast.enet_coordinate_descent(\n",
      "/home/jtl/anaconda3/envs/qingyi/lib/python3.8/site-packages/sklearn/linear_model/_coordinate_descent.py:529: ConvergenceWarning: Objective did not converge. You might want to increase the number of iterations. Duality gap: 1.199585199356079, tolerance: 0.003289309563115239\n",
      "  model = cd_fast.enet_coordinate_descent(\n"
     ]
    },
    {
     "name": "stdout",
     "output_type": "stream",
     "text": [
      "Parameter: 1.00e-03 \t Train score: 0.8261 \t Cross val score: 0.4249 \t Nonzero coef: 629\n"
     ]
    },
    {
     "name": "stderr",
     "output_type": "stream",
     "text": [
      "/home/jtl/anaconda3/envs/qingyi/lib/python3.8/site-packages/sklearn/linear_model/_coordinate_descent.py:529: ConvergenceWarning: Objective did not converge. You might want to increase the number of iterations. Duality gap: 0.1122751235961914, tolerance: 0.003382583614438772\n",
      "  model = cd_fast.enet_coordinate_descent(\n",
      "/home/jtl/anaconda3/envs/qingyi/lib/python3.8/site-packages/sklearn/linear_model/_coordinate_descent.py:529: ConvergenceWarning: Objective did not converge. You might want to increase the number of iterations. Duality gap: 0.052414894104003906, tolerance: 0.0032401869539171457\n",
      "  model = cd_fast.enet_coordinate_descent(\n",
      "/home/jtl/anaconda3/envs/qingyi/lib/python3.8/site-packages/sklearn/linear_model/_coordinate_descent.py:529: ConvergenceWarning: Objective did not converge. You might want to increase the number of iterations. Duality gap: 0.08818721771240234, tolerance: 0.0033550586085766554\n",
      "  model = cd_fast.enet_coordinate_descent(\n",
      "/home/jtl/anaconda3/envs/qingyi/lib/python3.8/site-packages/sklearn/linear_model/_coordinate_descent.py:529: ConvergenceWarning: Objective did not converge. You might want to increase the number of iterations. Duality gap: 0.1075906753540039, tolerance: 0.003441375680267811\n",
      "  model = cd_fast.enet_coordinate_descent(\n",
      "/home/jtl/anaconda3/envs/qingyi/lib/python3.8/site-packages/sklearn/linear_model/_coordinate_descent.py:529: ConvergenceWarning: Objective did not converge. You might want to increase the number of iterations. Duality gap: 0.018705368041992188, tolerance: 0.003289309563115239\n",
      "  model = cd_fast.enet_coordinate_descent(\n"
     ]
    },
    {
     "name": "stdout",
     "output_type": "stream",
     "text": [
      "Parameter: 5.00e-03 \t Train score: 0.5922 \t Cross val score: 0.5212 \t Nonzero coef: 80\n",
      "Parameter: 9.00e-03 \t Train score: 0.5655 \t Cross val score: 0.5239 \t Nonzero coef: 40\n",
      "Parameter: 1.30e-02 \t Train score: 0.5528 \t Cross val score: 0.5200 \t Nonzero coef: 32\n",
      "Parameter: 1.70e-02 \t Train score: 0.5429 \t Cross val score: 0.5154 \t Nonzero coef: 26\n"
     ]
    }
   ],
   "source": [
    "# Lasso\n",
    "for a in (1e-3)*np.array([1,5,9,13,17]):\n",
    "    lasso = linear_model.Lasso(alpha=a)\n",
    "    cross_results = cross_validate(lasso, x, y[:,y_index], cv=group_split, groups=groups, scoring='r2', return_train_score=True, return_estimator=True)\n",
    "    nz = 0\n",
    "    for m in cross_results['estimator']:\n",
    "        nz += sum(m.coef_ != 0)\n",
    "    nz /= 5\n",
    "    \n",
    "    print(\"Parameter: %.2e \\t Train score: %.4f \\t Cross val score: %.4f \\t Nonzero coef: %d\" % \n",
    "          (a, cross_results['train_score'].mean(), cross_results['test_score'].mean(), nz))"
   ]
  },
  {
   "cell_type": "markdown",
   "metadata": {},
   "source": [
    "# 2. MNL for Mode Share"
   ]
  },
  {
   "cell_type": "code",
   "execution_count": null,
   "metadata": {},
   "outputs": [],
   "source": [
    "results = {}\n"
   ]
  },
  {
   "cell_type": "code",
   "execution_count": 64,
   "metadata": {
    "scrolled": true
   },
   "outputs": [
    {
     "name": "stdout",
     "output_type": "stream",
     "text": [
      "[lr: 1.00e-05, wd: 1.00e+04]\n",
      "Early stopping at epoch 2510\n",
      "[epoch: 2500] Train KL loss: 0.122 Train R2 score: 0.552 0.658 0.017 0.533 \n",
      "[epoch: 2500] Test KL loss: 0.126 Test R2 score: 0.537 0.658 0.004 0.562 \n",
      "\n",
      "[lr: 1.00e-05, wd: 1.00e+04]\n",
      "Early stopping at epoch 2380\n",
      "[epoch: 2370] Train KL loss: 0.118 Train R2 score: 0.579 0.673 0.042 0.545 \n",
      "[epoch: 2370] Test KL loss: 0.142 Test R2 score: 0.457 0.606 -0.030 0.471 \n",
      "\n",
      "[lr: 1.00e-05, wd: 1.00e+04]\n",
      "Early stopping at epoch 1860\n",
      "[epoch: 1850] Train KL loss: 0.120 Train R2 score: 0.574 0.683 0.031 0.551 \n",
      "[epoch: 1850] Test KL loss: 0.124 Test R2 score: 0.459 0.619 -0.024 0.476 \n",
      "\n",
      "[lr: 1.00e-05, wd: 1.00e+04]\n",
      "Early stopping at epoch 1950\n",
      "[epoch: 1940] Train KL loss: 0.123 Train R2 score: 0.553 0.661 0.023 0.542 \n",
      "[epoch: 1940] Test KL loss: 0.116 Test R2 score: 0.629 0.681 0.001 0.501 \n",
      "\n",
      "[lr: 1.00e-05, wd: 1.00e+04]\n",
      "Early stopping at epoch 2160\n",
      "[epoch: 2150] Train KL loss: 0.118 Train R2 score: 0.572 0.673 0.039 0.545 \n",
      "[epoch: 2150] Test KL loss: 0.139 Test R2 score: 0.492 0.623 -0.039 0.469 \n",
      "\n"
     ]
    }
   ],
   "source": [
    "from util_aggregate_models import mnl_torch\n",
    "\n",
    "# dataloader and model definition\n",
    "\n",
    "lr_list = [1e-5]\n",
    "wd_list = [10000]\n",
    "\n",
    "\n",
    "for i in range(5):\n",
    "    \n",
    "    train_filter = groups != i\n",
    "    test_filter = groups == i\n",
    "    x_train = x[train_filter]\n",
    "    y_train = y[train_filter]\n",
    "    x_test = x[test_filter]\n",
    "    y_test = y[test_filter]\n",
    "    sst_train = np.sum(np.power(y_train - np.mean(y_train, axis=0), 2), axis=0)\n",
    "    sst_test = np.sum(np.power(y_test - np.mean(y_test, axis=0), 2), axis=0)\n",
    "    \n",
    "    trainset = SurveyDataset(torch.tensor(x_train,  dtype=torch.float), torch.tensor(y_train, dtype=torch.float))\n",
    "    trainloader = DataLoader(trainset, batch_size=len(trainset), shuffle=False)\n",
    "\n",
    "    testset = SurveyDataset(torch.tensor(x_test, dtype=torch.float), torch.tensor(y_test, dtype=torch.float))\n",
    "    testloader = DataLoader(testset, batch_size=len(testset), shuffle=False)\n",
    "\n",
    "    ret_dict = mnl_torch(trainloader, testloader, x_train.shape[-1], \n",
    "                         sst_train, sst_test, lr_list=lr_list, wd_list=wd_list,\n",
    "                         save_models=True,\n",
    "                         save_name='SAE+(4096)_0.7_'+str(i))\n",
    "    \n",
    "    results[i].update(ret_dict)\n",
    "    "
   ]
  },
  {
   "cell_type": "code",
   "execution_count": 65,
   "metadata": {},
   "outputs": [
    {
     "data": {
      "text/html": [
       "<div>\n",
       "<style scoped>\n",
       "    .dataframe tbody tr th:only-of-type {\n",
       "        vertical-align: middle;\n",
       "    }\n",
       "\n",
       "    .dataframe tbody tr th {\n",
       "        vertical-align: top;\n",
       "    }\n",
       "\n",
       "    .dataframe thead th {\n",
       "        text-align: right;\n",
       "    }\n",
       "</style>\n",
       "<table border=\"1\" class=\"dataframe\">\n",
       "  <thead>\n",
       "    <tr style=\"text-align: right;\">\n",
       "      <th></th>\n",
       "      <th>learning_rate</th>\n",
       "      <th>weight_decay</th>\n",
       "      <th>train_kl_loss</th>\n",
       "      <th>test_kl_loss</th>\n",
       "      <th>train_r2_auto</th>\n",
       "      <th>train_r2_active</th>\n",
       "      <th>train_r2_pt</th>\n",
       "      <th>test_r2_auto</th>\n",
       "      <th>test_r2_active</th>\n",
       "      <th>test_r2_pt</th>\n",
       "    </tr>\n",
       "  </thead>\n",
       "  <tbody>\n",
       "    <tr>\n",
       "      <th>5</th>\n",
       "      <td>0.00001</td>\n",
       "      <td>10000.0</td>\n",
       "      <td>0.12025</td>\n",
       "      <td>0.12949</td>\n",
       "      <td>0.66946</td>\n",
       "      <td>0.56594</td>\n",
       "      <td>0.54332</td>\n",
       "      <td>0.63736</td>\n",
       "      <td>0.51487</td>\n",
       "      <td>0.49577</td>\n",
       "    </tr>\n",
       "    <tr>\n",
       "      <th>6</th>\n",
       "      <td>0.00001</td>\n",
       "      <td>100000.0</td>\n",
       "      <td>0.12852</td>\n",
       "      <td>0.13254</td>\n",
       "      <td>0.63900</td>\n",
       "      <td>0.53046</td>\n",
       "      <td>0.50175</td>\n",
       "      <td>0.62035</td>\n",
       "      <td>0.50527</td>\n",
       "      <td>0.48919</td>\n",
       "    </tr>\n",
       "    <tr>\n",
       "      <th>4</th>\n",
       "      <td>0.00001</td>\n",
       "      <td>1000.0</td>\n",
       "      <td>0.10807</td>\n",
       "      <td>0.13404</td>\n",
       "      <td>0.71348</td>\n",
       "      <td>0.63340</td>\n",
       "      <td>0.61852</td>\n",
       "      <td>0.62020</td>\n",
       "      <td>0.50103</td>\n",
       "      <td>0.45060</td>\n",
       "    </tr>\n",
       "    <tr>\n",
       "      <th>3</th>\n",
       "      <td>0.00001</td>\n",
       "      <td>100.0</td>\n",
       "      <td>0.10394</td>\n",
       "      <td>0.13959</td>\n",
       "      <td>0.72915</td>\n",
       "      <td>0.66056</td>\n",
       "      <td>0.63124</td>\n",
       "      <td>0.59719</td>\n",
       "      <td>0.47439</td>\n",
       "      <td>0.39353</td>\n",
       "    </tr>\n",
       "    <tr>\n",
       "      <th>2</th>\n",
       "      <td>0.00001</td>\n",
       "      <td>10.0</td>\n",
       "      <td>0.09859</td>\n",
       "      <td>0.14144</td>\n",
       "      <td>0.74849</td>\n",
       "      <td>0.66269</td>\n",
       "      <td>0.70472</td>\n",
       "      <td>0.59081</td>\n",
       "      <td>0.46317</td>\n",
       "      <td>0.41114</td>\n",
       "    </tr>\n",
       "    <tr>\n",
       "      <th>1</th>\n",
       "      <td>0.00001</td>\n",
       "      <td>1.0</td>\n",
       "      <td>0.09893</td>\n",
       "      <td>0.14259</td>\n",
       "      <td>0.74703</td>\n",
       "      <td>0.67182</td>\n",
       "      <td>0.65979</td>\n",
       "      <td>0.58532</td>\n",
       "      <td>0.44627</td>\n",
       "      <td>0.39614</td>\n",
       "    </tr>\n",
       "    <tr>\n",
       "      <th>0</th>\n",
       "      <td>0.00001</td>\n",
       "      <td>0.1</td>\n",
       "      <td>0.09384</td>\n",
       "      <td>0.14289</td>\n",
       "      <td>0.76230</td>\n",
       "      <td>0.68272</td>\n",
       "      <td>0.67982</td>\n",
       "      <td>0.58735</td>\n",
       "      <td>0.46277</td>\n",
       "      <td>0.40504</td>\n",
       "    </tr>\n",
       "  </tbody>\n",
       "</table>\n",
       "</div>"
      ],
      "text/plain": [
       "   learning_rate  weight_decay  train_kl_loss  test_kl_loss  train_r2_auto  \\\n",
       "5        0.00001       10000.0        0.12025       0.12949        0.66946   \n",
       "6        0.00001      100000.0        0.12852       0.13254        0.63900   \n",
       "4        0.00001        1000.0        0.10807       0.13404        0.71348   \n",
       "3        0.00001         100.0        0.10394       0.13959        0.72915   \n",
       "2        0.00001          10.0        0.09859       0.14144        0.74849   \n",
       "1        0.00001           1.0        0.09893       0.14259        0.74703   \n",
       "0        0.00001           0.1        0.09384       0.14289        0.76230   \n",
       "\n",
       "   train_r2_active  train_r2_pt  test_r2_auto  test_r2_active  test_r2_pt  \n",
       "5          0.56594      0.54332       0.63736         0.51487     0.49577  \n",
       "6          0.53046      0.50175       0.62035         0.50527     0.48919  \n",
       "4          0.63340      0.61852       0.62020         0.50103     0.45060  \n",
       "3          0.66056      0.63124       0.59719         0.47439     0.39353  \n",
       "2          0.66269      0.70472       0.59081         0.46317     0.41114  \n",
       "1          0.67182      0.65979       0.58532         0.44627     0.39614  \n",
       "0          0.68272      0.67982       0.58735         0.46277     0.40504  "
      ]
     },
     "execution_count": 65,
     "metadata": {},
     "output_type": "execute_result"
    }
   ],
   "source": [
    "df = []\n",
    "lr_list = [0.00001]\n",
    "wd_list = [0.1, 1, 10, 100, 1000, 10000, 100000]\n",
    "for (lr, wd) in itertools.product(lr_list, wd_list):\n",
    "\n",
    "    new = []\n",
    "    \n",
    "    for i in range(5):\n",
    "        new2 = []\n",
    "        for k,v in results[i][(lr,wd)].items():\n",
    "            if k != 'train_loss' and k != 'test_loss':\n",
    "                new2.append(results[i][(lr,wd)][k]) \n",
    "        new.append(new2)\n",
    "        \n",
    "    new = np.array(new) \n",
    "    \n",
    "    df.append([lr] + [wd] + list(np.mean(new, axis=0)))\n",
    "\n",
    "pd.DataFrame(np.array(df), columns = ['learning_rate','weight_decay','train_kl_loss','test_kl_loss','train_r2_auto','train_r2_active','train_r2_pt',\n",
    "                                     'test_r2_auto','test_r2_active','test_r2_pt']).sort_values(by='test_kl_loss').round(5)\n"
   ]
  },
  {
   "cell_type": "code",
   "execution_count": 66,
   "metadata": {},
   "outputs": [
    {
     "data": {
      "text/plain": [
       "(0.0, 0.2)"
      ]
     },
     "execution_count": 66,
     "metadata": {},
     "output_type": "execute_result"
    },
    {
     "data": {
      "image/png": "[encoded data removed]",
      "text/plain": [
       "<Figure size 432x288 with 1 Axes>"
      ]
     },
     "metadata": {
      "needs_background": "light"
     },
     "output_type": "display_data"
    }
   ],
   "source": [
    "lr = 0.00001\n",
    "wd = 10000\n",
    "for i in range(5):\n",
    "    plt.plot(results[i][(lr, wd)]['train_loss'], c='black')\n",
    "    plt.plot(results[i][(lr, wd)]['test_loss'], c='red')\n",
    "plt.ylim([0,0.2])"
   ]
  },
  {
   "cell_type": "markdown",
   "metadata": {},
   "source": [
    " "
   ]
  }
 ],
 "metadata": {
  "kernelspec": {
   "display_name": "qingyi",
   "language": "python",
   "name": "qingyi"
  },
  "language_info": {
   "codemirror_mode": {
    "name": "ipython",
    "version": 3
   },
   "file_extension": ".py",
   "mimetype": "text/x-python",
   "name": "python",
   "nbconvert_exporter": "python",
   "pygments_lexer": "ipython3",
   "version": "3.8.3"
  }
 },
 "nbformat": 4,
 "nbformat_minor": 4
}
