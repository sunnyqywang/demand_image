{
 "cells": [
  {
   "cell_type": "code",
   "execution_count": 32,
   "id": "3dc2bd25",
   "metadata": {},
   "outputs": [
    {
     "name": "stdout",
     "output_type": "stream",
     "text": [
      "The autoreload extension is already loaded. To reload it, use:\n",
      "  %reload_ext autoreload\n"
     ]
    }
   ],
   "source": [
    "import sys\n",
    "sys.path.append(\"models/\")\n",
    "\n",
    "import itertools\n",
    "import numpy as np\n",
    "import pandas as pd\n",
    "import pickle as pkl\n",
    "from sklearn.model_selection import train_test_split\n",
    "import torch\n",
    "import torch.nn as nn\n",
    "from torch.utils.data import DataLoader\n",
    "\n",
    "from setup import *\n",
    "from dataloader import SurveyDataset\n",
    "import mnl\n",
    "\n",
    "%load_ext autoreload\n",
    "%autoreload 2"
   ]
  },
  {
   "cell_type": "markdown",
   "id": "7a011f12",
   "metadata": {},
   "source": [
    "# Load Model Embeddings"
   ]
  },
  {
   "cell_type": "code",
   "execution_count": 52,
   "id": "35ab8e0e",
   "metadata": {},
   "outputs": [],
   "source": [
    "model_type = 'AE'\n",
    "load_model_name = 'Autoencoder_raw'\n",
    "load_model_file = 'ae'\n",
    "zoomlevel = 'zoom13'\n",
    "output_dim = 1\n",
    "model_run_date = '220211'\n",
    "model_code = 'BM1_D1'\n",
    "\n",
    "variable_names = ['active','auto','mas','pt', 'trpgen']\n",
    "\n",
    "demo_variables = ['tot_population','pct25_34yrs','pct35_50yrs','pctover65yrs',\n",
    "         'pctwhite_alone','pct_nonwhite','pctblack_alone',\n",
    "         'pct_col_grad','avg_tt_to_work','inc_per_capita']"
   ]
  },
  {
   "cell_type": "code",
   "execution_count": 53,
   "id": "3eec4bb0",
   "metadata": {},
   "outputs": [],
   "source": [
    "with open(proj_dir+\"latent_space/\"+model_type+\"_\"+zoomlevel+\"_\"+str(output_dim**2*2048)+\"_\"+\n",
    "                       model_run_date+\".pkl\", \"rb\") as f:\n",
    "    encoder_output = pkl.load(f)\n",
    "    im = pkl.load(f)\n",
    "    ct = pkl.load(f)"
   ]
  },
  {
   "cell_type": "code",
   "execution_count": 54,
   "id": "af7a682b",
   "metadata": {},
   "outputs": [],
   "source": [
    "# Aggregate Embeddings\n",
    "unique_ct = list(set(ct))\n",
    "unique_ct.sort()\n",
    "ct = np.array(ct)\n",
    "aggregate_embeddings = []\n",
    "for i in unique_ct:\n",
    "    aggregate_embeddings.append(np.mean(encoder_output[ct == i], axis=0))\n",
    "aggregate_embeddings = np.array(aggregate_embeddings)"
   ]
  },
  {
   "cell_type": "markdown",
   "id": "a31691fe",
   "metadata": {},
   "source": [
    "# Load Trip Data"
   ]
  },
  {
   "cell_type": "code",
   "execution_count": 5,
   "id": "8cedeaa9",
   "metadata": {},
   "outputs": [],
   "source": [
    "tp = pd.read_csv(data_dir+\"trips.csv\")\n",
    "n_alts = 4"
   ]
  },
  {
   "cell_type": "code",
   "execution_count": 6,
   "id": "9133c15f",
   "metadata": {
    "scrolled": true
   },
   "outputs": [
    {
     "name": "stdout",
     "output_type": "stream",
     "text": [
      "2    0.713060\n",
      "1    0.132001\n",
      "4    0.111893\n",
      "3    0.043046\n",
      "Name: mode, dtype: float64\n"
     ]
    }
   ],
   "source": [
    "print(tp['mode'].value_counts()/len(tp))"
   ]
  },
  {
   "cell_type": "code",
   "execution_count": 7,
   "id": "ed76f7bb",
   "metadata": {},
   "outputs": [],
   "source": [
    "tp['tract_1'] = tp['state_fips_1'].astype(str) + '_' + tp['county_fips_1'].astype(str)+ '_' + tp['tract_fips_1'].astype(str)\n",
    "tp['tract_2'] = tp['state_fips_2'].astype(str) + '_' + tp['county_fips_2'].astype(str)+ '_' + tp['tract_fips_2'].astype(str)\n",
    "\n",
    "tp['morning'] = (tp['dep_hour'] > 6) & (tp['dep_hour'] < 10)\n",
    "tp['afternoon'] = (tp['dep_hour'] > 15) & (tp['dep_hour'] < 19)\n",
    "tp['morning'] = tp['morning'].astype(int)\n",
    "tp['afternoon'] = tp['afternoon'].astype(int)\n",
    "\n",
    "tp['const'] = 1\n",
    "\n",
    "def normalize_features(df, cols):\n",
    "    for c in cols:\n",
    "        df[c] = df[c]/df[c].max()\n",
    "    return df"
   ]
  },
  {
   "cell_type": "code",
   "execution_count": 55,
   "id": "a0165e1b",
   "metadata": {},
   "outputs": [],
   "source": [
    "unique_ct = np.array(unique_ct)\n",
    "\n",
    "x_embed = []\n",
    "trip_filter = []\n",
    "for t1, t2 in zip(tp['tract_1'], tp['tract_2']):\n",
    "    if sum(unique_ct == t1) == 1 and sum(unique_ct == t2) == 1:\n",
    "        x_embed.append(np.hstack((aggregate_embeddings[unique_ct == t1], aggregate_embeddings[unique_ct == t2])).flatten())\n",
    "        trip_filter.append(True)\n",
    "    else:\n",
    "        trip_filter.append(False)\n",
    "        "
   ]
  },
  {
   "cell_type": "code",
   "execution_count": 9,
   "id": "e9657533",
   "metadata": {},
   "outputs": [
    {
     "data": {
      "text/plain": [
       "1571"
      ]
     },
     "execution_count": 9,
     "metadata": {},
     "output_type": "execute_result"
    }
   ],
   "source": [
    "len(unique_ct)"
   ]
  },
  {
   "cell_type": "code",
   "execution_count": 56,
   "id": "57141937",
   "metadata": {},
   "outputs": [],
   "source": [
    "trip_filter = np.array(trip_filter)\n",
    "x_embed = np.array(x_embed)\n",
    "x_trip = tp[['morning','afternoon','companion', 'distance', \n",
    "         'from_home', 'to_home', 'purp_work', 'purp_school', 'purp_errand', 'purp_recreation', \n",
    "         'ontime_important', '12_18yrs', '18_25yrs', '25_55yrs', '55+yrs', \n",
    "         'disability', 'educ_col', 'educ_grad', \n",
    "         'race_white', 'race_black', 'race_asian', \n",
    "         'male', 'female', \n",
    "         'emply_park', 'emply_transit', 'emply_veh', 'emply_wfh', 'emply_flex', 'emply_hours', \n",
    "         'license', 'person_trips', 'person_transit', 'person_freq_transit', \n",
    "         'hh_inc_0_30', 'hh_inc_30_60', 'hh_inc_60_100', 'hh_inc_100_150', 'hh_inc_150', \n",
    "         'avg_pr_veh', 'home_own', 'home_house', 'home_condo']].to_numpy()[trip_filter]\n",
    "\n",
    "x = np.concatenate([x_trip, x_embed], axis=1)\n",
    "\n",
    "y = tp['mode'].astype(int).to_numpy() - 1\n",
    "y = y[trip_filter]"
   ]
  },
  {
   "cell_type": "code",
   "execution_count": 57,
   "id": "9301b32f",
   "metadata": {},
   "outputs": [],
   "source": [
    "x_train, x_test, y_train, y_test = train_test_split(x,y,test_size=0.2,random_state=42)"
   ]
  },
  {
   "cell_type": "code",
   "execution_count": 58,
   "id": "267ed279",
   "metadata": {},
   "outputs": [],
   "source": [
    "trainset = SurveyDataset(torch.tensor(x_train, dtype=torch.float32), torch.tensor(y_train, dtype=torch.long))\n",
    "trainloader = DataLoader(trainset, batch_size=256, shuffle=True)\n",
    "\n",
    "testset = SurveyDataset(torch.tensor(x_test, dtype=torch.float32), torch.tensor(y_test, dtype=torch.long))\n",
    "testloader = DataLoader(testset, batch_size=len(testset), shuffle=False)"
   ]
  },
  {
   "cell_type": "code",
   "execution_count": 48,
   "id": "b0132c33",
   "metadata": {},
   "outputs": [
    {
     "data": {
      "text/plain": [
       "(79929, 4138)"
      ]
     },
     "execution_count": 48,
     "metadata": {},
     "output_type": "execute_result"
    }
   ],
   "source": [
    "x.shape"
   ]
  },
  {
   "cell_type": "code",
   "execution_count": 59,
   "id": "9b4c4444",
   "metadata": {
    "scrolled": false
   },
   "outputs": [
    {
     "name": "stdout",
     "output_type": "stream",
     "text": [
      "[epoch:   0] Train loss: 0.4873 accuracy: 0.830\n",
      "[epoch:   0] Test loss: 0.3854 accuracy: 0.866\n",
      "[epoch:   3] Train loss: 0.3485 accuracy: 0.879\n",
      "[epoch:   3] Test loss: 0.3552 accuracy: 0.878\n",
      "[epoch:   6] Train loss: 0.3414 accuracy: 0.881\n",
      "[epoch:   6] Test loss: 0.3369 accuracy: 0.886\n",
      "[epoch:   9] Train loss: 0.3271 accuracy: 0.886\n",
      "[epoch:   9] Test loss: 0.3310 accuracy: 0.887\n",
      "[epoch:  12] Train loss: 0.3219 accuracy: 0.887\n",
      "[epoch:  12] Test loss: 0.3251 accuracy: 0.888\n",
      "[epoch:  15] Train loss: 0.3182 accuracy: 0.888\n",
      "[epoch:  15] Test loss: 0.3206 accuracy: 0.889\n",
      "[epoch:  18] Train loss: 0.3187 accuracy: 0.889\n",
      "[epoch:  18] Test loss: 0.3427 accuracy: 0.882\n",
      "Diverging. stop.\n",
      "[epoch:   0] Train loss: 0.5076 accuracy: 0.823\n",
      "[epoch:   0] Test loss: 0.4155 accuracy: 0.856\n",
      "[epoch:   3] Train loss: 0.3604 accuracy: 0.873\n",
      "[epoch:   3] Test loss: 0.3467 accuracy: 0.881\n",
      "[epoch:   6] Train loss: 0.3583 accuracy: 0.874\n",
      "[epoch:   6] Test loss: 0.3541 accuracy: 0.874\n",
      "[epoch:   9] Train loss: 0.3406 accuracy: 0.880\n",
      "[epoch:   9] Test loss: 0.3370 accuracy: 0.882\n",
      "[epoch:  12] Train loss: 0.3434 accuracy: 0.880\n",
      "[epoch:  12] Test loss: 0.3494 accuracy: 0.879\n",
      "[epoch:  15] Train loss: 0.3400 accuracy: 0.880\n",
      "[epoch:  15] Test loss: 0.3507 accuracy: 0.879\n",
      "[epoch:  18] Train loss: 0.3347 accuracy: 0.883\n",
      "[epoch:  18] Test loss: 0.3358 accuracy: 0.884\n",
      "[epoch:  21] Train loss: 0.3307 accuracy: 0.884\n",
      "[epoch:  21] Test loss: 0.3414 accuracy: 0.881\n",
      "[epoch:  24] Train loss: 0.3336 accuracy: 0.883\n",
      "[epoch:  24] Test loss: 0.3353 accuracy: 0.884\n",
      "Diverging. stop.\n",
      "[epoch:   0] Train loss: 0.5011 accuracy: 0.826\n",
      "[epoch:   0] Test loss: 0.4205 accuracy: 0.854\n",
      "[epoch:   3] Train loss: 0.3834 accuracy: 0.867\n",
      "[epoch:   3] Test loss: 0.3835 accuracy: 0.871\n",
      "[epoch:   6] Train loss: 0.3783 accuracy: 0.869\n",
      "[epoch:   6] Test loss: 0.3819 accuracy: 0.868\n",
      "[epoch:   9] Train loss: 0.3746 accuracy: 0.870\n",
      "[epoch:   9] Test loss: 0.3629 accuracy: 0.876\n",
      "[epoch:  12] Train loss: 0.3688 accuracy: 0.871\n",
      "[epoch:  12] Test loss: 0.3647 accuracy: 0.876\n",
      "[epoch:  15] Train loss: 0.3711 accuracy: 0.871\n",
      "[epoch:  15] Test loss: 0.3621 accuracy: 0.876\n",
      "[epoch:  18] Train loss: 0.3668 accuracy: 0.872\n",
      "[epoch:  18] Test loss: 0.3651 accuracy: 0.873\n",
      "[epoch:  21] Train loss: 0.3678 accuracy: 0.871\n",
      "[epoch:  21] Test loss: 0.3563 accuracy: 0.878\n",
      "Diverging. stop.\n",
      "[epoch:   0] Train loss: 0.5022 accuracy: 0.825\n",
      "[epoch:   0] Test loss: 0.4222 accuracy: 0.856\n",
      "[epoch:   3] Train loss: 0.3884 accuracy: 0.865\n",
      "[epoch:   3] Test loss: 0.3768 accuracy: 0.872\n",
      "[epoch:   6] Train loss: 0.3756 accuracy: 0.869\n",
      "[epoch:   6] Test loss: 0.3824 accuracy: 0.869\n",
      "[epoch:   9] Train loss: 0.3777 accuracy: 0.868\n",
      "[epoch:   9] Test loss: 0.3654 accuracy: 0.873\n",
      "[epoch:  12] Train loss: 0.3730 accuracy: 0.869\n",
      "[epoch:  12] Test loss: 0.4063 accuracy: 0.859\n",
      "[epoch:  15] Train loss: 0.3751 accuracy: 0.869\n",
      "[epoch:  15] Test loss: 0.3677 accuracy: 0.876\n",
      "[epoch:  18] Train loss: 0.3681 accuracy: 0.872\n",
      "[epoch:  18] Test loss: 0.3584 accuracy: 0.878\n",
      "[epoch:  21] Train loss: 0.3665 accuracy: 0.872\n",
      "[epoch:  21] Test loss: 0.3612 accuracy: 0.875\n",
      "[epoch:  24] Train loss: 0.3688 accuracy: 0.870\n",
      "[epoch:  24] Test loss: 0.3595 accuracy: 0.878\n",
      "Diverging. stop.\n"
     ]
    }
   ],
   "source": [
    "loss_fn = nn.CrossEntropyLoss(reduction='mean')\n",
    "\n",
    "wd_list = [0,0.0005]\n",
    "lr_list = [0.005]\n",
    "do_list = [0,0.5]\n",
    "\n",
    "for (lr, wd, do) in itertools.product(lr_list, wd_list, do_list):\n",
    "\n",
    "    model = mnl.MNL2(n_alts=n_alts, dim_embed=x_embed.shape[-1], dim_demo=x_trip.shape[-1], dropout=do)\n",
    "    optimizer = torch.optim.Adam(model.parameters(), lr=lr, weight_decay=wd)\n",
    "\n",
    "    ref1 = 0\n",
    "    ref2 = 0\n",
    "\n",
    "    for epoch in range(100):\n",
    "        loss_ = 0\n",
    "        correct = 0\n",
    "        for batch, (x_batch, y_batch) in enumerate(trainloader):\n",
    "            # Compute prediction and loss\n",
    "            util = model(x_batch)\n",
    "            loss = loss_fn(util, y_batch)\n",
    "            loss_ += loss.item() * len(x_batch)\n",
    "\n",
    "            pred = torch.argmax(util, dim=1)\n",
    "            correct += torch.sum(pred == y_batch)\n",
    "\n",
    "            # Backpropagation\n",
    "            optimizer.zero_grad()\n",
    "            loss.backward()\n",
    "            optimizer.step()\n",
    "\n",
    "\n",
    "        if epoch % 3 == 0:\n",
    "            loss_ /= len(trainset)\n",
    "            train_acc = correct/len(trainset)\n",
    "            print(f\"[epoch: {epoch:>3d}] Train loss: {loss_:.4f} accuracy: {train_acc:.3f}\")\n",
    "            \n",
    "            correct = 0\n",
    "            test_loss_ = 0\n",
    "            for batch, (x_batch, y_batch) in enumerate(testloader):\n",
    "                util = model(x_batch)\n",
    "                loss = loss_fn(util, y_batch)\n",
    "                test_loss_ += loss.item()\n",
    "                pred = torch.argmax(util, dim=1)\n",
    "                correct += torch.sum(pred == y_batch)\n",
    "            assert batch == 0 # there is only one batch in test\n",
    "            test_acc = correct/len(testset)            \n",
    "            print(f\"[epoch: {epoch:>3d}] Test loss: {test_loss_:.4f} accuracy: {test_acc:.3f}\")\n",
    "\n",
    "            if epoch > 15:\n",
    "                if (np.abs(loss_ - ref1)/ref1<ref1*0.01) & (np.abs(loss_ - ref2)/ref2<ref2*0.01):\n",
    "                    print(\"Early stopping at epoch\", epoch)\n",
    "                    break\n",
    "                if (ref1 < loss_) & (ref1 < ref2):\n",
    "                    print(\"Diverging. stop.\")\n",
    "                    break\n",
    "                if loss_ < best:\n",
    "                    best = loss_\n",
    "                    best_test = test_loss_\n",
    "                    best_epoch = epoch\n",
    "                    best_train_acc = train_acc\n",
    "                    best_test_acc = test_acc\n",
    "            else:\n",
    "                best = loss_\n",
    "                best_test = test_loss_\n",
    "                best_epoch = epoch\n",
    "                best_train_acc = train_acc\n",
    "                best_test_acc = test_acc\n",
    "                \n",
    "            ref2 = ref1\n",
    "            ref1 = loss_\n",
    "\n",
    "    with open(out_dir+model_code+\".csv\", \"a\") as f:\n",
    "        f.write(\"%s,%s,%s,%s,%.4f,%.5f,%.1f,%d,%.4f,%.4f,%.4f,%.4f\\n\" % \\\n",
    "            (model_run_date, model_type, zoomlevel, \"MNL2\", lr, wd, do, \n",
    "             best_epoch, best, best_test, best_train_acc, best_test_acc))\n",
    "        "
   ]
  },
  {
   "cell_type": "code",
   "execution_count": null,
   "id": "7701ed07",
   "metadata": {},
   "outputs": [],
   "source": []
  }
 ],
 "metadata": {
  "kernelspec": {
   "display_name": "Python 3",
   "language": "python",
   "name": "python3"
  },
  "language_info": {
   "codemirror_mode": {
    "name": "ipython",
    "version": 3
   },
   "file_extension": ".py",
   "mimetype": "text/x-python",
   "name": "python",
   "nbconvert_exporter": "python",
   "pygments_lexer": "ipython3",
   "version": "3.7.11"
  }
 },
 "nbformat": 4,
 "nbformat_minor": 5
}
