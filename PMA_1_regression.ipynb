{
 "cells": [
  {
   "cell_type": "code",
   "execution_count": 1,
   "metadata": {},
   "outputs": [],
   "source": [
    "import sys\n",
    "sys.path.append(\"models/\")\n",
    "\n",
    "from setup import out_dir, data_dir, image_dir, model_dir, proj_dir\n",
    "%load_ext autoreload\n",
    "%autoreload 2\n",
    "from collections import OrderedDict\n",
    "import os\n",
    "import matplotlib.pyplot as plt\n",
    "%matplotlib inline\n",
    "\n",
    "import pandas as pd\n",
    "import pickle as pkl\n",
    "import numpy as np\n",
    "from time import time\n",
    "\n",
    "import glob\n",
    "\n",
    "import torch\n",
    "import torch.nn as nn\n",
    "from torch.utils.data import DataLoader\n",
    "\n",
    "from M1_util_train_test import load_model, test\n",
    "import mnl\n",
    "\n",
    "from dataloader import SurveyDataset, load_aggregate_travel_behavior, load_demo\n",
    "from sklearn import linear_model\n",
    "from sklearn.metrics import r2_score, mean_squared_error\n",
    "import statsmodels.api as sm\n"
   ]
  },
  {
   "cell_type": "code",
   "execution_count": 28,
   "metadata": {},
   "outputs": [],
   "source": [
    "model_type = 'AE'\n",
    "load_model_name = 'Autoencoder_raw'\n",
    "load_model_file = 'ae'\n",
    "model_code = 'BM1'\n",
    "zoomlevel = 'zoom13_bilateral'\n",
    "output_dim = 1\n",
    "model_run_date = '220118'\n",
    "\n",
    "variable_names = ['active','auto','mas','pt', 'trpgen']\n",
    "\n",
    "demo_variables = ['tot_population','pct25_34yrs','pct35_50yrs','pctover65yrs',\n",
    "         'pctwhite_alone','pct_nonwhite','pctblack_alone',\n",
    "         'pct_col_grad','avg_tt_to_work','inc_per_capita']"
   ]
  },
  {
   "cell_type": "markdown",
   "metadata": {},
   "source": [
    "# Load Model Embeddings"
   ]
  },
  {
   "cell_type": "code",
   "execution_count": 29,
   "metadata": {},
   "outputs": [],
   "source": [
    "with open(proj_dir+\"latent_space/\"+model_type+\"_\"+zoomlevel+\"_\"+str(output_dim**2*2048)+\"_\"+\n",
    "                       model_run_date+\".pkl\", \"rb\") as f: \n",
    "    encoder_output = pkl.load(f)\n",
    "    im = pkl.load(f)\n",
    "    ct = pkl.load(f)"
   ]
  },
  {
   "cell_type": "code",
   "execution_count": 30,
   "metadata": {},
   "outputs": [],
   "source": [
    "# Aggregate Embeddings\n",
    "unique_ct = list(set(ct))\n",
    "unique_ct.sort()\n",
    "ct = np.array(ct)\n",
    "aggregate_embeddings = []\n",
    "for i in unique_ct:\n",
    "    aggregate_embeddings.append(np.mean(encoder_output[ct == i], axis=0))\n",
    "aggregate_embeddings = np.array(aggregate_embeddings)"
   ]
  },
  {
   "cell_type": "markdown",
   "metadata": {},
   "source": [
    "# Load Trip Behavior"
   ]
  },
  {
   "cell_type": "code",
   "execution_count": 6,
   "metadata": {},
   "outputs": [],
   "source": [
    "file = \"origin_trip_behavior.csv\"\n",
    "df_pivot = load_aggregate_travel_behavior(file, unique_ct)\n",
    "\n",
    "train_test_index = df_pivot['train_test'].astype(bool).to_numpy()\n",
    "# train_test_index = np.random.rand(len(df_pivot)) < 0.2\n",
    "\n",
    "y = df_pivot[variable_names].to_numpy()\n",
    "y_train = y[~train_test_index,:4]\n",
    "y_test = y[train_test_index,:4]"
   ]
  },
  {
   "cell_type": "code",
   "execution_count": 31,
   "metadata": {},
   "outputs": [],
   "source": [
    "x_train = aggregate_embeddings[~train_test_index, :]\n",
    "x_test = aggregate_embeddings[train_test_index, :]"
   ]
  },
  {
   "cell_type": "markdown",
   "metadata": {},
   "source": [
    "# MNL for Mode Share"
   ]
  },
  {
   "cell_type": "code",
   "execution_count": 32,
   "metadata": {},
   "outputs": [],
   "source": [
    "# dataloader and model definition\n",
    "\n",
    "trainset = SurveyDataset(torch.tensor(x_train,  dtype=torch.float), torch.tensor(y_train, dtype=torch.float))\n",
    "trainloader = DataLoader(trainset, batch_size=256, shuffle=True)\n",
    "\n",
    "testset = SurveyDataset(torch.tensor(x_test, dtype=torch.float), torch.tensor(y_test, dtype=torch.float))\n",
    "testloader = DataLoader(testset, batch_size=len(testset), shuffle=True)\n",
    "\n",
    "kldivloss = nn.KLDivLoss(reduction='sum')\n",
    "mseloss = nn.MSELoss(reduction='none')\n",
    "\n",
    "model = mnl.MNL(n_alts=4, n_features=x_train.shape[-1])\n",
    "wd = 5\n",
    "optimizer = torch.optim.Adam(model.parameters(), lr=0.02, weight_decay=wd)"
   ]
  },
  {
   "cell_type": "code",
   "execution_count": 33,
   "metadata": {},
   "outputs": [
    {
     "name": "stdout",
     "output_type": "stream",
     "text": [
      "[epoch:  0] Train KL loss: 0.752             RMSE 0.641             0.201 0.537 0.202 0.202\n",
      "[epoch:  0] Test KL loss: 0.490              RMSE 0.504             0.183 0.411 0.162 0.160\n",
      "\t\t\t\t\t\t\tR2 score: -0.064 -1.729 -18.046 -1.531 \n",
      "[epoch:  1] Train KL loss: 0.477             RMSE 0.498             0.184 0.409 0.150 0.154\n",
      "[epoch:  1] Test KL loss: 0.365              RMSE 0.418             0.178 0.333 0.122 0.131\n",
      "\t\t\t\t\t\t\tR2 score: -0.007 -0.789 -9.932 -0.693 \n",
      "[epoch:  2] Train KL loss: 0.369             RMSE 0.422             0.177 0.341 0.119 0.127\n",
      "[epoch:  2] Test KL loss: 0.329              RMSE 0.390             0.177 0.307 0.107 0.121\n",
      "\t\t\t\t\t\t\tR2 score: 0.002 -0.525 -7.323 -0.450 \n",
      "[epoch:  3] Train KL loss: 0.338             RMSE 0.398             0.176 0.319 0.108 0.118\n",
      "[epoch:  3] Test KL loss: 0.323              RMSE 0.385             0.177 0.302 0.104 0.120\n",
      "\t\t\t\t\t\t\tR2 score: 0.005 -0.475 -6.964 -0.420 \n",
      "[epoch:  4] Train KL loss: 0.334             RMSE 0.394             0.175 0.316 0.107 0.117\n",
      "[epoch:  4] Test KL loss: 0.324              RMSE 0.385             0.177 0.302 0.106 0.121\n",
      "\t\t\t\t\t\t\tR2 score: 0.007 -0.471 -7.257 -0.443 \n",
      "[epoch:  5] Train KL loss: 0.336             RMSE 0.395             0.175 0.315 0.109 0.118\n",
      "[epoch:  5] Test KL loss: 0.325              RMSE 0.384             0.176 0.301 0.107 0.121\n",
      "\t\t\t\t\t\t\tR2 score: 0.008 -0.460 -7.364 -0.452 \n",
      "[epoch:  6] Train KL loss: 0.334             RMSE 0.393             0.174 0.313 0.109 0.118\n",
      "[epoch:  6] Test KL loss: 0.320              RMSE 0.381             0.176 0.297 0.105 0.120\n",
      "\t\t\t\t\t\t\tR2 score: 0.008 -0.425 -7.098 -0.425 \n",
      "[epoch:  7] Train KL loss: 0.328             RMSE 0.388             0.174 0.308 0.107 0.117\n",
      "[epoch:  7] Test KL loss: 0.313              RMSE 0.374             0.177 0.291 0.102 0.118\n",
      "\t\t\t\t\t\t\tR2 score: 0.007 -0.367 -6.531 -0.372 \n",
      "[epoch:  8] Train KL loss: 0.318             RMSE 0.380             0.174 0.301 0.103 0.114\n",
      "[epoch:  8] Test KL loss: 0.304              RMSE 0.368             0.177 0.285 0.097 0.115\n",
      "\t\t\t\t\t\t\tR2 score: 0.007 -0.313 -5.858 -0.315 \n",
      "[epoch:  9] Train KL loss: 0.309             RMSE 0.373             0.174 0.295 0.099 0.110\n",
      "[epoch:  9] Test KL loss: 0.296              RMSE 0.362             0.177 0.280 0.093 0.113\n",
      "\t\t\t\t\t\t\tR2 score: 0.006 -0.266 -5.242 -0.265 \n",
      "[epoch: 10] Train KL loss: 0.300             RMSE 0.366             0.174 0.289 0.095 0.107\n",
      "[epoch: 10] Test KL loss: 0.290              RMSE 0.358             0.177 0.277 0.089 0.111\n",
      "\t\t\t\t\t\t\tR2 score: 0.006 -0.234 -4.746 -0.230 \n",
      "[epoch: 11] Train KL loss: 0.294             RMSE 0.362             0.174 0.285 0.092 0.105\n",
      "[epoch: 11] Test KL loss: 0.286              RMSE 0.354             0.177 0.273 0.086 0.110\n",
      "\t\t\t\t\t\t\tR2 score: 0.005 -0.204 -4.370 -0.203 \n",
      "[epoch: 12] Train KL loss: 0.288             RMSE 0.357             0.174 0.280 0.089 0.104\n",
      "[epoch: 12] Test KL loss: 0.280              RMSE 0.350             0.177 0.269 0.083 0.109\n",
      "\t\t\t\t\t\t\tR2 score: 0.003 -0.169 -3.987 -0.171 \n",
      "[epoch: 13] Train KL loss: 0.282             RMSE 0.352             0.173 0.275 0.086 0.101\n",
      "[epoch: 13] Test KL loss: 0.275              RMSE 0.346             0.177 0.266 0.079 0.107\n",
      "\t\t\t\t\t\t\tR2 score: 0.001 -0.138 -3.594 -0.141 \n",
      "[epoch: 14] Train KL loss: 0.275             RMSE 0.347             0.173 0.271 0.083 0.099\n",
      "[epoch: 14] Test KL loss: 0.271              RMSE 0.343             0.177 0.263 0.076 0.106\n",
      "\t\t\t\t\t\t\tR2 score: -0.001 -0.112 -3.236 -0.115 \n",
      "[epoch: 15] Train KL loss: 0.270             RMSE 0.342             0.173 0.267 0.080 0.097\n",
      "[epoch: 15] Test KL loss: 0.266              RMSE 0.340             0.177 0.260 0.073 0.105\n",
      "\t\t\t\t\t\t\tR2 score: -0.001 -0.092 -2.893 -0.092 \n",
      "[epoch: 16] Train KL loss: 0.265             RMSE 0.339             0.173 0.264 0.078 0.095\n",
      "[epoch: 16] Test KL loss: 0.263              RMSE 0.338             0.177 0.258 0.070 0.104\n",
      "\t\t\t\t\t\t\tR2 score: -0.002 -0.076 -2.617 -0.074 \n",
      "[epoch: 17] Train KL loss: 0.260             RMSE 0.336             0.173 0.261 0.076 0.094\n",
      "[epoch: 17] Test KL loss: 0.260              RMSE 0.335             0.177 0.256 0.068 0.103\n",
      "\t\t\t\t\t\t\tR2 score: -0.004 -0.059 -2.353 -0.059 \n",
      "[epoch: 18] Train KL loss: 0.256             RMSE 0.333             0.173 0.258 0.073 0.093\n",
      "[epoch: 18] Test KL loss: 0.257              RMSE 0.334             0.178 0.255 0.066 0.103\n",
      "\t\t\t\t\t\t\tR2 score: -0.004 -0.049 -2.129 -0.047 \n",
      "[epoch: 19] Train KL loss: 0.253             RMSE 0.331             0.173 0.257 0.071 0.092\n",
      "[epoch: 19] Test KL loss: 0.254              RMSE 0.332             0.178 0.254 0.063 0.102\n",
      "\t\t\t\t\t\t\tR2 score: -0.004 -0.040 -1.930 -0.036 \n"
     ]
    }
   ],
   "source": [
    "# model training\n",
    "\n",
    "for epoch in range(20):\n",
    "    \n",
    "    kl_ = 0\n",
    "    mse_ = 0\n",
    "    mse1_ = 0\n",
    "    mse2_ = 0\n",
    "    mse3_ = 0\n",
    "    mse4_ = 0\n",
    "    \n",
    "    for batch, (x_batch, y_batch) in enumerate(trainloader):\n",
    "        # Compute prediction and loss\n",
    "        util = model(x_batch)\n",
    "        probs = torch.log(nn.functional.softmax(util, dim=1))\n",
    "        kl = kldivloss(probs, y_batch)\n",
    "#         kl = kldivloss(torch.log(util), y_batch)\n",
    "        kl_ += kl.item()\n",
    "        \n",
    "        mse = mseloss(torch.exp(probs), y_batch)\n",
    "#         mse = mseloss(util, y_batch)\n",
    "        mse_ += mse.sum().item()\n",
    "        mse1_ += mse[:,0].sum().item()\n",
    "        mse2_ += mse[:,1].sum().item()\n",
    "        mse3_ += mse[:,2].sum().item()\n",
    "        mse4_ += mse[:,3].sum().item()\n",
    "        mse = mse.sum()\n",
    "        \n",
    "        # Backpropagation\n",
    "        optimizer.zero_grad()\n",
    "        kl.backward()\n",
    "        optimizer.step()\n",
    "\n",
    "    train_kl = kl_/len(trainset)\n",
    "    train_mse = np.sqrt(mse_/len(trainset))\n",
    "    train_mse1 = np.sqrt(mse1_/len(trainset))\n",
    "    train_mse2 = np.sqrt(mse2_/len(trainset))\n",
    "    train_mse3 = np.sqrt(mse3_/len(trainset))\n",
    "    train_mse4 = np.sqrt(mse4_/len(trainset))\n",
    "    \n",
    "    if batch % 1 == 0:\n",
    "        print(f\"[epoch: {epoch:>2d}] Train KL loss: {train_kl:.3f} \\\n",
    "            RMSE {train_mse:.3f} \\\n",
    "            {train_mse1:.3f} {train_mse2:.3f} {train_mse3:.3f} {train_mse4:.3f}\")\n",
    "    \n",
    "    kl_ = 0\n",
    "    mse_ = 0 \n",
    "    mse1_ = 0\n",
    "    mse2_ = 0\n",
    "    mse3_ = 0\n",
    "    mse4_ = 0\n",
    "    for batch, (x_batch, y_batch) in enumerate(testloader):\n",
    "        util = model(x_batch)\n",
    "        probs = torch.log(nn.functional.softmax(util,dim=1))\n",
    "        kl = kldivloss(probs, y_batch)\n",
    "#         kl = kldivloss(torch.log(util), y_batch)\n",
    "        kl_ += kl.item()\n",
    "        \n",
    "        mse = mseloss(torch.exp(probs), y_batch)\n",
    "#         mse = mseloss(util, y_batch)\n",
    "        mse_ += mse.sum().item()\n",
    "        mse1_ += mse[:,0].sum().item()\n",
    "        mse2_ += mse[:,1].sum().item()\n",
    "        mse3_ += mse[:,2].sum().item()\n",
    "        mse4_ += mse[:,3].sum().item()\n",
    "\n",
    "    test_kl = kl_/len(testset)\n",
    "    test_mse = np.sqrt(mse_/len(testset))\n",
    "    test_mse1 = np.sqrt(mse1_/len(testset))\n",
    "    test_mse2 = np.sqrt(mse2_/len(testset))\n",
    "    test_mse3 = np.sqrt(mse3_/len(testset))\n",
    "    test_mse4 = np.sqrt(mse4_/len(testset))\n",
    "    \n",
    "    r1 = r2_score(y_batch.numpy()[:,0],torch.exp(probs).detach().numpy()[:,0])\n",
    "    r2 = r2_score(y_batch.numpy()[:,1],torch.exp(probs).detach().numpy()[:,1])\n",
    "    r3 = r2_score(y_batch.numpy()[:,2],torch.exp(probs).detach().numpy()[:,2])\n",
    "    r4 = r2_score(y_batch.numpy()[:,3],torch.exp(probs).detach().numpy()[:,3])\n",
    "    \n",
    "    print(f\"[epoch: {epoch:>2d}] Test KL loss: {kl_/len(testset):.3f}  \\\n",
    "            RMSE {np.sqrt(mse_/len(testset)):.3f} \\\n",
    "            {np.sqrt(mse1_/len(testset)):.3f} {np.sqrt(mse2_/len(testset)):.3f} {np.sqrt(mse3_/len(testset)):.3f} {np.sqrt(mse4_/len(testset)):.3f}\")\n",
    "    print(f\"\\t\\t\\t\\t\\t\\t\\tR2 score: {r1:.3f} {r2:.3f} {r3:.3f} {r4:.3f} \")\n",
    "    "
   ]
  },
  {
   "cell_type": "code",
   "execution_count": 34,
   "metadata": {},
   "outputs": [],
   "source": [
    "with open(out_dir+model_code+\"_mode_choice.csv\", \"a\") as f:\n",
    "    f.write(\"%s,%s,%s,%s,%d,%.4f,%.4f,%.4f,%.4f,%.4f,%.4f,%.4f,%.4f,%.4f,%.4f,%.4f,%.4f,%.4f,%.4f,%.4f,%.4f,%.4f\\n\" % \\\n",
    "                                          (model_run_date, model_type, zoomlevel, \"MNL\", -1, wd, \n",
    "                                          train_kl, train_mse, train_mse1, train_mse2, train_mse3, train_mse4,\n",
    "                                          test_kl, test_mse, test_mse1, test_mse2, test_mse3, test_mse4,\n",
    "                                          r1, r2, r3, r4))"
   ]
  },
  {
   "cell_type": "code",
   "execution_count": 35,
   "metadata": {},
   "outputs": [
    {
     "data": {
      "image/png": "[encoded data removed]",
      "text/plain": [
       "<Figure size 500x500 with 1 Axes>"
      ]
     },
     "execution_count": 35,
     "metadata": {},
     "output_type": "execute_result"
    }
   ],
   "source": [
    "fig, ax = plt.subplots(1,1, figsize=(5,5))\n",
    "for i in range(4):\n",
    "    ax.scatter(y_batch.detach().numpy()[:,i], torch.exp(probs).detach().numpy()[:,i], s=10)\n",
    "\n",
    "ax.set_xlabel(\"True Probs\")\n",
    "ax.set_ylabel(\"Predicted Probs\")\n",
    "ax.set_xlim([0,1])\n",
    "ax.set_ylim([0,1])\n",
    "fig"
   ]
  },
  {
   "cell_type": "markdown",
   "metadata": {},
   "source": [
    "# Linear Regression / Logistic Regression for Mode Choice"
   ]
  },
  {
   "cell_type": "code",
   "execution_count": 36,
   "metadata": {},
   "outputs": [
    {
     "name": "stdout",
     "output_type": "stream",
     "text": [
      "0.03861788072428318 0.05915592752590282 -0.015364276970998736 0.04173291554608982\n"
     ]
    },
    {
     "data": {
      "image/png": "[encoded data removed]",
      "text/plain": [
       "<Figure size 600x300 with 2 Axes>"
      ]
     },
     "execution_count": 36,
     "metadata": {},
     "output_type": "execute_result"
    }
   ],
   "source": [
    "model = \"LR\"\n",
    "# 1->L1; 0->L2\n",
    "regularization = 0\n",
    "reg_parameter = 2\n",
    "\n",
    "fig, ax = plt.subplots(1, 4, figsize=(20,4))\n",
    "\n",
    "pred_train = []\n",
    "pred_test = []\n",
    "train_mse_lr = []\n",
    "train_r_lr = []\n",
    "test_mse_lr = []\n",
    "test_r_lr = []\n",
    "\n",
    "for i in range(4):\n",
    "\n",
    "    y_train_lr = y[~train_test_index,i]\n",
    "    y_test_lr = y[train_test_index,i]\n",
    "\n",
    "    if model == \"LR\":\n",
    "    # Normal Linear Regression\n",
    "        lr = linear_model.Ridge(alpha=reg_parameter)\n",
    "        lr.fit(x_train, y_train_lr)\n",
    "\n",
    "    elif model == \"GLM\":\n",
    "    # GLM with logit link (ensure probs are \\in [0,1])\n",
    "        lr = sm.GLM(y_train_lr, x_train, family=sm.families.Binomial())\n",
    "        lr = lr.fit_regularized(alpha=reg_parameter, L1_wt=regularization)\n",
    "    else:\n",
    "        print(\"ERROR\")\n",
    "        break\n",
    "        \n",
    "    ax[i].scatter(y_train_lr, lr.predict(x_train), s=5)\n",
    "    ax[i].scatter(y_test_lr, lr.predict(x_test), s=5)\n",
    "    ax[i].plot([0, max(y_train_lr)],[0, max(y_train_lr)])\n",
    "\n",
    "    pred_train.append(lr.predict(x_train))\n",
    "    pred_test.append(lr.predict(x_test)) \n",
    "\n",
    "    train_mse_lr.append(np.sqrt(mean_squared_error(lr.predict(x_train), y_train_lr)))\n",
    "    train_r_lr.append(r2_score(y_train_lr, lr.predict(x_train)))\n",
    "    test_mse_lr.append(np.sqrt(mean_squared_error(lr.predict(x_test), y_test_lr)))\n",
    "    test_r_lr.append(r2_score(y_test_lr, lr.predict(x_test)))\n",
    "\n",
    "pred_train = np.array(pred_train).T\n",
    "pred_test = np.array(pred_test).T\n",
    "\n",
    "train_mse = np.sqrt(mean_squared_error(pred_train, y[~train_test_index,:4]))\n",
    "test_mse = np.sqrt(mean_squared_error(pred_test, y[train_test_index,:4]))\n",
    "\n",
    "# the entropy function will normalize the probabilities\n",
    "# not suitable for probabilities gotten from linear regression and GLM\n",
    "\n",
    "# train_kl = entropy(y[~train_test_index,:4], pred_train, axis=1).mean()\n",
    "# test_kl = entropy(y[train_test_index,:4], pred_test, axis=1).mean()\n",
    "\n",
    "print(test_r_lr[0], test_r_lr[1], test_r_lr[2], test_r_lr[3])\n",
    "                                                                                                     \n",
    "fig, ax = plt.subplots(1,2, figsize=(6,3))\n",
    "ax[0].hist(pred_train.sum(axis=1), bins = np.linspace(0.875, 1.275, 9))\n",
    "ax[1].hist(pred_test.sum(axis=1), bins = np.linspace(0.875, 1.275, 9));\n",
    "fig \n",
    "\n"
   ]
  },
  {
   "cell_type": "code",
   "execution_count": 37,
   "metadata": {},
   "outputs": [],
   "source": [
    "with open(out_dir+model_code+\"_mode_choice.csv\", \"a\") as f:\n",
    "    f.write(\"%s,%s,%s,%s,%d,%.4f,%.4f,%.4f,%.4f,%.4f,%.4f,%.4f,%.4f,%.4f,%.4f,%.4f,%.4f,%.4f,%.4f,%.4f,%.4f,%.4f\\n\" % \\\n",
    "                      (model_run_date, model_type, zoomlevel, model, regularization, reg_parameter,\n",
    "                      -1, train_mse, train_mse_lr[0], train_mse_lr[1], train_mse_lr[2], train_mse_lr[3],\n",
    "                      -1, test_mse, test_mse_lr[0], test_mse_lr[1], test_mse_lr[2], test_mse_lr[3],\n",
    "                      test_r_lr[0], test_r_lr[1], test_r_lr[2], test_r_lr[3])) \n",
    " "
   ]
  },
  {
   "cell_type": "markdown",
   "metadata": {},
   "source": [
    "# LR for trip generation"
   ]
  },
  {
   "cell_type": "code",
   "execution_count": 38,
   "metadata": {},
   "outputs": [],
   "source": [
    "trpgen_train =  y[~train_test_index,1]\n",
    "trpgen_test =  y[train_test_index,1]"
   ]
  },
  {
   "cell_type": "code",
   "execution_count": 39,
   "metadata": {},
   "outputs": [
    {
     "name": "stdout",
     "output_type": "stream",
     "text": [
      "0.9999977559361426 -1.1354757925689754\n"
     ]
    }
   ],
   "source": [
    "lr = linear_model.LinearRegression()\n",
    "lr.fit(x_train, trpgen_train)\n",
    "with open(out_dir+model_code+\"_regression_\"+variable_names[-1]+\".csv\", \"a\") as f:\n",
    "    f.write(\"%s,%s,%s,%.4f,%.4f,%.4f,%s,%s,%d,%d\\n\" % (model_run_date, model_type, variable_names[-1], -1, \n",
    "        lr.score(x_train, trpgen_train), lr.score(x_test, trpgen_test), 'lr', zoomlevel,\n",
    "        np.sum(lr.coef_ != 0), len(lr.coef_)))\n",
    "print(lr.score(x_train, trpgen_train), lr.score(x_test, trpgen_test))"
   ]
  },
  {
   "cell_type": "code",
   "execution_count": 40,
   "metadata": {},
   "outputs": [
    {
     "name": "stdout",
     "output_type": "stream",
     "text": [
      "-5.595524044110789e-14 -0.022658976492462957\n",
      "-5.595524044110789e-14 -0.022658976492462957\n",
      "-5.595524044110789e-14 -0.022658976492462957\n",
      "-5.595524044110789e-14 -0.022658976492462957\n",
      "-5.595524044110789e-14 -0.022658976492462957\n",
      "-5.595524044110789e-14 -0.022658976492462957\n",
      "-5.595524044110789e-14 -0.022658976492462957\n",
      "-5.595524044110789e-14 -0.022658976492462957\n",
      "-5.595524044110789e-14 -0.022658976492462957\n",
      "-5.595524044110789e-14 -0.022658976492462957\n"
     ]
    }
   ],
   "source": [
    "for a in np.linspace(0.005, 0.014, 10):\n",
    "    lasso = linear_model.Lasso(alpha=a)\n",
    "    lasso.fit(x_train, trpgen_train)\n",
    "    with open(out_dir+model_code+\"_regression_\"+variable_names[-1]+\".csv\", \"a\") as f:\n",
    "        f.write(\"%s,%s,%s,%.6f,%.4f,%.4f,%s,%s,%d,%d\\n\" % (model_run_date, model_type, variable_names[-1], a, \n",
    "            lasso.score(x_train, trpgen_train), lasso.score(x_test, trpgen_test), 'lasso', zoomlevel,\n",
    "            np.sum(lasso.coef_ != 0), len(lasso.coef_)))\n",
    "    print(lasso.score(x_train, trpgen_train), lasso.score(x_test, trpgen_test))"
   ]
  },
  {
   "cell_type": "code",
   "execution_count": 41,
   "metadata": {},
   "outputs": [
    {
     "name": "stdout",
     "output_type": "stream",
     "text": [
      "0.34874319703756884 0.09794299931801165\n",
      "0.30471725338388667 0.08127266568118652\n",
      "0.2706321656368852 0.06884692964830619\n",
      "0.24341074185642464 0.05915592752590282\n",
      "0.22115700177747188 0.05135860168579243\n",
      "0.20262236958808044 0.04493742259766953\n",
      "0.18694648787762935 0.03955192198670132\n",
      "0.1735159951352866 0.03496739198629484\n",
      "0.1618813615704915 0.03101582568258443\n",
      "0.15170552372717627 0.02757388114271553\n"
     ]
    }
   ],
   "source": [
    "for a in np.linspace(1,4,10):\n",
    "    ridge = linear_model.Ridge(alpha=a)\n",
    "    ridge.fit(x_train, trpgen_train)\n",
    "    with open(out_dir+model_code+\"_regression_\"+variable_names[-1]+\".csv\", \"a\") as f:\n",
    "        f.write(\"%s,%s,%s,%.4f,%.4f,%.4f,%s,%s,%d,%d\\n\" % (model_run_date, model_type, variable_names[-1], a, \n",
    "            ridge.score(x_train, trpgen_train), ridge.score(x_test, trpgen_test), 'ridge', zoomlevel,\n",
    "            np.sum(ridge.coef_ != 0), len(ridge.coef_)))\n",
    "    print(ridge.score(x_train, trpgen_train), ridge.score(x_test, trpgen_test))"
   ]
  },
  {
   "cell_type": "code",
   "execution_count": null,
   "metadata": {},
   "outputs": [],
   "source": []
  }
 ],
 "metadata": {
  "kernelspec": {
   "display_name": "Python 3",
   "language": "python",
   "name": "python3"
  },
  "language_info": {
   "codemirror_mode": {
    "name": "ipython",
    "version": 3
   },
   "file_extension": ".py",
   "mimetype": "text/x-python",
   "name": "python",
   "nbconvert_exporter": "python",
   "pygments_lexer": "ipython3",
   "version": "3.7.11"
  }
 },
 "nbformat": 4,
 "nbformat_minor": 4
}
