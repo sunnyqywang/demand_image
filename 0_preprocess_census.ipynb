{
 "cells": [
  {
   "cell_type": "code",
   "execution_count": 1,
   "metadata": {},
   "outputs": [],
   "source": [
    "import matplotlib.pyplot as plt\n",
    "import numpy as np\n",
    "import pandas as pd\n",
    "\n",
    "from setup import *\n",
    "\n",
    "%load_ext autoreload\n",
    "%autoreload 2"
   ]
  },
  {
   "cell_type": "code",
   "execution_count": 2,
   "metadata": {},
   "outputs": [],
   "source": [
    "# demographic information of census blocks\n",
    "demos = pd.read_csv(data_dir+'nhgis0004_ds239_20185_2018_blck_grp.csv')\n",
    "\n",
    "data_cols = [x for x in list(demos.columns) if len(x) == 8 and x[0:2]=='AJ' and x[4]=='E']\n",
    "# This will tell us if we have any non-numeic data types\n",
    "# print(demo_to_grid[data_cols].dtypes.value_counts())\n",
    "# Run this to find out which columns are non-numeric. Then can feed them to the next line\n",
    "# demo_to_grid[data_cols].select_dtypes(include=['int64']).columns\n",
    "data_cols.remove('AJ0EE001')"
   ]
  },
  {
   "cell_type": "code",
   "execution_count": 5,
   "metadata": {},
   "outputs": [
    {
     "name": "stderr",
     "output_type": "stream",
     "text": [
      "/home/jtl/anaconda3/lib/python3.7/site-packages/ipykernel_launcher.py:41: RuntimeWarning: invalid value encountered in double_scalars\n"
     ]
    }
   ],
   "source": [
    "travel_time_cols = ['AJXEE0'+str(i).zfill(2) for i in range(2,14)]\n",
    "tt_medians = [2.5,7,12,17,22,27,32,37,42,52,74.5,100]\n",
    "\n",
    "# aggregate values for each station.\n",
    "demo_census = demos.groupby(['COUNTYA', 'TRACTA'], as_index=False)[data_cols].sum()\n",
    "\n",
    "# create demographics for each cell.\n",
    "demo_census['pct25_34yrs'] = (demo_census[['AJWBE011','AJWBE012',\n",
    "                                         'AJWBE035','AJWBE036']].sum(axis = 1))/demo_census['AJWBE001']\n",
    "demo_census['pct35_50yrs'] = (demo_census[['AJWBE013','AJWBE014','AJWBE015',\n",
    "                                         'AJWBE037','AJWBE038','AJWBE039']].sum(axis = 1))/demo_census['AJWBE001']\n",
    "demo_census['pctover65yrs'] = (demo_census[['AJWBE020','AJWBE021','AJWBE022','AJWBE023','AJWBE024','AJWBE025',\n",
    "                                          'AJWBE044','AJWBE045','AJWBE046','AJWBE047','AJWBE048','AJWBE049']].sum(axis = 1))/demo_census['AJWBE001']\n",
    "demo_census['pctwhite_alone'] = demo_census['AJWNE002']/demo_census['AJWNE001']\n",
    "demo_census['pct_nonwhite'] = (demo_census['AJWNE001']-demo_census['AJWNE002'])/demo_census['AJWNE001']\n",
    "demo_census['pctblack_alone'] = demo_census['AJWNE003']/demo_census['AJWNE001']\n",
    "demo_census['pct_hs_grad'] = (demo_census[['AJYPE017','AJYPE018','AJYPE019','AJYPE020','AJYPE021','AJYPE022',\n",
    "                                         'AJYPE023','AJYPE024','AJYPE025']].sum(axis = 1))/demo_census['AJYPE001']\n",
    "demo_census['pct_col_grad'] = (demo_census[['AJYPE022','AJYPE023','AJYPE024','AJYPE025']].sum(axis = 1))/demo_census['AJYPE001']\n",
    "demo_census['pctPTcommute'] = demo_census['AJXCE010']/demo_census['AJXCE001']\n",
    "\n",
    "demo_census['25_34yrs'] = (demo_census[['AJWBE011','AJWBE012',\n",
    "                                         'AJWBE035','AJWBE036']].sum(axis = 1))\n",
    "demo_census['35_50yrs'] = (demo_census[['AJWBE013','AJWBE014','AJWBE015',\n",
    "                                         'AJWBE037','AJWBE038','AJWBE039']].sum(axis = 1))\n",
    "demo_census['over65yrs'] = (demo_census[['AJWBE020','AJWBE021','AJWBE022','AJWBE023','AJWBE024','AJWBE025',\n",
    "                                          'AJWBE044','AJWBE045','AJWBE046','AJWBE047','AJWBE048','AJWBE049']].sum(axis = 1))\n",
    "demo_census['white_alone'] = demo_census['AJWNE002']/demo_census['AJWNE001']\n",
    "demo_census['nonwhite'] = demo_census['AJWNE001']-demo_census['AJWNE002']\n",
    "demo_census['black_alone'] = demo_census['AJWNE003']\n",
    "demo_census['hs_grad'] = (demo_census[['AJYPE017','AJYPE018','AJYPE019','AJYPE020','AJYPE021','AJYPE022',\n",
    "                                         'AJYPE023','AJYPE024','AJYPE025']].sum(axis = 1))\n",
    "demo_census['col_grad'] = (demo_census[['AJYPE022','AJYPE023','AJYPE024','AJYPE025']].sum(axis = 1))\n",
    "demo_census['PTcommute'] = demo_census['AJXCE010']\n",
    "\n",
    "demo_census['avg_tt_to_work'] = (demo_census[travel_time_cols].multiply(tt_medians, axis = 1).sum(axis =1))/demo_census['AJXEE001']\n",
    "\n",
    "# create income info\n",
    "# demo_census['pct60plusmincommute'] = (demo_census[['AJXEE012','AJXEE013']].sum(axis=1))/demo_census['AJXEE001']\n",
    "cell_inc = demos.groupby(['COUNTYA', 'TRACTA'], as_index=False).apply(lambda x: \n",
    "                    (x['AJWME001']*x['AJ0EE001']).sum(axis = 0)/x['AJWME001'].sum(axis=0))\n",
    "cell_inc.columns = ['COUNTYA', 'TRACTA','inc_per_capita']\n",
    "demo_census = pd.merge(demo_census, cell_inc, how = 'left', on = ['COUNTYA', 'TRACTA'])\n"
   ]
  },
  {
   "cell_type": "code",
   "execution_count": 7,
   "metadata": {},
   "outputs": [],
   "source": [
    "# extract demo data\n",
    "demo_df = demo_census[['COUNTYA', 'TRACTA', 'AJWME001',\n",
    "                       'pct25_34yrs','pct35_50yrs','pctover65yrs',\n",
    "                       'pctwhite_alone','pct_nonwhite','pctblack_alone',\n",
    "                       'pct_col_grad','pctPTcommute',\n",
    "                       '25_34yrs','35_50yrs','over65yrs',\n",
    "                       'white_alone','nonwhite','black_alone',\n",
    "                       'col_grad','PTcommute',\n",
    "                       'avg_tt_to_work','inc_per_capita']].fillna(0)\n",
    "\n",
    "demo_df = demo_df.rename(columns = {'AJWME001':'tot_population'})\n",
    "\n",
    "demos = ['tot_population','pct25_34yrs','pct35_50yrs','pctover65yrs',\n",
    "         'pctwhite_alone','pct_nonwhite','pctblack_alone',\n",
    "         'pct_col_grad','pctPTcommute','25_34yrs','35_50yrs','over65yrs',\n",
    "         'white_alone','nonwhite','black_alone',\n",
    "         'col_grad','PTcommute','avg_tt_to_work','inc_per_capita']"
   ]
  },
  {
   "cell_type": "code",
   "execution_count": null,
   "metadata": {},
   "outputs": [],
   "source": [
    "# (NOT USED) job\n",
    "jobs = pd.read_csv(data_dir+'data_raw/il_wac_S000_JT00_2017.csv', usecols = [0,1], names = ['GEOID10','jobs'])\n",
    "\n",
    "jgrid = block_int_stop.merge(jobs, how = 'left', on = 'GEOID10')\n",
    "jgrid['jobs'] = jgrid['proportion_area_stop']*jgrid['jobs']\n",
    "jgrid = jgrid.groupby(['STATION_ID'])['jobs'].sum().reset_index()\n",
    "\n",
    "demo_df = pd.merge(demo_df, jgrid, on='STATION_ID')"
   ]
  },
  {
   "cell_type": "code",
   "execution_count": 8,
   "metadata": {},
   "outputs": [],
   "source": [
    "# save demographics data\n",
    "demo_df.to_csv(data_dir+\"census_demo_df.csv\", index=False)"
   ]
  },
  {
   "cell_type": "code",
   "execution_count": null,
   "metadata": {},
   "outputs": [],
   "source": []
  }
 ],
 "metadata": {
  "kernelspec": {
   "display_name": "Python 3",
   "language": "python",
   "name": "python3"
  },
  "language_info": {
   "codemirror_mode": {
    "name": "ipython",
    "version": 3
   },
   "file_extension": ".py",
   "mimetype": "text/x-python",
   "name": "python",
   "nbconvert_exporter": "python",
   "pygments_lexer": "ipython3",
   "version": "3.7.4"
  }
 },
 "nbformat": 4,
 "nbformat_minor": 4
}
