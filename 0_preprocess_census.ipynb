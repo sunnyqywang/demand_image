{
 "cells": [
  {
   "cell_type": "code",
   "execution_count": 1,
   "metadata": {},
   "outputs": [],
   "source": [
    "import geopandas as gpd\n",
    "import matplotlib.pyplot as plt\n",
    "import numpy as np\n",
    "import pandas as pd\n",
    "from shapely import wkt\n",
    "\n",
    "from setup import *\n",
    "\n",
    "%load_ext autoreload\n",
    "%autoreload 2"
   ]
  },
  {
   "cell_type": "code",
   "execution_count": 35,
   "metadata": {},
   "outputs": [],
   "source": [
    "epa = pd.read_csv(data_dir+\"EPA_SmartLocationDatabase_V3_Jan_2021_Final.csv\")\n",
    "epa_agg_guide = pd.read_csv(data_dir+\"EPA_SmartLocations_CensusTractAggregationGuide.csv\").fillna(0)"
   ]
  },
  {
   "cell_type": "code",
   "execution_count": 36,
   "metadata": {},
   "outputs": [],
   "source": [
    "columns_keep = epa_agg_guide[epa_agg_guide['tract_keep']==1]['col_name'].tolist()\n",
    "columns_sum = epa_agg_guide[epa_agg_guide['tract_sum']==1]['col_name'].tolist()\n",
    "columns_wm_pop = epa_agg_guide[epa_agg_guide['tract_weighted_mean_pop']==1]['col_name'].tolist()\n",
    "columns_wm_emp = epa_agg_guide[epa_agg_guide['tract_weighted_mean_emp']==1]['col_name'].tolist()\n",
    "columns_wm_area = epa_agg_guide[epa_agg_guide['tract_weighted_mean_area']==1]['col_name'].tolist()\n",
    "\n",
    "wm_pop = lambda x: np.ma.average(x, weights=epa.loc[x.index, \"TotPop\"])\n",
    "wm_emp = lambda x: np.ma.average(x, weights=epa.loc[x.index, \"TotEmp\"])\n",
    "wm_area = lambda x: np.ma.average(x, weights=epa.loc[x.index, \"Ac_Unpr\"])\n",
    "\n",
    "aggregation = {x:'sum' for x in columns_sum}\n",
    "aggregation.update({x:wm_pop for x in columns_wm_pop})\n",
    "aggregation.update({x:wm_emp for x in columns_wm_emp})\n",
    "aggregation.update({x:wm_area for x in columns_wm_area})"
   ]
  },
  {
   "cell_type": "code",
   "execution_count": 37,
   "metadata": {},
   "outputs": [],
   "source": [
    "# filter to Illinois\n",
    "epa = epa[epa['STATEFP'] == 17]\n",
    "\n",
    "# remove the CBGs with >50% protected area\n",
    "epa['pct_protected'] = 1-epa['Ac_Unpr'] / epa['Ac_Total']\n",
    "epa = epa[epa['pct_protected'] < 0.5]\n",
    "\n",
    "# Turn spatial unit to acre (D3* metrics are in square miles)\n",
    "for x in columns_wm_area:\n",
    "    if x[:2] == 'D3':\n",
    "        epa[x] *= 640"
   ]
  },
  {
   "cell_type": "code",
   "execution_count": 38,
   "metadata": {},
   "outputs": [
    {
     "name": "stderr",
     "output_type": "stream",
     "text": [
      "/home/jtl/anaconda3/envs/dingyi_env/lib/python3.8/site-packages/numpy/ma/extras.py:623: RuntimeWarning: invalid value encountered in double_scalars\n",
      "  avg = np.multiply(a, wgt, dtype=result_dtype).sum(axis)/scl\n"
     ]
    }
   ],
   "source": [
    "epa_tract = epa.groupby(columns_keep, as_index=False).agg(aggregation)"
   ]
  },
  {
   "cell_type": "code",
   "execution_count": 39,
   "metadata": {},
   "outputs": [],
   "source": [
    "# Filter out the tracts with no employment or no residents\n",
    "epa_tract = epa_tract[(epa_tract['TotEmp'] > 0) & (epa_tract['TotPop'] > 0)]"
   ]
  },
  {
   "cell_type": "code",
   "execution_count": 40,
   "metadata": {},
   "outputs": [],
   "source": [
    "def calculate_entropy(df, cols):\n",
    "    s = df[cols].sum(axis=1)\n",
    "    e = pd.Series(np.zeros(len(df)), index=df.index)\n",
    "    for c in cols:\n",
    "        e[df[c]>0] = e[df[c]>0] + df[df[c]>0][c]/s[df[c]>0] * np.log(df[df[c]>0][c]/s[df[c]>0])\n",
    "    e = -e/np.log(len(cols))\n",
    "    return e"
   ]
  },
  {
   "cell_type": "code",
   "execution_count": 41,
   "metadata": {},
   "outputs": [],
   "source": [
    "epa_tract['E8MixA'] = calculate_entropy(epa_tract, ['E8_Ret','E8_off','E8_Ind','E8_Svc','E8_Ent','E8_Ed','E8_Hlth','E8_Pub'])\n",
    "epa_tract['pop_income_entropy'] = calculate_entropy(epa_tract, ['R_LowWageWk','R_MedWageWk','R_HiWageWk'])\n",
    "epa_tract['D2A_WRKEMP'] = epa_tract['Workers'] / epa_tract['TotEmp']\n",
    "epa_tract['D2C_WREMLX'] = np.exp(-np.abs(epa_tract['D2A_WRKEMP']-1))\n"
   ]
  },
  {
   "cell_type": "code",
   "execution_count": 42,
   "metadata": {},
   "outputs": [],
   "source": [
    "rename = {'E8MixA': 'employment_entropy',\n",
    "          'D1D': 'activity_density',\n",
    "          'D2C_WREMLX':'wrk_emp_balance',\n",
    "          'D3AAO':'auto_oriented',\n",
    "          'D3AMM':'multi_modal',\n",
    "          'D3APO':'pedestrian_oriented'\n",
    "         }\n",
    "epa_tract = epa_tract.rename(columns=rename)"
   ]
  },
  {
   "cell_type": "code",
   "execution_count": 46,
   "metadata": {
    "scrolled": true
   },
   "outputs": [],
   "source": [
    "epa_tract_export = epa_tract[['STATEFP','COUNTYFP','TRACTCE','activity_density','employment_entropy','pop_income_entropy','wrk_emp_balance',\n",
    "  'auto_oriented','multi_modal','pedestrian_oriented']]"
   ]
  },
  {
   "cell_type": "code",
   "execution_count": 47,
   "metadata": {},
   "outputs": [],
   "source": [
    "epa_tract_export.to_csv(data_dir+\"EPA_SmartLocations_CensusTract_export.csv\", index=False)"
   ]
  },
  {
   "cell_type": "markdown",
   "metadata": {},
   "source": [
    "# PM2.5 concentration "
   ]
  },
  {
   "cell_type": "code",
   "execution_count": 23,
   "metadata": {},
   "outputs": [],
   "source": [
    "pm = pd.read_csv(data_dir+\"Daily_Census_Tract-Level_PM2.5_Concentrations__2016.csv\")\n"
   ]
  },
  {
   "cell_type": "code",
   "execution_count": 31,
   "metadata": {},
   "outputs": [],
   "source": [
    "pm_illinois = pm[pm['statefips']==17]"
   ]
  },
  {
   "cell_type": "code",
   "execution_count": 33,
   "metadata": {},
   "outputs": [],
   "source": [
    "pm_illinois = pm_illinois.groupby(['statefips','countyfips','ctfips'], as_index=False).mean()[['statefips','countyfips','ctfips','DS_PM_pred']]"
   ]
  },
  {
   "cell_type": "code",
   "execution_count": 53,
   "metadata": {},
   "outputs": [],
   "source": [
    "pm_illinois = pm_illinois.rename(columns={'DS_PM_pred':'PM2.5'})"
   ]
  },
  {
   "cell_type": "code",
   "execution_count": 54,
   "metadata": {},
   "outputs": [],
   "source": [
    "pm_illinois.to_csv(data_dir+\"PM2.5_Concentrations_2016_Illinois_Average_Annual.csv\", index=False)"
   ]
  },
  {
   "cell_type": "markdown",
   "metadata": {},
   "source": [
    "# American Community Survey (Demogrpahics)"
   ]
  },
  {
   "cell_type": "code",
   "execution_count": 7,
   "metadata": {},
   "outputs": [],
   "source": [
    "# demographic information of census blocks\n",
    "demos = pd.read_csv(data_dir+'nhgis0004_ds239_20185_2018_blck_grp.csv')\n",
    "\n",
    "data_cols = [x for x in list(demos.columns) if len(x) == 8 and x[0:2]=='AJ' and x[4]=='E']\n",
    "# This will tell us if we have any non-numeic data types\n",
    "# print(demo_to_grid[data_cols].dtypes.value_counts())\n",
    "# Run this to find out which columns are non-numeric. Then can feed them to the next line\n",
    "# demo_to_grid[data_cols].select_dtypes(include=['int64']).columns\n",
    "data_cols.remove('AJ0EE001')"
   ]
  },
  {
   "cell_type": "markdown",
   "metadata": {},
   "source": [
    "## Export Block Groups Level"
   ]
  },
  {
   "cell_type": "code",
   "execution_count": 8,
   "metadata": {},
   "outputs": [
    {
     "name": "stderr",
     "output_type": "stream",
     "text": [
      "/tmp/ipykernel_23799/2290195772.py:38: RuntimeWarning: invalid value encountered in double_scalars\n",
      "  (x['AJWME001']*x['AJ0EE001']).sum(axis = 0)/x['AJWME001'].sum(axis=0))\n"
     ]
    }
   ],
   "source": [
    "travel_time_cols = ['AJXEE0'+str(i).zfill(2) for i in range(2,14)]\n",
    "tt_medians = [2.5,7,12,17,22,27,32,37,42,52,74.5,100]\n",
    "\n",
    "demo_census = demos.copy()\n",
    "\n",
    "# create demographics for each cell.\n",
    "demo_census['pct25_34yrs'] = (demo_census[['AJWBE011','AJWBE012',\n",
    "                                         'AJWBE035','AJWBE036']].sum(axis = 1))/demo_census['AJWBE001']\n",
    "demo_census['pct35_50yrs'] = (demo_census[['AJWBE013','AJWBE014','AJWBE015',\n",
    "                                         'AJWBE037','AJWBE038','AJWBE039']].sum(axis = 1))/demo_census['AJWBE001']\n",
    "demo_census['pctover65yrs'] = (demo_census[['AJWBE020','AJWBE021','AJWBE022','AJWBE023','AJWBE024','AJWBE025',\n",
    "                                          'AJWBE044','AJWBE045','AJWBE046','AJWBE047','AJWBE048','AJWBE049']].sum(axis = 1))/demo_census['AJWBE001']\n",
    "demo_census['pctwhite_alone'] = demo_census['AJWNE002']/demo_census['AJWNE001']\n",
    "demo_census['pct_nonwhite'] = (demo_census['AJWNE001']-demo_census['AJWNE002'])/demo_census['AJWNE001']\n",
    "demo_census['pctblack_alone'] = demo_census['AJWNE003']/demo_census['AJWNE001']\n",
    "demo_census['pct_hs_grad'] = (demo_census[['AJYPE017','AJYPE018','AJYPE019','AJYPE020','AJYPE021','AJYPE022',\n",
    "                                         'AJYPE023','AJYPE024','AJYPE025']].sum(axis = 1))/demo_census['AJYPE001']\n",
    "demo_census['pct_col_grad'] = (demo_census[['AJYPE022','AJYPE023','AJYPE024','AJYPE025']].sum(axis = 1))/demo_census['AJYPE001']\n",
    "demo_census['pctPTcommute'] = demo_census['AJXCE010']/demo_census['AJXCE001']\n",
    "\n",
    "demo_census['25_34yrs'] = (demo_census[['AJWBE011','AJWBE012','AJWBE035','AJWBE036']].sum(axis = 1))\n",
    "demo_census['35_50yrs'] = (demo_census[['AJWBE013','AJWBE014','AJWBE015', 'AJWBE037','AJWBE038','AJWBE039']].sum(axis = 1))\n",
    "demo_census['over65yrs'] = (demo_census[['AJWBE020','AJWBE021','AJWBE022','AJWBE023','AJWBE024','AJWBE025',\n",
    "                                          'AJWBE044','AJWBE045','AJWBE046','AJWBE047','AJWBE048','AJWBE049']].sum(axis = 1))\n",
    "demo_census['white_alone'] = demo_census['AJWNE002']/demo_census['AJWNE001']\n",
    "demo_census['nonwhite'] = demo_census['AJWNE001']-demo_census['AJWNE002']\n",
    "demo_census['black_alone'] = demo_census['AJWNE003']\n",
    "demo_census['hs_grad'] = (demo_census[['AJYPE017','AJYPE018','AJYPE019','AJYPE020','AJYPE021','AJYPE022',\n",
    "                                         'AJYPE023','AJYPE024','AJYPE025']].sum(axis = 1))\n",
    "demo_census['col_grad'] = (demo_census[['AJYPE022','AJYPE023','AJYPE024','AJYPE025']].sum(axis = 1))\n",
    "demo_census['PTcommute'] = demo_census['AJXCE010']\n",
    "\n",
    "demo_census['avg_tt_to_work'] = (demo_census[travel_time_cols].multiply(tt_medians, axis = 1).sum(axis =1))/demo_census['AJXEE001']\n",
    "\n",
    "# create income info\n",
    "# demo_census['pct60plusmincommute'] = (demo_census[['AJXEE012','AJXEE013']].sum(axis=1))/demo_census['AJXEE001']\n",
    "cell_inc = demos.groupby(['COUNTYA','TRACTA','BLKGRPA'], as_index=False).apply(lambda x: \n",
    "                    (x['AJWME001']*x['AJ0EE001']).sum(axis = 0)/x['AJWME001'].sum(axis=0))\n",
    "cell_inc.columns = ['COUNTYA', 'TRACTA', 'BLKGRPA', 'inc_per_capita']\n",
    "demo_census = pd.merge(demo_census, cell_inc, how = 'left', on = ['COUNTYA', 'TRACTA', 'BLKGRPA'])\n"
   ]
  },
  {
   "cell_type": "code",
   "execution_count": 9,
   "metadata": {},
   "outputs": [],
   "source": [
    "demo_df = demo_census[['COUNTYA', 'TRACTA', 'BLKGRPA','AJWME001',\n",
    "                       'pct25_34yrs','pct35_50yrs','pctover65yrs',\n",
    "                       'pctwhite_alone','pct_nonwhite','pctblack_alone',\n",
    "                       'pct_col_grad','pctPTcommute',\n",
    "                       '25_34yrs','35_50yrs','over65yrs',\n",
    "                       'white_alone','nonwhite','black_alone',\n",
    "                       'col_grad','PTcommute',\n",
    "                       'avg_tt_to_work','inc_per_capita']].fillna(0)\n",
    "\n",
    "demo_df = demo_df.rename(columns = {'AJWME001':'tot_population'})\n",
    "\n",
    "demo_cols = ['tot_population','pct25_34yrs','pct35_50yrs','pctover65yrs',\n",
    "         'pctwhite_alone','pct_nonwhite','pctblack_alone',\n",
    "         'pct_col_grad','pctPTcommute','25_34yrs','35_50yrs','over65yrs',\n",
    "         'white_alone','nonwhite','black_alone',\n",
    "         'col_grad','PTcommute','avg_tt_to_work','inc_per_capita']"
   ]
  },
  {
   "cell_type": "code",
   "execution_count": 10,
   "metadata": {},
   "outputs": [],
   "source": [
    "demo_df.to_csv(data_dir+\"demo_blkgrp.csv\", index=False)"
   ]
  },
  {
   "cell_type": "markdown",
   "metadata": {},
   "source": [
    "## Export Tract Level"
   ]
  },
  {
   "cell_type": "code",
   "execution_count": 12,
   "metadata": {},
   "outputs": [
    {
     "name": "stderr",
     "output_type": "stream",
     "text": [
      "/tmp/ipykernel_23799/2216518163.py:39: RuntimeWarning: invalid value encountered in double_scalars\n",
      "  (x['AJWME001']*x['AJ0EE001']).sum(axis = 0)/x['AJWME001'].sum(axis=0))\n"
     ]
    }
   ],
   "source": [
    "# aggregate values for each census tract.\n",
    "demo_census = demos.groupby(['COUNTYA', 'TRACTA'], as_index=False)[data_cols].sum()\n",
    "\n",
    "travel_time_cols = ['AJXEE0'+str(i).zfill(2) for i in range(2,14)]\n",
    "tt_medians = [2.5,7,12,17,22,27,32,37,42,52,74.5,100]\n",
    "\n",
    "# create demographics for each cell.\n",
    "demo_census['pct25_34yrs'] = (demo_census[['AJWBE011','AJWBE012',\n",
    "                                         'AJWBE035','AJWBE036']].sum(axis = 1))/demo_census['AJWBE001']\n",
    "demo_census['pct35_50yrs'] = (demo_census[['AJWBE013','AJWBE014','AJWBE015',\n",
    "                                         'AJWBE037','AJWBE038','AJWBE039']].sum(axis = 1))/demo_census['AJWBE001']\n",
    "demo_census['pctover65yrs'] = (demo_census[['AJWBE020','AJWBE021','AJWBE022','AJWBE023','AJWBE024','AJWBE025',\n",
    "                                          'AJWBE044','AJWBE045','AJWBE046','AJWBE047','AJWBE048','AJWBE049']].sum(axis = 1))/demo_census['AJWBE001']\n",
    "demo_census['pctwhite_alone'] = demo_census['AJWNE002']/demo_census['AJWNE001']\n",
    "demo_census['pct_nonwhite'] = (demo_census['AJWNE001']-demo_census['AJWNE002'])/demo_census['AJWNE001']\n",
    "demo_census['pctblack_alone'] = demo_census['AJWNE003']/demo_census['AJWNE001']\n",
    "demo_census['pct_hs_grad'] = (demo_census[['AJYPE017','AJYPE018','AJYPE019','AJYPE020','AJYPE021','AJYPE022',\n",
    "                                         'AJYPE023','AJYPE024','AJYPE025']].sum(axis = 1))/demo_census['AJYPE001']\n",
    "demo_census['pct_col_grad'] = (demo_census[['AJYPE022','AJYPE023','AJYPE024','AJYPE025']].sum(axis = 1))/demo_census['AJYPE001']\n",
    "demo_census['pctPTcommute'] = demo_census['AJXCE010']/demo_census['AJXCE001']\n",
    "\n",
    "demo_census['25_34yrs'] = (demo_census[['AJWBE011','AJWBE012','AJWBE035','AJWBE036']].sum(axis = 1))\n",
    "demo_census['35_50yrs'] = (demo_census[['AJWBE013','AJWBE014','AJWBE015', 'AJWBE037','AJWBE038','AJWBE039']].sum(axis = 1))\n",
    "demo_census['over65yrs'] = (demo_census[['AJWBE020','AJWBE021','AJWBE022','AJWBE023','AJWBE024','AJWBE025',\n",
    "                                          'AJWBE044','AJWBE045','AJWBE046','AJWBE047','AJWBE048','AJWBE049']].sum(axis = 1))\n",
    "demo_census['white_alone'] = demo_census['AJWNE002']/demo_census['AJWNE001']\n",
    "demo_census['nonwhite'] = demo_census['AJWNE001']-demo_census['AJWNE002']\n",
    "demo_census['black_alone'] = demo_census['AJWNE003']\n",
    "demo_census['hs_grad'] = (demo_census[['AJYPE017','AJYPE018','AJYPE019','AJYPE020','AJYPE021','AJYPE022',\n",
    "                                         'AJYPE023','AJYPE024','AJYPE025']].sum(axis = 1))\n",
    "demo_census['col_grad'] = (demo_census[['AJYPE022','AJYPE023','AJYPE024','AJYPE025']].sum(axis = 1))\n",
    "demo_census['PTcommute'] = demo_census['AJXCE010']\n",
    "\n",
    "demo_census['avg_tt_to_work'] = (demo_census[travel_time_cols].multiply(tt_medians, axis = 1).sum(axis =1))/demo_census['AJXEE001']\n",
    "\n",
    "# create income info\n",
    "# demo_census['pct60plusmincommute'] = (demo_census[['AJXEE012','AJXEE013']].sum(axis=1))/demo_census['AJXEE001']\n",
    "cell_inc = demos.groupby(['COUNTYA','TRACTA'], as_index=False).apply(lambda x: \n",
    "                    (x['AJWME001']*x['AJ0EE001']).sum(axis = 0)/x['AJWME001'].sum(axis=0))\n",
    "cell_inc.columns = ['COUNTYA', 'TRACTA', 'inc_per_capita']\n",
    "demo_census = pd.merge(demo_census, cell_inc, how = 'left', on = ['COUNTYA', 'TRACTA'])\n",
    "\n",
    "demo_df = demo_census[['COUNTYA','TRACTA','AJWME001',\n",
    "                       'pct25_34yrs','pct35_50yrs','pctover65yrs',\n",
    "                       'pctwhite_alone','pct_nonwhite','pctblack_alone',\n",
    "                       'pct_col_grad','pctPTcommute',\n",
    "                       '25_34yrs','35_50yrs','over65yrs',\n",
    "                       'white_alone','nonwhite','black_alone',\n",
    "                       'col_grad','PTcommute',\n",
    "                       'avg_tt_to_work','inc_per_capita']].fillna(0)\n",
    "\n",
    "demo_df = demo_df.rename(columns = {'AJWME001':'tot_population'})\n",
    "\n",
    "demo_df['geoid'] = '17_'+demo_df['COUNTYA'].astype(str)+'_'+demo_df['TRACTA'].astype(str)"
   ]
  },
  {
   "cell_type": "markdown",
   "metadata": {},
   "source": [
    "## Census Tract Area"
   ]
  },
  {
   "cell_type": "code",
   "execution_count": 16,
   "metadata": {},
   "outputs": [],
   "source": [
    "census_area = gpd.read_file(data_dir+\"tl_2018_17_tract/tl_2018_17_tract.shp\")"
   ]
  },
  {
   "cell_type": "code",
   "execution_count": 17,
   "metadata": {},
   "outputs": [],
   "source": [
    "census_area['geometry'] = census_area['geometry'].to_crs('epsg:26916')\n",
    "census_area['area'] = census_area['geometry'].area/1000000\n",
    "census_area['geoid'] = census_area['STATEFP'].astype(str)+'_'+census_area['COUNTYFP'].str.lstrip('0')+'_'+census_area['TRACTCE'].str.lstrip('0')\n"
   ]
  },
  {
   "cell_type": "code",
   "execution_count": 18,
   "metadata": {},
   "outputs": [],
   "source": [
    "census_area['INTPTLON'] = census_area['INTPTLON'].astype(float)\n",
    "census_area['INTPTLAT'] = census_area['INTPTLAT'].astype(float)"
   ]
  },
  {
   "cell_type": "code",
   "execution_count": 19,
   "metadata": {},
   "outputs": [],
   "source": [
    "demo_df = demo_df.merge(census_area[['geoid','area','INTPTLAT','INTPTLON']], on='geoid')"
   ]
  },
  {
   "cell_type": "code",
   "execution_count": 20,
   "metadata": {},
   "outputs": [],
   "source": [
    "demo_df.to_csv(data_dir+\"demo_tract.csv\", index=False)"
   ]
  },
  {
   "cell_type": "code",
   "execution_count": 23,
   "metadata": {},
   "outputs": [
    {
     "data": {
      "text/plain": [
       "Index(['COUNTYA', 'TRACTA', 'tot_population', 'pct25_34yrs', 'pct35_50yrs',\n",
       "       'pctover65yrs', 'pctwhite_alone', 'pct_nonwhite', 'pctblack_alone',\n",
       "       'pct_col_grad', 'pctPTcommute', '25_34yrs', '35_50yrs', 'over65yrs',\n",
       "       'white_alone', 'nonwhite', 'black_alone', 'col_grad', 'PTcommute',\n",
       "       'avg_tt_to_work', 'inc_per_capita', 'geoid', 'area', 'INTPTLAT',\n",
       "       'INTPTLON'],\n",
       "      dtype='object')"
      ]
     },
     "execution_count": 23,
     "metadata": {},
     "output_type": "execute_result"
    }
   ],
   "source": [
    "demo_df.columns"
   ]
  },
  {
   "cell_type": "markdown",
   "metadata": {},
   "source": [
    "## Crimes"
   ]
  },
  {
   "cell_type": "code",
   "execution_count": null,
   "metadata": {},
   "outputs": [],
   "source": [
    "crimes = pd.read_csv(data_dir+\"crimes_2021.csv\")\n",
    "crimes_code = pd.read_csv(data_dir+\"NIBRS_criminal_code.csv\")\n",
    "\n",
    "crimes = pd.merge(crimes, crimes_code, on='FBI Code')\n",
    "\n",
    "crimes.dropna(subset='Location', inplace=True)\n",
    "crimes = crimes[['Date','FBI Code','FBI Code Category','Latitude','Longitude']]\n",
    "crimes = gpd.GeoDataFrame(crimes, geometry=gpd.points_from_xy(crimes.Longitude, crimes.Latitude), crs='epsg:4326')"
   ]
  },
  {
   "cell_type": "code",
   "execution_count": null,
   "metadata": {},
   "outputs": [],
   "source": []
  },
  {
   "cell_type": "code",
   "execution_count": null,
   "metadata": {},
   "outputs": [],
   "source": []
  },
  {
   "cell_type": "code",
   "execution_count": null,
   "metadata": {},
   "outputs": [],
   "source": []
  },
  {
   "cell_type": "code",
   "execution_count": null,
   "metadata": {},
   "outputs": [],
   "source": []
  }
 ],
 "metadata": {
  "kernelspec": {
   "display_name": "Python 3 (ipykernel)",
   "language": "python",
   "name": "python3"
  },
  "language_info": {
   "codemirror_mode": {
    "name": "ipython",
    "version": 3
   },
   "file_extension": ".py",
   "mimetype": "text/x-python",
   "name": "python",
   "nbconvert_exporter": "python",
   "pygments_lexer": "ipython3",
   "version": "3.8.3"
  }
 },
 "nbformat": 4,
 "nbformat_minor": 4
}
