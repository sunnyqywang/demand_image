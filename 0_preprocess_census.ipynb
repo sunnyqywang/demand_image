{
 "cells": [
  {
   "cell_type": "code",
   "execution_count": 6,
   "metadata": {},
   "outputs": [
    {
     "name": "stdout",
     "output_type": "stream",
     "text": [
      "The autoreload extension is already loaded. To reload it, use:\n",
      "  %reload_ext autoreload\n"
     ]
    }
   ],
   "source": [
    "import geopandas as gpd\n",
    "import matplotlib.pyplot as plt\n",
    "import numpy as np\n",
    "import pandas as pd\n",
    "from shapely import wkt\n",
    "\n",
    "from setup import *\n",
    "\n",
    "%load_ext autoreload\n",
    "%autoreload 2"
   ]
  },
  {
   "cell_type": "code",
   "execution_count": 7,
   "metadata": {},
   "outputs": [],
   "source": [
    "# demographic information of census blocks\n",
    "demos = pd.read_csv(data_dir+'nhgis0004_ds239_20185_2018_blck_grp.csv')\n",
    "\n",
    "data_cols = [x for x in list(demos.columns) if len(x) == 8 and x[0:2]=='AJ' and x[4]=='E']\n",
    "# This will tell us if we have any non-numeic data types\n",
    "# print(demo_to_grid[data_cols].dtypes.value_counts())\n",
    "# Run this to find out which columns are non-numeric. Then can feed them to the next line\n",
    "# demo_to_grid[data_cols].select_dtypes(include=['int64']).columns\n",
    "data_cols.remove('AJ0EE001')"
   ]
  },
  {
   "cell_type": "markdown",
   "metadata": {},
   "source": [
    "## Export Block Groups Level"
   ]
  },
  {
   "cell_type": "code",
   "execution_count": 8,
   "metadata": {},
   "outputs": [
    {
     "name": "stderr",
     "output_type": "stream",
     "text": [
      "/tmp/ipykernel_23799/2290195772.py:38: RuntimeWarning: invalid value encountered in double_scalars\n",
      "  (x['AJWME001']*x['AJ0EE001']).sum(axis = 0)/x['AJWME001'].sum(axis=0))\n"
     ]
    }
   ],
   "source": [
    "travel_time_cols = ['AJXEE0'+str(i).zfill(2) for i in range(2,14)]\n",
    "tt_medians = [2.5,7,12,17,22,27,32,37,42,52,74.5,100]\n",
    "\n",
    "demo_census = demos.copy()\n",
    "\n",
    "# create demographics for each cell.\n",
    "demo_census['pct25_34yrs'] = (demo_census[['AJWBE011','AJWBE012',\n",
    "                                         'AJWBE035','AJWBE036']].sum(axis = 1))/demo_census['AJWBE001']\n",
    "demo_census['pct35_50yrs'] = (demo_census[['AJWBE013','AJWBE014','AJWBE015',\n",
    "                                         'AJWBE037','AJWBE038','AJWBE039']].sum(axis = 1))/demo_census['AJWBE001']\n",
    "demo_census['pctover65yrs'] = (demo_census[['AJWBE020','AJWBE021','AJWBE022','AJWBE023','AJWBE024','AJWBE025',\n",
    "                                          'AJWBE044','AJWBE045','AJWBE046','AJWBE047','AJWBE048','AJWBE049']].sum(axis = 1))/demo_census['AJWBE001']\n",
    "demo_census['pctwhite_alone'] = demo_census['AJWNE002']/demo_census['AJWNE001']\n",
    "demo_census['pct_nonwhite'] = (demo_census['AJWNE001']-demo_census['AJWNE002'])/demo_census['AJWNE001']\n",
    "demo_census['pctblack_alone'] = demo_census['AJWNE003']/demo_census['AJWNE001']\n",
    "demo_census['pct_hs_grad'] = (demo_census[['AJYPE017','AJYPE018','AJYPE019','AJYPE020','AJYPE021','AJYPE022',\n",
    "                                         'AJYPE023','AJYPE024','AJYPE025']].sum(axis = 1))/demo_census['AJYPE001']\n",
    "demo_census['pct_col_grad'] = (demo_census[['AJYPE022','AJYPE023','AJYPE024','AJYPE025']].sum(axis = 1))/demo_census['AJYPE001']\n",
    "demo_census['pctPTcommute'] = demo_census['AJXCE010']/demo_census['AJXCE001']\n",
    "\n",
    "demo_census['25_34yrs'] = (demo_census[['AJWBE011','AJWBE012','AJWBE035','AJWBE036']].sum(axis = 1))\n",
    "demo_census['35_50yrs'] = (demo_census[['AJWBE013','AJWBE014','AJWBE015', 'AJWBE037','AJWBE038','AJWBE039']].sum(axis = 1))\n",
    "demo_census['over65yrs'] = (demo_census[['AJWBE020','AJWBE021','AJWBE022','AJWBE023','AJWBE024','AJWBE025',\n",
    "                                          'AJWBE044','AJWBE045','AJWBE046','AJWBE047','AJWBE048','AJWBE049']].sum(axis = 1))\n",
    "demo_census['white_alone'] = demo_census['AJWNE002']/demo_census['AJWNE001']\n",
    "demo_census['nonwhite'] = demo_census['AJWNE001']-demo_census['AJWNE002']\n",
    "demo_census['black_alone'] = demo_census['AJWNE003']\n",
    "demo_census['hs_grad'] = (demo_census[['AJYPE017','AJYPE018','AJYPE019','AJYPE020','AJYPE021','AJYPE022',\n",
    "                                         'AJYPE023','AJYPE024','AJYPE025']].sum(axis = 1))\n",
    "demo_census['col_grad'] = (demo_census[['AJYPE022','AJYPE023','AJYPE024','AJYPE025']].sum(axis = 1))\n",
    "demo_census['PTcommute'] = demo_census['AJXCE010']\n",
    "\n",
    "demo_census['avg_tt_to_work'] = (demo_census[travel_time_cols].multiply(tt_medians, axis = 1).sum(axis =1))/demo_census['AJXEE001']\n",
    "\n",
    "# create income info\n",
    "# demo_census['pct60plusmincommute'] = (demo_census[['AJXEE012','AJXEE013']].sum(axis=1))/demo_census['AJXEE001']\n",
    "cell_inc = demos.groupby(['COUNTYA','TRACTA','BLKGRPA'], as_index=False).apply(lambda x: \n",
    "                    (x['AJWME001']*x['AJ0EE001']).sum(axis = 0)/x['AJWME001'].sum(axis=0))\n",
    "cell_inc.columns = ['COUNTYA', 'TRACTA', 'BLKGRPA', 'inc_per_capita']\n",
    "demo_census = pd.merge(demo_census, cell_inc, how = 'left', on = ['COUNTYA', 'TRACTA', 'BLKGRPA'])\n"
   ]
  },
  {
   "cell_type": "code",
   "execution_count": 9,
   "metadata": {},
   "outputs": [],
   "source": [
    "demo_df = demo_census[['COUNTYA', 'TRACTA', 'BLKGRPA','AJWME001',\n",
    "                       'pct25_34yrs','pct35_50yrs','pctover65yrs',\n",
    "                       'pctwhite_alone','pct_nonwhite','pctblack_alone',\n",
    "                       'pct_col_grad','pctPTcommute',\n",
    "                       '25_34yrs','35_50yrs','over65yrs',\n",
    "                       'white_alone','nonwhite','black_alone',\n",
    "                       'col_grad','PTcommute',\n",
    "                       'avg_tt_to_work','inc_per_capita']].fillna(0)\n",
    "\n",
    "demo_df = demo_df.rename(columns = {'AJWME001':'tot_population'})\n",
    "\n",
    "demo_cols = ['tot_population','pct25_34yrs','pct35_50yrs','pctover65yrs',\n",
    "         'pctwhite_alone','pct_nonwhite','pctblack_alone',\n",
    "         'pct_col_grad','pctPTcommute','25_34yrs','35_50yrs','over65yrs',\n",
    "         'white_alone','nonwhite','black_alone',\n",
    "         'col_grad','PTcommute','avg_tt_to_work','inc_per_capita']"
   ]
  },
  {
   "cell_type": "code",
   "execution_count": 10,
   "metadata": {},
   "outputs": [],
   "source": [
    "demo_df.to_csv(data_dir+\"demo_blkgrp.csv\", index=False)"
   ]
  },
  {
   "cell_type": "markdown",
   "metadata": {},
   "source": [
    "## Export Tract Level"
   ]
  },
  {
   "cell_type": "code",
   "execution_count": 12,
   "metadata": {},
   "outputs": [
    {
     "name": "stderr",
     "output_type": "stream",
     "text": [
      "/tmp/ipykernel_23799/2216518163.py:39: RuntimeWarning: invalid value encountered in double_scalars\n",
      "  (x['AJWME001']*x['AJ0EE001']).sum(axis = 0)/x['AJWME001'].sum(axis=0))\n"
     ]
    }
   ],
   "source": [
    "# aggregate values for each census tract.\n",
    "demo_census = demos.groupby(['COUNTYA', 'TRACTA'], as_index=False)[data_cols].sum()\n",
    "\n",
    "travel_time_cols = ['AJXEE0'+str(i).zfill(2) for i in range(2,14)]\n",
    "tt_medians = [2.5,7,12,17,22,27,32,37,42,52,74.5,100]\n",
    "\n",
    "# create demographics for each cell.\n",
    "demo_census['pct25_34yrs'] = (demo_census[['AJWBE011','AJWBE012',\n",
    "                                         'AJWBE035','AJWBE036']].sum(axis = 1))/demo_census['AJWBE001']\n",
    "demo_census['pct35_50yrs'] = (demo_census[['AJWBE013','AJWBE014','AJWBE015',\n",
    "                                         'AJWBE037','AJWBE038','AJWBE039']].sum(axis = 1))/demo_census['AJWBE001']\n",
    "demo_census['pctover65yrs'] = (demo_census[['AJWBE020','AJWBE021','AJWBE022','AJWBE023','AJWBE024','AJWBE025',\n",
    "                                          'AJWBE044','AJWBE045','AJWBE046','AJWBE047','AJWBE048','AJWBE049']].sum(axis = 1))/demo_census['AJWBE001']\n",
    "demo_census['pctwhite_alone'] = demo_census['AJWNE002']/demo_census['AJWNE001']\n",
    "demo_census['pct_nonwhite'] = (demo_census['AJWNE001']-demo_census['AJWNE002'])/demo_census['AJWNE001']\n",
    "demo_census['pctblack_alone'] = demo_census['AJWNE003']/demo_census['AJWNE001']\n",
    "demo_census['pct_hs_grad'] = (demo_census[['AJYPE017','AJYPE018','AJYPE019','AJYPE020','AJYPE021','AJYPE022',\n",
    "                                         'AJYPE023','AJYPE024','AJYPE025']].sum(axis = 1))/demo_census['AJYPE001']\n",
    "demo_census['pct_col_grad'] = (demo_census[['AJYPE022','AJYPE023','AJYPE024','AJYPE025']].sum(axis = 1))/demo_census['AJYPE001']\n",
    "demo_census['pctPTcommute'] = demo_census['AJXCE010']/demo_census['AJXCE001']\n",
    "\n",
    "demo_census['25_34yrs'] = (demo_census[['AJWBE011','AJWBE012','AJWBE035','AJWBE036']].sum(axis = 1))\n",
    "demo_census['35_50yrs'] = (demo_census[['AJWBE013','AJWBE014','AJWBE015', 'AJWBE037','AJWBE038','AJWBE039']].sum(axis = 1))\n",
    "demo_census['over65yrs'] = (demo_census[['AJWBE020','AJWBE021','AJWBE022','AJWBE023','AJWBE024','AJWBE025',\n",
    "                                          'AJWBE044','AJWBE045','AJWBE046','AJWBE047','AJWBE048','AJWBE049']].sum(axis = 1))\n",
    "demo_census['white_alone'] = demo_census['AJWNE002']/demo_census['AJWNE001']\n",
    "demo_census['nonwhite'] = demo_census['AJWNE001']-demo_census['AJWNE002']\n",
    "demo_census['black_alone'] = demo_census['AJWNE003']\n",
    "demo_census['hs_grad'] = (demo_census[['AJYPE017','AJYPE018','AJYPE019','AJYPE020','AJYPE021','AJYPE022',\n",
    "                                         'AJYPE023','AJYPE024','AJYPE025']].sum(axis = 1))\n",
    "demo_census['col_grad'] = (demo_census[['AJYPE022','AJYPE023','AJYPE024','AJYPE025']].sum(axis = 1))\n",
    "demo_census['PTcommute'] = demo_census['AJXCE010']\n",
    "\n",
    "demo_census['avg_tt_to_work'] = (demo_census[travel_time_cols].multiply(tt_medians, axis = 1).sum(axis =1))/demo_census['AJXEE001']\n",
    "\n",
    "# create income info\n",
    "# demo_census['pct60plusmincommute'] = (demo_census[['AJXEE012','AJXEE013']].sum(axis=1))/demo_census['AJXEE001']\n",
    "cell_inc = demos.groupby(['COUNTYA','TRACTA'], as_index=False).apply(lambda x: \n",
    "                    (x['AJWME001']*x['AJ0EE001']).sum(axis = 0)/x['AJWME001'].sum(axis=0))\n",
    "cell_inc.columns = ['COUNTYA', 'TRACTA', 'inc_per_capita']\n",
    "demo_census = pd.merge(demo_census, cell_inc, how = 'left', on = ['COUNTYA', 'TRACTA'])\n",
    "\n",
    "demo_df = demo_census[['COUNTYA','TRACTA','AJWME001',\n",
    "                       'pct25_34yrs','pct35_50yrs','pctover65yrs',\n",
    "                       'pctwhite_alone','pct_nonwhite','pctblack_alone',\n",
    "                       'pct_col_grad','pctPTcommute',\n",
    "                       '25_34yrs','35_50yrs','over65yrs',\n",
    "                       'white_alone','nonwhite','black_alone',\n",
    "                       'col_grad','PTcommute',\n",
    "                       'avg_tt_to_work','inc_per_capita']].fillna(0)\n",
    "\n",
    "demo_df = demo_df.rename(columns = {'AJWME001':'tot_population'})\n",
    "\n",
    "demo_df['geoid'] = '17_'+demo_df['COUNTYA'].astype(str)+'_'+demo_df['TRACTA'].astype(str)"
   ]
  },
  {
   "cell_type": "markdown",
   "metadata": {},
   "source": [
    "## Census Tract Area"
   ]
  },
  {
   "cell_type": "code",
   "execution_count": 16,
   "metadata": {},
   "outputs": [],
   "source": [
    "census_area = gpd.read_file(data_dir+\"tl_2018_17_tract/tl_2018_17_tract.shp\")"
   ]
  },
  {
   "cell_type": "code",
   "execution_count": 17,
   "metadata": {},
   "outputs": [],
   "source": [
    "census_area['geometry'] = census_area['geometry'].to_crs('epsg:26916')\n",
    "census_area['area'] = census_area['geometry'].area/1000000\n",
    "census_area['geoid'] = census_area['STATEFP'].astype(str)+'_'+census_area['COUNTYFP'].str.lstrip('0')+'_'+census_area['TRACTCE'].str.lstrip('0')\n"
   ]
  },
  {
   "cell_type": "code",
   "execution_count": 18,
   "metadata": {},
   "outputs": [],
   "source": [
    "census_area['INTPTLON'] = census_area['INTPTLON'].astype(float)\n",
    "census_area['INTPTLAT'] = census_area['INTPTLAT'].astype(float)"
   ]
  },
  {
   "cell_type": "code",
   "execution_count": 19,
   "metadata": {},
   "outputs": [],
   "source": [
    "demo_df = demo_df.merge(census_area[['geoid','area','INTPTLAT','INTPTLON']], on='geoid')"
   ]
  },
  {
   "cell_type": "code",
   "execution_count": 20,
   "metadata": {},
   "outputs": [],
   "source": [
    "demo_df.to_csv(data_dir+\"demo_tract.csv\", index=False)"
   ]
  },
  {
   "cell_type": "code",
   "execution_count": 23,
   "metadata": {},
   "outputs": [
    {
     "data": {
      "text/plain": [
       "Index(['COUNTYA', 'TRACTA', 'tot_population', 'pct25_34yrs', 'pct35_50yrs',\n",
       "       'pctover65yrs', 'pctwhite_alone', 'pct_nonwhite', 'pctblack_alone',\n",
       "       'pct_col_grad', 'pctPTcommute', '25_34yrs', '35_50yrs', 'over65yrs',\n",
       "       'white_alone', 'nonwhite', 'black_alone', 'col_grad', 'PTcommute',\n",
       "       'avg_tt_to_work', 'inc_per_capita', 'geoid', 'area', 'INTPTLAT',\n",
       "       'INTPTLON'],\n",
       "      dtype='object')"
      ]
     },
     "execution_count": 23,
     "metadata": {},
     "output_type": "execute_result"
    }
   ],
   "source": [
    "demo_df.columns"
   ]
  },
  {
   "cell_type": "markdown",
   "metadata": {},
   "source": [
    "## Crimes"
   ]
  },
  {
   "cell_type": "code",
   "execution_count": null,
   "metadata": {},
   "outputs": [],
   "source": [
    "crimes = pd.read_csv(data_dir+\"crimes_2021.csv\")\n",
    "crimes_code = pd.read_csv(data_dir+\"NIBRS_criminal_code.csv\")\n",
    "\n",
    "crimes = pd.merge(crimes, crimes_code, on='FBI Code')\n",
    "\n",
    "crimes.dropna(subset='Location', inplace=True)\n",
    "crimes = crimes[['Date','FBI Code','FBI Code Category','Latitude','Longitude']]\n",
    "crimes = gpd.GeoDataFrame(crimes, geometry=gpd.points_from_xy(crimes.Longitude, crimes.Latitude), crs='epsg:4326')"
   ]
  },
  {
   "cell_type": "code",
   "execution_count": null,
   "metadata": {},
   "outputs": [],
   "source": []
  },
  {
   "cell_type": "code",
   "execution_count": null,
   "metadata": {},
   "outputs": [],
   "source": []
  },
  {
   "cell_type": "code",
   "execution_count": null,
   "metadata": {},
   "outputs": [],
   "source": []
  },
  {
   "cell_type": "code",
   "execution_count": null,
   "metadata": {},
   "outputs": [],
   "source": []
  }
 ],
 "metadata": {
  "kernelspec": {
   "display_name": "Python 3 (ipykernel)",
   "language": "python",
   "name": "python3"
  },
  "language_info": {
   "codemirror_mode": {
    "name": "ipython",
    "version": 3
   },
   "file_extension": ".py",
   "mimetype": "text/x-python",
   "name": "python",
   "nbconvert_exporter": "python",
   "pygments_lexer": "ipython3",
   "version": "3.8.3"
  }
 },
 "nbformat": 4,
 "nbformat_minor": 4
}
