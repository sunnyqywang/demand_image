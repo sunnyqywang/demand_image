{
 "cells": [
  {
   "cell_type": "code",
   "execution_count": 1,
   "id": "8acfa07f",
   "metadata": {},
   "outputs": [],
   "source": [
    "import sys\n",
    "sys.path.append(\"models/\")\n",
    "from setup import out_dir, data_dir, image_dir, model_dir\n",
    "%load_ext autoreload\n",
    "%autoreload 2\n",
    "\n",
    "import os\n",
    "from datetime import datetime\n",
    "import json\n",
    "from collections import OrderedDict\n",
    "import logging\n",
    "import argparse\n",
    "import numpy as np\n",
    "import random\n",
    "import matplotlib.pyplot as plt\n",
    "import glob\n",
    "import pandas as pd\n",
    "\n",
    "import torch\n",
    "import torch.nn as nn\n",
    "import torch.optim\n",
    "import torch.utils.data\n",
    "import torch.backends.cudnn\n",
    "import torchvision.utils\n",
    "import torchvision.transforms\n",
    "import torch.nn.functional as F\n",
    "\n",
    "try:\n",
    "    from tensorboardX import SummaryWriter\n",
    "    is_tensorboard_available = True\n",
    "except Exception:\n",
    "    is_tensorboard_available = False\n",
    "\n",
    "from dataloader import image_loader\n",
    "from autoencoder import Autoencoder\n",
    "from M1_util_train_test import load_model, train, test, AverageMeter\n",
    "from util_model import my_loss\n",
    "from exp_version import get_hp_from_version_code\n",
    "import util_image\n",
    "\n",
    "torch.backends.cudnn.benchmark = True\n",
    "\n",
    "logging.basicConfig(\n",
    "    format='[%(asctime)s %(name)s %(levelname)s] - %(message)s',\n",
    "    datefmt='%Y/%m/%d %H:%M:%S',\n",
    "    level=logging.DEBUG)\n",
    "logger = logging.getLogger(__name__)\n"
   ]
  },
  {
   "cell_type": "markdown",
   "id": "eb63a9b8",
   "metadata": {},
   "source": [
    "# Load data"
   ]
  },
  {
   "cell_type": "code",
   "execution_count": 2,
   "id": "85dce436",
   "metadata": {},
   "outputs": [
    {
     "name": "stdout",
     "output_type": "stream",
     "text": [
      "28278 images in dataset\n",
      "3142 images in dataset\n"
     ]
    }
   ],
   "source": [
    "# data loaders\n",
    "zoomlevel = 'zoom15'\n",
    "data_version = '1571'\n",
    "sampling = 'stratified'\n",
    "batch_size = 16\n",
    "num_workers = 8\n",
    "image_size = 224\n",
    "im_norm = 1\n",
    "\n",
    "train_loader, test_loader = image_loader(image_dir+zoomlevel+\"/\", data_dir, batch_size, \n",
    "         num_workers, \n",
    "         image_size, \n",
    "         data_version=data_version, \n",
    "         sampling=sampling, \n",
    "         recalculate_normalize=False,\n",
    "         augment=False,\n",
    "         norm=int(im_norm),\n",
    "         demo = 0)"
   ]
  },
  {
   "cell_type": "markdown",
   "id": "96b98dcf",
   "metadata": {},
   "source": [
    "# Load existing models"
   ]
  },
  {
   "cell_type": "code",
   "execution_count": 89,
   "id": "1bb6ba22",
   "metadata": {},
   "outputs": [
    {
     "name": "stdout",
     "output_type": "stream",
     "text": [
      "/dreambig/qingyi/image_chicago/models/SAE/SAE_zoom15_18432_G_1_2208_335.pt loaded.\n"
     ]
    }
   ],
   "source": [
    "device = torch.device(\"cuda:0\" if torch.cuda.is_available() else \"cpu\")    \n",
    "\n",
    "loss_func = 'mse'\n",
    "latent_dim = '18432'\n",
    "image_size = str(image_size)\n",
    "model_run_date = '2208'\n",
    "v1 = 'G'\n",
    "v2 = '1'\n",
    "\n",
    "model_path = glob.glob(model_dir+\"SAE/SAE_\"+zoomlevel+\"_\"+latent_dim+\"_\"+v1+\"_\"+v2+\\\n",
    "                       \"_\"+model_run_date+\"_*.pt\")\n",
    "if len(model_path) == 1:\n",
    "    saved = torch.load(model_path[0])\n",
    "    print(model_path[0], \"loaded.\")\n",
    "else:\n",
    "    print(\"Error. More than one model or no model exists.\")\n",
    "    print(model_path)\n"
   ]
  },
  {
   "cell_type": "code",
   "execution_count": 90,
   "id": "03154b06",
   "metadata": {},
   "outputs": [
    {
     "name": "stdout",
     "output_type": "stream",
     "text": [
      "n_params: 31961862\n"
     ]
    }
   ],
   "source": [
    "config = saved['config']\n",
    "\n",
    "encoder = config['encoder']\n",
    "decoder = config['decoder']\n",
    "\n",
    "model = load_model('autoencoder','Autoencoder', config)\n",
    "model = model.to(device)\n",
    "\n",
    "n_params = sum([param.view(-1).size()[0] for param in encoder.parameters()]) + \\\n",
    "           sum([param.view(-1).size()[0] for param in decoder.parameters()])\n",
    "\n",
    "print('n_params: {}'.format(n_params))\n",
    "\n",
    "model_config = config['model_config']\n",
    "run_config = config['run_config']\n",
    "data_config = config['data_config']\n",
    "optim_config = config['optim_config']"
   ]
  },
  {
   "cell_type": "code",
   "execution_count": 91,
   "id": "eefa35c5",
   "metadata": {},
   "outputs": [],
   "source": [
    "model.load_state_dict(saved['model_state_dict']);\n",
    "\n",
    "model = model.to(device)\n",
    "model.eval();"
   ]
  },
  {
   "cell_type": "code",
   "execution_count": 92,
   "id": "7864dc81",
   "metadata": {},
   "outputs": [],
   "source": [
    "criterion = my_loss\n"
   ]
  },
  {
   "cell_type": "code",
   "execution_count": 93,
   "id": "4fa4e1b5",
   "metadata": {},
   "outputs": [],
   "source": [
    "def save_reconstruction():\n",
    "\n",
    "    for step, (image_list, data, _) in enumerate(test_loader):\n",
    "\n",
    "        data = data.to(device)\n",
    "        recon_imgs, out_demo = model(data)\n",
    "\n",
    "        if int(im_norm) != 0:\n",
    "            if int(im_norm) == 1:\n",
    "                if zoomlevel == 'zoom13':\n",
    "                    mean = [0.3733, 0.3991, 0.3711]\n",
    "                    std = [0.2173, 0.2055, 0.2143]\n",
    "                elif zoomlevel == 'zoom15':\n",
    "                    mean = [0.3816, 0.4169, 0.3868]\n",
    "                    std = [0.1960, 0.1848, 0.2052]\n",
    "\n",
    "            elif int(im_norm) == 2:\n",
    "                mean = [0.5,0.5,0.5]\n",
    "                std = [0.5,0.5,0.5]\n",
    "\n",
    "            data = util_image.inverse_transform(data, mean, std)\n",
    "            recon_imgs = util_image.inverse_transform(recon_imgs, mean, std)\n",
    "\n",
    "        plot_image = 1\n",
    "        fig, ax = plt.subplots(1, 1, figsize=(2,2))\n",
    "        ax.imshow(recon_imgs[plot_image,:,:,:].permute(1,2,0).detach().cpu().numpy())\n",
    "        ax.axis('off')\n",
    "\n",
    "        fig.savefig(out_dir+\"SAE_recon/\"+zoomlevel+\"_\"+latent_dim+\"_\"+v1+\"_\"+v2+\\\n",
    "                   \"_\"+model_run_date+\"_\"+str(plot_image)+\".png\")\n",
    "\n",
    "        plot_image = 15\n",
    "        fig, ax = plt.subplots(1, 1, figsize=(2,2))\n",
    "        ax.imshow(recon_imgs[plot_image,:,:,:].permute(1,2,0).detach().cpu().numpy())\n",
    "        ax.axis('off')\n",
    "\n",
    "        fig.savefig(out_dir+\"SAE_recon/\"+zoomlevel+\"_\"+latent_dim+\"_\"+v1+\"_\"+v2+\\\n",
    "                   \"_\"+model_run_date+\"_\"+str(plot_image)+\".png\")\n",
    "\n",
    "        break"
   ]
  },
  {
   "cell_type": "code",
   "execution_count": 94,
   "id": "7d3341e8",
   "metadata": {},
   "outputs": [
    {
     "data": {
      "image/png": "[encoded data removed]",
      "text/plain": [
       "<Figure size 144x144 with 1 Axes>"
      ]
     },
     "metadata": {
      "needs_background": "light"
     },
     "output_type": "display_data"
    },
    {
     "data": {
      "image/png": "[encoded data removed]",
      "text/plain": [
       "<Figure size 144x144 with 1 Axes>"
      ]
     },
     "metadata": {
      "needs_background": "light"
     },
     "output_type": "display_data"
    }
   ],
   "source": [
    "save_reconstruction()"
   ]
  },
  {
   "cell_type": "code",
   "execution_count": 95,
   "id": "9a23082d",
   "metadata": {},
   "outputs": [],
   "source": [
    "def get_losses():\n",
    "    loss_meter_1 = AverageMeter()\n",
    "    loss_meter_2 = torch.zeros(10)\n",
    "    \n",
    "    for step, (image_list, data, demo) in enumerate(train_loader):\n",
    "\n",
    "        demo = demo.to(device)\n",
    "        data = data.to(device)\n",
    "\n",
    "        recon_imgs, out_demo = model(data)\n",
    "\n",
    "        loss1, loss2 = criterion(recon_imgs, out_demo, data, demo, return_components=True)\n",
    "\n",
    "        loss_meter_2 += loss2\n",
    "        \n",
    "        num = data.size(0)\n",
    "\n",
    "        loss_meter_1.update(loss1.item(), num)\n",
    "\n",
    "#         if step % 10 == 0:\n",
    "#             print(step, end='\\t')\n",
    "\n",
    "    best_1 = loss_meter_1.avg\n",
    "    best_2 = loss_meter_2 / step\n",
    "    \n",
    "    loss_meter_1 = AverageMeter()\n",
    "    loss_meter_2 = torch.zeros(10)\n",
    "\n",
    "    for step, (image_list, data, demo) in enumerate(test_loader):\n",
    "\n",
    "        demo = demo.to(device)\n",
    "        data = data.to(device)\n",
    "\n",
    "        recon_imgs, out_demo = model(data)\n",
    "\n",
    "        loss1, loss2 = criterion(recon_imgs, out_demo, data, demo, return_components=True)\n",
    "\n",
    "        loss_meter_2 += loss2\n",
    "\n",
    "        num = data.size(0)\n",
    "\n",
    "        loss_meter_1.update(loss1.item(), num)\n",
    "\n",
    "    best_test_2 = loss_meter_2 / step\n",
    "\n",
    "    best_test_1 = loss_meter_1.avg\n",
    "    # best_test_2 = loss_meter_2.avg\n",
    "    # print(best_test_1, best_test_2)         \n",
    "    return best_1, best_2, best_test_1, best_test_2"
   ]
  },
  {
   "cell_type": "code",
   "execution_count": 96,
   "id": "161f825d",
   "metadata": {},
   "outputs": [],
   "source": [
    "recon_loss_train, demo_loss_train, recon_loss, demo_loss = get_losses()\n"
   ]
  },
  {
   "cell_type": "code",
   "execution_count": 97,
   "id": "120c0bdd",
   "metadata": {},
   "outputs": [],
   "source": [
    "with open(out_dir+\"SAE_demo_loss.csv\", \"a\") as f:\n",
    "    f.write(\"%s,%s,%s,%s,%s,%s,\" %\n",
    "            (model_run_date, zoomlevel, latent_dim, image_size, \n",
    "             v1, v2))\n",
    "    f.write(\"%.4f,%.4f,%.4f,%.4f,%.4f,%.4f,%.4f,%.4f,%.4f,%.4f,\" % tuple(demo_loss_train.numpy()))\n",
    "    f.write(\"%.4f,%.4f,%.4f,%.4f,%.4f,%.4f,%.4f,%.4f,%.4f,%.4f\\n\" % tuple(demo_loss.numpy()))\n"
   ]
  },
  {
   "cell_type": "code",
   "execution_count": null,
   "id": "4ab43f1a",
   "metadata": {},
   "outputs": [],
   "source": []
  },
  {
   "cell_type": "code",
   "execution_count": null,
   "id": "a35acc5b",
   "metadata": {},
   "outputs": [],
   "source": []
  },
  {
   "cell_type": "code",
   "execution_count": 50,
   "id": "883a8807",
   "metadata": {},
   "outputs": [],
   "source": [
    "demo_mean = [0.03459964, 0.27158335, 0.44796609, 0.2635742 , 0.67193107, 0.3281, \n",
    "       0.15872199, 0.45013084, 0.61496312, 0.26206151]"
   ]
  },
  {
   "cell_type": "code",
   "execution_count": 2,
   "id": "2d80c5c8",
   "metadata": {},
   "outputs": [
    {
     "ename": "FileNotFoundError",
     "evalue": "[Errno 2] No such file or directory: '/home/jtl/Dropbox (MIT)/project_image_demand/results/SAE_demo_loss.csv'",
     "output_type": "error",
     "traceback": [
      "\u001b[0;31m---------------------------------------------------------------------------\u001b[0m",
      "\u001b[0;31mFileNotFoundError\u001b[0m                         Traceback (most recent call last)",
      "\u001b[0;32m<ipython-input-2-3c6548e1d251>\u001b[0m in \u001b[0;36m<module>\u001b[0;34m\u001b[0m\n\u001b[0;32m----> 1\u001b[0;31m \u001b[0mdemo_loss_df\u001b[0m \u001b[0;34m=\u001b[0m \u001b[0mpd\u001b[0m\u001b[0;34m.\u001b[0m\u001b[0mread_csv\u001b[0m\u001b[0;34m(\u001b[0m\u001b[0mout_dir\u001b[0m\u001b[0;34m+\u001b[0m\u001b[0;34m\"SAE_demo_loss.csv\"\u001b[0m\u001b[0;34m)\u001b[0m\u001b[0;34m\u001b[0m\u001b[0;34m\u001b[0m\u001b[0m\n\u001b[0m",
      "\u001b[0;32m~/anaconda3/envs/qingyi/lib/python3.8/site-packages/pandas/util/_decorators.py\u001b[0m in \u001b[0;36mwrapper\u001b[0;34m(*args, **kwargs)\u001b[0m\n\u001b[1;32m    309\u001b[0m                     \u001b[0mstacklevel\u001b[0m\u001b[0;34m=\u001b[0m\u001b[0mstacklevel\u001b[0m\u001b[0;34m,\u001b[0m\u001b[0;34m\u001b[0m\u001b[0;34m\u001b[0m\u001b[0m\n\u001b[1;32m    310\u001b[0m                 )\n\u001b[0;32m--> 311\u001b[0;31m             \u001b[0;32mreturn\u001b[0m \u001b[0mfunc\u001b[0m\u001b[0;34m(\u001b[0m\u001b[0;34m*\u001b[0m\u001b[0margs\u001b[0m\u001b[0;34m,\u001b[0m \u001b[0;34m**\u001b[0m\u001b[0mkwargs\u001b[0m\u001b[0;34m)\u001b[0m\u001b[0;34m\u001b[0m\u001b[0;34m\u001b[0m\u001b[0m\n\u001b[0m\u001b[1;32m    312\u001b[0m \u001b[0;34m\u001b[0m\u001b[0m\n\u001b[1;32m    313\u001b[0m         \u001b[0;32mreturn\u001b[0m \u001b[0mwrapper\u001b[0m\u001b[0;34m\u001b[0m\u001b[0;34m\u001b[0m\u001b[0m\n",
      "\u001b[0;32m~/anaconda3/envs/qingyi/lib/python3.8/site-packages/pandas/io/parsers/readers.py\u001b[0m in \u001b[0;36mread_csv\u001b[0;34m(filepath_or_buffer, sep, delimiter, header, names, index_col, usecols, squeeze, prefix, mangle_dupe_cols, dtype, engine, converters, true_values, false_values, skipinitialspace, skiprows, skipfooter, nrows, na_values, keep_default_na, na_filter, verbose, skip_blank_lines, parse_dates, infer_datetime_format, keep_date_col, date_parser, dayfirst, cache_dates, iterator, chunksize, compression, thousands, decimal, lineterminator, quotechar, quoting, doublequote, escapechar, comment, encoding, encoding_errors, dialect, error_bad_lines, warn_bad_lines, on_bad_lines, delim_whitespace, low_memory, memory_map, float_precision, storage_options)\u001b[0m\n\u001b[1;32m    678\u001b[0m     \u001b[0mkwds\u001b[0m\u001b[0;34m.\u001b[0m\u001b[0mupdate\u001b[0m\u001b[0;34m(\u001b[0m\u001b[0mkwds_defaults\u001b[0m\u001b[0;34m)\u001b[0m\u001b[0;34m\u001b[0m\u001b[0;34m\u001b[0m\u001b[0m\n\u001b[1;32m    679\u001b[0m \u001b[0;34m\u001b[0m\u001b[0m\n\u001b[0;32m--> 680\u001b[0;31m     \u001b[0;32mreturn\u001b[0m \u001b[0m_read\u001b[0m\u001b[0;34m(\u001b[0m\u001b[0mfilepath_or_buffer\u001b[0m\u001b[0;34m,\u001b[0m \u001b[0mkwds\u001b[0m\u001b[0;34m)\u001b[0m\u001b[0;34m\u001b[0m\u001b[0;34m\u001b[0m\u001b[0m\n\u001b[0m\u001b[1;32m    681\u001b[0m \u001b[0;34m\u001b[0m\u001b[0m\n\u001b[1;32m    682\u001b[0m \u001b[0;34m\u001b[0m\u001b[0m\n",
      "\u001b[0;32m~/anaconda3/envs/qingyi/lib/python3.8/site-packages/pandas/io/parsers/readers.py\u001b[0m in \u001b[0;36m_read\u001b[0;34m(filepath_or_buffer, kwds)\u001b[0m\n\u001b[1;32m    573\u001b[0m \u001b[0;34m\u001b[0m\u001b[0m\n\u001b[1;32m    574\u001b[0m     \u001b[0;31m# Create the parser.\u001b[0m\u001b[0;34m\u001b[0m\u001b[0;34m\u001b[0m\u001b[0;34m\u001b[0m\u001b[0m\n\u001b[0;32m--> 575\u001b[0;31m     \u001b[0mparser\u001b[0m \u001b[0;34m=\u001b[0m \u001b[0mTextFileReader\u001b[0m\u001b[0;34m(\u001b[0m\u001b[0mfilepath_or_buffer\u001b[0m\u001b[0;34m,\u001b[0m \u001b[0;34m**\u001b[0m\u001b[0mkwds\u001b[0m\u001b[0;34m)\u001b[0m\u001b[0;34m\u001b[0m\u001b[0;34m\u001b[0m\u001b[0m\n\u001b[0m\u001b[1;32m    576\u001b[0m \u001b[0;34m\u001b[0m\u001b[0m\n\u001b[1;32m    577\u001b[0m     \u001b[0;32mif\u001b[0m \u001b[0mchunksize\u001b[0m \u001b[0;32mor\u001b[0m \u001b[0miterator\u001b[0m\u001b[0;34m:\u001b[0m\u001b[0;34m\u001b[0m\u001b[0;34m\u001b[0m\u001b[0m\n",
      "\u001b[0;32m~/anaconda3/envs/qingyi/lib/python3.8/site-packages/pandas/io/parsers/readers.py\u001b[0m in \u001b[0;36m__init__\u001b[0;34m(self, f, engine, **kwds)\u001b[0m\n\u001b[1;32m    931\u001b[0m \u001b[0;34m\u001b[0m\u001b[0m\n\u001b[1;32m    932\u001b[0m         \u001b[0mself\u001b[0m\u001b[0;34m.\u001b[0m\u001b[0mhandles\u001b[0m\u001b[0;34m:\u001b[0m \u001b[0mIOHandles\u001b[0m \u001b[0;34m|\u001b[0m \u001b[0;32mNone\u001b[0m \u001b[0;34m=\u001b[0m \u001b[0;32mNone\u001b[0m\u001b[0;34m\u001b[0m\u001b[0;34m\u001b[0m\u001b[0m\n\u001b[0;32m--> 933\u001b[0;31m         \u001b[0mself\u001b[0m\u001b[0;34m.\u001b[0m\u001b[0m_engine\u001b[0m \u001b[0;34m=\u001b[0m \u001b[0mself\u001b[0m\u001b[0;34m.\u001b[0m\u001b[0m_make_engine\u001b[0m\u001b[0;34m(\u001b[0m\u001b[0mf\u001b[0m\u001b[0;34m,\u001b[0m \u001b[0mself\u001b[0m\u001b[0;34m.\u001b[0m\u001b[0mengine\u001b[0m\u001b[0;34m)\u001b[0m\u001b[0;34m\u001b[0m\u001b[0;34m\u001b[0m\u001b[0m\n\u001b[0m\u001b[1;32m    934\u001b[0m \u001b[0;34m\u001b[0m\u001b[0m\n\u001b[1;32m    935\u001b[0m     \u001b[0;32mdef\u001b[0m \u001b[0mclose\u001b[0m\u001b[0;34m(\u001b[0m\u001b[0mself\u001b[0m\u001b[0;34m)\u001b[0m\u001b[0;34m:\u001b[0m\u001b[0;34m\u001b[0m\u001b[0;34m\u001b[0m\u001b[0m\n",
      "\u001b[0;32m~/anaconda3/envs/qingyi/lib/python3.8/site-packages/pandas/io/parsers/readers.py\u001b[0m in \u001b[0;36m_make_engine\u001b[0;34m(self, f, engine)\u001b[0m\n\u001b[1;32m   1215\u001b[0m             \u001b[0;31m# \"Union[str, PathLike[str], ReadCsvBuffer[bytes], ReadCsvBuffer[str]]\"\u001b[0m\u001b[0;34m\u001b[0m\u001b[0;34m\u001b[0m\u001b[0;34m\u001b[0m\u001b[0m\n\u001b[1;32m   1216\u001b[0m             \u001b[0;31m# , \"str\", \"bool\", \"Any\", \"Any\", \"Any\", \"Any\", \"Any\"\u001b[0m\u001b[0;34m\u001b[0m\u001b[0;34m\u001b[0m\u001b[0;34m\u001b[0m\u001b[0m\n\u001b[0;32m-> 1217\u001b[0;31m             self.handles = get_handle(  # type: ignore[call-overload]\n\u001b[0m\u001b[1;32m   1218\u001b[0m                 \u001b[0mf\u001b[0m\u001b[0;34m,\u001b[0m\u001b[0;34m\u001b[0m\u001b[0;34m\u001b[0m\u001b[0m\n\u001b[1;32m   1219\u001b[0m                 \u001b[0mmode\u001b[0m\u001b[0;34m,\u001b[0m\u001b[0;34m\u001b[0m\u001b[0;34m\u001b[0m\u001b[0m\n",
      "\u001b[0;32m~/anaconda3/envs/qingyi/lib/python3.8/site-packages/pandas/io/common.py\u001b[0m in \u001b[0;36mget_handle\u001b[0;34m(path_or_buf, mode, encoding, compression, memory_map, is_text, errors, storage_options)\u001b[0m\n\u001b[1;32m    787\u001b[0m         \u001b[0;32mif\u001b[0m \u001b[0mioargs\u001b[0m\u001b[0;34m.\u001b[0m\u001b[0mencoding\u001b[0m \u001b[0;32mand\u001b[0m \u001b[0;34m\"b\"\u001b[0m \u001b[0;32mnot\u001b[0m \u001b[0;32min\u001b[0m \u001b[0mioargs\u001b[0m\u001b[0;34m.\u001b[0m\u001b[0mmode\u001b[0m\u001b[0;34m:\u001b[0m\u001b[0;34m\u001b[0m\u001b[0;34m\u001b[0m\u001b[0m\n\u001b[1;32m    788\u001b[0m             \u001b[0;31m# Encoding\u001b[0m\u001b[0;34m\u001b[0m\u001b[0;34m\u001b[0m\u001b[0;34m\u001b[0m\u001b[0m\n\u001b[0;32m--> 789\u001b[0;31m             handle = open(\n\u001b[0m\u001b[1;32m    790\u001b[0m                 \u001b[0mhandle\u001b[0m\u001b[0;34m,\u001b[0m\u001b[0;34m\u001b[0m\u001b[0;34m\u001b[0m\u001b[0m\n\u001b[1;32m    791\u001b[0m                 \u001b[0mioargs\u001b[0m\u001b[0;34m.\u001b[0m\u001b[0mmode\u001b[0m\u001b[0;34m,\u001b[0m\u001b[0;34m\u001b[0m\u001b[0;34m\u001b[0m\u001b[0m\n",
      "\u001b[0;31mFileNotFoundError\u001b[0m: [Errno 2] No such file or directory: '/home/jtl/Dropbox (MIT)/project_image_demand/results/SAE_demo_loss.csv'"
     ]
    }
   ],
   "source": [
    "demo_loss_df = pd.read_csv(out_dir+\"SAE_demo_loss.csv\")"
   ]
  },
  {
   "cell_type": "code",
   "execution_count": 27,
   "id": "1f23c3e7",
   "metadata": {},
   "outputs": [],
   "source": [
    "demo_vars = ['pop_density','pct25_34yrs','pct35_50yrs','pctover65yrs',\n",
    "                 'pctwhite_alone','pct_nonwhite','pctblack_alone',\n",
    "                 'pct_col_grad','avg_tt_to_work','inc_per_capita']"
   ]
  },
  {
   "cell_type": "code",
   "execution_count": 51,
   "id": "36590d66",
   "metadata": {},
   "outputs": [],
   "source": [
    "for v,m in zip(demo_vars, demo_mean):\n",
    "    demo_loss_df['test_'+v] /= m\n",
    "    demo_loss_df[v] /= m"
   ]
  },
  {
   "cell_type": "code",
   "execution_count": 7,
   "id": "2d04eb7a",
   "metadata": {},
   "outputs": [],
   "source": [
    "cmap = plt.get_cmap('YlGnBu')\n",
    "\n",
    "colors = cmap(np.linspace(0.25,0.75,5))\n"
   ]
  },
  {
   "cell_type": "code",
   "execution_count": 28,
   "id": "0c6e08d9",
   "metadata": {},
   "outputs": [],
   "source": [
    "xlabels = ['pop density','pct25-34yrs','pct35-50yrs','pct over65yrs',\n",
    "                 'pct white','pct non-white','pct black',\n",
    "                 'pct col grad','avg tt to work','income']"
   ]
  },
  {
   "cell_type": "code",
   "execution_count": 15,
   "id": "6ccf7d78",
   "metadata": {},
   "outputs": [],
   "source": [
    "demo_loss_df['recon_loss'] = [0.2798,0.278,0.439,0.5851,0.5151]\n",
    "demo_loss_df['test_recon_loss'] = [0.2824,0.2836,0.4463,0.5856,0.5192]"
   ]
  },
  {
   "cell_type": "code",
   "execution_count": null,
   "id": "fee3575b",
   "metadata": {},
   "outputs": [],
   "source": []
  },
  {
   "cell_type": "code",
   "execution_count": 52,
   "id": "d909011a",
   "metadata": {},
   "outputs": [
    {
     "data": {
      "image/png": "[encoded data removed]",
      "text/plain": [
       "<Figure size 576x216 with 1 Axes>"
      ]
     },
     "metadata": {
      "needs_background": "light"
     },
     "output_type": "display_data"
    }
   ],
   "source": [
    "fig, ax = plt.subplots(figsize=(8,3))\n",
    "demo_loss_df[['test_'+x for x in demo_vars]].set_index(pd.Index(['0.1','1','10','1000','100'])).sort_index().T.plot.bar(ax=ax, color=colors, width=0.8)\n",
    "ax.legend(title='       \\u03BB  ')\n",
    "ax.set_ylabel(\"Prediction Error\")\n",
    "ax.set_xticklabels(xlabels, rotation=20);\n"
   ]
  },
  {
   "cell_type": "code",
   "execution_count": 49,
   "id": "d0e4c0ef",
   "metadata": {},
   "outputs": [
    {
     "data": {
      "image/png": "[encoded data removed]",
      "text/plain": [
       "<Figure size 108x216 with 1 Axes>"
      ]
     },
     "metadata": {
      "needs_background": "light"
     },
     "output_type": "display_data"
    }
   ],
   "source": [
    "fig, ax = plt.subplots(figsize=(1.5,3))\n",
    "demo_loss_df[['test_recon_loss']].set_index(pd.Index(['0.1','1','10','1000','100'])).sort_index().T.plot.bar(ax=ax, color=colors, width=0.8)\n",
    "# ax.legend(title='       \\u03BB  ')\n",
    "ax.legend().set_visible(False)\n",
    "ax.set_ylabel(\"Reconstruction MSE\")\n",
    "ax.set_xticklabels(['recon error'],rotation=20);\n"
   ]
  },
  {
   "cell_type": "code",
   "execution_count": 11,
   "id": "841b6715",
   "metadata": {},
   "outputs": [
    {
     "data": {
      "image/png": "[encoded data removed]",
      "text/plain": [
       "<Figure size 576x216 with 1 Axes>"
      ]
     },
     "metadata": {
      "needs_background": "light"
     },
     "output_type": "display_data"
    }
   ],
   "source": [
    "fig, ax = plt.subplots(figsize=(8,3))\n",
    "demo_loss_df[demo_vars].set_index(pd.Index(['0.1','1','10','1000','100'])).sort_index().T.plot.bar(ax=ax, color=colors, width=0.8)\n",
    "ax.legend(title='       \\u03BB  ')\n",
    "ax.set_ylabel(\"Error\")\n",
    "ax.set_xticklabels(xlabels, rotation=20);"
   ]
  },
  {
   "cell_type": "code",
   "execution_count": null,
   "id": "b0ce6c60",
   "metadata": {},
   "outputs": [],
   "source": []
  }
 ],
 "metadata": {
  "kernelspec": {
   "display_name": "qingyi",
   "language": "python",
   "name": "qingyi"
  },
  "language_info": {
   "codemirror_mode": {
    "name": "ipython",
    "version": 3
   },
   "file_extension": ".py",
   "mimetype": "text/x-python",
   "name": "python",
   "nbconvert_exporter": "python",
   "pygments_lexer": "ipython3",
   "version": "3.8.3"
  }
 },
 "nbformat": 4,
 "nbformat_minor": 5
}
