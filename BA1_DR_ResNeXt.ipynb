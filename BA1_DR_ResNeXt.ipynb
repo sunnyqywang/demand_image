{
 "cells": [
  {
   "cell_type": "markdown",
   "metadata": {},
   "source": [
    "# Direct Regression from Images to Travel Behavior Variables"
   ]
  },
  {
   "cell_type": "code",
   "execution_count": 1,
   "metadata": {},
   "outputs": [
    {
     "name": "stderr",
     "output_type": "stream",
     "text": [
      "[2022/02/04 10:29:52 matplotlib.backends DEBUG] - backend module://ipykernel.pylab.backend_inline version unknown\n"
     ]
    }
   ],
   "source": [
    "from setup import out_dir, data_dir, image_dir, model_dir\n",
    "%load_ext autoreload\n",
    "%autoreload 2\n",
    "\n",
    "import os\n",
    "from datetime import datetime\n",
    "import json\n",
    "from collections import OrderedDict\n",
    "import logging\n",
    "import numpy as np\n",
    "import random\n",
    "import matplotlib.pyplot as plt\n",
    "plt.rcParams.update({\"font.size\":14})\n",
    "%matplotlib inline\n",
    "import glob\n",
    "import pandas as pd\n",
    "import time \n",
    "\n",
    "import torch\n",
    "import torch.nn as nn\n",
    "import torch.optim\n",
    "import torch.utils.data\n",
    "import torch.backends.cudnn\n",
    "import torchvision.utils\n",
    "import torchvision.transforms\n",
    "import torch.nn.functional as F\n",
    "\n",
    "try:\n",
    "    from tensorboardX import SummaryWriter\n",
    "    is_tensorboard_available = True\n",
    "except Exception:\n",
    "    is_tensorboard_available = False\n",
    "\n",
    "from dataloader import image_loader_DR, load_demo\n",
    "from util_model import load_model, AverageMeter\n",
    "\n",
    "torch.backends.cudnn.benchmark = True\n",
    "\n",
    "logging.basicConfig(\n",
    "    format='[%(asctime)s %(name)s %(levelname)s] - %(message)s',\n",
    "    datefmt='%Y/%m/%d %H:%M:%S',\n",
    "    level=logging.DEBUG)\n",
    "logger = logging.getLogger(__name__)\n",
    "\n",
    "global_step = 0\n",
    "\n",
    "from sklearn.metrics import r2_score\n",
    "from sklearn.metrics import mean_squared_error"
   ]
  },
  {
   "cell_type": "code",
   "execution_count": 2,
   "metadata": {},
   "outputs": [],
   "source": [
    "zoomlevel = 'zoom13'\n",
    "output_dim = 1\n",
    "model_run_date = \"22020302\"\n",
    "model_type = \"DR\"\n",
    "model_code = \"BA1\"\n",
    "variable_names = ['active','auto','mas','pt','trpgen']\n",
    "\n",
    "demo_variables = ['tot_population','pct25_34yrs','pct35_50yrs','pctover65yrs',\n",
    "         'pctwhite_alone','pct_nonwhite','pctblack_alone',\n",
    "         'pct_col_grad','avg_tt_to_work','inc_per_capita']\n",
    "\n",
    "device = torch.device(\"cuda:0\" if torch.cuda.is_available() else \"cpu\")\n",
    "#device = torch.device(\"cpu\")"
   ]
  },
  {
   "cell_type": "code",
   "execution_count": 3,
   "metadata": {},
   "outputs": [],
   "source": [
    "args = {'image_size': 224, \n",
    "        'depth': -1,\n",
    "        'dropout':0,\n",
    "        'n_alts': 4,\n",
    "       'base_channels':64,\n",
    "       'output_dim':output_dim,\n",
    "       'cardinality':1,\n",
    "       'epochs':200,\n",
    "       'batch_size':4,\n",
    "       'base_lr':0.005,\n",
    "       'weight_decay':0.05,\n",
    "       'momentum': 0.9,\n",
    "       'nesterov': True,\n",
    "       'milestones': '[50,100]',\n",
    "       'lr_decay':0.1,\n",
    "       'seed': 1234,\n",
    "       'outdir':out_dir,\n",
    "       'num_workers':8,\n",
    "       'tensorboard':False,\n",
    "       'save':True}\n",
    "\n",
    "model_config = OrderedDict([\n",
    "    ('arch', 'resnext'),\n",
    "    ('depth', args['depth']),\n",
    "    ('base_channels', args['base_channels']),\n",
    "    ('cardinality', args['cardinality']),\n",
    "    ('input_shape', (1, 3, 32, 32)),\n",
    "    ('output_dim', args['output_dim']),\n",
    "    ('n_alts', 4),\n",
    "    ('dropout', args['dropout'])\n",
    "])\n",
    "\n",
    "optim_config = OrderedDict([\n",
    "    ('epochs', args['epochs']),\n",
    "    ('batch_size', args['batch_size']),\n",
    "    ('base_lr', args['base_lr']),\n",
    "    ('weight_decay', args['weight_decay']),\n",
    "    ('momentum', args['momentum']),\n",
    "    ('nesterov', args['nesterov']),\n",
    "    ('milestones', json.loads(args['milestones'])),\n",
    "    ('lr_decay', args['lr_decay']),\n",
    "])\n",
    "\n",
    "data_config = OrderedDict([\n",
    "    ('dataset', 'CIFAR10'),\n",
    "    ('image_size', args['image_size'])\n",
    "])\n",
    "\n",
    "run_config = OrderedDict([\n",
    "    ('seed', args['seed']),\n",
    "    ('outdir', args['outdir']),\n",
    "    ('save', args['save']),\n",
    "    ('num_workers', args['num_workers']),\n",
    "    ('tensorboard', args['tensorboard']),\n",
    "])\n",
    "\n",
    "config = OrderedDict([\n",
    "    ('model_config', model_config),\n",
    "    ('optim_config', optim_config),\n",
    "    ('data_config', data_config),\n",
    "    ('run_config', run_config),\n",
    "])"
   ]
  },
  {
   "cell_type": "code",
   "execution_count": 4,
   "metadata": {},
   "outputs": [],
   "source": [
    "# parse command line arguments\n",
    "#config = parse_args()\n",
    "#logger.info(json.dumps(config, indent=2))\n",
    "\n",
    "model_name = datetime.now().strftime(\"%m%d-%H%M\")\n",
    "\n",
    "run_config = config['run_config']\n",
    "optim_config = config['optim_config']\n",
    "\n",
    "# TensorBoard SummaryWriter\n",
    "writer = SummaryWriter(model_name) if run_config['tensorboard'] else None\n",
    "\n",
    "# set random seed\n",
    "seed = run_config['seed']\n",
    "torch.manual_seed(seed)\n",
    "np.random.seed(seed)\n",
    "random.seed(seed)"
   ]
  },
  {
   "cell_type": "code",
   "execution_count": 5,
   "metadata": {},
   "outputs": [
    {
     "name": "stderr",
     "output_type": "stream",
     "text": [
      "[2022/02/04 10:29:52 numexpr.utils INFO] - Note: NumExpr detected 20 cores but \"NUMEXPR_MAX_THREADS\" not set, so enforcing safe limit of 8.\n",
      "[2022/02/04 10:29:52 numexpr.utils INFO] - NumExpr defaulting to 8 threads.\n"
     ]
    }
   ],
   "source": [
    "# data loaders\n",
    "train_loader, test_loader = image_loader_DR(image_dir+zoomlevel+\"/\", data_dir, optim_config['batch_size'], \n",
    "                                         run_config['num_workers'], \n",
    "                                         data_config['image_size'], \n",
    "                                         target=['active','auto','mas','pt'], \n",
    "                                         recalculate_normalize=False, num_images_per_tract=5)"
   ]
  },
  {
   "cell_type": "code",
   "execution_count": 6,
   "metadata": {},
   "outputs": [],
   "source": [
    "criterion = nn.KLDivLoss(reduction='batchmean')\n"
   ]
  },
  {
   "cell_type": "code",
   "execution_count": 7,
   "metadata": {},
   "outputs": [],
   "source": [
    "# model\n",
    "config['model_config']['input_shape'] = (1,3,data_config['image_size'],data_config['image_size'])\n",
    "\n",
    "encoder = load_model(config['model_config']['arch'], 'Encoder', config['model_config'])\n",
    "encoder = encoder.to(device)    \n",
    "\n",
    "config['encoder'] = encoder\n",
    "model = load_model('direct_regression','DirectRegression', config)\n",
    "model = model.to(device)\n",
    "\n",
    "optimizer = torch.optim.SGD(\n",
    "    model.parameters(),\n",
    "    lr=optim_config['base_lr'],\n",
    "    momentum=optim_config['momentum'],\n",
    "    weight_decay=optim_config['weight_decay'],\n",
    "    nesterov=optim_config['nesterov'])\n",
    "\n",
    "scheduler = torch.optim.lr_scheduler.MultiStepLR(\n",
    "    optimizer,\n",
    "    milestones=optim_config['milestones'],\n",
    "    gamma=optim_config['lr_decay'])"
   ]
  },
  {
   "cell_type": "code",
   "execution_count": 8,
   "metadata": {
    "scrolled": false
   },
   "outputs": [
    {
     "name": "stderr",
     "output_type": "stream",
     "text": [
      "[2022/02/04 10:30:17 __main__ INFO] - Epoch 0 Train KL Loss 0.85927105\n",
      "[2022/02/04 10:30:18 __main__ INFO] - Epoch 0 Test KL Loss 0.42376703\n",
      "[2022/02/04 10:32:00 __main__ INFO] - Epoch 5 Train KL Loss 0.28740903\n",
      "[2022/02/04 10:32:02 __main__ INFO] - Epoch 5 Test KL Loss 0.37071819\n",
      "[2022/02/04 10:33:44 __main__ INFO] - Epoch 10 Train KL Loss 0.27494198\n",
      "[2022/02/04 10:33:45 __main__ INFO] - Epoch 10 Test KL Loss 0.41265852\n",
      "[2022/02/04 10:35:27 __main__ INFO] - Epoch 15 Train KL Loss 0.26543853\n",
      "[2022/02/04 10:35:28 __main__ INFO] - Epoch 15 Test KL Loss 0.36228224\n",
      "[2022/02/04 10:37:10 __main__ INFO] - Epoch 20 Train KL Loss 0.25802151\n",
      "[2022/02/04 10:37:11 __main__ INFO] - Epoch 20 Test KL Loss 0.38554389\n",
      "[2022/02/04 10:38:53 __main__ INFO] - Epoch 25 Train KL Loss 0.25352258\n",
      "[2022/02/04 10:38:54 __main__ INFO] - Epoch 25 Test KL Loss 0.36928905\n",
      "[2022/02/04 10:40:36 __main__ INFO] - Epoch 30 Train KL Loss 0.24666461\n",
      "[2022/02/04 10:40:37 __main__ INFO] - Epoch 30 Test KL Loss 0.32961550\n",
      "[2022/02/04 10:42:19 __main__ INFO] - Epoch 35 Train KL Loss 0.24111400\n",
      "[2022/02/04 10:42:20 __main__ INFO] - Epoch 35 Test KL Loss 0.57341859\n",
      "[2022/02/04 10:44:02 __main__ INFO] - Epoch 40 Train KL Loss 0.23718745\n",
      "[2022/02/04 10:44:03 __main__ INFO] - Epoch 40 Test KL Loss 0.33214459\n",
      "[2022/02/04 10:45:45 __main__ INFO] - Epoch 45 Train KL Loss 0.23634673\n",
      "[2022/02/04 10:45:46 __main__ INFO] - Epoch 45 Test KL Loss 0.47172628\n",
      "[2022/02/04 10:47:28 __main__ INFO] - Epoch 50 Train KL Loss 0.23265656\n",
      "[2022/02/04 10:47:29 __main__ INFO] - Epoch 50 Test KL Loss 0.34417100\n",
      "[2022/02/04 10:49:11 __main__ INFO] - Epoch 55 Train KL Loss 0.22588135\n",
      "[2022/02/04 10:49:12 __main__ INFO] - Epoch 55 Test KL Loss 0.30608707\n",
      "[2022/02/04 10:50:54 __main__ INFO] - Epoch 60 Train KL Loss 0.22302118\n",
      "[2022/02/04 10:50:55 __main__ INFO] - Epoch 60 Test KL Loss 0.29562402\n",
      "[2022/02/04 10:52:36 __main__ INFO] - Epoch 65 Train KL Loss 0.22885737\n",
      "[2022/02/04 10:52:37 __main__ INFO] - Epoch 65 Test KL Loss 0.33749093\n",
      "[2022/02/04 10:54:19 __main__ INFO] - Epoch 70 Train KL Loss 0.22505970\n",
      "[2022/02/04 10:54:20 __main__ INFO] - Epoch 70 Test KL Loss 0.35900174\n"
     ]
    },
    {
     "name": "stdout",
     "output_type": "stream",
     "text": [
      "Diverging. stop.\n"
     ]
    }
   ],
   "source": [
    "ref1 = 0\n",
    "ref2 = 0\n",
    "\n",
    "train_loss_list = []\n",
    "test_loss_list = []\n",
    "\n",
    "for epoch in range(optim_config['epochs']):\n",
    "\n",
    "    model.train()\n",
    "\n",
    "    loss_meter = AverageMeter()\n",
    "    start = time.time()\n",
    "\n",
    "    for step, (batch_im, batch_y) in enumerate(train_loader):\n",
    "\n",
    "        batch_im = batch_im.to(device)\n",
    "        batch_y = batch_y.to(device)\n",
    "        optimizer.zero_grad()\n",
    "\n",
    "        out = model(batch_im)\n",
    "        probs = torch.log(nn.functional.softmax(out, dim=1))\n",
    "        \n",
    "        loss = criterion(probs, batch_y)\n",
    "        loss.backward()\n",
    "\n",
    "        optimizer.step()\n",
    "        scheduler.step()\n",
    "       \n",
    "        loss_ = loss.item()\n",
    "        loss_meter.update(loss_, len(batch_y))\n",
    "\n",
    "#         print(loss_)\n",
    "    if logger is not None:\n",
    "        if epoch % 5 == 0:\n",
    "            logger.info('Epoch {} Train KL Loss {:.8f}'.format(epoch, loss_meter.avg))\n",
    "\n",
    "    train_loss_list.append(loss_meter.avg)\n",
    "   \n",
    "    if epoch % 5 == 0:\n",
    "\n",
    "        model.eval()\n",
    "        loss_meter = AverageMeter()\n",
    "        \n",
    "        for step, (batch_im, batch_y) in enumerate(test_loader):\n",
    "            batch_im = batch_im.to(device)\n",
    "            batch_y = batch_y.to(device)\n",
    "\n",
    "            out = model(batch_im)\n",
    "            probs = torch.log(nn.functional.softmax(out, dim=1))\n",
    "\n",
    "            loss = criterion(probs, batch_y)\n",
    "\n",
    "            loss_ = loss.item()\n",
    "            loss_meter.update(loss_, len(batch_y))\n",
    "\n",
    "        test_loss_list.append(loss_meter.avg)\n",
    "\n",
    "        if logger is not None:\n",
    "            logger.info('Epoch {} Test KL Loss {:.8f}'.format(epoch, loss_meter.avg))\n",
    "            elapsed = time.time() - start\n",
    "        \n",
    "        if epoch > 50:\n",
    "            if (np.abs(loss_ - ref1)/ref1<ref1*0.01) & (np.abs(loss_ - ref2)/ref2<ref2*0.01):\n",
    "                print(\"Early stopping at epoch\", epoch)\n",
    "                break\n",
    "            if (ref1 < loss_) & (ref1 < ref2):\n",
    "                print(\"Diverging. stop.\")\n",
    "                break\n",
    "            if loss_ < best:\n",
    "                best = loss_\n",
    "                best_epoch = epoch\n",
    "        else:\n",
    "            best = loss_\n",
    "            best_epoch = epoch\n",
    "\n",
    "        ref2 = ref1\n",
    "        ref1 = loss_\n",
    "\n",
    "        if (config['run_config']['save']) & (best_epoch==epoch):\n",
    "            torch.save({'epoch': epoch,\n",
    "                'config': config,\n",
    "                'model_state_dict': model.state_dict(),\n",
    "                'optimizer_state_dict': optimizer.state_dict()},\n",
    "                model_dir+model_type+\"_\"+zoomlevel+\"_\"+str(model_config['output_dim']**2*2048)+\"_\"+model_run_date+\"_\"+str(epoch)+\".pt\")\n",
    "\n",
    "            files = glob.glob(model_dir+model_type+\"_\"+zoomlevel+\"_\"+str(model_config['output_dim']**2*2048)+\"_\"+model_run_date+\"_*.pt\")\n",
    "\n",
    "\n",
    "if config['run_config']['save']:\n",
    "    for f in files:\n",
    "        e = int(f.split(\"_\")[-1].split(\".\")[0])\n",
    "        if e != best_epoch:\n",
    "            os.remove(f)"
   ]
  },
  {
   "cell_type": "code",
   "execution_count": 9,
   "metadata": {},
   "outputs": [
    {
     "name": "stdout",
     "output_type": "stream",
     "text": [
      "/dream/qingyi/image_chicago/models/DR_zoom13_2048_22020302_65.pt loaded.\n"
     ]
    }
   ],
   "source": [
    "# Check one model exists for this config\n",
    "model_path = glob.glob(model_dir+model_type+\"_\"+zoomlevel+\"_\"+str(model_config['output_dim']**2*2048)+\"_\"+\n",
    "                       model_run_date+\"_*.pt\")\n",
    "#\n",
    "if len(model_path) == 1:\n",
    "    saved = torch.load(model_path[0])\n",
    "    print(model_path[0], \"loaded.\")\n",
    "else:\n",
    "    print(\"Error. More than one model or no model exists.\")\n",
    "    print(model_path)\n",
    "    print(model_dir+model_type+\"_\"+zoomlevel+\"_\"+str(model_config['output_dim']**2*2048)+\"_\"\n",
    "                      +model_run_date+\"_*.pt\")\n",
    "    \n",
    "model.load_state_dict(saved['model_state_dict']);\n",
    "model = model.to(device)"
   ]
  },
  {
   "cell_type": "code",
   "execution_count": 10,
   "metadata": {},
   "outputs": [
    {
     "name": "stdout",
     "output_type": "stream",
     "text": [
      "-0.07085918162289029 -0.11190269803495312 -0.12475860473406564 -2.530142482205385 0.18076526 0.25398752 0.055099096 0.15516736\n"
     ]
    }
   ],
   "source": [
    "loss_meter = AverageMeter()\n",
    "\n",
    "train_y = []\n",
    "train_predict = []\n",
    "for step, (batch_im, batch_y) in enumerate(train_loader):\n",
    "    \n",
    "    batch_im = batch_im.to(device)\n",
    "    batch_y = batch_y.to(device)\n",
    "\n",
    "    out = model(batch_im)\n",
    "    probs = torch.log(nn.functional.softmax(out, dim=1))\n",
    "\n",
    "    loss = criterion(probs, batch_y)\n",
    "    loss_ = loss.item()\n",
    "    \n",
    "    loss_meter.update(loss_, len(batch_y))\n",
    "    \n",
    "    train_y.append(batch_y.detach().cpu().numpy())\n",
    "    train_predict.append(torch.exp(probs).detach().cpu().numpy())\n",
    "\n",
    "train_loss = loss_meter.avg\n",
    "train_y = np.vstack(train_y)\n",
    "train_predict = np.vstack(train_predict)\n",
    "\n",
    "train_r1 = r2_score(train_y[:,0],train_predict[:,0])\n",
    "train_r2 = r2_score(train_y[:,1],train_predict[:,1])\n",
    "train_r3 = r2_score(train_y[:,2],train_predict[:,2])\n",
    "train_r4 = r2_score(train_y[:,3],train_predict[:,3])\n",
    "\n",
    "train_mse1 = np.sqrt(mean_squared_error(train_y[:,0],train_predict[:,0]))\n",
    "train_mse2 = np.sqrt(mean_squared_error(train_y[:,1],train_predict[:,1]))\n",
    "train_mse3 = np.sqrt(mean_squared_error(train_y[:,2],train_predict[:,2]))\n",
    "train_mse4 = np.sqrt(mean_squared_error(train_y[:,3],train_predict[:,3]))\n",
    "\n",
    "print(train_r1, train_r2, train_r3, train_r4, train_mse1, train_mse2, train_mse3, train_mse4)"
   ]
  },
  {
   "cell_type": "code",
   "execution_count": 11,
   "metadata": {},
   "outputs": [
    {
     "name": "stdout",
     "output_type": "stream",
     "text": [
      "-0.2304997215916631 -0.3098957588510416 -0.40766793738747187 -1.5524368964059145 0.19654116 0.28497478 0.043930948 0.1604814\n"
     ]
    }
   ],
   "source": [
    "test_y = []\n",
    "test_predict = []\n",
    "loss_meter = AverageMeter()\n",
    "\n",
    "for step, (batch_im, batch_y) in enumerate(test_loader):\n",
    "    \n",
    "    batch_im = batch_im.to(device)\n",
    "    batch_y = batch_y.to(device)\n",
    "\n",
    "    out = model(batch_im)\n",
    "    probs = torch.log(nn.functional.softmax(out, dim=1))\n",
    "\n",
    "    loss = criterion(probs, batch_y)\n",
    "    loss_ = loss.item()\n",
    "    \n",
    "    loss_meter.update(loss_, len(batch_y))\n",
    "    \n",
    "    test_y.append(batch_y.detach().cpu().numpy())\n",
    "    test_predict.append(torch.exp(probs).detach().cpu().numpy())\n",
    "    \n",
    "test_loss = loss_meter.avg\n",
    "test_y = np.vstack(test_y)\n",
    "test_predict = np.vstack(test_predict)\n",
    "\n",
    "test_r1 = r2_score(test_y[:,0],test_predict[:,0])\n",
    "test_r2 = r2_score(test_y[:,1],test_predict[:,1])\n",
    "test_r3 = r2_score(test_y[:,2],test_predict[:,2])\n",
    "test_r4 = r2_score(test_y[:,3],test_predict[:,3])\n",
    "\n",
    "test_mse1 = np.sqrt(mean_squared_error(test_y[:,0],test_predict[:,0]))\n",
    "test_mse2 = np.sqrt(mean_squared_error(test_y[:,1],test_predict[:,1]))\n",
    "test_mse3 = np.sqrt(mean_squared_error(test_y[:,2],test_predict[:,2]))\n",
    "test_mse4 = np.sqrt(mean_squared_error(test_y[:,3],test_predict[:,3]))\n",
    "\n",
    "print(test_r1, test_r2, test_r3, test_r4, test_mse1, test_mse2, test_mse3, test_mse4)"
   ]
  },
  {
   "cell_type": "code",
   "execution_count": 12,
   "metadata": {},
   "outputs": [],
   "source": [
    "with open(out_dir+model_code+\"_mode_choice.csv\", \"a\") as f:\n",
    "    f.write(\"%s,%s,%s,%.4f,%.5f,%.4f,%.4f,%.4f,%.4f,%.4f,%.4f,%.4f,%.4f,%.4f,%.4f,%.4f,%.4f,%.4f,%.4f,%.4f,%.4f,%.4f,%.4f\\n\" % \\\n",
    "        (model_run_date, model_type, zoomlevel, args['base_lr'], args['weight_decay'], \n",
    "          train_loss, train_mse1, train_mse2, train_mse3, train_mse4, train_r1, train_r2, train_r3, train_r4,\n",
    "          test_loss, test_mse1, test_mse2, test_mse3, test_mse4,\n",
    "          test_r1, test_r2, test_r3, test_r4))"
   ]
  },
  {
   "cell_type": "code",
   "execution_count": 13,
   "metadata": {},
   "outputs": [
    {
     "name": "stderr",
     "output_type": "stream",
     "text": [
      "[2022/02/04 10:54:28 matplotlib.font_manager DEBUG] - findfont: Matching :family=sans-serif:style=normal:variant=normal:weight=normal:stretch=normal:size=14.0 to DejaVu Sans ('/home/jtl/anaconda3/lib/python3.7/site-packages/matplotlib/mpl-data/fonts/ttf/DejaVuSans.ttf') with score of 0.050000\n"
     ]
    },
    {
     "data": {
      "image/png": "[encoded data removed]",
      "text/plain": [
       "<Figure size 400x300 with 1 Axes>"
      ]
     },
     "metadata": {},
     "output_type": "display_data"
    }
   ],
   "source": [
    "fig, ax = plt.subplots(figsize=(4,3))\n",
    "ax.plot(train_loss_list[1:], color='cornflowerblue', label='Train')\n",
    "ax.plot(np.arange(0,best_epoch+1,5), test_loss_list[1:], color='sandybrown', label='Test')\n",
    "ax.set_xlabel(\"Epoch\")\n",
    "ax.set_ylabel(\"Loss\")\n",
    "ax.set_ylim([0, 1.1*np.max(train_loss_list[1:]+test_loss_list[1:])])\n",
    "ax.legend()\n",
    "plt.show()\n",
    "fig.savefig(out_dir+\"training_plots/DR_\"+model_run_date+\".png\", bbox_inches='tight')"
   ]
  },
  {
   "cell_type": "code",
   "execution_count": null,
   "metadata": {},
   "outputs": [],
   "source": []
  },
  {
   "cell_type": "code",
   "execution_count": null,
   "metadata": {},
   "outputs": [],
   "source": []
  },
  {
   "cell_type": "code",
   "execution_count": null,
   "metadata": {},
   "outputs": [],
   "source": []
  }
 ],
 "metadata": {
  "kernelspec": {
   "display_name": "Python 3",
   "language": "python",
   "name": "python3"
  },
  "language_info": {
   "codemirror_mode": {
    "name": "ipython",
    "version": 3
   },
   "file_extension": ".py",
   "mimetype": "text/x-python",
   "name": "python",
   "nbconvert_exporter": "python",
   "pygments_lexer": "ipython3",
   "version": "3.7.11"
  }
 },
 "nbformat": 4,
 "nbformat_minor": 4
}
