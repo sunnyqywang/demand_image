{
 "cells": [
  {
   "cell_type": "code",
   "execution_count": 1,
   "metadata": {},
   "outputs": [],
   "source": [
    "import sys\n",
    "sys.path.append(\"models/\")\n",
    "\n",
    "%load_ext autoreload\n",
    "%autoreload 2\n",
    "from collections import OrderedDict\n",
    "import os\n",
    "import matplotlib.pyplot as plt\n",
    "%matplotlib inline\n",
    "\n",
    "import pandas as pd\n",
    "import pickle as pkl\n",
    "import numpy as np\n",
    "\n",
    "import itertools\n",
    "import glob\n",
    "\n",
    "import torch\n",
    "import torch.nn as nn\n",
    "import torch.nn.functional as F\n",
    "from torch.utils.data import DataLoader\n",
    "from sklearn import linear_model\n",
    "from sklearn.metrics import r2_score, mean_squared_error\n",
    "from sklearn.model_selection import cross_validate, GroupKFold\n",
    "import statsmodels.api as sm\n",
    "\n",
    "\n",
    "from dataloader import SurveyDataset, load_aggregate_travel_behavior, load_demo_v1\n",
    "from util_model import load_model\n",
    "import mnl\n",
    "from setup import out_dir, data_dir, image_dir, model_dir, proj_dir\n"
   ]
  },
  {
   "cell_type": "code",
   "execution_count": 2,
   "metadata": {},
   "outputs": [],
   "source": [
    "data_version = '1571'\n",
    "\n",
    "model_type = 'SSD'\n",
    "sampling = 's'\n",
    "\n",
    "zoomlevel = 'zoom15'\n",
    "output_dim = 3\n",
    "model_run_date = '2208'\n",
    "\n",
    "v2 = 1\n",
    "\n",
    "variable_names = ['active','auto','mas','pt', 'trpgen']\n",
    "\n",
    "demo_variables = ['tot_population','pct25_34yrs','pct35_50yrs','pctover65yrs',\n",
    "         'pctwhite_alone','pct_nonwhite','pctblack_alone',\n",
    "         'pct_col_grad','avg_tt_to_work','inc_per_capita']"
   ]
  },
  {
   "cell_type": "markdown",
   "metadata": {},
   "source": [
    "\n",
    "# Load Model Embeddings"
   ]
  },
  {
   "cell_type": "code",
   "execution_count": 3,
   "metadata": {},
   "outputs": [],
   "source": [
    "with open(proj_dir+\"latent_space/SSD_\"+zoomlevel+\"_\"+str(output_dim**2*2048)+\"_\"+str(v2)+\"_\"+\n",
    "                       str(model_run_date)+\".pkl\", \"rb\") as f:\n",
    "    encoder_output = pkl.load(f)\n",
    "    im = pkl.load(f)\n",
    "    ct = pkl.load(f)"
   ]
  },
  {
   "cell_type": "code",
   "execution_count": 9,
   "metadata": {},
   "outputs": [],
   "source": [
    "# Aggregate Embeddings\n",
    "unique_ct = list(set(ct))\n",
    "unique_ct.sort()\n",
    "ct = np.array(ct)\n",
    "aggregate_embeddings = []\n",
    "for i in unique_ct:\n",
    "    aggregate_embeddings.append(np.mean(encoder_output[ct == i], axis=0))\n",
    "aggregate_embeddings = np.array(aggregate_embeddings)\n",
    "\n",
    "x = aggregate_embeddings[:,[0,1,2,3,4,6,7,8,9]]"
   ]
  },
  {
   "cell_type": "markdown",
   "metadata": {},
   "source": [
    "# Load Trip Behavior"
   ]
  },
  {
   "cell_type": "code",
   "execution_count": 5,
   "metadata": {},
   "outputs": [],
   "source": [
    "file = \"origin_trip_behavior.csv\"\n",
    "df_pivot = load_aggregate_travel_behavior(file, data_version)\n",
    "\n",
    "y = df_pivot[variable_names].to_numpy()[:,:4]\n",
    "\n",
    "groups = df_pivot['train_test']\n",
    "group_split = GroupKFold(n_splits=5)"
   ]
  },
  {
   "cell_type": "code",
   "execution_count": 10,
   "metadata": {},
   "outputs": [
    {
     "data": {
      "text/plain": [
       "(1571, 9)"
      ]
     },
     "execution_count": 10,
     "metadata": {},
     "output_type": "execute_result"
    }
   ],
   "source": [
    "x.shape"
   ]
  },
  {
   "cell_type": "markdown",
   "metadata": {},
   "source": [
    "# 1. Linear Regression"
   ]
  },
  {
   "cell_type": "markdown",
   "metadata": {},
   "source": [
    "### 1.1 Auto Share"
   ]
  },
  {
   "cell_type": "code",
   "execution_count": 11,
   "metadata": {},
   "outputs": [],
   "source": [
    "y_index = 1"
   ]
  },
  {
   "cell_type": "code",
   "execution_count": 12,
   "metadata": {},
   "outputs": [
    {
     "name": "stdout",
     "output_type": "stream",
     "text": [
      "Train score: 0.5946 \t Cross val score: 0.5873 \t \n"
     ]
    }
   ],
   "source": [
    "lr = linear_model.LinearRegression()\n",
    "cross_results = cross_validate(lr, x, y[:,y_index], cv=group_split, groups=groups, scoring='r2', return_train_score=True)\n",
    "print(\"Train score: %.4f \\t Cross val score: %.4f \\t \" % \n",
    "          (cross_results['train_score'].mean(), cross_results['test_score'].mean()))"
   ]
  },
  {
   "cell_type": "code",
   "execution_count": 13,
   "metadata": {},
   "outputs": [
    {
     "name": "stdout",
     "output_type": "stream",
     "text": [
      "Parameter: 1.00e-05 \t Train score: 0.5945 \t Cross val score: 0.5871 \t Nonzero coef: 9\n",
      "Parameter: 1.00e-04 \t Train score: 0.5834 \t Cross val score: 0.5765 \t Nonzero coef: 7\n",
      "Parameter: 2.00e-04 \t Train score: 0.5530 \t Cross val score: 0.5455 \t Nonzero coef: 6\n",
      "Parameter: 3.00e-04 \t Train score: 0.5477 \t Cross val score: 0.5407 \t Nonzero coef: 4\n",
      "Parameter: 4.00e-04 \t Train score: 0.5436 \t Cross val score: 0.5367 \t Nonzero coef: 4\n",
      "Parameter: 5.00e-04 \t Train score: 0.5390 \t Cross val score: 0.5321 \t Nonzero coef: 3\n",
      "Parameter: 6.00e-04 \t Train score: 0.5373 \t Cross val score: 0.5311 \t Nonzero coef: 3\n",
      "Parameter: 7.00e-04 \t Train score: 0.5369 \t Cross val score: 0.5307 \t Nonzero coef: 3\n",
      "Parameter: 8.00e-04 \t Train score: 0.5364 \t Cross val score: 0.5302 \t Nonzero coef: 3\n",
      "Parameter: 1.00e-03 \t Train score: 0.5352 \t Cross val score: 0.5291 \t Nonzero coef: 3\n",
      "Parameter: 2.00e-03 \t Train score: 0.5252 \t Cross val score: 0.5190 \t Nonzero coef: 3\n",
      "Parameter: 5.00e-03 \t Train score: 0.4633 \t Cross val score: 0.4583 \t Nonzero coef: 2\n"
     ]
    },
    {
     "name": "stderr",
     "output_type": "stream",
     "text": [
      "/home/jtl/anaconda3/envs/qingyi/lib/python3.8/site-packages/sklearn/linear_model/_coordinate_descent.py:647: ConvergenceWarning: Objective did not converge. You might want to increase the number of iterations, check the scale of the features or consider increasing regularisation. Duality gap: 3.146e-01, tolerance: 6.768e-03\n",
      "  model = cd_fast.enet_coordinate_descent(\n",
      "/home/jtl/anaconda3/envs/qingyi/lib/python3.8/site-packages/sklearn/linear_model/_coordinate_descent.py:647: ConvergenceWarning: Objective did not converge. You might want to increase the number of iterations, check the scale of the features or consider increasing regularisation. Duality gap: 3.963e-01, tolerance: 6.596e-03\n",
      "  model = cd_fast.enet_coordinate_descent(\n",
      "/home/jtl/anaconda3/envs/qingyi/lib/python3.8/site-packages/sklearn/linear_model/_coordinate_descent.py:647: ConvergenceWarning: Objective did not converge. You might want to increase the number of iterations, check the scale of the features or consider increasing regularisation. Duality gap: 2.321e-01, tolerance: 6.769e-03\n",
      "  model = cd_fast.enet_coordinate_descent(\n",
      "/home/jtl/anaconda3/envs/qingyi/lib/python3.8/site-packages/sklearn/linear_model/_coordinate_descent.py:647: ConvergenceWarning: Objective did not converge. You might want to increase the number of iterations, check the scale of the features or consider increasing regularisation. Duality gap: 2.489e-01, tolerance: 7.111e-03\n",
      "  model = cd_fast.enet_coordinate_descent(\n",
      "/home/jtl/anaconda3/envs/qingyi/lib/python3.8/site-packages/sklearn/linear_model/_coordinate_descent.py:647: ConvergenceWarning: Objective did not converge. You might want to increase the number of iterations, check the scale of the features or consider increasing regularisation. Duality gap: 3.995e-01, tolerance: 6.760e-03\n",
      "  model = cd_fast.enet_coordinate_descent(\n",
      "/home/jtl/anaconda3/envs/qingyi/lib/python3.8/site-packages/sklearn/linear_model/_coordinate_descent.py:647: ConvergenceWarning: Objective did not converge. You might want to increase the number of iterations, check the scale of the features or consider increasing regularisation. Duality gap: 8.621e-03, tolerance: 6.769e-03\n",
      "  model = cd_fast.enet_coordinate_descent(\n",
      "/home/jtl/anaconda3/envs/qingyi/lib/python3.8/site-packages/sklearn/linear_model/_coordinate_descent.py:647: ConvergenceWarning: Objective did not converge. You might want to increase the number of iterations, check the scale of the features or consider increasing regularisation. Duality gap: 8.167e-03, tolerance: 7.111e-03\n",
      "  model = cd_fast.enet_coordinate_descent(\n"
     ]
    }
   ],
   "source": [
    "# Lasso\n",
    "for a in (1e-4)*np.array([0.1,1,2,3,4,5,6,7,8,10,20,50]):\n",
    "    lasso = linear_model.Lasso(alpha=a)\n",
    "    cross_results = cross_validate(lasso, x, y[:,y_index], cv=group_split, groups=groups, scoring='r2', return_train_score=True, return_estimator=True)\n",
    "    nz = 0\n",
    "    for m in cross_results['estimator']:\n",
    "        nz += sum(m.coef_ != 0)\n",
    "    nz /= 5\n",
    "    \n",
    "    print(\"Parameter: %.2e \\t Train score: %.4f \\t Cross val score: %.4f \\t Nonzero coef: %d\" % \n",
    "          (a, cross_results['train_score'].mean(), cross_results['test_score'].mean(), nz))"
   ]
  },
  {
   "cell_type": "markdown",
   "metadata": {},
   "source": [
    "### 1.2 PT"
   ]
  },
  {
   "cell_type": "code",
   "execution_count": 14,
   "metadata": {},
   "outputs": [],
   "source": [
    "y_index = 3"
   ]
  },
  {
   "cell_type": "code",
   "execution_count": 15,
   "metadata": {},
   "outputs": [
    {
     "name": "stdout",
     "output_type": "stream",
     "text": [
      "Train score: 0.4718 \t Cross val score: 0.4612 \t \n"
     ]
    }
   ],
   "source": [
    "lr = linear_model.LinearRegression()\n",
    "cross_results = cross_validate(lr, x, y[:,y_index], cv=group_split, groups=groups, scoring='r2', return_train_score=True)\n",
    "print(\"Train score: %.4f \\t Cross val score: %.4f \\t \" % \n",
    "          (cross_results['train_score'].mean(), cross_results['test_score'].mean()))"
   ]
  },
  {
   "cell_type": "code",
   "execution_count": 16,
   "metadata": {},
   "outputs": [
    {
     "name": "stdout",
     "output_type": "stream",
     "text": [
      "Parameter: 1.00e-05 \t Train score: 0.4711 \t Cross val score: 0.4610 \t Nonzero coef: 8\n",
      "Parameter: 1.00e-04 \t Train score: 0.4427 \t Cross val score: 0.4382 \t Nonzero coef: 4\n",
      "Parameter: 2.00e-04 \t Train score: 0.4389 \t Cross val score: 0.4358 \t Nonzero coef: 3\n",
      "Parameter: 3.00e-04 \t Train score: 0.4378 \t Cross val score: 0.4349 \t Nonzero coef: 4\n",
      "Parameter: 4.00e-04 \t Train score: 0.4364 \t Cross val score: 0.4337 \t Nonzero coef: 4\n",
      "Parameter: 5.00e-04 \t Train score: 0.4346 \t Cross val score: 0.4320 \t Nonzero coef: 4\n",
      "Parameter: 6.00e-04 \t Train score: 0.4323 \t Cross val score: 0.4299 \t Nonzero coef: 4\n",
      "Parameter: 7.00e-04 \t Train score: 0.4296 \t Cross val score: 0.4273 \t Nonzero coef: 4\n",
      "Parameter: 8.00e-04 \t Train score: 0.4265 \t Cross val score: 0.4244 \t Nonzero coef: 4\n",
      "Parameter: 1.00e-03 \t Train score: 0.4191 \t Cross val score: 0.4171 \t Nonzero coef: 4\n",
      "Parameter: 2.00e-03 \t Train score: 0.3798 \t Cross val score: 0.3789 \t Nonzero coef: 2\n",
      "Parameter: 5.00e-03 \t Train score: 0.1608 \t Cross val score: 0.1590 \t Nonzero coef: 2\n"
     ]
    },
    {
     "name": "stderr",
     "output_type": "stream",
     "text": [
      "/home/jtl/anaconda3/envs/qingyi/lib/python3.8/site-packages/sklearn/linear_model/_coordinate_descent.py:647: ConvergenceWarning: Objective did not converge. You might want to increase the number of iterations, check the scale of the features or consider increasing regularisation. Duality gap: 5.587e-03, tolerance: 1.168e-03\n",
      "  model = cd_fast.enet_coordinate_descent(\n",
      "/home/jtl/anaconda3/envs/qingyi/lib/python3.8/site-packages/sklearn/linear_model/_coordinate_descent.py:647: ConvergenceWarning: Objective did not converge. You might want to increase the number of iterations, check the scale of the features or consider increasing regularisation. Duality gap: 3.409e-03, tolerance: 1.130e-03\n",
      "  model = cd_fast.enet_coordinate_descent(\n"
     ]
    }
   ],
   "source": [
    "# Lasso\n",
    "for a in (1e-4)*np.array([0.1,1,2,3,4,5,6,7,8,10,20,50]):\n",
    "    lasso = linear_model.Lasso(alpha=a)\n",
    "    cross_results = cross_validate(lasso, x, y[:,y_index], cv=group_split, groups=groups, scoring='r2', return_train_score=True, return_estimator=True)\n",
    "    nz = 0\n",
    "    for m in cross_results['estimator']:\n",
    "        nz += sum(m.coef_ != 0)\n",
    "    nz /= 5\n",
    "    \n",
    "    print(\"Parameter: %.2e \\t Train score: %.4f \\t Cross val score: %.4f \\t Nonzero coef: %d\" % \n",
    "          (a, cross_results['train_score'].mean(), cross_results['test_score'].mean(), nz))"
   ]
  },
  {
   "cell_type": "markdown",
   "metadata": {},
   "source": [
    "### 1.3 Active"
   ]
  },
  {
   "cell_type": "code",
   "execution_count": 17,
   "metadata": {},
   "outputs": [],
   "source": [
    "y_index = 0"
   ]
  },
  {
   "cell_type": "code",
   "execution_count": 18,
   "metadata": {},
   "outputs": [
    {
     "name": "stdout",
     "output_type": "stream",
     "text": [
      "Train score: 0.4793 \t Cross val score: 0.4682 \t \n"
     ]
    }
   ],
   "source": [
    "lr = linear_model.LinearRegression()\n",
    "cross_results = cross_validate(lr, x, y[:,y_index], cv=group_split, groups=groups, scoring='r2', return_train_score=True)\n",
    "print(\"Train score: %.4f \\t Cross val score: %.4f \\t \" % \n",
    "          (cross_results['train_score'].mean(), cross_results['test_score'].mean()))"
   ]
  },
  {
   "cell_type": "code",
   "execution_count": 19,
   "metadata": {},
   "outputs": [
    {
     "name": "stdout",
     "output_type": "stream",
     "text": [
      "Parameter: 1.00e-05 \t Train score: 0.4791 \t Cross val score: 0.4681 \t Nonzero coef: 8\n",
      "Parameter: 1.00e-04 \t Train score: 0.4572 \t Cross val score: 0.4470 \t Nonzero coef: 7\n",
      "Parameter: 2.00e-04 \t Train score: 0.4401 \t Cross val score: 0.4318 \t Nonzero coef: 5\n",
      "Parameter: 3.00e-04 \t Train score: 0.4320 \t Cross val score: 0.4241 \t Nonzero coef: 4\n",
      "Parameter: 4.00e-04 \t Train score: 0.4291 \t Cross val score: 0.4219 \t Nonzero coef: 3\n",
      "Parameter: 5.00e-04 \t Train score: 0.4285 \t Cross val score: 0.4213 \t Nonzero coef: 3\n",
      "Parameter: 6.00e-04 \t Train score: 0.4277 \t Cross val score: 0.4206 \t Nonzero coef: 3\n",
      "Parameter: 7.00e-04 \t Train score: 0.4269 \t Cross val score: 0.4198 \t Nonzero coef: 3\n",
      "Parameter: 8.00e-04 \t Train score: 0.4259 \t Cross val score: 0.4188 \t Nonzero coef: 3\n",
      "Parameter: 1.00e-03 \t Train score: 0.4235 \t Cross val score: 0.4165 \t Nonzero coef: 3\n",
      "Parameter: 2.00e-03 \t Train score: 0.4033 \t Cross val score: 0.3966 \t Nonzero coef: 3\n",
      "Parameter: 5.00e-03 \t Train score: 0.3185 \t Cross val score: 0.3168 \t Nonzero coef: 1\n"
     ]
    },
    {
     "name": "stderr",
     "output_type": "stream",
     "text": [
      "/home/jtl/anaconda3/envs/qingyi/lib/python3.8/site-packages/sklearn/linear_model/_coordinate_descent.py:647: ConvergenceWarning: Objective did not converge. You might want to increase the number of iterations, check the scale of the features or consider increasing regularisation. Duality gap: 7.697e-02, tolerance: 3.355e-03\n",
      "  model = cd_fast.enet_coordinate_descent(\n",
      "/home/jtl/anaconda3/envs/qingyi/lib/python3.8/site-packages/sklearn/linear_model/_coordinate_descent.py:647: ConvergenceWarning: Objective did not converge. You might want to increase the number of iterations, check the scale of the features or consider increasing regularisation. Duality gap: 7.760e-02, tolerance: 3.441e-03\n",
      "  model = cd_fast.enet_coordinate_descent(\n",
      "/home/jtl/anaconda3/envs/qingyi/lib/python3.8/site-packages/sklearn/linear_model/_coordinate_descent.py:647: ConvergenceWarning: Objective did not converge. You might want to increase the number of iterations, check the scale of the features or consider increasing regularisation. Duality gap: 6.432e-03, tolerance: 3.289e-03\n",
      "  model = cd_fast.enet_coordinate_descent(\n"
     ]
    }
   ],
   "source": [
    "# Lasso\n",
    "for a in (1e-4)*np.array([0.1,1,2,3,4,5,6,7,8,10,20,50]):\n",
    "    lasso = linear_model.Lasso(alpha=a)\n",
    "    cross_results = cross_validate(lasso, x, y[:,y_index], cv=group_split, groups=groups, scoring='r2', return_train_score=True, return_estimator=True)\n",
    "    nz = 0\n",
    "    for m in cross_results['estimator']:\n",
    "        nz += sum(m.coef_ != 0)\n",
    "    nz /= 5\n",
    "    \n",
    "    print(\"Parameter: %.2e \\t Train score: %.4f \\t Cross val score: %.4f \\t Nonzero coef: %d\" % \n",
    "          (a, cross_results['train_score'].mean(), cross_results['test_score'].mean(), nz))"
   ]
  },
  {
   "cell_type": "markdown",
   "metadata": {},
   "source": [
    "# 2. MNL for Mode Share"
   ]
  },
  {
   "cell_type": "code",
   "execution_count": 23,
   "metadata": {},
   "outputs": [
    {
     "name": "stdout",
     "output_type": "stream",
     "text": [
      "[lr: 1.00e-02, wd: 1.00e-01]\n",
      "Early stopping at epoch 865\n",
      "[epoch: 860] Train KL loss: 0.149 Train R2 score: 0.408 0.519 -0.007 0.413 \n",
      "[epoch: 860] Test KL loss: 0.153 Test R2 score: 0.411 0.529 0.010 0.400 \n",
      "\n",
      "[lr: 1.00e-02, wd: 1.00e-02]\n",
      "Early stopping at epoch 750\n",
      "[epoch: 745] Train KL loss: 0.150 Train R2 score: 0.396 0.514 -0.008 0.416 \n",
      "[epoch: 745] Test KL loss: 0.154 Test R2 score: 0.398 0.523 0.009 0.401 \n",
      "\n",
      "[lr: 1.00e-02, wd: 1.00e-03]\n",
      "Early stopping at epoch 695\n",
      "[epoch: 690] Train KL loss: 0.151 Train R2 score: 0.396 0.508 -0.006 0.429 \n",
      "[epoch: 690] Test KL loss: 0.153 Test R2 score: 0.411 0.519 0.009 0.418 \n",
      "\n",
      "[lr: 1.00e-02, wd: 1.00e-04]\n",
      "Early stopping at epoch 565\n",
      "[epoch: 560] Train KL loss: 0.150 Train R2 score: 0.394 0.509 -0.007 0.429 \n",
      "[epoch: 560] Test KL loss: 0.154 Test R2 score: 0.400 0.519 0.006 0.418 \n",
      "\n",
      "[lr: 1.00e-01, wd: 1.00e-01]\n",
      "Early stopping at epoch 250\n",
      "[epoch: 245] Train KL loss: 0.146 Train R2 score: 0.417 0.532 -0.008 0.445 \n",
      "[epoch: 245] Test KL loss: 0.150 Test R2 score: 0.422 0.536 0.007 0.428 \n",
      "\n",
      "[lr: 1.00e-01, wd: 1.00e-02]\n",
      "Early stopping at epoch 370\n",
      "[epoch: 365] Train KL loss: 0.144 Train R2 score: 0.430 0.541 -0.006 0.446 \n",
      "[epoch: 365] Test KL loss: 0.148 Test R2 score: 0.434 0.545 0.005 0.430 \n",
      "\n",
      "[lr: 1.00e-01, wd: 1.00e-03]\n",
      "Early stopping at epoch 375\n",
      "[epoch: 370] Train KL loss: 0.144 Train R2 score: 0.435 0.542 -0.006 0.440 \n",
      "[epoch: 370] Test KL loss: 0.148 Test R2 score: 0.438 0.545 0.005 0.423 \n",
      "\n",
      "[lr: 1.00e-01, wd: 1.00e-04]\n",
      "Early stopping at epoch 350\n",
      "[epoch: 345] Train KL loss: 0.146 Train R2 score: 0.417 0.531 -0.006 0.445 \n",
      "[epoch: 345] Test KL loss: 0.150 Test R2 score: 0.420 0.535 0.005 0.429 \n",
      "\n",
      "[lr: 1.00e-02, wd: 1.00e-01]\n",
      "Early stopping at epoch 730\n",
      "[epoch: 725] Train KL loss: 0.150 Train R2 score: 0.398 0.501 0.002 0.422 \n",
      "[epoch: 725] Test KL loss: 0.160 Test R2 score: 0.366 0.522 -0.018 0.385 \n",
      "\n",
      "[lr: 1.00e-02, wd: 1.00e-02]\n",
      "Early stopping at epoch 620\n",
      "[epoch: 615] Train KL loss: 0.149 Train R2 score: 0.405 0.507 0.002 0.428 \n",
      "[epoch: 615] Test KL loss: 0.159 Test R2 score: 0.368 0.526 -0.019 0.395 \n",
      "\n",
      "[lr: 1.00e-02, wd: 1.00e-03]\n",
      "Early stopping at epoch 535\n",
      "[epoch: 530] Train KL loss: 0.150 Train R2 score: 0.400 0.501 0.002 0.432 \n",
      "[epoch: 530] Test KL loss: 0.159 Test R2 score: 0.368 0.522 -0.020 0.402 \n",
      "\n",
      "[lr: 1.00e-02, wd: 1.00e-04]\n",
      "Early stopping at epoch 880\n",
      "[epoch: 875] Train KL loss: 0.150 Train R2 score: 0.404 0.506 0.003 0.409 \n",
      "[epoch: 875] Test KL loss: 0.160 Test R2 score: 0.365 0.526 -0.018 0.370 \n",
      "\n",
      "[lr: 1.00e-01, wd: 1.00e-01]\n",
      "Early stopping at epoch 185\n",
      "[epoch: 180] Train KL loss: 0.147 Train R2 score: 0.413 0.516 0.000 0.441 \n",
      "[epoch: 180] Test KL loss: 0.156 Test R2 score: 0.376 0.538 -0.019 0.414 \n",
      "\n",
      "[lr: 1.00e-01, wd: 1.00e-02]\n",
      "Early stopping at epoch 350\n",
      "[epoch: 345] Train KL loss: 0.144 Train R2 score: 0.437 0.534 0.001 0.446 \n",
      "[epoch: 345] Test KL loss: 0.153 Test R2 score: 0.394 0.552 -0.016 0.421 \n",
      "\n",
      "[lr: 1.00e-01, wd: 1.00e-03]\n",
      "Early stopping at epoch 390\n",
      "[epoch: 385] Train KL loss: 0.143 Train R2 score: 0.441 0.538 0.003 0.444 \n",
      "[epoch: 385] Test KL loss: 0.153 Test R2 score: 0.399 0.554 -0.015 0.420 \n",
      "\n",
      "[lr: 1.00e-01, wd: 1.00e-04]\n",
      "Early stopping at epoch 275\n",
      "[epoch: 270] Train KL loss: 0.145 Train R2 score: 0.424 0.524 0.001 0.443 \n",
      "[epoch: 270] Test KL loss: 0.154 Test R2 score: 0.385 0.543 -0.016 0.421 \n",
      "\n",
      "[lr: 1.00e-02, wd: 1.00e-01]\n",
      "Early stopping at epoch 610\n",
      "[epoch: 605] Train KL loss: 0.153 Train R2 score: 0.406 0.519 0.001 0.433 \n",
      "[epoch: 605] Test KL loss: 0.144 Test R2 score: 0.379 0.476 -0.030 0.399 \n",
      "\n",
      "[lr: 1.00e-02, wd: 1.00e-02]\n",
      "Early stopping at epoch 620\n",
      "[epoch: 615] Train KL loss: 0.153 Train R2 score: 0.403 0.518 0.004 0.432 \n",
      "[epoch: 615] Test KL loss: 0.145 Test R2 score: 0.373 0.471 -0.033 0.389 \n",
      "\n",
      "[lr: 1.00e-02, wd: 1.00e-03]\n",
      "Early stopping at epoch 850\n",
      "[epoch: 845] Train KL loss: 0.151 Train R2 score: 0.411 0.524 0.003 0.423 \n",
      "[epoch: 845] Test KL loss: 0.143 Test R2 score: 0.381 0.477 -0.025 0.400 \n",
      "\n",
      "[lr: 1.00e-02, wd: 1.00e-04]\n",
      "Early stopping at epoch 700\n",
      "[epoch: 695] Train KL loss: 0.152 Train R2 score: 0.405 0.520 0.003 0.433 \n",
      "[epoch: 695] Test KL loss: 0.144 Test R2 score: 0.376 0.476 -0.033 0.401 \n",
      "\n",
      "[lr: 1.00e-01, wd: 1.00e-01]\n",
      "Early stopping at epoch 330\n",
      "[epoch: 325] Train KL loss: 0.148 Train R2 score: 0.426 0.544 0.003 0.450 \n",
      "[epoch: 325] Test KL loss: 0.141 Test R2 score: 0.395 0.492 -0.037 0.407 \n",
      "\n",
      "[lr: 1.00e-01, wd: 1.00e-02]\n",
      "Early stopping at epoch 160\n",
      "[epoch: 155] Train KL loss: 0.151 Train R2 score: 0.409 0.527 0.002 0.440 \n",
      "[epoch: 155] Test KL loss: 0.144 Test R2 score: 0.377 0.471 -0.037 0.391 \n",
      "\n",
      "[lr: 1.00e-01, wd: 1.00e-03]\n",
      "Early stopping at epoch 410\n",
      "[epoch: 405] Train KL loss: 0.146 Train R2 score: 0.441 0.555 0.004 0.454 \n",
      "[epoch: 405] Test KL loss: 0.139 Test R2 score: 0.408 0.501 -0.037 0.408 \n",
      "\n",
      "[lr: 1.00e-01, wd: 1.00e-04]\n",
      "Early stopping at epoch 400\n",
      "[epoch: 395] Train KL loss: 0.146 Train R2 score: 0.438 0.555 0.004 0.456 \n",
      "[epoch: 395] Test KL loss: 0.139 Test R2 score: 0.407 0.501 -0.037 0.410 \n",
      "\n",
      "[lr: 1.00e-02, wd: 1.00e-01]\n",
      "Early stopping at epoch 610\n",
      "[epoch: 605] Train KL loss: 0.154 Train R2 score: 0.383 0.500 -0.002 0.418 \n",
      "[epoch: 605] Test KL loss: 0.143 Test R2 score: 0.459 0.535 -0.006 0.464 \n",
      "\n",
      "[lr: 1.00e-02, wd: 1.00e-02]\n",
      "Early stopping at epoch 750\n",
      "[epoch: 745] Train KL loss: 0.153 Train R2 score: 0.383 0.507 -0.002 0.410 \n",
      "[epoch: 745] Test KL loss: 0.141 Test R2 score: 0.475 0.544 -0.006 0.448 \n",
      "\n",
      "[lr: 1.00e-02, wd: 1.00e-03]\n",
      "Early stopping at epoch 600\n",
      "[epoch: 595] Train KL loss: 0.153 Train R2 score: 0.381 0.501 -0.003 0.423 \n",
      "[epoch: 595] Test KL loss: 0.143 Test R2 score: 0.453 0.535 -0.009 0.465 \n",
      "\n",
      "[lr: 1.00e-02, wd: 1.00e-04]\n",
      "Early stopping at epoch 630\n",
      "[epoch: 625] Train KL loss: 0.154 Train R2 score: 0.376 0.500 -0.002 0.415 \n",
      "[epoch: 625] Test KL loss: 0.143 Test R2 score: 0.458 0.535 -0.008 0.457 \n",
      "\n",
      "[lr: 1.00e-01, wd: 1.00e-01]\n",
      "Early stopping at epoch 150\n",
      "[epoch: 145] Train KL loss: 0.152 Train R2 score: 0.385 0.508 -0.003 0.427 \n",
      "[epoch: 145] Test KL loss: 0.140 Test R2 score: 0.474 0.552 -0.005 0.465 \n",
      "\n",
      "[lr: 1.00e-01, wd: 1.00e-02]\n",
      "Early stopping at epoch 360\n",
      "[epoch: 355] Train KL loss: 0.148 Train R2 score: 0.406 0.529 -0.003 0.440 \n",
      "[epoch: 355] Test KL loss: 0.135 Test R2 score: 0.504 0.581 -0.002 0.474 \n",
      "\n",
      "[lr: 1.00e-01, wd: 1.00e-03]\n",
      "Early stopping at epoch 360\n",
      "[epoch: 355] Train KL loss: 0.149 Train R2 score: 0.403 0.524 -0.003 0.433 \n",
      "[epoch: 355] Test KL loss: 0.136 Test R2 score: 0.500 0.575 -0.003 0.468 \n",
      "\n",
      "[lr: 1.00e-01, wd: 1.00e-04]\n",
      "Early stopping at epoch 385\n",
      "[epoch: 380] Train KL loss: 0.147 Train R2 score: 0.408 0.533 -0.002 0.445 \n",
      "[epoch: 380] Test KL loss: 0.135 Test R2 score: 0.508 0.587 -0.001 0.477 \n",
      "\n",
      "[lr: 1.00e-02, wd: 1.00e-01]\n",
      "Early stopping at epoch 575\n",
      "[epoch: 570] Train KL loss: 0.150 Train R2 score: 0.404 0.514 0.001 0.416 \n",
      "[epoch: 570] Test KL loss: 0.161 Test R2 score: 0.341 0.461 -0.008 0.433 \n",
      "\n",
      "[lr: 1.00e-02, wd: 1.00e-02]\n",
      "Early stopping at epoch 815\n",
      "[epoch: 810] Train KL loss: 0.149 Train R2 score: 0.406 0.523 0.001 0.398 \n",
      "[epoch: 810] Test KL loss: 0.161 Test R2 score: 0.343 0.473 -0.008 0.416 \n",
      "\n",
      "[lr: 1.00e-02, wd: 1.00e-03]\n",
      "Early stopping at epoch 860\n",
      "[epoch: 855] Train KL loss: 0.150 Train R2 score: 0.407 0.521 -0.001 0.395 \n",
      "[epoch: 855] Test KL loss: 0.161 Test R2 score: 0.344 0.474 -0.006 0.413 \n",
      "\n",
      "[lr: 1.00e-02, wd: 1.00e-04]\n",
      "Early stopping at epoch 635\n",
      "[epoch: 630] Train KL loss: 0.149 Train R2 score: 0.407 0.519 0.002 0.411 \n",
      "[epoch: 630] Test KL loss: 0.160 Test R2 score: 0.344 0.468 -0.008 0.431 \n",
      "\n",
      "[lr: 1.00e-01, wd: 1.00e-01]\n",
      "Early stopping at epoch 250\n",
      "[epoch: 245] Train KL loss: 0.146 Train R2 score: 0.423 0.533 0.002 0.428 \n",
      "[epoch: 245] Test KL loss: 0.157 Test R2 score: 0.358 0.482 -0.011 0.453 \n",
      "\n",
      "[lr: 1.00e-01, wd: 1.00e-02]\n",
      "Early stopping at epoch 410\n",
      "[epoch: 405] Train KL loss: 0.142 Train R2 score: 0.444 0.554 -0.000 0.444 \n",
      "[epoch: 405] Test KL loss: 0.154 Test R2 score: 0.373 0.501 -0.010 0.469 \n",
      "\n",
      "[lr: 1.00e-01, wd: 1.00e-03]\n",
      "Early stopping at epoch 400\n",
      "[epoch: 395] Train KL loss: 0.142 Train R2 score: 0.449 0.556 0.001 0.438 \n",
      "[epoch: 395] Test KL loss: 0.154 Test R2 score: 0.376 0.501 -0.011 0.465 \n",
      "\n",
      "[lr: 1.00e-01, wd: 1.00e-04]\n",
      "Early stopping at epoch 425\n",
      "[epoch: 420] Train KL loss: 0.143 Train R2 score: 0.447 0.553 0.001 0.437 \n",
      "[epoch: 420] Test KL loss: 0.154 Test R2 score: 0.375 0.499 -0.012 0.463 \n",
      "\n"
     ]
    }
   ],
   "source": [
    "from util_aggregate_models import mnl_torch\n",
    "\n",
    "# dataloader and model definition\n",
    "\n",
    "lr_list = [0.01, 0.1]\n",
    "wd_list = [0.1, 0.01, 0.001, 0.0001]\n",
    "\n",
    "results = {}\n",
    "for i in range(5):\n",
    "    \n",
    "    train_filter = groups != i\n",
    "    test_filter = groups == i\n",
    "    x_train = x[train_filter]\n",
    "    y_train = y[train_filter]\n",
    "    x_test = x[test_filter]\n",
    "    y_test = y[test_filter]\n",
    "    sst_train = np.sum(np.power(y_train - np.mean(y_train, axis=0), 2), axis=0)\n",
    "    sst_test = np.sum(np.power(y_test - np.mean(y_test, axis=0), 2), axis=0)\n",
    "    \n",
    "    trainset = SurveyDataset(torch.tensor(x_train,  dtype=torch.float), torch.tensor(y_train, dtype=torch.float))\n",
    "    trainloader = DataLoader(trainset, batch_size=len(trainset), shuffle=False)\n",
    "\n",
    "    testset = SurveyDataset(torch.tensor(x_test, dtype=torch.float), torch.tensor(y_test, dtype=torch.float))\n",
    "    testloader = DataLoader(testset, batch_size=len(testset), shuffle=False)\n",
    "\n",
    "    ret_dict = mnl_torch(trainloader, testloader, x_train.shape[-1], sst_train, sst_test, lr_list=lr_list, wd_list=wd_list)\n",
    "    \n",
    "    results[i] = ret_dict\n",
    "    "
   ]
  },
  {
   "cell_type": "code",
   "execution_count": 24,
   "metadata": {},
   "outputs": [
    {
     "data": {
      "text/html": [
       "<div>\n",
       "<style scoped>\n",
       "    .dataframe tbody tr th:only-of-type {\n",
       "        vertical-align: middle;\n",
       "    }\n",
       "\n",
       "    .dataframe tbody tr th {\n",
       "        vertical-align: top;\n",
       "    }\n",
       "\n",
       "    .dataframe thead th {\n",
       "        text-align: right;\n",
       "    }\n",
       "</style>\n",
       "<table border=\"1\" class=\"dataframe\">\n",
       "  <thead>\n",
       "    <tr style=\"text-align: right;\">\n",
       "      <th></th>\n",
       "      <th>learning_rate</th>\n",
       "      <th>weight_decay</th>\n",
       "      <th>train_kl_loss</th>\n",
       "      <th>test_kl_loss</th>\n",
       "      <th>train_r2_auto</th>\n",
       "      <th>train_r2_active</th>\n",
       "      <th>train_r2_pt</th>\n",
       "      <th>test_r2_auto</th>\n",
       "      <th>test_r2_active</th>\n",
       "      <th>test_r2_pt</th>\n",
       "    </tr>\n",
       "  </thead>\n",
       "  <tbody>\n",
       "    <tr>\n",
       "      <th>6</th>\n",
       "      <td>0.10</td>\n",
       "      <td>0.0010</td>\n",
       "      <td>0.144770</td>\n",
       "      <td>0.146086</td>\n",
       "      <td>0.542693</td>\n",
       "      <td>0.433732</td>\n",
       "      <td>0.442078</td>\n",
       "      <td>0.535272</td>\n",
       "      <td>0.424010</td>\n",
       "      <td>0.436634</td>\n",
       "    </tr>\n",
       "    <tr>\n",
       "      <th>7</th>\n",
       "      <td>0.10</td>\n",
       "      <td>0.0001</td>\n",
       "      <td>0.145304</td>\n",
       "      <td>0.146460</td>\n",
       "      <td>0.539212</td>\n",
       "      <td>0.426965</td>\n",
       "      <td>0.444917</td>\n",
       "      <td>0.533079</td>\n",
       "      <td>0.418992</td>\n",
       "      <td>0.439982</td>\n",
       "    </tr>\n",
       "    <tr>\n",
       "      <th>5</th>\n",
       "      <td>0.10</td>\n",
       "      <td>0.0100</td>\n",
       "      <td>0.145766</td>\n",
       "      <td>0.146904</td>\n",
       "      <td>0.537077</td>\n",
       "      <td>0.425160</td>\n",
       "      <td>0.443117</td>\n",
       "      <td>0.529898</td>\n",
       "      <td>0.416205</td>\n",
       "      <td>0.436896</td>\n",
       "    </tr>\n",
       "    <tr>\n",
       "      <th>4</th>\n",
       "      <td>0.10</td>\n",
       "      <td>0.1000</td>\n",
       "      <td>0.147639</td>\n",
       "      <td>0.148762</td>\n",
       "      <td>0.526823</td>\n",
       "      <td>0.412921</td>\n",
       "      <td>0.438133</td>\n",
       "      <td>0.520142</td>\n",
       "      <td>0.405058</td>\n",
       "      <td>0.433686</td>\n",
       "    </tr>\n",
       "    <tr>\n",
       "      <th>1</th>\n",
       "      <td>0.01</td>\n",
       "      <td>0.0100</td>\n",
       "      <td>0.150929</td>\n",
       "      <td>0.151837</td>\n",
       "      <td>0.513846</td>\n",
       "      <td>0.398519</td>\n",
       "      <td>0.416795</td>\n",
       "      <td>0.507366</td>\n",
       "      <td>0.391418</td>\n",
       "      <td>0.409801</td>\n",
       "    </tr>\n",
       "    <tr>\n",
       "      <th>2</th>\n",
       "      <td>0.01</td>\n",
       "      <td>0.0010</td>\n",
       "      <td>0.150918</td>\n",
       "      <td>0.151948</td>\n",
       "      <td>0.510972</td>\n",
       "      <td>0.398926</td>\n",
       "      <td>0.420583</td>\n",
       "      <td>0.505334</td>\n",
       "      <td>0.391266</td>\n",
       "      <td>0.419709</td>\n",
       "    </tr>\n",
       "    <tr>\n",
       "      <th>0</th>\n",
       "      <td>0.01</td>\n",
       "      <td>0.1000</td>\n",
       "      <td>0.151083</td>\n",
       "      <td>0.152168</td>\n",
       "      <td>0.510579</td>\n",
       "      <td>0.399992</td>\n",
       "      <td>0.420442</td>\n",
       "      <td>0.504485</td>\n",
       "      <td>0.391264</td>\n",
       "      <td>0.416231</td>\n",
       "    </tr>\n",
       "    <tr>\n",
       "      <th>3</th>\n",
       "      <td>0.01</td>\n",
       "      <td>0.0001</td>\n",
       "      <td>0.151116</td>\n",
       "      <td>0.152208</td>\n",
       "      <td>0.510750</td>\n",
       "      <td>0.397183</td>\n",
       "      <td>0.419251</td>\n",
       "      <td>0.504901</td>\n",
       "      <td>0.388673</td>\n",
       "      <td>0.415584</td>\n",
       "    </tr>\n",
       "  </tbody>\n",
       "</table>\n",
       "</div>"
      ],
      "text/plain": [
       "   learning_rate  weight_decay  train_kl_loss  test_kl_loss  train_r2_auto  \\\n",
       "6           0.10        0.0010       0.144770      0.146086       0.542693   \n",
       "7           0.10        0.0001       0.145304      0.146460       0.539212   \n",
       "5           0.10        0.0100       0.145766      0.146904       0.537077   \n",
       "4           0.10        0.1000       0.147639      0.148762       0.526823   \n",
       "1           0.01        0.0100       0.150929      0.151837       0.513846   \n",
       "2           0.01        0.0010       0.150918      0.151948       0.510972   \n",
       "0           0.01        0.1000       0.151083      0.152168       0.510579   \n",
       "3           0.01        0.0001       0.151116      0.152208       0.510750   \n",
       "\n",
       "   train_r2_active  train_r2_pt  test_r2_auto  test_r2_active  test_r2_pt  \n",
       "6         0.433732     0.442078      0.535272        0.424010    0.436634  \n",
       "7         0.426965     0.444917      0.533079        0.418992    0.439982  \n",
       "5         0.425160     0.443117      0.529898        0.416205    0.436896  \n",
       "4         0.412921     0.438133      0.520142        0.405058    0.433686  \n",
       "1         0.398519     0.416795      0.507366        0.391418    0.409801  \n",
       "2         0.398926     0.420583      0.505334        0.391266    0.419709  \n",
       "0         0.399992     0.420442      0.504485        0.391264    0.416231  \n",
       "3         0.397183     0.419251      0.504901        0.388673    0.415584  "
      ]
     },
     "execution_count": 24,
     "metadata": {},
     "output_type": "execute_result"
    }
   ],
   "source": [
    "df = []\n",
    "\n",
    "for (lr, wd) in itertools.product(lr_list, wd_list):\n",
    "\n",
    "    new = []\n",
    "    \n",
    "    for i in range(5):\n",
    "        new2 = []\n",
    "        for k,v in results[i][(lr,wd)].items():\n",
    "            new2.append(results[i][(lr,wd)][k]) \n",
    "        new.append(new2)\n",
    "        \n",
    "    new = np.array(new) \n",
    "    \n",
    "    df.append([lr] + [wd] + list(np.mean(new, axis=0)))\n",
    "\n",
    "\n",
    "pd.DataFrame(np.array(df), columns = ['learning_rate','weight_decay','train_kl_loss','test_kl_loss','train_r2_auto','train_r2_active','train_r2_pt',\n",
    "                                     'test_r2_auto','test_r2_active','test_r2_pt']).sort_values(by='test_kl_loss')"
   ]
  },
  {
   "cell_type": "code",
   "execution_count": null,
   "metadata": {},
   "outputs": [],
   "source": []
  }
 ],
 "metadata": {
  "kernelspec": {
   "display_name": "qingyi",
   "language": "python",
   "name": "qingyi"
  },
  "language_info": {
   "codemirror_mode": {
    "name": "ipython",
    "version": 3
   },
   "file_extension": ".py",
   "mimetype": "text/x-python",
   "name": "python",
   "nbconvert_exporter": "python",
   "pygments_lexer": "ipython3",
   "version": "3.8.3"
  }
 },
 "nbformat": 4,
 "nbformat_minor": 4
}
