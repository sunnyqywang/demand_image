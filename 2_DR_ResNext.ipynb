{
 "cells": [
  {
   "cell_type": "markdown",
   "metadata": {},
   "source": [
    "# Direct Regression from Images to Travel Behavior Variables"
   ]
  },
  {
   "cell_type": "code",
   "execution_count": 1,
   "metadata": {},
   "outputs": [],
   "source": [
    "from setup import out_dir, data_dir, image_dir, model_dir\n",
    "%load_ext autoreload\n",
    "%autoreload 2\n",
    "\n",
    "import os\n",
    "from datetime import datetime\n",
    "import json\n",
    "from collections import OrderedDict\n",
    "import logging\n",
    "import argparse\n",
    "import numpy as np\n",
    "import random\n",
    "import matplotlib.pyplot as plt\n",
    "import glob\n",
    "import pandas as pd\n",
    "import time \n",
    "\n",
    "import torch\n",
    "import torch.nn as nn\n",
    "import torch.optim\n",
    "import torch.utils.data\n",
    "import torch.backends.cudnn\n",
    "import torchvision.utils\n",
    "import torchvision.transforms\n",
    "import torch.nn.functional as F\n",
    "\n",
    "try:\n",
    "    from tensorboardX import SummaryWriter\n",
    "    is_tensorboard_available = True\n",
    "except Exception:\n",
    "    is_tensorboard_available = False\n",
    "\n",
    "from dataloader import get_loader, image_loader\n",
    "from util_train_test import load_model, train, test\n",
    "\n",
    "torch.backends.cudnn.benchmark = True\n",
    "\n",
    "logging.basicConfig(\n",
    "    format='[%(asctime)s %(name)s %(levelname)s] - %(message)s',\n",
    "    datefmt='%Y/%m/%d %H:%M:%S',\n",
    "    level=logging.DEBUG)\n",
    "logger = logging.getLogger(__name__)\n",
    "\n",
    "global_step = 0\n",
    "\n",
    "from sklearn.metrics import r2_score\n",
    "from sklearn.metrics import mean_squared_error"
   ]
  },
  {
   "cell_type": "code",
   "execution_count": 2,
   "metadata": {},
   "outputs": [
    {
     "name": "stderr",
     "output_type": "stream",
     "text": [
      "[2021/09/24 00:54:18 numexpr.utils INFO] - Note: NumExpr detected 20 cores but \"NUMEXPR_MAX_THREADS\" not set, so enforcing safe limit of 8.\n",
      "[2021/09/24 00:54:18 numexpr.utils INFO] - NumExpr defaulting to 8 threads.\n"
     ]
    }
   ],
   "source": [
    "# demo_df = pd.read_csv(data_dir+\"census_demo_df.csv\")\n",
    "# demo_df['census_tract'] = '17_'+demo_df['COUNTYA'].astype(str)+'_'+demo_df['TRACTA'].astype(str)\n",
    "\n",
    "# demo_np = demo_df[['tot_population','pct25_34yrs','pct35_50yrs','pctover65yrs',\n",
    "#          'pctwhite_alone','pct_nonwhite','pctblack_alone',\n",
    "#          'pct_col_grad','pctPTcommute','avg_tt_to_work','inc_per_capita']].to_numpy()\n",
    "# demo_np = demo_np / demo_np.max(axis=0)\n",
    "# demo_cs = demo_df['census_tract'].tolist()\n",
    "\n",
    "\n",
    "trp_bhv = pd.read_csv(data_dir+\"origin_trip_behavior.csv\")\n",
    "trp_bhv['census_tract'] = [s1+\"_\"+s2+\"_\"+s3 for (s1, s2, s3) in zip(trp_bhv['state_fips_1'].astype(str), trp_bhv['county_fips_1'].astype(str), trp_bhv['tract_fips_1'].astype(str))]\n",
    "trp_bhv['mode_share'] = trp_bhv['wtperfin_mode'] / trp_bhv['wtperfin_all']\n",
    "\n",
    "trp_bhv = trp_bhv.sort_values(by='census_tract')\n",
    "trp_gen = trp_bhv.groupby(by=['census_tract'], as_index=False).first()['wtperfin_all'].to_numpy()\n",
    "trp_auto = trp_bhv[trp_bhv['mode']==2]['mode_share'].to_numpy()\n",
    "trp_cs = trp_bhv['census_tract'].drop_duplicates().tolist()"
   ]
  },
  {
   "cell_type": "code",
   "execution_count": 3,
   "metadata": {},
   "outputs": [],
   "source": [
    "zoomlevel = 'zoom13'\n",
    "device = torch.device(\"cuda:0\" if torch.cuda.is_available() else \"cpu\")\n",
    "#device = torch.device(\"cpu\")"
   ]
  },
  {
   "cell_type": "code",
   "execution_count": 4,
   "metadata": {},
   "outputs": [],
   "source": [
    "args = {'image_size': 224, \n",
    "        'depth': -1,\n",
    "       'base_channels':64,\n",
    "       'output_dim':1,\n",
    "       'cardinality':1,\n",
    "       'epochs':200,\n",
    "       'batch_size':16,\n",
    "       'base_lr':0.001,\n",
    "       'weight_decay':0.05,\n",
    "       'momentum': 0.9,\n",
    "       'nesterov': True,\n",
    "       'milestones': '[150,225]',\n",
    "       'lr_decay':0.1,\n",
    "       'seed': 1234,\n",
    "       'outdir':out_dir,\n",
    "       'num_workers':8,\n",
    "       'tensorboard':False,\n",
    "       'save':True}\n",
    "\n",
    "model_config = OrderedDict([\n",
    "    ('arch', 'resnext'),\n",
    "    ('depth', args['depth']),\n",
    "    ('base_channels', args['base_channels']),\n",
    "    ('cardinality', args['cardinality']),\n",
    "    ('input_shape', (1, 3, 32, 32)),\n",
    "    ('output_dim', args['output_dim'])\n",
    "])\n",
    "\n",
    "optim_config = OrderedDict([\n",
    "    ('epochs', args['epochs']),\n",
    "    ('batch_size', args['batch_size']),\n",
    "    ('base_lr', args['base_lr']),\n",
    "    ('weight_decay', args['weight_decay']),\n",
    "    ('momentum', args['momentum']),\n",
    "    ('nesterov', args['nesterov']),\n",
    "    ('milestones', json.loads(args['milestones'])),\n",
    "    ('lr_decay', args['lr_decay']),\n",
    "])\n",
    "\n",
    "data_config = OrderedDict([\n",
    "    ('dataset', 'CIFAR10'),\n",
    "    ('image_size', args['image_size'])\n",
    "])\n",
    "\n",
    "run_config = OrderedDict([\n",
    "    ('seed', args['seed']),\n",
    "    ('outdir', args['outdir']),\n",
    "    ('save', args['save']),\n",
    "    ('num_workers', args['num_workers']),\n",
    "    ('tensorboard', args['tensorboard']),\n",
    "])\n",
    "\n",
    "config = OrderedDict([\n",
    "    ('model_config', model_config),\n",
    "    ('optim_config', optim_config),\n",
    "    ('data_config', data_config),\n",
    "    ('run_config', run_config),\n",
    "])"
   ]
  },
  {
   "cell_type": "code",
   "execution_count": 5,
   "metadata": {},
   "outputs": [],
   "source": [
    "# parse command line arguments\n",
    "#config = parse_args()\n",
    "#logger.info(json.dumps(config, indent=2))\n",
    "\n",
    "model_name = datetime.now().strftime(\"%m%d-%H%M\")\n",
    "\n",
    "run_config = config['run_config']\n",
    "optim_config = config['optim_config']\n",
    "\n",
    "# TensorBoard SummaryWriter\n",
    "writer = SummaryWriter(model_name) if run_config['tensorboard'] else None\n",
    "\n",
    "# set random seed\n",
    "seed = run_config['seed']\n",
    "torch.manual_seed(seed)\n",
    "np.random.seed(seed)\n",
    "random.seed(seed)\n",
    "\n",
    "# create output directory\n",
    "outdir = run_config['outdir']\n",
    "if not os.path.exists(outdir):\n",
    "    os.makedirs(outdir)\n",
    "\n",
    "# save config as json file in output directory\n",
    "outpath = os.path.join(outdir, 'config.json')\n",
    "with open(outpath, 'w') as fout:\n",
    "    json.dump(config, fout, indent=2)"
   ]
  },
  {
   "cell_type": "code",
   "execution_count": 6,
   "metadata": {},
   "outputs": [],
   "source": [
    "# data loaders\n",
    "# train_loader, test_loader = get_loader(optim_config['batch_size'], run_config['num_workers'])\n",
    "train_loader, test_loader = image_loader(image_dir+zoomlevel+\"/\", data_dir, optim_config['batch_size'], run_config['num_workers'], \n",
    "                                         data_config['image_size'], recalculate_normalize=False)"
   ]
  },
  {
   "cell_type": "code",
   "execution_count": 7,
   "metadata": {},
   "outputs": [],
   "source": [
    "criterion = nn.MSELoss(reduction='mean')\n",
    "# criterion = my_loss"
   ]
  },
  {
   "cell_type": "code",
   "execution_count": 8,
   "metadata": {},
   "outputs": [],
   "source": [
    "class AverageMeter(object):\n",
    "    def __init__(self):\n",
    "        self.reset()\n",
    "\n",
    "    def reset(self):\n",
    "        self.val = 0\n",
    "        self.avg = 0\n",
    "        self.sum = 0\n",
    "        self.count = 0\n",
    "\n",
    "    def update(self, val, num):\n",
    "        self.val = val\n",
    "        self.sum += val * num\n",
    "        self.count += num\n",
    "        self.avg = self.sum / self.count\n",
    "        "
   ]
  },
  {
   "cell_type": "code",
   "execution_count": 22,
   "metadata": {},
   "outputs": [
    {
     "name": "stdout",
     "output_type": "stream",
     "text": [
      "Encoder torch.Size([1, 2048, 1, 1])\n"
     ]
    }
   ],
   "source": [
    "# model\n",
    "config['model_config']['input_shape'] = (1,3,data_config['image_size'],data_config['image_size'])\n",
    "\n",
    "encoder = load_model(config['model_config']['arch'], 'Encoder', config['model_config'])\n",
    "encoder = encoder.to(device)"
   ]
  },
  {
   "cell_type": "code",
   "execution_count": 23,
   "metadata": {},
   "outputs": [],
   "source": [
    "config['encoder'] = encoder\n",
    "model = load_model('direct_regression','DirectRegression', config)\n",
    "model = model.to(device)\n"
   ]
  },
  {
   "cell_type": "code",
   "execution_count": 24,
   "metadata": {},
   "outputs": [],
   "source": [
    "optimizer = torch.optim.Adam(model.parameters(), lr=optim_config['base_lr'],\n",
    "                             weight_decay=optim_config['weight_decay'])\n"
   ]
  },
  {
   "cell_type": "code",
   "execution_count": 25,
   "metadata": {
    "scrolled": false
   },
   "outputs": [
    {
     "name": "stderr",
     "output_type": "stream",
     "text": [
      "[2021/09/24 01:52:17 __main__ INFO] - \n",
      "Train 0\n",
      "[2021/09/24 01:52:57 __main__ INFO] - Epoch 0 Step 519/520 Train Loss 447.83531525 \n",
      "[2021/09/24 01:52:57 __main__ INFO] - Train R2 0.01\n",
      "[2021/09/24 01:52:58 __main__ INFO] - Epoch 0 Test Loss 331.22628240\n",
      "[2021/09/24 01:52:58 __main__ INFO] - Test R2 -0.05\n",
      "[2021/09/24 01:52:58 __main__ INFO] - \n",
      "Train 1\n",
      "[2021/09/24 01:53:39 __main__ INFO] - Epoch 1 Step 519/520 Train Loss 430.95145041 \n",
      "[2021/09/24 01:53:39 __main__ INFO] - Train R2 0.05\n",
      "[2021/09/24 01:53:41 __main__ INFO] - Epoch 1 Test Loss 317.03733688\n",
      "[2021/09/24 01:53:41 __main__ INFO] - Test R2 -0.00\n",
      "[2021/09/24 01:53:41 __main__ INFO] - \n",
      "Train 2\n",
      "[2021/09/24 01:54:21 __main__ INFO] - Epoch 2 Step 519/520 Train Loss 412.74436688 \n",
      "[2021/09/24 01:54:21 __main__ INFO] - Train R2 0.09\n",
      "[2021/09/24 01:54:23 __main__ INFO] - Epoch 2 Test Loss 322.72193855\n",
      "[2021/09/24 01:54:23 __main__ INFO] - Test R2 -0.02\n",
      "[2021/09/24 01:54:23 __main__ INFO] - \n",
      "Train 3\n",
      "[2021/09/24 01:55:03 __main__ INFO] - Epoch 3 Step 519/520 Train Loss 410.83354772 \n",
      "[2021/09/24 01:55:03 __main__ INFO] - Train R2 0.09\n",
      "[2021/09/24 01:55:05 __main__ INFO] - Epoch 3 Test Loss 324.85012831\n",
      "[2021/09/24 01:55:05 __main__ INFO] - Test R2 -0.03\n",
      "[2021/09/24 01:55:05 __main__ INFO] - \n",
      "Train 4\n",
      "[2021/09/24 01:55:46 __main__ INFO] - Epoch 4 Step 519/520 Train Loss 404.65821656 \n",
      "[2021/09/24 01:55:46 __main__ INFO] - Train R2 0.10\n",
      "[2021/09/24 01:55:48 __main__ INFO] - Epoch 4 Test Loss 363.39366314\n",
      "[2021/09/24 01:55:48 __main__ INFO] - Test R2 -0.15\n",
      "[2021/09/24 01:55:48 __main__ INFO] - \n",
      "Train 5\n",
      "[2021/09/24 01:56:28 __main__ INFO] - Epoch 5 Step 519/520 Train Loss 447.64722925 \n",
      "[2021/09/24 01:56:28 __main__ INFO] - Train R2 0.01\n",
      "[2021/09/24 01:56:30 __main__ INFO] - Epoch 5 Test Loss 333.35233836\n",
      "[2021/09/24 01:56:30 __main__ INFO] - Test R2 -0.05\n",
      "[2021/09/24 01:56:30 __main__ INFO] - \n",
      "Train 6\n",
      "[2021/09/24 01:57:11 __main__ INFO] - Epoch 6 Step 519/520 Train Loss 440.17175138 \n",
      "[2021/09/24 01:57:11 __main__ INFO] - Train R2 0.02\n",
      "[2021/09/24 01:57:13 __main__ INFO] - Epoch 6 Test Loss 320.22751583\n",
      "[2021/09/24 01:57:13 __main__ INFO] - Test R2 -0.01\n",
      "[2021/09/24 01:57:13 __main__ INFO] - \n",
      "Train 7\n",
      "[2021/09/24 01:57:53 __main__ INFO] - Epoch 7 Step 519/520 Train Loss 400.22911267 \n",
      "[2021/09/24 01:57:53 __main__ INFO] - Train R2 0.11\n",
      "[2021/09/24 01:57:55 __main__ INFO] - Epoch 7 Test Loss 1721.10451252\n",
      "[2021/09/24 01:57:55 __main__ INFO] - Test R2 -4.43\n",
      "[2021/09/24 01:57:55 __main__ INFO] - \n",
      "Train 8\n",
      "[2021/09/24 01:58:35 __main__ INFO] - Epoch 8 Step 519/520 Train Loss 395.30167687 \n",
      "[2021/09/24 01:58:35 __main__ INFO] - Train R2 0.12\n",
      "[2021/09/24 01:58:37 __main__ INFO] - Epoch 8 Test Loss 488.34943885\n",
      "[2021/09/24 01:58:37 __main__ INFO] - Test R2 -0.54\n",
      "[2021/09/24 01:58:37 __main__ INFO] - \n",
      "Train 9\n",
      "[2021/09/24 01:59:17 __main__ INFO] - Epoch 9 Step 519/520 Train Loss 382.63169728 \n",
      "[2021/09/24 01:59:17 __main__ INFO] - Train R2 0.15\n",
      "[2021/09/24 01:59:19 __main__ INFO] - Epoch 9 Test Loss 338.93243466\n",
      "[2021/09/24 01:59:19 __main__ INFO] - Test R2 -0.07\n",
      "[2021/09/24 01:59:19 __main__ INFO] - \n",
      "Train 10\n",
      "[2021/09/24 01:59:59 __main__ INFO] - Epoch 10 Step 519/520 Train Loss 372.07848283 \n",
      "[2021/09/24 01:59:59 __main__ INFO] - Train R2 0.18\n",
      "[2021/09/24 02:00:01 __main__ INFO] - Epoch 10 Test Loss 387.63474887\n",
      "[2021/09/24 02:00:01 __main__ INFO] - Test R2 -0.22\n",
      "[2021/09/24 02:00:01 __main__ INFO] - \n",
      "Train 11\n",
      "[2021/09/24 02:00:41 __main__ INFO] - Epoch 11 Step 519/520 Train Loss 379.36360722 \n",
      "[2021/09/24 02:00:41 __main__ INFO] - Train R2 0.16\n",
      "[2021/09/24 02:00:43 __main__ INFO] - Epoch 11 Test Loss 347.74915521\n",
      "[2021/09/24 02:00:43 __main__ INFO] - Test R2 -0.10\n",
      "[2021/09/24 02:00:43 __main__ INFO] - \n",
      "Train 12\n",
      "[2021/09/24 02:01:23 __main__ INFO] - Epoch 12 Step 519/520 Train Loss 361.71155087 \n",
      "[2021/09/24 02:01:23 __main__ INFO] - Train R2 0.20\n",
      "[2021/09/24 02:01:25 __main__ INFO] - Epoch 12 Test Loss 581.35551033\n",
      "[2021/09/24 02:01:25 __main__ INFO] - Test R2 -0.83\n",
      "[2021/09/24 02:01:25 __main__ INFO] - \n",
      "Train 13\n",
      "[2021/09/24 02:02:05 __main__ INFO] - Epoch 13 Step 519/520 Train Loss 360.72112692 \n",
      "[2021/09/24 02:02:05 __main__ INFO] - Train R2 0.20\n",
      "[2021/09/24 02:02:07 __main__ INFO] - Epoch 13 Test Loss 397.77968076\n",
      "[2021/09/24 02:02:07 __main__ INFO] - Test R2 -0.26\n",
      "[2021/09/24 02:02:07 __main__ INFO] - \n",
      "Train 14\n",
      "[2021/09/24 02:02:47 __main__ INFO] - Epoch 14 Step 519/520 Train Loss 357.82711614 \n",
      "[2021/09/24 02:02:47 __main__ INFO] - Train R2 0.21\n",
      "[2021/09/24 02:02:48 __main__ INFO] - Epoch 14 Test Loss 389.51207993\n",
      "[2021/09/24 02:02:48 __main__ INFO] - Test R2 -0.23\n",
      "[2021/09/24 02:02:48 __main__ INFO] - \n",
      "Train 15\n",
      "[2021/09/24 02:03:28 __main__ INFO] - Epoch 15 Step 519/520 Train Loss 344.67550306 \n",
      "[2021/09/24 02:03:28 __main__ INFO] - Train R2 0.24\n",
      "[2021/09/24 02:03:30 __main__ INFO] - Epoch 15 Test Loss 711.82448237\n",
      "[2021/09/24 02:03:30 __main__ INFO] - Test R2 -1.25\n",
      "[2021/09/24 02:03:30 __main__ INFO] - \n",
      "Train 16\n",
      "[2021/09/24 02:04:10 __main__ INFO] - Epoch 16 Step 519/520 Train Loss 337.19019078 \n",
      "[2021/09/24 02:04:10 __main__ INFO] - Train R2 0.25\n",
      "[2021/09/24 02:04:12 __main__ INFO] - Epoch 16 Test Loss 1459.65594288\n",
      "[2021/09/24 02:04:12 __main__ INFO] - Test R2 -3.61\n",
      "[2021/09/24 02:04:12 __main__ INFO] - \n",
      "Train 17\n",
      "[2021/09/24 02:04:52 __main__ INFO] - Epoch 17 Step 519/520 Train Loss 342.86313755 \n",
      "[2021/09/24 02:04:52 __main__ INFO] - Train R2 0.24\n",
      "[2021/09/24 02:04:54 __main__ INFO] - Epoch 17 Test Loss 1592.43089683\n",
      "[2021/09/24 02:04:54 __main__ INFO] - Test R2 -4.02\n",
      "[2021/09/24 02:04:54 __main__ INFO] - \n",
      "Train 18\n",
      "[2021/09/24 02:05:33 __main__ INFO] - Epoch 18 Step 519/520 Train Loss 325.81750602 \n",
      "[2021/09/24 02:05:33 __main__ INFO] - Train R2 0.28\n",
      "[2021/09/24 02:05:35 __main__ INFO] - Epoch 18 Test Loss 829.47958708\n",
      "[2021/09/24 02:05:35 __main__ INFO] - Test R2 -1.62\n",
      "[2021/09/24 02:05:35 __main__ INFO] - \n",
      "Train 19\n",
      "[2021/09/24 02:06:15 __main__ INFO] - Epoch 19 Step 519/520 Train Loss 337.96114332 \n",
      "[2021/09/24 02:06:15 __main__ INFO] - Train R2 0.25\n",
      "[2021/09/24 02:06:17 __main__ INFO] - Epoch 19 Test Loss 653.22218172\n",
      "[2021/09/24 02:06:17 __main__ INFO] - Test R2 -1.06\n",
      "[2021/09/24 02:06:17 __main__ INFO] - \n",
      "Train 20\n",
      "[2021/09/24 02:06:57 __main__ INFO] - Epoch 20 Step 519/520 Train Loss 320.91255737 \n",
      "[2021/09/24 02:06:57 __main__ INFO] - Train R2 0.29\n",
      "[2021/09/24 02:06:58 __main__ INFO] - Epoch 20 Test Loss 383.87538027\n",
      "[2021/09/24 02:06:58 __main__ INFO] - Test R2 -0.21\n",
      "[2021/09/24 02:06:58 __main__ INFO] - \n",
      "Train 21\n",
      "[2021/09/24 02:07:38 __main__ INFO] - Epoch 21 Step 519/520 Train Loss 323.67842385 \n",
      "[2021/09/24 02:07:38 __main__ INFO] - Train R2 0.28\n",
      "[2021/09/24 02:07:40 __main__ INFO] - Epoch 21 Test Loss 710.96468822\n",
      "[2021/09/24 02:07:40 __main__ INFO] - Test R2 -1.24\n",
      "[2021/09/24 02:07:40 __main__ INFO] - \n",
      "Train 22\n",
      "[2021/09/24 02:08:20 __main__ INFO] - Epoch 22 Step 519/520 Train Loss 320.54643577 \n",
      "[2021/09/24 02:08:20 __main__ INFO] - Train R2 0.29\n",
      "[2021/09/24 02:08:22 __main__ INFO] - Epoch 22 Test Loss 1216.97090285\n",
      "[2021/09/24 02:08:22 __main__ INFO] - Test R2 -2.84\n",
      "[2021/09/24 02:08:22 __main__ INFO] - \n",
      "Train 23\n",
      "[2021/09/24 02:09:02 __main__ INFO] - Epoch 23 Step 519/520 Train Loss 317.18299097 \n",
      "[2021/09/24 02:09:02 __main__ INFO] - Train R2 0.30\n",
      "[2021/09/24 02:09:03 __main__ INFO] - Epoch 23 Test Loss 1554.38630853\n",
      "[2021/09/24 02:09:03 __main__ INFO] - Test R2 -3.90\n",
      "[2021/09/24 02:09:03 __main__ INFO] - \n",
      "Train 24\n",
      "[2021/09/24 02:09:43 __main__ INFO] - Epoch 24 Step 519/520 Train Loss 311.01690684 \n",
      "[2021/09/24 02:09:43 __main__ INFO] - Train R2 0.31\n",
      "[2021/09/24 02:09:45 __main__ INFO] - Epoch 24 Test Loss 363.65294257\n",
      "[2021/09/24 02:09:45 __main__ INFO] - Test R2 -0.15\n",
      "[2021/09/24 02:09:45 __main__ INFO] - \n",
      "Train 25\n",
      "[2021/09/24 02:10:25 __main__ INFO] - Epoch 25 Step 519/520 Train Loss 300.62194624 \n",
      "[2021/09/24 02:10:25 __main__ INFO] - Train R2 0.33\n",
      "[2021/09/24 02:10:26 __main__ INFO] - Epoch 25 Test Loss 642.75029468\n",
      "[2021/09/24 02:10:26 __main__ INFO] - Test R2 -1.03\n",
      "[2021/09/24 02:10:26 __main__ INFO] - \n",
      "Train 26\n",
      "[2021/09/24 02:11:06 __main__ INFO] - Epoch 26 Step 519/520 Train Loss 288.12538020 \n",
      "[2021/09/24 02:11:06 __main__ INFO] - Train R2 0.36\n",
      "[2021/09/24 02:11:08 __main__ INFO] - Epoch 26 Test Loss 2765.44479546\n"
     ]
    },
    {
     "name": "stderr",
     "output_type": "stream",
     "text": [
      "[2021/09/24 02:11:08 __main__ INFO] - Test R2 -7.73\n",
      "[2021/09/24 02:11:08 __main__ INFO] - \n",
      "Train 27\n",
      "[2021/09/24 02:11:48 __main__ INFO] - Epoch 27 Step 519/520 Train Loss 286.87194072 \n",
      "[2021/09/24 02:11:48 __main__ INFO] - Train R2 0.36\n",
      "[2021/09/24 02:11:50 __main__ INFO] - Epoch 27 Test Loss 4283.31327908\n",
      "[2021/09/24 02:11:50 __main__ INFO] - Test R2 -12.52\n",
      "[2021/09/24 02:11:50 __main__ INFO] - \n",
      "Train 28\n",
      "[2021/09/24 02:12:30 __main__ INFO] - Epoch 28 Step 519/520 Train Loss 305.62799616 \n",
      "[2021/09/24 02:12:30 __main__ INFO] - Train R2 0.32\n",
      "[2021/09/24 02:12:32 __main__ INFO] - Epoch 28 Test Loss 2002.48251039\n",
      "[2021/09/24 02:12:32 __main__ INFO] - Test R2 -5.32\n",
      "[2021/09/24 02:12:32 __main__ INFO] - \n",
      "Train 29\n",
      "[2021/09/24 02:13:11 __main__ INFO] - Epoch 29 Step 519/520 Train Loss 293.00374327 \n",
      "[2021/09/24 02:13:11 __main__ INFO] - Train R2 0.35\n",
      "[2021/09/24 02:13:13 __main__ INFO] - Epoch 29 Test Loss 417.42646114\n",
      "[2021/09/24 02:13:13 __main__ INFO] - Test R2 -0.32\n",
      "[2021/09/24 02:13:13 __main__ INFO] - \n",
      "Train 30\n",
      "[2021/09/24 02:13:53 __main__ INFO] - Epoch 30 Step 519/520 Train Loss 272.29778133 \n",
      "[2021/09/24 02:13:53 __main__ INFO] - Train R2 0.40\n",
      "[2021/09/24 02:13:55 __main__ INFO] - Epoch 30 Test Loss 517.47158703\n",
      "[2021/09/24 02:13:55 __main__ INFO] - Test R2 -0.63\n",
      "[2021/09/24 02:13:55 __main__ INFO] - \n",
      "Train 31\n",
      "[2021/09/24 02:14:34 __main__ INFO] - Epoch 31 Step 519/520 Train Loss 290.00179587 \n",
      "[2021/09/24 02:14:34 __main__ INFO] - Train R2 0.36\n",
      "[2021/09/24 02:14:36 __main__ INFO] - Epoch 31 Test Loss 1009.01666066\n",
      "[2021/09/24 02:14:36 __main__ INFO] - Test R2 -2.18\n",
      "[2021/09/24 02:14:36 __main__ INFO] - \n",
      "Train 32\n",
      "[2021/09/24 02:15:16 __main__ INFO] - Epoch 32 Step 519/520 Train Loss 275.26447290 \n",
      "[2021/09/24 02:15:16 __main__ INFO] - Train R2 0.39\n",
      "[2021/09/24 02:15:18 __main__ INFO] - Epoch 32 Test Loss 400.98871317\n",
      "[2021/09/24 02:15:18 __main__ INFO] - Test R2 -0.27\n",
      "[2021/09/24 02:15:18 __main__ INFO] - \n",
      "Train 33\n",
      "[2021/09/24 02:15:58 __main__ INFO] - Epoch 33 Step 519/520 Train Loss 292.85279105 \n",
      "[2021/09/24 02:15:58 __main__ INFO] - Train R2 0.35\n",
      "[2021/09/24 02:16:00 __main__ INFO] - Epoch 33 Test Loss 754.84945238\n",
      "[2021/09/24 02:16:00 __main__ INFO] - Test R2 -1.38\n",
      "[2021/09/24 02:16:00 __main__ INFO] - \n",
      "Train 34\n",
      "[2021/09/24 02:16:40 __main__ INFO] - Epoch 34 Step 519/520 Train Loss 256.93640825 \n",
      "[2021/09/24 02:16:40 __main__ INFO] - Train R2 0.43\n",
      "[2021/09/24 02:16:42 __main__ INFO] - Epoch 34 Test Loss 470.11100729\n",
      "[2021/09/24 02:16:42 __main__ INFO] - Test R2 -0.48\n",
      "[2021/09/24 02:16:42 __main__ INFO] - \n",
      "Train 35\n",
      "[2021/09/24 02:17:21 __main__ INFO] - Epoch 35 Step 519/520 Train Loss 262.10551394 \n",
      "[2021/09/24 02:17:21 __main__ INFO] - Train R2 0.42\n",
      "[2021/09/24 02:17:23 __main__ INFO] - Epoch 35 Test Loss 587.50278294\n",
      "[2021/09/24 02:17:23 __main__ INFO] - Test R2 -0.85\n",
      "[2021/09/24 02:17:23 __main__ INFO] - \n",
      "Train 36\n",
      "[2021/09/24 02:18:03 __main__ INFO] - Epoch 36 Step 519/520 Train Loss 264.14749367 \n",
      "[2021/09/24 02:18:03 __main__ INFO] - Train R2 0.41\n",
      "[2021/09/24 02:18:05 __main__ INFO] - Epoch 36 Test Loss 574.75078612\n",
      "[2021/09/24 02:18:05 __main__ INFO] - Test R2 -0.81\n",
      "[2021/09/24 02:18:05 __main__ INFO] - \n",
      "Train 37\n",
      "[2021/09/24 02:18:45 __main__ INFO] - Epoch 37 Step 519/520 Train Loss 270.07985235 \n",
      "[2021/09/24 02:18:45 __main__ INFO] - Train R2 0.40\n",
      "[2021/09/24 02:18:47 __main__ INFO] - Epoch 37 Test Loss 1012.19656250\n",
      "[2021/09/24 02:18:47 __main__ INFO] - Test R2 -2.19\n",
      "[2021/09/24 02:18:47 __main__ INFO] - \n",
      "Train 38\n",
      "[2021/09/24 02:19:27 __main__ INFO] - Epoch 38 Step 519/520 Train Loss 255.37011167 \n",
      "[2021/09/24 02:19:27 __main__ INFO] - Train R2 0.43\n",
      "[2021/09/24 02:19:29 __main__ INFO] - Epoch 38 Test Loss 1278.39038634\n",
      "[2021/09/24 02:19:29 __main__ INFO] - Test R2 -3.03\n",
      "[2021/09/24 02:19:29 __main__ INFO] - \n",
      "Train 39\n",
      "[2021/09/24 02:20:09 __main__ INFO] - Epoch 39 Step 519/520 Train Loss 248.11486428 \n",
      "[2021/09/24 02:20:09 __main__ INFO] - Train R2 0.45\n",
      "[2021/09/24 02:20:11 __main__ INFO] - Epoch 39 Test Loss 813.82849921\n",
      "[2021/09/24 02:20:11 __main__ INFO] - Test R2 -1.57\n",
      "[2021/09/24 02:20:11 __main__ INFO] - \n",
      "Train 40\n",
      "[2021/09/24 02:20:51 __main__ INFO] - Epoch 40 Step 519/520 Train Loss 259.31729786 \n",
      "[2021/09/24 02:20:51 __main__ INFO] - Train R2 0.43\n",
      "[2021/09/24 02:20:53 __main__ INFO] - Epoch 40 Test Loss 942.24221830\n",
      "[2021/09/24 02:20:53 __main__ INFO] - Test R2 -1.97\n",
      "[2021/09/24 02:20:53 __main__ INFO] - \n",
      "Train 41\n",
      "[2021/09/24 02:21:33 __main__ INFO] - Epoch 41 Step 519/520 Train Loss 251.74064951 \n",
      "[2021/09/24 02:21:33 __main__ INFO] - Train R2 0.44\n",
      "[2021/09/24 02:21:34 __main__ INFO] - Epoch 41 Test Loss 5591.73747879\n",
      "[2021/09/24 02:21:34 __main__ INFO] - Test R2 -16.64\n",
      "[2021/09/24 02:21:34 __main__ INFO] - \n",
      "Train 42\n",
      "[2021/09/24 02:22:14 __main__ INFO] - Epoch 42 Step 519/520 Train Loss 242.11949249 \n",
      "[2021/09/24 02:22:14 __main__ INFO] - Train R2 0.46\n",
      "[2021/09/24 02:22:16 __main__ INFO] - Epoch 42 Test Loss 902.29420456\n",
      "[2021/09/24 02:22:16 __main__ INFO] - Test R2 -1.85\n",
      "[2021/09/24 02:22:16 __main__ INFO] - \n",
      "Train 43\n",
      "[2021/09/24 02:22:56 __main__ INFO] - Epoch 43 Step 519/520 Train Loss 247.65234482 \n",
      "[2021/09/24 02:22:56 __main__ INFO] - Train R2 0.45\n",
      "[2021/09/24 02:22:58 __main__ INFO] - Epoch 43 Test Loss 825.92563971\n",
      "[2021/09/24 02:22:58 __main__ INFO] - Test R2 -1.61\n",
      "[2021/09/24 02:22:58 __main__ INFO] - \n",
      "Train 44\n",
      "[2021/09/24 02:23:39 __main__ INFO] - Epoch 44 Step 519/520 Train Loss 241.15560221 \n",
      "[2021/09/24 02:23:39 __main__ INFO] - Train R2 0.47\n",
      "[2021/09/24 02:23:41 __main__ INFO] - Epoch 44 Test Loss 873.28395398\n",
      "[2021/09/24 02:23:41 __main__ INFO] - Test R2 -1.76\n",
      "[2021/09/24 02:23:41 __main__ INFO] - \n",
      "Train 45\n",
      "[2021/09/24 02:24:21 __main__ INFO] - Epoch 45 Step 519/520 Train Loss 220.02074156 \n",
      "[2021/09/24 02:24:21 __main__ INFO] - Train R2 0.51\n",
      "[2021/09/24 02:24:22 __main__ INFO] - Epoch 45 Test Loss 1957.93963186\n",
      "[2021/09/24 02:24:22 __main__ INFO] - Test R2 -5.18\n",
      "[2021/09/24 02:24:22 __main__ INFO] - \n",
      "Train 46\n",
      "[2021/09/24 02:25:02 __main__ INFO] - Epoch 46 Step 519/520 Train Loss 206.55037888 \n",
      "[2021/09/24 02:25:02 __main__ INFO] - Train R2 0.54\n",
      "[2021/09/24 02:25:04 __main__ INFO] - Epoch 46 Test Loss 2907.73125109\n",
      "[2021/09/24 02:25:04 __main__ INFO] - Test R2 -8.18\n",
      "[2021/09/24 02:25:04 __main__ INFO] - \n",
      "Train 47\n",
      "[2021/09/24 02:25:44 __main__ INFO] - Epoch 47 Step 519/520 Train Loss 206.15014446 \n",
      "[2021/09/24 02:25:44 __main__ INFO] - Train R2 0.54\n",
      "[2021/09/24 02:25:46 __main__ INFO] - Epoch 47 Test Loss 424.19013055\n",
      "[2021/09/24 02:25:46 __main__ INFO] - Test R2 -0.34\n",
      "[2021/09/24 02:25:46 __main__ INFO] - \n",
      "Train 48\n",
      "[2021/09/24 02:26:26 __main__ INFO] - Epoch 48 Step 519/520 Train Loss 225.74041431 \n",
      "[2021/09/24 02:26:26 __main__ INFO] - Train R2 0.50\n",
      "[2021/09/24 02:26:28 __main__ INFO] - Epoch 48 Test Loss 800.18071721\n",
      "[2021/09/24 02:26:28 __main__ INFO] - Test R2 -1.52\n",
      "[2021/09/24 02:26:28 __main__ INFO] - \n",
      "Train 49\n",
      "[2021/09/24 02:27:08 __main__ INFO] - Epoch 49 Step 519/520 Train Loss 238.21473575 \n",
      "[2021/09/24 02:27:08 __main__ INFO] - Train R2 0.47\n",
      "[2021/09/24 02:27:10 __main__ INFO] - Epoch 49 Test Loss 2066.93189312\n",
      "[2021/09/24 02:27:10 __main__ INFO] - Test R2 -5.52\n",
      "[2021/09/24 02:27:10 __main__ INFO] - \n",
      "Train 50\n",
      "[2021/09/24 02:27:50 __main__ INFO] - Epoch 50 Step 519/520 Train Loss 207.11432481 \n",
      "[2021/09/24 02:27:50 __main__ INFO] - Train R2 0.54\n",
      "[2021/09/24 02:27:52 __main__ INFO] - Epoch 50 Test Loss 716.35000766\n",
      "[2021/09/24 02:27:52 __main__ INFO] - Test R2 -1.26\n",
      "[2021/09/24 02:27:52 __main__ INFO] - \n",
      "Train 51\n",
      "[2021/09/24 02:28:32 __main__ INFO] - Epoch 51 Step 519/520 Train Loss 206.10511599 \n",
      "[2021/09/24 02:28:32 __main__ INFO] - Train R2 0.54\n",
      "[2021/09/24 02:28:34 __main__ INFO] - Epoch 51 Test Loss 822.60312408\n",
      "[2021/09/24 02:28:34 __main__ INFO] - Test R2 -1.60\n",
      "[2021/09/24 02:28:34 __main__ INFO] - \n",
      "Train 52\n",
      "[2021/09/24 02:29:14 __main__ INFO] - Epoch 52 Step 519/520 Train Loss 199.97746815 \n",
      "[2021/09/24 02:29:14 __main__ INFO] - Train R2 0.56\n",
      "[2021/09/24 02:29:15 __main__ INFO] - Epoch 52 Test Loss 517.83021285\n",
      "[2021/09/24 02:29:15 __main__ INFO] - Test R2 -0.63\n",
      "[2021/09/24 02:29:15 __main__ INFO] - \n",
      "Train 53\n",
      "[2021/09/24 02:29:55 __main__ INFO] - Epoch 53 Step 519/520 Train Loss 211.31093162 \n",
      "[2021/09/24 02:29:55 __main__ INFO] - Train R2 0.53\n"
     ]
    },
    {
     "name": "stderr",
     "output_type": "stream",
     "text": [
      "[2021/09/24 02:29:57 __main__ INFO] - Epoch 53 Test Loss 669.70507392\n",
      "[2021/09/24 02:29:57 __main__ INFO] - Test R2 -1.11\n",
      "[2021/09/24 02:29:57 __main__ INFO] - \n",
      "Train 54\n",
      "[2021/09/24 02:30:37 __main__ INFO] - Epoch 54 Step 519/520 Train Loss 190.93885667 \n",
      "[2021/09/24 02:30:37 __main__ INFO] - Train R2 0.58\n",
      "[2021/09/24 02:30:39 __main__ INFO] - Epoch 54 Test Loss 1880.46720783\n",
      "[2021/09/24 02:30:39 __main__ INFO] - Test R2 -4.93\n",
      "[2021/09/24 02:30:39 __main__ INFO] - \n",
      "Train 55\n",
      "[2021/09/24 02:31:19 __main__ INFO] - Epoch 55 Step 519/520 Train Loss 202.38040830 \n",
      "[2021/09/24 02:31:19 __main__ INFO] - Train R2 0.55\n",
      "[2021/09/24 02:31:21 __main__ INFO] - Epoch 55 Test Loss 1205.23745177\n",
      "[2021/09/24 02:31:21 __main__ INFO] - Test R2 -2.80\n",
      "[2021/09/24 02:31:21 __main__ INFO] - \n",
      "Train 56\n",
      "[2021/09/24 02:32:01 __main__ INFO] - Epoch 56 Step 519/520 Train Loss 184.21646913 \n",
      "[2021/09/24 02:32:01 __main__ INFO] - Train R2 0.59\n",
      "[2021/09/24 02:32:03 __main__ INFO] - Epoch 56 Test Loss 588.72070741\n",
      "[2021/09/24 02:32:03 __main__ INFO] - Test R2 -0.86\n",
      "[2021/09/24 02:32:03 __main__ INFO] - \n",
      "Train 57\n",
      "[2021/09/24 02:32:43 __main__ INFO] - Epoch 57 Step 519/520 Train Loss 179.80509904 \n",
      "[2021/09/24 02:32:43 __main__ INFO] - Train R2 0.60\n",
      "[2021/09/24 02:32:45 __main__ INFO] - Epoch 57 Test Loss 663.13822170\n",
      "[2021/09/24 02:32:45 __main__ INFO] - Test R2 -1.09\n",
      "[2021/09/24 02:32:45 __main__ INFO] - \n",
      "Train 58\n",
      "[2021/09/24 02:33:24 __main__ INFO] - Epoch 58 Step 519/520 Train Loss 174.90483027 \n",
      "[2021/09/24 02:33:24 __main__ INFO] - Train R2 0.61\n",
      "[2021/09/24 02:33:26 __main__ INFO] - Epoch 58 Test Loss 1583.45401580\n",
      "[2021/09/24 02:33:26 __main__ INFO] - Test R2 -4.00\n",
      "[2021/09/24 02:33:26 __main__ INFO] - \n",
      "Train 59\n",
      "[2021/09/24 02:34:06 __main__ INFO] - Epoch 59 Step 519/520 Train Loss 173.46840723 \n",
      "[2021/09/24 02:34:06 __main__ INFO] - Train R2 0.62\n",
      "[2021/09/24 02:34:08 __main__ INFO] - Epoch 59 Test Loss 1211.51483524\n",
      "[2021/09/24 02:34:08 __main__ INFO] - Test R2 -2.82\n",
      "[2021/09/24 02:34:08 __main__ INFO] - \n",
      "Train 60\n",
      "[2021/09/24 02:34:49 __main__ INFO] - Epoch 60 Step 519/520 Train Loss 181.85540114 \n",
      "[2021/09/24 02:34:49 __main__ INFO] - Train R2 0.60\n",
      "[2021/09/24 02:34:50 __main__ INFO] - Epoch 60 Test Loss 2354.89556076\n",
      "[2021/09/24 02:34:50 __main__ INFO] - Test R2 -6.43\n"
     ]
    },
    {
     "name": "stdout",
     "output_type": "stream",
     "text": [
      "Diverging. stop.\n"
     ]
    }
   ],
   "source": [
    "ref1 = 0\n",
    "ref2 = 0\n",
    "\n",
    "for epoch in range(optim_config['epochs']):\n",
    "        \n",
    "    if logger is not None:\n",
    "        logger.info('\\nTrain {}'.format(epoch))\n",
    "\n",
    "    model.train()\n",
    "\n",
    "    loss_meter = AverageMeter()\n",
    "    accuracy_meter = AverageMeter()\n",
    "    start = time.time()\n",
    "    \n",
    "    return_trp_train = []\n",
    "    train_true = []\n",
    "\n",
    "    for step, (image_list, data) in enumerate(train_loader):\n",
    "        \n",
    "        if run_config['tensorboard'] and step == 0:\n",
    "            image = torchvision.utils.make_grid(\n",
    "                data, normalize=True, scale_each=True)\n",
    "            writer.add_image('Train/Image', image, epoch)\n",
    "\n",
    "        census_index = [trp_cs.index(i[i.rfind('/')+1:i.rfind('_')]) for i in image_list]\n",
    "        census_data = trp_gen[census_index]/1000\n",
    "#         census_data = trp_auto[census_index]\n",
    "        train_true += census_data.tolist()\n",
    "\n",
    "        census_data = torch.tensor(census_data).float().to(device)\n",
    "        data = data.to(device)\n",
    "        \n",
    "        optimizer.zero_grad()\n",
    "\n",
    "        out = model(data)\n",
    "        return_trp_train += out.detach().cpu().numpy().tolist()\n",
    "\n",
    "        loss = criterion(out.flatten(), census_data.flatten()).float()\n",
    "        loss.backward()\n",
    "\n",
    "        optimizer.step()\n",
    "\n",
    "        num = data.size(0)\n",
    "\n",
    "        loss_ = loss.item()\n",
    "        loss_meter.update(loss_, num)\n",
    "\n",
    "#         _, preds = torch.max(outputs, dim=1)\n",
    "#         correct_ = preds.eq(targets).sum().item()\n",
    "#         accuracy = correct_ / num\n",
    "#         accuracy_meter.update(accuracy, num)\n",
    "\n",
    "        if run_config['tensorboard']:\n",
    "            writer.add_scalar('Train/RunningLoss', loss_, epoch)\n",
    "#             writer.add_scalar('Train/RunningAccuracy', accuracy, epoch)\n",
    "    return_trp_train = np.array(return_trp_train).flatten()\n",
    "    train_true = np.array(train_true).flatten()\n",
    "    \n",
    "    r2 = r2_score(train_true, return_trp_train)\n",
    "#     print(sorted(return_trp_train-train_true)[:10])\n",
    "#     print(sorted(return_trp_train-train_true)[-10:])    \n",
    "    \n",
    "#     logger.info('Epoch {} Step {}/{} '\n",
    "#                 'Loss {:.4f} ({:.4f}) '\n",
    "#                 'Accuracy {:.4f} ({:.4f})'.format(\n",
    "#                     epoch,\n",
    "#                     step,\n",
    "#                     len(train_loader),\n",
    "#                     loss_meter.val,\n",
    "#                     loss_meter.avg,\n",
    "#                     accuracy_meter.val,\n",
    "#                     accuracy_meter.avg,\n",
    "#                 ))\n",
    "  \n",
    "    if logger is not None:\n",
    "        logger.info('Epoch {} Step {}/{} '\n",
    "                'Train Loss {:.8f} '.format(\n",
    "                    epoch,\n",
    "                    step,\n",
    "                    len(train_loader),\n",
    "                    loss_meter.avg\n",
    "                ))\n",
    "        logger.info('Train R2 {:.2f}'.format(r2))\n",
    "\n",
    "    if run_config['tensorboard']:\n",
    "        elapsed = time.time() - start\n",
    "        writer.add_scalar('Train/Loss', loss_meter.avg, epoch)\n",
    "        writer.add_scalar('Train/Accuracy', accuracy_meter.avg, epoch)\n",
    "        writer.add_scalar('Train/Time', elapsed, epoch)\n",
    "    \n",
    "    model.eval()\n",
    "        \n",
    "    return_trp = []\n",
    "    test_true = []\n",
    "    \n",
    "    loss_meter = AverageMeter()\n",
    "    correct_meter = AverageMeter()\n",
    "    start = time.time()\n",
    "    for step, (image_list, data) in enumerate(test_loader):\n",
    "#         if run_config['tensorboard'] and epoch == 0 and step == 0:\n",
    "#             image = torchvision.utils.make_grid(\n",
    "#                 data, normalize=True, scale_each=True)\n",
    "#             writer.add_image('Test/Image', image, epoch)\n",
    "\n",
    "        data = data.to(device)\n",
    "        census_index = [trp_cs.index(i[i.rfind('/')+1:i.rfind('_')]) for i in image_list]\n",
    "        census_data = trp_gen[census_index]/1000\n",
    "#         census_data = trp_auto[census_index]\n",
    "        \n",
    "        test_true += census_data.tolist()\n",
    "        \n",
    "        census_data = torch.tensor(census_data).to(device)\n",
    "\n",
    "        with torch.no_grad():            \n",
    "            out = model(data)\n",
    "        \n",
    "        loss = criterion(out.flatten(), census_data.flatten())\n",
    "       \n",
    "        loss_ = loss.item()\n",
    "#         print(loss_)\n",
    "        num = data.size(0)\n",
    "        loss_meter.update(loss_, num)\n",
    "#         print(loss_meter.avg)\n",
    "\n",
    "        return_trp += out.detach().cpu().numpy().tolist()\n",
    "\n",
    "    return_trp = np.array(return_trp)\n",
    "    test_true = np.array(test_true)\n",
    "    r2 = r2_score(test_true, return_trp)\n",
    "\n",
    "    \n",
    "#     logger.info('Epoch {} Loss {:.4f} Accuracy {:.4f}'.format(\n",
    "#         epoch, loss_meter.avg, accuracy))\n",
    "\n",
    "    if logger is not None:\n",
    "        logger.info('Epoch {} Test Loss {:.8f}'.format(epoch, loss_meter.avg))\n",
    "    \n",
    "        elapsed = time.time() - start\n",
    "#         logger.info('Elapsed {:.2f}'.format(elapsed))\n",
    "        logger.info('Test R2 {:.2f}'.format(r2))\n",
    "\n",
    "    else:\n",
    "        print('Epoch {} Test Loss {:.8f}'.format(epoch, loss_meter.avg))\n",
    "               \n",
    "    if epoch % 5 == 0:\n",
    "        if epoch > 50:\n",
    "            if (np.abs(loss_ - ref1)/ref1<0.005) & (np.abs(loss_ - ref2)/ref2<0.005):\n",
    "                print(\"Early stopping at epoch\", epoch)\n",
    "                break\n",
    "            if (ref1 < loss_) & (ref1 < ref2):\n",
    "                print(\"Diverging. stop.\")\n",
    "                break\n",
    "            if loss_ < best:\n",
    "                best = loss_\n",
    "                best_epoch = epoch\n",
    "        else:\n",
    "            best = loss_\n",
    "            best_epoch = epoch\n",
    "\n",
    "        ref2 = ref1\n",
    "        ref1 = loss_\n",
    "        "
   ]
  },
  {
   "cell_type": "code",
   "execution_count": 21,
   "metadata": {},
   "outputs": [
    {
     "name": "stdout",
     "output_type": "stream",
     "text": [
      "[-1.0, -1.0, -1.0, -1.0, -1.0, -1.0, -1.0, -1.0, -1.0, -1.0]\n",
      "[1.0, 1.0, 1.0, 1.0, 1.0, 1.0, 1.0, 1.0, 1.0, 1.0]\n"
     ]
    }
   ],
   "source": [
    "return_trp = np.array(return_trp).flatten()\n",
    "train_true = np.array(train_true).flatten()\n",
    "\n",
    "r2 = r2_score(return_trp, train_true)\n",
    "print(sorted(return_trp-train_true)[:10])\n",
    "print(sorted(return_trp-train_true)[-10:])    \n"
   ]
  },
  {
   "cell_type": "code",
   "execution_count": 36,
   "metadata": {},
   "outputs": [
    {
     "data": {
      "text/plain": [
       "(array([320., 390., 130.,  50.,  20.,   0.,   0.,   0.,   0.,  20.]),\n",
       " array([  2.8499293 ,  14.49338237,  26.13683544,  37.78028851,\n",
       "         49.42374158,  61.06719465,  72.71064772,  84.35410079,\n",
       "         95.99755386, 107.64100693, 119.28446   ]),\n",
       " <a list of 10 Patch objects>)"
      ]
     },
     "execution_count": 36,
     "metadata": {},
     "output_type": "execute_result"
    },
    {
     "data": {
      "image/png": "[encoded data removed]",
      "text/plain": [
       "<Figure size 432x288 with 1 Axes>"
      ]
     },
     "metadata": {
      "needs_background": "light"
     },
     "output_type": "display_data"
    }
   ],
   "source": [
    "plt.hist(test_true)"
   ]
  },
  {
   "cell_type": "code",
   "execution_count": 38,
   "metadata": {},
   "outputs": [
    {
     "data": {
      "text/plain": [
       "(array([  4.,   5.,   9.,  44., 745.,  88.,  26.,   7.,   0.,   2.]),\n",
       " array([-320.92547607, -309.31758728, -297.70969849, -286.10180969,\n",
       "        -274.4939209 , -262.8860321 , -251.27814331, -239.67025452,\n",
       "        -228.06236572, -216.45447693, -204.84658813]),\n",
       " <a list of 10 Patch objects>)"
      ]
     },
     "execution_count": 38,
     "metadata": {},
     "output_type": "execute_result"
    },
    {
     "data": {
      "image/png": "[encoded data removed]",
      "text/plain": [
       "<Figure size 432x288 with 1 Axes>"
      ]
     },
     "metadata": {
      "needs_background": "light"
     },
     "output_type": "display_data"
    }
   ],
   "source": [
    "plt.hist(return_trp)"
   ]
  },
  {
   "cell_type": "code",
   "execution_count": 44,
   "metadata": {},
   "outputs": [
    {
     "data": {
      "text/plain": [
       "(array([3.840e+02, 1.419e+03, 1.490e+02, 4.000e+01, 1.400e+01, 2.000e+00,\n",
       "        3.000e+00, 2.000e+00, 1.000e+00, 2.000e+00]),\n",
       " array([  0.3655386 ,  15.07823095,  29.79092331,  44.50361567,\n",
       "         59.21630802,  73.92900038,  88.64169273, 103.35438509,\n",
       "        118.06707745, 132.7797698 , 147.49246216]),\n",
       " <a list of 10 Patch objects>)"
      ]
     },
     "execution_count": 44,
     "metadata": {},
     "output_type": "execute_result"
    },
    {
     "data": {
      "image/png": "[encoded data removed]",
      "text/plain": [
       "<Figure size 432x288 with 1 Axes>"
      ]
     },
     "metadata": {
      "needs_background": "light"
     },
     "output_type": "display_data"
    }
   ],
   "source": [
    "plt.hist(np.array(return_trp_train).flatten())"
   ]
  },
  {
   "cell_type": "code",
   "execution_count": 53,
   "metadata": {},
   "outputs": [
    {
     "data": {
      "text/plain": [
       "[<matplotlib.lines.Line2D at 0x7f8d346f5b50>]"
      ]
     },
     "execution_count": 53,
     "metadata": {},
     "output_type": "execute_result"
    },
    {
     "data": {
      "image/png": "[encoded data removed]",
      "text/plain": [
       "<Figure size 432x288 with 1 Axes>"
      ]
     },
     "metadata": {
      "needs_background": "light"
     },
     "output_type": "display_data"
    }
   ],
   "source": [
    "fig, ax = plt.subplots()\n",
    "ax.scatter(np.array(return_trp_train).flatten(), train_true)\n",
    "ax.plot([0,140],[0,140],linewidth=2, color='k')"
   ]
  },
  {
   "cell_type": "code",
   "execution_count": 41,
   "metadata": {},
   "outputs": [
    {
     "data": {
      "text/plain": [
       "(array([1810.,  183.,   14.,    3.,    2.,    0.,    0.,    0.,    0.,\n",
       "           4.]),\n",
       " array([  1.1912392 ,  40.36614035,  79.5410415 , 118.71594265,\n",
       "        157.8908438 , 197.06574495, 236.2406461 , 275.41554725,\n",
       "        314.5904484 , 353.76534955, 392.9402507 ]),\n",
       " <a list of 10 Patch objects>)"
      ]
     },
     "execution_count": 41,
     "metadata": {},
     "output_type": "execute_result"
    },
    {
     "data": {
      "image/png": "[encoded data removed]",
      "text/plain": [
       "<Figure size 432x288 with 1 Axes>"
      ]
     },
     "metadata": {
      "needs_background": "light"
     },
     "output_type": "display_data"
    }
   ],
   "source": [
    "plt.hist(train_true)"
   ]
  },
  {
   "cell_type": "code",
   "execution_count": 24,
   "metadata": {},
   "outputs": [
    {
     "data": {
      "text/plain": [
       "array([0.99951398, 0.99951398, 0.99951398, ..., 0.        , 0.        ,\n",
       "       0.        ])"
      ]
     },
     "execution_count": 24,
     "metadata": {},
     "output_type": "execute_result"
    }
   ],
   "source": [
    "return_trp"
   ]
  },
  {
   "cell_type": "code",
   "execution_count": 25,
   "metadata": {},
   "outputs": [
    {
     "data": {
      "text/plain": [
       "array([0.89380413, 0.61378575, 0.89122073, ..., 0.67766736, 0.9781502 ,\n",
       "       0.72231509])"
      ]
     },
     "execution_count": 25,
     "metadata": {},
     "output_type": "execute_result"
    }
   ],
   "source": [
    "train_true"
   ]
  },
  {
   "cell_type": "code",
   "execution_count": 19,
   "metadata": {},
   "outputs": [
    {
     "data": {
      "text/plain": [
       "array([0.89380413, 0.61378575, 0.89122073, ..., 0.67766736, 0.9781502 ,\n",
       "       0.72231509])"
      ]
     },
     "execution_count": 19,
     "metadata": {},
     "output_type": "execute_result"
    }
   ],
   "source": [
    "train_true"
   ]
  },
  {
   "cell_type": "code",
   "execution_count": 38,
   "metadata": {},
   "outputs": [
    {
     "data": {
      "text/plain": [
       "array([0.97134144, 0.97134144, 0.97134144, ..., 0.87365146, 0.87365146,\n",
       "       0.87365146])"
      ]
     },
     "execution_count": 38,
     "metadata": {},
     "output_type": "execute_result"
    }
   ],
   "source": [
    "test_true"
   ]
  },
  {
   "cell_type": "code",
   "execution_count": 31,
   "metadata": {},
   "outputs": [
    {
     "data": {
      "text/plain": [
       "(111,)"
      ]
     },
     "execution_count": 31,
     "metadata": {},
     "output_type": "execute_result"
    }
   ],
   "source": [
    "test_true.flatten().shape"
   ]
  },
  {
   "cell_type": "code",
   "execution_count": 34,
   "metadata": {},
   "outputs": [],
   "source": [
    "test_true[0].append([3,4,4])"
   ]
  },
  {
   "cell_type": "code",
   "execution_count": 35,
   "metadata": {},
   "outputs": [
    {
     "data": {
      "text/plain": [
       "[0.9713414422826259,\n",
       " 0.9713414422826259,\n",
       " 0.9713414422826259,\n",
       " 0.9713414422826259,\n",
       " 0.9713414422826259,\n",
       " 0.9713414422826259,\n",
       " 0.9713414422826259,\n",
       " 0.9713414422826259,\n",
       " 0.9713414422826259,\n",
       " 0.9713414422826259,\n",
       " 0.9713414422826259,\n",
       " 0.9713414422826259,\n",
       " 0.9713414422826259,\n",
       " 0.9713414422826259,\n",
       " 0.9713414422826259,\n",
       " 0.9713414422826259,\n",
       " [3, 4, 4]]"
      ]
     },
     "execution_count": 35,
     "metadata": {},
     "output_type": "execute_result"
    }
   ],
   "source": [
    "test_true[0]"
   ]
  },
  {
   "cell_type": "code",
   "execution_count": 28,
   "metadata": {},
   "outputs": [
    {
     "ename": "IndentationError",
     "evalue": "expected an indented block (<ipython-input-28-526413893998>, line 7)",
     "output_type": "error",
     "traceback": [
      "\u001b[0;36m  File \u001b[0;32m\"<ipython-input-28-526413893998>\"\u001b[0;36m, line \u001b[0;32m7\u001b[0m\n\u001b[0;31m    logger.info('Train {}'.format(epoch))\u001b[0m\n\u001b[0m         ^\u001b[0m\n\u001b[0;31mIndentationError\u001b[0m\u001b[0;31m:\u001b[0m expected an indented block\n"
     ]
    }
   ],
   "source": [
    "        if (config['run_config']['save']) & (best_epoch==epoch):\n",
    "            torch.save({'epoch': epoch,\n",
    "                'model_state_dict': model.state_dict(),\n",
    "                'optimizer_state_dict': optimizer.state_dict()},\n",
    "                model_dir+zoomlevel+\"_\"+str(model_config['output_dim']**2*2048)+\"_\"+str(epoch)+\".pt\")\n",
    "\n",
    "            files = glob.glob(model_dir+zoomlevel+\"_\"+str(model_config['output_dim']**2*2048)+\"_*.pt\")\n",
    "\n",
    "if config['run_config']['save']:\n",
    "    for f in files:\n",
    "        e = int(f.split(\"_\")[-1].split(\".\")[0])\n",
    "        if e != best_epoch:\n",
    "            os.remove(f)\n",
    "            \n",
    "if run_config['tensorboard']:\n",
    "    outpath = os.path.join(outdir, 'all_scalars.json')\n",
    "    writer.export_scalars_to_json(outpath)"
   ]
  },
  {
   "cell_type": "code",
   "execution_count": null,
   "metadata": {},
   "outputs": [],
   "source": []
  }
 ],
 "metadata": {
  "kernelspec": {
   "display_name": "Python 3",
   "language": "python",
   "name": "python3"
  },
  "language_info": {
   "codemirror_mode": {
    "name": "ipython",
    "version": 3
   },
   "file_extension": ".py",
   "mimetype": "text/x-python",
   "name": "python",
   "nbconvert_exporter": "python",
   "pygments_lexer": "ipython3",
   "version": "3.7.4"
  }
 },
 "nbformat": 4,
 "nbformat_minor": 4
}
