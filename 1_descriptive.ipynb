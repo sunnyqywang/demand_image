{
 "cells": [
  {
   "cell_type": "code",
   "execution_count": 1,
   "metadata": {},
   "outputs": [],
   "source": [
    "import matplotlib.pyplot as plt\n",
    "import numpy as np\n",
    "import pandas as pd\n",
    "\n",
    "from setup import *"
   ]
  },
  {
   "cell_type": "code",
   "execution_count": 2,
   "metadata": {},
   "outputs": [],
   "source": [
    "od_mode = pd.read_csv(data_dir+\"od_mode.csv\")"
   ]
  },
  {
   "cell_type": "code",
   "execution_count": 3,
   "metadata": {},
   "outputs": [
    {
     "data": {
      "text/html": [
       "<div>\n",
       "<style scoped>\n",
       "    .dataframe tbody tr th:only-of-type {\n",
       "        vertical-align: middle;\n",
       "    }\n",
       "\n",
       "    .dataframe tbody tr th {\n",
       "        vertical-align: top;\n",
       "    }\n",
       "\n",
       "    .dataframe thead th {\n",
       "        text-align: right;\n",
       "    }\n",
       "</style>\n",
       "<table border=\"1\" class=\"dataframe\">\n",
       "  <thead>\n",
       "    <tr style=\"text-align: right;\">\n",
       "      <th></th>\n",
       "      <th>tract_1</th>\n",
       "      <th>tract_2</th>\n",
       "      <th>mode</th>\n",
       "      <th>i</th>\n",
       "      <th>sampno_mode</th>\n",
       "      <th>sampno_od</th>\n",
       "      <th>mode_share</th>\n",
       "    </tr>\n",
       "  </thead>\n",
       "  <tbody>\n",
       "    <tr>\n",
       "      <th>0</th>\n",
       "      <td>17007010100</td>\n",
       "      <td>17089851910</td>\n",
       "      <td>2</td>\n",
       "      <td>1</td>\n",
       "      <td>4.0</td>\n",
       "      <td>4</td>\n",
       "      <td>1.0</td>\n",
       "    </tr>\n",
       "    <tr>\n",
       "      <th>1</th>\n",
       "      <td>17007010100</td>\n",
       "      <td>17089851910</td>\n",
       "      <td>1</td>\n",
       "      <td>1</td>\n",
       "      <td>0.0</td>\n",
       "      <td>4</td>\n",
       "      <td>0.0</td>\n",
       "    </tr>\n",
       "    <tr>\n",
       "      <th>2</th>\n",
       "      <td>17007010100</td>\n",
       "      <td>17089851910</td>\n",
       "      <td>4</td>\n",
       "      <td>1</td>\n",
       "      <td>0.0</td>\n",
       "      <td>4</td>\n",
       "      <td>0.0</td>\n",
       "    </tr>\n",
       "    <tr>\n",
       "      <th>3</th>\n",
       "      <td>17007010100</td>\n",
       "      <td>17089851910</td>\n",
       "      <td>3</td>\n",
       "      <td>1</td>\n",
       "      <td>0.0</td>\n",
       "      <td>4</td>\n",
       "      <td>0.0</td>\n",
       "    </tr>\n",
       "    <tr>\n",
       "      <th>4</th>\n",
       "      <td>17007010200</td>\n",
       "      <td>17007010100</td>\n",
       "      <td>2</td>\n",
       "      <td>1</td>\n",
       "      <td>4.0</td>\n",
       "      <td>4</td>\n",
       "      <td>1.0</td>\n",
       "    </tr>\n",
       "    <tr>\n",
       "      <th>...</th>\n",
       "      <td>...</td>\n",
       "      <td>...</td>\n",
       "      <td>...</td>\n",
       "      <td>...</td>\n",
       "      <td>...</td>\n",
       "      <td>...</td>\n",
       "      <td>...</td>\n",
       "    </tr>\n",
       "    <tr>\n",
       "      <th>187507</th>\n",
       "      <td>55139000900</td>\n",
       "      <td>55139000700</td>\n",
       "      <td>3</td>\n",
       "      <td>1</td>\n",
       "      <td>0.0</td>\n",
       "      <td>1</td>\n",
       "      <td>0.0</td>\n",
       "    </tr>\n",
       "    <tr>\n",
       "      <th>187508</th>\n",
       "      <td>55139003300</td>\n",
       "      <td>55131430100</td>\n",
       "      <td>2</td>\n",
       "      <td>1</td>\n",
       "      <td>1.0</td>\n",
       "      <td>1</td>\n",
       "      <td>1.0</td>\n",
       "    </tr>\n",
       "    <tr>\n",
       "      <th>187509</th>\n",
       "      <td>55139003300</td>\n",
       "      <td>55131430100</td>\n",
       "      <td>1</td>\n",
       "      <td>1</td>\n",
       "      <td>0.0</td>\n",
       "      <td>1</td>\n",
       "      <td>0.0</td>\n",
       "    </tr>\n",
       "    <tr>\n",
       "      <th>187510</th>\n",
       "      <td>55139003300</td>\n",
       "      <td>55131430100</td>\n",
       "      <td>4</td>\n",
       "      <td>1</td>\n",
       "      <td>0.0</td>\n",
       "      <td>1</td>\n",
       "      <td>0.0</td>\n",
       "    </tr>\n",
       "    <tr>\n",
       "      <th>187511</th>\n",
       "      <td>55139003300</td>\n",
       "      <td>55131430100</td>\n",
       "      <td>3</td>\n",
       "      <td>1</td>\n",
       "      <td>0.0</td>\n",
       "      <td>1</td>\n",
       "      <td>0.0</td>\n",
       "    </tr>\n",
       "  </tbody>\n",
       "</table>\n",
       "<p>187512 rows × 7 columns</p>\n",
       "</div>"
      ],
      "text/plain": [
       "            tract_1      tract_2  mode  i  sampno_mode  sampno_od  mode_share\n",
       "0       17007010100  17089851910     2  1          4.0          4         1.0\n",
       "1       17007010100  17089851910     1  1          0.0          4         0.0\n",
       "2       17007010100  17089851910     4  1          0.0          4         0.0\n",
       "3       17007010100  17089851910     3  1          0.0          4         0.0\n",
       "4       17007010200  17007010100     2  1          4.0          4         1.0\n",
       "...             ...          ...   ... ..          ...        ...         ...\n",
       "187507  55139000900  55139000700     3  1          0.0          1         0.0\n",
       "187508  55139003300  55131430100     2  1          1.0          1         1.0\n",
       "187509  55139003300  55131430100     1  1          0.0          1         0.0\n",
       "187510  55139003300  55131430100     4  1          0.0          1         0.0\n",
       "187511  55139003300  55131430100     3  1          0.0          1         0.0\n",
       "\n",
       "[187512 rows x 7 columns]"
      ]
     },
     "execution_count": 3,
     "metadata": {},
     "output_type": "execute_result"
    }
   ],
   "source": [
    "od_mode"
   ]
  },
  {
   "cell_type": "code",
   "execution_count": 62,
   "metadata": {
    "scrolled": true
   },
   "outputs": [
    {
     "data": {
      "image/png": "[encoded data removed]",
      "text/plain": [
       "<Figure size 1440x360 with 4 Axes>"
      ]
     },
     "metadata": {
      "needs_background": "light"
     },
     "output_type": "display_data"
    }
   ],
   "source": [
    "fig, ax = plt.subplots(1,4, figsize=(20,5))\n",
    "ax[0].hist(od_mode[od_mode['mode']==1]['mode_share'], bins = np.linspace(0,1,20))\n",
    "ax[1].hist(od_mode[od_mode['mode']==2]['mode_share'], bins = np.linspace(0,1,20))\n",
    "ax[2].hist(od_mode[od_mode['mode']==3]['mode_share'], bins = np.linspace(0,1,20))\n",
    "ax[3].hist(od_mode[od_mode['mode']==4]['mode_share'], bins = np.linspace(0,1,20))\n",
    "ax[0].set_title(\"Active Modes\")\n",
    "ax[1].set_title(\"Auto\")\n",
    "ax[2].set_title(\"Mobility Services\")\n",
    "ax[3].set_title(\"Public Transit\");"
   ]
  },
  {
   "cell_type": "code",
   "execution_count": 65,
   "metadata": {},
   "outputs": [],
   "source": [
    "od_mode = pd.read_csv(data_dir+\"od_mode_filtered.csv\")"
   ]
  },
  {
   "cell_type": "code",
   "execution_count": 66,
   "metadata": {},
   "outputs": [
    {
     "data": {
      "image/png": "[encoded data removed]",
      "text/plain": [
       "<Figure size 1440x360 with 4 Axes>"
      ]
     },
     "metadata": {
      "needs_background": "light"
     },
     "output_type": "display_data"
    }
   ],
   "source": [
    "fig, ax = plt.subplots(1,4, figsize=(20,5))\n",
    "ax[0].hist(od_mode[od_mode['mode']==1]['mode_share'], bins = np.linspace(0,1,20))\n",
    "ax[1].hist(od_mode[od_mode['mode']==2]['mode_share'], bins = np.linspace(0,1,20))\n",
    "ax[2].hist(od_mode[od_mode['mode']==3]['mode_share'], bins = np.linspace(0,1,20))\n",
    "ax[3].hist(od_mode[od_mode['mode']==4]['mode_share'], bins = np.linspace(0,1,20))\n",
    "ax[0].set_title(\"Active Modes\")\n",
    "ax[1].set_title(\"Auto\")\n",
    "ax[2].set_title(\"Mobility Services\")\n",
    "ax[3].set_title(\"Public Transit\");"
   ]
  },
  {
   "cell_type": "code",
   "execution_count": null,
   "metadata": {},
   "outputs": [],
   "source": []
  }
 ],
 "metadata": {
  "kernelspec": {
   "display_name": "Python 3",
   "language": "python",
   "name": "python3"
  },
  "language_info": {
   "codemirror_mode": {
    "name": "ipython",
    "version": 3
   },
   "file_extension": ".py",
   "mimetype": "text/x-python",
   "name": "python",
   "nbconvert_exporter": "python",
   "pygments_lexer": "ipython3",
   "version": "3.7.4"
  },
  "varInspector": {
   "cols": {
    "lenName": 16,
    "lenType": 16,
    "lenVar": 40
   },
   "kernels_config": {
    "python": {
     "delete_cmd_postfix": "",
     "delete_cmd_prefix": "del ",
     "library": "var_list.py",
     "varRefreshCmd": "print(var_dic_list())"
    },
    "r": {
     "delete_cmd_postfix": ") ",
     "delete_cmd_prefix": "rm(",
     "library": "var_list.r",
     "varRefreshCmd": "cat(var_dic_list()) "
    }
   },
   "types_to_exclude": [
    "module",
    "function",
    "builtin_function_or_method",
    "instance",
    "_Feature"
   ],
   "window_display": false
  }
 },
 "nbformat": 4,
 "nbformat_minor": 2
}
