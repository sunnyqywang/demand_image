{
 "cells": [
  {
   "cell_type": "code",
   "execution_count": 1,
   "metadata": {},
   "outputs": [],
   "source": [
    "import sys\n",
    "sys.path.append(\"models/\")\n",
    "\n",
    "%load_ext autoreload\n",
    "%autoreload 2\n",
    "from collections import OrderedDict\n",
    "import os\n",
    "import matplotlib.pyplot as plt\n",
    "%matplotlib inline\n",
    "\n",
    "import pandas as pd\n",
    "import pickle as pkl\n",
    "import numpy as np\n",
    "\n",
    "import itertools\n",
    "import glob\n",
    "\n",
    "import torch\n",
    "import torch.nn as nn\n",
    "import torch.nn.functional as F\n",
    "from torch.utils.data import DataLoader\n",
    "from sklearn import linear_model\n",
    "from sklearn.metrics import r2_score, mean_squared_error\n",
    "from sklearn.model_selection import cross_validate, GroupKFold\n",
    "import statsmodels.api as sm\n",
    "\n",
    "\n",
    "from dataloader import SurveyDataset, load_aggregate_travel_behavior, load_demo_v1\n",
    "from M1_util_train_test import load_model, test\n",
    "import linear_reg\n",
    "import mnl\n",
    "from setup import out_dir, data_dir, image_dir, model_dir, proj_dir\n"
   ]
  },
  {
   "cell_type": "code",
   "execution_count": 2,
   "metadata": {},
   "outputs": [],
   "source": [
    "data_version = '1571'\n",
    "\n",
    "model_type = 'AE'\n",
    "sampling = 's'\n",
    "\n",
    "zoomlevel = 'zoom15'\n",
    "\n",
    "variable_names = ['active','auto','mas','pt', 'trpgen']\n",
    "\n",
    "demo_variables = ['tot_population','pct25_34yrs','pct35_50yrs','pctover65yrs',\n",
    "         'pctwhite_alone','pct_nonwhite','pctblack_alone',\n",
    "         'pct_col_grad','avg_tt_to_work','inc_per_capita']"
   ]
  },
  {
   "cell_type": "markdown",
   "metadata": {},
   "source": [
    "\n",
    "# Load Model Embeddings"
   ]
  },
  {
   "cell_type": "code",
   "execution_count": 3,
   "metadata": {},
   "outputs": [],
   "source": [
    "with open(proj_dir+\"latent_space/2023-06-28T21-02-28_sae_kl_f32_ep70.pkl\", \"rb\") as f:\n",
    "    encoder_output = pkl.load(f)\n",
    "    im = pkl.load(f)\n",
    "    ct = pkl.load(f)\n",
    "    sup_true_list = pkl.load(f)\n",
    "    sup_list = pkl.load(f)"
   ]
  },
  {
   "cell_type": "code",
   "execution_count": 4,
   "metadata": {},
   "outputs": [],
   "source": [
    "# Aggregate Embeddings\n",
    "unique_ct = list(set(ct))\n",
    "unique_ct.sort()\n",
    "ct = np.array(ct)\n",
    "aggregate_embeddings = []\n",
    "for i in unique_ct:\n",
    "#     aggregate_embeddings.append(np.mean(sup_list[ct == i], axis=0))\n",
    "    aggregate_embeddings.append(np.mean(encoder_output[ct == i], axis=0))\n",
    "aggregate_embeddings = np.array(aggregate_embeddings)\n",
    "\n",
    "x = aggregate_embeddings\n",
    "\n",
    "x = x.reshape(x.shape[0],-1)"
   ]
  },
  {
   "cell_type": "code",
   "execution_count": 5,
   "metadata": {},
   "outputs": [
    {
     "name": "stdout",
     "output_type": "stream",
     "text": [
      "(1588, 4096)\n"
     ]
    }
   ],
   "source": [
    "print(x.shape)"
   ]
  },
  {
   "cell_type": "markdown",
   "metadata": {},
   "source": [
    "# Load Trip Behavior"
   ]
  },
  {
   "cell_type": "code",
   "execution_count": 6,
   "metadata": {},
   "outputs": [],
   "source": [
    "file = \"MyDailyTravel/origin_trip_behavior.csv\"\n",
    "df_pivot = load_aggregate_travel_behavior(file, data_version)\n",
    "y_ct = df_pivot['geoid'].to_list()\n",
    "y = df_pivot[variable_names].to_numpy()[:,:4]\n",
    "\n",
    "groups = df_pivot['train_test']\n",
    "group_split = GroupKFold(n_splits=5)"
   ]
  },
  {
   "cell_type": "code",
   "execution_count": 7,
   "metadata": {},
   "outputs": [],
   "source": [
    "if len(x) != len(y):\n",
    "    x_mask = [True if c in y_ct else False for c in unique_ct]\n",
    "    x = x[x_mask,:]\n",
    "    unique_ct = list(np.array(unique_ct)[x_mask])\n",
    "    y_mask = [True if c in unique_ct else False for c in y_ct]\n",
    "    y = y[y_mask,:]\n",
    "    y_ct = list(np.array(y_ct)[y_mask])\n",
    "\n",
    "x = x[[y_ct.index(val) for val in unique_ct],:]\n",
    "unique_ct = list(np.array(unique_ct)[np.array([y_ct.index(val) for val in unique_ct])])\n",
    "for xc,yc in zip(unique_ct, y_ct):\n",
    "    assert xc == yc"
   ]
  },
  {
   "cell_type": "code",
   "execution_count": 8,
   "metadata": {},
   "outputs": [
    {
     "name": "stdout",
     "output_type": "stream",
     "text": [
      "1571\n"
     ]
    }
   ],
   "source": [
    "print(len(y))"
   ]
  },
  {
   "cell_type": "markdown",
   "metadata": {},
   "source": [
    "# 1. Linear Regression"
   ]
  },
  {
   "cell_type": "markdown",
   "metadata": {},
   "source": [
    "### 1.1 Auto Share"
   ]
  },
  {
   "cell_type": "code",
   "execution_count": 10,
   "metadata": {},
   "outputs": [],
   "source": [
    "y_index = 1"
   ]
  },
  {
   "cell_type": "code",
   "execution_count": 13,
   "metadata": {
    "scrolled": false
   },
   "outputs": [
    {
     "name": "stderr",
     "output_type": "stream",
     "text": [
      "/home/jtl/anaconda3/envs/ldm/lib/python3.8/site-packages/sklearn/linear_model/_coordinate_descent.py:631: ConvergenceWarning: Objective did not converge. You might want to increase the number of iterations, check the scale of the features or consider increasing regularisation. Duality gap: 1.488e-03, tolerance: 1.210e-03\n",
      "  model = cd_fast.enet_coordinate_descent(\n",
      "/home/jtl/anaconda3/envs/ldm/lib/python3.8/site-packages/sklearn/linear_model/_coordinate_descent.py:631: ConvergenceWarning: Objective did not converge. You might want to increase the number of iterations, check the scale of the features or consider increasing regularisation. Duality gap: 2.862e-03, tolerance: 1.286e-03\n",
      "  model = cd_fast.enet_coordinate_descent(\n",
      "/home/jtl/anaconda3/envs/ldm/lib/python3.8/site-packages/sklearn/linear_model/_coordinate_descent.py:631: ConvergenceWarning: Objective did not converge. You might want to increase the number of iterations, check the scale of the features or consider increasing regularisation. Duality gap: 1.817e-03, tolerance: 1.281e-03\n",
      "  model = cd_fast.enet_coordinate_descent(\n"
     ]
    },
    {
     "name": "stdout",
     "output_type": "stream",
     "text": [
      "Parameter: 5.00e-03 \t Train score: 0.5450 \t Cross val score: 0.4820 \t Nonzero coef: 53\n",
      "Parameter: 6.00e-03 \t Train score: 0.5370 \t Cross val score: 0.4837 \t Nonzero coef: 42\n",
      "Parameter: 7.00e-03 \t Train score: 0.5310 \t Cross val score: 0.4853 \t Nonzero coef: 38\n",
      "Parameter: 8.00e-03 \t Train score: 0.5263 \t Cross val score: 0.4870 \t Nonzero coef: 33\n",
      "Parameter: 9.00e-03 \t Train score: 0.5223 \t Cross val score: 0.4881 \t Nonzero coef: 30\n",
      "Parameter: 1.00e-02 \t Train score: 0.5190 \t Cross val score: 0.4883 \t Nonzero coef: 28\n"
     ]
    }
   ],
   "source": [
    "# Lasso\n",
    "for a in (1e-3)*np.array([5,6,7,8,9,10]):\n",
    "    lasso = linear_model.Lasso(alpha=a)\n",
    "    cross_results = cross_validate(lasso, x, y[:,y_index], cv=group_split, groups=groups, scoring='r2', return_train_score=True, return_estimator=True)\n",
    "    nz = 0\n",
    "    for m in cross_results['estimator']:\n",
    "        nz += sum(m.coef_ != 0)\n",
    "    nz /= 5\n",
    "    \n",
    "    print(\"Parameter: %.2e \\t Train score: %.4f \\t Cross val score: %.4f \\t Nonzero coef: %d\" % \n",
    "          (a, cross_results['train_score'].mean(), cross_results['test_score'].mean(), nz))"
   ]
  },
  {
   "cell_type": "markdown",
   "metadata": {},
   "source": [
    "### 1.2 PT"
   ]
  },
  {
   "cell_type": "code",
   "execution_count": 14,
   "metadata": {},
   "outputs": [],
   "source": [
    "y_index = 3"
   ]
  },
  {
   "cell_type": "code",
   "execution_count": 15,
   "metadata": {
    "scrolled": false
   },
   "outputs": [
    {
     "name": "stderr",
     "output_type": "stream",
     "text": [
      "/home/jtl/anaconda3/envs/ldm/lib/python3.8/site-packages/sklearn/linear_model/_coordinate_descent.py:631: ConvergenceWarning: Objective did not converge. You might want to increase the number of iterations, check the scale of the features or consider increasing regularisation. Duality gap: 1.488e-03, tolerance: 1.210e-03\n",
      "  model = cd_fast.enet_coordinate_descent(\n",
      "/home/jtl/anaconda3/envs/ldm/lib/python3.8/site-packages/sklearn/linear_model/_coordinate_descent.py:631: ConvergenceWarning: Objective did not converge. You might want to increase the number of iterations, check the scale of the features or consider increasing regularisation. Duality gap: 2.862e-03, tolerance: 1.286e-03\n",
      "  model = cd_fast.enet_coordinate_descent(\n",
      "/home/jtl/anaconda3/envs/ldm/lib/python3.8/site-packages/sklearn/linear_model/_coordinate_descent.py:631: ConvergenceWarning: Objective did not converge. You might want to increase the number of iterations, check the scale of the features or consider increasing regularisation. Duality gap: 1.817e-03, tolerance: 1.281e-03\n",
      "  model = cd_fast.enet_coordinate_descent(\n"
     ]
    },
    {
     "name": "stdout",
     "output_type": "stream",
     "text": [
      "Parameter: 5.00e-03 \t Train score: 0.5450 \t Cross val score: 0.4820 \t Nonzero coef: 53\n",
      "Parameter: 6.00e-03 \t Train score: 0.5370 \t Cross val score: 0.4837 \t Nonzero coef: 42\n",
      "Parameter: 7.00e-03 \t Train score: 0.5310 \t Cross val score: 0.4853 \t Nonzero coef: 38\n",
      "Parameter: 8.00e-03 \t Train score: 0.5263 \t Cross val score: 0.4870 \t Nonzero coef: 33\n",
      "Parameter: 9.00e-03 \t Train score: 0.5223 \t Cross val score: 0.4881 \t Nonzero coef: 30\n",
      "Parameter: 1.00e-02 \t Train score: 0.5190 \t Cross val score: 0.4883 \t Nonzero coef: 28\n"
     ]
    }
   ],
   "source": [
    "# Lasso\n",
    "for a in (1e-3)*np.array([5,6,7,8,9,10]):\n",
    "# for a in (1e-4)*np.array([10,15,20,25,30,50]):\n",
    "    lasso = linear_model.Lasso(alpha=a)\n",
    "    cross_results = cross_validate(lasso, x, y[:,y_index], cv=group_split, groups=groups, scoring='r2', return_train_score=True, return_estimator=True)\n",
    "    nz = 0\n",
    "    for m in cross_results['estimator']:\n",
    "        nz += sum(m.coef_ != 0)\n",
    "    nz /= 5\n",
    "    \n",
    "    print(\"Parameter: %.2e \\t Train score: %.4f \\t Cross val score: %.4f \\t Nonzero coef: %d\" % \n",
    "          (a, cross_results['train_score'].mean(), cross_results['test_score'].mean(), nz))"
   ]
  },
  {
   "cell_type": "markdown",
   "metadata": {},
   "source": [
    "### 1.3 Active"
   ]
  },
  {
   "cell_type": "code",
   "execution_count": 16,
   "metadata": {},
   "outputs": [],
   "source": [
    "y_index = 0"
   ]
  },
  {
   "cell_type": "code",
   "execution_count": 17,
   "metadata": {
    "scrolled": false
   },
   "outputs": [
    {
     "name": "stderr",
     "output_type": "stream",
     "text": [
      "/home/jtl/anaconda3/envs/ldm/lib/python3.8/site-packages/sklearn/linear_model/_coordinate_descent.py:631: ConvergenceWarning: Objective did not converge. You might want to increase the number of iterations, check the scale of the features or consider increasing regularisation. Duality gap: 3.074e-01, tolerance: 3.383e-03\n",
      "  model = cd_fast.enet_coordinate_descent(\n",
      "/home/jtl/anaconda3/envs/ldm/lib/python3.8/site-packages/sklearn/linear_model/_coordinate_descent.py:631: ConvergenceWarning: Objective did not converge. You might want to increase the number of iterations, check the scale of the features or consider increasing regularisation. Duality gap: 9.246e-02, tolerance: 3.240e-03\n",
      "  model = cd_fast.enet_coordinate_descent(\n",
      "/home/jtl/anaconda3/envs/ldm/lib/python3.8/site-packages/sklearn/linear_model/_coordinate_descent.py:631: ConvergenceWarning: Objective did not converge. You might want to increase the number of iterations, check the scale of the features or consider increasing regularisation. Duality gap: 1.400e-01, tolerance: 3.355e-03\n",
      "  model = cd_fast.enet_coordinate_descent(\n",
      "/home/jtl/anaconda3/envs/ldm/lib/python3.8/site-packages/sklearn/linear_model/_coordinate_descent.py:631: ConvergenceWarning: Objective did not converge. You might want to increase the number of iterations, check the scale of the features or consider increasing regularisation. Duality gap: 7.587e-02, tolerance: 3.441e-03\n",
      "  model = cd_fast.enet_coordinate_descent(\n",
      "/home/jtl/anaconda3/envs/ldm/lib/python3.8/site-packages/sklearn/linear_model/_coordinate_descent.py:631: ConvergenceWarning: Objective did not converge. You might want to increase the number of iterations, check the scale of the features or consider increasing regularisation. Duality gap: 1.243e-01, tolerance: 3.289e-03\n",
      "  model = cd_fast.enet_coordinate_descent(\n"
     ]
    },
    {
     "name": "stdout",
     "output_type": "stream",
     "text": [
      "Parameter: 5.00e-03 \t Train score: 0.6005 \t Cross val score: 0.5320 \t Nonzero coef: 90\n"
     ]
    },
    {
     "name": "stderr",
     "output_type": "stream",
     "text": [
      "/home/jtl/anaconda3/envs/ldm/lib/python3.8/site-packages/sklearn/linear_model/_coordinate_descent.py:631: ConvergenceWarning: Objective did not converge. You might want to increase the number of iterations, check the scale of the features or consider increasing regularisation. Duality gap: 1.527e-01, tolerance: 3.383e-03\n",
      "  model = cd_fast.enet_coordinate_descent(\n",
      "/home/jtl/anaconda3/envs/ldm/lib/python3.8/site-packages/sklearn/linear_model/_coordinate_descent.py:631: ConvergenceWarning: Objective did not converge. You might want to increase the number of iterations, check the scale of the features or consider increasing regularisation. Duality gap: 8.383e-02, tolerance: 3.240e-03\n",
      "  model = cd_fast.enet_coordinate_descent(\n",
      "/home/jtl/anaconda3/envs/ldm/lib/python3.8/site-packages/sklearn/linear_model/_coordinate_descent.py:631: ConvergenceWarning: Objective did not converge. You might want to increase the number of iterations, check the scale of the features or consider increasing regularisation. Duality gap: 3.858e-02, tolerance: 3.355e-03\n",
      "  model = cd_fast.enet_coordinate_descent(\n",
      "/home/jtl/anaconda3/envs/ldm/lib/python3.8/site-packages/sklearn/linear_model/_coordinate_descent.py:631: ConvergenceWarning: Objective did not converge. You might want to increase the number of iterations, check the scale of the features or consider increasing regularisation. Duality gap: 7.844e-02, tolerance: 3.441e-03\n",
      "  model = cd_fast.enet_coordinate_descent(\n",
      "/home/jtl/anaconda3/envs/ldm/lib/python3.8/site-packages/sklearn/linear_model/_coordinate_descent.py:631: ConvergenceWarning: Objective did not converge. You might want to increase the number of iterations, check the scale of the features or consider increasing regularisation. Duality gap: 3.214e-02, tolerance: 3.289e-03\n",
      "  model = cd_fast.enet_coordinate_descent(\n"
     ]
    },
    {
     "name": "stdout",
     "output_type": "stream",
     "text": [
      "Parameter: 6.00e-03 \t Train score: 0.5899 \t Cross val score: 0.5334 \t Nonzero coef: 72\n"
     ]
    },
    {
     "name": "stderr",
     "output_type": "stream",
     "text": [
      "/home/jtl/anaconda3/envs/ldm/lib/python3.8/site-packages/sklearn/linear_model/_coordinate_descent.py:631: ConvergenceWarning: Objective did not converge. You might want to increase the number of iterations, check the scale of the features or consider increasing regularisation. Duality gap: 1.087e-01, tolerance: 3.383e-03\n",
      "  model = cd_fast.enet_coordinate_descent(\n",
      "/home/jtl/anaconda3/envs/ldm/lib/python3.8/site-packages/sklearn/linear_model/_coordinate_descent.py:631: ConvergenceWarning: Objective did not converge. You might want to increase the number of iterations, check the scale of the features or consider increasing regularisation. Duality gap: 3.689e-02, tolerance: 3.240e-03\n",
      "  model = cd_fast.enet_coordinate_descent(\n",
      "/home/jtl/anaconda3/envs/ldm/lib/python3.8/site-packages/sklearn/linear_model/_coordinate_descent.py:631: ConvergenceWarning: Objective did not converge. You might want to increase the number of iterations, check the scale of the features or consider increasing regularisation. Duality gap: 4.598e-02, tolerance: 3.355e-03\n",
      "  model = cd_fast.enet_coordinate_descent(\n",
      "/home/jtl/anaconda3/envs/ldm/lib/python3.8/site-packages/sklearn/linear_model/_coordinate_descent.py:631: ConvergenceWarning: Objective did not converge. You might want to increase the number of iterations, check the scale of the features or consider increasing regularisation. Duality gap: 4.272e-02, tolerance: 3.441e-03\n",
      "  model = cd_fast.enet_coordinate_descent(\n",
      "/home/jtl/anaconda3/envs/ldm/lib/python3.8/site-packages/sklearn/linear_model/_coordinate_descent.py:631: ConvergenceWarning: Objective did not converge. You might want to increase the number of iterations, check the scale of the features or consider increasing regularisation. Duality gap: 3.874e-02, tolerance: 3.289e-03\n",
      "  model = cd_fast.enet_coordinate_descent(\n"
     ]
    },
    {
     "name": "stdout",
     "output_type": "stream",
     "text": [
      "Parameter: 7.00e-03 \t Train score: 0.5824 \t Cross val score: 0.5318 \t Nonzero coef: 59\n"
     ]
    },
    {
     "name": "stderr",
     "output_type": "stream",
     "text": [
      "/home/jtl/anaconda3/envs/ldm/lib/python3.8/site-packages/sklearn/linear_model/_coordinate_descent.py:631: ConvergenceWarning: Objective did not converge. You might want to increase the number of iterations, check the scale of the features or consider increasing regularisation. Duality gap: 7.603e-02, tolerance: 3.383e-03\n",
      "  model = cd_fast.enet_coordinate_descent(\n",
      "/home/jtl/anaconda3/envs/ldm/lib/python3.8/site-packages/sklearn/linear_model/_coordinate_descent.py:631: ConvergenceWarning: Objective did not converge. You might want to increase the number of iterations, check the scale of the features or consider increasing regularisation. Duality gap: 1.334e-02, tolerance: 3.240e-03\n",
      "  model = cd_fast.enet_coordinate_descent(\n",
      "/home/jtl/anaconda3/envs/ldm/lib/python3.8/site-packages/sklearn/linear_model/_coordinate_descent.py:631: ConvergenceWarning: Objective did not converge. You might want to increase the number of iterations, check the scale of the features or consider increasing regularisation. Duality gap: 1.856e-02, tolerance: 3.355e-03\n",
      "  model = cd_fast.enet_coordinate_descent(\n",
      "/home/jtl/anaconda3/envs/ldm/lib/python3.8/site-packages/sklearn/linear_model/_coordinate_descent.py:631: ConvergenceWarning: Objective did not converge. You might want to increase the number of iterations, check the scale of the features or consider increasing regularisation. Duality gap: 2.700e-02, tolerance: 3.441e-03\n",
      "  model = cd_fast.enet_coordinate_descent(\n",
      "/home/jtl/anaconda3/envs/ldm/lib/python3.8/site-packages/sklearn/linear_model/_coordinate_descent.py:631: ConvergenceWarning: Objective did not converge. You might want to increase the number of iterations, check the scale of the features or consider increasing regularisation. Duality gap: 2.508e-02, tolerance: 3.289e-03\n",
      "  model = cd_fast.enet_coordinate_descent(\n"
     ]
    },
    {
     "name": "stdout",
     "output_type": "stream",
     "text": [
      "Parameter: 8.00e-03 \t Train score: 0.5763 \t Cross val score: 0.5307 \t Nonzero coef: 53\n"
     ]
    },
    {
     "name": "stderr",
     "output_type": "stream",
     "text": [
      "/home/jtl/anaconda3/envs/ldm/lib/python3.8/site-packages/sklearn/linear_model/_coordinate_descent.py:631: ConvergenceWarning: Objective did not converge. You might want to increase the number of iterations, check the scale of the features or consider increasing regularisation. Duality gap: 4.251e-02, tolerance: 3.383e-03\n",
      "  model = cd_fast.enet_coordinate_descent(\n",
      "/home/jtl/anaconda3/envs/ldm/lib/python3.8/site-packages/sklearn/linear_model/_coordinate_descent.py:631: ConvergenceWarning: Objective did not converge. You might want to increase the number of iterations, check the scale of the features or consider increasing regularisation. Duality gap: 1.019e-02, tolerance: 3.240e-03\n",
      "  model = cd_fast.enet_coordinate_descent(\n",
      "/home/jtl/anaconda3/envs/ldm/lib/python3.8/site-packages/sklearn/linear_model/_coordinate_descent.py:631: ConvergenceWarning: Objective did not converge. You might want to increase the number of iterations, check the scale of the features or consider increasing regularisation. Duality gap: 1.151e-02, tolerance: 3.355e-03\n",
      "  model = cd_fast.enet_coordinate_descent(\n",
      "/home/jtl/anaconda3/envs/ldm/lib/python3.8/site-packages/sklearn/linear_model/_coordinate_descent.py:631: ConvergenceWarning: Objective did not converge. You might want to increase the number of iterations, check the scale of the features or consider increasing regularisation. Duality gap: 1.663e-02, tolerance: 3.441e-03\n",
      "  model = cd_fast.enet_coordinate_descent(\n",
      "/home/jtl/anaconda3/envs/ldm/lib/python3.8/site-packages/sklearn/linear_model/_coordinate_descent.py:631: ConvergenceWarning: Objective did not converge. You might want to increase the number of iterations, check the scale of the features or consider increasing regularisation. Duality gap: 1.098e-02, tolerance: 3.289e-03\n",
      "  model = cd_fast.enet_coordinate_descent(\n"
     ]
    },
    {
     "name": "stdout",
     "output_type": "stream",
     "text": [
      "Parameter: 9.00e-03 \t Train score: 0.5710 \t Cross val score: 0.5294 \t Nonzero coef: 49\n"
     ]
    },
    {
     "name": "stderr",
     "output_type": "stream",
     "text": [
      "/home/jtl/anaconda3/envs/ldm/lib/python3.8/site-packages/sklearn/linear_model/_coordinate_descent.py:631: ConvergenceWarning: Objective did not converge. You might want to increase the number of iterations, check the scale of the features or consider increasing regularisation. Duality gap: 6.113e-03, tolerance: 3.383e-03\n",
      "  model = cd_fast.enet_coordinate_descent(\n",
      "/home/jtl/anaconda3/envs/ldm/lib/python3.8/site-packages/sklearn/linear_model/_coordinate_descent.py:631: ConvergenceWarning: Objective did not converge. You might want to increase the number of iterations, check the scale of the features or consider increasing regularisation. Duality gap: 8.266e-03, tolerance: 3.240e-03\n",
      "  model = cd_fast.enet_coordinate_descent(\n",
      "/home/jtl/anaconda3/envs/ldm/lib/python3.8/site-packages/sklearn/linear_model/_coordinate_descent.py:631: ConvergenceWarning: Objective did not converge. You might want to increase the number of iterations, check the scale of the features or consider increasing regularisation. Duality gap: 3.468e-03, tolerance: 3.355e-03\n",
      "  model = cd_fast.enet_coordinate_descent(\n"
     ]
    },
    {
     "name": "stdout",
     "output_type": "stream",
     "text": [
      "Parameter: 1.00e-02 \t Train score: 0.5666 \t Cross val score: 0.5282 \t Nonzero coef: 44\n"
     ]
    }
   ],
   "source": [
    "# Lasso\n",
    "for a in (1e-3)*np.array([5,6,7,8,9,10]):\n",
    "    lasso = linear_model.Lasso(alpha=a)\n",
    "    cross_results = cross_validate(lasso, x, y[:,y_index], cv=group_split, groups=groups, scoring='r2', return_train_score=True, return_estimator=True)\n",
    "    nz = 0\n",
    "    for m in cross_results['estimator']:\n",
    "        nz += sum(m.coef_ != 0)\n",
    "    nz /= 5\n",
    "    \n",
    "    print(\"Parameter: %.2e \\t Train score: %.4f \\t Cross val score: %.4f \\t Nonzero coef: %d\" % \n",
    "          (a, cross_results['train_score'].mean(), cross_results['test_score'].mean(), nz))"
   ]
  },
  {
   "cell_type": "markdown",
   "metadata": {},
   "source": [
    "# 2. MNL for Mode Share"
   ]
  },
  {
   "cell_type": "code",
   "execution_count": 11,
   "metadata": {},
   "outputs": [],
   "source": [
    "results = {0:{}, 1:{}, 2:{}, 3:{}, 4:{}}\n"
   ]
  },
  {
   "cell_type": "code",
   "execution_count": 18,
   "metadata": {
    "scrolled": true
   },
   "outputs": [
    {
     "name": "stdout",
     "output_type": "stream",
     "text": [
      "[lr: 1.00e-05, wd: 1.00e+06]\n",
      "Early stopping at epoch 2230\n",
      "[epoch: 2220] Train KL loss: 0.139 Train R2 score: 0.487 0.599 -0.056 0.451 \n",
      "[epoch: 2220] Test KL loss: 0.141 Test R2 score: 0.508 0.609 -0.060 0.489 \n",
      "\n",
      "[lr: 1.00e-05, wd: 1.00e+06]\n",
      "Early stopping at epoch 1920\n",
      "[epoch: 1910] Train KL loss: 0.136 Train R2 score: 0.503 0.590 -0.027 0.463 \n",
      "[epoch: 1910] Test KL loss: 0.153 Test R2 score: 0.420 0.551 -0.027 0.386 \n",
      "\n",
      "[lr: 1.00e-05, wd: 1.00e+06]\n",
      "Early stopping at epoch 2300\n",
      "[epoch: 2290] Train KL loss: 0.141 Train R2 score: 0.499 0.603 -0.062 0.447 \n",
      "[epoch: 2290] Test KL loss: 0.137 Test R2 score: 0.455 0.563 -0.132 0.459 \n",
      "\n",
      "[lr: 1.00e-05, wd: 1.00e+06]\n",
      "Early stopping at epoch 2280\n",
      "[epoch: 2270] Train KL loss: 0.142 Train R2 score: 0.471 0.583 -0.097 0.460 \n",
      "[epoch: 2270] Test KL loss: 0.135 Test R2 score: 0.549 0.602 -0.202 0.467 \n",
      "\n",
      "[lr: 1.00e-05, wd: 1.00e+06]\n",
      "Early stopping at epoch 2290\n",
      "[epoch: 2280] Train KL loss: 0.139 Train R2 score: 0.493 0.596 -0.064 0.456 \n",
      "[epoch: 2280] Test KL loss: 0.145 Test R2 score: 0.453 0.581 -0.028 0.446 \n",
      "\n"
     ]
    }
   ],
   "source": [
    "from util_aggregate_models import mnl_torch\n",
    "\n",
    "# dataloader and model definition\n",
    "\n",
    "lr_list = [1e-5]\n",
    "wd_list = [1e+6]#100, 1000, 10000, 100000]\n",
    "\n",
    "\n",
    "for i in range(5):\n",
    "    \n",
    "    train_filter = groups != i\n",
    "    test_filter = groups == i\n",
    "    x_train = x[train_filter]\n",
    "    y_train = y[train_filter]\n",
    "    x_test = x[test_filter]\n",
    "    y_test = y[test_filter]\n",
    "    sst_train = np.sum(np.power(y_train - np.mean(y_train, axis=0), 2), axis=0)\n",
    "    sst_test = np.sum(np.power(y_test - np.mean(y_test, axis=0), 2), axis=0)\n",
    "    \n",
    "    trainset = SurveyDataset(torch.tensor(x_train,  dtype=torch.float), torch.tensor(y_train, dtype=torch.float))\n",
    "    trainloader = DataLoader(trainset, batch_size=len(trainset), shuffle=False)\n",
    "\n",
    "    testset = SurveyDataset(torch.tensor(x_test, dtype=torch.float), torch.tensor(y_test, dtype=torch.float))\n",
    "    testloader = DataLoader(testset, batch_size=len(testset), shuffle=False)\n",
    "\n",
    "    ret_dict = mnl_torch(trainloader, testloader, x_train.shape[-1], sst_train, sst_test, lr_list=lr_list, wd_list=wd_list,\n",
    "                         save_models=True,\n",
    "                         save_name='SAE+(4096)_0.9_'+str(i))\n",
    "    \n",
    "    results[i].update(ret_dict)"
   ]
  },
  {
   "cell_type": "code",
   "execution_count": 20,
   "metadata": {
    "scrolled": true
   },
   "outputs": [
    {
     "data": {
      "text/html": [
       "<div>\n",
       "<style scoped>\n",
       "    .dataframe tbody tr th:only-of-type {\n",
       "        vertical-align: middle;\n",
       "    }\n",
       "\n",
       "    .dataframe tbody tr th {\n",
       "        vertical-align: top;\n",
       "    }\n",
       "\n",
       "    .dataframe thead th {\n",
       "        text-align: right;\n",
       "    }\n",
       "</style>\n",
       "<table border=\"1\" class=\"dataframe\">\n",
       "  <thead>\n",
       "    <tr style=\"text-align: right;\">\n",
       "      <th></th>\n",
       "      <th>learning_rate</th>\n",
       "      <th>weight_decay</th>\n",
       "      <th>train_kl_loss</th>\n",
       "      <th>test_kl_loss</th>\n",
       "      <th>train_r2_auto</th>\n",
       "      <th>train_r2_active</th>\n",
       "      <th>train_r2_pt</th>\n",
       "      <th>test_r2_auto</th>\n",
       "      <th>test_r2_active</th>\n",
       "      <th>test_r2_pt</th>\n",
       "    </tr>\n",
       "  </thead>\n",
       "  <tbody>\n",
       "    <tr>\n",
       "      <th>3</th>\n",
       "      <td>0.00001</td>\n",
       "      <td>100000.0</td>\n",
       "      <td>0.12800</td>\n",
       "      <td>0.13301</td>\n",
       "      <td>0.63690</td>\n",
       "      <td>0.54027</td>\n",
       "      <td>0.50422</td>\n",
       "      <td>0.61849</td>\n",
       "      <td>0.52042</td>\n",
       "      <td>0.47013</td>\n",
       "    </tr>\n",
       "    <tr>\n",
       "      <th>2</th>\n",
       "      <td>0.00001</td>\n",
       "      <td>10000.0</td>\n",
       "      <td>0.12182</td>\n",
       "      <td>0.13386</td>\n",
       "      <td>0.65927</td>\n",
       "      <td>0.57494</td>\n",
       "      <td>0.50862</td>\n",
       "      <td>0.61415</td>\n",
       "      <td>0.51637</td>\n",
       "      <td>0.42451</td>\n",
       "    </tr>\n",
       "    <tr>\n",
       "      <th>1</th>\n",
       "      <td>0.00001</td>\n",
       "      <td>1000.0</td>\n",
       "      <td>0.10762</td>\n",
       "      <td>0.13591</td>\n",
       "      <td>0.71478</td>\n",
       "      <td>0.64023</td>\n",
       "      <td>0.60870</td>\n",
       "      <td>0.60981</td>\n",
       "      <td>0.50734</td>\n",
       "      <td>0.43730</td>\n",
       "    </tr>\n",
       "    <tr>\n",
       "      <th>4</th>\n",
       "      <td>0.00001</td>\n",
       "      <td>1000000.0</td>\n",
       "      <td>0.13968</td>\n",
       "      <td>0.14234</td>\n",
       "      <td>0.59431</td>\n",
       "      <td>0.49056</td>\n",
       "      <td>0.45535</td>\n",
       "      <td>0.58086</td>\n",
       "      <td>0.47705</td>\n",
       "      <td>0.44936</td>\n",
       "    </tr>\n",
       "    <tr>\n",
       "      <th>0</th>\n",
       "      <td>0.00001</td>\n",
       "      <td>100.0</td>\n",
       "      <td>0.09348</td>\n",
       "      <td>0.14449</td>\n",
       "      <td>0.76692</td>\n",
       "      <td>0.70654</td>\n",
       "      <td>0.67009</td>\n",
       "      <td>0.58845</td>\n",
       "      <td>0.46642</td>\n",
       "      <td>0.36320</td>\n",
       "    </tr>\n",
       "  </tbody>\n",
       "</table>\n",
       "</div>"
      ],
      "text/plain": [
       "   learning_rate  weight_decay  train_kl_loss  test_kl_loss  train_r2_auto  \\\n",
       "3        0.00001      100000.0        0.12800       0.13301        0.63690   \n",
       "2        0.00001       10000.0        0.12182       0.13386        0.65927   \n",
       "1        0.00001        1000.0        0.10762       0.13591        0.71478   \n",
       "4        0.00001     1000000.0        0.13968       0.14234        0.59431   \n",
       "0        0.00001         100.0        0.09348       0.14449        0.76692   \n",
       "\n",
       "   train_r2_active  train_r2_pt  test_r2_auto  test_r2_active  test_r2_pt  \n",
       "3          0.54027      0.50422       0.61849         0.52042     0.47013  \n",
       "2          0.57494      0.50862       0.61415         0.51637     0.42451  \n",
       "1          0.64023      0.60870       0.60981         0.50734     0.43730  \n",
       "4          0.49056      0.45535       0.58086         0.47705     0.44936  \n",
       "0          0.70654      0.67009       0.58845         0.46642     0.36320  "
      ]
     },
     "execution_count": 20,
     "metadata": {},
     "output_type": "execute_result"
    }
   ],
   "source": [
    "df = []\n",
    "lr_list = [1e-5]\n",
    "wd_list = [100, 1000, 10000, 100000, 1e+6]\n",
    "\n",
    "for (lr, wd) in itertools.product(lr_list, wd_list):\n",
    "\n",
    "    new = []\n",
    "    \n",
    "    for i in range(5):\n",
    "        new2 = []\n",
    "        for k,v in results[i][(lr,wd)].items():\n",
    "            if k != 'train_loss' and k != 'test_loss':\n",
    "                new2.append(results[i][(lr,wd)][k]) \n",
    "        new.append(new2)\n",
    "        \n",
    "    new = np.array(new) \n",
    "    \n",
    "    df.append([lr] + [wd] + list(np.mean(new, axis=0)))\n",
    "\n",
    "pd.DataFrame(np.array(df), columns = ['learning_rate','weight_decay','train_kl_loss','test_kl_loss','train_r2_auto','train_r2_active','train_r2_pt',\n",
    "                                     'test_r2_auto','test_r2_active','test_r2_pt']).sort_values(by='test_kl_loss').round(5)"
   ]
  },
  {
   "cell_type": "code",
   "execution_count": 17,
   "metadata": {},
   "outputs": [
    {
     "data": {
      "text/plain": [
       "(0.0, 0.2)"
      ]
     },
     "execution_count": 17,
     "metadata": {},
     "output_type": "execute_result"
    },
    {
     "data": {
      "image/png": "[encoded data removed]",
      "text/plain": [
       "<Figure size 640x480 with 1 Axes>"
      ]
     },
     "metadata": {},
     "output_type": "display_data"
    }
   ],
   "source": [
    "lr = 1e-5\n",
    "wd = 100000\n",
    "for i in range(5):\n",
    "        plt.plot(results[i][(lr, wd)]['train_loss'], c='black')\n",
    "        plt.plot(results[i][(lr, wd)]['test_loss'], c='red')\n",
    "plt.ylim([0,0.2])"
   ]
  },
  {
   "cell_type": "markdown",
   "metadata": {},
   "source": [
    " "
   ]
  }
 ],
 "metadata": {
  "kernelspec": {
   "display_name": "ldm",
   "language": "python",
   "name": "ldm"
  },
  "language_info": {
   "codemirror_mode": {
    "name": "ipython",
    "version": 3
   },
   "file_extension": ".py",
   "mimetype": "text/x-python",
   "name": "python",
   "nbconvert_exporter": "python",
   "pygments_lexer": "ipython3",
   "version": "3.8.5"
  }
 },
 "nbformat": 4,
 "nbformat_minor": 4
}
