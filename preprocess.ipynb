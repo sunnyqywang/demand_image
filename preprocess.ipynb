{
 "cells": [
  {
   "cell_type": "code",
   "execution_count": 1,
   "metadata": {},
   "outputs": [],
   "source": [
    "import numpy as np\n",
    "import pandas as pd\n",
    "\n",
    "from setup import *\n",
    "\n",
    "%load_ext autoreload\n",
    "%autoreload 2"
   ]
  },
  {
   "cell_type": "code",
   "execution_count": 202,
   "metadata": {},
   "outputs": [
    {
     "name": "stderr",
     "output_type": "stream",
     "text": [
      "C:\\Users\\wangqi44\\AppData\\Local\\Continuum\\anaconda3\\envs\\geo\\lib\\site-packages\\IPython\\core\\interactiveshell.py:3146: DtypeWarning: Columns (45,50) have mixed types.Specify dtype option on import or set low_memory=False.\n",
      "  has_raised = await self.run_ast_nodes(code_ast.body, cell_name,\n",
      "C:\\Users\\wangqi44\\AppData\\Local\\Continuum\\anaconda3\\envs\\geo\\lib\\site-packages\\IPython\\core\\interactiveshell.py:3146: DtypeWarning: Columns (11,20) have mixed types.Specify dtype option on import or set low_memory=False.\n",
      "  has_raised = await self.run_ast_nodes(code_ast.body, cell_name,\n"
     ]
    }
   ],
   "source": [
    "hh = pd.read_csv(survey_dir+\"household.csv\")\n",
    "pr = pd.read_csv(survey_dir+\"person.csv\")\n",
    "pl = pd.read_csv(survey_dir+\"place.csv\")\n",
    "pt = pd.read_csv(survey_dir+\"place_transit.csv\")\n",
    "lc = pd.read_csv(survey_dir+\"location.csv\")"
   ]
  },
  {
   "cell_type": "code",
   "execution_count": 3,
   "metadata": {},
   "outputs": [
    {
     "name": "stdout",
     "output_type": "stream",
     "text": [
      "12391 Households 30683 People 128229 Places 99652 Trips\n"
     ]
    }
   ],
   "source": [
    "num_pl = len(pl)\n",
    "print(len(hh), \"Households\", len(pr), \"People\", len(pl), \"Places\", len(pl[pl.placeno!=1]), \"Trips\")"
   ]
  },
  {
   "cell_type": "code",
   "execution_count": 4,
   "metadata": {},
   "outputs": [
    {
     "name": "stdout",
     "output_type": "stream",
     "text": [
      "30 households with no income\n"
     ]
    }
   ],
   "source": [
    "# Income\n",
    "f_inc = (hh.hhinc >= 0) | (hh.hhinc2 >= -1)\n",
    "print(np.sum(f_inc==0), 'households with no income')"
   ]
  },
  {
   "cell_type": "code",
   "execution_count": 5,
   "metadata": {},
   "outputs": [
    {
     "name": "stdout",
     "output_type": "stream",
     "text": [
      "349 households with no trips\n"
     ]
    }
   ],
   "source": [
    "# Trip numbers\n",
    "f_hhtrips = (hh.hhtrips>0)\n",
    "print(np.sum(f_hhtrips==0), 'households with no trips')"
   ]
  },
  {
   "cell_type": "code",
   "execution_count": 6,
   "metadata": {},
   "outputs": [],
   "source": [
    "hh = hh[f_inc & f_hhtrips]"
   ]
  },
  {
   "cell_type": "code",
   "execution_count": 7,
   "metadata": {
    "scrolled": true
   },
   "outputs": [
    {
     "name": "stdout",
     "output_type": "stream",
     "text": [
      "10 people with no age\n"
     ]
    }
   ],
   "source": [
    "# Age\n",
    "f_age = (pr.aage >= -1)\n",
    "print(np.sum(f_age==0), 'people with no age')"
   ]
  },
  {
   "cell_type": "code",
   "execution_count": 8,
   "metadata": {},
   "outputs": [
    {
     "name": "stdout",
     "output_type": "stream",
     "text": [
      "2 people with no license info\n"
     ]
    }
   ],
   "source": [
    "# License\n",
    "f_lic = (pr.lic >= -1)\n",
    "print(np.sum(f_lic==0), 'people with no license info')"
   ]
  },
  {
   "cell_type": "code",
   "execution_count": 9,
   "metadata": {},
   "outputs": [
    {
     "name": "stdout",
     "output_type": "stream",
     "text": [
      "42 people with no education info\n"
     ]
    }
   ],
   "source": [
    "# Education\n",
    "f_edu = (pr.educ > 0)\n",
    "print(np.sum(f_edu==0), 'people with no education info')"
   ]
  },
  {
   "cell_type": "code",
   "execution_count": 10,
   "metadata": {},
   "outputs": [],
   "source": [
    "pr = pr[f_age & f_lic & f_edu]"
   ]
  },
  {
   "cell_type": "code",
   "execution_count": 11,
   "metadata": {},
   "outputs": [
    {
     "name": "stdout",
     "output_type": "stream",
     "text": [
      "331 places with invalid modes (not available or air travel)\n"
     ]
    }
   ],
   "source": [
    "# Travel Mode\n",
    "f_mode = (pl['mode'] >= -1) & (pl['mode'] // 100 < 8)\n",
    "print(np.sum(f_mode==0), 'places with invalid modes (not available or air travel)')"
   ]
  },
  {
   "cell_type": "code",
   "execution_count": 12,
   "metadata": {},
   "outputs": [],
   "source": [
    "pl = pl[f_mode]"
   ]
  },
  {
   "cell_type": "code",
   "execution_count": 13,
   "metadata": {},
   "outputs": [
    {
     "name": "stdout",
     "output_type": "stream",
     "text": [
      "1968 locations not in valid states\n",
      "989 places not in valid states\n"
     ]
    }
   ],
   "source": [
    "# Trip Location\n",
    "f_state_loc = (lc['state_fips'].isin([17,18,26,55]))\n",
    "# tight restrictions to speed up the image download process\n",
    "#f_state_loc = (lc['state_fips'].isin([17]))\n",
    "pl = pd.merge(lc[f_state_loc][['sampno','locno']], pl, on=['sampno','locno'])\n",
    "\n",
    "print(np.sum(f_state_loc==0), 'locations not in valid states')\n",
    "print(num_pl-len(pl), 'places not in valid states')"
   ]
  },
  {
   "cell_type": "code",
   "execution_count": 14,
   "metadata": {},
   "outputs": [],
   "source": [
    "lc = lc[f_state_loc]"
   ]
  },
  {
   "cell_type": "code",
   "execution_count": 16,
   "metadata": {},
   "outputs": [
    {
     "name": "stdout",
     "output_type": "stream",
     "text": [
      "Left with 12013 Households 30640 People 127240 Places 98899 Trips\n"
     ]
    }
   ],
   "source": [
    "print(\"Left with\", len(hh), \"Households\", len(pr), \"People\", len(pl), \"Places\", len(pl[pl.placeno!=1]), \"Trips\")"
   ]
  },
  {
   "cell_type": "markdown",
   "metadata": {},
   "source": [
    "## Turn Places into Trips"
   ]
  },
  {
   "cell_type": "code",
   "execution_count": 42,
   "metadata": {},
   "outputs": [],
   "source": [
    "pl_new = pl[['sampno', 'perno', 'placeGroup', 'locno', 'arrtime', 'deptime', 'travtime', 'mode']].sort_values(by=['sampno','perno','placeGroup']).reset_index(drop=True)\n",
    "pl_new['prev_placeGroup'] = pl_new['placeGroup'] - 1"
   ]
  },
  {
   "cell_type": "code",
   "execution_count": 65,
   "metadata": {},
   "outputs": [],
   "source": [
    "tp = pd.merge(pl_new, pl_new, left_on=['sampno', 'perno', 'placeGroup'], right_on=['sampno', 'perno', 'prev_placeGroup'], suffixes=('_1','_2'))\n",
    "tp = tp[['sampno', 'perno', 'placeGroup_1', 'placeGroup_2', 'locno_1', 'locno_2', 'deptime_1', 'arrtime_2', 'travtime_2', 'mode_2']]"
   ]
  },
  {
   "cell_type": "code",
   "execution_count": 66,
   "metadata": {},
   "outputs": [],
   "source": [
    "lc = lc[['sampno', 'locno', 'loctype', 'state', 'country', 'state_fips',\n",
    "       'county_fips', 'tract_fips', 'out_region', 'home', 'latitude',\n",
    "       'longitude']]\n",
    "tp = pd.merge(tp, lc, left_on=['sampno', 'locno_1'], right_on = ['sampno', 'locno'])\n",
    "tp = pd.merge(tp, lc, left_on=['sampno', 'locno_2'], right_on = ['sampno', 'locno'], suffixes=(\"_1\", \"_2\"))"
   ]
  },
  {
   "cell_type": "code",
   "execution_count": 69,
   "metadata": {},
   "outputs": [],
   "source": [
    "tp.to_csv(data_dir+\"trips.csv\", index=False)"
   ]
  },
  {
   "cell_type": "code",
   "execution_count": 70,
   "metadata": {},
   "outputs": [],
   "source": [
    "tp['tract_1'] = tp['state_fips_1']*1000000000+tp['county_fips_1']*1000000+tp['tract_fips_1']\n",
    "tp['tract_2'] = tp['state_fips_2']*1000000000+tp['county_fips_2']*1000000+tp['tract_fips_2']"
   ]
  },
  {
   "cell_type": "markdown",
   "metadata": {},
   "source": [
    "## Simplify Mode Representation"
   ]
  },
  {
   "cell_type": "code",
   "execution_count": 85,
   "metadata": {},
   "outputs": [
    {
     "name": "stdout",
     "output_type": "stream",
     "text": [
      "1: Active; 2: Auto; 3: Mobility Services; 4: Public Transit\n",
      "1    0.134597\n",
      "2    0.706344\n",
      "3    0.055057\n",
      "4    0.104002\n",
      "Name: mode, dtype: float64\n"
     ]
    }
   ],
   "source": [
    "tp['mode'] = tp['mode_2']//100\n",
    "tp['mode'] = tp['mode'].map({1:1,2:2,3:3,4:3,5:4,6:3,7:3})\n",
    "print(\"1: Active; 2: Auto; 3: Mobility Services; 4: Public Transit\")\n",
    "print(tp['mode'].value_counts().sort_index() / len(tp))"
   ]
  },
  {
   "cell_type": "markdown",
   "metadata": {},
   "source": [
    "## OD pairs"
   ]
  },
  {
   "cell_type": "code",
   "execution_count": 183,
   "metadata": {},
   "outputs": [
    {
     "name": "stdout",
     "output_type": "stream",
     "text": [
      "# OD pairs: 46878\n",
      "# OD pairs with more than 15 trips: 457 accounting for 16011 trips\n"
     ]
    }
   ],
   "source": [
    "od = tp.groupby(['tract_1','tract_2'], as_index=False).count()[['tract_1','tract_2','sampno']]\n",
    "print(\"# OD pairs:\", len(od))\n",
    "print(\"# OD pairs with more than 15 trips:\", len(od[od['sampno']>15]), \"accounting for\", od[od['sampno']>15].sum()['sampno'], \"trips\")"
   ]
  },
  {
   "cell_type": "markdown",
   "metadata": {},
   "source": [
    "## OD Mode"
   ]
  },
  {
   "cell_type": "code",
   "execution_count": 185,
   "metadata": {},
   "outputs": [],
   "source": [
    "od_mode = tp.groupby(['tract_1','tract_2','mode'], as_index=False).count()[['tract_1','tract_2','mode','sampno']]\n",
    "\n",
    "od_mode['key'] = 0\n",
    "od['key'] = 0\n",
    "# Use all OD\n",
    "od_mode_full = pd.merge(od[['tract_1','tract_2','key']].drop_duplicates(), od_mode[['mode','key']].drop_duplicates()).drop(\"key\", 1)\n",
    "od_mode = od_mode.drop(\"key\",1)\n",
    "od = od.drop(\"key\",1)\n",
    "od_mode_full[\"i\"] = 1"
   ]
  },
  {
   "cell_type": "code",
   "execution_count": 186,
   "metadata": {},
   "outputs": [],
   "source": [
    "od_mode = pd.merge(od_mode_full, od_mode, on=['tract_1','tract_2','mode'], how='outer').fillna(0)\n",
    "od_mode = pd.merge(od_mode, od, on=['tract_1','tract_2'], suffixes=(\"_mode\",\"_od\"))\n",
    "od_mode['mode_share'] = od_mode['sampno_mode'] / od_mode['sampno_od']"
   ]
  },
  {
   "cell_type": "code",
   "execution_count": 187,
   "metadata": {},
   "outputs": [],
   "source": [
    "od_mode.to_csv(data_dir+\"od_mode.csv\", index=False)"
   ]
  },
  {
   "cell_type": "markdown",
   "metadata": {},
   "source": [
    "## Filter OD pairs\n",
    "- A lot of public transit trips are filltered."
   ]
  },
  {
   "cell_type": "code",
   "execution_count": 196,
   "metadata": {},
   "outputs": [],
   "source": [
    "od = od[od['sampno']>15]"
   ]
  },
  {
   "cell_type": "code",
   "execution_count": 197,
   "metadata": {},
   "outputs": [
    {
     "name": "stdout",
     "output_type": "stream",
     "text": [
      "# Census tracts in these OD pairs: 282\n"
     ]
    }
   ],
   "source": [
    "tracts = pd.concat([od['tract_1'], od['tract_2']]).drop_duplicates().tolist()\n",
    "print(\"# Census tracts in these OD pairs:\", len(tracts))"
   ]
  },
  {
   "cell_type": "code",
   "execution_count": 190,
   "metadata": {},
   "outputs": [],
   "source": [
    "od_mode = tp.groupby(['tract_1','tract_2','mode'], as_index=False).count()[['tract_1','tract_2','mode','sampno']]\n",
    "\n",
    "od_mode['key'] = 0\n",
    "od['key'] = 0\n",
    "# Use filtered OD (>15 trips)\n",
    "od_mode_full = pd.merge(od[['tract_1','tract_2','key']].drop_duplicates(), od_mode[['mode','key']].drop_duplicates()).drop(\"key\", 1)\n",
    "od_mode = od_mode.drop(\"key\",1)\n",
    "od = od.drop(\"key\",1)\n",
    "od_mode_full[\"i\"] = 1"
   ]
  },
  {
   "cell_type": "code",
   "execution_count": 191,
   "metadata": {},
   "outputs": [],
   "source": [
    "od_mode = pd.merge(od_mode_full, od_mode, on=['tract_1','tract_2','mode'], how='outer').fillna(0)\n",
    "od_mode = pd.merge(od_mode, od, on=['tract_1','tract_2'], suffixes=(\"_mode\",\"_od\"))\n",
    "od_mode['mode_share'] = od_mode['sampno_mode'] / od_mode['sampno_od']"
   ]
  },
  {
   "cell_type": "code",
   "execution_count": 198,
   "metadata": {},
   "outputs": [],
   "source": [
    "od_mode.to_csv(data_dir+\"od_mode_filtered.csv\", index=False)"
   ]
  },
  {
   "cell_type": "code",
   "execution_count": 200,
   "metadata": {},
   "outputs": [],
   "source": [
    "# Output Census Tracts to Get Images\n",
    "tracts = pd.concat([od['tract_1'], od['tract_2']]).drop_duplicates().tolist()\n",
    "lc = pd.read_csv(survey_dir+\"location.csv\")\n",
    "lc['tract'] = lc['state_fips']*1000000000+lc['county_fips']*1000000+lc['tract_fips']\n",
    "\n",
    "lc = lc[['tract','state_fips','county_fips','tract_fips','latitude','longitude']].drop_duplicates()\n",
    "lc = lc[lc['tract'].isin(tracts)]\n",
    "\n",
    "lc.to_csv(data_dir+\"census_tracts_filtered.csv\", index=False)"
   ]
  },
  {
   "cell_type": "code",
   "execution_count": null,
   "metadata": {},
   "outputs": [],
   "source": []
  },
  {
   "cell_type": "code",
   "execution_count": null,
   "metadata": {},
   "outputs": [],
   "source": []
  }
 ],
 "metadata": {
  "kernelspec": {
   "display_name": "Python [conda env:geo]",
   "language": "python",
   "name": "conda-env-geo-py"
  },
  "language_info": {
   "codemirror_mode": {
    "name": "ipython",
    "version": 3
   },
   "file_extension": ".py",
   "mimetype": "text/x-python",
   "name": "python",
   "nbconvert_exporter": "python",
   "pygments_lexer": "ipython3",
   "version": "3.8.6"
  },
  "varInspector": {
   "cols": {
    "lenName": 16,
    "lenType": 16,
    "lenVar": 40
   },
   "kernels_config": {
    "python": {
     "delete_cmd_postfix": "",
     "delete_cmd_prefix": "del ",
     "library": "var_list.py",
     "varRefreshCmd": "print(var_dic_list())"
    },
    "r": {
     "delete_cmd_postfix": ") ",
     "delete_cmd_prefix": "rm(",
     "library": "var_list.r",
     "varRefreshCmd": "cat(var_dic_list()) "
    }
   },
   "types_to_exclude": [
    "module",
    "function",
    "builtin_function_or_method",
    "instance",
    "_Feature"
   ],
   "window_display": false
  }
 },
 "nbformat": 4,
 "nbformat_minor": 2
}
