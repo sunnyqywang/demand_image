{
 "cells": [
  {
   "cell_type": "code",
   "execution_count": 1,
   "id": "61f5cb68",
   "metadata": {},
   "outputs": [],
   "source": [
    "%load_ext autoreload\n",
    "%autoreload 2"
   ]
  },
  {
   "cell_type": "code",
   "execution_count": 2,
   "id": "e012ce56",
   "metadata": {},
   "outputs": [],
   "source": [
    "import torch \n",
    "device = torch.device(\"cuda:2\" if torch.cuda.is_available() else \"cpu\")"
   ]
  },
  {
   "cell_type": "code",
   "execution_count": 45,
   "id": "baf4efd7",
   "metadata": {},
   "outputs": [],
   "source": [
    "from setup import model_dir, image_dir, out_dir, data_dir\n",
    "from util_model import parse_args\n",
    "\n",
    "zoomlevel = 'zoom15'\n",
    "latent_dim = 100\n",
    "demo_dim = 5\n",
    "# demo_cols = [0,1,2,3,4,8,9]\n",
    "# demo_cols = [0,9]\n",
    "image_size = str(128)\n",
    "im_norm = '2'\n",
    "model_run_date = \"2211-3-7-128\"\n",
    "model_type = 'dcgan'\n",
    "loss_func = 'mse'\n",
    "model_class = 'clf'\n",
    "base_lr = '0.0001'\n",
    "weight_decay = '0.0005'\n",
    "sampling = 'clustered'\n",
    "\n",
    "args = parse_args(s=['--zoomlevel', zoomlevel, '--latent_dim', str(latent_dim), \n",
    "                     '--image_size', image_size, \\\n",
    "                     '--im_norm', im_norm, '--model_run_date', model_run_date, '--model_type', model_type, \\\n",
    "                     '--loss_func', loss_func, '--model_class', model_class, \\\n",
    "                     '--base_lr', base_lr, '--weight_decay', weight_decay, \\\n",
    "                     '--demo_channels', str(demo_dim), \\\n",
    "                     '--sampling', sampling])\n",
    "\n",
    "from util_model import dcgan_config, load_model\n",
    "\n",
    "config = dcgan_config(args)\n",
    "\n",
    "run_config = config['run_config']\n",
    "optim_config = config['optim_config']\n",
    "data_config = config['data_config']\n",
    "model_config = config['model_config']\n",
    "run_config['tensorboard'] = False\n",
    "\n",
    "# enc = load_model('dcgan', 'Discriminator', config)\n",
    "# enc = enc.to(device)\n",
    "\n",
    "# config['encoder'] = enc\n",
    "# clf = load_model('direct_regression', \"DirectRegression\", config)\n",
    "clf = load_model('mobilenet', 'MobileNetV2', config)\n",
    "clf = clf.to(device)\n"
   ]
  },
  {
   "cell_type": "code",
   "execution_count": 4,
   "id": "0e8d46c6",
   "metadata": {
    "scrolled": true
   },
   "outputs": [
    {
     "name": "stdout",
     "output_type": "stream",
     "text": [
      "28280 images in dataset\n",
      "3140 images in dataset\n"
     ]
    }
   ],
   "source": [
    "from dataloader import image_loader\n",
    "\n",
    "# Satellite\n",
    "train_loader, test_loader = image_loader(image_dir+args.zoomlevel+\"/\", data_dir, optim_config['batch_size'], \n",
    "         run_config['num_workers'], \n",
    "         data_config['image_size'], \n",
    "         data_version=args.data_version, \n",
    "         sampling=args.sampling, \n",
    "         recalculate_normalize=False,\n",
    "         augment=False,\n",
    "         norm=args.im_norm,\n",
    "         demo=True)"
   ]
  },
  {
   "cell_type": "code",
   "execution_count": 42,
   "id": "85f74b90",
   "metadata": {},
   "outputs": [],
   "source": [
    "import torch\n",
    "import torch.nn as nn\n",
    "criterion = nn.BCELoss(reduction='mean')\n"
   ]
  },
  {
   "cell_type": "code",
   "execution_count": 46,
   "id": "e796607d",
   "metadata": {},
   "outputs": [],
   "source": [
    "optim = torch.optim.Adam(clf.parameters(), lr=optim_config['base_lr'], weight_decay=optim_config['weight_decay'])\n"
   ]
  },
  {
   "cell_type": "code",
   "execution_count": 47,
   "id": "ea66a4a2",
   "metadata": {
    "scrolled": false
   },
   "outputs": [
    {
     "name": "stdout",
     "output_type": "stream",
     "text": [
      "[Train] Epoch 0: 1.1079E-03\n",
      "tensor([0.6091, 0.8320, 0.8105, 0.8008, 0.6366], dtype=torch.float64)\n",
      "[Test] Epoch 0: 5.8962E-03\n",
      "tensor([0.6293, 0.8449, 0.8478, 0.7943, 0.6653], dtype=torch.float64)\n",
      "\n",
      "[Train] Epoch 1: 1.1268E-03\n",
      "tensor([0.6651, 0.8810, 0.8143, 0.8227, 0.6871], dtype=torch.float64)\n",
      "[Train] Epoch 2: 1.0355E-03\n",
      "tensor([0.6926, 0.8902, 0.8145, 0.8309, 0.7105], dtype=torch.float64)\n",
      "[Train] Epoch 3: 9.7403E-04\n",
      "tensor([0.7076, 0.8953, 0.8147, 0.8366, 0.7244], dtype=torch.float64)\n",
      "[Train] Epoch 4: 9.1985E-04\n",
      "tensor([0.7207, 0.8976, 0.8142, 0.8397, 0.7355], dtype=torch.float64)\n",
      "[Train] Epoch 5: 8.7364E-04\n",
      "tensor([0.7351, 0.9002, 0.8150, 0.8428, 0.7494], dtype=torch.float64)\n",
      "[Test] Epoch 5: 5.3602E-03\n",
      "tensor([0.6707, 0.8717, 0.8446, 0.8127, 0.6736], dtype=torch.float64)\n",
      "\n",
      "[Train] Epoch 6: 1.0147E-03\n",
      "tensor([0.7523, 0.9040, 0.8149, 0.8479, 0.7663], dtype=torch.float64)\n",
      "[Train] Epoch 7: 1.0374E-03\n",
      "tensor([0.7661, 0.9054, 0.8164, 0.8492, 0.7803], dtype=torch.float64)\n",
      "[Train] Epoch 8: 8.0674E-04\n",
      "tensor([0.7814, 0.9080, 0.8162, 0.8547, 0.7950], dtype=torch.float64)\n",
      "[Train] Epoch 9: 1.0126E-03\n",
      "tensor([0.7992, 0.9122, 0.8188, 0.8548, 0.8114], dtype=torch.float64)\n",
      "[Train] Epoch 10: 8.3454E-04\n",
      "tensor([0.8166, 0.9139, 0.8216, 0.8585, 0.8258], dtype=torch.float64)\n",
      "[Test] Epoch 10: 3.1764E-03\n",
      "tensor([0.6475, 0.8697, 0.8338, 0.8003, 0.6439], dtype=torch.float64)\n",
      "\n",
      "[Train] Epoch 11: 8.7503E-04\n",
      "tensor([0.8334, 0.9169, 0.8255, 0.8608, 0.8365], dtype=torch.float64)\n",
      "[Train] Epoch 12: 7.4387E-04\n",
      "tensor([0.8419, 0.9200, 0.8285, 0.8673, 0.8491], dtype=torch.float64)\n",
      "[Train] Epoch 13: 7.0862E-04\n",
      "tensor([0.8555, 0.9228, 0.8330, 0.8709, 0.8598], dtype=torch.float64)\n",
      "[Train] Epoch 14: 7.6043E-04\n",
      "tensor([0.8650, 0.9280, 0.8400, 0.8795, 0.8712], dtype=torch.float64)\n",
      "[Train] Epoch 15: 5.8541E-04\n",
      "tensor([0.8682, 0.9285, 0.8431, 0.8833, 0.8767], dtype=torch.float64)\n",
      "[Test] Epoch 15: 3.4895E-03\n",
      "tensor([0.6525, 0.8621, 0.8299, 0.7952, 0.6599], dtype=torch.float64)\n",
      "\n",
      "[Train] Epoch 16: 8.4558E-04\n",
      "tensor([0.8813, 0.9364, 0.8519, 0.8919, 0.8880], dtype=torch.float64)\n",
      "[Train] Epoch 17: 6.9203E-04\n",
      "tensor([0.8855, 0.9384, 0.8591, 0.8946, 0.8921], dtype=torch.float64)\n",
      "[Train] Epoch 18: 4.2357E-04\n",
      "tensor([0.8917, 0.9415, 0.8685, 0.9024, 0.8966], dtype=torch.float64)\n",
      "[Train] Epoch 19: 4.7311E-04\n",
      "tensor([0.9000, 0.9457, 0.8752, 0.9075, 0.9043], dtype=torch.float64)\n",
      "[Train] Epoch 20: 5.3331E-04\n",
      "tensor([0.9030, 0.9516, 0.8849, 0.9159, 0.9053], dtype=torch.float64)\n",
      "[Test] Epoch 20: 2.6322E-03\n",
      "tensor([0.6631, 0.8602, 0.8038, 0.7911, 0.6736], dtype=torch.float64)\n",
      "\n",
      "[Train] Epoch 26: 5.1446E-04\n",
      "tensor([0.9204, 0.9612, 0.9257, 0.9401, 0.9213], dtype=torch.float64)\n",
      "[Train] Epoch 27: 3.2522E-04\n",
      "tensor([0.9240, 0.9682, 0.9276, 0.9458, 0.9303], dtype=torch.float64)\n",
      "[Train] Epoch 28: 3.3724E-04\n",
      "tensor([0.9270, 0.9677, 0.9346, 0.9479, 0.9340], dtype=torch.float64)\n",
      "[Train] Epoch 29: 4.5234E-04\n",
      "tensor([0.9295, 0.9707, 0.9393, 0.9552, 0.9316], dtype=torch.float64)\n",
      "[Train] Epoch 30: 6.5283E-04\n",
      "tensor([0.9298, 0.9712, 0.9442, 0.9517, 0.9360], dtype=torch.float64)\n",
      "[Test] Epoch 30: 1.6319E-03\n",
      "tensor([0.6513, 0.8567, 0.7834, 0.7787, 0.6656], dtype=torch.float64)\n",
      "\n",
      "[Train] Epoch 31: 3.3824E-04\n",
      "tensor([0.9355, 0.9719, 0.9428, 0.9555, 0.9374], dtype=torch.float64)\n",
      "[Train] Epoch 32: 5.9163E-04\n",
      "tensor([0.9412, 0.9745, 0.9494, 0.9601, 0.9441], dtype=torch.float64)\n",
      "[Train] Epoch 33: 2.7938E-04\n",
      "tensor([0.9386, 0.9742, 0.9489, 0.9597, 0.9401], dtype=torch.float64)\n",
      "[Train] Epoch 34: 3.6053E-04\n",
      "tensor([0.9419, 0.9765, 0.9527, 0.9606, 0.9436], dtype=torch.float64)\n",
      "[Train] Epoch 35: 2.1359E-04\n",
      "tensor([0.9425, 0.9778, 0.9553, 0.9651, 0.9488], dtype=torch.float64)\n",
      "[Test] Epoch 35: 1.2345E-03\n",
      "tensor([0.6561, 0.8510, 0.7971, 0.7720, 0.6529], dtype=torch.float64)\n",
      "\n",
      "[Train] Epoch 36: 2.5939E-04\n",
      "tensor([0.9450, 0.9765, 0.9531, 0.9655, 0.9484], dtype=torch.float64)\n",
      "[Train] Epoch 37: 3.0026E-04\n",
      "tensor([0.9454, 0.9768, 0.9558, 0.9635, 0.9472], dtype=torch.float64)\n",
      "[Train] Epoch 38: 5.1592E-04\n",
      "tensor([0.9490, 0.9774, 0.9592, 0.9684, 0.9495], dtype=torch.float64)\n",
      "[Train] Epoch 39: 1.8217E-04\n",
      "tensor([0.9506, 0.9791, 0.9607, 0.9674, 0.9533], dtype=torch.float64)\n",
      "[Train] Epoch 40: 3.0843E-04\n",
      "tensor([0.9512, 0.9814, 0.9621, 0.9694, 0.9546], dtype=torch.float64)\n",
      "[Test] Epoch 40: 1.5260E-03\n",
      "tensor([0.6662, 0.8580, 0.7522, 0.7675, 0.6656], dtype=torch.float64)\n",
      "\n",
      "Diverging. stop.\n"
     ]
    }
   ],
   "source": [
    "import glob\n",
    "import numpy as np\n",
    "import os\n",
    "\n",
    "\n",
    "ref1 = 0\n",
    "ref2 = 0\n",
    "\n",
    "train_loss_list = []\n",
    "test_loss_list = []\n",
    "train_acc_list = []\n",
    "test_acc_list = []\n",
    "\n",
    "train_flag = True\n",
    "    \n",
    "for epoch in range(optim_config['epochs']):\n",
    "    \n",
    "    clf.train()\n",
    "    loss_ = 0\n",
    "    train_acc = torch.zeros(5,)\n",
    "    \n",
    "    for step, (image_list, data, demo) in enumerate(train_loader):\n",
    "        \n",
    "        optim.zero_grad()\n",
    "        \n",
    "        data = data.to(device)\n",
    "        demo = demo.float().to(device)\n",
    "        out_demo = clf(data)\n",
    "            \n",
    "        loss = criterion(out_demo, demo)\n",
    "        loss.backward()\n",
    "\n",
    "        optim.step()\n",
    "        \n",
    "        loss_ += loss.detach()\n",
    "        train_acc += torch.sum((out_demo > 0.5).float() == demo, dim=0).detach().cpu().numpy()\n",
    "        \n",
    "    loss_ = loss.cpu().detach().numpy()\n",
    "    train_loss_list.append(loss_/step)\n",
    "    \n",
    "    print(\"[Train] Epoch %d: %.4E\" % (epoch, loss_/step))\n",
    "    print(train_acc / 28280)\n",
    "    \n",
    "    if epoch % 5 == 0:\n",
    "        \n",
    "        clf.eval()\n",
    "\n",
    "        loss_ = 0\n",
    "        test_acc = torch.zeros(5,)\n",
    "        \n",
    "        for step, (image_list, data, demo) in enumerate(test_loader):\n",
    "\n",
    "            data = data.to(device)\n",
    "            demo = demo.float().to(device)\n",
    "    \n",
    "            out_demo = clf(data)\n",
    "            loss = criterion(out_demo, demo)\n",
    "            loss_ += loss.detach()\n",
    "            test_acc += torch.sum((out_demo > 0.5).float() == demo, dim=0).detach().cpu().numpy()\n",
    "\n",
    "        loss_ = loss.cpu().detach().numpy()\n",
    "        test_loss_list.append(loss_/step) \n",
    "        \n",
    "        print(\"[Test] Epoch %d: %.4E\" % (epoch, loss_/step))\n",
    "        print(test_acc/3140)\n",
    "        print()\n",
    "    \n",
    "        if epoch > 30:\n",
    "            if (np.abs(loss_ - ref1)<ref1*0.001) & (np.abs(loss_ - ref2)<ref2*0.001):\n",
    "                print(\"Early stopping at epoch\", epoch)\n",
    "                break\n",
    "            if (ref1 < loss_) & (ref1 < ref2):\n",
    "                print(\"Diverging. stop.\")\n",
    "                train_flag = False\n",
    "                break\n",
    "            if loss_ < best:\n",
    "                best = loss_\n",
    "                best_epoch = epoch\n",
    "        else:\n",
    "            best = loss_\n",
    "            best_epoch = epoch\n",
    "\n",
    "        ref2 = ref1\n",
    "        ref1 = loss_\n",
    "\n",
    "        if (config['run_config']['save']) & (best_epoch==epoch):\n",
    "            torch.save({'epoch': epoch,\n",
    "                'model_state_dict': clf.state_dict(),\n",
    "                'optimizer_state_dict': optim.state_dict(),\n",
    "                'config': config},\n",
    "                model_dir+\"CLF_\"+str(model_run_date)+\"_\"+str(epoch)+\".pt\")\n",
    "\n",
    "            \n",
    "if config['run_config']['save']:\n",
    "    files = glob.glob(model_dir+\"CLF_\"+str(model_run_date)+\"_*.pt\")\n",
    "\n",
    "    for f in files:\n",
    "        e = int(f.split(\"_\")[-1].split(\".\")[0])\n",
    "        if e != best_epoch:\n",
    "            os.remove(f)"
   ]
  },
  {
   "cell_type": "code",
   "execution_count": 30,
   "id": "9b299911",
   "metadata": {},
   "outputs": [],
   "source": [
    "test_out = []\n",
    "test_true = []\n",
    "\n",
    "for step, (image_list, data, demo) in enumerate(test_loader):\n",
    "    \n",
    "    test_true.append(demo[:, demo_cols])\n",
    "    data = data.to(device)\n",
    "    demo = demo[:, demo_cols].to(device)\n",
    "\n",
    "    out_demo = clf(data)\n",
    "    out_demo = out_demo.detach().cpu().numpy()\n",
    "    test_out.append(out_demo)\n",
    "\n",
    "\n",
    "test_out = np.concatenate(test_out)\n",
    "test_true = np.concatenate(test_true)\n",
    "\n",
    "test_err = test_out - test_true"
   ]
  },
  {
   "cell_type": "code",
   "execution_count": 23,
   "id": "4f9a475f",
   "metadata": {},
   "outputs": [],
   "source": [
    "train_out = []\n",
    "train_true = []\n",
    "\n",
    "for step, (image_list, data, demo) in enumerate(train_loader):\n",
    "    \n",
    "    train_true.append(demo[:, demo_cols])\n",
    "    data = data.to(device)\n",
    "    demo = demo[:, demo_cols].to(device)\n",
    "\n",
    "    out_demo = clf(data)\n",
    "    out_demo = out_demo.detach().cpu().numpy()\n",
    "    train_out.append(out_demo)\n",
    "\n",
    "\n",
    "train_out = np.concatenate(train_out)\n",
    "train_true = np.concatenate(train_true)\n",
    "\n",
    "train_err = train_out - train_true"
   ]
  },
  {
   "cell_type": "code",
   "execution_count": 27,
   "id": "b27138c4",
   "metadata": {},
   "outputs": [
    {
     "data": {
      "image/png": "[encoded data removed]",
      "text/plain": [
       "<Figure size 1440x216 with 7 Axes>"
      ]
     },
     "metadata": {
      "needs_background": "light"
     },
     "output_type": "display_data"
    }
   ],
   "source": [
    "import matplotlib.pyplot as plt\n",
    "\n",
    "bins = np.linspace(-1, 1, 30)\n",
    "\n",
    "fig, ax = plt.subplots(1,7, figsize=(20,3))\n",
    "for i in range(7):\n",
    "    ax[i].hist(train_out[:,i], bins=bins, alpha=0.5)\n",
    "    ax[i].hist(train_true[:,i], bins=bins, alpha=0.5)"
   ]
  },
  {
   "cell_type": "code",
   "execution_count": 28,
   "id": "9137a38d",
   "metadata": {
    "scrolled": true
   },
   "outputs": [
    {
     "data": {
      "image/png": "[encoded data removed]",
      "text/plain": [
       "<Figure size 1440x216 with 7 Axes>"
      ]
     },
     "metadata": {
      "needs_background": "light"
     },
     "output_type": "display_data"
    }
   ],
   "source": [
    "bins = np.linspace(-1, 1, 30)\n",
    "\n",
    "fig, ax = plt.subplots(1,7, figsize=(20,3))\n",
    "for i in range(7):\n",
    "    ax[i].hist(test_out[:,i], bins=bins, alpha=0.5)\n",
    "    ax[i].hist(test_true[:,i], bins=bins, alpha=0.5)"
   ]
  },
  {
   "cell_type": "code",
   "execution_count": 31,
   "id": "3a5d2fba",
   "metadata": {},
   "outputs": [],
   "source": [
    "mae = np.mean(np.abs(test_err), axis=0)"
   ]
  },
  {
   "cell_type": "code",
   "execution_count": 32,
   "id": "9c5e6b73",
   "metadata": {},
   "outputs": [
    {
     "data": {
      "text/plain": [
       "array([0.09598063, 0.08465722, 0.05994426, 0.08850216, 0.25618732,\n",
       "       0.12319178, 0.14114317], dtype=float32)"
      ]
     },
     "execution_count": 32,
     "metadata": {},
     "output_type": "execute_result"
    }
   ],
   "source": [
    "mae"
   ]
  },
  {
   "cell_type": "code",
   "execution_count": 33,
   "id": "c5f6e68b",
   "metadata": {},
   "outputs": [],
   "source": [
    "rmse = np.mean(test_err**2, axis=0)"
   ]
  },
  {
   "cell_type": "code",
   "execution_count": 34,
   "id": "e717035c",
   "metadata": {},
   "outputs": [
    {
     "data": {
      "text/plain": [
       "array([0.01438137, 0.01278775, 0.00602057, 0.01498648, 0.12328903,\n",
       "       0.02607518, 0.03483103], dtype=float32)"
      ]
     },
     "execution_count": 34,
     "metadata": {},
     "output_type": "execute_result"
    }
   ],
   "source": [
    "rmse"
   ]
  },
  {
   "cell_type": "code",
   "execution_count": null,
   "id": "115ab67a",
   "metadata": {},
   "outputs": [],
   "source": []
  }
 ],
 "metadata": {
  "kernelspec": {
   "display_name": "qingyi",
   "language": "python",
   "name": "qingyi"
  },
  "language_info": {
   "codemirror_mode": {
    "name": "ipython",
    "version": 3
   },
   "file_extension": ".py",
   "mimetype": "text/x-python",
   "name": "python",
   "nbconvert_exporter": "python",
   "pygments_lexer": "ipython3",
   "version": "3.8.3"
  }
 },
 "nbformat": 4,
 "nbformat_minor": 5
}
