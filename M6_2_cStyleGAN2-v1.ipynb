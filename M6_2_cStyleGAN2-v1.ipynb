{
 "cells": [
  {
   "cell_type": "markdown",
   "id": "4b3836e5",
   "metadata": {},
   "source": [
    "## Condition on style (conditional discriminator)"
   ]
  },
  {
   "cell_type": "code",
   "execution_count": 1,
   "id": "5f46dc07",
   "metadata": {},
   "outputs": [],
   "source": [
    "import os\n",
    "import fire\n",
    "import random\n",
    "from retry.api import retry_call\n",
    "from tqdm import tqdm\n",
    "from datetime import datetime\n",
    "from functools import wraps\n",
    "import sys\n",
    "sys.path.append(\"models/stylegan2/\")\n",
    "from csgan2_trainer import Trainer\n",
    "from util import NanException\n",
    "\n",
    "import torch\n",
    "import torch.multiprocessing as mp\n",
    "import torch.distributed as dist\n",
    "\n",
    "import numpy as np\n",
    "\n",
    "from setup import proj_dir, image_dir, out_dir, model_dir\n",
    "\n",
    "%load_ext autoreload\n",
    "%autoreload 2"
   ]
  },
  {
   "cell_type": "code",
   "execution_count": 6,
   "id": "fe1f8300",
   "metadata": {},
   "outputs": [
    {
     "name": "stderr",
     "output_type": "stream",
     "text": [
      "[autoreload of tqdm.utils failed: Traceback (most recent call last):\n",
      "  File \"/home/jtl/anaconda3/envs/qingyi/lib/python3.8/site-packages/IPython/extensions/autoreload.py\", line 245, in check\n",
      "    superreload(m, reload, self.old_objects)\n",
      "  File \"/home/jtl/anaconda3/envs/qingyi/lib/python3.8/site-packages/IPython/extensions/autoreload.py\", line 410, in superreload\n",
      "    update_generic(old_obj, new_obj)\n",
      "  File \"/home/jtl/anaconda3/envs/qingyi/lib/python3.8/site-packages/IPython/extensions/autoreload.py\", line 347, in update_generic\n",
      "    update(a, b)\n",
      "  File \"/home/jtl/anaconda3/envs/qingyi/lib/python3.8/site-packages/IPython/extensions/autoreload.py\", line 317, in update_class\n",
      "    update_instances(old, new)\n",
      "  File \"/home/jtl/anaconda3/envs/qingyi/lib/python3.8/site-packages/IPython/extensions/autoreload.py\", line 280, in update_instances\n",
      "    ref.__class__ = new\n",
      "  File \"/home/jtl/anaconda3/envs/qingyi/lib/python3.8/site-packages/tqdm/utils.py\", line 92, in __setattr__\n",
      "    return setattr(self._wrapped, name, value)\n",
      "TypeError: __class__ assignment: 'DisableOnWriteError' object layout differs from 'OutStream'\n",
      "]\n",
      "/home/jtl/anaconda3/envs/qingyi/lib/python3.8/importlib/__init__.py:169: TqdmExperimentalWarning: Using `tqdm.autonotebook.tqdm` in notebook mode. Use `tqdm.tqdm` instead to force console mode (e.g. in jupyter console)\n",
      "  _bootstrap._exec(spec, module)\n"
     ]
    }
   ],
   "source": [
    "data = image_dir+\"zoom15/\"\n",
    "results_dir = out_dir\n",
    "models_dir = model_dir\n",
    "name = '2211-ctest4'\n",
    "new = False\n",
    "load_from = 48\n",
    "image_size = 64\n",
    "condition_dim = 7\n",
    "condition_on_mapper = False\n",
    "network_capacity = 16\n",
    "fmap_max = 512\n",
    "transparent = False\n",
    "batch_size = 8\n",
    "gradient_accumulate_every = 6\n",
    "num_train_steps = 100000\n",
    "learning_rate = 2e-4\n",
    "lr_mlp = 0.1\n",
    "ttur_mult = 1.5\n",
    "rel_disc_loss = False\n",
    "num_workers =  None\n",
    "save_every = 1000\n",
    "evaluate_every = 1000\n",
    "generate = False\n",
    "num_generate = 1\n",
    "generate_interpolation = False\n",
    "interpolation_num_steps = 100\n",
    "save_frames = False\n",
    "num_image_tiles = 8\n",
    "trunc_psi = 0.75\n",
    "mixed_prob = 0.9\n",
    "fp16 = False\n",
    "no_pl_reg = False\n",
    "cl_reg = False\n",
    "fq_layers = []\n",
    "fq_dict_size = 256\n",
    "attn_layers = []\n",
    "no_const = False\n",
    "aug_prob = 0.\n",
    "aug_types = ['translation', 'cutout']\n",
    "top_k_training = False\n",
    "generator_top_k_gamma = 0.99\n",
    "generator_top_k_frac = 0.5\n",
    "dual_contrast_loss = False\n",
    "dataset_aug_prob = 0.\n",
    "multi_gpus = False\n",
    "calculate_fid_every = None\n",
    "calculate_fid_num_images = 12800\n",
    "clear_fid_cache = False\n",
    "seed = 42\n",
    "log = False\n",
    "rank = 1"
   ]
  },
  {
   "cell_type": "code",
   "execution_count": 7,
   "id": "9f7b40b3",
   "metadata": {},
   "outputs": [],
   "source": [
    "model_args = dict(\n",
    "    name = name,\n",
    "    results_dir = results_dir,\n",
    "    models_dir = models_dir,\n",
    "    batch_size = batch_size,\n",
    "    gradient_accumulate_every = gradient_accumulate_every,\n",
    "    image_size = image_size,\n",
    "    condition_dim = condition_dim,\n",
    "    condition_on_mapper = condition_on_mapper,\n",
    "    network_capacity = network_capacity,\n",
    "    fmap_max = fmap_max,\n",
    "    transparent = transparent,\n",
    "    lr = learning_rate,\n",
    "    lr_mlp = lr_mlp,\n",
    "    ttur_mult = ttur_mult,\n",
    "    rel_disc_loss = rel_disc_loss,\n",
    "    num_workers = num_workers,\n",
    "    save_every = save_every,\n",
    "    evaluate_every = evaluate_every,\n",
    "    num_image_tiles = num_image_tiles,\n",
    "    trunc_psi = trunc_psi,\n",
    "    fp16 = fp16,\n",
    "    no_pl_reg = no_pl_reg,\n",
    "    cl_reg = cl_reg,\n",
    "    fq_layers = fq_layers,\n",
    "    fq_dict_size = fq_dict_size,\n",
    "    attn_layers = attn_layers,\n",
    "    no_const = no_const,\n",
    "    aug_prob = aug_prob,\n",
    "    aug_types = aug_types,\n",
    "    top_k_training = top_k_training,\n",
    "    generator_top_k_gamma = generator_top_k_gamma,\n",
    "    generator_top_k_frac = generator_top_k_frac,\n",
    "    dual_contrast_loss = dual_contrast_loss,\n",
    "    dataset_aug_prob = dataset_aug_prob,\n",
    "    calculate_fid_every = calculate_fid_every,\n",
    "    calculate_fid_num_images = calculate_fid_num_images,\n",
    "    clear_fid_cache = clear_fid_cache,\n",
    "    mixed_prob = mixed_prob,\n",
    "    log = log,\n",
    "    rank = rank,\n",
    "    demo_channels = 7\n",
    ")"
   ]
  },
  {
   "cell_type": "code",
   "execution_count": 8,
   "id": "5372ffa2",
   "metadata": {},
   "outputs": [],
   "source": [
    "def run_training(rank, world_size, model_args, data, load_from, new, num_train_steps, name, seed):\n",
    "#     is_main = rank == 0\n",
    "    is_main = True\n",
    "    is_ddp = world_size > 1\n",
    "\n",
    "    if is_ddp:\n",
    "        set_seed(seed)\n",
    "        os.environ['MASTER_ADDR'] = 'localhost'\n",
    "        os.environ['MASTER_PORT'] = '12355'\n",
    "        dist.init_process_group('nccl', rank=rank, world_size=world_size)\n",
    "\n",
    "        print(f\"{rank + 1}/{world_size} process initialized.\")\n",
    "\n",
    "    model_args.update(\n",
    "        is_ddp = is_ddp,\n",
    "        rank = rank,\n",
    "        world_size = world_size\n",
    "    )\n",
    "\n",
    "    model = Trainer(**model_args)\n",
    "    \n",
    "    if not new:\n",
    "        model.load(load_from)\n",
    "    else:\n",
    "        model.clear()\n",
    "\n",
    "    model.set_data_src(data)\n",
    "\n",
    "    progress_bar = tqdm(initial = model.steps, total = num_train_steps, mininterval=10., desc=f'{name}<{data}>', position=0, leave=True)\n",
    "    while model.steps < num_train_steps:\n",
    "        retry_call(model.train, tries=3, exceptions=NanException)\n",
    "        progress_bar.n = model.steps\n",
    "        progress_bar.refresh()\n",
    "        if is_main and model.steps % 50 == 0:\n",
    "            model.print_log()\n",
    "\n",
    "    model.save(model.checkpoint_num)\n",
    "\n",
    "    if is_ddp:\n",
    "        dist.destroy_process_group()"
   ]
  },
  {
   "cell_type": "code",
   "execution_count": 11,
   "id": "c63ca100",
   "metadata": {
    "scrolled": true
   },
   "outputs": [
    {
     "name": "stdout",
     "output_type": "stream",
     "text": [
      "Results directory: /home/jtl/Dropbox (MIT)/project_image_demand/results/sGAN2/2211-ctest4\n",
      "Model directory: /dreambig/qingyi/image_chicago/models/sGAN2/2211-ctest4\n",
      "Loading /dreambig/qingyi/image_chicago/models/sGAN2/2211-ctest4/model_48.pt\n",
      "28280 images in dataset\n",
      "3140 images in dataset\n"
     ]
    },
    {
     "name": "stderr",
     "output_type": "stream",
     "text": [
      "2211-ctest4</dreambig/qingyi/image_chicago/data/images/satellite/zoom15/>:  48%|████▊     | 48000/100000 [00:00<?, ?it/s]Traceback (most recent call last):\n",
      "  File \"/home/jtl/anaconda3/envs/qingyi/lib/python3.8/multiprocessing/queues.py\", line 245, in _feed\n",
      "    send_bytes(obj)\n",
      "  File \"/home/jtl/anaconda3/envs/qingyi/lib/python3.8/multiprocessing/connection.py\", line 200, in send_bytes\n",
      "    self._send_bytes(m[offset:offset + size])\n",
      "  File \"/home/jtl/anaconda3/envs/qingyi/lib/python3.8/multiprocessing/connection.py\", line 411, in _send_bytes\n",
      "    self._send(header + buf)\n",
      "  File \"/home/jtl/anaconda3/envs/qingyi/lib/python3.8/multiprocessing/connection.py\", line 368, in _send\n",
      "    n = write(self._handle, buf)\n",
      "BrokenPipeError: [Errno 32] Broken pipe\n",
      "2211-ctest4</dreambig/qingyi/image_chicago/data/images/satellite/zoom15/>:  48%|████▊     | 48050/100000 [00:46<13:33:40,  1.06it/s]"
     ]
    },
    {
     "name": "stdout",
     "output_type": "stream",
     "text": [
      "G: 1.11 | D: 0.95 | GP: 0.05 | PL: 0.01\n"
     ]
    },
    {
     "name": "stderr",
     "output_type": "stream",
     "text": [
      "2211-ctest4</dreambig/qingyi/image_chicago/data/images/satellite/zoom15/>:  48%|████▊     | 48100/100000 [01:30<13:02:16,  1.11it/s]"
     ]
    },
    {
     "name": "stdout",
     "output_type": "stream",
     "text": [
      "G: 0.78 | D: 1.22 | GP: 3.13 | PL: 0.01\n"
     ]
    },
    {
     "name": "stderr",
     "output_type": "stream",
     "text": [
      "2211-ctest4</dreambig/qingyi/image_chicago/data/images/satellite/zoom15/>:  48%|████▊     | 48150/100000 [02:15<13:01:21,  1.11it/s]"
     ]
    },
    {
     "name": "stdout",
     "output_type": "stream",
     "text": [
      "G: 1.41 | D: 1.14 | GP: 0.13 | PL: 0.01\n"
     ]
    },
    {
     "name": "stderr",
     "output_type": "stream",
     "text": [
      "2211-ctest4</dreambig/qingyi/image_chicago/data/images/satellite/zoom15/>:  48%|████▊     | 48200/100000 [02:59<12:56:40,  1.11it/s]"
     ]
    },
    {
     "name": "stdout",
     "output_type": "stream",
     "text": [
      "G: 0.43 | D: 0.99 | GP: 0.22 | PL: 0.01\n"
     ]
    },
    {
     "name": "stderr",
     "output_type": "stream",
     "text": [
      "2211-ctest4</dreambig/qingyi/image_chicago/data/images/satellite/zoom15/>:  48%|████▊     | 48250/100000 [03:45<12:56:47,  1.11it/s]"
     ]
    },
    {
     "name": "stdout",
     "output_type": "stream",
     "text": [
      "G: 0.77 | D: 1.20 | GP: 0.62 | PL: 0.01\n"
     ]
    },
    {
     "name": "stderr",
     "output_type": "stream",
     "text": [
      "2211-ctest4</dreambig/qingyi/image_chicago/data/images/satellite/zoom15/>:  48%|████▊     | 48300/100000 [04:29<12:54:02,  1.11it/s]"
     ]
    },
    {
     "name": "stdout",
     "output_type": "stream",
     "text": [
      "G: 3.11 | D: 0.97 | GP: 0.65 | PL: 0.01\n"
     ]
    },
    {
     "name": "stderr",
     "output_type": "stream",
     "text": [
      "2211-ctest4</dreambig/qingyi/image_chicago/data/images/satellite/zoom15/>:  48%|████▊     | 48350/100000 [05:15<12:55:46,  1.11it/s]"
     ]
    },
    {
     "name": "stdout",
     "output_type": "stream",
     "text": [
      "G: 0.20 | D: 0.86 | GP: 0.52 | PL: 0.01\n"
     ]
    },
    {
     "name": "stderr",
     "output_type": "stream",
     "text": [
      "2211-ctest4</dreambig/qingyi/image_chicago/data/images/satellite/zoom15/>:  48%|████▊     | 48400/100000 [06:00<12:55:26,  1.11it/s]"
     ]
    },
    {
     "name": "stdout",
     "output_type": "stream",
     "text": [
      "G: 1.12 | D: 1.05 | GP: 0.14 | PL: 0.01\n"
     ]
    },
    {
     "name": "stderr",
     "output_type": "stream",
     "text": [
      "2211-ctest4</dreambig/qingyi/image_chicago/data/images/satellite/zoom15/>:  48%|████▊     | 48450/100000 [06:48<13:00:12,  1.10it/s]"
     ]
    },
    {
     "name": "stdout",
     "output_type": "stream",
     "text": [
      "G: 0.96 | D: 0.94 | GP: 0.63 | PL: 0.01\n"
     ]
    },
    {
     "name": "stderr",
     "output_type": "stream",
     "text": [
      "2211-ctest4</dreambig/qingyi/image_chicago/data/images/satellite/zoom15/>:  49%|████▊     | 48650/100000 [09:58<13:07:26,  1.09it/s]"
     ]
    },
    {
     "name": "stdout",
     "output_type": "stream",
     "text": [
      "G: 0.54 | D: 1.01 | GP: 0.15 | PL: 0.01\n"
     ]
    },
    {
     "name": "stderr",
     "output_type": "stream",
     "text": [
      "2211-ctest4</dreambig/qingyi/image_chicago/data/images/satellite/zoom15/>:  49%|████▊     | 48700/100000 [10:44<13:06:41,  1.09it/s]"
     ]
    },
    {
     "name": "stdout",
     "output_type": "stream",
     "text": [
      "G: 0.37 | D: 1.37 | GP: 1.51 | PL: 0.01\n"
     ]
    },
    {
     "name": "stderr",
     "output_type": "stream",
     "text": [
      "2211-ctest4</dreambig/qingyi/image_chicago/data/images/satellite/zoom15/>:  49%|████▉     | 48750/100000 [11:32<13:08:19,  1.08it/s]"
     ]
    },
    {
     "name": "stdout",
     "output_type": "stream",
     "text": [
      "G: 1.25 | D: 0.78 | GP: 0.04 | PL: 0.01\n"
     ]
    },
    {
     "name": "stderr",
     "output_type": "stream",
     "text": [
      "2211-ctest4</dreambig/qingyi/image_chicago/data/images/satellite/zoom15/>:  49%|████▉     | 48800/100000 [12:18<13:07:34,  1.08it/s]"
     ]
    },
    {
     "name": "stdout",
     "output_type": "stream",
     "text": [
      "G: 2.15 | D: 1.25 | GP: 0.34 | PL: 0.01\n"
     ]
    },
    {
     "name": "stderr",
     "output_type": "stream",
     "text": [
      "2211-ctest4</dreambig/qingyi/image_chicago/data/images/satellite/zoom15/>:  49%|████▉     | 48850/100000 [13:06<13:08:38,  1.08it/s]"
     ]
    },
    {
     "name": "stdout",
     "output_type": "stream",
     "text": [
      "G: 0.84 | D: 0.94 | GP: 0.34 | PL: 0.01\n"
     ]
    },
    {
     "name": "stderr",
     "output_type": "stream",
     "text": [
      "2211-ctest4</dreambig/qingyi/image_chicago/data/images/satellite/zoom15/>:  49%|████▉     | 48900/100000 [13:52<13:08:14,  1.08it/s]"
     ]
    },
    {
     "name": "stdout",
     "output_type": "stream",
     "text": [
      "G: 0.26 | D: 1.42 | GP: 2.24 | PL: 0.01\n"
     ]
    },
    {
     "name": "stderr",
     "output_type": "stream",
     "text": [
      "2211-ctest4</dreambig/qingyi/image_chicago/data/images/satellite/zoom15/>:  49%|████▉     | 48950/100000 [14:39<13:08:07,  1.08it/s]"
     ]
    },
    {
     "name": "stdout",
     "output_type": "stream",
     "text": [
      "G: 1.19 | D: 1.32 | GP: 0.12 | PL: 0.01\n"
     ]
    },
    {
     "name": "stderr",
     "output_type": "stream",
     "text": [
      "2211-ctest4</dreambig/qingyi/image_chicago/data/images/satellite/zoom15/>:  49%|████▉     | 49000/100000 [15:27<13:08:03,  1.08it/s]"
     ]
    },
    {
     "name": "stdout",
     "output_type": "stream",
     "text": [
      "G: 0.21 | D: 1.02 | GP: 0.22 | PL: 0.01\n"
     ]
    },
    {
     "name": "stderr",
     "output_type": "stream",
     "text": [
      "2211-ctest4</dreambig/qingyi/image_chicago/data/images/satellite/zoom15/>:  49%|████▉     | 49050/100000 [16:16<13:10:04,  1.07it/s]"
     ]
    },
    {
     "name": "stdout",
     "output_type": "stream",
     "text": [
      "G: 0.35 | D: 1.19 | GP: 0.51 | PL: 0.01\n"
     ]
    },
    {
     "name": "stderr",
     "output_type": "stream",
     "text": [
      "2211-ctest4</dreambig/qingyi/image_chicago/data/images/satellite/zoom15/>:  49%|████▉     | 49100/100000 [17:03<13:09:30,  1.07it/s]"
     ]
    },
    {
     "name": "stdout",
     "output_type": "stream",
     "text": [
      "G: 2.11 | D: 1.03 | GP: 0.06 | PL: 0.01\n"
     ]
    },
    {
     "name": "stderr",
     "output_type": "stream",
     "text": [
      "2211-ctest4</dreambig/qingyi/image_chicago/data/images/satellite/zoom15/>:  49%|████▉     | 49150/100000 [17:50<13:08:40,  1.07it/s]"
     ]
    },
    {
     "name": "stdout",
     "output_type": "stream",
     "text": [
      "G: 0.59 | D: 0.83 | GP: 0.04 | PL: 0.01\n"
     ]
    },
    {
     "name": "stderr",
     "output_type": "stream",
     "text": [
      "2211-ctest4</dreambig/qingyi/image_chicago/data/images/satellite/zoom15/>:  49%|████▉     | 49200/100000 [18:37<13:08:33,  1.07it/s]"
     ]
    },
    {
     "name": "stdout",
     "output_type": "stream",
     "text": [
      "G: 1.96 | D: 1.11 | GP: 0.12 | PL: 0.01\n"
     ]
    },
    {
     "name": "stderr",
     "output_type": "stream",
     "text": [
      "2211-ctest4</dreambig/qingyi/image_chicago/data/images/satellite/zoom15/>:  49%|████▉     | 49250/100000 [19:25<13:08:25,  1.07it/s]"
     ]
    },
    {
     "name": "stdout",
     "output_type": "stream",
     "text": [
      "G: 0.66 | D: 1.50 | GP: 0.41 | PL: 0.01\n"
     ]
    },
    {
     "name": "stderr",
     "output_type": "stream",
     "text": [
      "2211-ctest4</dreambig/qingyi/image_chicago/data/images/satellite/zoom15/>:  49%|████▉     | 49300/100000 [20:11<13:07:09,  1.07it/s]"
     ]
    },
    {
     "name": "stdout",
     "output_type": "stream",
     "text": [
      "G: 1.55 | D: 1.00 | GP: 0.45 | PL: 0.01\n"
     ]
    },
    {
     "name": "stderr",
     "output_type": "stream",
     "text": [
      "2211-ctest4</dreambig/qingyi/image_chicago/data/images/satellite/zoom15/>:  49%|████▉     | 49350/100000 [20:58<13:07:10,  1.07it/s]"
     ]
    },
    {
     "name": "stdout",
     "output_type": "stream",
     "text": [
      "G: 0.33 | D: 0.76 | GP: 0.44 | PL: 0.01\n"
     ]
    },
    {
     "name": "stderr",
     "output_type": "stream",
     "text": [
      "2211-ctest4</dreambig/qingyi/image_chicago/data/images/satellite/zoom15/>:  49%|████▉     | 49400/100000 [21:44<13:05:59,  1.07it/s]"
     ]
    },
    {
     "name": "stdout",
     "output_type": "stream",
     "text": [
      "G: 1.66 | D: 0.83 | GP: 0.19 | PL: 0.01\n"
     ]
    },
    {
     "name": "stderr",
     "output_type": "stream",
     "text": [
      "2211-ctest4</dreambig/qingyi/image_chicago/data/images/satellite/zoom15/>:  49%|████▉     | 49450/100000 [22:32<13:06:07,  1.07it/s]"
     ]
    },
    {
     "name": "stdout",
     "output_type": "stream",
     "text": [
      "G: 0.74 | D: 0.95 | GP: 0.45 | PL: 0.01\n"
     ]
    },
    {
     "name": "stderr",
     "output_type": "stream",
     "text": [
      "2211-ctest4</dreambig/qingyi/image_chicago/data/images/satellite/zoom15/>:  50%|████▉     | 49500/100000 [23:18<13:04:56,  1.07it/s]"
     ]
    },
    {
     "name": "stdout",
     "output_type": "stream",
     "text": [
      "G: 1.21 | D: 1.09 | GP: 0.74 | PL: 0.01\n"
     ]
    },
    {
     "name": "stderr",
     "output_type": "stream",
     "text": [
      "2211-ctest4</dreambig/qingyi/image_chicago/data/images/satellite/zoom15/>:  50%|████▉     | 49550/100000 [24:07<13:05:01,  1.07it/s]"
     ]
    },
    {
     "name": "stdout",
     "output_type": "stream",
     "text": [
      "G: 0.68 | D: 0.91 | GP: 0.19 | PL: 0.01\n"
     ]
    },
    {
     "name": "stderr",
     "output_type": "stream",
     "text": [
      "2211-ctest4</dreambig/qingyi/image_chicago/data/images/satellite/zoom15/>:  50%|████▉     | 49600/100000 [24:53<13:03:50,  1.07it/s]"
     ]
    },
    {
     "name": "stdout",
     "output_type": "stream",
     "text": [
      "G: 0.70 | D: 0.96 | GP: 0.13 | PL: 0.01\n"
     ]
    },
    {
     "name": "stderr",
     "output_type": "stream",
     "text": [
      "2211-ctest4</dreambig/qingyi/image_chicago/data/images/satellite/zoom15/>:  50%|████▉     | 49650/100000 [25:41<13:03:54,  1.07it/s]"
     ]
    },
    {
     "name": "stdout",
     "output_type": "stream",
     "text": [
      "G: 1.01 | D: 1.33 | GP: 0.13 | PL: 0.01\n"
     ]
    },
    {
     "name": "stderr",
     "output_type": "stream",
     "text": [
      "2211-ctest4</dreambig/qingyi/image_chicago/data/images/satellite/zoom15/>:  50%|████▉     | 49700/100000 [26:27<13:03:00,  1.07it/s]"
     ]
    },
    {
     "name": "stdout",
     "output_type": "stream",
     "text": [
      "G: -0.01 | D: 1.08 | GP: 1.03 | PL: 0.01\n"
     ]
    },
    {
     "name": "stderr",
     "output_type": "stream",
     "text": [
      "2211-ctest4</dreambig/qingyi/image_chicago/data/images/satellite/zoom15/>:  50%|████▉     | 49750/100000 [27:15<13:02:32,  1.07it/s]"
     ]
    },
    {
     "name": "stdout",
     "output_type": "stream",
     "text": [
      "G: -0.41 | D: 0.89 | GP: 0.13 | PL: 0.01\n"
     ]
    },
    {
     "name": "stderr",
     "output_type": "stream",
     "text": [
      "2211-ctest4</dreambig/qingyi/image_chicago/data/images/satellite/zoom15/>:  50%|████▉     | 49800/100000 [28:02<13:01:56,  1.07it/s]"
     ]
    },
    {
     "name": "stdout",
     "output_type": "stream",
     "text": [
      "G: 1.35 | D: 1.11 | GP: 0.35 | PL: 0.01\n"
     ]
    },
    {
     "name": "stderr",
     "output_type": "stream",
     "text": [
      "2211-ctest4</dreambig/qingyi/image_chicago/data/images/satellite/zoom15/>:  50%|████▉     | 49850/100000 [28:49<13:01:35,  1.07it/s]"
     ]
    },
    {
     "name": "stdout",
     "output_type": "stream",
     "text": [
      "G: 0.54 | D: 1.41 | GP: 0.41 | PL: 0.01\n"
     ]
    },
    {
     "name": "stderr",
     "output_type": "stream",
     "text": [
      "2211-ctest4</dreambig/qingyi/image_chicago/data/images/satellite/zoom15/>:  50%|████▉     | 49900/100000 [29:36<13:00:38,  1.07it/s]"
     ]
    },
    {
     "name": "stdout",
     "output_type": "stream",
     "text": [
      "G: 0.84 | D: 0.91 | GP: 0.49 | PL: 0.01\n"
     ]
    },
    {
     "name": "stderr",
     "output_type": "stream",
     "text": [
      "2211-ctest4</dreambig/qingyi/image_chicago/data/images/satellite/zoom15/>:  50%|████▉     | 49950/100000 [30:23<13:00:14,  1.07it/s]"
     ]
    },
    {
     "name": "stdout",
     "output_type": "stream",
     "text": [
      "G: 0.81 | D: 1.80 | GP: 0.15 | PL: 0.01\n"
     ]
    },
    {
     "name": "stderr",
     "output_type": "stream",
     "text": [
      "2211-ctest4</dreambig/qingyi/image_chicago/data/images/satellite/zoom15/>:  50%|█████     | 50000/100000 [31:10<12:59:23,  1.07it/s]"
     ]
    },
    {
     "name": "stdout",
     "output_type": "stream",
     "text": [
      "G: 0.14 | D: 1.25 | GP: 0.30 | PL: 0.01\n"
     ]
    },
    {
     "name": "stderr",
     "output_type": "stream",
     "text": [
      "2211-ctest4</dreambig/qingyi/image_chicago/data/images/satellite/zoom15/>:  50%|█████     | 50050/100000 [32:01<13:00:09,  1.07it/s]"
     ]
    },
    {
     "name": "stdout",
     "output_type": "stream",
     "text": [
      "G: 0.81 | D: 0.89 | GP: 0.15 | PL: 0.01\n"
     ]
    },
    {
     "name": "stderr",
     "output_type": "stream",
     "text": [
      "2211-ctest4</dreambig/qingyi/image_chicago/data/images/satellite/zoom15/>:  50%|█████     | 50100/100000 [32:46<12:58:50,  1.07it/s]"
     ]
    },
    {
     "name": "stdout",
     "output_type": "stream",
     "text": [
      "G: 1.41 | D: 0.89 | GP: 0.91 | PL: 0.01\n"
     ]
    },
    {
     "name": "stderr",
     "output_type": "stream",
     "text": [
      "2211-ctest4</dreambig/qingyi/image_chicago/data/images/satellite/zoom15/>:  50%|█████     | 50150/100000 [33:33<12:58:11,  1.07it/s]"
     ]
    },
    {
     "name": "stdout",
     "output_type": "stream",
     "text": [
      "G: 0.82 | D: 1.63 | GP: 0.05 | PL: 0.01\n"
     ]
    },
    {
     "name": "stderr",
     "output_type": "stream",
     "text": [
      "2211-ctest4</dreambig/qingyi/image_chicago/data/images/satellite/zoom15/>:  50%|█████     | 50200/100000 [34:18<12:56:38,  1.07it/s]"
     ]
    },
    {
     "name": "stdout",
     "output_type": "stream",
     "text": [
      "G: 1.58 | D: 1.31 | GP: 0.30 | PL: 0.01\n"
     ]
    },
    {
     "name": "stderr",
     "output_type": "stream",
     "text": [
      "2211-ctest4</dreambig/qingyi/image_chicago/data/images/satellite/zoom15/>:  50%|█████     | 50250/100000 [35:05<12:55:47,  1.07it/s]"
     ]
    },
    {
     "name": "stdout",
     "output_type": "stream",
     "text": [
      "G: -0.01 | D: 1.00 | GP: 0.48 | PL: 0.01\n"
     ]
    },
    {
     "name": "stderr",
     "output_type": "stream",
     "text": [
      "2211-ctest4</dreambig/qingyi/image_chicago/data/images/satellite/zoom15/>:  50%|█████     | 50300/100000 [35:49<12:54:10,  1.07it/s]"
     ]
    },
    {
     "name": "stdout",
     "output_type": "stream",
     "text": [
      "G: 1.16 | D: 0.98 | GP: 0.20 | PL: 0.01\n"
     ]
    },
    {
     "name": "stderr",
     "output_type": "stream",
     "text": [
      "2211-ctest4</dreambig/qingyi/image_chicago/data/images/satellite/zoom15/>:  50%|█████     | 50350/100000 [36:36<12:53:31,  1.07it/s]"
     ]
    },
    {
     "name": "stdout",
     "output_type": "stream",
     "text": [
      "G: -0.29 | D: 1.81 | GP: 0.66 | PL: 0.01\n"
     ]
    },
    {
     "name": "stderr",
     "output_type": "stream",
     "text": [
      "2211-ctest4</dreambig/qingyi/image_chicago/data/images/satellite/zoom15/>:  50%|█████     | 50400/100000 [37:22<12:52:33,  1.07it/s]"
     ]
    },
    {
     "name": "stdout",
     "output_type": "stream",
     "text": [
      "G: 0.08 | D: 1.42 | GP: 0.51 | PL: 0.01\n"
     ]
    },
    {
     "name": "stderr",
     "output_type": "stream",
     "text": [
      "2211-ctest4</dreambig/qingyi/image_chicago/data/images/satellite/zoom15/>:  50%|█████     | 50450/100000 [38:10<12:51:54,  1.07it/s]"
     ]
    },
    {
     "name": "stdout",
     "output_type": "stream",
     "text": [
      "G: 0.49 | D: 1.18 | GP: 0.95 | PL: 0.01\n"
     ]
    },
    {
     "name": "stderr",
     "output_type": "stream",
     "text": [
      "2211-ctest4</dreambig/qingyi/image_chicago/data/images/satellite/zoom15/>:  50%|█████     | 50500/100000 [38:56<12:51:01,  1.07it/s]"
     ]
    },
    {
     "name": "stdout",
     "output_type": "stream",
     "text": [
      "G: 1.50 | D: 0.99 | GP: 0.21 | PL: 0.01\n"
     ]
    },
    {
     "name": "stderr",
     "output_type": "stream",
     "text": [
      "2211-ctest4</dreambig/qingyi/image_chicago/data/images/satellite/zoom15/>:  51%|█████     | 50550/100000 [39:43<12:50:20,  1.07it/s]"
     ]
    },
    {
     "name": "stdout",
     "output_type": "stream",
     "text": [
      "G: 1.13 | D: 1.03 | GP: 0.33 | PL: 0.01\n"
     ]
    },
    {
     "name": "stderr",
     "output_type": "stream",
     "text": [
      "2211-ctest4</dreambig/qingyi/image_chicago/data/images/satellite/zoom15/>:  51%|█████     | 50600/100000 [40:29<12:49:29,  1.07it/s]"
     ]
    },
    {
     "name": "stdout",
     "output_type": "stream",
     "text": [
      "G: 0.13 | D: 0.95 | GP: 0.78 | PL: 0.01\n"
     ]
    },
    {
     "name": "stderr",
     "output_type": "stream",
     "text": [
      "2211-ctest4</dreambig/qingyi/image_chicago/data/images/satellite/zoom15/>:  51%|█████     | 50650/100000 [41:17<12:48:55,  1.07it/s]"
     ]
    },
    {
     "name": "stdout",
     "output_type": "stream",
     "text": [
      "G: 1.34 | D: 1.17 | GP: 0.47 | PL: 0.01\n"
     ]
    },
    {
     "name": "stderr",
     "output_type": "stream",
     "text": [
      "2211-ctest4</dreambig/qingyi/image_chicago/data/images/satellite/zoom15/>:  51%|█████     | 50700/100000 [42:03<12:47:50,  1.07it/s]"
     ]
    },
    {
     "name": "stdout",
     "output_type": "stream",
     "text": [
      "G: 1.06 | D: 1.10 | GP: 0.32 | PL: 0.01\n"
     ]
    },
    {
     "name": "stderr",
     "output_type": "stream",
     "text": [
      "2211-ctest4</dreambig/qingyi/image_chicago/data/images/satellite/zoom15/>:  51%|█████     | 50750/100000 [42:50<12:47:09,  1.07it/s]"
     ]
    },
    {
     "name": "stdout",
     "output_type": "stream",
     "text": [
      "G: 0.21 | D: 1.38 | GP: 0.40 | PL: 0.01\n"
     ]
    },
    {
     "name": "stderr",
     "output_type": "stream",
     "text": [
      "2211-ctest4</dreambig/qingyi/image_chicago/data/images/satellite/zoom15/>:  51%|█████     | 50800/100000 [43:36<12:46:17,  1.07it/s]"
     ]
    },
    {
     "name": "stdout",
     "output_type": "stream",
     "text": [
      "G: 1.19 | D: 0.83 | GP: 0.05 | PL: 0.01\n"
     ]
    },
    {
     "name": "stderr",
     "output_type": "stream",
     "text": [
      "2211-ctest4</dreambig/qingyi/image_chicago/data/images/satellite/zoom15/>:  51%|█████     | 50850/100000 [44:24<12:45:51,  1.07it/s]"
     ]
    },
    {
     "name": "stdout",
     "output_type": "stream",
     "text": [
      "G: 0.85 | D: 1.06 | GP: 0.09 | PL: 0.01\n"
     ]
    },
    {
     "name": "stderr",
     "output_type": "stream",
     "text": [
      "2211-ctest4</dreambig/qingyi/image_chicago/data/images/satellite/zoom15/>:  51%|█████     | 50900/100000 [45:10<12:44:51,  1.07it/s]"
     ]
    },
    {
     "name": "stdout",
     "output_type": "stream",
     "text": [
      "G: 1.86 | D: 1.14 | GP: 0.12 | PL: 0.01\n"
     ]
    },
    {
     "name": "stderr",
     "output_type": "stream",
     "text": [
      "2211-ctest4</dreambig/qingyi/image_chicago/data/images/satellite/zoom15/>:  51%|█████     | 50950/100000 [45:59<12:44:34,  1.07it/s]"
     ]
    },
    {
     "name": "stdout",
     "output_type": "stream",
     "text": [
      "G: 0.31 | D: 1.12 | GP: 5.00 | PL: 0.01\n"
     ]
    },
    {
     "name": "stderr",
     "output_type": "stream",
     "text": [
      "2211-ctest4</dreambig/qingyi/image_chicago/data/images/satellite/zoom15/>:  51%|█████     | 51000/100000 [46:45<12:43:37,  1.07it/s]"
     ]
    },
    {
     "name": "stdout",
     "output_type": "stream",
     "text": [
      "G: -0.28 | D: 0.90 | GP: 0.28 | PL: 0.01\n"
     ]
    },
    {
     "name": "stderr",
     "output_type": "stream",
     "text": [
      "2211-ctest4</dreambig/qingyi/image_chicago/data/images/satellite/zoom15/>:  51%|█████     | 51050/100000 [47:35<12:43:42,  1.07it/s]"
     ]
    },
    {
     "name": "stdout",
     "output_type": "stream",
     "text": [
      "G: 0.90 | D: 0.97 | GP: 0.70 | PL: 0.01\n"
     ]
    },
    {
     "name": "stderr",
     "output_type": "stream",
     "text": [
      "2211-ctest4</dreambig/qingyi/image_chicago/data/images/satellite/zoom15/>:  51%|█████     | 51100/100000 [48:20<12:42:38,  1.07it/s]"
     ]
    },
    {
     "name": "stdout",
     "output_type": "stream",
     "text": [
      "G: 1.63 | D: 0.75 | GP: 0.37 | PL: 0.01\n"
     ]
    },
    {
     "name": "stderr",
     "output_type": "stream",
     "text": [
      "2211-ctest4</dreambig/qingyi/image_chicago/data/images/satellite/zoom15/>:  51%|█████     | 51150/100000 [49:08<12:42:09,  1.07it/s]"
     ]
    },
    {
     "name": "stdout",
     "output_type": "stream",
     "text": [
      "G: 1.64 | D: 1.10 | GP: 0.21 | PL: 0.01\n"
     ]
    },
    {
     "name": "stderr",
     "output_type": "stream",
     "text": [
      "2211-ctest4</dreambig/qingyi/image_chicago/data/images/satellite/zoom15/>:  51%|█████     | 51200/100000 [49:54<12:41:07,  1.07it/s]"
     ]
    },
    {
     "name": "stdout",
     "output_type": "stream",
     "text": [
      "G: 0.81 | D: 1.92 | GP: 0.12 | PL: 0.01\n"
     ]
    },
    {
     "name": "stderr",
     "output_type": "stream",
     "text": [
      "2211-ctest4</dreambig/qingyi/image_chicago/data/images/satellite/zoom15/>:  51%|█████▏    | 51250/100000 [50:42<12:40:34,  1.07it/s]"
     ]
    },
    {
     "name": "stdout",
     "output_type": "stream",
     "text": [
      "G: -0.28 | D: 0.93 | GP: 0.18 | PL: 0.01\n"
     ]
    },
    {
     "name": "stderr",
     "output_type": "stream",
     "text": [
      "2211-ctest4</dreambig/qingyi/image_chicago/data/images/satellite/zoom15/>:  51%|█████▏    | 51300/100000 [51:28<12:39:44,  1.07it/s]"
     ]
    },
    {
     "name": "stdout",
     "output_type": "stream",
     "text": [
      "G: 0.39 | D: 0.85 | GP: 0.12 | PL: 0.01\n"
     ]
    },
    {
     "name": "stderr",
     "output_type": "stream",
     "text": [
      "2211-ctest4</dreambig/qingyi/image_chicago/data/images/satellite/zoom15/>:  51%|█████▏    | 51350/100000 [52:16<12:39:05,  1.07it/s]"
     ]
    },
    {
     "name": "stdout",
     "output_type": "stream",
     "text": [
      "G: 0.85 | D: 0.88 | GP: 0.70 | PL: 0.01\n"
     ]
    },
    {
     "name": "stderr",
     "output_type": "stream",
     "text": [
      "2211-ctest4</dreambig/qingyi/image_chicago/data/images/satellite/zoom15/>:  51%|█████▏    | 51400/100000 [53:02<12:38:12,  1.07it/s]"
     ]
    },
    {
     "name": "stdout",
     "output_type": "stream",
     "text": [
      "G: 0.65 | D: 0.92 | GP: 0.08 | PL: 0.01\n"
     ]
    },
    {
     "name": "stderr",
     "output_type": "stream",
     "text": [
      "2211-ctest4</dreambig/qingyi/image_chicago/data/images/satellite/zoom15/>:  51%|█████▏    | 51450/100000 [53:49<12:37:29,  1.07it/s]"
     ]
    },
    {
     "name": "stdout",
     "output_type": "stream",
     "text": [
      "G: 1.00 | D: 0.93 | GP: 0.03 | PL: 0.01\n"
     ]
    },
    {
     "name": "stderr",
     "output_type": "stream",
     "text": [
      "2211-ctest4</dreambig/qingyi/image_chicago/data/images/satellite/zoom15/>:  52%|█████▏    | 51500/100000 [54:35<12:36:33,  1.07it/s]"
     ]
    },
    {
     "name": "stdout",
     "output_type": "stream",
     "text": [
      "G: 0.94 | D: 0.99 | GP: 0.31 | PL: 0.01\n"
     ]
    },
    {
     "name": "stderr",
     "output_type": "stream",
     "text": [
      "2211-ctest4</dreambig/qingyi/image_chicago/data/images/satellite/zoom15/>:  52%|█████▏    | 51546/100000 [55:19<12:36:02,  1.07it/s]IOPub message rate exceeded.\n",
      "The notebook server will temporarily stop sending output\n",
      "to the client in order to avoid crashing it.\n",
      "To change this limit, set the config variable\n",
      "`--NotebookApp.iopub_msg_rate_limit`.\n",
      "\n",
      "Current values:\n",
      "NotebookApp.iopub_msg_rate_limit=1000.0 (msgs/sec)\n",
      "NotebookApp.rate_limit_window=3.0 (secs)\n",
      "\n",
      "2211-ctest4</dreambig/qingyi/image_chicago/data/images/satellite/zoom15/>:  63%|██████▎   | 63400/100000 [4:01:31<9:34:01,  1.06it/s]"
     ]
    },
    {
     "name": "stdout",
     "output_type": "stream",
     "text": [
      "G: -1.40 | D: 1.33 | GP: 0.02 | PL: 0.01\n"
     ]
    },
    {
     "name": "stderr",
     "output_type": "stream",
     "text": [
      "2211-ctest4</dreambig/qingyi/image_chicago/data/images/satellite/zoom15/>:  63%|██████▎   | 63450/100000 [4:02:18<9:33:14,  1.06it/s]"
     ]
    },
    {
     "name": "stdout",
     "output_type": "stream",
     "text": [
      "G: 1.45 | D: 0.95 | GP: 0.09 | PL: 0.01\n"
     ]
    },
    {
     "name": "stderr",
     "output_type": "stream",
     "text": [
      "2211-ctest4</dreambig/qingyi/image_chicago/data/images/satellite/zoom15/>:  64%|██████▎   | 63500/100000 [4:03:05<9:32:27,  1.06it/s]"
     ]
    },
    {
     "name": "stdout",
     "output_type": "stream",
     "text": [
      "G: 1.22 | D: 0.82 | GP: 1.00 | PL: 0.01\n"
     ]
    },
    {
     "name": "stderr",
     "output_type": "stream",
     "text": [
      "2211-ctest4</dreambig/qingyi/image_chicago/data/images/satellite/zoom15/>:  64%|██████▎   | 63550/100000 [4:03:53<9:31:40,  1.06it/s]"
     ]
    },
    {
     "name": "stdout",
     "output_type": "stream",
     "text": [
      "G: 1.51 | D: 0.83 | GP: 0.15 | PL: 0.01\n"
     ]
    },
    {
     "name": "stderr",
     "output_type": "stream",
     "text": [
      "2211-ctest4</dreambig/qingyi/image_chicago/data/images/satellite/zoom15/>:  64%|██████▎   | 63600/100000 [4:04:39<9:30:52,  1.06it/s]"
     ]
    },
    {
     "name": "stdout",
     "output_type": "stream",
     "text": [
      "G: 0.57 | D: 0.77 | GP: 0.22 | PL: 0.01\n"
     ]
    },
    {
     "name": "stderr",
     "output_type": "stream",
     "text": [
      "2211-ctest4</dreambig/qingyi/image_chicago/data/images/satellite/zoom15/>:  64%|██████▎   | 63650/100000 [4:05:27<9:30:07,  1.06it/s]"
     ]
    },
    {
     "name": "stdout",
     "output_type": "stream",
     "text": [
      "G: 0.58 | D: 1.34 | GP: 3.19 | PL: 0.01\n"
     ]
    },
    {
     "name": "stderr",
     "output_type": "stream",
     "text": [
      "2211-ctest4</dreambig/qingyi/image_chicago/data/images/satellite/zoom15/>:  64%|██████▎   | 63700/100000 [4:06:13<9:29:17,  1.06it/s]"
     ]
    },
    {
     "name": "stdout",
     "output_type": "stream",
     "text": [
      "G: 0.28 | D: 1.06 | GP: 0.26 | PL: 0.01\n"
     ]
    },
    {
     "name": "stderr",
     "output_type": "stream",
     "text": [
      "2211-ctest4</dreambig/qingyi/image_chicago/data/images/satellite/zoom15/>:  64%|██████▍   | 63750/100000 [4:07:01<9:28:32,  1.06it/s]"
     ]
    },
    {
     "name": "stdout",
     "output_type": "stream",
     "text": [
      "G: 1.11 | D: 1.22 | GP: 0.04 | PL: 0.01\n"
     ]
    },
    {
     "name": "stderr",
     "output_type": "stream",
     "text": [
      "2211-ctest4</dreambig/qingyi/image_chicago/data/images/satellite/zoom15/>:  64%|██████▍   | 63800/100000 [4:07:47<9:27:42,  1.06it/s]"
     ]
    },
    {
     "name": "stdout",
     "output_type": "stream",
     "text": [
      "G: 0.85 | D: 0.89 | GP: 0.37 | PL: 0.01\n"
     ]
    },
    {
     "name": "stderr",
     "output_type": "stream",
     "text": [
      "2211-ctest4</dreambig/qingyi/image_chicago/data/images/satellite/zoom15/>:  64%|██████▍   | 63850/100000 [4:08:34<9:26:57,  1.06it/s]"
     ]
    },
    {
     "name": "stdout",
     "output_type": "stream",
     "text": [
      "G: 1.17 | D: 1.00 | GP: 0.38 | PL: 0.01\n"
     ]
    },
    {
     "name": "stderr",
     "output_type": "stream",
     "text": [
      "2211-ctest4</dreambig/qingyi/image_chicago/data/images/satellite/zoom15/>:  64%|██████▍   | 63900/100000 [4:09:21<9:26:08,  1.06it/s]"
     ]
    },
    {
     "name": "stdout",
     "output_type": "stream",
     "text": [
      "G: 0.93 | D: 0.75 | GP: 0.16 | PL: 0.01\n"
     ]
    },
    {
     "name": "stderr",
     "output_type": "stream",
     "text": [
      "2211-ctest4</dreambig/qingyi/image_chicago/data/images/satellite/zoom15/>:  64%|██████▍   | 63950/100000 [4:10:10<9:25:25,  1.06it/s]"
     ]
    },
    {
     "name": "stdout",
     "output_type": "stream",
     "text": [
      "G: 1.14 | D: 1.25 | GP: 0.22 | PL: 0.01\n"
     ]
    },
    {
     "name": "stderr",
     "output_type": "stream",
     "text": [
      "2211-ctest4</dreambig/qingyi/image_chicago/data/images/satellite/zoom15/>:  64%|██████▍   | 64000/100000 [4:10:56<9:24:36,  1.06it/s]"
     ]
    },
    {
     "name": "stdout",
     "output_type": "stream",
     "text": [
      "G: 3.30 | D: 0.69 | GP: 0.12 | PL: 0.01\n"
     ]
    },
    {
     "name": "stderr",
     "output_type": "stream",
     "text": [
      "2211-ctest4</dreambig/qingyi/image_chicago/data/images/satellite/zoom15/>:  64%|██████▍   | 64050/100000 [4:11:47<9:23:58,  1.06it/s]"
     ]
    },
    {
     "name": "stdout",
     "output_type": "stream",
     "text": [
      "G: -0.15 | D: 0.86 | GP: 0.20 | PL: 0.01\n"
     ]
    },
    {
     "name": "stderr",
     "output_type": "stream",
     "text": [
      "2211-ctest4</dreambig/qingyi/image_chicago/data/images/satellite/zoom15/>:  64%|██████▍   | 64100/100000 [4:12:34<9:23:10,  1.06it/s]"
     ]
    },
    {
     "name": "stdout",
     "output_type": "stream",
     "text": [
      "G: 0.55 | D: 1.11 | GP: 1.21 | PL: 0.01\n"
     ]
    },
    {
     "name": "stderr",
     "output_type": "stream",
     "text": [
      "2211-ctest4</dreambig/qingyi/image_chicago/data/images/satellite/zoom15/>:  64%|██████▍   | 64150/100000 [4:13:21<9:22:24,  1.06it/s]"
     ]
    },
    {
     "name": "stdout",
     "output_type": "stream",
     "text": [
      "G: 0.65 | D: 1.03 | GP: 0.94 | PL: 0.01\n"
     ]
    },
    {
     "name": "stderr",
     "output_type": "stream",
     "text": [
      "2211-ctest4</dreambig/qingyi/image_chicago/data/images/satellite/zoom15/>:  64%|██████▍   | 64200/100000 [4:14:07<9:21:35,  1.06it/s]"
     ]
    },
    {
     "name": "stdout",
     "output_type": "stream",
     "text": [
      "G: 0.48 | D: 0.78 | GP: 0.12 | PL: 0.01\n"
     ]
    },
    {
     "name": "stderr",
     "output_type": "stream",
     "text": [
      "2211-ctest4</dreambig/qingyi/image_chicago/data/images/satellite/zoom15/>:  64%|██████▍   | 64250/100000 [4:14:55<9:20:49,  1.06it/s]"
     ]
    },
    {
     "name": "stdout",
     "output_type": "stream",
     "text": [
      "G: 0.73 | D: 2.22 | GP: 3.54 | PL: 0.01\n"
     ]
    },
    {
     "name": "stderr",
     "output_type": "stream",
     "text": [
      "2211-ctest4</dreambig/qingyi/image_chicago/data/images/satellite/zoom15/>:  64%|██████▍   | 64300/100000 [4:15:42<9:20:02,  1.06it/s]"
     ]
    },
    {
     "name": "stdout",
     "output_type": "stream",
     "text": [
      "G: 0.77 | D: 0.96 | GP: 0.16 | PL: 0.01\n"
     ]
    },
    {
     "name": "stderr",
     "output_type": "stream",
     "text": [
      "2211-ctest4</dreambig/qingyi/image_chicago/data/images/satellite/zoom15/>:  64%|██████▍   | 64350/100000 [4:16:29<9:19:15,  1.06it/s]"
     ]
    },
    {
     "name": "stdout",
     "output_type": "stream",
     "text": [
      "G: 0.61 | D: 0.98 | GP: 0.13 | PL: 0.01\n"
     ]
    },
    {
     "name": "stderr",
     "output_type": "stream",
     "text": [
      "2211-ctest4</dreambig/qingyi/image_chicago/data/images/satellite/zoom15/>:  64%|██████▍   | 64400/100000 [4:17:15<9:18:26,  1.06it/s]"
     ]
    },
    {
     "name": "stdout",
     "output_type": "stream",
     "text": [
      "G: 0.35 | D: 1.22 | GP: 0.15 | PL: 0.01\n"
     ]
    },
    {
     "name": "stderr",
     "output_type": "stream",
     "text": [
      "2211-ctest4</dreambig/qingyi/image_chicago/data/images/satellite/zoom15/>:  64%|██████▍   | 64450/100000 [4:18:03<9:17:41,  1.06it/s]"
     ]
    },
    {
     "name": "stdout",
     "output_type": "stream",
     "text": [
      "G: 0.68 | D: 1.43 | GP: 0.08 | PL: 0.01\n"
     ]
    },
    {
     "name": "stderr",
     "output_type": "stream",
     "text": [
      "2211-ctest4</dreambig/qingyi/image_chicago/data/images/satellite/zoom15/>:  64%|██████▍   | 64500/100000 [4:18:50<9:16:53,  1.06it/s]"
     ]
    },
    {
     "name": "stdout",
     "output_type": "stream",
     "text": [
      "G: -0.70 | D: 1.42 | GP: 0.11 | PL: 0.01\n"
     ]
    },
    {
     "name": "stderr",
     "output_type": "stream",
     "text": [
      "2211-ctest4</dreambig/qingyi/image_chicago/data/images/satellite/zoom15/>:  65%|██████▍   | 64550/100000 [4:19:38<9:16:09,  1.06it/s]"
     ]
    },
    {
     "name": "stdout",
     "output_type": "stream",
     "text": [
      "G: 0.38 | D: 1.04 | GP: 0.20 | PL: 0.01\n"
     ]
    },
    {
     "name": "stderr",
     "output_type": "stream",
     "text": [
      "2211-ctest4</dreambig/qingyi/image_chicago/data/images/satellite/zoom15/>:  65%|██████▍   | 64600/100000 [4:20:24<9:15:19,  1.06it/s]"
     ]
    },
    {
     "name": "stdout",
     "output_type": "stream",
     "text": [
      "G: 1.34 | D: 0.79 | GP: 0.09 | PL: 0.01\n"
     ]
    },
    {
     "name": "stderr",
     "output_type": "stream",
     "text": [
      "2211-ctest4</dreambig/qingyi/image_chicago/data/images/satellite/zoom15/>:  65%|██████▍   | 64650/100000 [4:21:12<9:14:34,  1.06it/s]"
     ]
    },
    {
     "name": "stdout",
     "output_type": "stream",
     "text": [
      "G: 0.80 | D: 0.97 | GP: 0.60 | PL: 0.01\n"
     ]
    },
    {
     "name": "stderr",
     "output_type": "stream",
     "text": [
      "2211-ctest4</dreambig/qingyi/image_chicago/data/images/satellite/zoom15/>:  65%|██████▍   | 64700/100000 [4:21:58<9:13:44,  1.06it/s]"
     ]
    },
    {
     "name": "stdout",
     "output_type": "stream",
     "text": [
      "G: 1.30 | D: 1.30 | GP: 0.25 | PL: 0.01\n"
     ]
    },
    {
     "name": "stderr",
     "output_type": "stream",
     "text": [
      "2211-ctest4</dreambig/qingyi/image_chicago/data/images/satellite/zoom15/>:  65%|██████▍   | 64750/100000 [4:22:46<9:12:59,  1.06it/s]"
     ]
    },
    {
     "name": "stdout",
     "output_type": "stream",
     "text": [
      "G: -1.13 | D: 1.00 | GP: 0.19 | PL: 0.01\n"
     ]
    },
    {
     "name": "stderr",
     "output_type": "stream",
     "text": [
      "2211-ctest4</dreambig/qingyi/image_chicago/data/images/satellite/zoom15/>:  65%|██████▍   | 64800/100000 [4:23:32<9:12:10,  1.06it/s]"
     ]
    },
    {
     "name": "stdout",
     "output_type": "stream",
     "text": [
      "G: 0.23 | D: 1.02 | GP: 0.37 | PL: 0.01\n"
     ]
    },
    {
     "name": "stderr",
     "output_type": "stream",
     "text": [
      "2211-ctest4</dreambig/qingyi/image_chicago/data/images/satellite/zoom15/>:  65%|██████▍   | 64850/100000 [4:24:19<9:11:24,  1.06it/s]"
     ]
    },
    {
     "name": "stdout",
     "output_type": "stream",
     "text": [
      "G: 0.67 | D: 0.95 | GP: 0.09 | PL: 0.01\n"
     ]
    },
    {
     "name": "stderr",
     "output_type": "stream",
     "text": [
      "2211-ctest4</dreambig/qingyi/image_chicago/data/images/satellite/zoom15/>:  65%|██████▍   | 64900/100000 [4:25:06<9:10:35,  1.06it/s]"
     ]
    },
    {
     "name": "stdout",
     "output_type": "stream",
     "text": [
      "G: 2.03 | D: 0.92 | GP: 0.05 | PL: 0.01\n"
     ]
    },
    {
     "name": "stderr",
     "output_type": "stream",
     "text": [
      "2211-ctest4</dreambig/qingyi/image_chicago/data/images/satellite/zoom15/>:  65%|██████▍   | 64950/100000 [4:25:53<9:09:49,  1.06it/s]"
     ]
    },
    {
     "name": "stdout",
     "output_type": "stream",
     "text": [
      "G: 0.71 | D: 1.06 | GP: 1.00 | PL: 0.01\n"
     ]
    },
    {
     "name": "stderr",
     "output_type": "stream",
     "text": [
      "2211-ctest4</dreambig/qingyi/image_chicago/data/images/satellite/zoom15/>:  65%|██████▌   | 65000/100000 [4:26:40<9:09:01,  1.06it/s]"
     ]
    },
    {
     "name": "stdout",
     "output_type": "stream",
     "text": [
      "G: 1.70 | D: 0.64 | GP: 0.10 | PL: 0.01\n"
     ]
    },
    {
     "name": "stderr",
     "output_type": "stream",
     "text": [
      "2211-ctest4</dreambig/qingyi/image_chicago/data/images/satellite/zoom15/>:  65%|██████▌   | 65050/100000 [4:27:29<9:08:19,  1.06it/s]"
     ]
    },
    {
     "name": "stdout",
     "output_type": "stream",
     "text": [
      "G: 0.92 | D: 1.40 | GP: 0.22 | PL: 0.01\n"
     ]
    },
    {
     "name": "stderr",
     "output_type": "stream",
     "text": [
      "2211-ctest4</dreambig/qingyi/image_chicago/data/images/satellite/zoom15/>:  65%|██████▌   | 65100/100000 [4:28:17<9:07:33,  1.06it/s]"
     ]
    },
    {
     "name": "stdout",
     "output_type": "stream",
     "text": [
      "G: 1.36 | D: 0.85 | GP: 0.44 | PL: 0.01\n"
     ]
    },
    {
     "name": "stderr",
     "output_type": "stream",
     "text": [
      "2211-ctest4</dreambig/qingyi/image_chicago/data/images/satellite/zoom15/>:  65%|██████▌   | 65150/100000 [4:29:04<9:06:47,  1.06it/s]"
     ]
    },
    {
     "name": "stdout",
     "output_type": "stream",
     "text": [
      "G: 0.84 | D: 0.85 | GP: 0.03 | PL: 0.01\n"
     ]
    },
    {
     "name": "stderr",
     "output_type": "stream",
     "text": [
      "2211-ctest4</dreambig/qingyi/image_chicago/data/images/satellite/zoom15/>:  65%|██████▌   | 65200/100000 [4:29:51<9:05:59,  1.06it/s]"
     ]
    },
    {
     "name": "stdout",
     "output_type": "stream",
     "text": [
      "G: 1.07 | D: 0.73 | GP: 1.13 | PL: 0.01\n"
     ]
    },
    {
     "name": "stderr",
     "output_type": "stream",
     "text": [
      "2211-ctest4</dreambig/qingyi/image_chicago/data/images/satellite/zoom15/>:  65%|██████▌   | 65250/100000 [4:30:39<9:05:13,  1.06it/s]"
     ]
    },
    {
     "name": "stdout",
     "output_type": "stream",
     "text": [
      "G: 0.65 | D: 1.21 | GP: 0.24 | PL: 0.01\n"
     ]
    },
    {
     "name": "stderr",
     "output_type": "stream",
     "text": [
      "2211-ctest4</dreambig/qingyi/image_chicago/data/images/satellite/zoom15/>:  65%|██████▌   | 65300/100000 [4:31:25<9:04:24,  1.06it/s]"
     ]
    },
    {
     "name": "stdout",
     "output_type": "stream",
     "text": [
      "G: 1.79 | D: 1.57 | GP: 0.04 | PL: 0.01\n"
     ]
    },
    {
     "name": "stderr",
     "output_type": "stream",
     "text": [
      "2211-ctest4</dreambig/qingyi/image_chicago/data/images/satellite/zoom15/>:  65%|██████▌   | 65350/100000 [4:32:12<9:03:38,  1.06it/s]"
     ]
    },
    {
     "name": "stdout",
     "output_type": "stream",
     "text": [
      "G: -0.05 | D: 1.61 | GP: 1.12 | PL: 0.01\n"
     ]
    },
    {
     "name": "stderr",
     "output_type": "stream",
     "text": [
      "2211-ctest4</dreambig/qingyi/image_chicago/data/images/satellite/zoom15/>:  65%|██████▌   | 65400/100000 [4:32:59<9:02:49,  1.06it/s]"
     ]
    },
    {
     "name": "stdout",
     "output_type": "stream",
     "text": [
      "G: 0.23 | D: 1.05 | GP: 1.46 | PL: 0.01\n"
     ]
    },
    {
     "name": "stderr",
     "output_type": "stream",
     "text": [
      "2211-ctest4</dreambig/qingyi/image_chicago/data/images/satellite/zoom15/>:  65%|██████▌   | 65450/100000 [4:33:46<9:02:04,  1.06it/s]"
     ]
    },
    {
     "name": "stdout",
     "output_type": "stream",
     "text": [
      "G: -0.06 | D: 0.95 | GP: 0.11 | PL: 0.01\n"
     ]
    },
    {
     "name": "stderr",
     "output_type": "stream",
     "text": [
      "2211-ctest4</dreambig/qingyi/image_chicago/data/images/satellite/zoom15/>:  66%|██████▌   | 65500/100000 [4:34:32<9:01:15,  1.06it/s]"
     ]
    },
    {
     "name": "stdout",
     "output_type": "stream",
     "text": [
      "G: 1.31 | D: 0.90 | GP: 0.13 | PL: 0.01\n"
     ]
    },
    {
     "name": "stderr",
     "output_type": "stream",
     "text": [
      "2211-ctest4</dreambig/qingyi/image_chicago/data/images/satellite/zoom15/>:  66%|██████▌   | 65550/100000 [4:35:20<9:00:29,  1.06it/s]"
     ]
    },
    {
     "name": "stdout",
     "output_type": "stream",
     "text": [
      "G: 0.15 | D: 1.04 | GP: 0.10 | PL: 0.01\n"
     ]
    },
    {
     "name": "stderr",
     "output_type": "stream",
     "text": [
      "2211-ctest4</dreambig/qingyi/image_chicago/data/images/satellite/zoom15/>:  66%|██████▌   | 65600/100000 [4:36:07<8:59:41,  1.06it/s]"
     ]
    },
    {
     "name": "stdout",
     "output_type": "stream",
     "text": [
      "G: 0.68 | D: 1.18 | GP: 0.04 | PL: 0.01\n"
     ]
    },
    {
     "name": "stderr",
     "output_type": "stream",
     "text": [
      "2211-ctest4</dreambig/qingyi/image_chicago/data/images/satellite/zoom15/>:  66%|██████▌   | 65650/100000 [4:36:55<8:58:55,  1.06it/s]"
     ]
    },
    {
     "name": "stdout",
     "output_type": "stream",
     "text": [
      "G: 0.92 | D: 1.11 | GP: 0.03 | PL: 0.01\n"
     ]
    },
    {
     "name": "stderr",
     "output_type": "stream",
     "text": [
      "2211-ctest4</dreambig/qingyi/image_chicago/data/images/satellite/zoom15/>:  66%|██████▌   | 65700/100000 [4:37:42<8:58:10,  1.06it/s]"
     ]
    },
    {
     "name": "stdout",
     "output_type": "stream",
     "text": [
      "G: 1.44 | D: 0.77 | GP: 0.21 | PL: 0.01\n"
     ]
    },
    {
     "name": "stderr",
     "output_type": "stream",
     "text": [
      "2211-ctest4</dreambig/qingyi/image_chicago/data/images/satellite/zoom15/>:  66%|██████▌   | 65750/100000 [4:38:30<8:57:23,  1.06it/s]"
     ]
    },
    {
     "name": "stdout",
     "output_type": "stream",
     "text": [
      "G: 0.83 | D: 0.97 | GP: 0.49 | PL: 0.01\n"
     ]
    },
    {
     "name": "stderr",
     "output_type": "stream",
     "text": [
      "2211-ctest4</dreambig/qingyi/image_chicago/data/images/satellite/zoom15/>:  66%|██████▌   | 65800/100000 [4:39:16<8:56:35,  1.06it/s]"
     ]
    },
    {
     "name": "stdout",
     "output_type": "stream",
     "text": [
      "G: 1.01 | D: 0.97 | GP: 0.22 | PL: 0.01\n"
     ]
    },
    {
     "name": "stderr",
     "output_type": "stream",
     "text": [
      "2211-ctest4</dreambig/qingyi/image_chicago/data/images/satellite/zoom15/>:  66%|██████▌   | 65850/100000 [4:40:03<8:55:48,  1.06it/s]"
     ]
    },
    {
     "name": "stdout",
     "output_type": "stream",
     "text": [
      "G: -0.03 | D: 1.13 | GP: 0.07 | PL: 0.01\n"
     ]
    },
    {
     "name": "stderr",
     "output_type": "stream",
     "text": [
      "2211-ctest4</dreambig/qingyi/image_chicago/data/images/satellite/zoom15/>:  66%|██████▌   | 65900/100000 [4:40:51<8:55:01,  1.06it/s]"
     ]
    },
    {
     "name": "stdout",
     "output_type": "stream",
     "text": [
      "G: 0.83 | D: 0.78 | GP: 0.36 | PL: 0.01\n"
     ]
    },
    {
     "name": "stderr",
     "output_type": "stream",
     "text": [
      "2211-ctest4</dreambig/qingyi/image_chicago/data/images/satellite/zoom15/>:  66%|██████▌   | 65950/100000 [4:41:38<8:54:14,  1.06it/s]"
     ]
    },
    {
     "name": "stdout",
     "output_type": "stream",
     "text": [
      "G: 1.17 | D: 0.86 | GP: 0.15 | PL: 0.01\n"
     ]
    },
    {
     "name": "stderr",
     "output_type": "stream",
     "text": [
      "2211-ctest4</dreambig/qingyi/image_chicago/data/images/satellite/zoom15/>:  66%|██████▌   | 66000/100000 [4:42:24<8:53:26,  1.06it/s]"
     ]
    },
    {
     "name": "stdout",
     "output_type": "stream",
     "text": [
      "G: 0.26 | D: 1.01 | GP: 0.91 | PL: 0.01\n"
     ]
    },
    {
     "name": "stderr",
     "output_type": "stream",
     "text": [
      "2211-ctest4</dreambig/qingyi/image_chicago/data/images/satellite/zoom15/>:  66%|██████▌   | 66050/100000 [4:43:14<8:52:45,  1.06it/s]"
     ]
    },
    {
     "name": "stdout",
     "output_type": "stream",
     "text": [
      "G: 0.91 | D: 1.18 | GP: 0.10 | PL: 0.01\n"
     ]
    },
    {
     "name": "stderr",
     "output_type": "stream",
     "text": [
      "2211-ctest4</dreambig/qingyi/image_chicago/data/images/satellite/zoom15/>:  66%|██████▌   | 66100/100000 [4:44:00<8:51:54,  1.06it/s]"
     ]
    },
    {
     "name": "stdout",
     "output_type": "stream",
     "text": [
      "G: -0.47 | D: 1.06 | GP: 0.03 | PL: 0.01\n"
     ]
    },
    {
     "name": "stderr",
     "output_type": "stream",
     "text": [
      "2211-ctest4</dreambig/qingyi/image_chicago/data/images/satellite/zoom15/>:  66%|██████▌   | 66150/100000 [4:44:48<8:51:09,  1.06it/s]"
     ]
    },
    {
     "name": "stdout",
     "output_type": "stream",
     "text": [
      "G: 1.69 | D: 0.81 | GP: 0.03 | PL: 0.01\n"
     ]
    },
    {
     "name": "stderr",
     "output_type": "stream",
     "text": [
      "2211-ctest4</dreambig/qingyi/image_chicago/data/images/satellite/zoom15/>:  66%|██████▌   | 66200/100000 [4:45:34<8:50:20,  1.06it/s]"
     ]
    },
    {
     "name": "stdout",
     "output_type": "stream",
     "text": [
      "G: 1.46 | D: 1.30 | GP: 0.39 | PL: 0.01\n"
     ]
    },
    {
     "name": "stderr",
     "output_type": "stream",
     "text": [
      "2211-ctest4</dreambig/qingyi/image_chicago/data/images/satellite/zoom15/>:  66%|██████▋   | 66250/100000 [4:46:21<8:49:34,  1.06it/s]"
     ]
    },
    {
     "name": "stdout",
     "output_type": "stream",
     "text": [
      "G: 0.78 | D: 0.90 | GP: 0.11 | PL: 0.01\n"
     ]
    },
    {
     "name": "stderr",
     "output_type": "stream",
     "text": [
      "2211-ctest4</dreambig/qingyi/image_chicago/data/images/satellite/zoom15/>:  66%|██████▋   | 66300/100000 [4:47:08<8:48:47,  1.06it/s]"
     ]
    },
    {
     "name": "stdout",
     "output_type": "stream",
     "text": [
      "G: 1.65 | D: 0.96 | GP: 0.59 | PL: 0.01\n"
     ]
    },
    {
     "name": "stderr",
     "output_type": "stream",
     "text": [
      "2211-ctest4</dreambig/qingyi/image_chicago/data/images/satellite/zoom15/>:  66%|██████▋   | 66305/100000 [4:47:15<8:48:45,  1.06it/s]IOPub message rate exceeded.\n",
      "The notebook server will temporarily stop sending output\n",
      "to the client in order to avoid crashing it.\n",
      "To change this limit, set the config variable\n",
      "`--NotebookApp.iopub_msg_rate_limit`.\n",
      "\n",
      "Current values:\n",
      "NotebookApp.iopub_msg_rate_limit=1000.0 (msgs/sec)\n",
      "NotebookApp.rate_limit_window=3.0 (secs)\n",
      "\n",
      "2211-ctest4</dreambig/qingyi/image_chicago/data/images/satellite/zoom15/>:  80%|███████▉  | 79500/100000 [8:14:57<5:22:07,  1.06it/s]"
     ]
    },
    {
     "name": "stdout",
     "output_type": "stream",
     "text": [
      "G: 1.00 | D: 1.33 | GP: 0.03 | PL: 0.01\n"
     ]
    },
    {
     "name": "stderr",
     "output_type": "stream",
     "text": [
      "2211-ctest4</dreambig/qingyi/image_chicago/data/images/satellite/zoom15/>:  80%|███████▉  | 79550/100000 [8:15:44<5:21:20,  1.06it/s]"
     ]
    },
    {
     "name": "stdout",
     "output_type": "stream",
     "text": [
      "G: 1.02 | D: 1.05 | GP: 0.79 | PL: 0.01\n"
     ]
    },
    {
     "name": "stderr",
     "output_type": "stream",
     "text": [
      "2211-ctest4</dreambig/qingyi/image_chicago/data/images/satellite/zoom15/>:  80%|███████▉  | 79600/100000 [8:16:31<5:20:32,  1.06it/s]"
     ]
    },
    {
     "name": "stdout",
     "output_type": "stream",
     "text": [
      "G: 0.71 | D: 1.10 | GP: 0.64 | PL: 0.01\n"
     ]
    },
    {
     "name": "stderr",
     "output_type": "stream",
     "text": [
      "2211-ctest4</dreambig/qingyi/image_chicago/data/images/satellite/zoom15/>:  80%|███████▉  | 79650/100000 [8:17:18<5:19:45,  1.06it/s]"
     ]
    },
    {
     "name": "stdout",
     "output_type": "stream",
     "text": [
      "G: 0.63 | D: 0.70 | GP: 0.14 | PL: 0.01\n"
     ]
    },
    {
     "name": "stderr",
     "output_type": "stream",
     "text": [
      "2211-ctest4</dreambig/qingyi/image_chicago/data/images/satellite/zoom15/>:  80%|███████▉  | 79700/100000 [8:18:04<5:18:57,  1.06it/s]"
     ]
    },
    {
     "name": "stdout",
     "output_type": "stream",
     "text": [
      "G: 0.99 | D: 0.96 | GP: 0.12 | PL: 0.01\n"
     ]
    },
    {
     "name": "stderr",
     "output_type": "stream",
     "text": [
      "2211-ctest4</dreambig/qingyi/image_chicago/data/images/satellite/zoom15/>:  80%|███████▉  | 79750/100000 [8:18:51<5:18:10,  1.06it/s]"
     ]
    },
    {
     "name": "stdout",
     "output_type": "stream",
     "text": [
      "G: 0.87 | D: 1.38 | GP: 0.05 | PL: 0.01\n"
     ]
    },
    {
     "name": "stderr",
     "output_type": "stream",
     "text": [
      "2211-ctest4</dreambig/qingyi/image_chicago/data/images/satellite/zoom15/>:  80%|███████▉  | 79800/100000 [8:19:37<5:17:22,  1.06it/s]"
     ]
    },
    {
     "name": "stdout",
     "output_type": "stream",
     "text": [
      "G: 0.75 | D: 0.84 | GP: 0.40 | PL: 0.01\n"
     ]
    },
    {
     "name": "stderr",
     "output_type": "stream",
     "text": [
      "2211-ctest4</dreambig/qingyi/image_chicago/data/images/satellite/zoom15/>:  80%|███████▉  | 79850/100000 [8:20:27<5:16:36,  1.06it/s]"
     ]
    },
    {
     "name": "stdout",
     "output_type": "stream",
     "text": [
      "G: 1.06 | D: 1.16 | GP: 1.27 | PL: 0.01\n"
     ]
    },
    {
     "name": "stderr",
     "output_type": "stream",
     "text": [
      "2211-ctest4</dreambig/qingyi/image_chicago/data/images/satellite/zoom15/>:  80%|███████▉  | 79900/100000 [8:21:13<5:15:49,  1.06it/s]"
     ]
    },
    {
     "name": "stdout",
     "output_type": "stream",
     "text": [
      "G: 0.41 | D: 0.94 | GP: 0.48 | PL: 0.01\n"
     ]
    },
    {
     "name": "stderr",
     "output_type": "stream",
     "text": [
      "2211-ctest4</dreambig/qingyi/image_chicago/data/images/satellite/zoom15/>:  80%|███████▉  | 79950/100000 [8:22:01<5:15:02,  1.06it/s]"
     ]
    },
    {
     "name": "stdout",
     "output_type": "stream",
     "text": [
      "G: 1.24 | D: 0.84 | GP: 0.17 | PL: 0.01\n"
     ]
    },
    {
     "name": "stderr",
     "output_type": "stream",
     "text": [
      "2211-ctest4</dreambig/qingyi/image_chicago/data/images/satellite/zoom15/>:  80%|████████  | 80000/100000 [8:22:47<5:14:14,  1.06it/s]"
     ]
    },
    {
     "name": "stdout",
     "output_type": "stream",
     "text": [
      "G: 1.24 | D: 0.88 | GP: 0.23 | PL: 0.01\n"
     ]
    },
    {
     "name": "stderr",
     "output_type": "stream",
     "text": [
      "2211-ctest4</dreambig/qingyi/image_chicago/data/images/satellite/zoom15/>:  80%|████████  | 80050/100000 [8:23:38<5:13:29,  1.06it/s]"
     ]
    },
    {
     "name": "stdout",
     "output_type": "stream",
     "text": [
      "G: 0.65 | D: 0.79 | GP: 0.12 | PL: 0.01\n"
     ]
    },
    {
     "name": "stderr",
     "output_type": "stream",
     "text": [
      "2211-ctest4</dreambig/qingyi/image_chicago/data/images/satellite/zoom15/>:  80%|████████  | 80100/100000 [8:24:24<5:12:42,  1.06it/s]"
     ]
    },
    {
     "name": "stdout",
     "output_type": "stream",
     "text": [
      "G: 0.01 | D: 1.02 | GP: 0.82 | PL: 0.01\n"
     ]
    },
    {
     "name": "stderr",
     "output_type": "stream",
     "text": [
      "2211-ctest4</dreambig/qingyi/image_chicago/data/images/satellite/zoom15/>:  80%|████████  | 80150/100000 [8:25:12<5:11:55,  1.06it/s]"
     ]
    },
    {
     "name": "stdout",
     "output_type": "stream",
     "text": [
      "G: 0.85 | D: 0.92 | GP: 0.13 | PL: 0.01\n"
     ]
    },
    {
     "name": "stderr",
     "output_type": "stream",
     "text": [
      "2211-ctest4</dreambig/qingyi/image_chicago/data/images/satellite/zoom15/>:  80%|████████  | 80200/100000 [8:25:59<5:11:07,  1.06it/s]"
     ]
    },
    {
     "name": "stdout",
     "output_type": "stream",
     "text": [
      "G: 2.04 | D: 1.00 | GP: 1.12 | PL: 0.01\n"
     ]
    },
    {
     "name": "stderr",
     "output_type": "stream",
     "text": [
      "2211-ctest4</dreambig/qingyi/image_chicago/data/images/satellite/zoom15/>:  80%|████████  | 80250/100000 [8:26:46<5:10:20,  1.06it/s]"
     ]
    },
    {
     "name": "stdout",
     "output_type": "stream",
     "text": [
      "G: 1.00 | D: 0.62 | GP: 0.15 | PL: 0.01\n"
     ]
    },
    {
     "name": "stderr",
     "output_type": "stream",
     "text": [
      "2211-ctest4</dreambig/qingyi/image_chicago/data/images/satellite/zoom15/>:  80%|████████  | 80300/100000 [8:27:32<5:09:33,  1.06it/s]"
     ]
    },
    {
     "name": "stdout",
     "output_type": "stream",
     "text": [
      "G: 1.33 | D: 0.90 | GP: 0.27 | PL: 0.01\n"
     ]
    },
    {
     "name": "stderr",
     "output_type": "stream",
     "text": [
      "2211-ctest4</dreambig/qingyi/image_chicago/data/images/satellite/zoom15/>:  80%|████████  | 80350/100000 [8:28:20<5:08:46,  1.06it/s]"
     ]
    },
    {
     "name": "stdout",
     "output_type": "stream",
     "text": [
      "G: 0.07 | D: 1.45 | GP: 0.10 | PL: 0.01\n"
     ]
    },
    {
     "name": "stderr",
     "output_type": "stream",
     "text": [
      "2211-ctest4</dreambig/qingyi/image_chicago/data/images/satellite/zoom15/>:  80%|████████  | 80400/100000 [8:29:06<5:07:59,  1.06it/s]"
     ]
    },
    {
     "name": "stdout",
     "output_type": "stream",
     "text": [
      "G: 1.26 | D: 0.92 | GP: 0.15 | PL: 0.01\n"
     ]
    },
    {
     "name": "stderr",
     "output_type": "stream",
     "text": [
      "2211-ctest4</dreambig/qingyi/image_chicago/data/images/satellite/zoom15/>:  80%|████████  | 80450/100000 [8:29:55<5:07:12,  1.06it/s]"
     ]
    },
    {
     "name": "stdout",
     "output_type": "stream",
     "text": [
      "G: 0.04 | D: 0.86 | GP: 0.11 | PL: 0.01\n"
     ]
    },
    {
     "name": "stderr",
     "output_type": "stream",
     "text": [
      "2211-ctest4</dreambig/qingyi/image_chicago/data/images/satellite/zoom15/>:  80%|████████  | 80500/100000 [8:30:41<5:06:24,  1.06it/s]"
     ]
    },
    {
     "name": "stdout",
     "output_type": "stream",
     "text": [
      "G: 1.12 | D: 0.93 | GP: 0.40 | PL: 0.01\n"
     ]
    },
    {
     "name": "stderr",
     "output_type": "stream",
     "text": [
      "2211-ctest4</dreambig/qingyi/image_chicago/data/images/satellite/zoom15/>:  81%|████████  | 80550/100000 [8:31:28<5:05:37,  1.06it/s]"
     ]
    },
    {
     "name": "stdout",
     "output_type": "stream",
     "text": [
      "G: 2.75 | D: 0.87 | GP: 0.02 | PL: 0.01\n"
     ]
    },
    {
     "name": "stderr",
     "output_type": "stream",
     "text": [
      "2211-ctest4</dreambig/qingyi/image_chicago/data/images/satellite/zoom15/>:  81%|████████  | 80600/100000 [8:32:14<5:04:50,  1.06it/s]"
     ]
    },
    {
     "name": "stdout",
     "output_type": "stream",
     "text": [
      "G: 1.49 | D: 1.57 | GP: 0.08 | PL: 0.01\n"
     ]
    },
    {
     "name": "stderr",
     "output_type": "stream",
     "text": [
      "2211-ctest4</dreambig/qingyi/image_chicago/data/images/satellite/zoom15/>:  81%|████████  | 80650/100000 [8:33:02<5:04:03,  1.06it/s]"
     ]
    },
    {
     "name": "stdout",
     "output_type": "stream",
     "text": [
      "G: -0.07 | D: 0.94 | GP: 0.13 | PL: 0.01\n"
     ]
    },
    {
     "name": "stderr",
     "output_type": "stream",
     "text": [
      "2211-ctest4</dreambig/qingyi/image_chicago/data/images/satellite/zoom15/>:  81%|████████  | 80700/100000 [8:33:49<5:03:15,  1.06it/s]"
     ]
    },
    {
     "name": "stdout",
     "output_type": "stream",
     "text": [
      "G: 1.54 | D: 0.95 | GP: 0.04 | PL: 0.01\n"
     ]
    },
    {
     "name": "stderr",
     "output_type": "stream",
     "text": [
      "2211-ctest4</dreambig/qingyi/image_chicago/data/images/satellite/zoom15/>:  81%|████████  | 80750/100000 [8:34:37<5:02:29,  1.06it/s]"
     ]
    },
    {
     "name": "stdout",
     "output_type": "stream",
     "text": [
      "G: 0.55 | D: 0.92 | GP: 0.10 | PL: 0.01\n"
     ]
    },
    {
     "name": "stderr",
     "output_type": "stream",
     "text": [
      "2211-ctest4</dreambig/qingyi/image_chicago/data/images/satellite/zoom15/>:  81%|████████  | 80800/100000 [8:35:23<5:01:41,  1.06it/s]"
     ]
    },
    {
     "name": "stdout",
     "output_type": "stream",
     "text": [
      "G: 1.38 | D: 0.93 | GP: 0.22 | PL: 0.01\n"
     ]
    },
    {
     "name": "stderr",
     "output_type": "stream",
     "text": [
      "2211-ctest4</dreambig/qingyi/image_chicago/data/images/satellite/zoom15/>:  81%|████████  | 80850/100000 [8:36:11<5:00:54,  1.06it/s]"
     ]
    },
    {
     "name": "stdout",
     "output_type": "stream",
     "text": [
      "G: 0.96 | D: 0.73 | GP: 0.05 | PL: 0.01\n"
     ]
    },
    {
     "name": "stderr",
     "output_type": "stream",
     "text": [
      "2211-ctest4</dreambig/qingyi/image_chicago/data/images/satellite/zoom15/>:  81%|████████  | 80900/100000 [8:36:58<5:00:07,  1.06it/s]"
     ]
    },
    {
     "name": "stdout",
     "output_type": "stream",
     "text": [
      "G: 1.31 | D: 1.20 | GP: 0.28 | PL: 0.01\n"
     ]
    },
    {
     "name": "stderr",
     "output_type": "stream",
     "text": [
      "2211-ctest4</dreambig/qingyi/image_chicago/data/images/satellite/zoom15/>:  81%|████████  | 80950/100000 [8:37:45<4:59:20,  1.06it/s]"
     ]
    },
    {
     "name": "stdout",
     "output_type": "stream",
     "text": [
      "G: 0.26 | D: 1.14 | GP: 0.02 | PL: 0.01\n"
     ]
    },
    {
     "name": "stderr",
     "output_type": "stream",
     "text": [
      "2211-ctest4</dreambig/qingyi/image_chicago/data/images/satellite/zoom15/>:  81%|████████  | 81000/100000 [8:38:32<4:58:33,  1.06it/s]"
     ]
    },
    {
     "name": "stdout",
     "output_type": "stream",
     "text": [
      "G: 1.30 | D: 0.83 | GP: 0.14 | PL: 0.01\n"
     ]
    },
    {
     "name": "stderr",
     "output_type": "stream",
     "text": [
      "2211-ctest4</dreambig/qingyi/image_chicago/data/images/satellite/zoom15/>:  81%|████████  | 81050/100000 [8:39:22<4:57:47,  1.06it/s]"
     ]
    },
    {
     "name": "stdout",
     "output_type": "stream",
     "text": [
      "G: 0.94 | D: 1.24 | GP: 0.37 | PL: 0.01\n"
     ]
    },
    {
     "name": "stderr",
     "output_type": "stream",
     "text": [
      "2211-ctest4</dreambig/qingyi/image_chicago/data/images/satellite/zoom15/>:  81%|████████  | 81100/100000 [8:40:09<4:57:00,  1.06it/s]"
     ]
    },
    {
     "name": "stdout",
     "output_type": "stream",
     "text": [
      "G: 1.04 | D: 1.03 | GP: 0.87 | PL: 0.01\n"
     ]
    },
    {
     "name": "stderr",
     "output_type": "stream",
     "text": [
      "2211-ctest4</dreambig/qingyi/image_chicago/data/images/satellite/zoom15/>:  81%|████████  | 81150/100000 [8:40:56<4:56:13,  1.06it/s]"
     ]
    },
    {
     "name": "stdout",
     "output_type": "stream",
     "text": [
      "G: 0.66 | D: 0.98 | GP: 0.07 | PL: 0.01\n"
     ]
    },
    {
     "name": "stderr",
     "output_type": "stream",
     "text": [
      "2211-ctest4</dreambig/qingyi/image_chicago/data/images/satellite/zoom15/>:  81%|████████  | 81200/100000 [8:41:43<4:55:25,  1.06it/s]"
     ]
    },
    {
     "name": "stdout",
     "output_type": "stream",
     "text": [
      "G: 0.14 | D: 0.64 | GP: 0.26 | PL: 0.01\n"
     ]
    },
    {
     "name": "stderr",
     "output_type": "stream",
     "text": [
      "2211-ctest4</dreambig/qingyi/image_chicago/data/images/satellite/zoom15/>:  81%|████████▏ | 81250/100000 [8:42:31<4:54:39,  1.06it/s]"
     ]
    },
    {
     "name": "stdout",
     "output_type": "stream",
     "text": [
      "G: 0.93 | D: 0.84 | GP: 0.07 | PL: 0.01\n"
     ]
    },
    {
     "name": "stderr",
     "output_type": "stream",
     "text": [
      "2211-ctest4</dreambig/qingyi/image_chicago/data/images/satellite/zoom15/>:  81%|████████▏ | 81300/100000 [8:43:17<4:53:51,  1.06it/s]"
     ]
    },
    {
     "name": "stdout",
     "output_type": "stream",
     "text": [
      "G: 0.37 | D: 1.03 | GP: 0.35 | PL: 0.01\n"
     ]
    },
    {
     "name": "stderr",
     "output_type": "stream",
     "text": [
      "2211-ctest4</dreambig/qingyi/image_chicago/data/images/satellite/zoom15/>:  81%|████████▏ | 81350/100000 [8:44:05<4:53:05,  1.06it/s]"
     ]
    },
    {
     "name": "stdout",
     "output_type": "stream",
     "text": [
      "G: -0.38 | D: 1.27 | GP: 0.86 | PL: 0.01\n"
     ]
    },
    {
     "name": "stderr",
     "output_type": "stream",
     "text": [
      "2211-ctest4</dreambig/qingyi/image_chicago/data/images/satellite/zoom15/>:  81%|████████▏ | 81400/100000 [8:44:51<4:52:17,  1.06it/s]"
     ]
    },
    {
     "name": "stdout",
     "output_type": "stream",
     "text": [
      "G: 1.81 | D: 1.51 | GP: 0.03 | PL: 0.01\n"
     ]
    },
    {
     "name": "stderr",
     "output_type": "stream",
     "text": [
      "2211-ctest4</dreambig/qingyi/image_chicago/data/images/satellite/zoom15/>:  81%|████████▏ | 81450/100000 [8:45:39<4:51:30,  1.06it/s]"
     ]
    },
    {
     "name": "stdout",
     "output_type": "stream",
     "text": [
      "G: 0.45 | D: 1.46 | GP: 0.15 | PL: 0.01\n"
     ]
    },
    {
     "name": "stderr",
     "output_type": "stream",
     "text": [
      "2211-ctest4</dreambig/qingyi/image_chicago/data/images/satellite/zoom15/>:  82%|████████▏ | 81500/100000 [8:46:25<4:50:42,  1.06it/s]"
     ]
    },
    {
     "name": "stdout",
     "output_type": "stream",
     "text": [
      "G: -0.51 | D: 1.36 | GP: 0.09 | PL: 0.01\n"
     ]
    },
    {
     "name": "stderr",
     "output_type": "stream",
     "text": [
      "2211-ctest4</dreambig/qingyi/image_chicago/data/images/satellite/zoom15/>:  82%|████████▏ | 81550/100000 [8:47:13<4:49:56,  1.06it/s]"
     ]
    },
    {
     "name": "stdout",
     "output_type": "stream",
     "text": [
      "G: 0.25 | D: 1.38 | GP: 0.14 | PL: 0.01\n"
     ]
    },
    {
     "name": "stderr",
     "output_type": "stream",
     "text": [
      "2211-ctest4</dreambig/qingyi/image_chicago/data/images/satellite/zoom15/>:  82%|████████▏ | 81600/100000 [8:48:00<4:49:08,  1.06it/s]"
     ]
    },
    {
     "name": "stdout",
     "output_type": "stream",
     "text": [
      "G: 1.01 | D: 0.62 | GP: 0.08 | PL: 0.01\n"
     ]
    },
    {
     "name": "stderr",
     "output_type": "stream",
     "text": [
      "2211-ctest4</dreambig/qingyi/image_chicago/data/images/satellite/zoom15/>:  82%|████████▏ | 81650/100000 [8:48:48<4:48:22,  1.06it/s]"
     ]
    },
    {
     "name": "stdout",
     "output_type": "stream",
     "text": [
      "G: 0.77 | D: 1.12 | GP: 0.72 | PL: 0.01\n"
     ]
    },
    {
     "name": "stderr",
     "output_type": "stream",
     "text": [
      "2211-ctest4</dreambig/qingyi/image_chicago/data/images/satellite/zoom15/>:  82%|████████▏ | 81700/100000 [8:49:35<4:47:34,  1.06it/s]"
     ]
    },
    {
     "name": "stdout",
     "output_type": "stream",
     "text": [
      "G: 3.20 | D: 0.99 | GP: 0.04 | PL: 0.01\n"
     ]
    },
    {
     "name": "stderr",
     "output_type": "stream",
     "text": [
      "2211-ctest4</dreambig/qingyi/image_chicago/data/images/satellite/zoom15/>:  82%|████████▏ | 81750/100000 [8:50:22<4:46:47,  1.06it/s]"
     ]
    },
    {
     "name": "stdout",
     "output_type": "stream",
     "text": [
      "G: 0.30 | D: 0.79 | GP: 0.16 | PL: 0.01\n"
     ]
    },
    {
     "name": "stderr",
     "output_type": "stream",
     "text": [
      "2211-ctest4</dreambig/qingyi/image_chicago/data/images/satellite/zoom15/>:  82%|████████▏ | 81800/100000 [8:51:09<4:46:00,  1.06it/s]"
     ]
    },
    {
     "name": "stdout",
     "output_type": "stream",
     "text": [
      "G: 0.86 | D: 0.85 | GP: 0.34 | PL: 0.01\n"
     ]
    },
    {
     "name": "stderr",
     "output_type": "stream",
     "text": [
      "2211-ctest4</dreambig/qingyi/image_chicago/data/images/satellite/zoom15/>:  82%|████████▏ | 81850/100000 [8:51:56<4:45:13,  1.06it/s]"
     ]
    },
    {
     "name": "stdout",
     "output_type": "stream",
     "text": [
      "G: 0.51 | D: 0.84 | GP: 0.63 | PL: 0.01\n"
     ]
    },
    {
     "name": "stderr",
     "output_type": "stream",
     "text": [
      "2211-ctest4</dreambig/qingyi/image_chicago/data/images/satellite/zoom15/>:  82%|████████▏ | 81900/100000 [8:52:43<4:44:26,  1.06it/s]"
     ]
    },
    {
     "name": "stdout",
     "output_type": "stream",
     "text": [
      "G: 1.00 | D: 1.08 | GP: 0.57 | PL: 0.01\n"
     ]
    },
    {
     "name": "stderr",
     "output_type": "stream",
     "text": [
      "2211-ctest4</dreambig/qingyi/image_chicago/data/images/satellite/zoom15/>:  82%|████████▏ | 81950/100000 [8:53:31<4:43:39,  1.06it/s]"
     ]
    },
    {
     "name": "stdout",
     "output_type": "stream",
     "text": [
      "G: 1.09 | D: 0.96 | GP: 0.08 | PL: 0.01\n"
     ]
    },
    {
     "name": "stderr",
     "output_type": "stream",
     "text": [
      "2211-ctest4</dreambig/qingyi/image_chicago/data/images/satellite/zoom15/>:  82%|████████▏ | 82000/100000 [8:54:18<4:42:51,  1.06it/s]"
     ]
    },
    {
     "name": "stdout",
     "output_type": "stream",
     "text": [
      "G: 0.83 | D: 0.84 | GP: 0.07 | PL: 0.01\n"
     ]
    },
    {
     "name": "stderr",
     "output_type": "stream",
     "text": [
      "2211-ctest4</dreambig/qingyi/image_chicago/data/images/satellite/zoom15/>:  82%|████████▏ | 82050/100000 [8:55:08<4:42:06,  1.06it/s]"
     ]
    },
    {
     "name": "stdout",
     "output_type": "stream",
     "text": [
      "G: 1.69 | D: 1.09 | GP: 0.04 | PL: 0.01\n"
     ]
    },
    {
     "name": "stderr",
     "output_type": "stream",
     "text": [
      "2211-ctest4</dreambig/qingyi/image_chicago/data/images/satellite/zoom15/>:  82%|████████▏ | 82100/100000 [8:55:55<4:41:19,  1.06it/s]"
     ]
    },
    {
     "name": "stdout",
     "output_type": "stream",
     "text": [
      "G: -0.64 | D: 1.02 | GP: 0.15 | PL: 0.01\n"
     ]
    },
    {
     "name": "stderr",
     "output_type": "stream",
     "text": [
      "2211-ctest4</dreambig/qingyi/image_chicago/data/images/satellite/zoom15/>:  82%|████████▏ | 82150/100000 [8:56:43<4:40:32,  1.06it/s]"
     ]
    },
    {
     "name": "stdout",
     "output_type": "stream",
     "text": [
      "G: 1.16 | D: 1.13 | GP: 0.12 | PL: 0.01\n"
     ]
    },
    {
     "name": "stderr",
     "output_type": "stream",
     "text": [
      "2211-ctest4</dreambig/qingyi/image_chicago/data/images/satellite/zoom15/>:  82%|████████▏ | 82200/100000 [8:57:30<4:39:45,  1.06it/s]"
     ]
    },
    {
     "name": "stdout",
     "output_type": "stream",
     "text": [
      "G: 1.15 | D: 0.88 | GP: 0.43 | PL: 0.01\n"
     ]
    },
    {
     "name": "stderr",
     "output_type": "stream",
     "text": [
      "2211-ctest4</dreambig/qingyi/image_chicago/data/images/satellite/zoom15/>:  82%|████████▏ | 82250/100000 [8:58:18<4:38:58,  1.06it/s]"
     ]
    },
    {
     "name": "stdout",
     "output_type": "stream",
     "text": [
      "G: 0.26 | D: 0.89 | GP: 0.09 | PL: 0.01\n"
     ]
    },
    {
     "name": "stderr",
     "output_type": "stream",
     "text": [
      "2211-ctest4</dreambig/qingyi/image_chicago/data/images/satellite/zoom15/>:  82%|████████▏ | 82300/100000 [8:59:04<4:38:10,  1.06it/s]"
     ]
    },
    {
     "name": "stdout",
     "output_type": "stream",
     "text": [
      "G: 1.05 | D: 0.62 | GP: 0.12 | PL: 0.01\n"
     ]
    },
    {
     "name": "stderr",
     "output_type": "stream",
     "text": [
      "2211-ctest4</dreambig/qingyi/image_chicago/data/images/satellite/zoom15/>:  82%|████████▏ | 82350/100000 [8:59:52<4:37:24,  1.06it/s]"
     ]
    },
    {
     "name": "stdout",
     "output_type": "stream",
     "text": [
      "G: 0.26 | D: 0.93 | GP: 0.37 | PL: 0.01\n"
     ]
    },
    {
     "name": "stderr",
     "output_type": "stream",
     "text": [
      "2211-ctest4</dreambig/qingyi/image_chicago/data/images/satellite/zoom15/>:  82%|████████▏ | 82400/100000 [9:00:38<4:36:36,  1.06it/s]"
     ]
    },
    {
     "name": "stdout",
     "output_type": "stream",
     "text": [
      "G: 0.74 | D: 1.34 | GP: 0.05 | PL: 0.01\n"
     ]
    },
    {
     "name": "stderr",
     "output_type": "stream",
     "text": [
      "2211-ctest4</dreambig/qingyi/image_chicago/data/images/satellite/zoom15/>:  82%|████████▏ | 82417/100000 [9:00:55<4:36:21,  1.06it/s]IOPub message rate exceeded.\n",
      "The notebook server will temporarily stop sending output\n",
      "to the client in order to avoid crashing it.\n",
      "To change this limit, set the config variable\n",
      "`--NotebookApp.iopub_msg_rate_limit`.\n",
      "\n",
      "Current values:\n",
      "NotebookApp.iopub_msg_rate_limit=1000.0 (msgs/sec)\n",
      "NotebookApp.rate_limit_window=3.0 (secs)\n",
      "\n",
      "2211-ctest4</dreambig/qingyi/image_chicago/data/images/satellite/zoom15/>:  90%|█████████ | 90450/100000 [11:07:34<2:30:11,  1.06it/s]"
     ]
    },
    {
     "name": "stdout",
     "output_type": "stream",
     "text": [
      "G: -0.07 | D: 1.02 | GP: 0.08 | PL: 0.01\n"
     ]
    },
    {
     "name": "stderr",
     "output_type": "stream",
     "text": [
      "2211-ctest4</dreambig/qingyi/image_chicago/data/images/satellite/zoom15/>:  90%|█████████ | 90500/100000 [11:08:20<2:29:23,  1.06it/s]"
     ]
    },
    {
     "name": "stdout",
     "output_type": "stream",
     "text": [
      "G: 1.02 | D: 0.81 | GP: 0.80 | PL: 0.01\n"
     ]
    },
    {
     "name": "stderr",
     "output_type": "stream",
     "text": [
      "2211-ctest4</dreambig/qingyi/image_chicago/data/images/satellite/zoom15/>:  91%|█████████ | 90550/100000 [11:09:08<2:28:36,  1.06it/s]"
     ]
    },
    {
     "name": "stdout",
     "output_type": "stream",
     "text": [
      "G: 1.22 | D: 0.49 | GP: 0.30 | PL: 0.01\n"
     ]
    },
    {
     "name": "stderr",
     "output_type": "stream",
     "text": [
      "2211-ctest4</dreambig/qingyi/image_chicago/data/images/satellite/zoom15/>:  91%|█████████ | 90600/100000 [11:09:54<2:27:49,  1.06it/s]"
     ]
    },
    {
     "name": "stdout",
     "output_type": "stream",
     "text": [
      "G: 0.11 | D: 1.09 | GP: 0.18 | PL: 0.01\n"
     ]
    },
    {
     "name": "stderr",
     "output_type": "stream",
     "text": [
      "2211-ctest4</dreambig/qingyi/image_chicago/data/images/satellite/zoom15/>:  91%|█████████ | 90650/100000 [11:10:42<2:27:02,  1.06it/s]"
     ]
    },
    {
     "name": "stdout",
     "output_type": "stream",
     "text": [
      "G: -0.06 | D: 1.00 | GP: 0.42 | PL: 0.01\n"
     ]
    },
    {
     "name": "stderr",
     "output_type": "stream",
     "text": [
      "2211-ctest4</dreambig/qingyi/image_chicago/data/images/satellite/zoom15/>:  91%|█████████ | 90700/100000 [11:11:29<2:26:14,  1.06it/s]"
     ]
    },
    {
     "name": "stdout",
     "output_type": "stream",
     "text": [
      "G: 0.49 | D: 0.94 | GP: 0.07 | PL: 0.01\n"
     ]
    },
    {
     "name": "stderr",
     "output_type": "stream",
     "text": [
      "2211-ctest4</dreambig/qingyi/image_chicago/data/images/satellite/zoom15/>:  91%|█████████ | 90750/100000 [11:12:16<2:25:27,  1.06it/s]"
     ]
    },
    {
     "name": "stdout",
     "output_type": "stream",
     "text": [
      "G: 0.35 | D: 0.71 | GP: 0.16 | PL: 0.01\n"
     ]
    },
    {
     "name": "stderr",
     "output_type": "stream",
     "text": [
      "2211-ctest4</dreambig/qingyi/image_chicago/data/images/satellite/zoom15/>:  91%|█████████ | 90800/100000 [11:13:03<2:24:40,  1.06it/s]"
     ]
    },
    {
     "name": "stdout",
     "output_type": "stream",
     "text": [
      "G: 0.79 | D: 1.02 | GP: 0.18 | PL: 0.01\n"
     ]
    },
    {
     "name": "stderr",
     "output_type": "stream",
     "text": [
      "2211-ctest4</dreambig/qingyi/image_chicago/data/images/satellite/zoom15/>:  91%|█████████ | 90850/100000 [11:13:51<2:23:53,  1.06it/s]"
     ]
    },
    {
     "name": "stdout",
     "output_type": "stream",
     "text": [
      "G: 1.10 | D: 1.67 | GP: 0.33 | PL: 0.01\n"
     ]
    },
    {
     "name": "stderr",
     "output_type": "stream",
     "text": [
      "2211-ctest4</dreambig/qingyi/image_chicago/data/images/satellite/zoom15/>:  91%|█████████ | 90900/100000 [11:14:37<2:23:06,  1.06it/s]"
     ]
    },
    {
     "name": "stdout",
     "output_type": "stream",
     "text": [
      "G: 0.68 | D: 1.19 | GP: 0.37 | PL: 0.01\n"
     ]
    },
    {
     "name": "stderr",
     "output_type": "stream",
     "text": [
      "2211-ctest4</dreambig/qingyi/image_chicago/data/images/satellite/zoom15/>:  91%|█████████ | 90950/100000 [11:15:25<2:22:19,  1.06it/s]"
     ]
    },
    {
     "name": "stdout",
     "output_type": "stream",
     "text": [
      "G: 0.43 | D: 0.87 | GP: 0.14 | PL: 0.01\n"
     ]
    },
    {
     "name": "stderr",
     "output_type": "stream",
     "text": [
      "2211-ctest4</dreambig/qingyi/image_chicago/data/images/satellite/zoom15/>:  91%|█████████ | 91000/100000 [11:16:10<2:21:31,  1.06it/s]"
     ]
    },
    {
     "name": "stdout",
     "output_type": "stream",
     "text": [
      "G: 2.66 | D: 0.95 | GP: 0.05 | PL: 0.01\n"
     ]
    },
    {
     "name": "stderr",
     "output_type": "stream",
     "text": [
      "2211-ctest4</dreambig/qingyi/image_chicago/data/images/satellite/zoom15/>:  91%|█████████ | 91050/100000 [11:17:02<2:20:45,  1.06it/s]"
     ]
    },
    {
     "name": "stdout",
     "output_type": "stream",
     "text": [
      "G: 0.20 | D: 1.27 | GP: 0.21 | PL: 0.01\n"
     ]
    },
    {
     "name": "stderr",
     "output_type": "stream",
     "text": [
      "2211-ctest4</dreambig/qingyi/image_chicago/data/images/satellite/zoom15/>:  91%|█████████ | 91100/100000 [11:17:48<2:19:57,  1.06it/s]"
     ]
    },
    {
     "name": "stdout",
     "output_type": "stream",
     "text": [
      "G: 2.16 | D: 0.80 | GP: 0.07 | PL: 0.01\n"
     ]
    },
    {
     "name": "stderr",
     "output_type": "stream",
     "text": [
      "2211-ctest4</dreambig/qingyi/image_chicago/data/images/satellite/zoom15/>:  91%|█████████ | 91150/100000 [11:18:36<2:19:10,  1.06it/s]"
     ]
    },
    {
     "name": "stdout",
     "output_type": "stream",
     "text": [
      "G: 0.48 | D: 0.80 | GP: 0.19 | PL: 0.01\n"
     ]
    },
    {
     "name": "stderr",
     "output_type": "stream",
     "text": [
      "2211-ctest4</dreambig/qingyi/image_chicago/data/images/satellite/zoom15/>:  91%|█████████ | 91200/100000 [11:19:23<2:18:23,  1.06it/s]"
     ]
    },
    {
     "name": "stdout",
     "output_type": "stream",
     "text": [
      "G: 1.64 | D: 0.89 | GP: 0.02 | PL: 0.01\n"
     ]
    },
    {
     "name": "stderr",
     "output_type": "stream",
     "text": [
      "2211-ctest4</dreambig/qingyi/image_chicago/data/images/satellite/zoom15/>:  91%|█████████▏| 91250/100000 [11:20:11<2:17:36,  1.06it/s]"
     ]
    },
    {
     "name": "stdout",
     "output_type": "stream",
     "text": [
      "G: 1.67 | D: 0.75 | GP: 0.15 | PL: 0.01\n"
     ]
    },
    {
     "name": "stderr",
     "output_type": "stream",
     "text": [
      "2211-ctest4</dreambig/qingyi/image_chicago/data/images/satellite/zoom15/>:  91%|█████████▏| 91300/100000 [11:20:57<2:16:49,  1.06it/s]"
     ]
    },
    {
     "name": "stdout",
     "output_type": "stream",
     "text": [
      "G: 1.46 | D: 1.06 | GP: 0.16 | PL: 0.01\n"
     ]
    },
    {
     "name": "stderr",
     "output_type": "stream",
     "text": [
      "2211-ctest4</dreambig/qingyi/image_chicago/data/images/satellite/zoom15/>:  91%|█████████▏| 91350/100000 [11:21:44<2:16:02,  1.06it/s]"
     ]
    },
    {
     "name": "stdout",
     "output_type": "stream",
     "text": [
      "G: 1.10 | D: 1.21 | GP: 0.48 | PL: 0.01\n"
     ]
    },
    {
     "name": "stderr",
     "output_type": "stream",
     "text": [
      "2211-ctest4</dreambig/qingyi/image_chicago/data/images/satellite/zoom15/>:  91%|█████████▏| 91400/100000 [11:22:31<2:15:14,  1.06it/s]"
     ]
    },
    {
     "name": "stdout",
     "output_type": "stream",
     "text": [
      "G: -1.78 | D: 1.32 | GP: 0.07 | PL: 0.01\n"
     ]
    },
    {
     "name": "stderr",
     "output_type": "stream",
     "text": [
      "2211-ctest4</dreambig/qingyi/image_chicago/data/images/satellite/zoom15/>:  91%|█████████▏| 91450/100000 [11:23:18<2:14:27,  1.06it/s]"
     ]
    },
    {
     "name": "stdout",
     "output_type": "stream",
     "text": [
      "G: 1.03 | D: 0.90 | GP: 1.13 | PL: 0.01\n"
     ]
    },
    {
     "name": "stderr",
     "output_type": "stream",
     "text": [
      "2211-ctest4</dreambig/qingyi/image_chicago/data/images/satellite/zoom15/>:  92%|█████████▏| 91500/100000 [11:24:05<2:13:40,  1.06it/s]"
     ]
    },
    {
     "name": "stdout",
     "output_type": "stream",
     "text": [
      "G: 0.92 | D: 1.38 | GP: 0.76 | PL: 0.01\n"
     ]
    },
    {
     "name": "stderr",
     "output_type": "stream",
     "text": [
      "2211-ctest4</dreambig/qingyi/image_chicago/data/images/satellite/zoom15/>:  92%|█████████▏| 91550/100000 [11:24:52<2:12:53,  1.06it/s]"
     ]
    },
    {
     "name": "stdout",
     "output_type": "stream",
     "text": [
      "G: 0.61 | D: 1.26 | GP: 0.41 | PL: 0.01\n"
     ]
    },
    {
     "name": "stderr",
     "output_type": "stream",
     "text": [
      "2211-ctest4</dreambig/qingyi/image_chicago/data/images/satellite/zoom15/>:  92%|█████████▏| 91600/100000 [11:25:40<2:12:06,  1.06it/s]"
     ]
    },
    {
     "name": "stdout",
     "output_type": "stream",
     "text": [
      "G: 1.96 | D: 0.85 | GP: 0.24 | PL: 0.01\n"
     ]
    },
    {
     "name": "stderr",
     "output_type": "stream",
     "text": [
      "2211-ctest4</dreambig/qingyi/image_chicago/data/images/satellite/zoom15/>:  92%|█████████▏| 91650/100000 [11:26:29<2:11:19,  1.06it/s]"
     ]
    },
    {
     "name": "stdout",
     "output_type": "stream",
     "text": [
      "G: 1.66 | D: 0.77 | GP: 0.13 | PL: 0.01\n"
     ]
    },
    {
     "name": "stderr",
     "output_type": "stream",
     "text": [
      "2211-ctest4</dreambig/qingyi/image_chicago/data/images/satellite/zoom15/>:  92%|█████████▏| 91700/100000 [11:27:15<2:10:31,  1.06it/s]"
     ]
    },
    {
     "name": "stdout",
     "output_type": "stream",
     "text": [
      "G: 2.12 | D: 0.86 | GP: 0.36 | PL: 0.01\n"
     ]
    },
    {
     "name": "stderr",
     "output_type": "stream",
     "text": [
      "2211-ctest4</dreambig/qingyi/image_chicago/data/images/satellite/zoom15/>:  92%|█████████▏| 91750/100000 [11:28:03<2:09:44,  1.06it/s]"
     ]
    },
    {
     "name": "stdout",
     "output_type": "stream",
     "text": [
      "G: 2.04 | D: 1.03 | GP: 0.12 | PL: 0.01\n"
     ]
    },
    {
     "name": "stderr",
     "output_type": "stream",
     "text": [
      "2211-ctest4</dreambig/qingyi/image_chicago/data/images/satellite/zoom15/>:  92%|█████████▏| 91800/100000 [11:28:49<2:08:57,  1.06it/s]"
     ]
    },
    {
     "name": "stdout",
     "output_type": "stream",
     "text": [
      "G: 0.91 | D: 0.65 | GP: 0.11 | PL: 0.01\n"
     ]
    },
    {
     "name": "stderr",
     "output_type": "stream",
     "text": [
      "2211-ctest4</dreambig/qingyi/image_chicago/data/images/satellite/zoom15/>:  92%|█████████▏| 91850/100000 [11:29:37<2:08:10,  1.06it/s]"
     ]
    },
    {
     "name": "stdout",
     "output_type": "stream",
     "text": [
      "G: 0.73 | D: 1.72 | GP: 1.17 | PL: 0.01\n"
     ]
    },
    {
     "name": "stderr",
     "output_type": "stream",
     "text": [
      "2211-ctest4</dreambig/qingyi/image_chicago/data/images/satellite/zoom15/>:  92%|█████████▏| 91900/100000 [11:30:23<2:07:23,  1.06it/s]"
     ]
    },
    {
     "name": "stdout",
     "output_type": "stream",
     "text": [
      "G: 2.05 | D: 0.87 | GP: 0.08 | PL: 0.01\n"
     ]
    },
    {
     "name": "stderr",
     "output_type": "stream",
     "text": [
      "2211-ctest4</dreambig/qingyi/image_chicago/data/images/satellite/zoom15/>:  92%|█████████▏| 91950/100000 [11:31:11<2:06:36,  1.06it/s]"
     ]
    },
    {
     "name": "stdout",
     "output_type": "stream",
     "text": [
      "G: 0.78 | D: 1.41 | GP: 0.93 | PL: 0.01\n"
     ]
    },
    {
     "name": "stderr",
     "output_type": "stream",
     "text": [
      "2211-ctest4</dreambig/qingyi/image_chicago/data/images/satellite/zoom15/>:  92%|█████████▏| 92000/100000 [11:31:57<2:05:48,  1.06it/s]"
     ]
    },
    {
     "name": "stdout",
     "output_type": "stream",
     "text": [
      "G: 1.01 | D: 1.07 | GP: 0.22 | PL: 0.01\n"
     ]
    },
    {
     "name": "stderr",
     "output_type": "stream",
     "text": [
      "2211-ctest4</dreambig/qingyi/image_chicago/data/images/satellite/zoom15/>:  92%|█████████▏| 92050/100000 [11:32:48<2:05:02,  1.06it/s]"
     ]
    },
    {
     "name": "stdout",
     "output_type": "stream",
     "text": [
      "G: 0.17 | D: 0.93 | GP: 0.20 | PL: 0.01\n"
     ]
    },
    {
     "name": "stderr",
     "output_type": "stream",
     "text": [
      "2211-ctest4</dreambig/qingyi/image_chicago/data/images/satellite/zoom15/>:  92%|█████████▏| 92100/100000 [11:33:35<2:04:14,  1.06it/s]"
     ]
    },
    {
     "name": "stdout",
     "output_type": "stream",
     "text": [
      "G: 0.18 | D: 1.28 | GP: 2.80 | PL: 0.01\n"
     ]
    },
    {
     "name": "stderr",
     "output_type": "stream",
     "text": [
      "2211-ctest4</dreambig/qingyi/image_chicago/data/images/satellite/zoom15/>:  92%|█████████▏| 92150/100000 [11:34:22<2:03:27,  1.06it/s]"
     ]
    },
    {
     "name": "stdout",
     "output_type": "stream",
     "text": [
      "G: 0.57 | D: 0.79 | GP: 0.05 | PL: 0.01\n"
     ]
    },
    {
     "name": "stderr",
     "output_type": "stream",
     "text": [
      "2211-ctest4</dreambig/qingyi/image_chicago/data/images/satellite/zoom15/>:  92%|█████████▏| 92200/100000 [11:35:10<2:02:40,  1.06it/s]"
     ]
    },
    {
     "name": "stdout",
     "output_type": "stream",
     "text": [
      "G: 1.19 | D: 0.64 | GP: 0.40 | PL: 0.01\n"
     ]
    },
    {
     "name": "stderr",
     "output_type": "stream",
     "text": [
      "2211-ctest4</dreambig/qingyi/image_chicago/data/images/satellite/zoom15/>:  92%|█████████▏| 92250/100000 [11:35:57<2:01:53,  1.06it/s]"
     ]
    },
    {
     "name": "stdout",
     "output_type": "stream",
     "text": [
      "G: 0.63 | D: 1.32 | GP: 0.68 | PL: 0.01\n"
     ]
    },
    {
     "name": "stderr",
     "output_type": "stream",
     "text": [
      "2211-ctest4</dreambig/qingyi/image_chicago/data/images/satellite/zoom15/>:  92%|█████████▏| 92300/100000 [11:36:44<2:01:06,  1.06it/s]"
     ]
    },
    {
     "name": "stdout",
     "output_type": "stream",
     "text": [
      "G: 1.21 | D: 0.81 | GP: 0.25 | PL: 0.01\n"
     ]
    },
    {
     "name": "stderr",
     "output_type": "stream",
     "text": [
      "2211-ctest4</dreambig/qingyi/image_chicago/data/images/satellite/zoom15/>:  92%|█████████▏| 92350/100000 [11:37:31<2:00:19,  1.06it/s]"
     ]
    },
    {
     "name": "stdout",
     "output_type": "stream",
     "text": [
      "G: 1.37 | D: 1.33 | GP: 0.27 | PL: 0.01\n"
     ]
    },
    {
     "name": "stderr",
     "output_type": "stream",
     "text": [
      "2211-ctest4</dreambig/qingyi/image_chicago/data/images/satellite/zoom15/>:  92%|█████████▏| 92400/100000 [11:38:18<1:59:31,  1.06it/s]"
     ]
    },
    {
     "name": "stdout",
     "output_type": "stream",
     "text": [
      "G: 1.14 | D: 0.85 | GP: 0.36 | PL: 0.01\n"
     ]
    },
    {
     "name": "stderr",
     "output_type": "stream",
     "text": [
      "2211-ctest4</dreambig/qingyi/image_chicago/data/images/satellite/zoom15/>:  92%|█████████▏| 92450/100000 [11:39:06<1:58:44,  1.06it/s]"
     ]
    },
    {
     "name": "stdout",
     "output_type": "stream",
     "text": [
      "G: 0.69 | D: 0.97 | GP: 0.23 | PL: 0.01\n"
     ]
    },
    {
     "name": "stderr",
     "output_type": "stream",
     "text": [
      "2211-ctest4</dreambig/qingyi/image_chicago/data/images/satellite/zoom15/>:  92%|█████████▎| 92500/100000 [11:39:52<1:57:57,  1.06it/s]"
     ]
    },
    {
     "name": "stdout",
     "output_type": "stream",
     "text": [
      "G: 0.19 | D: 1.19 | GP: 0.51 | PL: 0.01\n"
     ]
    },
    {
     "name": "stderr",
     "output_type": "stream",
     "text": [
      "2211-ctest4</dreambig/qingyi/image_chicago/data/images/satellite/zoom15/>:  93%|█████████▎| 92550/100000 [11:40:40<1:57:10,  1.06it/s]"
     ]
    },
    {
     "name": "stdout",
     "output_type": "stream",
     "text": [
      "G: 2.09 | D: 0.88 | GP: 0.17 | PL: 0.01\n"
     ]
    },
    {
     "name": "stderr",
     "output_type": "stream",
     "text": [
      "2211-ctest4</dreambig/qingyi/image_chicago/data/images/satellite/zoom15/>:  93%|█████████▎| 92600/100000 [11:41:25<1:56:22,  1.06it/s]"
     ]
    },
    {
     "name": "stdout",
     "output_type": "stream",
     "text": [
      "G: 0.93 | D: 0.89 | GP: 1.19 | PL: 0.01\n"
     ]
    },
    {
     "name": "stderr",
     "output_type": "stream",
     "text": [
      "2211-ctest4</dreambig/qingyi/image_chicago/data/images/satellite/zoom15/>:  93%|█████████▎| 92650/100000 [11:42:13<1:55:35,  1.06it/s]"
     ]
    },
    {
     "name": "stdout",
     "output_type": "stream",
     "text": [
      "G: 1.74 | D: 0.98 | GP: 0.06 | PL: 0.01\n"
     ]
    },
    {
     "name": "stderr",
     "output_type": "stream",
     "text": [
      "2211-ctest4</dreambig/qingyi/image_chicago/data/images/satellite/zoom15/>:  93%|█████████▎| 92700/100000 [11:42:59<1:54:48,  1.06it/s]"
     ]
    },
    {
     "name": "stdout",
     "output_type": "stream",
     "text": [
      "G: 1.70 | D: 0.94 | GP: 0.15 | PL: 0.01\n"
     ]
    },
    {
     "name": "stderr",
     "output_type": "stream",
     "text": [
      "2211-ctest4</dreambig/qingyi/image_chicago/data/images/satellite/zoom15/>:  93%|█████████▎| 92750/100000 [11:43:47<1:54:01,  1.06it/s]"
     ]
    },
    {
     "name": "stdout",
     "output_type": "stream",
     "text": [
      "G: -0.05 | D: 1.44 | GP: 0.08 | PL: 0.01\n"
     ]
    },
    {
     "name": "stderr",
     "output_type": "stream",
     "text": [
      "2211-ctest4</dreambig/qingyi/image_chicago/data/images/satellite/zoom15/>:  93%|█████████▎| 92800/100000 [11:44:34<1:53:14,  1.06it/s]"
     ]
    },
    {
     "name": "stdout",
     "output_type": "stream",
     "text": [
      "G: 2.13 | D: 1.02 | GP: 0.13 | PL: 0.01\n"
     ]
    },
    {
     "name": "stderr",
     "output_type": "stream",
     "text": [
      "2211-ctest4</dreambig/qingyi/image_chicago/data/images/satellite/zoom15/>:  93%|█████████▎| 92850/100000 [11:45:22<1:52:27,  1.06it/s]"
     ]
    },
    {
     "name": "stdout",
     "output_type": "stream",
     "text": [
      "G: 0.87 | D: 0.85 | GP: 0.19 | PL: 0.01\n"
     ]
    },
    {
     "name": "stderr",
     "output_type": "stream",
     "text": [
      "2211-ctest4</dreambig/qingyi/image_chicago/data/images/satellite/zoom15/>:  93%|█████████▎| 92900/100000 [11:46:09<1:51:39,  1.06it/s]"
     ]
    },
    {
     "name": "stdout",
     "output_type": "stream",
     "text": [
      "G: 0.12 | D: 1.13 | GP: 0.15 | PL: 0.01\n"
     ]
    },
    {
     "name": "stderr",
     "output_type": "stream",
     "text": [
      "2211-ctest4</dreambig/qingyi/image_chicago/data/images/satellite/zoom15/>:  93%|█████████▎| 92950/100000 [11:46:57<1:50:52,  1.06it/s]"
     ]
    },
    {
     "name": "stdout",
     "output_type": "stream",
     "text": [
      "G: 0.72 | D: 1.08 | GP: 0.05 | PL: 0.01\n"
     ]
    },
    {
     "name": "stderr",
     "output_type": "stream",
     "text": [
      "2211-ctest4</dreambig/qingyi/image_chicago/data/images/satellite/zoom15/>:  93%|█████████▎| 93000/100000 [11:47:44<1:50:05,  1.06it/s]"
     ]
    },
    {
     "name": "stdout",
     "output_type": "stream",
     "text": [
      "G: 1.41 | D: 1.13 | GP: 0.17 | PL: 0.01\n"
     ]
    },
    {
     "name": "stderr",
     "output_type": "stream",
     "text": [
      "2211-ctest4</dreambig/qingyi/image_chicago/data/images/satellite/zoom15/>:  93%|█████████▎| 93050/100000 [11:48:34<1:49:18,  1.06it/s]"
     ]
    },
    {
     "name": "stdout",
     "output_type": "stream",
     "text": [
      "G: 0.54 | D: 0.78 | GP: 0.06 | PL: 0.01\n"
     ]
    },
    {
     "name": "stderr",
     "output_type": "stream",
     "text": [
      "2211-ctest4</dreambig/qingyi/image_chicago/data/images/satellite/zoom15/>:  93%|█████████▎| 93100/100000 [11:49:21<1:48:31,  1.06it/s]"
     ]
    },
    {
     "name": "stdout",
     "output_type": "stream",
     "text": [
      "G: 2.18 | D: 0.93 | GP: 0.10 | PL: 0.01\n"
     ]
    },
    {
     "name": "stderr",
     "output_type": "stream",
     "text": [
      "2211-ctest4</dreambig/qingyi/image_chicago/data/images/satellite/zoom15/>:  93%|█████████▎| 93150/100000 [11:50:08<1:47:44,  1.06it/s]"
     ]
    },
    {
     "name": "stdout",
     "output_type": "stream",
     "text": [
      "G: 1.20 | D: 1.13 | GP: 0.03 | PL: 0.01\n"
     ]
    },
    {
     "name": "stderr",
     "output_type": "stream",
     "text": [
      "2211-ctest4</dreambig/qingyi/image_chicago/data/images/satellite/zoom15/>:  93%|█████████▎| 93200/100000 [11:50:55<1:46:57,  1.06it/s]"
     ]
    },
    {
     "name": "stdout",
     "output_type": "stream",
     "text": [
      "G: 1.41 | D: 0.94 | GP: 0.39 | PL: 0.01\n"
     ]
    },
    {
     "name": "stderr",
     "output_type": "stream",
     "text": [
      "2211-ctest4</dreambig/qingyi/image_chicago/data/images/satellite/zoom15/>:  93%|█████████▎| 93250/100000 [11:51:43<1:46:10,  1.06it/s]"
     ]
    },
    {
     "name": "stdout",
     "output_type": "stream",
     "text": [
      "G: 1.22 | D: 0.81 | GP: 0.25 | PL: 0.01\n"
     ]
    },
    {
     "name": "stderr",
     "output_type": "stream",
     "text": [
      "2211-ctest4</dreambig/qingyi/image_chicago/data/images/satellite/zoom15/>:  93%|█████████▎| 93300/100000 [11:52:29<1:45:22,  1.06it/s]"
     ]
    },
    {
     "name": "stdout",
     "output_type": "stream",
     "text": [
      "G: 0.12 | D: 1.22 | GP: 0.96 | PL: 0.01\n"
     ]
    },
    {
     "name": "stderr",
     "output_type": "stream",
     "text": [
      "2211-ctest4</dreambig/qingyi/image_chicago/data/images/satellite/zoom15/>:  93%|█████████▎| 93350/100000 [11:53:17<1:44:35,  1.06it/s]"
     ]
    },
    {
     "name": "stdout",
     "output_type": "stream",
     "text": [
      "G: 1.03 | D: 1.24 | GP: 0.18 | PL: 0.01\n"
     ]
    },
    {
     "name": "stderr",
     "output_type": "stream",
     "text": [
      "2211-ctest4</dreambig/qingyi/image_chicago/data/images/satellite/zoom15/>:  93%|█████████▎| 93400/100000 [11:54:04<1:43:48,  1.06it/s]"
     ]
    },
    {
     "name": "stdout",
     "output_type": "stream",
     "text": [
      "G: -0.03 | D: 1.28 | GP: 0.84 | PL: 0.01\n"
     ]
    },
    {
     "name": "stderr",
     "output_type": "stream",
     "text": [
      "2211-ctest4</dreambig/qingyi/image_chicago/data/images/satellite/zoom15/>:  93%|█████████▎| 93450/100000 [11:54:52<1:43:01,  1.06it/s]"
     ]
    },
    {
     "name": "stdout",
     "output_type": "stream",
     "text": [
      "G: 0.18 | D: 0.98 | GP: 0.31 | PL: 0.01\n"
     ]
    },
    {
     "name": "stderr",
     "output_type": "stream",
     "text": [
      "2211-ctest4</dreambig/qingyi/image_chicago/data/images/satellite/zoom15/>:  94%|█████████▎| 93500/100000 [11:55:38<1:42:14,  1.06it/s]"
     ]
    },
    {
     "name": "stdout",
     "output_type": "stream",
     "text": [
      "G: 0.24 | D: 0.84 | GP: 0.37 | PL: 0.01\n"
     ]
    },
    {
     "name": "stderr",
     "output_type": "stream",
     "text": [
      "2211-ctest4</dreambig/qingyi/image_chicago/data/images/satellite/zoom15/>:  94%|█████████▎| 93550/100000 [11:56:26<1:41:26,  1.06it/s]"
     ]
    },
    {
     "name": "stdout",
     "output_type": "stream",
     "text": [
      "G: 0.63 | D: 0.93 | GP: 0.05 | PL: 0.01\n"
     ]
    },
    {
     "name": "stderr",
     "output_type": "stream",
     "text": [
      "2211-ctest4</dreambig/qingyi/image_chicago/data/images/satellite/zoom15/>:  94%|█████████▎| 93600/100000 [11:57:12<1:40:39,  1.06it/s]"
     ]
    },
    {
     "name": "stdout",
     "output_type": "stream",
     "text": [
      "G: 1.39 | D: 1.17 | GP: 0.23 | PL: 0.01\n"
     ]
    },
    {
     "name": "stderr",
     "output_type": "stream",
     "text": [
      "2211-ctest4</dreambig/qingyi/image_chicago/data/images/satellite/zoom15/>:  94%|█████████▎| 93650/100000 [11:58:00<1:39:52,  1.06it/s]"
     ]
    },
    {
     "name": "stdout",
     "output_type": "stream",
     "text": [
      "G: 0.03 | D: 0.78 | GP: 0.09 | PL: 0.01\n"
     ]
    },
    {
     "name": "stderr",
     "output_type": "stream",
     "text": [
      "2211-ctest4</dreambig/qingyi/image_chicago/data/images/satellite/zoom15/>:  94%|█████████▎| 93700/100000 [11:58:47<1:39:05,  1.06it/s]"
     ]
    },
    {
     "name": "stdout",
     "output_type": "stream",
     "text": [
      "G: 0.20 | D: 1.08 | GP: 1.14 | PL: 0.01\n"
     ]
    },
    {
     "name": "stderr",
     "output_type": "stream",
     "text": [
      "2211-ctest4</dreambig/qingyi/image_chicago/data/images/satellite/zoom15/>:  94%|█████████▍| 93750/100000 [11:59:34<1:38:18,  1.06it/s]"
     ]
    },
    {
     "name": "stdout",
     "output_type": "stream",
     "text": [
      "G: 1.79 | D: 1.00 | GP: 0.05 | PL: 0.01\n"
     ]
    },
    {
     "name": "stderr",
     "output_type": "stream",
     "text": [
      "2211-ctest4</dreambig/qingyi/image_chicago/data/images/satellite/zoom15/>:  94%|█████████▍| 93800/100000 [12:00:21<1:37:30,  1.06it/s]"
     ]
    },
    {
     "name": "stdout",
     "output_type": "stream",
     "text": [
      "G: 0.26 | D: 0.93 | GP: 0.09 | PL: 0.01\n"
     ]
    },
    {
     "name": "stderr",
     "output_type": "stream",
     "text": [
      "2211-ctest4</dreambig/qingyi/image_chicago/data/images/satellite/zoom15/>:  94%|█████████▍| 93850/100000 [12:01:08<1:36:43,  1.06it/s]"
     ]
    },
    {
     "name": "stdout",
     "output_type": "stream",
     "text": [
      "G: 0.56 | D: 0.88 | GP: 0.69 | PL: 0.01\n"
     ]
    },
    {
     "name": "stderr",
     "output_type": "stream",
     "text": [
      "2211-ctest4</dreambig/qingyi/image_chicago/data/images/satellite/zoom15/>:  94%|█████████▍| 93900/100000 [12:01:56<1:35:56,  1.06it/s]"
     ]
    },
    {
     "name": "stdout",
     "output_type": "stream",
     "text": [
      "G: 1.72 | D: 1.23 | GP: 0.09 | PL: 0.01\n"
     ]
    },
    {
     "name": "stderr",
     "output_type": "stream",
     "text": [
      "2211-ctest4</dreambig/qingyi/image_chicago/data/images/satellite/zoom15/>:  94%|█████████▍| 93950/100000 [12:02:43<1:35:09,  1.06it/s]"
     ]
    },
    {
     "name": "stdout",
     "output_type": "stream",
     "text": [
      "G: 1.40 | D: 1.27 | GP: 0.19 | PL: 0.01\n"
     ]
    },
    {
     "name": "stderr",
     "output_type": "stream",
     "text": [
      "2211-ctest4</dreambig/qingyi/image_chicago/data/images/satellite/zoom15/>:  94%|█████████▍| 94000/100000 [12:03:31<1:34:22,  1.06it/s]"
     ]
    },
    {
     "name": "stdout",
     "output_type": "stream",
     "text": [
      "G: 0.71 | D: 0.92 | GP: 0.30 | PL: 0.01\n"
     ]
    },
    {
     "name": "stderr",
     "output_type": "stream",
     "text": [
      "2211-ctest4</dreambig/qingyi/image_chicago/data/images/satellite/zoom15/>:  94%|█████████▍| 94050/100000 [12:04:22<1:33:35,  1.06it/s]"
     ]
    },
    {
     "name": "stdout",
     "output_type": "stream",
     "text": [
      "G: 1.51 | D: 0.95 | GP: 0.09 | PL: 0.01\n"
     ]
    },
    {
     "name": "stderr",
     "output_type": "stream",
     "text": [
      "2211-ctest4</dreambig/qingyi/image_chicago/data/images/satellite/zoom15/>:  94%|█████████▍| 94100/100000 [12:05:07<1:32:48,  1.06it/s]"
     ]
    },
    {
     "name": "stdout",
     "output_type": "stream",
     "text": [
      "G: 2.14 | D: 0.93 | GP: 0.08 | PL: 0.01\n"
     ]
    },
    {
     "name": "stderr",
     "output_type": "stream",
     "text": [
      "2211-ctest4</dreambig/qingyi/image_chicago/data/images/satellite/zoom15/>:  94%|█████████▍| 94150/100000 [12:05:56<1:32:01,  1.06it/s]"
     ]
    },
    {
     "name": "stdout",
     "output_type": "stream",
     "text": [
      "G: 1.75 | D: 0.65 | GP: 0.13 | PL: 0.01\n"
     ]
    },
    {
     "name": "stderr",
     "output_type": "stream",
     "text": [
      "2211-ctest4</dreambig/qingyi/image_chicago/data/images/satellite/zoom15/>:  94%|█████████▍| 94200/100000 [12:06:42<1:31:13,  1.06it/s]"
     ]
    },
    {
     "name": "stdout",
     "output_type": "stream",
     "text": [
      "G: 1.59 | D: 1.48 | GP: 0.03 | PL: 0.01\n"
     ]
    },
    {
     "name": "stderr",
     "output_type": "stream",
     "text": [
      "2211-ctest4</dreambig/qingyi/image_chicago/data/images/satellite/zoom15/>:  94%|█████████▍| 94250/100000 [12:07:30<1:30:26,  1.06it/s]"
     ]
    },
    {
     "name": "stdout",
     "output_type": "stream",
     "text": [
      "G: 1.54 | D: 0.91 | GP: 0.03 | PL: 0.01\n"
     ]
    },
    {
     "name": "stderr",
     "output_type": "stream",
     "text": [
      "2211-ctest4</dreambig/qingyi/image_chicago/data/images/satellite/zoom15/>:  94%|█████████▍| 94300/100000 [12:08:16<1:29:39,  1.06it/s]"
     ]
    },
    {
     "name": "stdout",
     "output_type": "stream",
     "text": [
      "G: 0.15 | D: 1.17 | GP: 0.17 | PL: 0.01\n"
     ]
    },
    {
     "name": "stderr",
     "output_type": "stream",
     "text": [
      "2211-ctest4</dreambig/qingyi/image_chicago/data/images/satellite/zoom15/>:  94%|█████████▍| 94350/100000 [12:09:04<1:28:52,  1.06it/s]"
     ]
    },
    {
     "name": "stdout",
     "output_type": "stream",
     "text": [
      "G: 2.34 | D: 1.12 | GP: 0.37 | PL: 0.01\n"
     ]
    },
    {
     "name": "stderr",
     "output_type": "stream",
     "text": [
      "2211-ctest4</dreambig/qingyi/image_chicago/data/images/satellite/zoom15/>:  94%|█████████▍| 94400/100000 [12:09:50<1:28:05,  1.06it/s]"
     ]
    },
    {
     "name": "stdout",
     "output_type": "stream",
     "text": [
      "G: 0.36 | D: 1.02 | GP: 0.25 | PL: 0.01\n"
     ]
    },
    {
     "name": "stderr",
     "output_type": "stream",
     "text": [
      "2211-ctest4</dreambig/qingyi/image_chicago/data/images/satellite/zoom15/>:  94%|█████████▍| 94450/100000 [12:10:38<1:27:17,  1.06it/s]"
     ]
    },
    {
     "name": "stdout",
     "output_type": "stream",
     "text": [
      "G: 1.07 | D: 1.06 | GP: 0.01 | PL: 0.01\n"
     ]
    },
    {
     "name": "stderr",
     "output_type": "stream",
     "text": [
      "2211-ctest4</dreambig/qingyi/image_chicago/data/images/satellite/zoom15/>:  94%|█████████▍| 94500/100000 [12:11:24<1:26:30,  1.06it/s]"
     ]
    },
    {
     "name": "stdout",
     "output_type": "stream",
     "text": [
      "G: 1.36 | D: 0.91 | GP: 0.22 | PL: 0.01\n"
     ]
    },
    {
     "name": "stderr",
     "output_type": "stream",
     "text": [
      "2211-ctest4</dreambig/qingyi/image_chicago/data/images/satellite/zoom15/>:  95%|█████████▍| 94550/100000 [12:12:12<1:25:43,  1.06it/s]"
     ]
    },
    {
     "name": "stdout",
     "output_type": "stream",
     "text": [
      "G: 0.63 | D: 0.59 | GP: 0.11 | PL: 0.01\n"
     ]
    },
    {
     "name": "stderr",
     "output_type": "stream",
     "text": [
      "2211-ctest4</dreambig/qingyi/image_chicago/data/images/satellite/zoom15/>:  95%|█████████▍| 94600/100000 [12:12:59<1:24:56,  1.06it/s]"
     ]
    },
    {
     "name": "stdout",
     "output_type": "stream",
     "text": [
      "G: 0.33 | D: 1.07 | GP: 0.25 | PL: 0.01\n"
     ]
    },
    {
     "name": "stderr",
     "output_type": "stream",
     "text": [
      "2211-ctest4</dreambig/qingyi/image_chicago/data/images/satellite/zoom15/>:  95%|█████████▍| 94650/100000 [12:13:46<1:24:09,  1.06it/s]"
     ]
    },
    {
     "name": "stdout",
     "output_type": "stream",
     "text": [
      "G: 0.97 | D: 0.73 | GP: 0.33 | PL: 0.01\n"
     ]
    },
    {
     "name": "stderr",
     "output_type": "stream",
     "text": [
      "2211-ctest4</dreambig/qingyi/image_chicago/data/images/satellite/zoom15/>:  95%|█████████▍| 94700/100000 [12:14:33<1:23:21,  1.06it/s]"
     ]
    },
    {
     "name": "stdout",
     "output_type": "stream",
     "text": [
      "G: 0.62 | D: 0.66 | GP: 0.24 | PL: 0.01\n"
     ]
    },
    {
     "name": "stderr",
     "output_type": "stream",
     "text": [
      "2211-ctest4</dreambig/qingyi/image_chicago/data/images/satellite/zoom15/>:  95%|█████████▍| 94750/100000 [12:15:21<1:22:34,  1.06it/s]"
     ]
    },
    {
     "name": "stdout",
     "output_type": "stream",
     "text": [
      "G: 0.27 | D: 1.03 | GP: 0.79 | PL: 0.01\n"
     ]
    },
    {
     "name": "stderr",
     "output_type": "stream",
     "text": [
      "2211-ctest4</dreambig/qingyi/image_chicago/data/images/satellite/zoom15/>:  95%|█████████▍| 94800/100000 [12:16:07<1:21:47,  1.06it/s]"
     ]
    },
    {
     "name": "stdout",
     "output_type": "stream",
     "text": [
      "G: 0.71 | D: 1.09 | GP: 0.02 | PL: 0.01\n"
     ]
    },
    {
     "name": "stderr",
     "output_type": "stream",
     "text": [
      "2211-ctest4</dreambig/qingyi/image_chicago/data/images/satellite/zoom15/>:  95%|█████████▍| 94850/100000 [12:16:56<1:21:00,  1.06it/s]"
     ]
    },
    {
     "name": "stdout",
     "output_type": "stream",
     "text": [
      "G: -0.62 | D: 1.03 | GP: 0.30 | PL: 0.01\n"
     ]
    },
    {
     "name": "stderr",
     "output_type": "stream",
     "text": [
      "2211-ctest4</dreambig/qingyi/image_chicago/data/images/satellite/zoom15/>:  95%|█████████▍| 94900/100000 [12:17:42<1:20:13,  1.06it/s]"
     ]
    },
    {
     "name": "stdout",
     "output_type": "stream",
     "text": [
      "G: 0.73 | D: 0.76 | GP: 0.23 | PL: 0.01\n"
     ]
    },
    {
     "name": "stderr",
     "output_type": "stream",
     "text": [
      "2211-ctest4</dreambig/qingyi/image_chicago/data/images/satellite/zoom15/>:  95%|█████████▍| 94950/100000 [12:18:30<1:19:26,  1.06it/s]"
     ]
    },
    {
     "name": "stdout",
     "output_type": "stream",
     "text": [
      "G: 0.45 | D: 0.97 | GP: 0.20 | PL: 0.01\n"
     ]
    },
    {
     "name": "stderr",
     "output_type": "stream",
     "text": [
      "2211-ctest4</dreambig/qingyi/image_chicago/data/images/satellite/zoom15/>:  95%|█████████▌| 95000/100000 [12:19:16<1:18:38,  1.06it/s]"
     ]
    },
    {
     "name": "stdout",
     "output_type": "stream",
     "text": [
      "G: 1.16 | D: 1.06 | GP: 0.27 | PL: 0.01\n"
     ]
    },
    {
     "name": "stderr",
     "output_type": "stream",
     "text": [
      "2211-ctest4</dreambig/qingyi/image_chicago/data/images/satellite/zoom15/>:  95%|█████████▌| 95050/100000 [12:20:07<1:17:51,  1.06it/s]"
     ]
    },
    {
     "name": "stdout",
     "output_type": "stream",
     "text": [
      "G: -0.26 | D: 1.10 | GP: 0.14 | PL: 0.01\n"
     ]
    },
    {
     "name": "stderr",
     "output_type": "stream",
     "text": [
      "2211-ctest4</dreambig/qingyi/image_chicago/data/images/satellite/zoom15/>:  95%|█████████▌| 95100/100000 [12:20:53<1:17:04,  1.06it/s]"
     ]
    },
    {
     "name": "stdout",
     "output_type": "stream",
     "text": [
      "G: 1.41 | D: 1.08 | GP: 1.18 | PL: 0.01\n"
     ]
    },
    {
     "name": "stderr",
     "output_type": "stream",
     "text": [
      "2211-ctest4</dreambig/qingyi/image_chicago/data/images/satellite/zoom15/>:  95%|█████████▌| 95150/100000 [12:21:42<1:16:17,  1.06it/s]"
     ]
    },
    {
     "name": "stdout",
     "output_type": "stream",
     "text": [
      "G: 1.16 | D: 0.74 | GP: 0.07 | PL: 0.01\n"
     ]
    },
    {
     "name": "stderr",
     "output_type": "stream",
     "text": [
      "2211-ctest4</dreambig/qingyi/image_chicago/data/images/satellite/zoom15/>:  95%|█████████▌| 95200/100000 [12:22:28<1:15:30,  1.06it/s]"
     ]
    },
    {
     "name": "stdout",
     "output_type": "stream",
     "text": [
      "G: 1.30 | D: 0.70 | GP: 0.08 | PL: 0.01\n"
     ]
    },
    {
     "name": "stderr",
     "output_type": "stream",
     "text": [
      "2211-ctest4</dreambig/qingyi/image_chicago/data/images/satellite/zoom15/>:  95%|█████████▌| 95250/100000 [12:23:16<1:14:43,  1.06it/s]"
     ]
    },
    {
     "name": "stdout",
     "output_type": "stream",
     "text": [
      "G: 0.62 | D: 0.99 | GP: 0.18 | PL: 0.01\n"
     ]
    },
    {
     "name": "stderr",
     "output_type": "stream",
     "text": [
      "2211-ctest4</dreambig/qingyi/image_chicago/data/images/satellite/zoom15/>:  95%|█████████▌| 95300/100000 [12:24:03<1:13:55,  1.06it/s]"
     ]
    },
    {
     "name": "stdout",
     "output_type": "stream",
     "text": [
      "G: 1.96 | D: 0.73 | GP: 0.16 | PL: 0.01\n"
     ]
    },
    {
     "name": "stderr",
     "output_type": "stream",
     "text": [
      "2211-ctest4</dreambig/qingyi/image_chicago/data/images/satellite/zoom15/>:  95%|█████████▌| 95350/100000 [12:24:50<1:13:08,  1.06it/s]"
     ]
    },
    {
     "name": "stdout",
     "output_type": "stream",
     "text": [
      "G: 0.85 | D: 1.14 | GP: 0.23 | PL: 0.01\n"
     ]
    },
    {
     "name": "stderr",
     "output_type": "stream",
     "text": [
      "2211-ctest4</dreambig/qingyi/image_chicago/data/images/satellite/zoom15/>:  95%|█████████▌| 95400/100000 [12:25:37<1:12:21,  1.06it/s]"
     ]
    },
    {
     "name": "stdout",
     "output_type": "stream",
     "text": [
      "G: 0.94 | D: 0.99 | GP: 0.30 | PL: 0.01\n"
     ]
    },
    {
     "name": "stderr",
     "output_type": "stream",
     "text": [
      "2211-ctest4</dreambig/qingyi/image_chicago/data/images/satellite/zoom15/>:  95%|█████████▌| 95450/100000 [12:26:25<1:11:34,  1.06it/s]"
     ]
    },
    {
     "name": "stdout",
     "output_type": "stream",
     "text": [
      "G: 0.65 | D: 0.86 | GP: 0.09 | PL: 0.01\n"
     ]
    },
    {
     "name": "stderr",
     "output_type": "stream",
     "text": [
      "2211-ctest4</dreambig/qingyi/image_chicago/data/images/satellite/zoom15/>:  96%|█████████▌| 95500/100000 [12:27:12<1:10:47,  1.06it/s]"
     ]
    },
    {
     "name": "stdout",
     "output_type": "stream",
     "text": [
      "G: 0.74 | D: 0.85 | GP: 0.25 | PL: 0.01\n"
     ]
    },
    {
     "name": "stderr",
     "output_type": "stream",
     "text": [
      "2211-ctest4</dreambig/qingyi/image_chicago/data/images/satellite/zoom15/>:  96%|█████████▌| 95550/100000 [12:27:59<1:10:00,  1.06it/s]"
     ]
    },
    {
     "name": "stdout",
     "output_type": "stream",
     "text": [
      "G: -0.56 | D: 1.17 | GP: 0.10 | PL: 0.01\n"
     ]
    },
    {
     "name": "stderr",
     "output_type": "stream",
     "text": [
      "2211-ctest4</dreambig/qingyi/image_chicago/data/images/satellite/zoom15/>:  96%|█████████▌| 95600/100000 [12:28:46<1:09:12,  1.06it/s]"
     ]
    },
    {
     "name": "stdout",
     "output_type": "stream",
     "text": [
      "G: 1.33 | D: 0.98 | GP: 0.49 | PL: 0.01\n"
     ]
    },
    {
     "name": "stderr",
     "output_type": "stream",
     "text": [
      "2211-ctest4</dreambig/qingyi/image_chicago/data/images/satellite/zoom15/>:  96%|█████████▌| 95650/100000 [12:29:34<1:08:25,  1.06it/s]"
     ]
    },
    {
     "name": "stdout",
     "output_type": "stream",
     "text": [
      "G: 0.52 | D: 1.02 | GP: 0.67 | PL: 0.01\n"
     ]
    },
    {
     "name": "stderr",
     "output_type": "stream",
     "text": [
      "2211-ctest4</dreambig/qingyi/image_chicago/data/images/satellite/zoom15/>:  96%|█████████▌| 95700/100000 [12:30:20<1:07:38,  1.06it/s]"
     ]
    },
    {
     "name": "stdout",
     "output_type": "stream",
     "text": [
      "G: 0.61 | D: 1.33 | GP: 0.26 | PL: 0.01\n"
     ]
    },
    {
     "name": "stderr",
     "output_type": "stream",
     "text": [
      "2211-ctest4</dreambig/qingyi/image_chicago/data/images/satellite/zoom15/>:  96%|█████████▌| 95750/100000 [12:31:09<1:06:51,  1.06it/s]"
     ]
    },
    {
     "name": "stdout",
     "output_type": "stream",
     "text": [
      "G: 0.39 | D: 0.84 | GP: 0.18 | PL: 0.01\n"
     ]
    },
    {
     "name": "stderr",
     "output_type": "stream",
     "text": [
      "2211-ctest4</dreambig/qingyi/image_chicago/data/images/satellite/zoom15/>:  96%|█████████▌| 95800/100000 [12:31:55<1:06:04,  1.06it/s]"
     ]
    },
    {
     "name": "stdout",
     "output_type": "stream",
     "text": [
      "G: 0.29 | D: 0.62 | GP: 0.34 | PL: 0.01\n"
     ]
    },
    {
     "name": "stderr",
     "output_type": "stream",
     "text": [
      "2211-ctest4</dreambig/qingyi/image_chicago/data/images/satellite/zoom15/>:  96%|█████████▌| 95850/100000 [12:32:43<1:05:17,  1.06it/s]"
     ]
    },
    {
     "name": "stdout",
     "output_type": "stream",
     "text": [
      "G: 0.52 | D: 1.68 | GP: 2.05 | PL: 0.01\n"
     ]
    },
    {
     "name": "stderr",
     "output_type": "stream",
     "text": [
      "2211-ctest4</dreambig/qingyi/image_chicago/data/images/satellite/zoom15/>:  96%|█████████▌| 95900/100000 [12:33:29<1:04:29,  1.06it/s]"
     ]
    },
    {
     "name": "stdout",
     "output_type": "stream",
     "text": [
      "G: -0.05 | D: 1.20 | GP: 0.04 | PL: 0.01\n"
     ]
    },
    {
     "name": "stderr",
     "output_type": "stream",
     "text": [
      "2211-ctest4</dreambig/qingyi/image_chicago/data/images/satellite/zoom15/>:  96%|█████████▌| 95950/100000 [12:34:17<1:03:42,  1.06it/s]"
     ]
    },
    {
     "name": "stdout",
     "output_type": "stream",
     "text": [
      "G: 1.32 | D: 1.01 | GP: 0.30 | PL: 0.01\n"
     ]
    },
    {
     "name": "stderr",
     "output_type": "stream",
     "text": [
      "2211-ctest4</dreambig/qingyi/image_chicago/data/images/satellite/zoom15/>:  96%|█████████▌| 96000/100000 [12:35:03<1:02:55,  1.06it/s]"
     ]
    },
    {
     "name": "stdout",
     "output_type": "stream",
     "text": [
      "G: 2.08 | D: 0.60 | GP: 0.09 | PL: 0.01\n"
     ]
    },
    {
     "name": "stderr",
     "output_type": "stream",
     "text": [
      "2211-ctest4</dreambig/qingyi/image_chicago/data/images/satellite/zoom15/>:  96%|█████████▌| 96050/100000 [12:35:54<1:02:08,  1.06it/s]"
     ]
    },
    {
     "name": "stdout",
     "output_type": "stream",
     "text": [
      "G: 0.54 | D: 0.97 | GP: 0.27 | PL: 0.01\n"
     ]
    },
    {
     "name": "stderr",
     "output_type": "stream",
     "text": [
      "2211-ctest4</dreambig/qingyi/image_chicago/data/images/satellite/zoom15/>:  96%|█████████▌| 96100/100000 [12:36:41<1:01:21,  1.06it/s]"
     ]
    },
    {
     "name": "stdout",
     "output_type": "stream",
     "text": [
      "G: 1.19 | D: 0.88 | GP: 0.60 | PL: 0.01\n"
     ]
    },
    {
     "name": "stderr",
     "output_type": "stream",
     "text": [
      "2211-ctest4</dreambig/qingyi/image_chicago/data/images/satellite/zoom15/>:  96%|█████████▌| 96150/100000 [12:37:28<1:00:34,  1.06it/s]"
     ]
    },
    {
     "name": "stdout",
     "output_type": "stream",
     "text": [
      "G: -0.09 | D: 0.92 | GP: 0.09 | PL: 0.01\n"
     ]
    },
    {
     "name": "stderr",
     "output_type": "stream",
     "text": [
      "2211-ctest4</dreambig/qingyi/image_chicago/data/images/satellite/zoom15/>:  96%|█████████▌| 96200/100000 [12:38:15<59:46,  1.06it/s]  "
     ]
    },
    {
     "name": "stdout",
     "output_type": "stream",
     "text": [
      "G: 0.01 | D: 1.32 | GP: 0.46 | PL: 0.01\n"
     ]
    },
    {
     "name": "stderr",
     "output_type": "stream",
     "text": [
      "2211-ctest4</dreambig/qingyi/image_chicago/data/images/satellite/zoom15/>:  96%|█████████▋| 96250/100000 [12:39:02<58:59,  1.06it/s]"
     ]
    },
    {
     "name": "stdout",
     "output_type": "stream",
     "text": [
      "G: 0.79 | D: 1.01 | GP: 0.47 | PL: 0.01\n"
     ]
    },
    {
     "name": "stderr",
     "output_type": "stream",
     "text": [
      "2211-ctest4</dreambig/qingyi/image_chicago/data/images/satellite/zoom15/>:  96%|█████████▋| 96300/100000 [12:39:49<58:12,  1.06it/s]"
     ]
    },
    {
     "name": "stdout",
     "output_type": "stream",
     "text": [
      "G: -0.80 | D: 1.53 | GP: 0.08 | PL: 0.01\n"
     ]
    },
    {
     "name": "stderr",
     "output_type": "stream",
     "text": [
      "2211-ctest4</dreambig/qingyi/image_chicago/data/images/satellite/zoom15/>:  96%|█████████▋| 96350/100000 [12:40:37<57:25,  1.06it/s]"
     ]
    },
    {
     "name": "stdout",
     "output_type": "stream",
     "text": [
      "G: 0.54 | D: 0.80 | GP: 0.14 | PL: 0.01\n"
     ]
    },
    {
     "name": "stderr",
     "output_type": "stream",
     "text": [
      "2211-ctest4</dreambig/qingyi/image_chicago/data/images/satellite/zoom15/>:  96%|█████████▋| 96400/100000 [12:41:24<56:37,  1.06it/s]"
     ]
    },
    {
     "name": "stdout",
     "output_type": "stream",
     "text": [
      "G: 2.28 | D: 1.23 | GP: 0.06 | PL: 0.01\n"
     ]
    },
    {
     "name": "stderr",
     "output_type": "stream",
     "text": [
      "2211-ctest4</dreambig/qingyi/image_chicago/data/images/satellite/zoom15/>:  96%|█████████▋| 96450/100000 [12:42:12<55:50,  1.06it/s]"
     ]
    },
    {
     "name": "stdout",
     "output_type": "stream",
     "text": [
      "G: 0.56 | D: 0.97 | GP: 0.24 | PL: 0.01\n"
     ]
    },
    {
     "name": "stderr",
     "output_type": "stream",
     "text": [
      "2211-ctest4</dreambig/qingyi/image_chicago/data/images/satellite/zoom15/>:  96%|█████████▋| 96500/100000 [12:42:58<55:03,  1.06it/s]"
     ]
    },
    {
     "name": "stdout",
     "output_type": "stream",
     "text": [
      "G: 0.31 | D: 0.75 | GP: 0.52 | PL: 0.01\n"
     ]
    },
    {
     "name": "stderr",
     "output_type": "stream",
     "text": [
      "2211-ctest4</dreambig/qingyi/image_chicago/data/images/satellite/zoom15/>:  97%|█████████▋| 96550/100000 [12:43:46<54:16,  1.06it/s]"
     ]
    },
    {
     "name": "stdout",
     "output_type": "stream",
     "text": [
      "G: 1.17 | D: 0.80 | GP: 0.40 | PL: 0.01\n"
     ]
    },
    {
     "name": "stderr",
     "output_type": "stream",
     "text": [
      "2211-ctest4</dreambig/qingyi/image_chicago/data/images/satellite/zoom15/>:  97%|█████████▋| 96600/100000 [12:44:32<53:29,  1.06it/s]"
     ]
    },
    {
     "name": "stdout",
     "output_type": "stream",
     "text": [
      "G: 1.10 | D: 0.85 | GP: 0.05 | PL: 0.01\n"
     ]
    },
    {
     "name": "stderr",
     "output_type": "stream",
     "text": [
      "2211-ctest4</dreambig/qingyi/image_chicago/data/images/satellite/zoom15/>:  97%|█████████▋| 96650/100000 [12:45:19<52:41,  1.06it/s]"
     ]
    },
    {
     "name": "stdout",
     "output_type": "stream",
     "text": [
      "G: 0.27 | D: 1.06 | GP: 0.29 | PL: 0.01\n"
     ]
    },
    {
     "name": "stderr",
     "output_type": "stream",
     "text": [
      "2211-ctest4</dreambig/qingyi/image_chicago/data/images/satellite/zoom15/>:  97%|█████████▋| 96700/100000 [12:46:06<51:54,  1.06it/s]"
     ]
    },
    {
     "name": "stdout",
     "output_type": "stream",
     "text": [
      "G: 0.97 | D: 0.82 | GP: 0.30 | PL: 0.01\n"
     ]
    },
    {
     "name": "stderr",
     "output_type": "stream",
     "text": [
      "2211-ctest4</dreambig/qingyi/image_chicago/data/images/satellite/zoom15/>:  97%|█████████▋| 96750/100000 [12:46:54<51:07,  1.06it/s]"
     ]
    },
    {
     "name": "stdout",
     "output_type": "stream",
     "text": [
      "G: 0.58 | D: 0.88 | GP: 0.04 | PL: 0.01\n"
     ]
    },
    {
     "name": "stderr",
     "output_type": "stream",
     "text": [
      "2211-ctest4</dreambig/qingyi/image_chicago/data/images/satellite/zoom15/>:  97%|█████████▋| 96800/100000 [12:47:39<50:20,  1.06it/s]"
     ]
    },
    {
     "name": "stdout",
     "output_type": "stream",
     "text": [
      "G: 0.81 | D: 1.03 | GP: 0.05 | PL: 0.01\n"
     ]
    },
    {
     "name": "stderr",
     "output_type": "stream",
     "text": [
      "2211-ctest4</dreambig/qingyi/image_chicago/data/images/satellite/zoom15/>:  97%|█████████▋| 96850/100000 [12:48:27<49:33,  1.06it/s]"
     ]
    },
    {
     "name": "stdout",
     "output_type": "stream",
     "text": [
      "G: 0.10 | D: 0.97 | GP: 1.06 | PL: 0.01\n"
     ]
    },
    {
     "name": "stderr",
     "output_type": "stream",
     "text": [
      "2211-ctest4</dreambig/qingyi/image_chicago/data/images/satellite/zoom15/>:  97%|█████████▋| 96900/100000 [12:49:14<48:45,  1.06it/s]"
     ]
    },
    {
     "name": "stdout",
     "output_type": "stream",
     "text": [
      "G: 0.58 | D: 0.83 | GP: 0.56 | PL: 0.01\n"
     ]
    },
    {
     "name": "stderr",
     "output_type": "stream",
     "text": [
      "2211-ctest4</dreambig/qingyi/image_chicago/data/images/satellite/zoom15/>:  97%|█████████▋| 96950/100000 [12:50:02<47:58,  1.06it/s]"
     ]
    },
    {
     "name": "stdout",
     "output_type": "stream",
     "text": [
      "G: 0.97 | D: 0.82 | GP: 0.17 | PL: 0.01\n"
     ]
    },
    {
     "name": "stderr",
     "output_type": "stream",
     "text": [
      "2211-ctest4</dreambig/qingyi/image_chicago/data/images/satellite/zoom15/>:  97%|█████████▋| 97000/100000 [12:50:49<47:11,  1.06it/s]"
     ]
    },
    {
     "name": "stdout",
     "output_type": "stream",
     "text": [
      "G: 1.48 | D: 0.93 | GP: 0.78 | PL: 0.01\n"
     ]
    },
    {
     "name": "stderr",
     "output_type": "stream",
     "text": [
      "2211-ctest4</dreambig/qingyi/image_chicago/data/images/satellite/zoom15/>:  97%|█████████▋| 97050/100000 [12:51:39<46:24,  1.06it/s]"
     ]
    },
    {
     "name": "stdout",
     "output_type": "stream",
     "text": [
      "G: 0.29 | D: 0.93 | GP: 0.16 | PL: 0.01\n"
     ]
    },
    {
     "name": "stderr",
     "output_type": "stream",
     "text": [
      "2211-ctest4</dreambig/qingyi/image_chicago/data/images/satellite/zoom15/>:  97%|█████████▋| 97100/100000 [12:52:25<45:37,  1.06it/s]"
     ]
    },
    {
     "name": "stdout",
     "output_type": "stream",
     "text": [
      "G: 0.42 | D: 0.85 | GP: 0.19 | PL: 0.01\n"
     ]
    },
    {
     "name": "stderr",
     "output_type": "stream",
     "text": [
      "2211-ctest4</dreambig/qingyi/image_chicago/data/images/satellite/zoom15/>:  97%|█████████▋| 97150/100000 [12:53:12<44:50,  1.06it/s]"
     ]
    },
    {
     "name": "stdout",
     "output_type": "stream",
     "text": [
      "G: 0.62 | D: 0.88 | GP: 0.10 | PL: 0.01\n"
     ]
    },
    {
     "name": "stderr",
     "output_type": "stream",
     "text": [
      "2211-ctest4</dreambig/qingyi/image_chicago/data/images/satellite/zoom15/>:  97%|█████████▋| 97200/100000 [12:53:59<44:02,  1.06it/s]"
     ]
    },
    {
     "name": "stdout",
     "output_type": "stream",
     "text": [
      "G: 1.30 | D: 1.09 | GP: 0.57 | PL: 0.01\n"
     ]
    },
    {
     "name": "stderr",
     "output_type": "stream",
     "text": [
      "2211-ctest4</dreambig/qingyi/image_chicago/data/images/satellite/zoom15/>:  97%|█████████▋| 97250/100000 [12:54:47<43:15,  1.06it/s]"
     ]
    },
    {
     "name": "stdout",
     "output_type": "stream",
     "text": [
      "G: 0.96 | D: 1.25 | GP: 0.27 | PL: 0.01\n"
     ]
    },
    {
     "name": "stderr",
     "output_type": "stream",
     "text": [
      "2211-ctest4</dreambig/qingyi/image_chicago/data/images/satellite/zoom15/>:  97%|█████████▋| 97300/100000 [12:55:33<42:28,  1.06it/s]"
     ]
    },
    {
     "name": "stdout",
     "output_type": "stream",
     "text": [
      "G: 1.85 | D: 0.67 | GP: 0.07 | PL: 0.01\n"
     ]
    },
    {
     "name": "stderr",
     "output_type": "stream",
     "text": [
      "2211-ctest4</dreambig/qingyi/image_chicago/data/images/satellite/zoom15/>:  97%|█████████▋| 97350/100000 [12:56:21<41:41,  1.06it/s]"
     ]
    },
    {
     "name": "stdout",
     "output_type": "stream",
     "text": [
      "G: 0.57 | D: 0.88 | GP: 0.79 | PL: 0.01\n"
     ]
    },
    {
     "name": "stderr",
     "output_type": "stream",
     "text": [
      "2211-ctest4</dreambig/qingyi/image_chicago/data/images/satellite/zoom15/>:  97%|█████████▋| 97400/100000 [12:57:07<40:54,  1.06it/s]"
     ]
    },
    {
     "name": "stdout",
     "output_type": "stream",
     "text": [
      "G: 2.54 | D: 1.13 | GP: 0.27 | PL: 0.01\n"
     ]
    },
    {
     "name": "stderr",
     "output_type": "stream",
     "text": [
      "2211-ctest4</dreambig/qingyi/image_chicago/data/images/satellite/zoom15/>:  97%|█████████▋| 97450/100000 [12:57:55<40:06,  1.06it/s]"
     ]
    },
    {
     "name": "stdout",
     "output_type": "stream",
     "text": [
      "G: 0.36 | D: 0.89 | GP: 0.08 | PL: 0.01\n"
     ]
    },
    {
     "name": "stderr",
     "output_type": "stream",
     "text": [
      "2211-ctest4</dreambig/qingyi/image_chicago/data/images/satellite/zoom15/>:  98%|█████████▊| 97500/100000 [12:58:42<39:19,  1.06it/s]"
     ]
    },
    {
     "name": "stdout",
     "output_type": "stream",
     "text": [
      "G: 0.53 | D: 0.58 | GP: 0.24 | PL: 0.01\n"
     ]
    },
    {
     "name": "stderr",
     "output_type": "stream",
     "text": [
      "2211-ctest4</dreambig/qingyi/image_chicago/data/images/satellite/zoom15/>:  98%|█████████▊| 97550/100000 [12:59:30<38:32,  1.06it/s]"
     ]
    },
    {
     "name": "stdout",
     "output_type": "stream",
     "text": [
      "G: 1.23 | D: 0.98 | GP: 0.07 | PL: 0.01\n"
     ]
    },
    {
     "name": "stderr",
     "output_type": "stream",
     "text": [
      "2211-ctest4</dreambig/qingyi/image_chicago/data/images/satellite/zoom15/>:  98%|█████████▊| 97600/100000 [13:00:16<37:45,  1.06it/s]"
     ]
    },
    {
     "name": "stdout",
     "output_type": "stream",
     "text": [
      "G: 1.32 | D: 1.21 | GP: 0.08 | PL: 0.01\n"
     ]
    },
    {
     "name": "stderr",
     "output_type": "stream",
     "text": [
      "2211-ctest4</dreambig/qingyi/image_chicago/data/images/satellite/zoom15/>:  98%|█████████▊| 97650/100000 [13:01:05<36:58,  1.06it/s]"
     ]
    },
    {
     "name": "stdout",
     "output_type": "stream",
     "text": [
      "G: 0.68 | D: 0.93 | GP: 0.13 | PL: 0.01\n"
     ]
    },
    {
     "name": "stderr",
     "output_type": "stream",
     "text": [
      "2211-ctest4</dreambig/qingyi/image_chicago/data/images/satellite/zoom15/>:  98%|█████████▊| 97700/100000 [13:01:52<36:10,  1.06it/s]"
     ]
    },
    {
     "name": "stdout",
     "output_type": "stream",
     "text": [
      "G: 0.47 | D: 0.83 | GP: 0.07 | PL: 0.01\n"
     ]
    },
    {
     "name": "stderr",
     "output_type": "stream",
     "text": [
      "2211-ctest4</dreambig/qingyi/image_chicago/data/images/satellite/zoom15/>:  98%|█████████▊| 97750/100000 [13:02:39<35:23,  1.06it/s]"
     ]
    },
    {
     "name": "stdout",
     "output_type": "stream",
     "text": [
      "G: 0.40 | D: 1.29 | GP: 0.65 | PL: 0.01\n"
     ]
    },
    {
     "name": "stderr",
     "output_type": "stream",
     "text": [
      "2211-ctest4</dreambig/qingyi/image_chicago/data/images/satellite/zoom15/>:  98%|█████████▊| 97800/100000 [13:03:26<34:36,  1.06it/s]"
     ]
    },
    {
     "name": "stdout",
     "output_type": "stream",
     "text": [
      "G: 0.32 | D: 1.47 | GP: 0.17 | PL: 0.01\n"
     ]
    },
    {
     "name": "stderr",
     "output_type": "stream",
     "text": [
      "2211-ctest4</dreambig/qingyi/image_chicago/data/images/satellite/zoom15/>:  98%|█████████▊| 97850/100000 [13:04:13<33:49,  1.06it/s]"
     ]
    },
    {
     "name": "stdout",
     "output_type": "stream",
     "text": [
      "G: 0.47 | D: 0.94 | GP: 0.48 | PL: 0.01\n"
     ]
    },
    {
     "name": "stderr",
     "output_type": "stream",
     "text": [
      "2211-ctest4</dreambig/qingyi/image_chicago/data/images/satellite/zoom15/>:  98%|█████████▊| 97900/100000 [13:05:00<33:02,  1.06it/s]"
     ]
    },
    {
     "name": "stdout",
     "output_type": "stream",
     "text": [
      "G: 1.17 | D: 1.45 | GP: 0.59 | PL: 0.01\n"
     ]
    },
    {
     "name": "stderr",
     "output_type": "stream",
     "text": [
      "2211-ctest4</dreambig/qingyi/image_chicago/data/images/satellite/zoom15/>:  98%|█████████▊| 97950/100000 [13:05:47<32:14,  1.06it/s]"
     ]
    },
    {
     "name": "stdout",
     "output_type": "stream",
     "text": [
      "G: 0.73 | D: 0.64 | GP: 0.33 | PL: 0.01\n"
     ]
    },
    {
     "name": "stderr",
     "output_type": "stream",
     "text": [
      "2211-ctest4</dreambig/qingyi/image_chicago/data/images/satellite/zoom15/>:  98%|█████████▊| 98000/100000 [13:06:33<31:27,  1.06it/s]"
     ]
    },
    {
     "name": "stdout",
     "output_type": "stream",
     "text": [
      "G: -0.10 | D: 1.02 | GP: 0.93 | PL: 0.01\n"
     ]
    },
    {
     "name": "stderr",
     "output_type": "stream",
     "text": [
      "2211-ctest4</dreambig/qingyi/image_chicago/data/images/satellite/zoom15/>:  98%|█████████▊| 98050/100000 [13:07:23<30:40,  1.06it/s]"
     ]
    },
    {
     "name": "stdout",
     "output_type": "stream",
     "text": [
      "G: 0.06 | D: 0.95 | GP: 0.02 | PL: 0.01\n"
     ]
    },
    {
     "name": "stderr",
     "output_type": "stream",
     "text": [
      "2211-ctest4</dreambig/qingyi/image_chicago/data/images/satellite/zoom15/>:  98%|█████████▊| 98100/100000 [13:08:10<29:53,  1.06it/s]"
     ]
    },
    {
     "name": "stdout",
     "output_type": "stream",
     "text": [
      "G: 0.70 | D: 1.18 | GP: 0.13 | PL: 0.01\n"
     ]
    },
    {
     "name": "stderr",
     "output_type": "stream",
     "text": [
      "2211-ctest4</dreambig/qingyi/image_chicago/data/images/satellite/zoom15/>:  98%|█████████▊| 98150/100000 [13:08:58<29:06,  1.06it/s]"
     ]
    },
    {
     "name": "stdout",
     "output_type": "stream",
     "text": [
      "G: 0.81 | D: 0.95 | GP: 0.25 | PL: 0.01\n"
     ]
    },
    {
     "name": "stderr",
     "output_type": "stream",
     "text": [
      "2211-ctest4</dreambig/qingyi/image_chicago/data/images/satellite/zoom15/>:  98%|█████████▊| 98200/100000 [13:09:44<28:19,  1.06it/s]"
     ]
    },
    {
     "name": "stdout",
     "output_type": "stream",
     "text": [
      "G: 1.66 | D: 0.75 | GP: 0.80 | PL: 0.01\n"
     ]
    },
    {
     "name": "stderr",
     "output_type": "stream",
     "text": [
      "2211-ctest4</dreambig/qingyi/image_chicago/data/images/satellite/zoom15/>:  98%|█████████▊| 98250/100000 [13:10:32<27:31,  1.06it/s]"
     ]
    },
    {
     "name": "stdout",
     "output_type": "stream",
     "text": [
      "G: 0.45 | D: 1.37 | GP: 0.27 | PL: 0.01\n"
     ]
    },
    {
     "name": "stderr",
     "output_type": "stream",
     "text": [
      "2211-ctest4</dreambig/qingyi/image_chicago/data/images/satellite/zoom15/>:  98%|█████████▊| 98300/100000 [13:11:18<26:44,  1.06it/s]"
     ]
    },
    {
     "name": "stdout",
     "output_type": "stream",
     "text": [
      "G: 1.13 | D: 0.96 | GP: 0.45 | PL: 0.01\n"
     ]
    },
    {
     "name": "stderr",
     "output_type": "stream",
     "text": [
      "2211-ctest4</dreambig/qingyi/image_chicago/data/images/satellite/zoom15/>:  98%|█████████▊| 98350/100000 [13:12:06<25:57,  1.06it/s]"
     ]
    },
    {
     "name": "stdout",
     "output_type": "stream",
     "text": [
      "G: 0.87 | D: 1.13 | GP: 0.07 | PL: 0.01\n"
     ]
    },
    {
     "name": "stderr",
     "output_type": "stream",
     "text": [
      "2211-ctest4</dreambig/qingyi/image_chicago/data/images/satellite/zoom15/>:  98%|█████████▊| 98400/100000 [13:12:53<25:10,  1.06it/s]"
     ]
    },
    {
     "name": "stdout",
     "output_type": "stream",
     "text": [
      "G: 0.90 | D: 0.64 | GP: 0.28 | PL: 0.01\n"
     ]
    },
    {
     "name": "stderr",
     "output_type": "stream",
     "text": [
      "2211-ctest4</dreambig/qingyi/image_chicago/data/images/satellite/zoom15/>:  98%|█████████▊| 98450/100000 [13:13:40<24:23,  1.06it/s]"
     ]
    },
    {
     "name": "stdout",
     "output_type": "stream",
     "text": [
      "G: 1.15 | D: 0.80 | GP: 0.13 | PL: 0.01\n"
     ]
    },
    {
     "name": "stderr",
     "output_type": "stream",
     "text": [
      "2211-ctest4</dreambig/qingyi/image_chicago/data/images/satellite/zoom15/>:  98%|█████████▊| 98500/100000 [13:14:27<23:35,  1.06it/s]"
     ]
    },
    {
     "name": "stdout",
     "output_type": "stream",
     "text": [
      "G: -0.19 | D: 0.88 | GP: 1.24 | PL: 0.01\n"
     ]
    },
    {
     "name": "stderr",
     "output_type": "stream",
     "text": [
      "2211-ctest4</dreambig/qingyi/image_chicago/data/images/satellite/zoom15/>:  99%|█████████▊| 98550/100000 [13:15:15<22:48,  1.06it/s]"
     ]
    },
    {
     "name": "stdout",
     "output_type": "stream",
     "text": [
      "G: 2.64 | D: 0.96 | GP: 0.10 | PL: 0.01\n"
     ]
    },
    {
     "name": "stderr",
     "output_type": "stream",
     "text": [
      "2211-ctest4</dreambig/qingyi/image_chicago/data/images/satellite/zoom15/>:  99%|█████████▊| 98600/100000 [13:16:02<22:01,  1.06it/s]"
     ]
    },
    {
     "name": "stdout",
     "output_type": "stream",
     "text": [
      "G: 0.64 | D: 1.18 | GP: 1.92 | PL: 0.01\n"
     ]
    },
    {
     "name": "stderr",
     "output_type": "stream",
     "text": [
      "2211-ctest4</dreambig/qingyi/image_chicago/data/images/satellite/zoom15/>:  99%|█████████▊| 98650/100000 [13:16:49<21:14,  1.06it/s]"
     ]
    },
    {
     "name": "stdout",
     "output_type": "stream",
     "text": [
      "G: -0.53 | D: 1.25 | GP: 0.66 | PL: 0.01\n"
     ]
    },
    {
     "name": "stderr",
     "output_type": "stream",
     "text": [
      "2211-ctest4</dreambig/qingyi/image_chicago/data/images/satellite/zoom15/>:  99%|█████████▊| 98700/100000 [13:17:37<20:27,  1.06it/s]"
     ]
    },
    {
     "name": "stdout",
     "output_type": "stream",
     "text": [
      "G: 1.63 | D: 0.81 | GP: 0.61 | PL: 0.01\n"
     ]
    },
    {
     "name": "stderr",
     "output_type": "stream",
     "text": [
      "2211-ctest4</dreambig/qingyi/image_chicago/data/images/satellite/zoom15/>:  99%|█████████▉| 98750/100000 [13:18:24<19:39,  1.06it/s]"
     ]
    },
    {
     "name": "stdout",
     "output_type": "stream",
     "text": [
      "G: 0.97 | D: 0.88 | GP: 0.32 | PL: 0.01\n"
     ]
    },
    {
     "name": "stderr",
     "output_type": "stream",
     "text": [
      "2211-ctest4</dreambig/qingyi/image_chicago/data/images/satellite/zoom15/>:  99%|█████████▉| 98800/100000 [13:19:11<18:52,  1.06it/s]"
     ]
    },
    {
     "name": "stdout",
     "output_type": "stream",
     "text": [
      "G: -0.76 | D: 0.79 | GP: 0.02 | PL: 0.01\n"
     ]
    },
    {
     "name": "stderr",
     "output_type": "stream",
     "text": [
      "2211-ctest4</dreambig/qingyi/image_chicago/data/images/satellite/zoom15/>:  99%|█████████▉| 98850/100000 [13:19:59<18:05,  1.06it/s]"
     ]
    },
    {
     "name": "stdout",
     "output_type": "stream",
     "text": [
      "G: 0.81 | D: 0.83 | GP: 0.26 | PL: 0.01\n"
     ]
    },
    {
     "name": "stderr",
     "output_type": "stream",
     "text": [
      "2211-ctest4</dreambig/qingyi/image_chicago/data/images/satellite/zoom15/>:  99%|█████████▉| 98900/100000 [13:20:45<17:18,  1.06it/s]"
     ]
    },
    {
     "name": "stdout",
     "output_type": "stream",
     "text": [
      "G: 0.17 | D: 0.76 | GP: 0.21 | PL: 0.01\n"
     ]
    },
    {
     "name": "stderr",
     "output_type": "stream",
     "text": [
      "2211-ctest4</dreambig/qingyi/image_chicago/data/images/satellite/zoom15/>:  99%|█████████▉| 98950/100000 [13:21:33<16:31,  1.06it/s]"
     ]
    },
    {
     "name": "stdout",
     "output_type": "stream",
     "text": [
      "G: -0.72 | D: 1.11 | GP: 0.04 | PL: 0.01\n"
     ]
    },
    {
     "name": "stderr",
     "output_type": "stream",
     "text": [
      "2211-ctest4</dreambig/qingyi/image_chicago/data/images/satellite/zoom15/>:  99%|█████████▉| 99000/100000 [13:22:19<15:43,  1.06it/s]"
     ]
    },
    {
     "name": "stdout",
     "output_type": "stream",
     "text": [
      "G: 0.46 | D: 0.71 | GP: 0.13 | PL: 0.01\n"
     ]
    },
    {
     "name": "stderr",
     "output_type": "stream",
     "text": [
      "2211-ctest4</dreambig/qingyi/image_chicago/data/images/satellite/zoom15/>:  99%|█████████▉| 99050/100000 [13:23:10<14:56,  1.06it/s]"
     ]
    },
    {
     "name": "stdout",
     "output_type": "stream",
     "text": [
      "G: -0.21 | D: 1.14 | GP: 0.59 | PL: 0.01\n"
     ]
    },
    {
     "name": "stderr",
     "output_type": "stream",
     "text": [
      "2211-ctest4</dreambig/qingyi/image_chicago/data/images/satellite/zoom15/>:  99%|█████████▉| 99100/100000 [13:23:56<14:09,  1.06it/s]"
     ]
    },
    {
     "name": "stdout",
     "output_type": "stream",
     "text": [
      "G: 1.46 | D: 1.31 | GP: 0.42 | PL: 0.01\n"
     ]
    },
    {
     "name": "stderr",
     "output_type": "stream",
     "text": [
      "2211-ctest4</dreambig/qingyi/image_chicago/data/images/satellite/zoom15/>:  99%|█████████▉| 99150/100000 [13:24:44<13:22,  1.06it/s]"
     ]
    },
    {
     "name": "stdout",
     "output_type": "stream",
     "text": [
      "G: 0.19 | D: 0.98 | GP: 0.04 | PL: 0.01\n"
     ]
    },
    {
     "name": "stderr",
     "output_type": "stream",
     "text": [
      "2211-ctest4</dreambig/qingyi/image_chicago/data/images/satellite/zoom15/>:  99%|█████████▉| 99200/100000 [13:25:30<12:35,  1.06it/s]"
     ]
    },
    {
     "name": "stdout",
     "output_type": "stream",
     "text": [
      "G: 0.55 | D: 0.88 | GP: 0.04 | PL: 0.01\n"
     ]
    },
    {
     "name": "stderr",
     "output_type": "stream",
     "text": [
      "2211-ctest4</dreambig/qingyi/image_chicago/data/images/satellite/zoom15/>:  99%|█████████▉| 99250/100000 [13:26:18<11:47,  1.06it/s]"
     ]
    },
    {
     "name": "stdout",
     "output_type": "stream",
     "text": [
      "G: 0.33 | D: 0.85 | GP: 0.23 | PL: 0.01\n"
     ]
    },
    {
     "name": "stderr",
     "output_type": "stream",
     "text": [
      "2211-ctest4</dreambig/qingyi/image_chicago/data/images/satellite/zoom15/>:  99%|█████████▉| 99300/100000 [13:27:06<11:00,  1.06it/s]"
     ]
    },
    {
     "name": "stdout",
     "output_type": "stream",
     "text": [
      "G: 0.77 | D: 1.20 | GP: 4.54 | PL: 0.01\n"
     ]
    },
    {
     "name": "stderr",
     "output_type": "stream",
     "text": [
      "2211-ctest4</dreambig/qingyi/image_chicago/data/images/satellite/zoom15/>:  99%|█████████▉| 99350/100000 [13:27:53<10:13,  1.06it/s]"
     ]
    },
    {
     "name": "stdout",
     "output_type": "stream",
     "text": [
      "G: 0.87 | D: 1.09 | GP: 0.49 | PL: 0.01\n"
     ]
    },
    {
     "name": "stderr",
     "output_type": "stream",
     "text": [
      "2211-ctest4</dreambig/qingyi/image_chicago/data/images/satellite/zoom15/>:  99%|█████████▉| 99400/100000 [13:28:40<09:26,  1.06it/s]"
     ]
    },
    {
     "name": "stdout",
     "output_type": "stream",
     "text": [
      "G: 0.36 | D: 0.88 | GP: 0.10 | PL: 0.01\n"
     ]
    },
    {
     "name": "stderr",
     "output_type": "stream",
     "text": [
      "2211-ctest4</dreambig/qingyi/image_chicago/data/images/satellite/zoom15/>:  99%|█████████▉| 99450/100000 [13:29:28<08:39,  1.06it/s]"
     ]
    },
    {
     "name": "stdout",
     "output_type": "stream",
     "text": [
      "G: 1.54 | D: 0.96 | GP: 0.33 | PL: 0.01\n"
     ]
    },
    {
     "name": "stderr",
     "output_type": "stream",
     "text": [
      "2211-ctest4</dreambig/qingyi/image_chicago/data/images/satellite/zoom15/>: 100%|█████████▉| 99500/100000 [13:30:15<07:51,  1.06it/s]"
     ]
    },
    {
     "name": "stdout",
     "output_type": "stream",
     "text": [
      "G: 1.31 | D: 1.00 | GP: 0.37 | PL: 0.01\n"
     ]
    },
    {
     "name": "stderr",
     "output_type": "stream",
     "text": [
      "2211-ctest4</dreambig/qingyi/image_chicago/data/images/satellite/zoom15/>: 100%|█████████▉| 99550/100000 [13:31:02<07:04,  1.06it/s]"
     ]
    },
    {
     "name": "stdout",
     "output_type": "stream",
     "text": [
      "G: 0.34 | D: 1.00 | GP: 0.69 | PL: 0.01\n"
     ]
    },
    {
     "name": "stderr",
     "output_type": "stream",
     "text": [
      "2211-ctest4</dreambig/qingyi/image_chicago/data/images/satellite/zoom15/>: 100%|█████████▉| 99600/100000 [13:31:49<06:17,  1.06it/s]"
     ]
    },
    {
     "name": "stdout",
     "output_type": "stream",
     "text": [
      "G: 1.72 | D: 1.11 | GP: 0.15 | PL: 0.01\n"
     ]
    },
    {
     "name": "stderr",
     "output_type": "stream",
     "text": [
      "2211-ctest4</dreambig/qingyi/image_chicago/data/images/satellite/zoom15/>: 100%|█████████▉| 99650/100000 [13:32:37<05:30,  1.06it/s]"
     ]
    },
    {
     "name": "stdout",
     "output_type": "stream",
     "text": [
      "G: 1.05 | D: 1.02 | GP: 0.12 | PL: 0.01\n"
     ]
    },
    {
     "name": "stderr",
     "output_type": "stream",
     "text": [
      "2211-ctest4</dreambig/qingyi/image_chicago/data/images/satellite/zoom15/>: 100%|█████████▉| 99700/100000 [13:33:23<04:43,  1.06it/s]"
     ]
    },
    {
     "name": "stdout",
     "output_type": "stream",
     "text": [
      "G: 1.15 | D: 0.85 | GP: 0.06 | PL: 0.01\n"
     ]
    },
    {
     "name": "stderr",
     "output_type": "stream",
     "text": [
      "2211-ctest4</dreambig/qingyi/image_chicago/data/images/satellite/zoom15/>: 100%|█████████▉| 99750/100000 [13:34:11<03:55,  1.06it/s]"
     ]
    },
    {
     "name": "stdout",
     "output_type": "stream",
     "text": [
      "G: 1.16 | D: 1.18 | GP: 0.08 | PL: 0.01\n"
     ]
    },
    {
     "name": "stderr",
     "output_type": "stream",
     "text": [
      "2211-ctest4</dreambig/qingyi/image_chicago/data/images/satellite/zoom15/>: 100%|█████████▉| 99800/100000 [13:34:57<03:08,  1.06it/s]"
     ]
    },
    {
     "name": "stdout",
     "output_type": "stream",
     "text": [
      "G: 3.17 | D: 0.91 | GP: 0.06 | PL: 0.01\n"
     ]
    },
    {
     "name": "stderr",
     "output_type": "stream",
     "text": [
      "2211-ctest4</dreambig/qingyi/image_chicago/data/images/satellite/zoom15/>: 100%|█████████▉| 99850/100000 [13:35:46<02:21,  1.06it/s]"
     ]
    },
    {
     "name": "stdout",
     "output_type": "stream",
     "text": [
      "G: 0.78 | D: 1.34 | GP: 1.51 | PL: 0.01\n"
     ]
    },
    {
     "name": "stderr",
     "output_type": "stream",
     "text": [
      "2211-ctest4</dreambig/qingyi/image_chicago/data/images/satellite/zoom15/>: 100%|█████████▉| 99900/100000 [13:36:32<01:34,  1.06it/s]"
     ]
    },
    {
     "name": "stdout",
     "output_type": "stream",
     "text": [
      "G: -0.02 | D: 0.85 | GP: 0.54 | PL: 0.01\n"
     ]
    },
    {
     "name": "stderr",
     "output_type": "stream",
     "text": [
      "2211-ctest4</dreambig/qingyi/image_chicago/data/images/satellite/zoom15/>: 100%|█████████▉| 99950/100000 [13:37:19<00:47,  1.06it/s]"
     ]
    },
    {
     "name": "stdout",
     "output_type": "stream",
     "text": [
      "G: 0.83 | D: 1.36 | GP: 0.09 | PL: 0.01\n"
     ]
    },
    {
     "name": "stderr",
     "output_type": "stream",
     "text": [
      "2211-ctest4</dreambig/qingyi/image_chicago/data/images/satellite/zoom15/>: 100%|██████████| 100000/100000 [13:38:05<00:00,  1.06it/s]"
     ]
    },
    {
     "name": "stdout",
     "output_type": "stream",
     "text": [
      "G: 1.10 | D: 1.21 | GP: 0.04 | PL: 0.01\n"
     ]
    },
    {
     "name": "stderr",
     "output_type": "stream",
     "text": [
      "2211-ctest4</dreambig/qingyi/image_chicago/data/images/satellite/zoom15/>: 100%|██████████| 100000/100000 [13:38:05<00:00,  1.06it/s]\n"
     ]
    }
   ],
   "source": [
    "rank = 1\n",
    "world_size = 1\n",
    "\n",
    "run_training(rank, world_size, model_args, data, load_from, new, num_train_steps, name, seed)"
   ]
  },
  {
   "cell_type": "code",
   "execution_count": null,
   "id": "d9b35980",
   "metadata": {},
   "outputs": [],
   "source": []
  }
 ],
 "metadata": {
  "kernelspec": {
   "display_name": "qingyi",
   "language": "python",
   "name": "qingyi"
  },
  "language_info": {
   "codemirror_mode": {
    "name": "ipython",
    "version": 3
   },
   "file_extension": ".py",
   "mimetype": "text/x-python",
   "name": "python",
   "nbconvert_exporter": "python",
   "pygments_lexer": "ipython3",
   "version": "3.8.3"
  }
 },
 "nbformat": 4,
 "nbformat_minor": 5
}
