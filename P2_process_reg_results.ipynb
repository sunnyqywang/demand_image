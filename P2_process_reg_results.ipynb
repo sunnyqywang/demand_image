{
 "cells": [
  {
   "cell_type": "code",
   "execution_count": 2,
   "id": "744b9879",
   "metadata": {},
   "outputs": [],
   "source": [
    "import numpy as np\n",
    "import pandas as pd\n",
    "from setup import *"
   ]
  },
  {
   "cell_type": "code",
   "execution_count": 35,
   "id": "7c64c043",
   "metadata": {},
   "outputs": [],
   "source": [
    "results = pd.read_csv(out_dir+\"regression_results.csv\")"
   ]
  },
  {
   "cell_type": "code",
   "execution_count": 36,
   "id": "c9a7ccb8",
   "metadata": {},
   "outputs": [],
   "source": [
    "results_filtered = results.copy()\n",
    "model_filter = {\"reg_type\":[\"ridge\"]}\n",
    "for k,v in model_filter.items():\n",
    "    results_filtered = results_filtered[results_filtered[k].isin(v)]"
   ]
  },
  {
   "cell_type": "code",
   "execution_count": 37,
   "id": "e8db2bd8",
   "metadata": {},
   "outputs": [
    {
     "name": "stdout",
     "output_type": "stream",
     "text": [
      "    model        variable reg_type input_type  lambda  test_r2    date\n",
      "76   demo      auto_share    ridge       demo  1.6667   0.5630  211021\n",
      "326    AE      auto_share    ridge     zoom13  0.0100   0.4866  211021\n",
      "788   SAE      auto_share    ridge     zoom13  0.0100   0.5681  211111\n",
      "53    SAE      auto_share    ridge     zoom13  0.0100   0.6077  211021\n",
      "473    AE      auto_share    ridge     zoom15  0.0100   0.4643  211110\n",
      "622   SAE      auto_share    ridge     zoom15  0.0300   0.5655  211110\n",
      "284  demo  inc_per_capita    ridge       demo  1.0000   0.7851  211021\n",
      "431    AE  inc_per_capita    ridge     zoom13  0.0100   0.3318  211021\n",
      "272   SAE  inc_per_capita    ridge     zoom13  0.1000   0.7241  211021\n",
      "578    AE  inc_per_capita    ridge     zoom15  0.0100   0.2747  211110\n",
      "725   SAE  inc_per_capita    ridge     zoom15  0.0100   0.5299  211110\n",
      "242  demo    pctPTcommute    ridge       demo  1.0000   0.7562  211021\n",
      "410    AE    pctPTcommute    ridge     zoom13  0.0100   0.6049  211021\n",
      "230   SAE    pctPTcommute    ridge     zoom13  0.1000   0.7830  211021\n",
      "557    AE    pctPTcommute    ridge     zoom15  0.0100   0.5767  211110\n",
      "704   SAE    pctPTcommute    ridge     zoom15  0.0100   0.7293  211110\n",
      "200  demo    pct_col_grad    ridge       demo  1.0000   0.7725  211021\n",
      "389    AE    pct_col_grad    ridge     zoom13  0.0100   0.2172  211021\n",
      "184   SAE    pct_col_grad    ridge     zoom13  0.0600   0.5919  211021\n",
      "536    AE    pct_col_grad    ridge     zoom15  0.0100   0.2375  211110\n",
      "683   SAE    pct_col_grad    ridge     zoom15  0.0100   0.5401  211110\n",
      "158  demo    pctover65yrs    ridge       demo  1.0000   0.3589  211021\n",
      "368    AE    pctover65yrs    ridge     zoom13  0.0100   0.1186  211021\n",
      "146   SAE    pctover65yrs    ridge     zoom13  0.1000   0.2457  211021\n",
      "515    AE    pctover65yrs    ridge     zoom15  0.0100   0.1010  211110\n",
      "663   SAE    pctover65yrs    ridge     zoom15  0.0200   0.2055  211110\n",
      "125  demo  tot_population    ridge       demo  4.0000   0.2259  211021\n",
      "347    AE  tot_population    ridge     zoom13  0.0100   0.0537  211021\n",
      "809   SAE  tot_population    ridge     zoom13  0.0100   0.1400  211111\n",
      "104   SAE  tot_population    ridge     zoom13  0.1000   0.1714  211021\n",
      "494    AE  tot_population    ridge     zoom15  0.0100   0.0650  211110\n",
      "650   SAE  tot_population    ridge     zoom15  0.1000   0.1613  211110\n",
      "41   demo         trp_gen    ridge       demo  4.0000   0.2032  211021\n",
      "305    AE         trp_gen    ridge     zoom13  0.0100  -0.0005  211021\n",
      "20    SAE         trp_gen    ridge     zoom13  0.1000  -0.2327  211021\n",
      "767   SAE         trp_gen    ridge     zoom13  0.0100   0.0090  211111\n",
      "746   SAE         trp_gen    ridge     zoom13  0.0100   0.3041  211110\n",
      "452    AE         trp_gen    ridge     zoom15  0.0100  -0.0059  211110\n",
      "599   SAE         trp_gen    ridge     zoom15  0.0100   0.1973  211110\n"
     ]
    }
   ],
   "source": [
    "results_filtered = results_filtered.sort_values(by=\"test_r2\", ascending=True)\n",
    "temp = results_filtered.drop_duplicates([\"model\",\"variable\",\"reg_type\",\"input_type\",\"date\"], keep='last')\n",
    "temp = temp.sort_values(by=['variable','input_type','model'])\n",
    "temp = temp[[\"model\",\"variable\",\"reg_type\",\"input_type\",\"lambda\",\"test_r2\",\"date\"]]\n",
    "print(temp)"
   ]
  },
  {
   "cell_type": "code",
   "execution_count": 28,
   "id": "cf92a046",
   "metadata": {},
   "outputs": [],
   "source": [
    "temp.to_csv(out_dir+\"processed_results.csv\", index=False)"
   ]
  },
  {
   "cell_type": "code",
   "execution_count": null,
   "id": "2bc2d6d9",
   "metadata": {},
   "outputs": [],
   "source": []
  }
 ],
 "metadata": {
  "kernelspec": {
   "display_name": "Python 3",
   "language": "python",
   "name": "python3"
  },
  "language_info": {
   "codemirror_mode": {
    "name": "ipython",
    "version": 3
   },
   "file_extension": ".py",
   "mimetype": "text/x-python",
   "name": "python",
   "nbconvert_exporter": "python",
   "pygments_lexer": "ipython3",
   "version": "3.7.4"
  }
 },
 "nbformat": 4,
 "nbformat_minor": 5
}
