{
 "cells": [
  {
   "cell_type": "code",
   "execution_count": 22,
   "id": "744b9879",
   "metadata": {},
   "outputs": [],
   "source": [
    "import matplotlib.pyplot as plt\n",
    "import numpy as np\n",
    "import pandas as pd\n",
    "from setup import *"
   ]
  },
  {
   "cell_type": "code",
   "execution_count": 2,
   "id": "7c64c043",
   "metadata": {},
   "outputs": [],
   "source": [
    "model_type = 'SAE'\n",
    "load_model_name = 'Autoencoder'\n",
    "load_model_file = 'sae'\n",
    "model_code = 'M1_A1'\n",
    "sampling = 's'\n",
    "\n",
    "zoomlevel = 'zoom13'\n",
    "output_dim = 3\n",
    "model_run_date = '22021404'"
   ]
  },
  {
   "cell_type": "code",
   "execution_count": 12,
   "id": "12f907ce",
   "metadata": {},
   "outputs": [],
   "source": [
    "result = pd.read_csv(out_dir+sampling+\"_\"+model_code+\"_mode_choice.csv\")"
   ]
  },
  {
   "cell_type": "code",
   "execution_count": 15,
   "id": "2bc2d6d9",
   "metadata": {},
   "outputs": [],
   "source": [
    "result['weight_factor'] = result['model_run_date'].astype(str).str[4:6].map({\"12\":1, \"13\":10, \"14\":50})"
   ]
  },
  {
   "cell_type": "code",
   "execution_count": 17,
   "id": "68721676",
   "metadata": {},
   "outputs": [],
   "source": [
    "result = result.sort_values(by=['zoomlevel','output_dim','weight_factor'])"
   ]
  },
  {
   "cell_type": "code",
   "execution_count": 86,
   "id": "05763708",
   "metadata": {
    "scrolled": false
   },
   "outputs": [
    {
     "name": "stdout",
     "output_type": "stream",
     "text": [
      "zoom13 output_dim 1 weight_factor 1\n",
      "zoom13 output_dim 1 weight_factor 10\n",
      "zoom13 output_dim 1 weight_factor 50\n",
      "zoom13 output_dim 2 weight_factor 50\n",
      "zoom13 output_dim 3 weight_factor 50\n",
      "zoom15 output_dim 1 weight_factor 1\n",
      "zoom15 output_dim 1 weight_factor 10\n",
      "zoom15 output_dim 2 weight_factor 50\n"
     ]
    },
    {
     "name": "stderr",
     "output_type": "stream",
     "text": [
      "/home/jtl/anaconda3/lib/python3.7/site-packages/matplotlib/pyplot.py:522: RuntimeWarning: More than 20 figures have been opened. Figures created through the pyplot interface (`matplotlib.pyplot.figure`) are retained until explicitly closed and may consume too much memory. (To control this warning, see the rcParam `figure.max_open_warning`).\n",
      "  max_open_warning, RuntimeWarning)\n",
      "/home/jtl/anaconda3/lib/python3.7/site-packages/matplotlib/pyplot.py:522: RuntimeWarning: More than 20 figures have been opened. Figures created through the pyplot interface (`matplotlib.pyplot.figure`) are retained until explicitly closed and may consume too much memory. (To control this warning, see the rcParam `figure.max_open_warning`).\n",
      "  max_open_warning, RuntimeWarning)\n"
     ]
    },
    {
     "name": "stdout",
     "output_type": "stream",
     "text": [
      "zoom15 output_dim 3 weight_factor 50\n"
     ]
    }
   ],
   "source": [
    "for (z,d,w),g in result.groupby(['zoomlevel','output_dim','weight_factor']):\n",
    "#     print(g)\n",
    "    print(z,'output_dim',d,'weight_factor',w)\n",
    "    fig, ax = plt.subplots(1,1, figsize=(6,3))\n",
    "    temp = pd.concat([pd.crosstab(g['Learning Rate'], g['Reg parameter'], g['Train_KL'], aggfunc='mean'), \n",
    "                     pd.crosstab(g['Learning Rate'], g['Reg parameter'], g['Test_KL'], aggfunc='mean')], axis=1)\n",
    "    im = ax.imshow(temp, cmap='coolwarm')\n",
    "    ax.set_xlabel(\"Reg parameter\")\n",
    "    ax.set_ylabel(\"Learning Rate\") \n",
    "    ax.set_xticks(np.arange(temp.shape[1]))\n",
    "    ax.set_yticks(np.arange(temp.shape[0]))\n",
    "    ax.set_xticklabels(temp.columns)\n",
    "    ax.set_yticklabels(temp.index)\n",
    "    cax = fig.add_axes([0.95, 0.1, 0.05, 0.8])\n",
    "    fig.colorbar(im, cax=cax, orientation='vertical')\n",
    "    ax.set_title(z+' latent dim '+str(d**2*2048)+' weight factor '+str(w))\n",
    "    fig.savefig(out_dir+\"regression_result_plots/\"+sampling+\"_\"+model_code+\"_mode_choice_\"+z+'_'+str(d**2*2048)+'_'+str(w)+'.png', bbox_inches='tight')\n",
    "    "
   ]
  },
  {
   "cell_type": "code",
   "execution_count": 99,
   "id": "0e68584b",
   "metadata": {},
   "outputs": [],
   "source": [
    "result = result.sort_values(by=['zoomlevel','output_dim','weight_factor','Test_KL'])\n",
    "result.groupby(['zoomlevel','output_dim','weight_factor'], as_index=False).apply(pd.DataFrame.head, n=3).to_csv(out_dir+sampling+\"_\"+model_code+\"_mode_choice_min.csv\", index=False)\n"
   ]
  },
  {
   "cell_type": "code",
   "execution_count": 109,
   "id": "06091870",
   "metadata": {},
   "outputs": [],
   "source": [
    "lr = pd.read_csv(out_dir+sampling+\"_\"+model_code+\"_regression_trpgen.csv\")\n",
    "lr['weight_factor'] = lr['model_run_date'].astype(str).str[4:6].map({\"12\":1, \"13\":10, \"14\":50})\n",
    "lr['output_dim'] = np.sqrt(lr['latent dim'] // 2048)\n",
    "\n",
    "lr = lr.sort_values(by=['zoomlevel','output_dim','weight_factor','Test_R2'], ascending=False)\n",
    "lr.groupby(['zoomlevel','output_dim','weight_factor'], as_index=False).apply(pd.DataFrame.head, n=3).to_csv(out_dir+sampling+\"_\"+model_code+\"_regression_trpgen_min.csv\", index=False)\n"
   ]
  },
  {
   "cell_type": "code",
   "execution_count": null,
   "id": "727fbdb0",
   "metadata": {},
   "outputs": [],
   "source": []
  }
 ],
 "metadata": {
  "kernelspec": {
   "display_name": "Python 3",
   "language": "python",
   "name": "python3"
  },
  "language_info": {
   "codemirror_mode": {
    "name": "ipython",
    "version": 3
   },
   "file_extension": ".py",
   "mimetype": "text/x-python",
   "name": "python",
   "nbconvert_exporter": "python",
   "pygments_lexer": "ipython3",
   "version": "3.7.11"
  }
 },
 "nbformat": 4,
 "nbformat_minor": 5
}
