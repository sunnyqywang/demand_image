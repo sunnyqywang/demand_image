{
 "cells": [
  {
   "cell_type": "code",
   "execution_count": 2,
   "metadata": {},
   "outputs": [
    {
     "name": "stdout",
     "output_type": "stream",
     "text": [
      "The autoreload extension is already loaded. To reload it, use:\n",
      "  %reload_ext autoreload\n"
     ]
    }
   ],
   "source": [
    "import sys\n",
    "sys.path.append(\"models/\")\n",
    "\n",
    "%load_ext autoreload\n",
    "%autoreload 2\n",
    "\n",
    "from matplotlib.ticker import FormatStrFormatter\n",
    "import matplotlib.pyplot as plt\n",
    "%matplotlib inline\n",
    "plt.rcParams.update({\"font.size\":12})\n",
    "\n",
    "import pandas as pd\n",
    "import pickle as pkl\n",
    "import numpy as np\n",
    "from time import time\n",
    "\n",
    "import glob\n",
    "import itertools\n",
    "\n",
    "from sklearn import linear_model\n",
    "from sklearn.metrics import r2_score, mean_squared_error\n",
    "from sklearn.model_selection import GroupKFold, cross_validate\n",
    "import statsmodels.api as sm\n",
    "import torch\n",
    "import torch.nn as nn\n",
    "import torch.nn.functional as F\n",
    "from torch.utils.data import DataLoader\n",
    "\n",
    "from M1_util_train_test import load_model, test\n",
    "import mnl\n",
    "import linear_reg\n",
    "from dataloader import SurveyDataset, load_aggregate_travel_behavior, load_demo_v1, train_test_split_data\n",
    "from setup import out_dir, data_dir, image_dir, model_dir, proj_dir\n"
   ]
  },
  {
   "cell_type": "code",
   "execution_count": 3,
   "metadata": {},
   "outputs": [],
   "source": [
    "plt.style.use('ggplot') # set the style; or \"ggplot\", \"dark_background\", \"classic\";\n",
    "plt.rcParams.update({'font.size': 16})"
   ]
  },
  {
   "cell_type": "code",
   "execution_count": 4,
   "metadata": {},
   "outputs": [],
   "source": [
    "data_version = '1571'\n",
    "\n",
    "model_type = 'AE'\n",
    "sampling = 's'\n",
    "\n",
    "zoomlevel = 'zoom15'\n",
    "output_dim = 3\n",
    "model_run_date = '2208'\n",
    "v2 = 1\n",
    "\n",
    "variable_names = ['active','auto','mas','pt', 'trpgen']\n",
    "\n",
    "demo_variables = ['tot_population','pct25_34yrs','pct35_50yrs','pctover65yrs',\n",
    "         'pctwhite_alone','pct_nonwhite','pctblack_alone',\n",
    "         'pct_col_grad','avg_tt_to_work','inc_per_capita']"
   ]
  },
  {
   "cell_type": "markdown",
   "metadata": {},
   "source": [
    "# Load Model Embeddings"
   ]
  },
  {
   "cell_type": "code",
   "execution_count": 5,
   "metadata": {},
   "outputs": [],
   "source": [
    "with open(proj_dir+\"latent_space/\"+model_type+\"_\"+zoomlevel+\"_\"+str(output_dim**2*2048)+\n",
    "                       \"_\"+str(v2)+\"_\"+model_run_date+\".pkl\", \"rb\") as f: \n",
    "    encoder_output = pkl.load(f)\n",
    "    im = pkl.load(f)\n",
    "    ct = pkl.load(f)"
   ]
  },
  {
   "cell_type": "code",
   "execution_count": 6,
   "metadata": {},
   "outputs": [],
   "source": [
    "# Aggregate Embeddings\n",
    "unique_ct = list(set(ct))\n",
    "unique_ct.sort()\n",
    "ct = np.array(ct)\n",
    "aggregate_embeddings = []\n",
    "for i in unique_ct:\n",
    "    aggregate_embeddings.append(np.mean(encoder_output[ct == i], axis=0))\n",
    "aggregate_embeddings = np.array(aggregate_embeddings)"
   ]
  },
  {
   "cell_type": "markdown",
   "metadata": {},
   "source": [
    "# Load Demographics"
   ]
  },
  {
   "cell_type": "code",
   "execution_count": 11,
   "metadata": {},
   "outputs": [],
   "source": [
    "# demographic variables\n",
    "\n",
    "demo_variables = ['tot_population','pct25_34yrs','pct35_50yrs','pctover65yrs',\n",
    "         'pctwhite_alone','pct_nonwhite','pctblack_alone',\n",
    "         'pct_col_grad','avg_tt_to_work','inc_per_capita']\n",
    "\n",
    "demo_cs, demo_np = load_demo_v1(data_dir, norm = 'minmax')\n",
    "demo = np.hstack((np.array(demo_cs).reshape(-1,1), demo_np))\n",
    "\n",
    "demo = pd.DataFrame(demo, columns = ['geoid'] + demo_variables)\n",
    "demo = train_test_split_data(demo, data_version)\n",
    "\n",
    "demo_variables = ['tot_population','pct25_34yrs','pct35_50yrs','pctover65yrs',\n",
    "         'pctwhite_alone', #'pct_nonwhite',\n",
    "         'pctblack_alone',\n",
    "         'pct_col_grad','avg_tt_to_work','inc_per_capita']\n",
    "\n",
    "x = demo[demo_variables].to_numpy(dtype=float)\n",
    "\n",
    "groups = demo['train_test']\n",
    "group_split = GroupKFold(n_splits=5)"
   ]
  },
  {
   "cell_type": "code",
   "execution_count": 17,
   "metadata": {},
   "outputs": [],
   "source": [
    "x = np.hstack([x, aggregate_embeddings])"
   ]
  },
  {
   "cell_type": "markdown",
   "metadata": {},
   "source": [
    "# Load Trip Behavior"
   ]
  },
  {
   "cell_type": "code",
   "execution_count": 27,
   "metadata": {},
   "outputs": [],
   "source": [
    "file = \"origin_trip_behavior.csv\"\n",
    "df_pivot = load_aggregate_travel_behavior(file, str(len(unique_ct)))\n",
    "\n",
    "y = df_pivot[variable_names].to_numpy()[:, :4]\n"
   ]
  },
  {
   "cell_type": "markdown",
   "metadata": {},
   "source": [
    "# 1. Linear Regression"
   ]
  },
  {
   "cell_type": "markdown",
   "metadata": {},
   "source": [
    "## 1.1 Auto"
   ]
  },
  {
   "cell_type": "code",
   "execution_count": 9,
   "metadata": {},
   "outputs": [],
   "source": [
    "y_index = 1"
   ]
  },
  {
   "cell_type": "code",
   "execution_count": 19,
   "metadata": {
    "scrolled": false
   },
   "outputs": [
    {
     "name": "stderr",
     "output_type": "stream",
     "text": [
      "/home/jtl/anaconda3/envs/qingyi/lib/python3.8/site-packages/sklearn/linear_model/_coordinate_descent.py:647: ConvergenceWarning: Objective did not converge. You might want to increase the number of iterations, check the scale of the features or consider increasing regularisation. Duality gap: 9.251e-01, tolerance: 6.768e-03\n",
      "  model = cd_fast.enet_coordinate_descent(\n",
      "/home/jtl/anaconda3/envs/qingyi/lib/python3.8/site-packages/sklearn/linear_model/_coordinate_descent.py:647: ConvergenceWarning: Objective did not converge. You might want to increase the number of iterations, check the scale of the features or consider increasing regularisation. Duality gap: 9.033e-01, tolerance: 6.596e-03\n",
      "  model = cd_fast.enet_coordinate_descent(\n",
      "/home/jtl/anaconda3/envs/qingyi/lib/python3.8/site-packages/sklearn/linear_model/_coordinate_descent.py:647: ConvergenceWarning: Objective did not converge. You might want to increase the number of iterations, check the scale of the features or consider increasing regularisation. Duality gap: 8.337e-01, tolerance: 6.769e-03\n",
      "  model = cd_fast.enet_coordinate_descent(\n",
      "/home/jtl/anaconda3/envs/qingyi/lib/python3.8/site-packages/sklearn/linear_model/_coordinate_descent.py:647: ConvergenceWarning: Objective did not converge. You might want to increase the number of iterations, check the scale of the features or consider increasing regularisation. Duality gap: 1.001e+00, tolerance: 7.111e-03\n",
      "  model = cd_fast.enet_coordinate_descent(\n",
      "/home/jtl/anaconda3/envs/qingyi/lib/python3.8/site-packages/sklearn/linear_model/_coordinate_descent.py:647: ConvergenceWarning: Objective did not converge. You might want to increase the number of iterations, check the scale of the features or consider increasing regularisation. Duality gap: 8.733e-01, tolerance: 6.760e-03\n",
      "  model = cd_fast.enet_coordinate_descent(\n"
     ]
    },
    {
     "name": "stdout",
     "output_type": "stream",
     "text": [
      "Parameter: 1.00e-05 \t Train score: 0.9971 \t Cross val score: 0.3445 \t Nonzero coef: 3228\n"
     ]
    },
    {
     "name": "stderr",
     "output_type": "stream",
     "text": [
      "/home/jtl/anaconda3/envs/qingyi/lib/python3.8/site-packages/sklearn/linear_model/_coordinate_descent.py:647: ConvergenceWarning: Objective did not converge. You might want to increase the number of iterations, check the scale of the features or consider increasing regularisation. Duality gap: 1.541e+00, tolerance: 6.768e-03\n",
      "  model = cd_fast.enet_coordinate_descent(\n",
      "/home/jtl/anaconda3/envs/qingyi/lib/python3.8/site-packages/sklearn/linear_model/_coordinate_descent.py:647: ConvergenceWarning: Objective did not converge. You might want to increase the number of iterations, check the scale of the features or consider increasing regularisation. Duality gap: 3.389e+00, tolerance: 6.596e-03\n",
      "  model = cd_fast.enet_coordinate_descent(\n",
      "/home/jtl/anaconda3/envs/qingyi/lib/python3.8/site-packages/sklearn/linear_model/_coordinate_descent.py:647: ConvergenceWarning: Objective did not converge. You might want to increase the number of iterations, check the scale of the features or consider increasing regularisation. Duality gap: 2.863e+00, tolerance: 6.769e-03\n",
      "  model = cd_fast.enet_coordinate_descent(\n",
      "/home/jtl/anaconda3/envs/qingyi/lib/python3.8/site-packages/sklearn/linear_model/_coordinate_descent.py:647: ConvergenceWarning: Objective did not converge. You might want to increase the number of iterations, check the scale of the features or consider increasing regularisation. Duality gap: 2.777e+00, tolerance: 7.111e-03\n",
      "  model = cd_fast.enet_coordinate_descent(\n",
      "/home/jtl/anaconda3/envs/qingyi/lib/python3.8/site-packages/sklearn/linear_model/_coordinate_descent.py:647: ConvergenceWarning: Objective did not converge. You might want to increase the number of iterations, check the scale of the features or consider increasing regularisation. Duality gap: 2.050e+00, tolerance: 6.760e-03\n",
      "  model = cd_fast.enet_coordinate_descent(\n"
     ]
    },
    {
     "name": "stdout",
     "output_type": "stream",
     "text": [
      "Parameter: 1.00e-04 \t Train score: 0.8754 \t Cross val score: 0.5113 \t Nonzero coef: 759\n"
     ]
    },
    {
     "name": "stderr",
     "output_type": "stream",
     "text": [
      "/home/jtl/anaconda3/envs/qingyi/lib/python3.8/site-packages/sklearn/linear_model/_coordinate_descent.py:647: ConvergenceWarning: Objective did not converge. You might want to increase the number of iterations, check the scale of the features or consider increasing regularisation. Duality gap: 1.681e+00, tolerance: 6.768e-03\n",
      "  model = cd_fast.enet_coordinate_descent(\n",
      "/home/jtl/anaconda3/envs/qingyi/lib/python3.8/site-packages/sklearn/linear_model/_coordinate_descent.py:647: ConvergenceWarning: Objective did not converge. You might want to increase the number of iterations, check the scale of the features or consider increasing regularisation. Duality gap: 1.504e+00, tolerance: 6.596e-03\n",
      "  model = cd_fast.enet_coordinate_descent(\n",
      "/home/jtl/anaconda3/envs/qingyi/lib/python3.8/site-packages/sklearn/linear_model/_coordinate_descent.py:647: ConvergenceWarning: Objective did not converge. You might want to increase the number of iterations, check the scale of the features or consider increasing regularisation. Duality gap: 7.796e-01, tolerance: 6.769e-03\n",
      "  model = cd_fast.enet_coordinate_descent(\n",
      "/home/jtl/anaconda3/envs/qingyi/lib/python3.8/site-packages/sklearn/linear_model/_coordinate_descent.py:647: ConvergenceWarning: Objective did not converge. You might want to increase the number of iterations, check the scale of the features or consider increasing regularisation. Duality gap: 7.141e-01, tolerance: 7.111e-03\n",
      "  model = cd_fast.enet_coordinate_descent(\n",
      "/home/jtl/anaconda3/envs/qingyi/lib/python3.8/site-packages/sklearn/linear_model/_coordinate_descent.py:647: ConvergenceWarning: Objective did not converge. You might want to increase the number of iterations, check the scale of the features or consider increasing regularisation. Duality gap: 1.613e+00, tolerance: 6.760e-03\n",
      "  model = cd_fast.enet_coordinate_descent(\n"
     ]
    },
    {
     "name": "stdout",
     "output_type": "stream",
     "text": [
      "Parameter: 2.00e-04 \t Train score: 0.7565 \t Cross val score: 0.5784 \t Nonzero coef: 327\n"
     ]
    },
    {
     "name": "stderr",
     "output_type": "stream",
     "text": [
      "/home/jtl/anaconda3/envs/qingyi/lib/python3.8/site-packages/sklearn/linear_model/_coordinate_descent.py:647: ConvergenceWarning: Objective did not converge. You might want to increase the number of iterations, check the scale of the features or consider increasing regularisation. Duality gap: 6.362e-01, tolerance: 6.768e-03\n",
      "  model = cd_fast.enet_coordinate_descent(\n",
      "/home/jtl/anaconda3/envs/qingyi/lib/python3.8/site-packages/sklearn/linear_model/_coordinate_descent.py:647: ConvergenceWarning: Objective did not converge. You might want to increase the number of iterations, check the scale of the features or consider increasing regularisation. Duality gap: 6.027e-01, tolerance: 6.596e-03\n",
      "  model = cd_fast.enet_coordinate_descent(\n",
      "/home/jtl/anaconda3/envs/qingyi/lib/python3.8/site-packages/sklearn/linear_model/_coordinate_descent.py:647: ConvergenceWarning: Objective did not converge. You might want to increase the number of iterations, check the scale of the features or consider increasing regularisation. Duality gap: 6.903e-01, tolerance: 6.769e-03\n",
      "  model = cd_fast.enet_coordinate_descent(\n",
      "/home/jtl/anaconda3/envs/qingyi/lib/python3.8/site-packages/sklearn/linear_model/_coordinate_descent.py:647: ConvergenceWarning: Objective did not converge. You might want to increase the number of iterations, check the scale of the features or consider increasing regularisation. Duality gap: 4.120e-01, tolerance: 7.111e-03\n",
      "  model = cd_fast.enet_coordinate_descent(\n",
      "/home/jtl/anaconda3/envs/qingyi/lib/python3.8/site-packages/sklearn/linear_model/_coordinate_descent.py:647: ConvergenceWarning: Objective did not converge. You might want to increase the number of iterations, check the scale of the features or consider increasing regularisation. Duality gap: 4.316e-01, tolerance: 6.760e-03\n",
      "  model = cd_fast.enet_coordinate_descent(\n"
     ]
    },
    {
     "name": "stdout",
     "output_type": "stream",
     "text": [
      "Parameter: 3.00e-04 \t Train score: 0.6914 \t Cross val score: 0.5919 \t Nonzero coef: 171\n"
     ]
    },
    {
     "name": "stderr",
     "output_type": "stream",
     "text": [
      "/home/jtl/anaconda3/envs/qingyi/lib/python3.8/site-packages/sklearn/linear_model/_coordinate_descent.py:647: ConvergenceWarning: Objective did not converge. You might want to increase the number of iterations, check the scale of the features or consider increasing regularisation. Duality gap: 2.286e-01, tolerance: 6.768e-03\n",
      "  model = cd_fast.enet_coordinate_descent(\n",
      "/home/jtl/anaconda3/envs/qingyi/lib/python3.8/site-packages/sklearn/linear_model/_coordinate_descent.py:647: ConvergenceWarning: Objective did not converge. You might want to increase the number of iterations, check the scale of the features or consider increasing regularisation. Duality gap: 5.251e-01, tolerance: 6.596e-03\n",
      "  model = cd_fast.enet_coordinate_descent(\n",
      "/home/jtl/anaconda3/envs/qingyi/lib/python3.8/site-packages/sklearn/linear_model/_coordinate_descent.py:647: ConvergenceWarning: Objective did not converge. You might want to increase the number of iterations, check the scale of the features or consider increasing regularisation. Duality gap: 6.386e-01, tolerance: 6.769e-03\n",
      "  model = cd_fast.enet_coordinate_descent(\n",
      "/home/jtl/anaconda3/envs/qingyi/lib/python3.8/site-packages/sklearn/linear_model/_coordinate_descent.py:647: ConvergenceWarning: Objective did not converge. You might want to increase the number of iterations, check the scale of the features or consider increasing regularisation. Duality gap: 4.090e-01, tolerance: 7.111e-03\n",
      "  model = cd_fast.enet_coordinate_descent(\n",
      "/home/jtl/anaconda3/envs/qingyi/lib/python3.8/site-packages/sklearn/linear_model/_coordinate_descent.py:647: ConvergenceWarning: Objective did not converge. You might want to increase the number of iterations, check the scale of the features or consider increasing regularisation. Duality gap: 5.769e-01, tolerance: 6.760e-03\n",
      "  model = cd_fast.enet_coordinate_descent(\n"
     ]
    },
    {
     "name": "stdout",
     "output_type": "stream",
     "text": [
      "Parameter: 4.00e-04 \t Train score: 0.6552 \t Cross val score: 0.5938 \t Nonzero coef: 103\n"
     ]
    },
    {
     "name": "stderr",
     "output_type": "stream",
     "text": [
      "/home/jtl/anaconda3/envs/qingyi/lib/python3.8/site-packages/sklearn/linear_model/_coordinate_descent.py:647: ConvergenceWarning: Objective did not converge. You might want to increase the number of iterations, check the scale of the features or consider increasing regularisation. Duality gap: 1.439e-01, tolerance: 6.768e-03\n",
      "  model = cd_fast.enet_coordinate_descent(\n",
      "/home/jtl/anaconda3/envs/qingyi/lib/python3.8/site-packages/sklearn/linear_model/_coordinate_descent.py:647: ConvergenceWarning: Objective did not converge. You might want to increase the number of iterations, check the scale of the features or consider increasing regularisation. Duality gap: 3.218e-01, tolerance: 6.596e-03\n",
      "  model = cd_fast.enet_coordinate_descent(\n",
      "/home/jtl/anaconda3/envs/qingyi/lib/python3.8/site-packages/sklearn/linear_model/_coordinate_descent.py:647: ConvergenceWarning: Objective did not converge. You might want to increase the number of iterations, check the scale of the features or consider increasing regularisation. Duality gap: 4.377e-01, tolerance: 6.769e-03\n",
      "  model = cd_fast.enet_coordinate_descent(\n",
      "/home/jtl/anaconda3/envs/qingyi/lib/python3.8/site-packages/sklearn/linear_model/_coordinate_descent.py:647: ConvergenceWarning: Objective did not converge. You might want to increase the number of iterations, check the scale of the features or consider increasing regularisation. Duality gap: 6.004e-01, tolerance: 7.111e-03\n",
      "  model = cd_fast.enet_coordinate_descent(\n",
      "/home/jtl/anaconda3/envs/qingyi/lib/python3.8/site-packages/sklearn/linear_model/_coordinate_descent.py:647: ConvergenceWarning: Objective did not converge. You might want to increase the number of iterations, check the scale of the features or consider increasing regularisation. Duality gap: 4.869e-01, tolerance: 6.760e-03\n",
      "  model = cd_fast.enet_coordinate_descent(\n"
     ]
    },
    {
     "name": "stdout",
     "output_type": "stream",
     "text": [
      "Parameter: 5.00e-04 \t Train score: 0.6360 \t Cross val score: 0.5914 \t Nonzero coef: 70\n"
     ]
    },
    {
     "name": "stderr",
     "output_type": "stream",
     "text": [
      "/home/jtl/anaconda3/envs/qingyi/lib/python3.8/site-packages/sklearn/linear_model/_coordinate_descent.py:647: ConvergenceWarning: Objective did not converge. You might want to increase the number of iterations, check the scale of the features or consider increasing regularisation. Duality gap: 1.617e-01, tolerance: 6.768e-03\n",
      "  model = cd_fast.enet_coordinate_descent(\n",
      "/home/jtl/anaconda3/envs/qingyi/lib/python3.8/site-packages/sklearn/linear_model/_coordinate_descent.py:647: ConvergenceWarning: Objective did not converge. You might want to increase the number of iterations, check the scale of the features or consider increasing regularisation. Duality gap: 2.269e-01, tolerance: 6.596e-03\n",
      "  model = cd_fast.enet_coordinate_descent(\n",
      "/home/jtl/anaconda3/envs/qingyi/lib/python3.8/site-packages/sklearn/linear_model/_coordinate_descent.py:647: ConvergenceWarning: Objective did not converge. You might want to increase the number of iterations, check the scale of the features or consider increasing regularisation. Duality gap: 4.745e-01, tolerance: 6.769e-03\n",
      "  model = cd_fast.enet_coordinate_descent(\n",
      "/home/jtl/anaconda3/envs/qingyi/lib/python3.8/site-packages/sklearn/linear_model/_coordinate_descent.py:647: ConvergenceWarning: Objective did not converge. You might want to increase the number of iterations, check the scale of the features or consider increasing regularisation. Duality gap: 6.012e-01, tolerance: 7.111e-03\n",
      "  model = cd_fast.enet_coordinate_descent(\n",
      "/home/jtl/anaconda3/envs/qingyi/lib/python3.8/site-packages/sklearn/linear_model/_coordinate_descent.py:647: ConvergenceWarning: Objective did not converge. You might want to increase the number of iterations, check the scale of the features or consider increasing regularisation. Duality gap: 1.837e-01, tolerance: 6.760e-03\n",
      "  model = cd_fast.enet_coordinate_descent(\n"
     ]
    },
    {
     "name": "stdout",
     "output_type": "stream",
     "text": [
      "Parameter: 6.00e-04 \t Train score: 0.6237 \t Cross val score: 0.5873 \t Nonzero coef: 57\n"
     ]
    },
    {
     "name": "stderr",
     "output_type": "stream",
     "text": [
      "/home/jtl/anaconda3/envs/qingyi/lib/python3.8/site-packages/sklearn/linear_model/_coordinate_descent.py:647: ConvergenceWarning: Objective did not converge. You might want to increase the number of iterations, check the scale of the features or consider increasing regularisation. Duality gap: 2.722e-01, tolerance: 6.768e-03\n",
      "  model = cd_fast.enet_coordinate_descent(\n",
      "/home/jtl/anaconda3/envs/qingyi/lib/python3.8/site-packages/sklearn/linear_model/_coordinate_descent.py:647: ConvergenceWarning: Objective did not converge. You might want to increase the number of iterations, check the scale of the features or consider increasing regularisation. Duality gap: 2.476e-01, tolerance: 6.596e-03\n",
      "  model = cd_fast.enet_coordinate_descent(\n",
      "/home/jtl/anaconda3/envs/qingyi/lib/python3.8/site-packages/sklearn/linear_model/_coordinate_descent.py:647: ConvergenceWarning: Objective did not converge. You might want to increase the number of iterations, check the scale of the features or consider increasing regularisation. Duality gap: 4.444e-01, tolerance: 6.769e-03\n",
      "  model = cd_fast.enet_coordinate_descent(\n",
      "/home/jtl/anaconda3/envs/qingyi/lib/python3.8/site-packages/sklearn/linear_model/_coordinate_descent.py:647: ConvergenceWarning: Objective did not converge. You might want to increase the number of iterations, check the scale of the features or consider increasing regularisation. Duality gap: 6.542e-01, tolerance: 7.111e-03\n",
      "  model = cd_fast.enet_coordinate_descent(\n",
      "/home/jtl/anaconda3/envs/qingyi/lib/python3.8/site-packages/sklearn/linear_model/_coordinate_descent.py:647: ConvergenceWarning: Objective did not converge. You might want to increase the number of iterations, check the scale of the features or consider increasing regularisation. Duality gap: 4.386e-01, tolerance: 6.760e-03\n",
      "  model = cd_fast.enet_coordinate_descent(\n"
     ]
    },
    {
     "name": "stdout",
     "output_type": "stream",
     "text": [
      "Parameter: 7.00e-04 \t Train score: 0.6150 \t Cross val score: 0.5840 \t Nonzero coef: 51\n"
     ]
    },
    {
     "name": "stderr",
     "output_type": "stream",
     "text": [
      "/home/jtl/anaconda3/envs/qingyi/lib/python3.8/site-packages/sklearn/linear_model/_coordinate_descent.py:647: ConvergenceWarning: Objective did not converge. You might want to increase the number of iterations, check the scale of the features or consider increasing regularisation. Duality gap: 3.997e-01, tolerance: 6.768e-03\n",
      "  model = cd_fast.enet_coordinate_descent(\n",
      "/home/jtl/anaconda3/envs/qingyi/lib/python3.8/site-packages/sklearn/linear_model/_coordinate_descent.py:647: ConvergenceWarning: Objective did not converge. You might want to increase the number of iterations, check the scale of the features or consider increasing regularisation. Duality gap: 2.260e-01, tolerance: 6.596e-03\n",
      "  model = cd_fast.enet_coordinate_descent(\n",
      "/home/jtl/anaconda3/envs/qingyi/lib/python3.8/site-packages/sklearn/linear_model/_coordinate_descent.py:647: ConvergenceWarning: Objective did not converge. You might want to increase the number of iterations, check the scale of the features or consider increasing regularisation. Duality gap: 3.367e-01, tolerance: 6.769e-03\n",
      "  model = cd_fast.enet_coordinate_descent(\n",
      "/home/jtl/anaconda3/envs/qingyi/lib/python3.8/site-packages/sklearn/linear_model/_coordinate_descent.py:647: ConvergenceWarning: Objective did not converge. You might want to increase the number of iterations, check the scale of the features or consider increasing regularisation. Duality gap: 7.439e-01, tolerance: 7.111e-03\n",
      "  model = cd_fast.enet_coordinate_descent(\n",
      "/home/jtl/anaconda3/envs/qingyi/lib/python3.8/site-packages/sklearn/linear_model/_coordinate_descent.py:647: ConvergenceWarning: Objective did not converge. You might want to increase the number of iterations, check the scale of the features or consider increasing regularisation. Duality gap: 3.107e-01, tolerance: 6.760e-03\n",
      "  model = cd_fast.enet_coordinate_descent(\n"
     ]
    },
    {
     "name": "stdout",
     "output_type": "stream",
     "text": [
      "Parameter: 8.00e-04 \t Train score: 0.6074 \t Cross val score: 0.5801 \t Nonzero coef: 46\n"
     ]
    },
    {
     "name": "stderr",
     "output_type": "stream",
     "text": [
      "/home/jtl/anaconda3/envs/qingyi/lib/python3.8/site-packages/sklearn/linear_model/_coordinate_descent.py:647: ConvergenceWarning: Objective did not converge. You might want to increase the number of iterations, check the scale of the features or consider increasing regularisation. Duality gap: 3.754e-01, tolerance: 6.768e-03\n",
      "  model = cd_fast.enet_coordinate_descent(\n",
      "/home/jtl/anaconda3/envs/qingyi/lib/python3.8/site-packages/sklearn/linear_model/_coordinate_descent.py:647: ConvergenceWarning: Objective did not converge. You might want to increase the number of iterations, check the scale of the features or consider increasing regularisation. Duality gap: 1.499e-01, tolerance: 6.596e-03\n",
      "  model = cd_fast.enet_coordinate_descent(\n",
      "/home/jtl/anaconda3/envs/qingyi/lib/python3.8/site-packages/sklearn/linear_model/_coordinate_descent.py:647: ConvergenceWarning: Objective did not converge. You might want to increase the number of iterations, check the scale of the features or consider increasing regularisation. Duality gap: 1.262e-01, tolerance: 6.769e-03\n",
      "  model = cd_fast.enet_coordinate_descent(\n",
      "/home/jtl/anaconda3/envs/qingyi/lib/python3.8/site-packages/sklearn/linear_model/_coordinate_descent.py:647: ConvergenceWarning: Objective did not converge. You might want to increase the number of iterations, check the scale of the features or consider increasing regularisation. Duality gap: 4.328e-01, tolerance: 7.111e-03\n",
      "  model = cd_fast.enet_coordinate_descent(\n",
      "/home/jtl/anaconda3/envs/qingyi/lib/python3.8/site-packages/sklearn/linear_model/_coordinate_descent.py:647: ConvergenceWarning: Objective did not converge. You might want to increase the number of iterations, check the scale of the features or consider increasing regularisation. Duality gap: 6.195e-02, tolerance: 6.760e-03\n",
      "  model = cd_fast.enet_coordinate_descent(\n"
     ]
    },
    {
     "name": "stdout",
     "output_type": "stream",
     "text": [
      "Parameter: 1.00e-03 \t Train score: 0.5940 \t Cross val score: 0.5722 \t Nonzero coef: 34\n"
     ]
    },
    {
     "name": "stderr",
     "output_type": "stream",
     "text": [
      "/home/jtl/anaconda3/envs/qingyi/lib/python3.8/site-packages/sklearn/linear_model/_coordinate_descent.py:647: ConvergenceWarning: Objective did not converge. You might want to increase the number of iterations, check the scale of the features or consider increasing regularisation. Duality gap: 1.353e-02, tolerance: 6.768e-03\n",
      "  model = cd_fast.enet_coordinate_descent(\n",
      "/home/jtl/anaconda3/envs/qingyi/lib/python3.8/site-packages/sklearn/linear_model/_coordinate_descent.py:647: ConvergenceWarning: Objective did not converge. You might want to increase the number of iterations, check the scale of the features or consider increasing regularisation. Duality gap: 9.766e-03, tolerance: 6.596e-03\n",
      "  model = cd_fast.enet_coordinate_descent(\n",
      "/home/jtl/anaconda3/envs/qingyi/lib/python3.8/site-packages/sklearn/linear_model/_coordinate_descent.py:647: ConvergenceWarning: Objective did not converge. You might want to increase the number of iterations, check the scale of the features or consider increasing regularisation. Duality gap: 1.393e-02, tolerance: 7.111e-03\n",
      "  model = cd_fast.enet_coordinate_descent(\n",
      "/home/jtl/anaconda3/envs/qingyi/lib/python3.8/site-packages/sklearn/linear_model/_coordinate_descent.py:647: ConvergenceWarning: Objective did not converge. You might want to increase the number of iterations, check the scale of the features or consider increasing regularisation. Duality gap: 7.187e-03, tolerance: 6.760e-03\n",
      "  model = cd_fast.enet_coordinate_descent(\n"
     ]
    },
    {
     "name": "stdout",
     "output_type": "stream",
     "text": [
      "Parameter: 2.00e-03 \t Train score: 0.5337 \t Cross val score: 0.5203 \t Nonzero coef: 18\n",
      "Parameter: 5.00e-03 \t Train score: 0.4626 \t Cross val score: 0.4516 \t Nonzero coef: 12\n"
     ]
    }
   ],
   "source": [
    "# Lasso\n",
    "for a in (1e-4)*np.array([0.1,1,2,3,4,5,6,7,8,10,20,50]):\n",
    "    lasso = linear_model.Lasso(alpha=a)\n",
    "    cross_results = cross_validate(lasso, x, y[:,y_index], cv=group_split, groups=groups, scoring='r2', return_train_score=True, return_estimator=True)\n",
    "    nz = 0\n",
    "    for m in cross_results['estimator']:\n",
    "        nz += sum(m.coef_ != 0)\n",
    "    nz /= 5\n",
    "    \n",
    "    print(\"Parameter: %.2e \\t Train score: %.4f \\t Cross val score: %.4f \\t Nonzero coef: %d\" % \n",
    "          (a, cross_results['train_score'].mean(), cross_results['test_score'].mean(), nz))"
   ]
  },
  {
   "cell_type": "markdown",
   "metadata": {},
   "source": [
    "## 1.2 PT "
   ]
  },
  {
   "cell_type": "code",
   "execution_count": 20,
   "metadata": {},
   "outputs": [],
   "source": [
    "y_index=3"
   ]
  },
  {
   "cell_type": "code",
   "execution_count": 21,
   "metadata": {
    "scrolled": false
   },
   "outputs": [
    {
     "name": "stderr",
     "output_type": "stream",
     "text": [
      "/home/jtl/anaconda3/envs/qingyi/lib/python3.8/site-packages/sklearn/linear_model/_coordinate_descent.py:647: ConvergenceWarning: Objective did not converge. You might want to increase the number of iterations, check the scale of the features or consider increasing regularisation. Duality gap: 3.437e-01, tolerance: 1.168e-03\n",
      "  model = cd_fast.enet_coordinate_descent(\n",
      "/home/jtl/anaconda3/envs/qingyi/lib/python3.8/site-packages/sklearn/linear_model/_coordinate_descent.py:647: ConvergenceWarning: Objective did not converge. You might want to increase the number of iterations, check the scale of the features or consider increasing regularisation. Duality gap: 3.675e-01, tolerance: 1.130e-03\n",
      "  model = cd_fast.enet_coordinate_descent(\n",
      "/home/jtl/anaconda3/envs/qingyi/lib/python3.8/site-packages/sklearn/linear_model/_coordinate_descent.py:647: ConvergenceWarning: Objective did not converge. You might want to increase the number of iterations, check the scale of the features or consider increasing regularisation. Duality gap: 2.996e-01, tolerance: 1.210e-03\n",
      "  model = cd_fast.enet_coordinate_descent(\n",
      "/home/jtl/anaconda3/envs/qingyi/lib/python3.8/site-packages/sklearn/linear_model/_coordinate_descent.py:647: ConvergenceWarning: Objective did not converge. You might want to increase the number of iterations, check the scale of the features or consider increasing regularisation. Duality gap: 3.346e-01, tolerance: 1.286e-03\n",
      "  model = cd_fast.enet_coordinate_descent(\n",
      "/home/jtl/anaconda3/envs/qingyi/lib/python3.8/site-packages/sklearn/linear_model/_coordinate_descent.py:647: ConvergenceWarning: Objective did not converge. You might want to increase the number of iterations, check the scale of the features or consider increasing regularisation. Duality gap: 4.177e-01, tolerance: 1.281e-03\n",
      "  model = cd_fast.enet_coordinate_descent(\n"
     ]
    },
    {
     "name": "stdout",
     "output_type": "stream",
     "text": [
      "Parameter: 1.00e-05 \t Train score: 0.9857 \t Cross val score: 0.1331 \t Nonzero coef: 2220\n"
     ]
    },
    {
     "name": "stderr",
     "output_type": "stream",
     "text": [
      "/home/jtl/anaconda3/envs/qingyi/lib/python3.8/site-packages/sklearn/linear_model/_coordinate_descent.py:647: ConvergenceWarning: Objective did not converge. You might want to increase the number of iterations, check the scale of the features or consider increasing regularisation. Duality gap: 1.716e-01, tolerance: 1.168e-03\n",
      "  model = cd_fast.enet_coordinate_descent(\n",
      "/home/jtl/anaconda3/envs/qingyi/lib/python3.8/site-packages/sklearn/linear_model/_coordinate_descent.py:647: ConvergenceWarning: Objective did not converge. You might want to increase the number of iterations, check the scale of the features or consider increasing regularisation. Duality gap: 5.027e-01, tolerance: 1.130e-03\n",
      "  model = cd_fast.enet_coordinate_descent(\n",
      "/home/jtl/anaconda3/envs/qingyi/lib/python3.8/site-packages/sklearn/linear_model/_coordinate_descent.py:647: ConvergenceWarning: Objective did not converge. You might want to increase the number of iterations, check the scale of the features or consider increasing regularisation. Duality gap: 2.541e-01, tolerance: 1.210e-03\n",
      "  model = cd_fast.enet_coordinate_descent(\n",
      "/home/jtl/anaconda3/envs/qingyi/lib/python3.8/site-packages/sklearn/linear_model/_coordinate_descent.py:647: ConvergenceWarning: Objective did not converge. You might want to increase the number of iterations, check the scale of the features or consider increasing regularisation. Duality gap: 4.093e-01, tolerance: 1.286e-03\n",
      "  model = cd_fast.enet_coordinate_descent(\n",
      "/home/jtl/anaconda3/envs/qingyi/lib/python3.8/site-packages/sklearn/linear_model/_coordinate_descent.py:647: ConvergenceWarning: Objective did not converge. You might want to increase the number of iterations, check the scale of the features or consider increasing regularisation. Duality gap: 1.781e-01, tolerance: 1.281e-03\n",
      "  model = cd_fast.enet_coordinate_descent(\n"
     ]
    },
    {
     "name": "stdout",
     "output_type": "stream",
     "text": [
      "Parameter: 1.00e-04 \t Train score: 0.6759 \t Cross val score: 0.4313 \t Nonzero coef: 309\n"
     ]
    },
    {
     "name": "stderr",
     "output_type": "stream",
     "text": [
      "/home/jtl/anaconda3/envs/qingyi/lib/python3.8/site-packages/sklearn/linear_model/_coordinate_descent.py:647: ConvergenceWarning: Objective did not converge. You might want to increase the number of iterations, check the scale of the features or consider increasing regularisation. Duality gap: 2.973e-02, tolerance: 1.168e-03\n",
      "  model = cd_fast.enet_coordinate_descent(\n",
      "/home/jtl/anaconda3/envs/qingyi/lib/python3.8/site-packages/sklearn/linear_model/_coordinate_descent.py:647: ConvergenceWarning: Objective did not converge. You might want to increase the number of iterations, check the scale of the features or consider increasing regularisation. Duality gap: 3.881e-02, tolerance: 1.130e-03\n",
      "  model = cd_fast.enet_coordinate_descent(\n",
      "/home/jtl/anaconda3/envs/qingyi/lib/python3.8/site-packages/sklearn/linear_model/_coordinate_descent.py:647: ConvergenceWarning: Objective did not converge. You might want to increase the number of iterations, check the scale of the features or consider increasing regularisation. Duality gap: 6.255e-02, tolerance: 1.210e-03\n",
      "  model = cd_fast.enet_coordinate_descent(\n",
      "/home/jtl/anaconda3/envs/qingyi/lib/python3.8/site-packages/sklearn/linear_model/_coordinate_descent.py:647: ConvergenceWarning: Objective did not converge. You might want to increase the number of iterations, check the scale of the features or consider increasing regularisation. Duality gap: 7.930e-02, tolerance: 1.286e-03\n",
      "  model = cd_fast.enet_coordinate_descent(\n",
      "/home/jtl/anaconda3/envs/qingyi/lib/python3.8/site-packages/sklearn/linear_model/_coordinate_descent.py:647: ConvergenceWarning: Objective did not converge. You might want to increase the number of iterations, check the scale of the features or consider increasing regularisation. Duality gap: 2.130e-01, tolerance: 1.281e-03\n",
      "  model = cd_fast.enet_coordinate_descent(\n"
     ]
    },
    {
     "name": "stdout",
     "output_type": "stream",
     "text": [
      "Parameter: 2.00e-04 \t Train score: 0.5434 \t Cross val score: 0.4637 \t Nonzero coef: 84\n"
     ]
    },
    {
     "name": "stderr",
     "output_type": "stream",
     "text": [
      "/home/jtl/anaconda3/envs/qingyi/lib/python3.8/site-packages/sklearn/linear_model/_coordinate_descent.py:647: ConvergenceWarning: Objective did not converge. You might want to increase the number of iterations, check the scale of the features or consider increasing regularisation. Duality gap: 6.752e-02, tolerance: 1.168e-03\n",
      "  model = cd_fast.enet_coordinate_descent(\n",
      "/home/jtl/anaconda3/envs/qingyi/lib/python3.8/site-packages/sklearn/linear_model/_coordinate_descent.py:647: ConvergenceWarning: Objective did not converge. You might want to increase the number of iterations, check the scale of the features or consider increasing regularisation. Duality gap: 2.962e-02, tolerance: 1.130e-03\n",
      "  model = cd_fast.enet_coordinate_descent(\n",
      "/home/jtl/anaconda3/envs/qingyi/lib/python3.8/site-packages/sklearn/linear_model/_coordinate_descent.py:647: ConvergenceWarning: Objective did not converge. You might want to increase the number of iterations, check the scale of the features or consider increasing regularisation. Duality gap: 1.008e-01, tolerance: 1.210e-03\n",
      "  model = cd_fast.enet_coordinate_descent(\n",
      "/home/jtl/anaconda3/envs/qingyi/lib/python3.8/site-packages/sklearn/linear_model/_coordinate_descent.py:647: ConvergenceWarning: Objective did not converge. You might want to increase the number of iterations, check the scale of the features or consider increasing regularisation. Duality gap: 1.826e-02, tolerance: 1.286e-03\n",
      "  model = cd_fast.enet_coordinate_descent(\n",
      "/home/jtl/anaconda3/envs/qingyi/lib/python3.8/site-packages/sklearn/linear_model/_coordinate_descent.py:647: ConvergenceWarning: Objective did not converge. You might want to increase the number of iterations, check the scale of the features or consider increasing regularisation. Duality gap: 2.672e-02, tolerance: 1.281e-03\n",
      "  model = cd_fast.enet_coordinate_descent(\n"
     ]
    },
    {
     "name": "stdout",
     "output_type": "stream",
     "text": [
      "Parameter: 3.00e-04 \t Train score: 0.5064 \t Cross val score: 0.4580 \t Nonzero coef: 46\n"
     ]
    },
    {
     "name": "stderr",
     "output_type": "stream",
     "text": [
      "/home/jtl/anaconda3/envs/qingyi/lib/python3.8/site-packages/sklearn/linear_model/_coordinate_descent.py:647: ConvergenceWarning: Objective did not converge. You might want to increase the number of iterations, check the scale of the features or consider increasing regularisation. Duality gap: 3.330e-02, tolerance: 1.168e-03\n",
      "  model = cd_fast.enet_coordinate_descent(\n",
      "/home/jtl/anaconda3/envs/qingyi/lib/python3.8/site-packages/sklearn/linear_model/_coordinate_descent.py:647: ConvergenceWarning: Objective did not converge. You might want to increase the number of iterations, check the scale of the features or consider increasing regularisation. Duality gap: 6.357e-02, tolerance: 1.130e-03\n",
      "  model = cd_fast.enet_coordinate_descent(\n",
      "/home/jtl/anaconda3/envs/qingyi/lib/python3.8/site-packages/sklearn/linear_model/_coordinate_descent.py:647: ConvergenceWarning: Objective did not converge. You might want to increase the number of iterations, check the scale of the features or consider increasing regularisation. Duality gap: 2.314e-02, tolerance: 1.210e-03\n",
      "  model = cd_fast.enet_coordinate_descent(\n",
      "/home/jtl/anaconda3/envs/qingyi/lib/python3.8/site-packages/sklearn/linear_model/_coordinate_descent.py:647: ConvergenceWarning: Objective did not converge. You might want to increase the number of iterations, check the scale of the features or consider increasing regularisation. Duality gap: 2.538e-02, tolerance: 1.286e-03\n",
      "  model = cd_fast.enet_coordinate_descent(\n",
      "/home/jtl/anaconda3/envs/qingyi/lib/python3.8/site-packages/sklearn/linear_model/_coordinate_descent.py:647: ConvergenceWarning: Objective did not converge. You might want to increase the number of iterations, check the scale of the features or consider increasing regularisation. Duality gap: 2.464e-02, tolerance: 1.281e-03\n",
      "  model = cd_fast.enet_coordinate_descent(\n"
     ]
    },
    {
     "name": "stdout",
     "output_type": "stream",
     "text": [
      "Parameter: 4.00e-04 \t Train score: 0.4842 \t Cross val score: 0.4492 \t Nonzero coef: 34\n"
     ]
    },
    {
     "name": "stderr",
     "output_type": "stream",
     "text": [
      "/home/jtl/anaconda3/envs/qingyi/lib/python3.8/site-packages/sklearn/linear_model/_coordinate_descent.py:647: ConvergenceWarning: Objective did not converge. You might want to increase the number of iterations, check the scale of the features or consider increasing regularisation. Duality gap: 8.964e-03, tolerance: 1.168e-03\n",
      "  model = cd_fast.enet_coordinate_descent(\n",
      "/home/jtl/anaconda3/envs/qingyi/lib/python3.8/site-packages/sklearn/linear_model/_coordinate_descent.py:647: ConvergenceWarning: Objective did not converge. You might want to increase the number of iterations, check the scale of the features or consider increasing regularisation. Duality gap: 3.589e-02, tolerance: 1.130e-03\n",
      "  model = cd_fast.enet_coordinate_descent(\n",
      "/home/jtl/anaconda3/envs/qingyi/lib/python3.8/site-packages/sklearn/linear_model/_coordinate_descent.py:647: ConvergenceWarning: Objective did not converge. You might want to increase the number of iterations, check the scale of the features or consider increasing regularisation. Duality gap: 4.742e-03, tolerance: 1.210e-03\n",
      "  model = cd_fast.enet_coordinate_descent(\n",
      "/home/jtl/anaconda3/envs/qingyi/lib/python3.8/site-packages/sklearn/linear_model/_coordinate_descent.py:647: ConvergenceWarning: Objective did not converge. You might want to increase the number of iterations, check the scale of the features or consider increasing regularisation. Duality gap: 1.502e-02, tolerance: 1.286e-03\n",
      "  model = cd_fast.enet_coordinate_descent(\n",
      "/home/jtl/anaconda3/envs/qingyi/lib/python3.8/site-packages/sklearn/linear_model/_coordinate_descent.py:647: ConvergenceWarning: Objective did not converge. You might want to increase the number of iterations, check the scale of the features or consider increasing regularisation. Duality gap: 2.184e-03, tolerance: 1.281e-03\n",
      "  model = cd_fast.enet_coordinate_descent(\n"
     ]
    },
    {
     "name": "stdout",
     "output_type": "stream",
     "text": [
      "Parameter: 5.00e-04 \t Train score: 0.4662 \t Cross val score: 0.4368 \t Nonzero coef: 27\n"
     ]
    },
    {
     "name": "stderr",
     "output_type": "stream",
     "text": [
      "/home/jtl/anaconda3/envs/qingyi/lib/python3.8/site-packages/sklearn/linear_model/_coordinate_descent.py:647: ConvergenceWarning: Objective did not converge. You might want to increase the number of iterations, check the scale of the features or consider increasing regularisation. Duality gap: 1.344e-03, tolerance: 1.168e-03\n",
      "  model = cd_fast.enet_coordinate_descent(\n",
      "/home/jtl/anaconda3/envs/qingyi/lib/python3.8/site-packages/sklearn/linear_model/_coordinate_descent.py:647: ConvergenceWarning: Objective did not converge. You might want to increase the number of iterations, check the scale of the features or consider increasing regularisation. Duality gap: 1.562e-02, tolerance: 1.130e-03\n",
      "  model = cd_fast.enet_coordinate_descent(\n",
      "/home/jtl/anaconda3/envs/qingyi/lib/python3.8/site-packages/sklearn/linear_model/_coordinate_descent.py:647: ConvergenceWarning: Objective did not converge. You might want to increase the number of iterations, check the scale of the features or consider increasing regularisation. Duality gap: 1.464e-03, tolerance: 1.210e-03\n",
      "  model = cd_fast.enet_coordinate_descent(\n",
      "/home/jtl/anaconda3/envs/qingyi/lib/python3.8/site-packages/sklearn/linear_model/_coordinate_descent.py:647: ConvergenceWarning: Objective did not converge. You might want to increase the number of iterations, check the scale of the features or consider increasing regularisation. Duality gap: 2.254e-03, tolerance: 1.286e-03\n",
      "  model = cd_fast.enet_coordinate_descent(\n"
     ]
    },
    {
     "name": "stdout",
     "output_type": "stream",
     "text": [
      "Parameter: 6.00e-04 \t Train score: 0.4535 \t Cross val score: 0.4298 \t Nonzero coef: 21\n"
     ]
    },
    {
     "name": "stderr",
     "output_type": "stream",
     "text": [
      "/home/jtl/anaconda3/envs/qingyi/lib/python3.8/site-packages/sklearn/linear_model/_coordinate_descent.py:647: ConvergenceWarning: Objective did not converge. You might want to increase the number of iterations, check the scale of the features or consider increasing regularisation. Duality gap: 1.192e-02, tolerance: 1.130e-03\n",
      "  model = cd_fast.enet_coordinate_descent(\n",
      "/home/jtl/anaconda3/envs/qingyi/lib/python3.8/site-packages/sklearn/linear_model/_coordinate_descent.py:647: ConvergenceWarning: Objective did not converge. You might want to increase the number of iterations, check the scale of the features or consider increasing regularisation. Duality gap: 3.728e-03, tolerance: 1.210e-03\n",
      "  model = cd_fast.enet_coordinate_descent(\n"
     ]
    },
    {
     "name": "stdout",
     "output_type": "stream",
     "text": [
      "Parameter: 7.00e-04 \t Train score: 0.4434 \t Cross val score: 0.4233 \t Nonzero coef: 18\n"
     ]
    },
    {
     "name": "stderr",
     "output_type": "stream",
     "text": [
      "/home/jtl/anaconda3/envs/qingyi/lib/python3.8/site-packages/sklearn/linear_model/_coordinate_descent.py:647: ConvergenceWarning: Objective did not converge. You might want to increase the number of iterations, check the scale of the features or consider increasing regularisation. Duality gap: 3.299e-03, tolerance: 1.210e-03\n",
      "  model = cd_fast.enet_coordinate_descent(\n",
      "/home/jtl/anaconda3/envs/qingyi/lib/python3.8/site-packages/sklearn/linear_model/_coordinate_descent.py:647: ConvergenceWarning: Objective did not converge. You might want to increase the number of iterations, check the scale of the features or consider increasing regularisation. Duality gap: 2.400e-03, tolerance: 1.281e-03\n",
      "  model = cd_fast.enet_coordinate_descent(\n"
     ]
    },
    {
     "name": "stdout",
     "output_type": "stream",
     "text": [
      "Parameter: 8.00e-04 \t Train score: 0.4375 \t Cross val score: 0.4193 \t Nonzero coef: 17\n"
     ]
    },
    {
     "name": "stderr",
     "output_type": "stream",
     "text": [
      "/home/jtl/anaconda3/envs/qingyi/lib/python3.8/site-packages/sklearn/linear_model/_coordinate_descent.py:647: ConvergenceWarning: Objective did not converge. You might want to increase the number of iterations, check the scale of the features or consider increasing regularisation. Duality gap: 1.580e-03, tolerance: 1.130e-03\n",
      "  model = cd_fast.enet_coordinate_descent(\n",
      "/home/jtl/anaconda3/envs/qingyi/lib/python3.8/site-packages/sklearn/linear_model/_coordinate_descent.py:647: ConvergenceWarning: Objective did not converge. You might want to increase the number of iterations, check the scale of the features or consider increasing regularisation. Duality gap: 3.090e-03, tolerance: 1.286e-03\n",
      "  model = cd_fast.enet_coordinate_descent(\n"
     ]
    },
    {
     "name": "stdout",
     "output_type": "stream",
     "text": [
      "Parameter: 1.00e-03 \t Train score: 0.4283 \t Cross val score: 0.4127 \t Nonzero coef: 16\n",
      "Parameter: 2.00e-03 \t Train score: 0.3772 \t Cross val score: 0.3672 \t Nonzero coef: 11\n",
      "Parameter: 5.00e-03 \t Train score: 0.2075 \t Cross val score: 0.2044 \t Nonzero coef: 1\n"
     ]
    }
   ],
   "source": [
    "# Lasso\n",
    "for a in (1e-4)*np.array([0.1,1,2,3,4,5,6,7,8,10,20,50]):\n",
    "    lasso = linear_model.Lasso(alpha=a)\n",
    "    cross_results = cross_validate(lasso, x, y[:,y_index], cv=group_split, groups=groups, scoring='r2', return_train_score=True, return_estimator=True)\n",
    "    nz = 0\n",
    "    for m in cross_results['estimator']:\n",
    "        nz += sum(m.coef_ != 0)\n",
    "    nz /= 5\n",
    "    \n",
    "    print(\"Parameter: %.2e \\t Train score: %.4f \\t Cross val score: %.4f \\t Nonzero coef: %d\" % \n",
    "          (a, cross_results['train_score'].mean(), cross_results['test_score'].mean(), nz))"
   ]
  },
  {
   "cell_type": "markdown",
   "metadata": {},
   "source": [
    "## 1.3 Active"
   ]
  },
  {
   "cell_type": "code",
   "execution_count": 22,
   "metadata": {},
   "outputs": [],
   "source": [
    "y_index=0"
   ]
  },
  {
   "cell_type": "code",
   "execution_count": 23,
   "metadata": {
    "scrolled": false
   },
   "outputs": [
    {
     "name": "stderr",
     "output_type": "stream",
     "text": [
      "/home/jtl/anaconda3/envs/qingyi/lib/python3.8/site-packages/sklearn/linear_model/_coordinate_descent.py:647: ConvergenceWarning: Objective did not converge. You might want to increase the number of iterations, check the scale of the features or consider increasing regularisation. Duality gap: 6.668e-01, tolerance: 3.383e-03\n",
      "  model = cd_fast.enet_coordinate_descent(\n",
      "/home/jtl/anaconda3/envs/qingyi/lib/python3.8/site-packages/sklearn/linear_model/_coordinate_descent.py:647: ConvergenceWarning: Objective did not converge. You might want to increase the number of iterations, check the scale of the features or consider increasing regularisation. Duality gap: 6.930e-01, tolerance: 3.240e-03\n",
      "  model = cd_fast.enet_coordinate_descent(\n",
      "/home/jtl/anaconda3/envs/qingyi/lib/python3.8/site-packages/sklearn/linear_model/_coordinate_descent.py:647: ConvergenceWarning: Objective did not converge. You might want to increase the number of iterations, check the scale of the features or consider increasing regularisation. Duality gap: 6.716e-01, tolerance: 3.355e-03\n",
      "  model = cd_fast.enet_coordinate_descent(\n",
      "/home/jtl/anaconda3/envs/qingyi/lib/python3.8/site-packages/sklearn/linear_model/_coordinate_descent.py:647: ConvergenceWarning: Objective did not converge. You might want to increase the number of iterations, check the scale of the features or consider increasing regularisation. Duality gap: 7.213e-01, tolerance: 3.441e-03\n",
      "  model = cd_fast.enet_coordinate_descent(\n",
      "/home/jtl/anaconda3/envs/qingyi/lib/python3.8/site-packages/sklearn/linear_model/_coordinate_descent.py:647: ConvergenceWarning: Objective did not converge. You might want to increase the number of iterations, check the scale of the features or consider increasing regularisation. Duality gap: 6.977e-01, tolerance: 3.289e-03\n",
      "  model = cd_fast.enet_coordinate_descent(\n"
     ]
    },
    {
     "name": "stdout",
     "output_type": "stream",
     "text": [
      "Parameter: 1.00e-05 \t Train score: 0.9942 \t Cross val score: 0.1778 \t Nonzero coef: 2913\n"
     ]
    },
    {
     "name": "stderr",
     "output_type": "stream",
     "text": [
      "/home/jtl/anaconda3/envs/qingyi/lib/python3.8/site-packages/sklearn/linear_model/_coordinate_descent.py:647: ConvergenceWarning: Objective did not converge. You might want to increase the number of iterations, check the scale of the features or consider increasing regularisation. Duality gap: 1.012e+00, tolerance: 3.383e-03\n",
      "  model = cd_fast.enet_coordinate_descent(\n",
      "/home/jtl/anaconda3/envs/qingyi/lib/python3.8/site-packages/sklearn/linear_model/_coordinate_descent.py:647: ConvergenceWarning: Objective did not converge. You might want to increase the number of iterations, check the scale of the features or consider increasing regularisation. Duality gap: 6.746e-01, tolerance: 3.240e-03\n",
      "  model = cd_fast.enet_coordinate_descent(\n",
      "/home/jtl/anaconda3/envs/qingyi/lib/python3.8/site-packages/sklearn/linear_model/_coordinate_descent.py:647: ConvergenceWarning: Objective did not converge. You might want to increase the number of iterations, check the scale of the features or consider increasing regularisation. Duality gap: 1.679e+00, tolerance: 3.355e-03\n",
      "  model = cd_fast.enet_coordinate_descent(\n",
      "/home/jtl/anaconda3/envs/qingyi/lib/python3.8/site-packages/sklearn/linear_model/_coordinate_descent.py:647: ConvergenceWarning: Objective did not converge. You might want to increase the number of iterations, check the scale of the features or consider increasing regularisation. Duality gap: 1.399e+00, tolerance: 3.441e-03\n",
      "  model = cd_fast.enet_coordinate_descent(\n",
      "/home/jtl/anaconda3/envs/qingyi/lib/python3.8/site-packages/sklearn/linear_model/_coordinate_descent.py:647: ConvergenceWarning: Objective did not converge. You might want to increase the number of iterations, check the scale of the features or consider increasing regularisation. Duality gap: 7.889e-01, tolerance: 3.289e-03\n",
      "  model = cd_fast.enet_coordinate_descent(\n"
     ]
    },
    {
     "name": "stdout",
     "output_type": "stream",
     "text": [
      "Parameter: 1.00e-04 \t Train score: 0.7961 \t Cross val score: 0.4139 \t Nonzero coef: 585\n"
     ]
    },
    {
     "name": "stderr",
     "output_type": "stream",
     "text": [
      "/home/jtl/anaconda3/envs/qingyi/lib/python3.8/site-packages/sklearn/linear_model/_coordinate_descent.py:647: ConvergenceWarning: Objective did not converge. You might want to increase the number of iterations, check the scale of the features or consider increasing regularisation. Duality gap: 4.618e-01, tolerance: 3.383e-03\n",
      "  model = cd_fast.enet_coordinate_descent(\n",
      "/home/jtl/anaconda3/envs/qingyi/lib/python3.8/site-packages/sklearn/linear_model/_coordinate_descent.py:647: ConvergenceWarning: Objective did not converge. You might want to increase the number of iterations, check the scale of the features or consider increasing regularisation. Duality gap: 3.632e-01, tolerance: 3.240e-03\n",
      "  model = cd_fast.enet_coordinate_descent(\n",
      "/home/jtl/anaconda3/envs/qingyi/lib/python3.8/site-packages/sklearn/linear_model/_coordinate_descent.py:647: ConvergenceWarning: Objective did not converge. You might want to increase the number of iterations, check the scale of the features or consider increasing regularisation. Duality gap: 8.268e-01, tolerance: 3.355e-03\n",
      "  model = cd_fast.enet_coordinate_descent(\n",
      "/home/jtl/anaconda3/envs/qingyi/lib/python3.8/site-packages/sklearn/linear_model/_coordinate_descent.py:647: ConvergenceWarning: Objective did not converge. You might want to increase the number of iterations, check the scale of the features or consider increasing regularisation. Duality gap: 4.999e-01, tolerance: 3.441e-03\n",
      "  model = cd_fast.enet_coordinate_descent(\n",
      "/home/jtl/anaconda3/envs/qingyi/lib/python3.8/site-packages/sklearn/linear_model/_coordinate_descent.py:647: ConvergenceWarning: Objective did not converge. You might want to increase the number of iterations, check the scale of the features or consider increasing regularisation. Duality gap: 4.980e-01, tolerance: 3.289e-03\n",
      "  model = cd_fast.enet_coordinate_descent(\n"
     ]
    },
    {
     "name": "stdout",
     "output_type": "stream",
     "text": [
      "Parameter: 2.00e-04 \t Train score: 0.6408 \t Cross val score: 0.4638 \t Nonzero coef: 226\n"
     ]
    },
    {
     "name": "stderr",
     "output_type": "stream",
     "text": [
      "/home/jtl/anaconda3/envs/qingyi/lib/python3.8/site-packages/sklearn/linear_model/_coordinate_descent.py:647: ConvergenceWarning: Objective did not converge. You might want to increase the number of iterations, check the scale of the features or consider increasing regularisation. Duality gap: 5.369e-01, tolerance: 3.383e-03\n",
      "  model = cd_fast.enet_coordinate_descent(\n",
      "/home/jtl/anaconda3/envs/qingyi/lib/python3.8/site-packages/sklearn/linear_model/_coordinate_descent.py:647: ConvergenceWarning: Objective did not converge. You might want to increase the number of iterations, check the scale of the features or consider increasing regularisation. Duality gap: 3.636e-01, tolerance: 3.240e-03\n",
      "  model = cd_fast.enet_coordinate_descent(\n",
      "/home/jtl/anaconda3/envs/qingyi/lib/python3.8/site-packages/sklearn/linear_model/_coordinate_descent.py:647: ConvergenceWarning: Objective did not converge. You might want to increase the number of iterations, check the scale of the features or consider increasing regularisation. Duality gap: 3.556e-01, tolerance: 3.355e-03\n",
      "  model = cd_fast.enet_coordinate_descent(\n",
      "/home/jtl/anaconda3/envs/qingyi/lib/python3.8/site-packages/sklearn/linear_model/_coordinate_descent.py:647: ConvergenceWarning: Objective did not converge. You might want to increase the number of iterations, check the scale of the features or consider increasing regularisation. Duality gap: 3.954e-01, tolerance: 3.441e-03\n",
      "  model = cd_fast.enet_coordinate_descent(\n",
      "/home/jtl/anaconda3/envs/qingyi/lib/python3.8/site-packages/sklearn/linear_model/_coordinate_descent.py:647: ConvergenceWarning: Objective did not converge. You might want to increase the number of iterations, check the scale of the features or consider increasing regularisation. Duality gap: 1.262e-01, tolerance: 3.289e-03\n",
      "  model = cd_fast.enet_coordinate_descent(\n"
     ]
    },
    {
     "name": "stdout",
     "output_type": "stream",
     "text": [
      "Parameter: 3.00e-04 \t Train score: 0.5628 \t Cross val score: 0.4713 \t Nonzero coef: 112\n"
     ]
    },
    {
     "name": "stderr",
     "output_type": "stream",
     "text": [
      "/home/jtl/anaconda3/envs/qingyi/lib/python3.8/site-packages/sklearn/linear_model/_coordinate_descent.py:647: ConvergenceWarning: Objective did not converge. You might want to increase the number of iterations, check the scale of the features or consider increasing regularisation. Duality gap: 3.060e-01, tolerance: 3.383e-03\n",
      "  model = cd_fast.enet_coordinate_descent(\n",
      "/home/jtl/anaconda3/envs/qingyi/lib/python3.8/site-packages/sklearn/linear_model/_coordinate_descent.py:647: ConvergenceWarning: Objective did not converge. You might want to increase the number of iterations, check the scale of the features or consider increasing regularisation. Duality gap: 1.044e-01, tolerance: 3.240e-03\n",
      "  model = cd_fast.enet_coordinate_descent(\n",
      "/home/jtl/anaconda3/envs/qingyi/lib/python3.8/site-packages/sklearn/linear_model/_coordinate_descent.py:647: ConvergenceWarning: Objective did not converge. You might want to increase the number of iterations, check the scale of the features or consider increasing regularisation. Duality gap: 1.956e-01, tolerance: 3.355e-03\n",
      "  model = cd_fast.enet_coordinate_descent(\n",
      "/home/jtl/anaconda3/envs/qingyi/lib/python3.8/site-packages/sklearn/linear_model/_coordinate_descent.py:647: ConvergenceWarning: Objective did not converge. You might want to increase the number of iterations, check the scale of the features or consider increasing regularisation. Duality gap: 3.114e-01, tolerance: 3.441e-03\n",
      "  model = cd_fast.enet_coordinate_descent(\n",
      "/home/jtl/anaconda3/envs/qingyi/lib/python3.8/site-packages/sklearn/linear_model/_coordinate_descent.py:647: ConvergenceWarning: Objective did not converge. You might want to increase the number of iterations, check the scale of the features or consider increasing regularisation. Duality gap: 7.437e-02, tolerance: 3.289e-03\n",
      "  model = cd_fast.enet_coordinate_descent(\n"
     ]
    },
    {
     "name": "stdout",
     "output_type": "stream",
     "text": [
      "Parameter: 4.00e-04 \t Train score: 0.5255 \t Cross val score: 0.4684 \t Nonzero coef: 61\n"
     ]
    },
    {
     "name": "stderr",
     "output_type": "stream",
     "text": [
      "/home/jtl/anaconda3/envs/qingyi/lib/python3.8/site-packages/sklearn/linear_model/_coordinate_descent.py:647: ConvergenceWarning: Objective did not converge. You might want to increase the number of iterations, check the scale of the features or consider increasing regularisation. Duality gap: 1.888e-01, tolerance: 3.383e-03\n",
      "  model = cd_fast.enet_coordinate_descent(\n",
      "/home/jtl/anaconda3/envs/qingyi/lib/python3.8/site-packages/sklearn/linear_model/_coordinate_descent.py:647: ConvergenceWarning: Objective did not converge. You might want to increase the number of iterations, check the scale of the features or consider increasing regularisation. Duality gap: 8.701e-02, tolerance: 3.240e-03\n",
      "  model = cd_fast.enet_coordinate_descent(\n",
      "/home/jtl/anaconda3/envs/qingyi/lib/python3.8/site-packages/sklearn/linear_model/_coordinate_descent.py:647: ConvergenceWarning: Objective did not converge. You might want to increase the number of iterations, check the scale of the features or consider increasing regularisation. Duality gap: 9.665e-02, tolerance: 3.355e-03\n",
      "  model = cd_fast.enet_coordinate_descent(\n",
      "/home/jtl/anaconda3/envs/qingyi/lib/python3.8/site-packages/sklearn/linear_model/_coordinate_descent.py:647: ConvergenceWarning: Objective did not converge. You might want to increase the number of iterations, check the scale of the features or consider increasing regularisation. Duality gap: 1.111e-01, tolerance: 3.441e-03\n",
      "  model = cd_fast.enet_coordinate_descent(\n",
      "/home/jtl/anaconda3/envs/qingyi/lib/python3.8/site-packages/sklearn/linear_model/_coordinate_descent.py:647: ConvergenceWarning: Objective did not converge. You might want to increase the number of iterations, check the scale of the features or consider increasing regularisation. Duality gap: 2.762e-02, tolerance: 3.289e-03\n",
      "  model = cd_fast.enet_coordinate_descent(\n"
     ]
    },
    {
     "name": "stdout",
     "output_type": "stream",
     "text": [
      "Parameter: 5.00e-04 \t Train score: 0.5091 \t Cross val score: 0.4650 \t Nonzero coef: 44\n"
     ]
    },
    {
     "name": "stderr",
     "output_type": "stream",
     "text": [
      "/home/jtl/anaconda3/envs/qingyi/lib/python3.8/site-packages/sklearn/linear_model/_coordinate_descent.py:647: ConvergenceWarning: Objective did not converge. You might want to increase the number of iterations, check the scale of the features or consider increasing regularisation. Duality gap: 1.025e-01, tolerance: 3.383e-03\n",
      "  model = cd_fast.enet_coordinate_descent(\n",
      "/home/jtl/anaconda3/envs/qingyi/lib/python3.8/site-packages/sklearn/linear_model/_coordinate_descent.py:647: ConvergenceWarning: Objective did not converge. You might want to increase the number of iterations, check the scale of the features or consider increasing regularisation. Duality gap: 9.518e-02, tolerance: 3.240e-03\n",
      "  model = cd_fast.enet_coordinate_descent(\n",
      "/home/jtl/anaconda3/envs/qingyi/lib/python3.8/site-packages/sklearn/linear_model/_coordinate_descent.py:647: ConvergenceWarning: Objective did not converge. You might want to increase the number of iterations, check the scale of the features or consider increasing regularisation. Duality gap: 1.575e-01, tolerance: 3.355e-03\n",
      "  model = cd_fast.enet_coordinate_descent(\n",
      "/home/jtl/anaconda3/envs/qingyi/lib/python3.8/site-packages/sklearn/linear_model/_coordinate_descent.py:647: ConvergenceWarning: Objective did not converge. You might want to increase the number of iterations, check the scale of the features or consider increasing regularisation. Duality gap: 1.476e-01, tolerance: 3.441e-03\n",
      "  model = cd_fast.enet_coordinate_descent(\n",
      "/home/jtl/anaconda3/envs/qingyi/lib/python3.8/site-packages/sklearn/linear_model/_coordinate_descent.py:647: ConvergenceWarning: Objective did not converge. You might want to increase the number of iterations, check the scale of the features or consider increasing regularisation. Duality gap: 3.012e-02, tolerance: 3.289e-03\n",
      "  model = cd_fast.enet_coordinate_descent(\n"
     ]
    },
    {
     "name": "stdout",
     "output_type": "stream",
     "text": [
      "Parameter: 6.00e-04 \t Train score: 0.4980 \t Cross val score: 0.4612 \t Nonzero coef: 38\n"
     ]
    },
    {
     "name": "stderr",
     "output_type": "stream",
     "text": [
      "/home/jtl/anaconda3/envs/qingyi/lib/python3.8/site-packages/sklearn/linear_model/_coordinate_descent.py:647: ConvergenceWarning: Objective did not converge. You might want to increase the number of iterations, check the scale of the features or consider increasing regularisation. Duality gap: 9.141e-02, tolerance: 3.383e-03\n",
      "  model = cd_fast.enet_coordinate_descent(\n",
      "/home/jtl/anaconda3/envs/qingyi/lib/python3.8/site-packages/sklearn/linear_model/_coordinate_descent.py:647: ConvergenceWarning: Objective did not converge. You might want to increase the number of iterations, check the scale of the features or consider increasing regularisation. Duality gap: 5.741e-02, tolerance: 3.240e-03\n",
      "  model = cd_fast.enet_coordinate_descent(\n",
      "/home/jtl/anaconda3/envs/qingyi/lib/python3.8/site-packages/sklearn/linear_model/_coordinate_descent.py:647: ConvergenceWarning: Objective did not converge. You might want to increase the number of iterations, check the scale of the features or consider increasing regularisation. Duality gap: 1.571e-01, tolerance: 3.355e-03\n",
      "  model = cd_fast.enet_coordinate_descent(\n",
      "/home/jtl/anaconda3/envs/qingyi/lib/python3.8/site-packages/sklearn/linear_model/_coordinate_descent.py:647: ConvergenceWarning: Objective did not converge. You might want to increase the number of iterations, check the scale of the features or consider increasing regularisation. Duality gap: 8.646e-02, tolerance: 3.441e-03\n",
      "  model = cd_fast.enet_coordinate_descent(\n",
      "/home/jtl/anaconda3/envs/qingyi/lib/python3.8/site-packages/sklearn/linear_model/_coordinate_descent.py:647: ConvergenceWarning: Objective did not converge. You might want to increase the number of iterations, check the scale of the features or consider increasing regularisation. Duality gap: 9.015e-03, tolerance: 3.289e-03\n",
      "  model = cd_fast.enet_coordinate_descent(\n"
     ]
    },
    {
     "name": "stdout",
     "output_type": "stream",
     "text": [
      "Parameter: 7.00e-04 \t Train score: 0.4877 \t Cross val score: 0.4566 \t Nonzero coef: 33\n"
     ]
    },
    {
     "name": "stderr",
     "output_type": "stream",
     "text": [
      "/home/jtl/anaconda3/envs/qingyi/lib/python3.8/site-packages/sklearn/linear_model/_coordinate_descent.py:647: ConvergenceWarning: Objective did not converge. You might want to increase the number of iterations, check the scale of the features or consider increasing regularisation. Duality gap: 7.755e-02, tolerance: 3.383e-03\n",
      "  model = cd_fast.enet_coordinate_descent(\n",
      "/home/jtl/anaconda3/envs/qingyi/lib/python3.8/site-packages/sklearn/linear_model/_coordinate_descent.py:647: ConvergenceWarning: Objective did not converge. You might want to increase the number of iterations, check the scale of the features or consider increasing regularisation. Duality gap: 4.168e-02, tolerance: 3.240e-03\n",
      "  model = cd_fast.enet_coordinate_descent(\n",
      "/home/jtl/anaconda3/envs/qingyi/lib/python3.8/site-packages/sklearn/linear_model/_coordinate_descent.py:647: ConvergenceWarning: Objective did not converge. You might want to increase the number of iterations, check the scale of the features or consider increasing regularisation. Duality gap: 1.159e-01, tolerance: 3.355e-03\n",
      "  model = cd_fast.enet_coordinate_descent(\n",
      "/home/jtl/anaconda3/envs/qingyi/lib/python3.8/site-packages/sklearn/linear_model/_coordinate_descent.py:647: ConvergenceWarning: Objective did not converge. You might want to increase the number of iterations, check the scale of the features or consider increasing regularisation. Duality gap: 6.518e-02, tolerance: 3.441e-03\n",
      "  model = cd_fast.enet_coordinate_descent(\n",
      "/home/jtl/anaconda3/envs/qingyi/lib/python3.8/site-packages/sklearn/linear_model/_coordinate_descent.py:647: ConvergenceWarning: Objective did not converge. You might want to increase the number of iterations, check the scale of the features or consider increasing regularisation. Duality gap: 1.232e-02, tolerance: 3.289e-03\n",
      "  model = cd_fast.enet_coordinate_descent(\n"
     ]
    },
    {
     "name": "stdout",
     "output_type": "stream",
     "text": [
      "Parameter: 8.00e-04 \t Train score: 0.4784 \t Cross val score: 0.4508 \t Nonzero coef: 28\n"
     ]
    },
    {
     "name": "stderr",
     "output_type": "stream",
     "text": [
      "/home/jtl/anaconda3/envs/qingyi/lib/python3.8/site-packages/sklearn/linear_model/_coordinate_descent.py:647: ConvergenceWarning: Objective did not converge. You might want to increase the number of iterations, check the scale of the features or consider increasing regularisation. Duality gap: 2.003e-02, tolerance: 3.383e-03\n",
      "  model = cd_fast.enet_coordinate_descent(\n",
      "/home/jtl/anaconda3/envs/qingyi/lib/python3.8/site-packages/sklearn/linear_model/_coordinate_descent.py:647: ConvergenceWarning: Objective did not converge. You might want to increase the number of iterations, check the scale of the features or consider increasing regularisation. Duality gap: 1.992e-02, tolerance: 3.240e-03\n",
      "  model = cd_fast.enet_coordinate_descent(\n",
      "/home/jtl/anaconda3/envs/qingyi/lib/python3.8/site-packages/sklearn/linear_model/_coordinate_descent.py:647: ConvergenceWarning: Objective did not converge. You might want to increase the number of iterations, check the scale of the features or consider increasing regularisation. Duality gap: 2.538e-02, tolerance: 3.355e-03\n",
      "  model = cd_fast.enet_coordinate_descent(\n",
      "/home/jtl/anaconda3/envs/qingyi/lib/python3.8/site-packages/sklearn/linear_model/_coordinate_descent.py:647: ConvergenceWarning: Objective did not converge. You might want to increase the number of iterations, check the scale of the features or consider increasing regularisation. Duality gap: 3.119e-02, tolerance: 3.441e-03\n",
      "  model = cd_fast.enet_coordinate_descent(\n",
      "/home/jtl/anaconda3/envs/qingyi/lib/python3.8/site-packages/sklearn/linear_model/_coordinate_descent.py:647: ConvergenceWarning: Objective did not converge. You might want to increase the number of iterations, check the scale of the features or consider increasing regularisation. Duality gap: 6.551e-03, tolerance: 3.289e-03\n",
      "  model = cd_fast.enet_coordinate_descent(\n"
     ]
    },
    {
     "name": "stdout",
     "output_type": "stream",
     "text": [
      "Parameter: 1.00e-03 \t Train score: 0.4591 \t Cross val score: 0.4365 \t Nonzero coef: 24\n",
      "Parameter: 2.00e-03 \t Train score: 0.4051 \t Cross val score: 0.3934 \t Nonzero coef: 12\n",
      "Parameter: 5.00e-03 \t Train score: 0.3329 \t Cross val score: 0.3274 \t Nonzero coef: 5\n"
     ]
    }
   ],
   "source": [
    "# Lasso\n",
    "for a in (1e-4)*np.array([0.1,1,2,3,4,5,6,7,8,10,20,50]):\n",
    "    lasso = linear_model.Lasso(alpha=a)\n",
    "    cross_results = cross_validate(lasso, x, y[:,y_index], cv=group_split, groups=groups, scoring='r2', return_train_score=True, return_estimator=True)\n",
    "    nz = 0\n",
    "    for m in cross_results['estimator']:\n",
    "        nz += sum(m.coef_ != 0)\n",
    "    nz /= 5\n",
    "    \n",
    "    print(\"Parameter: %.2e \\t Train score: %.4f \\t Cross val score: %.4f \\t Nonzero coef: %d\" % \n",
    "          (a, cross_results['train_score'].mean(), cross_results['test_score'].mean(), nz))"
   ]
  },
  {
   "cell_type": "markdown",
   "metadata": {},
   "source": [
    "# 2. MNL"
   ]
  },
  {
   "cell_type": "code",
   "execution_count": 30,
   "metadata": {},
   "outputs": [
    {
     "name": "stdout",
     "output_type": "stream",
     "text": [
      "[lr: 1.00e-04, wd: 1.00e-01]\n",
      "[epoch: 995] Train KL loss: 0.135 Train R2 score: 0.512 0.594 0.015 0.451 \n",
      "[epoch: 995] Test KL loss: 0.144 Test R2 score: 0.494 0.590 -0.011 0.422 \n",
      "\n",
      "[lr: 1.00e-04, wd: 1.00e-02]\n",
      "[epoch: 995] Train KL loss: 0.136 Train R2 score: 0.489 0.588 0.017 0.480 \n",
      "[epoch: 995] Test KL loss: 0.144 Test R2 score: 0.484 0.588 -0.011 0.433 \n",
      "\n",
      "[lr: 1.00e-04, wd: 1.00e-03]\n",
      "[epoch: 995] Train KL loss: 0.136 Train R2 score: 0.493 0.590 0.028 0.460 \n",
      "[epoch: 995] Test KL loss: 0.144 Test R2 score: 0.490 0.588 -0.014 0.428 \n",
      "\n",
      "[lr: 1.00e-04, wd: 1.00e-04]\n",
      "[epoch: 995] Train KL loss: 0.136 Train R2 score: 0.490 0.590 0.026 0.478 \n",
      "[epoch: 995] Test KL loss: 0.144 Test R2 score: 0.487 0.588 -0.015 0.433 \n",
      "\n",
      "[lr: 2.00e-04, wd: 1.00e-01]\n",
      "Diverging. stop.\n",
      "[epoch:  35] Train KL loss: 0.188 Train R2 score: 0.203 0.264 -0.030 0.212 \n",
      "[epoch:  35] Test KL loss: 0.196 Test R2 score: 0.151 0.253 -0.034 0.222 \n",
      "\n",
      "[lr: 2.00e-04, wd: 1.00e-02]\n",
      "Diverging. stop.\n",
      "[epoch:  35] Train KL loss: 0.194 Train R2 score: 0.159 0.238 -0.078 0.200 \n",
      "[epoch:  35] Test KL loss: 0.190 Test R2 score: 0.219 0.286 -0.008 0.179 \n",
      "\n",
      "[lr: 2.00e-04, wd: 1.00e-03]\n",
      "[epoch: 995] Train KL loss: 0.133 Train R2 score: 0.501 0.604 0.048 0.495 \n",
      "[epoch: 995] Test KL loss: 0.143 Test R2 score: 0.492 0.596 -0.014 0.446 \n",
      "\n",
      "[lr: 2.00e-04, wd: 1.00e-04]\n",
      "Diverging. stop.\n",
      "[epoch:  35] Train KL loss: 0.196 Train R2 score: 0.152 0.208 -0.044 0.213 \n",
      "[epoch:  35] Test KL loss: 0.203 Test R2 score: 0.080 0.221 -0.025 0.215 \n",
      "\n",
      "[lr: 1.00e-04, wd: 1.00e-01]\n",
      "[epoch: 995] Train KL loss: 0.135 Train R2 score: 0.494 0.587 0.026 0.486 \n",
      "[epoch: 995] Test KL loss: 0.154 Test R2 score: 0.428 0.547 -0.004 0.375 \n",
      "\n",
      "[lr: 1.00e-04, wd: 1.00e-02]\n",
      "[epoch: 995] Train KL loss: 0.136 Train R2 score: 0.485 0.582 0.032 0.476 \n",
      "[epoch: 995] Test KL loss: 0.155 Test R2 score: 0.423 0.540 -0.009 0.371 \n",
      "\n",
      "[lr: 1.00e-04, wd: 1.00e-03]\n",
      "[epoch: 995] Train KL loss: 0.135 Train R2 score: 0.488 0.592 0.036 0.490 \n",
      "[epoch: 995] Test KL loss: 0.154 Test R2 score: 0.428 0.551 -0.010 0.378 \n",
      "\n",
      "[lr: 1.00e-04, wd: 1.00e-04]\n",
      "Diverging. stop.\n",
      "[epoch:  35] Train KL loss: 0.197 Train R2 score: 0.134 0.199 -0.012 0.164 \n",
      "[epoch:  35] Test KL loss: 0.209 Test R2 score: 0.141 0.195 -0.008 0.163 \n",
      "\n",
      "[lr: 2.00e-04, wd: 1.00e-01]\n",
      "[epoch: 995] Train KL loss: 0.130 Train R2 score: 0.518 0.615 0.049 0.517 \n",
      "[epoch: 995] Test KL loss: 0.152 Test R2 score: 0.439 0.565 -0.012 0.391 \n",
      "\n",
      "[lr: 2.00e-04, wd: 1.00e-02]\n",
      "Diverging. stop.\n",
      "[epoch: 910] Train KL loss: 0.129 Train R2 score: 0.536 0.621 0.043 0.500 \n",
      "[epoch: 910] Test KL loss: 0.152 Test R2 score: 0.443 0.566 -0.012 0.381 \n",
      "\n",
      "[lr: 2.00e-04, wd: 1.00e-03]\n",
      "[epoch: 995] Train KL loss: 0.130 Train R2 score: 0.525 0.615 0.043 0.505 \n",
      "[epoch: 995] Test KL loss: 0.152 Test R2 score: 0.440 0.564 -0.011 0.382 \n",
      "\n",
      "[lr: 2.00e-04, wd: 1.00e-04]\n",
      "[epoch: 995] Train KL loss: 0.130 Train R2 score: 0.519 0.614 0.040 0.515 \n",
      "[epoch: 995] Test KL loss: 0.152 Test R2 score: 0.440 0.567 -0.012 0.387 \n",
      "\n",
      "[lr: 1.00e-04, wd: 1.00e-01]\n",
      "[epoch: 995] Train KL loss: 0.134 Train R2 score: 0.519 0.617 0.035 0.480 \n",
      "[epoch: 995] Test KL loss: 0.145 Test R2 score: 0.392 0.496 -0.052 0.419 \n",
      "\n",
      "[lr: 1.00e-04, wd: 1.00e-02]\n",
      "[epoch: 995] Train KL loss: 0.138 Train R2 score: 0.498 0.599 0.023 0.479 \n",
      "[epoch: 995] Test KL loss: 0.145 Test R2 score: 0.388 0.493 -0.050 0.421 \n",
      "\n",
      "[lr: 1.00e-04, wd: 1.00e-03]\n",
      "Diverging. stop.\n",
      "[epoch: 650] Train KL loss: 0.139 Train R2 score: 0.529 0.598 0.017 0.410 \n",
      "[epoch: 650] Test KL loss: 0.146 Test R2 score: 0.392 0.491 -0.046 0.396 \n",
      "\n",
      "[lr: 1.00e-04, wd: 1.00e-04]\n",
      "[epoch: 995] Train KL loss: 0.136 Train R2 score: 0.506 0.607 0.045 0.479 \n",
      "[epoch: 995] Test KL loss: 0.145 Test R2 score: 0.389 0.494 -0.049 0.424 \n",
      "\n",
      "[lr: 2.00e-04, wd: 1.00e-01]\n",
      "[epoch: 995] Train KL loss: 0.131 Train R2 score: 0.531 0.630 0.050 0.500 \n",
      "[epoch: 995] Test KL loss: 0.143 Test R2 score: 0.395 0.505 -0.051 0.430 \n",
      "\n",
      "[lr: 2.00e-04, wd: 1.00e-02]\n",
      "[epoch: 995] Train KL loss: 0.132 Train R2 score: 0.522 0.623 0.037 0.512 \n",
      "[epoch: 995] Test KL loss: 0.143 Test R2 score: 0.395 0.502 -0.049 0.430 \n",
      "\n",
      "[lr: 2.00e-04, wd: 1.00e-03]\n",
      "[epoch: 995] Train KL loss: 0.132 Train R2 score: 0.527 0.626 0.047 0.499 \n",
      "[epoch: 995] Test KL loss: 0.144 Test R2 score: 0.394 0.504 -0.053 0.431 \n",
      "\n",
      "[lr: 2.00e-04, wd: 1.00e-04]\n",
      "Diverging. stop.\n",
      "[epoch:  35] Train KL loss: 0.200 Train R2 score: 0.177 0.235 -0.030 0.176 \n",
      "[epoch:  35] Test KL loss: 0.200 Test R2 score: 0.071 0.130 -0.151 0.128 \n",
      "\n",
      "[lr: 1.00e-04, wd: 1.00e-01]\n",
      "[epoch: 995] Train KL loss: 0.138 Train R2 score: 0.468 0.587 0.027 0.491 \n",
      "[epoch: 995] Test KL loss: 0.131 Test R2 score: 0.563 0.615 -0.029 0.450 \n",
      "\n",
      "[lr: 1.00e-04, wd: 1.00e-02]\n",
      "[epoch: 995] Train KL loss: 0.139 Train R2 score: 0.463 0.581 0.023 0.483 \n",
      "[epoch: 995] Test KL loss: 0.132 Test R2 score: 0.556 0.612 -0.027 0.439 \n",
      "\n",
      "[lr: 1.00e-04, wd: 1.00e-03]\n",
      "[epoch: 995] Train KL loss: 0.140 Train R2 score: 0.456 0.578 0.030 0.474 \n",
      "[epoch: 995] Test KL loss: 0.133 Test R2 score: 0.550 0.605 -0.027 0.439 \n",
      "\n",
      "[lr: 1.00e-04, wd: 1.00e-04]\n",
      "[epoch: 995] Train KL loss: 0.141 Train R2 score: 0.450 0.571 0.023 0.466 \n",
      "[epoch: 995] Test KL loss: 0.134 Test R2 score: 0.537 0.597 -0.036 0.435 \n",
      "\n",
      "[lr: 2.00e-04, wd: 1.00e-01]\n",
      "[epoch: 995] Train KL loss: 0.134 Train R2 score: 0.489 0.603 0.039 0.489 \n",
      "[epoch: 995] Test KL loss: 0.129 Test R2 score: 0.578 0.625 -0.025 0.453 \n",
      "\n",
      "[lr: 2.00e-04, wd: 1.00e-02]\n",
      "Diverging. stop.\n",
      "[epoch: 500] Train KL loss: 0.141 Train R2 score: 0.468 0.578 0.019 0.441 \n",
      "[epoch: 500] Test KL loss: 0.132 Test R2 score: 0.564 0.606 -0.032 0.425 \n",
      "\n",
      "[lr: 2.00e-04, wd: 1.00e-03]\n",
      "[epoch: 995] Train KL loss: 0.135 Train R2 score: 0.477 0.599 0.031 0.510 \n",
      "[epoch: 995] Test KL loss: 0.129 Test R2 score: 0.569 0.624 -0.028 0.457 \n",
      "\n",
      "[lr: 2.00e-04, wd: 1.00e-04]\n",
      "Diverging. stop.\n",
      "[epoch:  35] Train KL loss: 0.191 Train R2 score: 0.180 0.262 -0.050 0.235 \n",
      "[epoch:  35] Test KL loss: 0.197 Test R2 score: 0.180 0.240 -0.446 0.232 \n",
      "\n",
      "[lr: 1.00e-04, wd: 1.00e-01]\n",
      "[epoch: 995] Train KL loss: 0.134 Train R2 score: 0.508 0.597 0.042 0.471 \n",
      "[epoch: 995] Test KL loss: 0.154 Test R2 score: 0.386 0.539 -0.028 0.474 \n",
      "\n",
      "[lr: 1.00e-04, wd: 1.00e-02]\n",
      "[epoch: 995] Train KL loss: 0.132 Train R2 score: 0.517 0.606 0.035 0.483 \n",
      "[epoch: 995] Test KL loss: 0.153 Test R2 score: 0.388 0.545 -0.026 0.480 \n",
      "\n",
      "[lr: 1.00e-04, wd: 1.00e-03]\n",
      "[epoch: 995] Train KL loss: 0.135 Train R2 score: 0.501 0.591 0.033 0.460 \n",
      "[epoch: 995] Test KL loss: 0.154 Test R2 score: 0.385 0.536 -0.026 0.467 \n",
      "\n",
      "[lr: 1.00e-04, wd: 1.00e-04]\n",
      "[epoch: 995] Train KL loss: 0.137 Train R2 score: 0.493 0.584 0.030 0.457 \n",
      "[epoch: 995] Test KL loss: 0.155 Test R2 score: 0.379 0.530 -0.022 0.468 \n",
      "\n",
      "[lr: 2.00e-04, wd: 1.00e-01]\n",
      "Diverging. stop.\n",
      "[epoch:  35] Train KL loss: 0.194 Train R2 score: 0.166 0.259 -0.039 0.209 \n",
      "[epoch:  35] Test KL loss: 0.199 Test R2 score: 0.185 0.274 -0.088 0.236 \n",
      "\n",
      "[lr: 2.00e-04, wd: 1.00e-02]\n",
      "[epoch: 995] Train KL loss: 0.129 Train R2 score: 0.536 0.624 0.041 0.493 \n",
      "[epoch: 995] Test KL loss: 0.153 Test R2 score: 0.392 0.552 -0.032 0.484 \n",
      "\n",
      "[lr: 2.00e-04, wd: 1.00e-03]\n",
      "Diverging. stop.\n",
      "[epoch:  35] Train KL loss: 0.197 Train R2 score: 0.190 0.251 -0.010 0.087 \n",
      "[epoch:  35] Test KL loss: 0.215 Test R2 score: 0.053 0.222 -0.178 0.114 \n",
      "\n",
      "[lr: 2.00e-04, wd: 1.00e-04]\n",
      "[epoch: 995] Train KL loss: 0.129 Train R2 score: 0.531 0.620 0.056 0.496 \n",
      "[epoch: 995] Test KL loss: 0.153 Test R2 score: 0.389 0.548 -0.036 0.486 \n",
      "\n"
     ]
    }
   ],
   "source": [
    "from util_aggregate_models import mnl_torch\n",
    "\n",
    "# dataloader and model definition\n",
    "\n",
    "lr_list = [0.0001, 0.0002]\n",
    "wd_list = [0.1, 0.01, 0.001, 0.0001]\n",
    "\n",
    "results = {}\n",
    "for i in range(5):\n",
    "    \n",
    "    train_filter = groups != i\n",
    "    test_filter = groups == i\n",
    "    x_train = x[train_filter]\n",
    "    y_train = y[train_filter]\n",
    "    x_test = x[test_filter]\n",
    "    y_test = y[test_filter]\n",
    "    sst_train = np.sum(np.power(y_train - np.mean(y_train, axis=0), 2), axis=0)\n",
    "    sst_test = np.sum(np.power(y_test - np.mean(y_test, axis=0), 2), axis=0)\n",
    "    \n",
    "    trainset = SurveyDataset(torch.tensor(x_train,  dtype=torch.float), torch.tensor(y_train, dtype=torch.float))\n",
    "    trainloader = DataLoader(trainset, batch_size=len(trainset), shuffle=False)\n",
    "\n",
    "    testset = SurveyDataset(torch.tensor(x_test, dtype=torch.float), torch.tensor(y_test, dtype=torch.float))\n",
    "    testloader = DataLoader(testset, batch_size=len(testset), shuffle=False)\n",
    "\n",
    "    ret_dict = mnl_torch(trainloader, testloader, x_train.shape[-1], sst_train, sst_test, lr_list=lr_list, wd_list=wd_list)\n",
    "    \n",
    "    results[i] = ret_dict\n",
    "    "
   ]
  },
  {
   "cell_type": "code",
   "execution_count": 31,
   "metadata": {},
   "outputs": [
    {
     "data": {
      "text/html": [
       "<div>\n",
       "<style scoped>\n",
       "    .dataframe tbody tr th:only-of-type {\n",
       "        vertical-align: middle;\n",
       "    }\n",
       "\n",
       "    .dataframe tbody tr th {\n",
       "        vertical-align: top;\n",
       "    }\n",
       "\n",
       "    .dataframe thead th {\n",
       "        text-align: right;\n",
       "    }\n",
       "</style>\n",
       "<table border=\"1\" class=\"dataframe\">\n",
       "  <thead>\n",
       "    <tr style=\"text-align: right;\">\n",
       "      <th></th>\n",
       "      <th>learning_rate</th>\n",
       "      <th>weight_decay</th>\n",
       "      <th>train_kl_loss</th>\n",
       "      <th>test_kl_loss</th>\n",
       "      <th>train_r2_auto</th>\n",
       "      <th>train_r2_active</th>\n",
       "      <th>train_r2_pt</th>\n",
       "      <th>test_r2_auto</th>\n",
       "      <th>test_r2_active</th>\n",
       "      <th>test_r2_pt</th>\n",
       "    </tr>\n",
       "  </thead>\n",
       "  <tbody>\n",
       "    <tr>\n",
       "      <th>0</th>\n",
       "      <td>0.0001</td>\n",
       "      <td>0.1000</td>\n",
       "      <td>0.135269</td>\n",
       "      <td>0.145609</td>\n",
       "      <td>0.596259</td>\n",
       "      <td>0.500021</td>\n",
       "      <td>0.475562</td>\n",
       "      <td>0.557258</td>\n",
       "      <td>0.452492</td>\n",
       "      <td>0.427976</td>\n",
       "    </tr>\n",
       "    <tr>\n",
       "      <th>1</th>\n",
       "      <td>0.0001</td>\n",
       "      <td>0.0100</td>\n",
       "      <td>0.136264</td>\n",
       "      <td>0.145804</td>\n",
       "      <td>0.591027</td>\n",
       "      <td>0.490323</td>\n",
       "      <td>0.480119</td>\n",
       "      <td>0.555728</td>\n",
       "      <td>0.447794</td>\n",
       "      <td>0.428981</td>\n",
       "    </tr>\n",
       "    <tr>\n",
       "      <th>2</th>\n",
       "      <td>0.0001</td>\n",
       "      <td>0.0010</td>\n",
       "      <td>0.136934</td>\n",
       "      <td>0.146204</td>\n",
       "      <td>0.589605</td>\n",
       "      <td>0.493532</td>\n",
       "      <td>0.458733</td>\n",
       "      <td>0.554233</td>\n",
       "      <td>0.449044</td>\n",
       "      <td>0.421792</td>\n",
       "    </tr>\n",
       "    <tr>\n",
       "      <th>5</th>\n",
       "      <td>0.0002</td>\n",
       "      <td>0.0100</td>\n",
       "      <td>0.144748</td>\n",
       "      <td>0.154107</td>\n",
       "      <td>0.536809</td>\n",
       "      <td>0.444513</td>\n",
       "      <td>0.429313</td>\n",
       "      <td>0.502423</td>\n",
       "      <td>0.402650</td>\n",
       "      <td>0.379812</td>\n",
       "    </tr>\n",
       "    <tr>\n",
       "      <th>6</th>\n",
       "      <td>0.0002</td>\n",
       "      <td>0.0010</td>\n",
       "      <td>0.145220</td>\n",
       "      <td>0.156580</td>\n",
       "      <td>0.538940</td>\n",
       "      <td>0.444150</td>\n",
       "      <td>0.419119</td>\n",
       "      <td>0.502011</td>\n",
       "      <td>0.389693</td>\n",
       "      <td>0.366211</td>\n",
       "    </tr>\n",
       "    <tr>\n",
       "      <th>3</th>\n",
       "      <td>0.0001</td>\n",
       "      <td>0.0001</td>\n",
       "      <td>0.149216</td>\n",
       "      <td>0.157355</td>\n",
       "      <td>0.510182</td>\n",
       "      <td>0.414454</td>\n",
       "      <td>0.408719</td>\n",
       "      <td>0.480846</td>\n",
       "      <td>0.386853</td>\n",
       "      <td>0.384464</td>\n",
       "    </tr>\n",
       "    <tr>\n",
       "      <th>4</th>\n",
       "      <td>0.0002</td>\n",
       "      <td>0.1000</td>\n",
       "      <td>0.155222</td>\n",
       "      <td>0.163712</td>\n",
       "      <td>0.474246</td>\n",
       "      <td>0.381530</td>\n",
       "      <td>0.385296</td>\n",
       "      <td>0.444137</td>\n",
       "      <td>0.349600</td>\n",
       "      <td>0.346487</td>\n",
       "    </tr>\n",
       "    <tr>\n",
       "      <th>7</th>\n",
       "      <td>0.0002</td>\n",
       "      <td>0.0001</td>\n",
       "      <td>0.169133</td>\n",
       "      <td>0.180997</td>\n",
       "      <td>0.387798</td>\n",
       "      <td>0.312015</td>\n",
       "      <td>0.327007</td>\n",
       "      <td>0.341268</td>\n",
       "      <td>0.231982</td>\n",
       "      <td>0.289366</td>\n",
       "    </tr>\n",
       "  </tbody>\n",
       "</table>\n",
       "</div>"
      ],
      "text/plain": [
       "   learning_rate  weight_decay  train_kl_loss  test_kl_loss  train_r2_auto  \\\n",
       "0         0.0001        0.1000       0.135269      0.145609       0.596259   \n",
       "1         0.0001        0.0100       0.136264      0.145804       0.591027   \n",
       "2         0.0001        0.0010       0.136934      0.146204       0.589605   \n",
       "5         0.0002        0.0100       0.144748      0.154107       0.536809   \n",
       "6         0.0002        0.0010       0.145220      0.156580       0.538940   \n",
       "3         0.0001        0.0001       0.149216      0.157355       0.510182   \n",
       "4         0.0002        0.1000       0.155222      0.163712       0.474246   \n",
       "7         0.0002        0.0001       0.169133      0.180997       0.387798   \n",
       "\n",
       "   train_r2_active  train_r2_pt  test_r2_auto  test_r2_active  test_r2_pt  \n",
       "0         0.500021     0.475562      0.557258        0.452492    0.427976  \n",
       "1         0.490323     0.480119      0.555728        0.447794    0.428981  \n",
       "2         0.493532     0.458733      0.554233        0.449044    0.421792  \n",
       "5         0.444513     0.429313      0.502423        0.402650    0.379812  \n",
       "6         0.444150     0.419119      0.502011        0.389693    0.366211  \n",
       "3         0.414454     0.408719      0.480846        0.386853    0.384464  \n",
       "4         0.381530     0.385296      0.444137        0.349600    0.346487  \n",
       "7         0.312015     0.327007      0.341268        0.231982    0.289366  "
      ]
     },
     "execution_count": 31,
     "metadata": {},
     "output_type": "execute_result"
    }
   ],
   "source": [
    "df = []\n",
    "\n",
    "for (lr, wd) in itertools.product(lr_list, wd_list):\n",
    "\n",
    "    new = []\n",
    "    \n",
    "    for i in range(5):\n",
    "        new2 = []\n",
    "        for k,v in results[i][(lr,wd)].items():\n",
    "            new2.append(results[i][(lr,wd)][k]) \n",
    "        new.append(new2)\n",
    "        \n",
    "    new = np.array(new) \n",
    "    \n",
    "    df.append([lr] + [wd] + list(np.mean(new, axis=0)))\n",
    "\n",
    "\n",
    "pd.DataFrame(np.array(df), columns = ['learning_rate','weight_decay','train_kl_loss','test_kl_loss','train_r2_auto','train_r2_active','train_r2_pt',\n",
    "                                     'test_r2_auto','test_r2_active','test_r2_pt']).sort_values(by='test_kl_loss')"
   ]
  },
  {
   "cell_type": "code",
   "execution_count": null,
   "metadata": {},
   "outputs": [],
   "source": []
  },
  {
   "cell_type": "code",
   "execution_count": null,
   "metadata": {},
   "outputs": [],
   "source": []
  },
  {
   "cell_type": "code",
   "execution_count": null,
   "metadata": {},
   "outputs": [],
   "source": []
  },
  {
   "cell_type": "code",
   "execution_count": null,
   "metadata": {},
   "outputs": [],
   "source": []
  },
  {
   "cell_type": "code",
   "execution_count": 13,
   "metadata": {
    "scrolled": false
   },
   "outputs": [
    {
     "name": "stderr",
     "output_type": "stream",
     "text": [
      "<ipython-input-13-090637e82962>:12: UserWarning: With alpha=0, this algorithm does not converge well. You are advised to use the LinearRegression estimator\n",
      "  lasso.fit(x_train, auto_train)\n",
      "/home/jtl/anaconda3/envs/qingyi/lib/python3.8/site-packages/sklearn/linear_model/_coordinate_descent.py:647: UserWarning: Coordinate descent with no regularization may lead to unexpected results and is discouraged.\n",
      "  model = cd_fast.enet_coordinate_descent(\n"
     ]
    },
    {
     "name": "stdout",
     "output_type": "stream",
     "text": [
      "Parameter: 0.00e+00 Train R2: 1.0000 \t Test R: 0.2814 \t Nonzero coef: 10, 18432\n"
     ]
    },
    {
     "name": "stderr",
     "output_type": "stream",
     "text": [
      "/home/jtl/anaconda3/envs/qingyi/lib/python3.8/site-packages/sklearn/linear_model/_coordinate_descent.py:647: ConvergenceWarning: Objective did not converge. You might want to increase the number of iterations, check the scale of the features or consider increasing regularisation. Duality gap: 1.344e+00, tolerance: 7.704e-03\n",
      "  model = cd_fast.enet_coordinate_descent(\n"
     ]
    },
    {
     "name": "stdout",
     "output_type": "stream",
     "text": [
      "Parameter: 1.00e-05 Train R2: 0.9963 \t Test R: 0.3373 \t Nonzero coef: 9, 3579\n"
     ]
    },
    {
     "name": "stderr",
     "output_type": "stream",
     "text": [
      "/home/jtl/anaconda3/envs/qingyi/lib/python3.8/site-packages/sklearn/linear_model/_coordinate_descent.py:647: ConvergenceWarning: Objective did not converge. You might want to increase the number of iterations, check the scale of the features or consider increasing regularisation. Duality gap: 2.130e+00, tolerance: 7.704e-03\n",
      "  model = cd_fast.enet_coordinate_descent(\n"
     ]
    },
    {
     "name": "stdout",
     "output_type": "stream",
     "text": [
      "Parameter: 2.00e-05 Train R2: 0.9873 \t Test R: 0.3959 \t Nonzero coef: 9, 2531\n"
     ]
    },
    {
     "name": "stderr",
     "output_type": "stream",
     "text": [
      "/home/jtl/anaconda3/envs/qingyi/lib/python3.8/site-packages/sklearn/linear_model/_coordinate_descent.py:647: ConvergenceWarning: Objective did not converge. You might want to increase the number of iterations, check the scale of the features or consider increasing regularisation. Duality gap: 2.661e+00, tolerance: 7.704e-03\n",
      "  model = cd_fast.enet_coordinate_descent(\n"
     ]
    },
    {
     "name": "stdout",
     "output_type": "stream",
     "text": [
      "Parameter: 4.00e-05 Train R2: 0.9596 \t Test R: 0.4591 \t Nonzero coef: 9, 1679\n"
     ]
    },
    {
     "name": "stderr",
     "output_type": "stream",
     "text": [
      "/home/jtl/anaconda3/envs/qingyi/lib/python3.8/site-packages/sklearn/linear_model/_coordinate_descent.py:647: ConvergenceWarning: Objective did not converge. You might want to increase the number of iterations, check the scale of the features or consider increasing regularisation. Duality gap: 2.668e+00, tolerance: 7.704e-03\n",
      "  model = cd_fast.enet_coordinate_descent(\n"
     ]
    },
    {
     "name": "stdout",
     "output_type": "stream",
     "text": [
      "Parameter: 6.00e-05 Train R2: 0.9242 \t Test R: 0.5012 \t Nonzero coef: 8, 1256\n"
     ]
    },
    {
     "name": "stderr",
     "output_type": "stream",
     "text": [
      "/home/jtl/anaconda3/envs/qingyi/lib/python3.8/site-packages/sklearn/linear_model/_coordinate_descent.py:647: ConvergenceWarning: Objective did not converge. You might want to increase the number of iterations, check the scale of the features or consider increasing regularisation. Duality gap: 2.600e+00, tolerance: 7.704e-03\n",
      "  model = cd_fast.enet_coordinate_descent(\n"
     ]
    },
    {
     "name": "stdout",
     "output_type": "stream",
     "text": [
      "Parameter: 8.00e-05 Train R2: 0.8881 \t Test R: 0.5495 \t Nonzero coef: 7, 980\n"
     ]
    },
    {
     "name": "stderr",
     "output_type": "stream",
     "text": [
      "/home/jtl/anaconda3/envs/qingyi/lib/python3.8/site-packages/sklearn/linear_model/_coordinate_descent.py:647: ConvergenceWarning: Objective did not converge. You might want to increase the number of iterations, check the scale of the features or consider increasing regularisation. Duality gap: 2.628e+00, tolerance: 7.704e-03\n",
      "  model = cd_fast.enet_coordinate_descent(\n"
     ]
    },
    {
     "name": "stdout",
     "output_type": "stream",
     "text": [
      "Parameter: 1.00e-04 Train R2: 0.8534 \t Test R: 0.5838 \t Nonzero coef: 7, 799\n"
     ]
    },
    {
     "name": "stderr",
     "output_type": "stream",
     "text": [
      "/home/jtl/anaconda3/envs/qingyi/lib/python3.8/site-packages/sklearn/linear_model/_coordinate_descent.py:647: ConvergenceWarning: Objective did not converge. You might want to increase the number of iterations, check the scale of the features or consider increasing regularisation. Duality gap: 3.071e+00, tolerance: 7.704e-03\n",
      "  model = cd_fast.enet_coordinate_descent(\n"
     ]
    },
    {
     "name": "stdout",
     "output_type": "stream",
     "text": [
      "Parameter: 2.00e-04 Train R2: 0.7288 \t Test R: 0.6491 \t Nonzero coef: 6, 335\n"
     ]
    },
    {
     "name": "stderr",
     "output_type": "stream",
     "text": [
      "/home/jtl/anaconda3/envs/qingyi/lib/python3.8/site-packages/sklearn/linear_model/_coordinate_descent.py:647: ConvergenceWarning: Objective did not converge. You might want to increase the number of iterations, check the scale of the features or consider increasing regularisation. Duality gap: 7.861e-01, tolerance: 7.704e-03\n",
      "  model = cd_fast.enet_coordinate_descent(\n"
     ]
    },
    {
     "name": "stdout",
     "output_type": "stream",
     "text": [
      "Parameter: 1.00e-03 Train R2: 0.5666 \t Test R: 0.5895 \t Nonzero coef: 5, 33\n",
      "Parameter: 2.00e-03 Train R2: 0.5267 \t Test R: 0.5568 \t Nonzero coef: 3, 15\n",
      "Parameter: 5.00e-03 Train R2: 0.4603 \t Test R: 0.4770 \t Nonzero coef: 3, 10\n"
     ]
    }
   ],
   "source": [
    "# Lasso\n",
    "train_r2 = []\n",
    "test_r2 = []\n",
    "demo_nonzero = []\n",
    "embed_nonzero = []\n",
    "\n",
    "regs = (1e-4)*np.array([0,0.1,0.2,0.4,0.6,0.8,1,2,10,20,50])\n",
    "\n",
    "for a in regs:\n",
    "\n",
    "    lasso = linear_model.Lasso(alpha=a)\n",
    "    lasso.fit(x_train, auto_train)\n",
    "    print(\"Parameter: %.2e Train R2: %.4f \\t Test R: %.4f \\t Nonzero coef: %d, %d\" % \n",
    "          (a, lasso.score(x_train, auto_train), \n",
    "          lasso.score(x_test, auto_test), \n",
    "          np.sum(lasso.coef_[:dim_demo] != 0), \n",
    "          np.sum(lasso.coef_[dim_demo:] != 0)))\n",
    "    train_r2.append(lasso.score(x_train, auto_train))\n",
    "    test_r2.append(lasso.score(x_test, auto_test))\n",
    "    demo_nonzero.append(np.sum(lasso.coef_[:dim_demo] != 0))\n",
    "    embed_nonzero.append(np.sum(lasso.coef_[dim_demo:] != 0))\n",
    "\n",
    "#     with open(out_dir+\"AllModels_A_LR.csv\", \"a\") as f:\n",
    "#         f.write(\"%s,%.6f,%s,%.4f,%.4f,%s,%d,%d\\n\" % ('Demo+AE',a,'auto',\n",
    "#             lasso.score(x_train, auto_train), lasso.score(x_test, auto_test), 'LR', \n",
    "#             np.sum(lasso.coef_ != 0), len(lasso.coef_)))"
   ]
  },
  {
   "cell_type": "code",
   "execution_count": 26,
   "metadata": {},
   "outputs": [
    {
     "data": {
      "text/plain": [
       "<matplotlib.legend.Legend at 0x7f1a20e4acd0>"
      ]
     },
     "execution_count": 26,
     "metadata": {},
     "output_type": "execute_result"
    },
    {
     "data": {
      "image/png": "[encoded data removed]",
      "text/plain": [
       "<Figure size 864x288 with 2 Axes>"
      ]
     },
     "metadata": {},
     "output_type": "display_data"
    }
   ],
   "source": [
    "fig, ax = plt.subplots(1,1,figsize=(12,4))\n",
    "ax2 = ax.twinx()\n",
    "ax2.bar(np.arange(len(regs)), np.array(demo_nonzero)/10, width=0.3, alpha=0.4, label='SD')\n",
    "ax2.bar(np.arange(len(regs))-.3, np.array(embed_nonzero)/18432, width=0.3, alpha=0.4, label='IM')\n",
    "labels1 = []\n",
    "labels2 = []\n",
    "for a, b in zip(np.array(demo_nonzero)/10, np.array(embed_nonzero)/18432):\n",
    "    labels1+=[\"{:.0%}\\n({:})\".format(a, int(10*a))] \n",
    "    if b == 1:\n",
    "        labels2+=[\"\"]\n",
    "    else:\n",
    "        labels2+=[\"{:.0%}\\n({:})\".format(b, int(18432*b))] \n",
    "\n",
    "for c,l in zip(ax2.containers, [labels1, labels2]):\n",
    "    ax2.bar_label(c, labels=l)\n",
    "\n",
    "ax.plot(np.arange(len(regs)), train_r2, linewidth=1.5, label=\"Train\",c=\"forestgreen\")\n",
    "ax.plot(np.arange(len(regs)), test_r2, linewidth=1.5, label=\"Test\",c=\"peru\")\n",
    "\n",
    "ln1,lb1 = ax.get_legend_handles_labels()\n",
    "ln2,lb2 = ax2.get_legend_handles_labels()\n",
    "\n",
    "ax.annotate(\"100%\\n(18432)\", (-0.95,0.8))\n",
    "\n",
    "ax.set_xticks(np.arange(len(regs)))\n",
    "ax.set_ylabel(\"R2\") \n",
    "ax.set_xlabel(\"L1 Reg (theta)\")\n",
    "ax2.set_ylabel(\"% Nonzero Parameters\")\n",
    "ax.set_xticklabels([\"%.1e\" % a for a in regs], rotation=30)\n",
    "\n",
    "# ax.xaxis.set_major_formatter(FormatStrFormatter('%.1e'))\n",
    "\n",
    "ax.set_ylim([0,1.2])\n",
    "ax2.set_ylim([0,1.2])\n",
    "\n",
    "\n",
    "ax2.legend(ln1+ln2, lb1+lb2, facecolor='white', framealpha=0.7, loc=1)"
   ]
  },
  {
   "cell_type": "code",
   "execution_count": 27,
   "metadata": {},
   "outputs": [],
   "source": [
    "fig.savefig(out_dir+\"l1_reg.png\", bbox_inches='tight')"
   ]
  }
 ],
 "metadata": {
  "kernelspec": {
   "display_name": "qingyi",
   "language": "python",
   "name": "qingyi"
  },
  "language_info": {
   "codemirror_mode": {
    "name": "ipython",
    "version": 3
   },
   "file_extension": ".py",
   "mimetype": "text/x-python",
   "name": "python",
   "nbconvert_exporter": "python",
   "pygments_lexer": "ipython3",
   "version": "3.8.3"
  }
 },
 "nbformat": 4,
 "nbformat_minor": 4
}
