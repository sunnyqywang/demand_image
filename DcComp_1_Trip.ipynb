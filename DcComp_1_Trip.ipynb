{
 "cells": [
  {
   "cell_type": "code",
   "execution_count": 1,
   "id": "3dc2bd25",
   "metadata": {},
   "outputs": [],
   "source": [
    "import sys\n",
    "sys.path.append(\"models/\")\n",
    "\n",
    "import numpy as np\n",
    "import pandas as pd\n",
    "from sklearn.model_selection import train_test_split\n",
    "import torch\n",
    "import torch.nn as nn\n",
    "from torch.utils.data import DataLoader\n",
    "\n",
    "from setup import *\n",
    "from dataloader import SurveyDataset\n",
    "import mnl\n",
    "\n",
    "%load_ext autoreload\n",
    "%autoreload 2"
   ]
  },
  {
   "cell_type": "code",
   "execution_count": 2,
   "id": "9c2f0cf0",
   "metadata": {},
   "outputs": [],
   "source": [
    "data_version = '1571'"
   ]
  },
  {
   "cell_type": "code",
   "execution_count": 3,
   "id": "8cedeaa9",
   "metadata": {},
   "outputs": [],
   "source": [
    "tp = pd.read_csv(data_dir+\"trips.csv\")\n",
    "n_alts = 4"
   ]
  },
  {
   "cell_type": "code",
   "execution_count": 4,
   "id": "9133c15f",
   "metadata": {},
   "outputs": [
    {
     "name": "stdout",
     "output_type": "stream",
     "text": [
      "2    0.713060\n",
      "1    0.132001\n",
      "4    0.111893\n",
      "3    0.043046\n",
      "Name: mode, dtype: float64\n"
     ]
    }
   ],
   "source": [
    "print(tp['mode'].value_counts()/len(tp))"
   ]
  },
  {
   "cell_type": "code",
   "execution_count": 5,
   "id": "521995a6",
   "metadata": {},
   "outputs": [],
   "source": [
    "tp['morning'] = (tp['dep_hour'] > 6) & (tp['dep_hour'] < 10)\n",
    "tp['afternoon'] = (tp['dep_hour'] > 15) & (tp['dep_hour'] < 19)\n",
    "tp['morning'] = tp['morning'].astype(int)\n",
    "tp['afternoon'] = tp['afternoon'].astype(int)\n",
    "\n",
    "def normalize_features(df, cols):\n",
    "    for c in cols:\n",
    "        df[c] = df[c]/df[c].max()\n",
    "    return df"
   ]
  },
  {
   "cell_type": "code",
   "execution_count": 6,
   "id": "9301b32f",
   "metadata": {},
   "outputs": [],
   "source": [
    "tp['const'] = 1"
   ]
  },
  {
   "cell_type": "code",
   "execution_count": 7,
   "id": "60edc6e6",
   "metadata": {},
   "outputs": [],
   "source": [
    "ct_filter = pd.read_csv(data_dir+\"census_tracts_filtered-\"+data_version+\".csv\")\n",
    "unique_ct = ct_filter['geoid'].to_numpy()"
   ]
  },
  {
   "cell_type": "code",
   "execution_count": 8,
   "id": "44e1aaf3",
   "metadata": {
    "scrolled": true
   },
   "outputs": [
    {
     "data": {
      "text/plain": [
       "1571"
      ]
     },
     "execution_count": 8,
     "metadata": {},
     "output_type": "execute_result"
    }
   ],
   "source": [
    "len(unique_ct)"
   ]
  },
  {
   "cell_type": "code",
   "execution_count": 9,
   "id": "d0aa0892",
   "metadata": {},
   "outputs": [],
   "source": [
    "trip_filter = []\n",
    "for t1, t2 in zip(tp['tract_1'], tp['tract_2']):\n",
    "    if sum(unique_ct == t1) == 1 and sum(unique_ct == t2) == 1:\n",
    "        trip_filter.append(True)\n",
    "    else:\n",
    "        trip_filter.append(False)\n",
    "trip_filter = np.array(trip_filter)"
   ]
  },
  {
   "cell_type": "code",
   "execution_count": 10,
   "id": "c0cbadf0",
   "metadata": {},
   "outputs": [],
   "source": [
    "x = tp[['const','morning','afternoon','companion', 'distance', \n",
    "         'from_home', 'to_home', 'purp_work', 'purp_school', 'purp_errand', 'purp_recreation', \n",
    "         'ontime_important', '12_18yrs', '18_25yrs', '25_55yrs', '55+yrs', \n",
    "         'disability', 'educ_col', 'educ_grad', \n",
    "         'race_white', 'race_black', 'race_asian', \n",
    "         'male', 'female', \n",
    "         'emply_park', 'emply_transit', 'emply_veh', 'emply_wfh', 'emply_flex', 'emply_hours', \n",
    "         'license', 'person_trips', 'person_transit', 'person_freq_transit', \n",
    "         'hh_inc_0_30', 'hh_inc_30_60', 'hh_inc_60_100', 'hh_inc_100_150', 'hh_inc_150', \n",
    "         'avg_pr_veh', 'home_own', 'home_house', 'home_condo']].to_numpy()[trip_filter]\n",
    "\n",
    "y = tp['mode'].astype(int).to_numpy()[trip_filter] - 1\n",
    "x_train, x_test, y_train, y_test = train_test_split(x,y,test_size=0.2, random_state=42)"
   ]
  },
  {
   "cell_type": "code",
   "execution_count": 11,
   "id": "91ef1e16",
   "metadata": {},
   "outputs": [
    {
     "data": {
      "text/plain": [
       "(79929, 43)"
      ]
     },
     "execution_count": 11,
     "metadata": {},
     "output_type": "execute_result"
    }
   ],
   "source": [
    "x.shape"
   ]
  },
  {
   "cell_type": "code",
   "execution_count": 12,
   "id": "267ed279",
   "metadata": {},
   "outputs": [],
   "source": [
    "trainset = SurveyDataset(torch.tensor(x_train, dtype=torch.float), torch.tensor(y_train, dtype=torch.long))\n",
    "trainloader = DataLoader(trainset, batch_size=256, shuffle=True)\n",
    "\n",
    "testset = SurveyDataset(torch.tensor(x_test, dtype=torch.float), torch.tensor(y_test, dtype=torch.long))\n",
    "testloader = DataLoader(testset, batch_size=len(testset), shuffle=True)"
   ]
  },
  {
   "cell_type": "code",
   "execution_count": 13,
   "id": "9b4c4444",
   "metadata": {},
   "outputs": [
    {
     "name": "stdout",
     "output_type": "stream",
     "text": [
      "[epoch:   0] Train loss: 0.9531 accuracy: 0.660\n",
      "[epoch:   0] Test loss: 0.7693 accuracy: 0.721\n",
      "[epoch:   1] Train loss: 0.7201 accuracy: 0.726\n",
      "[epoch:   1] Test loss: 0.6654 accuracy: 0.747\n",
      "[epoch:   2] Train loss: 0.6393 accuracy: 0.756\n",
      "[epoch:   2] Test loss: 0.6069 accuracy: 0.774\n",
      "[epoch:   3] Train loss: 0.5927 accuracy: 0.780\n",
      "[epoch:   3] Test loss: 0.5717 accuracy: 0.794\n",
      "[epoch:   4] Train loss: 0.5629 accuracy: 0.796\n",
      "[epoch:   4] Test loss: 0.5474 accuracy: 0.804\n",
      "[epoch:   5] Train loss: 0.5419 accuracy: 0.805\n",
      "[epoch:   5] Test loss: 0.5302 accuracy: 0.811\n",
      "[epoch:   6] Train loss: 0.5262 accuracy: 0.811\n",
      "[epoch:   6] Test loss: 0.5168 accuracy: 0.816\n",
      "[epoch:   7] Train loss: 0.5139 accuracy: 0.816\n",
      "[epoch:   7] Test loss: 0.5061 accuracy: 0.820\n",
      "[epoch:   8] Train loss: 0.5043 accuracy: 0.820\n",
      "[epoch:   8] Test loss: 0.4983 accuracy: 0.824\n",
      "[epoch:   9] Train loss: 0.4962 accuracy: 0.823\n",
      "[epoch:   9] Test loss: 0.4907 accuracy: 0.826\n",
      "[epoch:  10] Train loss: 0.4896 accuracy: 0.826\n",
      "[epoch:  10] Test loss: 0.4853 accuracy: 0.827\n",
      "[epoch:  11] Train loss: 0.4841 accuracy: 0.828\n",
      "[epoch:  11] Test loss: 0.4802 accuracy: 0.830\n",
      "[epoch:  12] Train loss: 0.4798 accuracy: 0.830\n",
      "[epoch:  12] Test loss: 0.4760 accuracy: 0.832\n",
      "[epoch:  13] Train loss: 0.4757 accuracy: 0.831\n",
      "[epoch:  13] Test loss: 0.4731 accuracy: 0.832\n",
      "[epoch:  14] Train loss: 0.4725 accuracy: 0.833\n",
      "[epoch:  14] Test loss: 0.4703 accuracy: 0.833\n",
      "[epoch:  15] Train loss: 0.4698 accuracy: 0.834\n",
      "[epoch:  15] Test loss: 0.4685 accuracy: 0.836\n",
      "[epoch:  16] Train loss: 0.4675 accuracy: 0.835\n",
      "[epoch:  16] Test loss: 0.4660 accuracy: 0.835\n",
      "[epoch:  17] Train loss: 0.4655 accuracy: 0.836\n",
      "[epoch:  17] Test loss: 0.4640 accuracy: 0.837\n",
      "[epoch:  18] Train loss: 0.4639 accuracy: 0.838\n",
      "[epoch:  18] Test loss: 0.4625 accuracy: 0.838\n",
      "[epoch:  19] Train loss: 0.4624 accuracy: 0.839\n",
      "[epoch:  19] Test loss: 0.4613 accuracy: 0.839\n",
      "[epoch:  20] Train loss: 0.4613 accuracy: 0.840\n",
      "[epoch:  20] Test loss: 0.4604 accuracy: 0.839\n",
      "[epoch:  21] Train loss: 0.4603 accuracy: 0.840\n",
      "[epoch:  21] Test loss: 0.4595 accuracy: 0.840\n",
      "[epoch:  22] Train loss: 0.4594 accuracy: 0.841\n",
      "[epoch:  22] Test loss: 0.4592 accuracy: 0.840\n",
      "[epoch:  23] Train loss: 0.4587 accuracy: 0.842\n",
      "[epoch:  23] Test loss: 0.4596 accuracy: 0.840\n",
      "Early stopping at epoch 23\n"
     ]
    }
   ],
   "source": [
    "loss_fn = nn.CrossEntropyLoss()\n",
    "\n",
    "model = mnl.MNL(n_alts=n_alts, n_features=x.shape[-1])\n",
    "# model = model.to(device)\n",
    "optimizer = torch.optim.Adam(model.parameters(), lr=5e-4, weight_decay=0)\n",
    "\n",
    "ref1 = 0\n",
    "ref2 = 0\n",
    "converged = 0\n",
    "\n",
    "for epoch in range(300):\n",
    "    loss_ = 0\n",
    "    correct = 0\n",
    "    for batch, (x_batch, y_batch) in enumerate(trainloader):\n",
    "        # Compute prediction and loss\n",
    "        util = model(x_batch)\n",
    "        loss = loss_fn(util, y_batch)\n",
    "        loss_ += loss.item()*len(y_batch)\n",
    "        \n",
    "        pred = torch.argmax(util, dim=1)\n",
    "        correct += torch.sum(pred == y_batch)\n",
    "        \n",
    "        # Backpropagation\n",
    "        optimizer.zero_grad()\n",
    "        loss.backward()\n",
    "        optimizer.step()\n",
    "\n",
    "\n",
    "    if batch % 1 == 0:\n",
    "        print(f\"[epoch: {epoch:>3d}] Train loss: {loss_/len(trainset):.4f} accuracy: {correct/len(trainset):.3f}\")\n",
    "\n",
    "    correct = 0\n",
    "    loss_ = 0\n",
    "    for batch, (x_batch, y_batch) in enumerate(testloader):\n",
    "        util = model(x_batch)\n",
    "        loss = loss_fn(util, y_batch)\n",
    "        loss_ += loss.item()*len(y_batch)\n",
    "        pred = torch.argmax(util, dim=1)\n",
    "        correct += torch.sum(pred == y_batch)\n",
    "        \n",
    "    print(f\"[epoch: {epoch:>3d}] Test loss: {loss_/len(testset):.4f} accuracy: {correct/len(testset):.3f}\")\n",
    "    \n",
    "    if epoch > 15:\n",
    "        if (np.abs(loss_ - ref1)/ref1<0.001) & (np.abs(loss_ - ref2)/ref2<0.001):\n",
    "            print(\"Early stopping at epoch\", epoch)\n",
    "            converged = 1\n",
    "            break\n",
    "        if (ref1 < loss_) & (ref1 < ref2):\n",
    "            print(\"Diverging. stop.\")\n",
    "            break\n",
    "            \n",
    "    ref2 = ref1\n",
    "    ref1 = loss_\n",
    "        "
   ]
  },
  {
   "cell_type": "code",
   "execution_count": 14,
   "id": "67d5f4e6",
   "metadata": {},
   "outputs": [
    {
     "name": "stdout",
     "output_type": "stream",
     "text": [
      "('beta.weight', Parameter containing:\n",
      "tensor([[ 1.7323e-01, -1.3745e-01, -5.9457e-03, -3.2567e-02, -5.8126e-01,\n",
      "         -5.0740e-02,  5.7224e-02,  3.3084e-01,  3.7294e-01, -4.8436e-02,\n",
      "          3.1775e-01, -1.5346e-01,  2.3250e-02,  3.8133e-01,  7.3825e-02,\n",
      "          1.4426e-01, -3.1204e-01,  3.3273e-01,  4.1470e-01,  2.4266e-01,\n",
      "         -6.6224e-02,  2.5318e-02,  2.3201e-01,  1.7770e-01, -3.1163e-01,\n",
      "          3.7078e-01, -2.0950e-01,  8.2269e-03,  3.3414e-02,  8.2250e-02,\n",
      "         -1.5508e-01,  1.2813e-03, -1.8687e-02, -1.9117e-01,  1.9198e-01,\n",
      "          8.4143e-02,  6.8167e-02,  5.5181e-02,  6.9886e-02, -6.6158e-01,\n",
      "         -7.7369e-02, -7.7034e-02,  4.9229e-01],\n",
      "        [-2.3005e-01, -1.1370e-01,  7.1415e-03,  2.5589e-01,  3.7204e-01,\n",
      "          1.5575e-01,  5.6162e-02, -3.0736e-01, -5.1040e-01,  2.7782e-01,\n",
      "         -1.7180e-02,  4.4394e-03, -3.5344e-01, -3.2084e-01,  7.0169e-03,\n",
      "         -7.5351e-02, -1.6085e-02, -3.1900e-01, -3.5089e-01, -1.2440e-02,\n",
      "         -1.3163e-01,  1.1515e-02, -3.0223e-01, -1.2082e-01,  5.3916e-01,\n",
      "         -6.6311e-01,  9.6217e-02, -5.5392e-03, -1.5705e-01,  7.4551e-02,\n",
      "          4.7357e-01,  9.5538e-02,  3.2465e-02, -1.3777e+00, -3.8117e-01,\n",
      "          9.1277e-02, -6.9319e-02, -1.3670e-01, -1.6591e-01,  6.6569e-01,\n",
      "          2.4924e-01,  1.6407e-01, -5.8710e-01],\n",
      "        [-2.8111e-01, -3.0502e-01, -7.2588e-01,  2.8362e-01,  3.6415e-01,\n",
      "         -2.9478e-01, -9.2658e-02, -1.6553e-01,  5.1059e-01, -8.1426e-01,\n",
      "         -6.8007e-02,  1.7397e-02,  7.3320e-01, -8.2686e-03, -5.0787e-01,\n",
      "         -7.4768e-01,  2.4381e-01, -1.0788e-01, -3.2639e-01, -6.9809e-02,\n",
      "         -1.3615e-01,  2.1037e-01, -2.3902e-01,  3.5587e-02, -1.8904e-01,\n",
      "          1.7565e-01,  2.7342e-01, -4.9927e-02, -1.5217e-02,  9.4036e-02,\n",
      "         -8.1545e-01, -1.1398e-04, -3.4852e-02, -2.4052e-01, -2.3414e-01,\n",
      "          4.4424e-03,  4.7093e-02, -5.5127e-02, -4.6551e-02, -4.5003e-01,\n",
      "         -2.3256e-01, -2.6869e-01, -1.7244e-01],\n",
      "        [-7.2566e-02,  2.8654e-01,  4.9185e-01, -2.8286e-01,  4.1846e-01,\n",
      "          2.3269e-01,  1.0163e-01,  2.2263e-01,  1.4831e-01, -2.4949e-01,\n",
      "         -2.3816e-01,  2.2578e-01, -8.3111e-01,  1.8511e-01, -2.9128e-02,\n",
      "          1.0033e-01,  3.0661e-01,  2.0209e-01,  1.4079e-01, -9.8979e-02,\n",
      "          2.8947e-01,  1.6312e-01, -9.2286e-02, -6.0690e-02, -7.4449e-01,\n",
      "          7.7306e-01, -3.2997e-01,  1.1238e-01,  5.3549e-02,  7.1757e-02,\n",
      "         -5.4848e-01, -1.3541e-01, -6.8118e-02,  1.4138e+00,  3.8911e-01,\n",
      "          4.0879e-02, -9.3121e-02, -9.8254e-02, -3.5742e-02, -8.3722e-01,\n",
      "         -2.7553e-01, -1.5235e-01,  2.8717e-01]], requires_grad=True))\n",
      "('beta.bias', Parameter containing:\n",
      "tensor([ 0.3931, -0.2368, -0.1183, -0.0095], requires_grad=True))\n"
     ]
    }
   ],
   "source": [
    "for i in model.named_parameters():\n",
    "    print(i)"
   ]
  },
  {
   "cell_type": "code",
   "execution_count": null,
   "id": "1d0048d1",
   "metadata": {},
   "outputs": [],
   "source": []
  },
  {
   "cell_type": "code",
   "execution_count": null,
   "id": "162e85f7",
   "metadata": {},
   "outputs": [],
   "source": []
  }
 ],
 "metadata": {
  "kernelspec": {
   "display_name": "qingyi",
   "language": "python",
   "name": "qingyi"
  },
  "language_info": {
   "codemirror_mode": {
    "name": "ipython",
    "version": 3
   },
   "file_extension": ".py",
   "mimetype": "text/x-python",
   "name": "python",
   "nbconvert_exporter": "python",
   "pygments_lexer": "ipython3",
   "version": "3.8.3"
  }
 },
 "nbformat": 4,
 "nbformat_minor": 5
}
