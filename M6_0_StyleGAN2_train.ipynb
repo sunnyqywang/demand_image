{
 "cells": [
  {
   "cell_type": "code",
   "execution_count": 1,
   "id": "5f46dc07",
   "metadata": {},
   "outputs": [],
   "source": [
    "import os\n",
    "import fire\n",
    "import random\n",
    "from retry.api import retry_call\n",
    "from tqdm import tqdm\n",
    "from datetime import datetime\n",
    "from functools import wraps\n",
    "import sys\n",
    "sys.path.append(\"models/stylegan2/\")\n",
    "from sgan2 import Trainer\n",
    "from util import NanException\n",
    "\n",
    "import torch\n",
    "import torch.multiprocessing as mp\n",
    "import torch.distributed as dist\n",
    "\n",
    "import numpy as np\n",
    "\n",
    "from setup import proj_dir, image_dir, out_dir, model_dir\n",
    "\n",
    "%load_ext autoreload\n",
    "%autoreload 2"
   ]
  },
  {
   "cell_type": "code",
   "execution_count": 2,
   "id": "fe1f8300",
   "metadata": {},
   "outputs": [],
   "source": [
    "data = image_dir+\"zoom15/\"\n",
    "results_dir = out_dir\n",
    "models_dir = model_dir\n",
    "name = '2303-2'\n",
    "new = True\n",
    "load_from = -1\n",
    "image_size = 64\n",
    "network_capacity = 16\n",
    "fmap_max = 512\n",
    "transparent = False\n",
    "batch_size = 8\n",
    "gradient_accumulate_every = 6\n",
    "num_train_steps = 100000\n",
    "learning_rate = 2e-4\n",
    "lr_mlp = 0.1\n",
    "ttur_mult = 1.5\n",
    "rel_disc_loss = False\n",
    "num_workers =  None\n",
    "save_every = 1000\n",
    "evaluate_every = 1000\n",
    "generate = False\n",
    "num_generate = 1\n",
    "generate_interpolation = False\n",
    "interpolation_num_steps = 100\n",
    "save_frames = False\n",
    "num_image_tiles = 8\n",
    "trunc_psi = 0.75\n",
    "mixed_prob = 0.9\n",
    "fp16 = False\n",
    "no_pl_reg = False\n",
    "cl_reg = False\n",
    "fq_layers = []\n",
    "fq_dict_size = 256\n",
    "attn_layers = []\n",
    "no_const = False\n",
    "aug_prob = 0.\n",
    "aug_types = ['translation', 'cutout']\n",
    "top_k_training = False\n",
    "generator_top_k_gamma = 0.99\n",
    "generator_top_k_frac = 0.5\n",
    "dual_contrast_loss = False\n",
    "dataset_aug_prob = 0.\n",
    "multi_gpus = False\n",
    "calculate_fid_every = None\n",
    "calculate_fid_num_images = 12800\n",
    "clear_fid_cache = False\n",
    "seed = 42\n",
    "log = False\n",
    "rank = 1"
   ]
  },
  {
   "cell_type": "code",
   "execution_count": 3,
   "id": "9f7b40b3",
   "metadata": {},
   "outputs": [],
   "source": [
    "model_args = dict(\n",
    "    name = name,\n",
    "    results_dir = results_dir,\n",
    "    models_dir = models_dir,\n",
    "    batch_size = batch_size,\n",
    "    gradient_accumulate_every = gradient_accumulate_every,\n",
    "    image_size = image_size,\n",
    "    network_capacity = network_capacity,\n",
    "    fmap_max = fmap_max,\n",
    "    transparent = transparent,\n",
    "    lr = learning_rate,\n",
    "    lr_mlp = lr_mlp,\n",
    "    ttur_mult = ttur_mult,\n",
    "    rel_disc_loss = rel_disc_loss,\n",
    "    num_workers = num_workers,\n",
    "    save_every = save_every,\n",
    "    evaluate_every = evaluate_every,\n",
    "    num_image_tiles = num_image_tiles,\n",
    "    trunc_psi = trunc_psi,\n",
    "    fp16 = fp16,\n",
    "    no_pl_reg = no_pl_reg,\n",
    "    cl_reg = cl_reg,\n",
    "    fq_layers = fq_layers,\n",
    "    fq_dict_size = fq_dict_size,\n",
    "    attn_layers = attn_layers,\n",
    "    no_const = no_const,\n",
    "    aug_prob = aug_prob,\n",
    "    aug_types = aug_types,\n",
    "    top_k_training = top_k_training,\n",
    "    generator_top_k_gamma = generator_top_k_gamma,\n",
    "    generator_top_k_frac = generator_top_k_frac,\n",
    "    dual_contrast_loss = dual_contrast_loss,\n",
    "    dataset_aug_prob = dataset_aug_prob,\n",
    "    calculate_fid_every = calculate_fid_every,\n",
    "    calculate_fid_num_images = calculate_fid_num_images,\n",
    "    clear_fid_cache = clear_fid_cache,\n",
    "    mixed_prob = mixed_prob,\n",
    "    log = log,\n",
    "    rank = rank,\n",
    ")"
   ]
  },
  {
   "cell_type": "code",
   "execution_count": 4,
   "id": "5372ffa2",
   "metadata": {},
   "outputs": [],
   "source": [
    "def run_training(rank, world_size, model_args, data, load_from, new, num_train_steps, name, seed):\n",
    "#     is_main = rank == 0\n",
    "    is_main = True\n",
    "    is_ddp = world_size > 1\n",
    "\n",
    "    if is_ddp:\n",
    "        set_seed(seed)\n",
    "        os.environ['MASTER_ADDR'] = 'localhost'\n",
    "        os.environ['MASTER_PORT'] = '12355'\n",
    "        dist.init_process_group('nccl', rank=rank, world_size=world_size)\n",
    "\n",
    "        print(f\"{rank + 1}/{world_size} process initialized.\")\n",
    "\n",
    "    model_args.update(\n",
    "        is_ddp = is_ddp,\n",
    "        rank = rank,\n",
    "        world_size = world_size\n",
    "    )\n",
    "\n",
    "    model = Trainer(**model_args)\n",
    "    \n",
    "    if not new:\n",
    "        model.load(load_from)\n",
    "    else:\n",
    "        model.clear()\n",
    "\n",
    "    model.set_data_src(data)\n",
    "\n",
    "    progress_bar = tqdm(initial = model.steps, total = num_train_steps, mininterval=10., desc=f'{name}<{data}>', position=0, leave=True)\n",
    "    while model.steps < num_train_steps:\n",
    "        retry_call(model.train, tries=3, exceptions=NanException)\n",
    "        progress_bar.n = model.steps\n",
    "        progress_bar.refresh()\n",
    "        if is_main and model.steps % 50 == 0:\n",
    "            model.print_log()\n",
    "\n",
    "    model.save(model.checkpoint_num)\n",
    "\n",
    "    if is_ddp:\n",
    "        dist.destroy_process_group()"
   ]
  },
  {
   "cell_type": "code",
   "execution_count": null,
   "id": "c63ca100",
   "metadata": {
    "scrolled": true
   },
   "outputs": [
    {
     "name": "stdout",
     "output_type": "stream",
     "text": [
      "Results directory: /home/jtl/Dropbox (MIT)/project_image_demand/results/sGAN2/2303-2\n",
      "Model directory: /dreambig/qingyi/image_chicago/models/sGAN2/2303-2\n",
      "28278 images in dataset\n"
     ]
    },
    {
     "name": "stderr",
     "output_type": "stream",
     "text": [
      "2303-2</dreambig/qingyi/image_chicago/data/images/satellite/zoom15/>:   0%|          | 50/100000 [00:46<25:59:32,  1.07it/s]"
     ]
    },
    {
     "name": "stdout",
     "output_type": "stream",
     "text": [
      "G: 44.39 | D: 39.66 | GP: 94.93\n"
     ]
    },
    {
     "name": "stderr",
     "output_type": "stream",
     "text": [
      "2303-2</dreambig/qingyi/image_chicago/data/images/satellite/zoom15/>:   0%|          | 100/100000 [01:27<24:24:13,  1.14it/s]"
     ]
    },
    {
     "name": "stdout",
     "output_type": "stream",
     "text": [
      "G: 22.64 | D: 26.35 | GP: 1.87\n"
     ]
    },
    {
     "name": "stderr",
     "output_type": "stream",
     "text": [
      "2303-2</dreambig/qingyi/image_chicago/data/images/satellite/zoom15/>:   0%|          | 150/100000 [02:11<24:17:10,  1.14it/s]"
     ]
    },
    {
     "name": "stdout",
     "output_type": "stream",
     "text": [
      "G: 3.14 | D: 1.97 | GP: 0.15\n"
     ]
    },
    {
     "name": "stderr",
     "output_type": "stream",
     "text": [
      "2303-2</dreambig/qingyi/image_chicago/data/images/satellite/zoom15/>:   0%|          | 200/100000 [02:52<23:56:00,  1.16it/s]"
     ]
    },
    {
     "name": "stdout",
     "output_type": "stream",
     "text": [
      "G: 2.30 | D: 1.20 | GP: 5.47\n"
     ]
    },
    {
     "name": "stderr",
     "output_type": "stream",
     "text": [
      "2303-2</dreambig/qingyi/image_chicago/data/images/satellite/zoom15/>:   0%|          | 250/100000 [03:36<23:56:26,  1.16it/s]"
     ]
    },
    {
     "name": "stdout",
     "output_type": "stream",
     "text": [
      "G: 2.04 | D: 0.12 | GP: 0.19\n"
     ]
    },
    {
     "name": "stderr",
     "output_type": "stream",
     "text": [
      "2303-2</dreambig/qingyi/image_chicago/data/images/satellite/zoom15/>:   0%|          | 300/100000 [04:17<23:45:15,  1.17it/s]"
     ]
    },
    {
     "name": "stdout",
     "output_type": "stream",
     "text": [
      "G: 10.56 | D: 0.18 | GP: 0.68\n"
     ]
    },
    {
     "name": "stderr",
     "output_type": "stream",
     "text": [
      "2303-2</dreambig/qingyi/image_chicago/data/images/satellite/zoom15/>:   0%|          | 350/100000 [05:00<23:46:16,  1.16it/s]"
     ]
    },
    {
     "name": "stdout",
     "output_type": "stream",
     "text": [
      "G: 0.88 | D: 0.89 | GP: 87.64\n"
     ]
    },
    {
     "name": "stderr",
     "output_type": "stream",
     "text": [
      "2303-2</dreambig/qingyi/image_chicago/data/images/satellite/zoom15/>:   0%|          | 400/100000 [05:41<23:38:39,  1.17it/s]"
     ]
    },
    {
     "name": "stdout",
     "output_type": "stream",
     "text": [
      "G: 20.13 | D: 0.21 | GP: 12.13\n"
     ]
    },
    {
     "name": "stderr",
     "output_type": "stream",
     "text": [
      "2303-2</dreambig/qingyi/image_chicago/data/images/satellite/zoom15/>:   0%|          | 450/100000 [06:25<23:39:47,  1.17it/s]"
     ]
    },
    {
     "name": "stdout",
     "output_type": "stream",
     "text": [
      "G: 0.80 | D: 1.02 | GP: 5.74\n"
     ]
    },
    {
     "name": "stderr",
     "output_type": "stream",
     "text": [
      "2303-2</dreambig/qingyi/image_chicago/data/images/satellite/zoom15/>:   0%|          | 500/100000 [07:06<23:34:22,  1.17it/s]"
     ]
    },
    {
     "name": "stdout",
     "output_type": "stream",
     "text": [
      "G: 4.28 | D: 0.14 | GP: 0.15\n"
     ]
    },
    {
     "name": "stderr",
     "output_type": "stream",
     "text": [
      "2303-2</dreambig/qingyi/image_chicago/data/images/satellite/zoom15/>:   1%|          | 550/100000 [07:49<23:35:40,  1.17it/s]"
     ]
    },
    {
     "name": "stdout",
     "output_type": "stream",
     "text": [
      "G: 7.26 | D: 0.22 | GP: 1.90\n"
     ]
    },
    {
     "name": "stderr",
     "output_type": "stream",
     "text": [
      "2303-2</dreambig/qingyi/image_chicago/data/images/satellite/zoom15/>:   1%|          | 600/100000 [08:31<23:33:19,  1.17it/s]"
     ]
    },
    {
     "name": "stdout",
     "output_type": "stream",
     "text": [
      "G: 3.78 | D: 1.60 | GP: 0.96\n"
     ]
    },
    {
     "name": "stderr",
     "output_type": "stream",
     "text": [
      "2303-2</dreambig/qingyi/image_chicago/data/images/satellite/zoom15/>:   1%|          | 650/100000 [09:15<23:34:08,  1.17it/s]"
     ]
    },
    {
     "name": "stdout",
     "output_type": "stream",
     "text": [
      "G: 0.35 | D: 1.33 | GP: 0.84\n"
     ]
    },
    {
     "name": "stderr",
     "output_type": "stream",
     "text": [
      "2303-2</dreambig/qingyi/image_chicago/data/images/satellite/zoom15/>:   1%|          | 700/100000 [09:56<23:30:32,  1.17it/s]"
     ]
    },
    {
     "name": "stdout",
     "output_type": "stream",
     "text": [
      "G: 0.72 | D: 1.56 | GP: 0.45\n"
     ]
    },
    {
     "name": "stderr",
     "output_type": "stream",
     "text": [
      "2303-2</dreambig/qingyi/image_chicago/data/images/satellite/zoom15/>:   1%|          | 750/100000 [10:39<23:30:45,  1.17it/s]"
     ]
    },
    {
     "name": "stdout",
     "output_type": "stream",
     "text": [
      "G: -2.37 | D: 1.73 | GP: 0.21\n"
     ]
    },
    {
     "name": "stderr",
     "output_type": "stream",
     "text": [
      "2303-2</dreambig/qingyi/image_chicago/data/images/satellite/zoom15/>:   1%|          | 800/100000 [11:21<23:27:41,  1.17it/s]"
     ]
    },
    {
     "name": "stdout",
     "output_type": "stream",
     "text": [
      "G: -0.02 | D: 1.63 | GP: 6.94\n"
     ]
    },
    {
     "name": "stderr",
     "output_type": "stream",
     "text": [
      "2303-2</dreambig/qingyi/image_chicago/data/images/satellite/zoom15/>:   1%|          | 850/100000 [12:04<23:27:53,  1.17it/s]"
     ]
    },
    {
     "name": "stdout",
     "output_type": "stream",
     "text": [
      "G: 0.94 | D: 1.29 | GP: 0.86\n"
     ]
    },
    {
     "name": "stderr",
     "output_type": "stream",
     "text": [
      "2303-2</dreambig/qingyi/image_chicago/data/images/satellite/zoom15/>:   1%|          | 900/100000 [12:45<23:25:30,  1.18it/s]"
     ]
    },
    {
     "name": "stdout",
     "output_type": "stream",
     "text": [
      "G: 0.31 | D: 2.02 | GP: 2.16\n"
     ]
    },
    {
     "name": "stderr",
     "output_type": "stream",
     "text": [
      "2303-2</dreambig/qingyi/image_chicago/data/images/satellite/zoom15/>:   1%|          | 950/100000 [13:29<23:25:58,  1.17it/s]"
     ]
    },
    {
     "name": "stdout",
     "output_type": "stream",
     "text": [
      "G: 0.09 | D: 1.42 | GP: 0.11\n"
     ]
    },
    {
     "name": "stderr",
     "output_type": "stream",
     "text": [
      "2303-2</dreambig/qingyi/image_chicago/data/images/satellite/zoom15/>:   1%|          | 1000/100000 [14:10<23:23:19,  1.18it/s]"
     ]
    },
    {
     "name": "stdout",
     "output_type": "stream",
     "text": [
      "G: 0.17 | D: 3.03 | GP: 1.15\n"
     ]
    },
    {
     "name": "stderr",
     "output_type": "stream",
     "text": [
      "2303-2</dreambig/qingyi/image_chicago/data/images/satellite/zoom15/>:   1%|          | 1050/100000 [14:53<23:23:48,  1.17it/s]"
     ]
    },
    {
     "name": "stdout",
     "output_type": "stream",
     "text": [
      "G: 1.82 | D: 1.46 | GP: 0.72\n"
     ]
    },
    {
     "name": "stderr",
     "output_type": "stream",
     "text": [
      "2303-2</dreambig/qingyi/image_chicago/data/images/satellite/zoom15/>:   1%|          | 1100/100000 [15:35<23:21:29,  1.18it/s]"
     ]
    },
    {
     "name": "stdout",
     "output_type": "stream",
     "text": [
      "G: -0.34 | D: 1.85 | GP: 2.58\n"
     ]
    },
    {
     "name": "stderr",
     "output_type": "stream",
     "text": [
      "2303-2</dreambig/qingyi/image_chicago/data/images/satellite/zoom15/>:   1%|          | 1150/100000 [16:18<23:21:25,  1.18it/s]"
     ]
    },
    {
     "name": "stdout",
     "output_type": "stream",
     "text": [
      "G: 1.00 | D: 1.76 | GP: 0.01\n"
     ]
    },
    {
     "name": "stderr",
     "output_type": "stream",
     "text": [
      "2303-2</dreambig/qingyi/image_chicago/data/images/satellite/zoom15/>:   1%|          | 1200/100000 [17:00<23:20:50,  1.18it/s]"
     ]
    },
    {
     "name": "stdout",
     "output_type": "stream",
     "text": [
      "G: 0.26 | D: 1.64 | GP: 1.80\n"
     ]
    },
    {
     "name": "stderr",
     "output_type": "stream",
     "text": [
      "2303-2</dreambig/qingyi/image_chicago/data/images/satellite/zoom15/>:   1%|▏         | 1250/100000 [17:43<23:20:53,  1.17it/s]"
     ]
    },
    {
     "name": "stdout",
     "output_type": "stream",
     "text": [
      "G: 0.16 | D: 1.44 | GP: 8.86\n"
     ]
    },
    {
     "name": "stderr",
     "output_type": "stream",
     "text": [
      "2303-2</dreambig/qingyi/image_chicago/data/images/satellite/zoom15/>:   1%|▏         | 1300/100000 [18:25<23:19:09,  1.18it/s]"
     ]
    },
    {
     "name": "stdout",
     "output_type": "stream",
     "text": [
      "G: 3.57 | D: 1.17 | GP: 0.53\n"
     ]
    },
    {
     "name": "stderr",
     "output_type": "stream",
     "text": [
      "2303-2</dreambig/qingyi/image_chicago/data/images/satellite/zoom15/>:   1%|▏         | 1350/100000 [19:08<23:19:05,  1.18it/s]"
     ]
    },
    {
     "name": "stdout",
     "output_type": "stream",
     "text": [
      "G: 0.87 | D: 1.46 | GP: 0.06\n"
     ]
    },
    {
     "name": "stderr",
     "output_type": "stream",
     "text": [
      "2303-2</dreambig/qingyi/image_chicago/data/images/satellite/zoom15/>:   1%|▏         | 1400/100000 [19:50<23:17:08,  1.18it/s]"
     ]
    },
    {
     "name": "stdout",
     "output_type": "stream",
     "text": [
      "G: 0.89 | D: 1.55 | GP: 0.03\n"
     ]
    },
    {
     "name": "stderr",
     "output_type": "stream",
     "text": [
      "2303-2</dreambig/qingyi/image_chicago/data/images/satellite/zoom15/>:   1%|▏         | 1450/100000 [20:33<23:16:54,  1.18it/s]"
     ]
    },
    {
     "name": "stdout",
     "output_type": "stream",
     "text": [
      "G: 0.32 | D: 1.84 | GP: 1.06\n"
     ]
    },
    {
     "name": "stderr",
     "output_type": "stream",
     "text": [
      "2303-2</dreambig/qingyi/image_chicago/data/images/satellite/zoom15/>:   2%|▏         | 1500/100000 [21:14<23:15:14,  1.18it/s]"
     ]
    },
    {
     "name": "stdout",
     "output_type": "stream",
     "text": [
      "G: 0.22 | D: 1.89 | GP: 1.61\n"
     ]
    },
    {
     "name": "stderr",
     "output_type": "stream",
     "text": [
      "2303-2</dreambig/qingyi/image_chicago/data/images/satellite/zoom15/>:   2%|▏         | 1550/100000 [21:58<23:15:18,  1.18it/s]"
     ]
    },
    {
     "name": "stdout",
     "output_type": "stream",
     "text": [
      "G: 0.45 | D: 1.78 | GP: 0.06\n"
     ]
    },
    {
     "name": "stderr",
     "output_type": "stream",
     "text": [
      "2303-2</dreambig/qingyi/image_chicago/data/images/satellite/zoom15/>:   2%|▏         | 1600/100000 [22:39<23:13:26,  1.18it/s]"
     ]
    },
    {
     "name": "stdout",
     "output_type": "stream",
     "text": [
      "G: 0.75 | D: 1.79 | GP: 1.26\n"
     ]
    },
    {
     "name": "stderr",
     "output_type": "stream",
     "text": [
      "2303-2</dreambig/qingyi/image_chicago/data/images/satellite/zoom15/>:   2%|▏         | 1650/100000 [23:22<23:13:23,  1.18it/s]"
     ]
    },
    {
     "name": "stdout",
     "output_type": "stream",
     "text": [
      "G: 0.69 | D: 2.00 | GP: 0.41\n"
     ]
    },
    {
     "name": "stderr",
     "output_type": "stream",
     "text": [
      "2303-2</dreambig/qingyi/image_chicago/data/images/satellite/zoom15/>:   2%|▏         | 1700/100000 [24:04<23:11:51,  1.18it/s]"
     ]
    },
    {
     "name": "stdout",
     "output_type": "stream",
     "text": [
      "G: 0.63 | D: 1.80 | GP: 0.84\n"
     ]
    },
    {
     "name": "stderr",
     "output_type": "stream",
     "text": [
      "2303-2</dreambig/qingyi/image_chicago/data/images/satellite/zoom15/>:   2%|▏         | 1750/100000 [24:47<23:11:46,  1.18it/s]"
     ]
    },
    {
     "name": "stdout",
     "output_type": "stream",
     "text": [
      "G: -0.36 | D: 2.08 | GP: 1.59\n"
     ]
    },
    {
     "name": "stderr",
     "output_type": "stream",
     "text": [
      "2303-2</dreambig/qingyi/image_chicago/data/images/satellite/zoom15/>:   2%|▏         | 1800/100000 [25:30<23:11:12,  1.18it/s]"
     ]
    },
    {
     "name": "stdout",
     "output_type": "stream",
     "text": [
      "G: 2.33 | D: 2.14 | GP: 0.02\n"
     ]
    },
    {
     "name": "stderr",
     "output_type": "stream",
     "text": [
      "2303-2</dreambig/qingyi/image_chicago/data/images/satellite/zoom15/>:   2%|▏         | 1850/100000 [26:13<23:10:58,  1.18it/s]"
     ]
    },
    {
     "name": "stdout",
     "output_type": "stream",
     "text": [
      "G: -0.16 | D: 1.86 | GP: 2.30\n"
     ]
    },
    {
     "name": "stderr",
     "output_type": "stream",
     "text": [
      "2303-2</dreambig/qingyi/image_chicago/data/images/satellite/zoom15/>:   2%|▏         | 1900/100000 [26:54<23:09:32,  1.18it/s]"
     ]
    },
    {
     "name": "stdout",
     "output_type": "stream",
     "text": [
      "G: -0.12 | D: 2.11 | GP: 0.17\n"
     ]
    },
    {
     "name": "stderr",
     "output_type": "stream",
     "text": [
      "2303-2</dreambig/qingyi/image_chicago/data/images/satellite/zoom15/>:   2%|▏         | 1950/100000 [27:38<23:09:27,  1.18it/s]"
     ]
    },
    {
     "name": "stdout",
     "output_type": "stream",
     "text": [
      "G: 1.11 | D: 1.82 | GP: 0.12\n"
     ]
    },
    {
     "name": "stderr",
     "output_type": "stream",
     "text": [
      "2303-2</dreambig/qingyi/image_chicago/data/images/satellite/zoom15/>:   2%|▏         | 2000/100000 [28:19<23:08:03,  1.18it/s]"
     ]
    },
    {
     "name": "stdout",
     "output_type": "stream",
     "text": [
      "G: 0.32 | D: 1.55 | GP: 1.89\n"
     ]
    },
    {
     "name": "stderr",
     "output_type": "stream",
     "text": [
      "2303-2</dreambig/qingyi/image_chicago/data/images/satellite/zoom15/>:   2%|▏         | 2050/100000 [29:02<23:07:57,  1.18it/s]"
     ]
    },
    {
     "name": "stdout",
     "output_type": "stream",
     "text": [
      "G: 3.28 | D: 2.75 | GP: 1.86\n"
     ]
    },
    {
     "name": "stderr",
     "output_type": "stream",
     "text": [
      "2303-2</dreambig/qingyi/image_chicago/data/images/satellite/zoom15/>:   2%|▏         | 2100/100000 [29:44<23:06:27,  1.18it/s]"
     ]
    },
    {
     "name": "stdout",
     "output_type": "stream",
     "text": [
      "G: 0.78 | D: 1.73 | GP: 4.43\n"
     ]
    },
    {
     "name": "stderr",
     "output_type": "stream",
     "text": [
      "2303-2</dreambig/qingyi/image_chicago/data/images/satellite/zoom15/>:   2%|▏         | 2150/100000 [30:27<23:06:26,  1.18it/s]"
     ]
    },
    {
     "name": "stdout",
     "output_type": "stream",
     "text": [
      "G: -0.17 | D: 2.00 | GP: 0.31\n"
     ]
    },
    {
     "name": "stderr",
     "output_type": "stream",
     "text": [
      "2303-2</dreambig/qingyi/image_chicago/data/images/satellite/zoom15/>:   2%|▏         | 2200/100000 [31:09<23:05:01,  1.18it/s]"
     ]
    },
    {
     "name": "stdout",
     "output_type": "stream",
     "text": [
      "G: -1.09 | D: 2.90 | GP: 0.84\n"
     ]
    },
    {
     "name": "stderr",
     "output_type": "stream",
     "text": [
      "2303-2</dreambig/qingyi/image_chicago/data/images/satellite/zoom15/>:   2%|▏         | 2250/100000 [31:52<23:04:59,  1.18it/s]"
     ]
    },
    {
     "name": "stdout",
     "output_type": "stream",
     "text": [
      "G: 0.38 | D: 1.71 | GP: 3.00\n"
     ]
    },
    {
     "name": "stderr",
     "output_type": "stream",
     "text": [
      "2303-2</dreambig/qingyi/image_chicago/data/images/satellite/zoom15/>:   2%|▏         | 2300/100000 [32:34<23:03:31,  1.18it/s]"
     ]
    },
    {
     "name": "stdout",
     "output_type": "stream",
     "text": [
      "G: 0.60 | D: 1.89 | GP: 5.33\n"
     ]
    },
    {
     "name": "stderr",
     "output_type": "stream",
     "text": [
      "2303-2</dreambig/qingyi/image_chicago/data/images/satellite/zoom15/>:   2%|▏         | 2350/100000 [33:17<23:03:26,  1.18it/s]"
     ]
    },
    {
     "name": "stdout",
     "output_type": "stream",
     "text": [
      "G: 1.24 | D: 1.55 | GP: 1.28\n"
     ]
    },
    {
     "name": "stderr",
     "output_type": "stream",
     "text": [
      "2303-2</dreambig/qingyi/image_chicago/data/images/satellite/zoom15/>:   2%|▏         | 2400/100000 [33:59<23:02:29,  1.18it/s]"
     ]
    },
    {
     "name": "stdout",
     "output_type": "stream",
     "text": [
      "G: 0.63 | D: 1.71 | GP: 4.50\n"
     ]
    },
    {
     "name": "stderr",
     "output_type": "stream",
     "text": [
      "2303-2</dreambig/qingyi/image_chicago/data/images/satellite/zoom15/>:   2%|▏         | 2450/100000 [34:43<23:02:19,  1.18it/s]"
     ]
    },
    {
     "name": "stdout",
     "output_type": "stream",
     "text": [
      "G: 1.29 | D: 1.55 | GP: 2.87\n"
     ]
    },
    {
     "name": "stderr",
     "output_type": "stream",
     "text": [
      "2303-2</dreambig/qingyi/image_chicago/data/images/satellite/zoom15/>:   2%|▎         | 2500/100000 [35:24<23:00:58,  1.18it/s]"
     ]
    },
    {
     "name": "stdout",
     "output_type": "stream",
     "text": [
      "G: 1.33 | D: 1.54 | GP: 0.01\n"
     ]
    },
    {
     "name": "stderr",
     "output_type": "stream",
     "text": [
      "2303-2</dreambig/qingyi/image_chicago/data/images/satellite/zoom15/>:   3%|▎         | 2550/100000 [36:07<23:00:24,  1.18it/s]"
     ]
    },
    {
     "name": "stdout",
     "output_type": "stream",
     "text": [
      "G: 0.06 | D: 1.81 | GP: 2.88\n"
     ]
    },
    {
     "name": "stderr",
     "output_type": "stream",
     "text": [
      "2303-2</dreambig/qingyi/image_chicago/data/images/satellite/zoom15/>:   3%|▎         | 2600/100000 [36:48<22:59:03,  1.18it/s]"
     ]
    },
    {
     "name": "stdout",
     "output_type": "stream",
     "text": [
      "G: 1.14 | D: 1.81 | GP: 2.21\n"
     ]
    },
    {
     "name": "stderr",
     "output_type": "stream",
     "text": [
      "2303-2</dreambig/qingyi/image_chicago/data/images/satellite/zoom15/>:   3%|▎         | 2650/100000 [37:31<22:58:37,  1.18it/s]"
     ]
    },
    {
     "name": "stdout",
     "output_type": "stream",
     "text": [
      "G: 0.53 | D: 1.53 | GP: 1.70\n"
     ]
    },
    {
     "name": "stderr",
     "output_type": "stream",
     "text": [
      "2303-2</dreambig/qingyi/image_chicago/data/images/satellite/zoom15/>:   3%|▎         | 2700/100000 [38:13<22:57:19,  1.18it/s]"
     ]
    },
    {
     "name": "stdout",
     "output_type": "stream",
     "text": [
      "G: 1.65 | D: 1.88 | GP: 0.39\n"
     ]
    },
    {
     "name": "stderr",
     "output_type": "stream",
     "text": [
      "2303-2</dreambig/qingyi/image_chicago/data/images/satellite/zoom15/>:   3%|▎         | 2750/100000 [38:55<22:56:46,  1.18it/s]"
     ]
    },
    {
     "name": "stdout",
     "output_type": "stream",
     "text": [
      "G: 0.50 | D: 2.13 | GP: 0.05\n"
     ]
    },
    {
     "name": "stderr",
     "output_type": "stream",
     "text": [
      "2303-2</dreambig/qingyi/image_chicago/data/images/satellite/zoom15/>:   3%|▎         | 2800/100000 [39:37<22:55:23,  1.18it/s]"
     ]
    },
    {
     "name": "stdout",
     "output_type": "stream",
     "text": [
      "G: 0.24 | D: 1.77 | GP: 0.81\n"
     ]
    },
    {
     "name": "stderr",
     "output_type": "stream",
     "text": [
      "2303-2</dreambig/qingyi/image_chicago/data/images/satellite/zoom15/>:   3%|▎         | 2850/100000 [40:19<22:54:48,  1.18it/s]"
     ]
    },
    {
     "name": "stdout",
     "output_type": "stream",
     "text": [
      "G: 1.19 | D: 1.82 | GP: 0.14\n"
     ]
    },
    {
     "name": "stderr",
     "output_type": "stream",
     "text": [
      "2303-2</dreambig/qingyi/image_chicago/data/images/satellite/zoom15/>:   3%|▎         | 2900/100000 [41:01<22:53:35,  1.18it/s]"
     ]
    },
    {
     "name": "stdout",
     "output_type": "stream",
     "text": [
      "G: 0.03 | D: 1.43 | GP: 1.62\n"
     ]
    },
    {
     "name": "stderr",
     "output_type": "stream",
     "text": [
      "2303-2</dreambig/qingyi/image_chicago/data/images/satellite/zoom15/>:   3%|▎         | 2950/100000 [41:44<22:53:21,  1.18it/s]"
     ]
    },
    {
     "name": "stdout",
     "output_type": "stream",
     "text": [
      "G: 0.34 | D: 1.63 | GP: 0.87\n"
     ]
    },
    {
     "name": "stderr",
     "output_type": "stream",
     "text": [
      "2303-2</dreambig/qingyi/image_chicago/data/images/satellite/zoom15/>:   3%|▎         | 3000/100000 [42:26<22:52:02,  1.18it/s]"
     ]
    },
    {
     "name": "stdout",
     "output_type": "stream",
     "text": [
      "G: 0.48 | D: 1.78 | GP: 0.17\n"
     ]
    },
    {
     "name": "stderr",
     "output_type": "stream",
     "text": [
      "2303-2</dreambig/qingyi/image_chicago/data/images/satellite/zoom15/>:   3%|▎         | 3050/100000 [43:09<22:51:49,  1.18it/s]"
     ]
    },
    {
     "name": "stdout",
     "output_type": "stream",
     "text": [
      "G: 0.49 | D: 1.64 | GP: 1.41\n"
     ]
    },
    {
     "name": "stderr",
     "output_type": "stream",
     "text": [
      "2303-2</dreambig/qingyi/image_chicago/data/images/satellite/zoom15/>:   3%|▎         | 3100/100000 [43:50<22:50:36,  1.18it/s]"
     ]
    },
    {
     "name": "stdout",
     "output_type": "stream",
     "text": [
      "G: 2.87 | D: 1.91 | GP: 0.76\n"
     ]
    },
    {
     "name": "stderr",
     "output_type": "stream",
     "text": [
      "2303-2</dreambig/qingyi/image_chicago/data/images/satellite/zoom15/>:   3%|▎         | 3150/100000 [44:33<22:49:57,  1.18it/s]"
     ]
    },
    {
     "name": "stdout",
     "output_type": "stream",
     "text": [
      "G: 0.37 | D: 1.65 | GP: 2.91\n"
     ]
    },
    {
     "name": "stderr",
     "output_type": "stream",
     "text": [
      "2303-2</dreambig/qingyi/image_chicago/data/images/satellite/zoom15/>:   3%|▎         | 3200/100000 [45:14<22:48:35,  1.18it/s]"
     ]
    },
    {
     "name": "stdout",
     "output_type": "stream",
     "text": [
      "G: 1.77 | D: 1.43 | GP: 0.54\n"
     ]
    },
    {
     "name": "stderr",
     "output_type": "stream",
     "text": [
      "2303-2</dreambig/qingyi/image_chicago/data/images/satellite/zoom15/>:   3%|▎         | 3250/100000 [45:57<22:47:56,  1.18it/s]"
     ]
    },
    {
     "name": "stdout",
     "output_type": "stream",
     "text": [
      "G: 0.06 | D: 1.74 | GP: 2.00\n"
     ]
    },
    {
     "name": "stderr",
     "output_type": "stream",
     "text": [
      "2303-2</dreambig/qingyi/image_chicago/data/images/satellite/zoom15/>:   3%|▎         | 3300/100000 [46:38<22:46:48,  1.18it/s]"
     ]
    },
    {
     "name": "stdout",
     "output_type": "stream",
     "text": [
      "G: 0.41 | D: 1.78 | GP: 26.36\n"
     ]
    },
    {
     "name": "stderr",
     "output_type": "stream",
     "text": [
      "2303-2</dreambig/qingyi/image_chicago/data/images/satellite/zoom15/>:   3%|▎         | 3350/100000 [47:21<22:46:14,  1.18it/s]"
     ]
    },
    {
     "name": "stdout",
     "output_type": "stream",
     "text": [
      "G: -1.32 | D: 1.43 | GP: 0.03\n"
     ]
    },
    {
     "name": "stderr",
     "output_type": "stream",
     "text": [
      "2303-2</dreambig/qingyi/image_chicago/data/images/satellite/zoom15/>:   3%|▎         | 3400/100000 [48:02<22:45:01,  1.18it/s]"
     ]
    },
    {
     "name": "stdout",
     "output_type": "stream",
     "text": [
      "G: 0.34 | D: 1.60 | GP: 2.00\n"
     ]
    },
    {
     "name": "stderr",
     "output_type": "stream",
     "text": [
      "2303-2</dreambig/qingyi/image_chicago/data/images/satellite/zoom15/>:   3%|▎         | 3450/100000 [48:45<22:44:34,  1.18it/s]"
     ]
    },
    {
     "name": "stdout",
     "output_type": "stream",
     "text": [
      "G: 0.79 | D: 1.22 | GP: 0.95\n"
     ]
    },
    {
     "name": "stderr",
     "output_type": "stream",
     "text": [
      "2303-2</dreambig/qingyi/image_chicago/data/images/satellite/zoom15/>:   4%|▎         | 3500/100000 [49:27<22:43:33,  1.18it/s]"
     ]
    },
    {
     "name": "stdout",
     "output_type": "stream",
     "text": [
      "G: 1.89 | D: 1.39 | GP: 0.60\n"
     ]
    },
    {
     "name": "stderr",
     "output_type": "stream",
     "text": [
      "2303-2</dreambig/qingyi/image_chicago/data/images/satellite/zoom15/>:   4%|▎         | 3550/100000 [50:10<22:43:20,  1.18it/s]"
     ]
    },
    {
     "name": "stdout",
     "output_type": "stream",
     "text": [
      "G: 8.80 | D: 1.73 | GP: 0.12\n"
     ]
    },
    {
     "name": "stderr",
     "output_type": "stream",
     "text": [
      "2303-2</dreambig/qingyi/image_chicago/data/images/satellite/zoom15/>:   4%|▎         | 3600/100000 [50:52<22:42:11,  1.18it/s]"
     ]
    },
    {
     "name": "stdout",
     "output_type": "stream",
     "text": [
      "G: 1.42 | D: 1.57 | GP: 0.02\n"
     ]
    },
    {
     "name": "stderr",
     "output_type": "stream",
     "text": [
      "2303-2</dreambig/qingyi/image_chicago/data/images/satellite/zoom15/>:   4%|▎         | 3650/100000 [51:35<22:41:40,  1.18it/s]"
     ]
    },
    {
     "name": "stdout",
     "output_type": "stream",
     "text": [
      "G: 1.18 | D: 1.36 | GP: 2.85\n"
     ]
    },
    {
     "name": "stderr",
     "output_type": "stream",
     "text": [
      "2303-2</dreambig/qingyi/image_chicago/data/images/satellite/zoom15/>:   4%|▎         | 3700/100000 [52:16<22:40:33,  1.18it/s]"
     ]
    },
    {
     "name": "stdout",
     "output_type": "stream",
     "text": [
      "G: 0.75 | D: 1.57 | GP: 7.82\n"
     ]
    },
    {
     "name": "stderr",
     "output_type": "stream",
     "text": [
      "2303-2</dreambig/qingyi/image_chicago/data/images/satellite/zoom15/>:   4%|▍         | 3750/100000 [52:59<22:39:56,  1.18it/s]"
     ]
    },
    {
     "name": "stdout",
     "output_type": "stream",
     "text": [
      "G: 0.51 | D: 1.56 | GP: 2.70\n"
     ]
    },
    {
     "name": "stderr",
     "output_type": "stream",
     "text": [
      "2303-2</dreambig/qingyi/image_chicago/data/images/satellite/zoom15/>:   4%|▍         | 3800/100000 [53:40<22:38:47,  1.18it/s]"
     ]
    },
    {
     "name": "stdout",
     "output_type": "stream",
     "text": [
      "G: 1.70 | D: 1.24 | GP: 0.14\n"
     ]
    },
    {
     "name": "stderr",
     "output_type": "stream",
     "text": [
      "2303-2</dreambig/qingyi/image_chicago/data/images/satellite/zoom15/>:   4%|▍         | 3850/100000 [54:23<22:38:17,  1.18it/s]"
     ]
    },
    {
     "name": "stdout",
     "output_type": "stream",
     "text": [
      "G: 1.08 | D: 1.21 | GP: 0.21\n"
     ]
    },
    {
     "name": "stderr",
     "output_type": "stream",
     "text": [
      "2303-2</dreambig/qingyi/image_chicago/data/images/satellite/zoom15/>:   4%|▍         | 3900/100000 [55:04<22:37:16,  1.18it/s]"
     ]
    },
    {
     "name": "stdout",
     "output_type": "stream",
     "text": [
      "G: -0.29 | D: 1.87 | GP: 3.29\n"
     ]
    },
    {
     "name": "stderr",
     "output_type": "stream",
     "text": [
      "2303-2</dreambig/qingyi/image_chicago/data/images/satellite/zoom15/>:   4%|▍         | 3950/100000 [55:47<22:36:42,  1.18it/s]"
     ]
    },
    {
     "name": "stdout",
     "output_type": "stream",
     "text": [
      "G: 0.25 | D: 1.66 | GP: 2.58\n"
     ]
    },
    {
     "name": "stderr",
     "output_type": "stream",
     "text": [
      "2303-2</dreambig/qingyi/image_chicago/data/images/satellite/zoom15/>:   4%|▍         | 4000/100000 [56:29<22:35:40,  1.18it/s]"
     ]
    },
    {
     "name": "stdout",
     "output_type": "stream",
     "text": [
      "G: 1.27 | D: 1.46 | GP: 0.43\n"
     ]
    },
    {
     "name": "stderr",
     "output_type": "stream",
     "text": [
      "2303-2</dreambig/qingyi/image_chicago/data/images/satellite/zoom15/>:   4%|▍         | 4050/100000 [57:12<22:35:24,  1.18it/s]"
     ]
    },
    {
     "name": "stdout",
     "output_type": "stream",
     "text": [
      "G: 0.02 | D: 1.46 | GP: 0.14\n"
     ]
    },
    {
     "name": "stderr",
     "output_type": "stream",
     "text": [
      "2303-2</dreambig/qingyi/image_chicago/data/images/satellite/zoom15/>:   4%|▍         | 4100/100000 [57:54<22:34:28,  1.18it/s]"
     ]
    },
    {
     "name": "stdout",
     "output_type": "stream",
     "text": [
      "G: 0.17 | D: 1.83 | GP: 1.04\n"
     ]
    },
    {
     "name": "stderr",
     "output_type": "stream",
     "text": [
      "2303-2</dreambig/qingyi/image_chicago/data/images/satellite/zoom15/>:   4%|▍         | 4150/100000 [58:37<22:34:10,  1.18it/s]"
     ]
    },
    {
     "name": "stdout",
     "output_type": "stream",
     "text": [
      "G: -0.04 | D: 1.74 | GP: 1.04\n"
     ]
    },
    {
     "name": "stderr",
     "output_type": "stream",
     "text": [
      "2303-2</dreambig/qingyi/image_chicago/data/images/satellite/zoom15/>:   4%|▍         | 4200/100000 [59:19<22:33:05,  1.18it/s]"
     ]
    },
    {
     "name": "stdout",
     "output_type": "stream",
     "text": [
      "G: 0.27 | D: 1.58 | GP: 0.43\n"
     ]
    },
    {
     "name": "stderr",
     "output_type": "stream",
     "text": [
      "2303-2</dreambig/qingyi/image_chicago/data/images/satellite/zoom15/>:   4%|▍         | 4250/100000 [1:00:01<22:32:28,  1.18it/s]"
     ]
    },
    {
     "name": "stdout",
     "output_type": "stream",
     "text": [
      "G: -0.05 | D: 1.56 | GP: 0.30\n"
     ]
    },
    {
     "name": "stderr",
     "output_type": "stream",
     "text": [
      "2303-2</dreambig/qingyi/image_chicago/data/images/satellite/zoom15/>:   4%|▍         | 4300/100000 [1:00:43<22:31:26,  1.18it/s]"
     ]
    },
    {
     "name": "stdout",
     "output_type": "stream",
     "text": [
      "G: 0.95 | D: 1.58 | GP: 2.71\n"
     ]
    },
    {
     "name": "stderr",
     "output_type": "stream",
     "text": [
      "2303-2</dreambig/qingyi/image_chicago/data/images/satellite/zoom15/>:   4%|▍         | 4350/100000 [1:01:26<22:30:49,  1.18it/s]"
     ]
    },
    {
     "name": "stdout",
     "output_type": "stream",
     "text": [
      "G: 0.69 | D: 1.39 | GP: 0.27\n"
     ]
    },
    {
     "name": "stderr",
     "output_type": "stream",
     "text": [
      "2303-2</dreambig/qingyi/image_chicago/data/images/satellite/zoom15/>:   4%|▍         | 4400/100000 [1:02:07<22:29:47,  1.18it/s]"
     ]
    },
    {
     "name": "stdout",
     "output_type": "stream",
     "text": [
      "G: 0.27 | D: 1.76 | GP: 0.57\n"
     ]
    },
    {
     "name": "stderr",
     "output_type": "stream",
     "text": [
      "2303-2</dreambig/qingyi/image_chicago/data/images/satellite/zoom15/>:   4%|▍         | 4450/100000 [1:02:50<22:29:09,  1.18it/s]"
     ]
    },
    {
     "name": "stdout",
     "output_type": "stream",
     "text": [
      "G: 0.03 | D: 1.73 | GP: 1.45\n"
     ]
    },
    {
     "name": "stderr",
     "output_type": "stream",
     "text": [
      "2303-2</dreambig/qingyi/image_chicago/data/images/satellite/zoom15/>:   4%|▍         | 4500/100000 [1:03:31<22:28:09,  1.18it/s]"
     ]
    },
    {
     "name": "stdout",
     "output_type": "stream",
     "text": [
      "G: 0.68 | D: 1.58 | GP: 0.70\n"
     ]
    },
    {
     "name": "stderr",
     "output_type": "stream",
     "text": [
      "2303-2</dreambig/qingyi/image_chicago/data/images/satellite/zoom15/>:   5%|▍         | 4550/100000 [1:04:14<22:27:35,  1.18it/s]"
     ]
    },
    {
     "name": "stdout",
     "output_type": "stream",
     "text": [
      "G: 0.65 | D: 1.68 | GP: 2.31\n"
     ]
    },
    {
     "name": "stderr",
     "output_type": "stream",
     "text": [
      "2303-2</dreambig/qingyi/image_chicago/data/images/satellite/zoom15/>:   5%|▍         | 4600/100000 [1:04:55<22:26:36,  1.18it/s]"
     ]
    },
    {
     "name": "stdout",
     "output_type": "stream",
     "text": [
      "G: 0.41 | D: 1.46 | GP: 3.14\n"
     ]
    },
    {
     "name": "stderr",
     "output_type": "stream",
     "text": [
      "2303-2</dreambig/qingyi/image_chicago/data/images/satellite/zoom15/>:   5%|▍         | 4650/100000 [1:05:38<22:26:02,  1.18it/s]"
     ]
    },
    {
     "name": "stdout",
     "output_type": "stream",
     "text": [
      "G: 0.69 | D: 1.38 | GP: 0.05\n"
     ]
    },
    {
     "name": "stderr",
     "output_type": "stream",
     "text": [
      "2303-2</dreambig/qingyi/image_chicago/data/images/satellite/zoom15/>:   5%|▍         | 4700/100000 [1:06:19<22:24:59,  1.18it/s]"
     ]
    },
    {
     "name": "stdout",
     "output_type": "stream",
     "text": [
      "G: 0.35 | D: 1.49 | GP: 0.23\n"
     ]
    },
    {
     "name": "stderr",
     "output_type": "stream",
     "text": [
      "2303-2</dreambig/qingyi/image_chicago/data/images/satellite/zoom15/>:   5%|▍         | 4750/100000 [1:07:03<22:24:40,  1.18it/s]"
     ]
    },
    {
     "name": "stdout",
     "output_type": "stream",
     "text": [
      "G: 2.61 | D: 1.40 | GP: 0.39\n"
     ]
    },
    {
     "name": "stderr",
     "output_type": "stream",
     "text": [
      "2303-2</dreambig/qingyi/image_chicago/data/images/satellite/zoom15/>:   5%|▍         | 4800/100000 [1:07:44<22:23:39,  1.18it/s]"
     ]
    },
    {
     "name": "stdout",
     "output_type": "stream",
     "text": [
      "G: 0.92 | D: 3.19 | GP: 0.31\n"
     ]
    },
    {
     "name": "stderr",
     "output_type": "stream",
     "text": [
      "2303-2</dreambig/qingyi/image_chicago/data/images/satellite/zoom15/>:   5%|▍         | 4850/100000 [1:08:27<22:23:05,  1.18it/s]"
     ]
    },
    {
     "name": "stdout",
     "output_type": "stream",
     "text": [
      "G: 0.64 | D: 1.36 | GP: 0.31\n"
     ]
    },
    {
     "name": "stderr",
     "output_type": "stream",
     "text": [
      "2303-2</dreambig/qingyi/image_chicago/data/images/satellite/zoom15/>:   5%|▍         | 4900/100000 [1:09:09<22:22:09,  1.18it/s]"
     ]
    },
    {
     "name": "stdout",
     "output_type": "stream",
     "text": [
      "G: 1.04 | D: 1.38 | GP: 0.33\n"
     ]
    },
    {
     "name": "stderr",
     "output_type": "stream",
     "text": [
      "2303-2</dreambig/qingyi/image_chicago/data/images/satellite/zoom15/>:   5%|▍         | 4950/100000 [1:09:52<22:21:36,  1.18it/s]"
     ]
    },
    {
     "name": "stdout",
     "output_type": "stream",
     "text": [
      "G: 1.98 | D: 1.16 | GP: 0.18\n"
     ]
    },
    {
     "name": "stderr",
     "output_type": "stream",
     "text": [
      "2303-2</dreambig/qingyi/image_chicago/data/images/satellite/zoom15/>:   5%|▌         | 5000/100000 [1:10:33<22:20:35,  1.18it/s]"
     ]
    },
    {
     "name": "stdout",
     "output_type": "stream",
     "text": [
      "G: 0.36 | D: 1.64 | GP: 7.22\n"
     ]
    },
    {
     "name": "stderr",
     "output_type": "stream",
     "text": [
      "2303-2</dreambig/qingyi/image_chicago/data/images/satellite/zoom15/>:   5%|▌         | 5050/100000 [1:11:16<22:20:10,  1.18it/s]"
     ]
    },
    {
     "name": "stdout",
     "output_type": "stream",
     "text": [
      "G: 0.01 | D: 1.55 | GP: 2.73 | PL: 0.13\n"
     ]
    },
    {
     "name": "stderr",
     "output_type": "stream",
     "text": [
      "2303-2</dreambig/qingyi/image_chicago/data/images/satellite/zoom15/>:   5%|▌         | 5100/100000 [1:11:59<22:19:37,  1.18it/s]"
     ]
    },
    {
     "name": "stdout",
     "output_type": "stream",
     "text": [
      "G: 0.17 | D: 1.56 | GP: 3.58 | PL: 0.12\n"
     ]
    },
    {
     "name": "stderr",
     "output_type": "stream",
     "text": [
      "2303-2</dreambig/qingyi/image_chicago/data/images/satellite/zoom15/>:   5%|▌         | 5150/100000 [1:12:42<22:19:12,  1.18it/s]"
     ]
    },
    {
     "name": "stdout",
     "output_type": "stream",
     "text": [
      "G: 0.35 | D: 1.51 | GP: 0.01 | PL: 0.12\n"
     ]
    },
    {
     "name": "stderr",
     "output_type": "stream",
     "text": [
      "2303-2</dreambig/qingyi/image_chicago/data/images/satellite/zoom15/>:   5%|▌         | 5200/100000 [1:13:25<22:18:38,  1.18it/s]"
     ]
    },
    {
     "name": "stdout",
     "output_type": "stream",
     "text": [
      "G: 0.89 | D: 1.18 | GP: 0.44 | PL: 0.12\n"
     ]
    },
    {
     "name": "stderr",
     "output_type": "stream",
     "text": [
      "2303-2</dreambig/qingyi/image_chicago/data/images/satellite/zoom15/>:   5%|▌         | 5250/100000 [1:14:09<22:18:20,  1.18it/s]"
     ]
    },
    {
     "name": "stdout",
     "output_type": "stream",
     "text": [
      "G: 0.62 | D: 1.47 | GP: 2.29 | PL: 0.12\n"
     ]
    },
    {
     "name": "stderr",
     "output_type": "stream",
     "text": [
      "2303-2</dreambig/qingyi/image_chicago/data/images/satellite/zoom15/>:   5%|▌         | 5300/100000 [1:14:51<22:17:30,  1.18it/s]"
     ]
    },
    {
     "name": "stdout",
     "output_type": "stream",
     "text": [
      "G: 0.69 | D: 1.41 | GP: 2.36 | PL: 0.12\n"
     ]
    },
    {
     "name": "stderr",
     "output_type": "stream",
     "text": [
      "2303-2</dreambig/qingyi/image_chicago/data/images/satellite/zoom15/>:   5%|▌         | 5350/100000 [1:15:36<22:17:29,  1.18it/s]"
     ]
    },
    {
     "name": "stdout",
     "output_type": "stream",
     "text": [
      "G: 0.31 | D: 1.98 | GP: 1.55 | PL: 0.12\n"
     ]
    },
    {
     "name": "stderr",
     "output_type": "stream",
     "text": [
      "2303-2</dreambig/qingyi/image_chicago/data/images/satellite/zoom15/>:   5%|▌         | 5400/100000 [1:16:17<22:16:38,  1.18it/s]"
     ]
    },
    {
     "name": "stdout",
     "output_type": "stream",
     "text": [
      "G: 0.16 | D: 1.74 | GP: 0.04 | PL: 0.12\n"
     ]
    },
    {
     "name": "stderr",
     "output_type": "stream",
     "text": [
      "2303-2</dreambig/qingyi/image_chicago/data/images/satellite/zoom15/>:   5%|▌         | 5450/100000 [1:17:01<22:16:18,  1.18it/s]"
     ]
    },
    {
     "name": "stdout",
     "output_type": "stream",
     "text": [
      "G: 0.24 | D: 1.48 | GP: 0.33 | PL: 0.12\n"
     ]
    },
    {
     "name": "stderr",
     "output_type": "stream",
     "text": [
      "2303-2</dreambig/qingyi/image_chicago/data/images/satellite/zoom15/>:   6%|▌         | 5500/100000 [1:17:43<22:15:27,  1.18it/s]"
     ]
    },
    {
     "name": "stdout",
     "output_type": "stream",
     "text": [
      "G: 0.25 | D: 1.64 | GP: 6.75 | PL: 0.12\n"
     ]
    },
    {
     "name": "stderr",
     "output_type": "stream",
     "text": [
      "2303-2</dreambig/qingyi/image_chicago/data/images/satellite/zoom15/>:   6%|▌         | 5550/100000 [1:18:27<22:15:08,  1.18it/s]"
     ]
    },
    {
     "name": "stdout",
     "output_type": "stream",
     "text": [
      "G: 0.77 | D: 1.61 | GP: 0.22 | PL: 0.12\n"
     ]
    },
    {
     "name": "stderr",
     "output_type": "stream",
     "text": [
      "2303-2</dreambig/qingyi/image_chicago/data/images/satellite/zoom15/>:   6%|▌         | 5600/100000 [1:19:09<22:14:19,  1.18it/s]"
     ]
    },
    {
     "name": "stdout",
     "output_type": "stream",
     "text": [
      "G: 0.58 | D: 1.52 | GP: 2.81 | PL: 0.12\n"
     ]
    },
    {
     "name": "stderr",
     "output_type": "stream",
     "text": [
      "2303-2</dreambig/qingyi/image_chicago/data/images/satellite/zoom15/>:   6%|▌         | 5650/100000 [1:19:52<22:13:57,  1.18it/s]"
     ]
    },
    {
     "name": "stdout",
     "output_type": "stream",
     "text": [
      "G: 0.25 | D: 1.52 | GP: 0.94 | PL: 0.12\n"
     ]
    },
    {
     "name": "stderr",
     "output_type": "stream",
     "text": [
      "2303-2</dreambig/qingyi/image_chicago/data/images/satellite/zoom15/>:   6%|▌         | 5700/100000 [1:20:35<22:13:16,  1.18it/s]"
     ]
    },
    {
     "name": "stdout",
     "output_type": "stream",
     "text": [
      "G: 0.08 | D: 1.57 | GP: 9.34 | PL: 0.12\n"
     ]
    },
    {
     "name": "stderr",
     "output_type": "stream",
     "text": [
      "2303-2</dreambig/qingyi/image_chicago/data/images/satellite/zoom15/>:   6%|▌         | 5750/100000 [1:21:18<22:12:46,  1.18it/s]"
     ]
    },
    {
     "name": "stdout",
     "output_type": "stream",
     "text": [
      "G: -0.19 | D: 1.37 | GP: 0.14 | PL: 0.12\n"
     ]
    },
    {
     "name": "stderr",
     "output_type": "stream",
     "text": [
      "2303-2</dreambig/qingyi/image_chicago/data/images/satellite/zoom15/>:   6%|▌         | 5800/100000 [1:22:01<22:12:08,  1.18it/s]"
     ]
    },
    {
     "name": "stdout",
     "output_type": "stream",
     "text": [
      "G: 0.69 | D: 1.40 | GP: 1.26 | PL: 0.12\n"
     ]
    },
    {
     "name": "stderr",
     "output_type": "stream",
     "text": [
      "2303-2</dreambig/qingyi/image_chicago/data/images/satellite/zoom15/>:   6%|▌         | 5850/100000 [1:22:44<22:11:42,  1.18it/s]"
     ]
    },
    {
     "name": "stdout",
     "output_type": "stream",
     "text": [
      "G: 0.01 | D: 1.66 | GP: 2.42 | PL: 0.12\n"
     ]
    },
    {
     "name": "stderr",
     "output_type": "stream",
     "text": [
      "2303-2</dreambig/qingyi/image_chicago/data/images/satellite/zoom15/>:   6%|▌         | 5900/100000 [1:23:28<22:11:17,  1.18it/s]"
     ]
    },
    {
     "name": "stdout",
     "output_type": "stream",
     "text": [
      "G: 0.73 | D: 1.63 | GP: 4.80 | PL: 0.12\n"
     ]
    },
    {
     "name": "stderr",
     "output_type": "stream",
     "text": [
      "2303-2</dreambig/qingyi/image_chicago/data/images/satellite/zoom15/>:   6%|▌         | 5950/100000 [1:24:11<22:10:50,  1.18it/s]"
     ]
    },
    {
     "name": "stdout",
     "output_type": "stream",
     "text": [
      "G: 1.47 | D: 1.39 | GP: 0.25 | PL: 0.12\n"
     ]
    },
    {
     "name": "stderr",
     "output_type": "stream",
     "text": [
      "2303-2</dreambig/qingyi/image_chicago/data/images/satellite/zoom15/>:   6%|▌         | 6000/100000 [1:24:54<22:10:11,  1.18it/s]"
     ]
    },
    {
     "name": "stdout",
     "output_type": "stream",
     "text": [
      "G: 1.36 | D: 1.41 | GP: 1.86 | PL: 0.12\n"
     ]
    },
    {
     "name": "stderr",
     "output_type": "stream",
     "text": [
      "2303-2</dreambig/qingyi/image_chicago/data/images/satellite/zoom15/>:   6%|▌         | 6050/100000 [1:25:38<22:10:02,  1.18it/s]"
     ]
    },
    {
     "name": "stdout",
     "output_type": "stream",
     "text": [
      "G: 0.31 | D: 1.02 | GP: 0.09 | PL: 0.12\n"
     ]
    },
    {
     "name": "stderr",
     "output_type": "stream",
     "text": [
      "2303-2</dreambig/qingyi/image_chicago/data/images/satellite/zoom15/>:   6%|▌         | 6100/100000 [1:26:21<22:09:17,  1.18it/s]"
     ]
    },
    {
     "name": "stdout",
     "output_type": "stream",
     "text": [
      "G: 0.06 | D: 1.55 | GP: 1.66 | PL: 0.12\n"
     ]
    },
    {
     "name": "stderr",
     "output_type": "stream",
     "text": [
      "2303-2</dreambig/qingyi/image_chicago/data/images/satellite/zoom15/>:   6%|▌         | 6150/100000 [1:27:05<22:08:54,  1.18it/s]"
     ]
    },
    {
     "name": "stdout",
     "output_type": "stream",
     "text": [
      "G: 1.20 | D: 1.30 | GP: 1.34 | PL: 0.12\n"
     ]
    },
    {
     "name": "stderr",
     "output_type": "stream",
     "text": [
      "2303-2</dreambig/qingyi/image_chicago/data/images/satellite/zoom15/>:   6%|▌         | 6200/100000 [1:27:46<22:08:03,  1.18it/s]"
     ]
    },
    {
     "name": "stdout",
     "output_type": "stream",
     "text": [
      "G: 0.97 | D: 1.07 | GP: 0.02 | PL: 0.12\n"
     ]
    },
    {
     "name": "stderr",
     "output_type": "stream",
     "text": [
      "2303-2</dreambig/qingyi/image_chicago/data/images/satellite/zoom15/>:   6%|▋         | 6250/100000 [1:28:30<22:07:38,  1.18it/s]"
     ]
    },
    {
     "name": "stdout",
     "output_type": "stream",
     "text": [
      "G: 0.47 | D: 1.18 | GP: 0.64 | PL: 0.12\n"
     ]
    },
    {
     "name": "stderr",
     "output_type": "stream",
     "text": [
      "2303-2</dreambig/qingyi/image_chicago/data/images/satellite/zoom15/>:   6%|▋         | 6300/100000 [1:29:12<22:06:48,  1.18it/s]"
     ]
    },
    {
     "name": "stdout",
     "output_type": "stream",
     "text": [
      "G: -0.02 | D: 1.03 | GP: 0.70 | PL: 0.12\n"
     ]
    },
    {
     "name": "stderr",
     "output_type": "stream",
     "text": [
      "2303-2</dreambig/qingyi/image_chicago/data/images/satellite/zoom15/>:   6%|▋         | 6350/100000 [1:29:56<22:06:24,  1.18it/s]"
     ]
    },
    {
     "name": "stdout",
     "output_type": "stream",
     "text": [
      "G: 0.92 | D: 1.29 | GP: 1.65 | PL: 0.12\n"
     ]
    },
    {
     "name": "stderr",
     "output_type": "stream",
     "text": [
      "2303-2</dreambig/qingyi/image_chicago/data/images/satellite/zoom15/>:   6%|▋         | 6400/100000 [1:30:38<22:05:34,  1.18it/s]"
     ]
    },
    {
     "name": "stdout",
     "output_type": "stream",
     "text": [
      "G: 1.51 | D: 1.18 | GP: 1.72 | PL: 0.12\n"
     ]
    },
    {
     "name": "stderr",
     "output_type": "stream",
     "text": [
      "2303-2</dreambig/qingyi/image_chicago/data/images/satellite/zoom15/>:   6%|▋         | 6450/100000 [1:31:22<22:05:12,  1.18it/s]"
     ]
    },
    {
     "name": "stdout",
     "output_type": "stream",
     "text": [
      "G: 0.50 | D: 1.47 | GP: 0.10 | PL: 0.12\n"
     ]
    },
    {
     "name": "stderr",
     "output_type": "stream",
     "text": [
      "2303-2</dreambig/qingyi/image_chicago/data/images/satellite/zoom15/>:   6%|▋         | 6500/100000 [1:32:05<22:04:42,  1.18it/s]"
     ]
    },
    {
     "name": "stdout",
     "output_type": "stream",
     "text": [
      "G: 0.66 | D: 1.51 | GP: 2.11 | PL: 0.12\n"
     ]
    },
    {
     "name": "stderr",
     "output_type": "stream",
     "text": [
      "2303-2</dreambig/qingyi/image_chicago/data/images/satellite/zoom15/>:   7%|▋         | 6550/100000 [1:32:48<22:04:09,  1.18it/s]"
     ]
    },
    {
     "name": "stdout",
     "output_type": "stream",
     "text": [
      "G: 0.55 | D: 1.68 | GP: 2.58 | PL: 0.12\n"
     ]
    },
    {
     "name": "stderr",
     "output_type": "stream",
     "text": [
      "2303-2</dreambig/qingyi/image_chicago/data/images/satellite/zoom15/>:   7%|▋         | 6600/100000 [1:33:31<22:03:27,  1.18it/s]"
     ]
    },
    {
     "name": "stdout",
     "output_type": "stream",
     "text": [
      "G: 0.79 | D: 1.44 | GP: 0.10 | PL: 0.12\n"
     ]
    },
    {
     "name": "stderr",
     "output_type": "stream",
     "text": [
      "2303-2</dreambig/qingyi/image_chicago/data/images/satellite/zoom15/>:   7%|▋         | 6650/100000 [1:34:14<22:02:52,  1.18it/s]"
     ]
    },
    {
     "name": "stdout",
     "output_type": "stream",
     "text": [
      "G: 0.31 | D: 1.51 | GP: 6.34 | PL: 0.12\n"
     ]
    },
    {
     "name": "stderr",
     "output_type": "stream",
     "text": [
      "2303-2</dreambig/qingyi/image_chicago/data/images/satellite/zoom15/>:   7%|▋         | 6700/100000 [1:34:56<22:02:07,  1.18it/s]"
     ]
    },
    {
     "name": "stdout",
     "output_type": "stream",
     "text": [
      "G: 0.26 | D: 2.82 | GP: 1.19 | PL: 0.12\n"
     ]
    },
    {
     "name": "stderr",
     "output_type": "stream",
     "text": [
      "2303-2</dreambig/qingyi/image_chicago/data/images/satellite/zoom15/>:   7%|▋         | 6750/100000 [1:35:39<22:01:33,  1.18it/s]"
     ]
    },
    {
     "name": "stdout",
     "output_type": "stream",
     "text": [
      "G: 0.00 | D: 1.68 | GP: 0.30 | PL: 0.12\n"
     ]
    },
    {
     "name": "stderr",
     "output_type": "stream",
     "text": [
      "2303-2</dreambig/qingyi/image_chicago/data/images/satellite/zoom15/>:   7%|▋         | 6800/100000 [1:36:22<22:00:53,  1.18it/s]"
     ]
    },
    {
     "name": "stdout",
     "output_type": "stream",
     "text": [
      "G: -0.08 | D: 1.91 | GP: 0.60 | PL: 0.12\n"
     ]
    },
    {
     "name": "stderr",
     "output_type": "stream",
     "text": [
      "2303-2</dreambig/qingyi/image_chicago/data/images/satellite/zoom15/>:   7%|▋         | 6850/100000 [1:37:06<22:00:25,  1.18it/s]"
     ]
    },
    {
     "name": "stdout",
     "output_type": "stream",
     "text": [
      "G: 0.32 | D: 2.00 | GP: 0.42 | PL: 0.13\n"
     ]
    },
    {
     "name": "stderr",
     "output_type": "stream",
     "text": [
      "2303-2</dreambig/qingyi/image_chicago/data/images/satellite/zoom15/>:   7%|▋         | 6900/100000 [1:37:47<21:59:34,  1.18it/s]"
     ]
    },
    {
     "name": "stdout",
     "output_type": "stream",
     "text": [
      "G: 2.74 | D: 1.01 | GP: 1.60 | PL: 0.13\n"
     ]
    },
    {
     "name": "stderr",
     "output_type": "stream",
     "text": [
      "2303-2</dreambig/qingyi/image_chicago/data/images/satellite/zoom15/>:   7%|▋         | 6950/100000 [1:38:31<21:59:07,  1.18it/s]"
     ]
    },
    {
     "name": "stdout",
     "output_type": "stream",
     "text": [
      "G: 0.55 | D: 1.52 | GP: 0.72 | PL: 0.13\n"
     ]
    },
    {
     "name": "stderr",
     "output_type": "stream",
     "text": [
      "2303-2</dreambig/qingyi/image_chicago/data/images/satellite/zoom15/>:   7%|▋         | 7000/100000 [1:39:13<21:58:16,  1.18it/s]"
     ]
    },
    {
     "name": "stdout",
     "output_type": "stream",
     "text": [
      "G: 0.48 | D: 1.34 | GP: 1.31 | PL: 0.13\n"
     ]
    },
    {
     "name": "stderr",
     "output_type": "stream",
     "text": [
      "2303-2</dreambig/qingyi/image_chicago/data/images/satellite/zoom15/>:   7%|▋         | 7050/100000 [1:39:57<21:57:59,  1.18it/s]"
     ]
    },
    {
     "name": "stdout",
     "output_type": "stream",
     "text": [
      "G: 1.43 | D: 1.21 | GP: 1.50 | PL: 0.13\n"
     ]
    },
    {
     "name": "stderr",
     "output_type": "stream",
     "text": [
      "2303-2</dreambig/qingyi/image_chicago/data/images/satellite/zoom15/>:   7%|▋         | 7100/100000 [1:40:41<21:57:24,  1.18it/s]"
     ]
    },
    {
     "name": "stdout",
     "output_type": "stream",
     "text": [
      "G: 1.10 | D: 1.29 | GP: 0.41 | PL: 0.13\n"
     ]
    },
    {
     "name": "stderr",
     "output_type": "stream",
     "text": [
      "2303-2</dreambig/qingyi/image_chicago/data/images/satellite/zoom15/>:   7%|▋         | 7150/100000 [1:41:25<21:57:00,  1.18it/s]"
     ]
    },
    {
     "name": "stdout",
     "output_type": "stream",
     "text": [
      "G: 1.21 | D: 1.13 | GP: 1.22 | PL: 0.13\n"
     ]
    },
    {
     "name": "stderr",
     "output_type": "stream",
     "text": [
      "2303-2</dreambig/qingyi/image_chicago/data/images/satellite/zoom15/>:   7%|▋         | 7200/100000 [1:42:06<21:56:10,  1.18it/s]"
     ]
    },
    {
     "name": "stdout",
     "output_type": "stream",
     "text": [
      "G: 1.09 | D: 1.26 | GP: 0.31 | PL: 0.13\n"
     ]
    },
    {
     "name": "stderr",
     "output_type": "stream",
     "text": [
      "2303-2</dreambig/qingyi/image_chicago/data/images/satellite/zoom15/>:   7%|▋         | 7250/100000 [1:42:50<21:55:43,  1.17it/s]"
     ]
    },
    {
     "name": "stdout",
     "output_type": "stream",
     "text": [
      "G: 0.03 | D: 1.39 | GP: 0.07 | PL: 0.13\n"
     ]
    },
    {
     "name": "stderr",
     "output_type": "stream",
     "text": [
      "2303-2</dreambig/qingyi/image_chicago/data/images/satellite/zoom15/>:   7%|▋         | 7300/100000 [1:43:33<21:55:02,  1.17it/s]"
     ]
    },
    {
     "name": "stdout",
     "output_type": "stream",
     "text": [
      "G: 2.77 | D: 0.76 | GP: 0.12 | PL: 0.13\n"
     ]
    },
    {
     "name": "stderr",
     "output_type": "stream",
     "text": [
      "2303-2</dreambig/qingyi/image_chicago/data/images/satellite/zoom15/>:   7%|▋         | 7350/100000 [1:44:16<21:54:30,  1.17it/s]"
     ]
    },
    {
     "name": "stdout",
     "output_type": "stream",
     "text": [
      "G: 0.83 | D: 1.29 | GP: 2.71 | PL: 0.13\n"
     ]
    },
    {
     "name": "stderr",
     "output_type": "stream",
     "text": [
      "2303-2</dreambig/qingyi/image_chicago/data/images/satellite/zoom15/>:   7%|▋         | 7400/100000 [1:44:59<21:53:47,  1.17it/s]"
     ]
    },
    {
     "name": "stdout",
     "output_type": "stream",
     "text": [
      "G: 2.29 | D: 1.59 | GP: 0.60 | PL: 0.13\n"
     ]
    },
    {
     "name": "stderr",
     "output_type": "stream",
     "text": [
      "2303-2</dreambig/qingyi/image_chicago/data/images/satellite/zoom15/>:   7%|▋         | 7450/100000 [1:45:42<21:53:14,  1.17it/s]"
     ]
    },
    {
     "name": "stdout",
     "output_type": "stream",
     "text": [
      "G: 0.23 | D: 1.32 | GP: 0.42 | PL: 0.13\n"
     ]
    },
    {
     "name": "stderr",
     "output_type": "stream",
     "text": [
      "2303-2</dreambig/qingyi/image_chicago/data/images/satellite/zoom15/>:   8%|▊         | 7500/100000 [1:46:25<21:52:29,  1.17it/s]"
     ]
    },
    {
     "name": "stdout",
     "output_type": "stream",
     "text": [
      "G: 0.41 | D: 1.40 | GP: 0.30 | PL: 0.13\n"
     ]
    },
    {
     "name": "stderr",
     "output_type": "stream",
     "text": [
      "2303-2</dreambig/qingyi/image_chicago/data/images/satellite/zoom15/>:   8%|▊         | 7550/100000 [1:47:08<21:51:54,  1.17it/s]"
     ]
    },
    {
     "name": "stdout",
     "output_type": "stream",
     "text": [
      "G: 1.50 | D: 1.19 | GP: 0.38 | PL: 0.13\n"
     ]
    },
    {
     "name": "stderr",
     "output_type": "stream",
     "text": [
      "2303-2</dreambig/qingyi/image_chicago/data/images/satellite/zoom15/>:   8%|▊         | 7600/100000 [1:47:50<21:51:12,  1.17it/s]"
     ]
    },
    {
     "name": "stdout",
     "output_type": "stream",
     "text": [
      "G: -0.47 | D: 3.80 | GP: 0.64 | PL: 0.13\n"
     ]
    },
    {
     "name": "stderr",
     "output_type": "stream",
     "text": [
      "2303-2</dreambig/qingyi/image_chicago/data/images/satellite/zoom15/>:   8%|▊         | 7650/100000 [1:48:34<21:50:43,  1.17it/s]"
     ]
    },
    {
     "name": "stdout",
     "output_type": "stream",
     "text": [
      "G: 0.47 | D: 1.43 | GP: 0.54 | PL: 0.13\n"
     ]
    },
    {
     "name": "stderr",
     "output_type": "stream",
     "text": [
      "2303-2</dreambig/qingyi/image_chicago/data/images/satellite/zoom15/>:   8%|▊         | 7700/100000 [1:49:17<21:50:01,  1.17it/s]"
     ]
    },
    {
     "name": "stdout",
     "output_type": "stream",
     "text": [
      "G: 0.87 | D: 1.25 | GP: 1.14 | PL: 0.13\n"
     ]
    },
    {
     "name": "stderr",
     "output_type": "stream",
     "text": [
      "2303-2</dreambig/qingyi/image_chicago/data/images/satellite/zoom15/>:   8%|▊         | 7750/100000 [1:50:00<21:49:31,  1.17it/s]"
     ]
    },
    {
     "name": "stdout",
     "output_type": "stream",
     "text": [
      "G: 0.79 | D: 1.27 | GP: 0.36 | PL: 0.13\n"
     ]
    },
    {
     "name": "stderr",
     "output_type": "stream",
     "text": [
      "2303-2</dreambig/qingyi/image_chicago/data/images/satellite/zoom15/>:   8%|▊         | 7800/100000 [1:50:42<21:48:40,  1.17it/s]"
     ]
    },
    {
     "name": "stdout",
     "output_type": "stream",
     "text": [
      "G: 3.24 | D: 1.06 | GP: 0.91 | PL: 0.13\n"
     ]
    },
    {
     "name": "stderr",
     "output_type": "stream",
     "text": [
      "2303-2</dreambig/qingyi/image_chicago/data/images/satellite/zoom15/>:   8%|▊         | 7850/100000 [1:51:26<21:48:10,  1.17it/s]"
     ]
    },
    {
     "name": "stdout",
     "output_type": "stream",
     "text": [
      "G: 2.75 | D: 1.10 | GP: 0.35 | PL: 0.13\n"
     ]
    },
    {
     "name": "stderr",
     "output_type": "stream",
     "text": [
      "2303-2</dreambig/qingyi/image_chicago/data/images/satellite/zoom15/>:   8%|▊         | 7900/100000 [1:52:08<21:47:22,  1.17it/s]"
     ]
    },
    {
     "name": "stdout",
     "output_type": "stream",
     "text": [
      "G: 0.48 | D: 1.40 | GP: 1.21 | PL: 0.13\n"
     ]
    },
    {
     "name": "stderr",
     "output_type": "stream",
     "text": [
      "2303-2</dreambig/qingyi/image_chicago/data/images/satellite/zoom15/>:   8%|▊         | 7950/100000 [1:52:52<21:46:53,  1.17it/s]"
     ]
    },
    {
     "name": "stdout",
     "output_type": "stream",
     "text": [
      "G: 1.42 | D: 0.88 | GP: 0.05 | PL: 0.13\n"
     ]
    },
    {
     "name": "stderr",
     "output_type": "stream",
     "text": [
      "2303-2</dreambig/qingyi/image_chicago/data/images/satellite/zoom15/>:   8%|▊         | 8000/100000 [1:53:34<21:46:04,  1.17it/s]"
     ]
    },
    {
     "name": "stdout",
     "output_type": "stream",
     "text": [
      "G: 0.35 | D: 1.47 | GP: 5.67 | PL: 0.13\n"
     ]
    },
    {
     "name": "stderr",
     "output_type": "stream",
     "text": [
      "2303-2</dreambig/qingyi/image_chicago/data/images/satellite/zoom15/>:   8%|▊         | 8050/100000 [1:54:18<21:45:41,  1.17it/s]"
     ]
    },
    {
     "name": "stdout",
     "output_type": "stream",
     "text": [
      "G: 1.26 | D: 1.22 | GP: 0.92 | PL: 0.13\n"
     ]
    },
    {
     "name": "stderr",
     "output_type": "stream",
     "text": [
      "2303-2</dreambig/qingyi/image_chicago/data/images/satellite/zoom15/>:   8%|▊         | 8100/100000 [1:55:01<21:44:59,  1.17it/s]"
     ]
    },
    {
     "name": "stdout",
     "output_type": "stream",
     "text": [
      "G: 0.92 | D: 1.29 | GP: 0.51 | PL: 0.13\n"
     ]
    },
    {
     "name": "stderr",
     "output_type": "stream",
     "text": [
      "2303-2</dreambig/qingyi/image_chicago/data/images/satellite/zoom15/>:   8%|▊         | 8150/100000 [1:55:44<21:44:27,  1.17it/s]"
     ]
    },
    {
     "name": "stdout",
     "output_type": "stream",
     "text": [
      "G: 1.04 | D: 1.13 | GP: 0.96 | PL: 0.13\n"
     ]
    },
    {
     "name": "stderr",
     "output_type": "stream",
     "text": [
      "2303-2</dreambig/qingyi/image_chicago/data/images/satellite/zoom15/>:   8%|▊         | 8200/100000 [1:56:27<21:43:43,  1.17it/s]"
     ]
    },
    {
     "name": "stdout",
     "output_type": "stream",
     "text": [
      "G: 0.90 | D: 1.30 | GP: 4.15 | PL: 0.13\n"
     ]
    },
    {
     "name": "stderr",
     "output_type": "stream",
     "text": [
      "2303-2</dreambig/qingyi/image_chicago/data/images/satellite/zoom15/>:   8%|▊         | 8250/100000 [1:57:11<21:43:17,  1.17it/s]"
     ]
    },
    {
     "name": "stdout",
     "output_type": "stream",
     "text": [
      "G: 0.83 | D: 1.24 | GP: 0.39 | PL: 0.13\n"
     ]
    },
    {
     "name": "stderr",
     "output_type": "stream",
     "text": [
      "2303-2</dreambig/qingyi/image_chicago/data/images/satellite/zoom15/>:   8%|▊         | 8300/100000 [1:57:54<21:42:35,  1.17it/s]"
     ]
    },
    {
     "name": "stdout",
     "output_type": "stream",
     "text": [
      "G: 0.62 | D: 1.49 | GP: 0.92 | PL: 0.13\n"
     ]
    },
    {
     "name": "stderr",
     "output_type": "stream",
     "text": [
      "2303-2</dreambig/qingyi/image_chicago/data/images/satellite/zoom15/>:   8%|▊         | 8350/100000 [1:58:37<21:42:01,  1.17it/s]"
     ]
    },
    {
     "name": "stdout",
     "output_type": "stream",
     "text": [
      "G: 0.64 | D: 1.35 | GP: 0.44 | PL: 0.13\n"
     ]
    },
    {
     "name": "stderr",
     "output_type": "stream",
     "text": [
      "2303-2</dreambig/qingyi/image_chicago/data/images/satellite/zoom15/>:   8%|▊         | 8400/100000 [1:59:20<21:41:21,  1.17it/s]"
     ]
    },
    {
     "name": "stdout",
     "output_type": "stream",
     "text": [
      "G: 1.08 | D: 1.09 | GP: 1.50 | PL: 0.13\n"
     ]
    },
    {
     "name": "stderr",
     "output_type": "stream",
     "text": [
      "2303-2</dreambig/qingyi/image_chicago/data/images/satellite/zoom15/>:   8%|▊         | 8450/100000 [2:00:04<21:40:50,  1.17it/s]"
     ]
    },
    {
     "name": "stdout",
     "output_type": "stream",
     "text": [
      "G: 0.60 | D: 1.37 | GP: 1.49 | PL: 0.13\n"
     ]
    },
    {
     "name": "stderr",
     "output_type": "stream",
     "text": [
      "2303-2</dreambig/qingyi/image_chicago/data/images/satellite/zoom15/>:   8%|▊         | 8500/100000 [2:00:45<21:39:59,  1.17it/s]"
     ]
    },
    {
     "name": "stdout",
     "output_type": "stream",
     "text": [
      "G: -1.54 | D: 0.97 | GP: 1.00 | PL: 0.13\n"
     ]
    },
    {
     "name": "stderr",
     "output_type": "stream",
     "text": [
      "2303-2</dreambig/qingyi/image_chicago/data/images/satellite/zoom15/>:   9%|▊         | 8550/100000 [2:01:29<21:39:27,  1.17it/s]"
     ]
    },
    {
     "name": "stdout",
     "output_type": "stream",
     "text": [
      "G: 0.43 | D: 1.43 | GP: 1.45 | PL: 0.13\n"
     ]
    },
    {
     "name": "stderr",
     "output_type": "stream",
     "text": [
      "2303-2</dreambig/qingyi/image_chicago/data/images/satellite/zoom15/>:   9%|▊         | 8600/100000 [2:02:11<21:38:39,  1.17it/s]"
     ]
    },
    {
     "name": "stdout",
     "output_type": "stream",
     "text": [
      "G: 0.83 | D: 1.70 | GP: 0.13 | PL: 0.14\n"
     ]
    },
    {
     "name": "stderr",
     "output_type": "stream",
     "text": [
      "2303-2</dreambig/qingyi/image_chicago/data/images/satellite/zoom15/>:   9%|▊         | 8650/100000 [2:02:55<21:38:09,  1.17it/s]"
     ]
    },
    {
     "name": "stdout",
     "output_type": "stream",
     "text": [
      "G: 1.27 | D: 1.16 | GP: 0.07 | PL: 0.14\n"
     ]
    },
    {
     "name": "stderr",
     "output_type": "stream",
     "text": [
      "2303-2</dreambig/qingyi/image_chicago/data/images/satellite/zoom15/>:   9%|▊         | 8700/100000 [2:03:37<21:37:18,  1.17it/s]"
     ]
    },
    {
     "name": "stdout",
     "output_type": "stream",
     "text": [
      "G: 0.80 | D: 1.35 | GP: 2.84 | PL: 0.14\n"
     ]
    },
    {
     "name": "stderr",
     "output_type": "stream",
     "text": [
      "2303-2</dreambig/qingyi/image_chicago/data/images/satellite/zoom15/>:   9%|▉         | 8750/100000 [2:04:21<21:36:50,  1.17it/s]"
     ]
    },
    {
     "name": "stdout",
     "output_type": "stream",
     "text": [
      "G: -0.10 | D: 1.61 | GP: 0.28 | PL: 0.14\n"
     ]
    },
    {
     "name": "stderr",
     "output_type": "stream",
     "text": [
      "2303-2</dreambig/qingyi/image_chicago/data/images/satellite/zoom15/>:   9%|▉         | 8800/100000 [2:05:03<21:36:00,  1.17it/s]"
     ]
    },
    {
     "name": "stdout",
     "output_type": "stream",
     "text": [
      "G: -0.52 | D: 1.03 | GP: 0.92 | PL: 0.14\n"
     ]
    },
    {
     "name": "stderr",
     "output_type": "stream",
     "text": [
      "2303-2</dreambig/qingyi/image_chicago/data/images/satellite/zoom15/>:   9%|▉         | 8850/100000 [2:05:47<21:35:37,  1.17it/s]"
     ]
    },
    {
     "name": "stdout",
     "output_type": "stream",
     "text": [
      "G: 0.84 | D: 1.31 | GP: 0.45 | PL: 0.14\n"
     ]
    },
    {
     "name": "stderr",
     "output_type": "stream",
     "text": [
      "2303-2</dreambig/qingyi/image_chicago/data/images/satellite/zoom15/>:   9%|▉         | 8900/100000 [2:06:30<21:34:54,  1.17it/s]"
     ]
    },
    {
     "name": "stdout",
     "output_type": "stream",
     "text": [
      "G: 1.33 | D: 2.38 | GP: 0.62 | PL: 0.14\n"
     ]
    },
    {
     "name": "stderr",
     "output_type": "stream",
     "text": [
      "2303-2</dreambig/qingyi/image_chicago/data/images/satellite/zoom15/>:   9%|▉         | 8950/100000 [2:07:13<21:34:18,  1.17it/s]"
     ]
    },
    {
     "name": "stdout",
     "output_type": "stream",
     "text": [
      "G: 1.74 | D: 1.07 | GP: 0.12 | PL: 0.14\n"
     ]
    },
    {
     "name": "stderr",
     "output_type": "stream",
     "text": [
      "2303-2</dreambig/qingyi/image_chicago/data/images/satellite/zoom15/>:   9%|▉         | 9000/100000 [2:07:56<21:33:33,  1.17it/s]"
     ]
    },
    {
     "name": "stdout",
     "output_type": "stream",
     "text": [
      "G: -0.52 | D: 1.23 | GP: 0.05 | PL: 0.14\n"
     ]
    },
    {
     "name": "stderr",
     "output_type": "stream",
     "text": [
      "2303-2</dreambig/qingyi/image_chicago/data/images/satellite/zoom15/>:   9%|▉         | 9050/100000 [2:08:40<21:33:04,  1.17it/s]"
     ]
    },
    {
     "name": "stdout",
     "output_type": "stream",
     "text": [
      "G: 0.62 | D: 1.54 | GP: 1.82 | PL: 0.14\n"
     ]
    },
    {
     "name": "stderr",
     "output_type": "stream",
     "text": [
      "2303-2</dreambig/qingyi/image_chicago/data/images/satellite/zoom15/>:   9%|▉         | 9100/100000 [2:09:22<21:32:21,  1.17it/s]"
     ]
    },
    {
     "name": "stdout",
     "output_type": "stream",
     "text": [
      "G: 0.62 | D: 1.24 | GP: 0.43 | PL: 0.14\n"
     ]
    },
    {
     "name": "stderr",
     "output_type": "stream",
     "text": [
      "2303-2</dreambig/qingyi/image_chicago/data/images/satellite/zoom15/>:   9%|▉         | 9150/100000 [2:10:06<21:31:46,  1.17it/s]"
     ]
    },
    {
     "name": "stdout",
     "output_type": "stream",
     "text": [
      "G: 0.57 | D: 1.13 | GP: 0.62 | PL: 0.14\n"
     ]
    },
    {
     "name": "stderr",
     "output_type": "stream",
     "text": [
      "2303-2</dreambig/qingyi/image_chicago/data/images/satellite/zoom15/>:   9%|▉         | 9200/100000 [2:10:48<21:31:00,  1.17it/s]"
     ]
    },
    {
     "name": "stdout",
     "output_type": "stream",
     "text": [
      "G: 1.00 | D: 1.42 | GP: 0.22 | PL: 0.14\n"
     ]
    },
    {
     "name": "stderr",
     "output_type": "stream",
     "text": [
      "2303-2</dreambig/qingyi/image_chicago/data/images/satellite/zoom15/>:   9%|▉         | 9250/100000 [2:11:32<21:30:27,  1.17it/s]"
     ]
    },
    {
     "name": "stdout",
     "output_type": "stream",
     "text": [
      "G: 0.56 | D: 1.35 | GP: 0.74 | PL: 0.14\n"
     ]
    },
    {
     "name": "stderr",
     "output_type": "stream",
     "text": [
      "2303-2</dreambig/qingyi/image_chicago/data/images/satellite/zoom15/>:   9%|▉         | 9300/100000 [2:12:14<21:29:37,  1.17it/s]"
     ]
    },
    {
     "name": "stdout",
     "output_type": "stream",
     "text": [
      "G: 0.71 | D: 1.37 | GP: 0.59 | PL: 0.14\n"
     ]
    },
    {
     "name": "stderr",
     "output_type": "stream",
     "text": [
      "2303-2</dreambig/qingyi/image_chicago/data/images/satellite/zoom15/>:   9%|▉         | 9350/100000 [2:12:57<21:29:04,  1.17it/s]"
     ]
    },
    {
     "name": "stdout",
     "output_type": "stream",
     "text": [
      "G: 1.25 | D: 1.21 | GP: 0.11 | PL: 0.15\n"
     ]
    },
    {
     "name": "stderr",
     "output_type": "stream",
     "text": [
      "2303-2</dreambig/qingyi/image_chicago/data/images/satellite/zoom15/>:   9%|▉         | 9400/100000 [2:13:39<21:28:16,  1.17it/s]"
     ]
    },
    {
     "name": "stdout",
     "output_type": "stream",
     "text": [
      "G: 1.99 | D: 1.70 | GP: 0.31 | PL: 0.15\n"
     ]
    },
    {
     "name": "stderr",
     "output_type": "stream",
     "text": [
      "2303-2</dreambig/qingyi/image_chicago/data/images/satellite/zoom15/>:   9%|▉         | 9450/100000 [2:14:24<21:27:50,  1.17it/s]"
     ]
    },
    {
     "name": "stdout",
     "output_type": "stream",
     "text": [
      "G: 0.38 | D: 1.37 | GP: 0.86 | PL: 0.15\n"
     ]
    },
    {
     "name": "stderr",
     "output_type": "stream",
     "text": [
      "2303-2</dreambig/qingyi/image_chicago/data/images/satellite/zoom15/>:  10%|▉         | 9500/100000 [2:15:05<21:26:59,  1.17it/s]"
     ]
    },
    {
     "name": "stdout",
     "output_type": "stream",
     "text": [
      "G: 0.88 | D: 1.10 | GP: 0.79 | PL: 0.15\n"
     ]
    },
    {
     "name": "stderr",
     "output_type": "stream",
     "text": [
      "2303-2</dreambig/qingyi/image_chicago/data/images/satellite/zoom15/>:  10%|▉         | 9550/100000 [2:15:49<21:26:26,  1.17it/s]"
     ]
    },
    {
     "name": "stdout",
     "output_type": "stream",
     "text": [
      "G: 0.33 | D: 1.73 | GP: 0.24 | PL: 0.15\n"
     ]
    },
    {
     "name": "stderr",
     "output_type": "stream",
     "text": [
      "2303-2</dreambig/qingyi/image_chicago/data/images/satellite/zoom15/>:  10%|▉         | 9600/100000 [2:16:31<21:25:36,  1.17it/s]"
     ]
    },
    {
     "name": "stdout",
     "output_type": "stream",
     "text": [
      "G: 0.40 | D: 1.12 | GP: 0.90 | PL: 0.15\n"
     ]
    },
    {
     "name": "stderr",
     "output_type": "stream",
     "text": [
      "2303-2</dreambig/qingyi/image_chicago/data/images/satellite/zoom15/>:  10%|▉         | 9650/100000 [2:17:15<21:25:03,  1.17it/s]"
     ]
    },
    {
     "name": "stdout",
     "output_type": "stream",
     "text": [
      "G: 0.91 | D: 1.26 | GP: 0.35 | PL: 0.15\n"
     ]
    },
    {
     "name": "stderr",
     "output_type": "stream",
     "text": [
      "2303-2</dreambig/qingyi/image_chicago/data/images/satellite/zoom15/>:  10%|▉         | 9700/100000 [2:17:57<21:24:17,  1.17it/s]"
     ]
    },
    {
     "name": "stdout",
     "output_type": "stream",
     "text": [
      "G: 0.72 | D: 1.43 | GP: 2.12 | PL: 0.15\n"
     ]
    },
    {
     "name": "stderr",
     "output_type": "stream",
     "text": [
      "2303-2</dreambig/qingyi/image_chicago/data/images/satellite/zoom15/>:  10%|▉         | 9750/100000 [2:18:40<21:23:41,  1.17it/s]"
     ]
    },
    {
     "name": "stdout",
     "output_type": "stream",
     "text": [
      "G: 1.35 | D: 1.13 | GP: 1.16 | PL: 0.16\n"
     ]
    },
    {
     "name": "stderr",
     "output_type": "stream",
     "text": [
      "2303-2</dreambig/qingyi/image_chicago/data/images/satellite/zoom15/>:  10%|▉         | 9800/100000 [2:19:23<21:22:56,  1.17it/s]"
     ]
    },
    {
     "name": "stdout",
     "output_type": "stream",
     "text": [
      "G: 2.51 | D: 1.16 | GP: 0.43 | PL: 0.16\n"
     ]
    },
    {
     "name": "stderr",
     "output_type": "stream",
     "text": [
      "2303-2</dreambig/qingyi/image_chicago/data/images/satellite/zoom15/>:  10%|▉         | 9850/100000 [2:20:06<21:22:20,  1.17it/s]"
     ]
    },
    {
     "name": "stdout",
     "output_type": "stream",
     "text": [
      "G: -0.09 | D: 1.28 | GP: 0.41 | PL: 0.16\n"
     ]
    },
    {
     "name": "stderr",
     "output_type": "stream",
     "text": [
      "2303-2</dreambig/qingyi/image_chicago/data/images/satellite/zoom15/>:  10%|▉         | 9900/100000 [2:20:49<21:21:36,  1.17it/s]"
     ]
    },
    {
     "name": "stdout",
     "output_type": "stream",
     "text": [
      "G: 0.51 | D: 1.40 | GP: 0.63 | PL: 0.16\n"
     ]
    },
    {
     "name": "stderr",
     "output_type": "stream",
     "text": [
      "2303-2</dreambig/qingyi/image_chicago/data/images/satellite/zoom15/>:  10%|▉         | 9950/100000 [2:21:32<21:21:01,  1.17it/s]"
     ]
    },
    {
     "name": "stdout",
     "output_type": "stream",
     "text": [
      "G: 0.87 | D: 1.03 | GP: 0.39 | PL: 0.16\n"
     ]
    },
    {
     "name": "stderr",
     "output_type": "stream",
     "text": [
      "2303-2</dreambig/qingyi/image_chicago/data/images/satellite/zoom15/>:  10%|█         | 10000/100000 [2:22:15<21:20:19,  1.17it/s]"
     ]
    },
    {
     "name": "stdout",
     "output_type": "stream",
     "text": [
      "G: 2.59 | D: 2.15 | GP: 0.53 | PL: 0.16\n"
     ]
    },
    {
     "name": "stderr",
     "output_type": "stream",
     "text": [
      "2303-2</dreambig/qingyi/image_chicago/data/images/satellite/zoom15/>:  10%|█         | 10050/100000 [2:23:00<21:19:59,  1.17it/s]"
     ]
    },
    {
     "name": "stdout",
     "output_type": "stream",
     "text": [
      "G: 0.92 | D: 1.41 | GP: 1.46 | PL: 0.16\n"
     ]
    },
    {
     "name": "stderr",
     "output_type": "stream",
     "text": [
      "2303-2</dreambig/qingyi/image_chicago/data/images/satellite/zoom15/>:  10%|█         | 10100/100000 [2:23:42<21:19:12,  1.17it/s]"
     ]
    },
    {
     "name": "stdout",
     "output_type": "stream",
     "text": [
      "G: 0.58 | D: 1.18 | GP: 0.51 | PL: 0.16\n"
     ]
    },
    {
     "name": "stderr",
     "output_type": "stream",
     "text": [
      "2303-2</dreambig/qingyi/image_chicago/data/images/satellite/zoom15/>:  10%|█         | 10150/100000 [2:24:26<21:18:39,  1.17it/s]"
     ]
    },
    {
     "name": "stdout",
     "output_type": "stream",
     "text": [
      "G: 0.72 | D: 1.37 | GP: 1.06 | PL: 0.17\n"
     ]
    },
    {
     "name": "stderr",
     "output_type": "stream",
     "text": [
      "2303-2</dreambig/qingyi/image_chicago/data/images/satellite/zoom15/>:  10%|█         | 10200/100000 [2:25:08<21:17:51,  1.17it/s]"
     ]
    },
    {
     "name": "stdout",
     "output_type": "stream",
     "text": [
      "G: 0.64 | D: 1.30 | GP: 0.89 | PL: 0.17\n"
     ]
    },
    {
     "name": "stderr",
     "output_type": "stream",
     "text": [
      "2303-2</dreambig/qingyi/image_chicago/data/images/satellite/zoom15/>:  10%|█         | 10250/100000 [2:25:52<21:17:17,  1.17it/s]"
     ]
    },
    {
     "name": "stdout",
     "output_type": "stream",
     "text": [
      "G: 0.15 | D: 1.26 | GP: 0.56 | PL: 0.17\n"
     ]
    },
    {
     "name": "stderr",
     "output_type": "stream",
     "text": [
      "2303-2</dreambig/qingyi/image_chicago/data/images/satellite/zoom15/>:  10%|█         | 10300/100000 [2:26:34<21:16:27,  1.17it/s]"
     ]
    },
    {
     "name": "stdout",
     "output_type": "stream",
     "text": [
      "G: -1.42 | D: 1.14 | GP: 1.75 | PL: 0.17\n"
     ]
    },
    {
     "name": "stderr",
     "output_type": "stream",
     "text": [
      "2303-2</dreambig/qingyi/image_chicago/data/images/satellite/zoom15/>:  10%|█         | 10350/100000 [2:27:17<21:15:53,  1.17it/s]"
     ]
    },
    {
     "name": "stdout",
     "output_type": "stream",
     "text": [
      "G: -0.05 | D: 1.19 | GP: 0.14 | PL: 0.17\n"
     ]
    },
    {
     "name": "stderr",
     "output_type": "stream",
     "text": [
      "2303-2</dreambig/qingyi/image_chicago/data/images/satellite/zoom15/>:  10%|█         | 10400/100000 [2:27:59<21:15:03,  1.17it/s]"
     ]
    },
    {
     "name": "stdout",
     "output_type": "stream",
     "text": [
      "G: 0.68 | D: 3.01 | GP: 0.48 | PL: 0.17\n"
     ]
    },
    {
     "name": "stderr",
     "output_type": "stream",
     "text": [
      "2303-2</dreambig/qingyi/image_chicago/data/images/satellite/zoom15/>:  10%|█         | 10450/100000 [2:28:43<21:14:30,  1.17it/s]"
     ]
    },
    {
     "name": "stdout",
     "output_type": "stream",
     "text": [
      "G: 1.10 | D: 1.19 | GP: 0.67 | PL: 0.17\n"
     ]
    },
    {
     "name": "stderr",
     "output_type": "stream",
     "text": [
      "2303-2</dreambig/qingyi/image_chicago/data/images/satellite/zoom15/>:  10%|█         | 10500/100000 [2:29:26<21:13:46,  1.17it/s]"
     ]
    },
    {
     "name": "stdout",
     "output_type": "stream",
     "text": [
      "G: 0.62 | D: 1.25 | GP: 3.58 | PL: 0.17\n"
     ]
    },
    {
     "name": "stderr",
     "output_type": "stream",
     "text": [
      "2303-2</dreambig/qingyi/image_chicago/data/images/satellite/zoom15/>:  11%|█         | 10550/100000 [2:30:09<21:13:07,  1.17it/s]"
     ]
    },
    {
     "name": "stdout",
     "output_type": "stream",
     "text": [
      "G: 0.67 | D: 1.17 | GP: 0.46 | PL: 0.18\n"
     ]
    },
    {
     "name": "stderr",
     "output_type": "stream",
     "text": [
      "2303-2</dreambig/qingyi/image_chicago/data/images/satellite/zoom15/>:  11%|█         | 10600/100000 [2:30:51<21:12:23,  1.17it/s]"
     ]
    },
    {
     "name": "stdout",
     "output_type": "stream",
     "text": [
      "G: -0.08 | D: 0.99 | GP: 0.23 | PL: 0.18\n"
     ]
    },
    {
     "name": "stderr",
     "output_type": "stream",
     "text": [
      "2303-2</dreambig/qingyi/image_chicago/data/images/satellite/zoom15/>:  11%|█         | 10650/100000 [2:31:36<21:11:53,  1.17it/s]"
     ]
    },
    {
     "name": "stdout",
     "output_type": "stream",
     "text": [
      "G: 1.01 | D: 1.19 | GP: 0.31 | PL: 0.18\n"
     ]
    },
    {
     "name": "stderr",
     "output_type": "stream",
     "text": [
      "2303-2</dreambig/qingyi/image_chicago/data/images/satellite/zoom15/>:  11%|█         | 10700/100000 [2:32:18<21:11:07,  1.17it/s]"
     ]
    },
    {
     "name": "stdout",
     "output_type": "stream",
     "text": [
      "G: 0.59 | D: 1.72 | GP: 0.56 | PL: 0.18\n"
     ]
    },
    {
     "name": "stderr",
     "output_type": "stream",
     "text": [
      "2303-2</dreambig/qingyi/image_chicago/data/images/satellite/zoom15/>:  11%|█         | 10750/100000 [2:33:01<21:10:29,  1.17it/s]"
     ]
    },
    {
     "name": "stdout",
     "output_type": "stream",
     "text": [
      "G: 1.20 | D: 1.11 | GP: 0.03 | PL: 0.18\n"
     ]
    },
    {
     "name": "stderr",
     "output_type": "stream",
     "text": [
      "2303-2</dreambig/qingyi/image_chicago/data/images/satellite/zoom15/>:  11%|█         | 10800/100000 [2:33:44<21:09:45,  1.17it/s]"
     ]
    },
    {
     "name": "stdout",
     "output_type": "stream",
     "text": [
      "G: 1.74 | D: 1.08 | GP: 0.56 | PL: 0.19\n"
     ]
    },
    {
     "name": "stderr",
     "output_type": "stream",
     "text": [
      "2303-2</dreambig/qingyi/image_chicago/data/images/satellite/zoom15/>:  11%|█         | 10850/100000 [2:34:28<21:09:12,  1.17it/s]"
     ]
    },
    {
     "name": "stdout",
     "output_type": "stream",
     "text": [
      "G: 0.96 | D: 1.27 | GP: 0.36 | PL: 0.19\n"
     ]
    },
    {
     "name": "stderr",
     "output_type": "stream",
     "text": [
      "2303-2</dreambig/qingyi/image_chicago/data/images/satellite/zoom15/>:  11%|█         | 10900/100000 [2:35:10<21:08:25,  1.17it/s]"
     ]
    },
    {
     "name": "stdout",
     "output_type": "stream",
     "text": [
      "G: 0.19 | D: 1.33 | GP: 1.89 | PL: 0.19\n"
     ]
    },
    {
     "name": "stderr",
     "output_type": "stream",
     "text": [
      "2303-2</dreambig/qingyi/image_chicago/data/images/satellite/zoom15/>:  11%|█         | 10950/100000 [2:35:54<21:07:51,  1.17it/s]"
     ]
    },
    {
     "name": "stdout",
     "output_type": "stream",
     "text": [
      "G: 1.18 | D: 1.21 | GP: 0.42 | PL: 0.19\n"
     ]
    },
    {
     "name": "stderr",
     "output_type": "stream",
     "text": [
      "2303-2</dreambig/qingyi/image_chicago/data/images/satellite/zoom15/>:  11%|█         | 11000/100000 [2:36:36<21:07:03,  1.17it/s]"
     ]
    },
    {
     "name": "stdout",
     "output_type": "stream",
     "text": [
      "G: 0.92 | D: 1.33 | GP: 0.62 | PL: 0.19\n"
     ]
    },
    {
     "name": "stderr",
     "output_type": "stream",
     "text": [
      "2303-2</dreambig/qingyi/image_chicago/data/images/satellite/zoom15/>:  11%|█         | 11050/100000 [2:37:20<21:06:35,  1.17it/s]"
     ]
    },
    {
     "name": "stdout",
     "output_type": "stream",
     "text": [
      "G: 0.40 | D: 1.82 | GP: 0.32 | PL: 0.19\n"
     ]
    },
    {
     "name": "stderr",
     "output_type": "stream",
     "text": [
      "2303-2</dreambig/qingyi/image_chicago/data/images/satellite/zoom15/>:  11%|█         | 11100/100000 [2:38:02<21:05:48,  1.17it/s]"
     ]
    },
    {
     "name": "stdout",
     "output_type": "stream",
     "text": [
      "G: 0.74 | D: 1.23 | GP: 0.35 | PL: 0.20\n"
     ]
    },
    {
     "name": "stderr",
     "output_type": "stream",
     "text": [
      "2303-2</dreambig/qingyi/image_chicago/data/images/satellite/zoom15/>:  11%|█         | 11150/100000 [2:38:46<21:05:14,  1.17it/s]"
     ]
    },
    {
     "name": "stdout",
     "output_type": "stream",
     "text": [
      "G: -0.96 | D: 1.20 | GP: 0.21 | PL: 0.20\n"
     ]
    },
    {
     "name": "stderr",
     "output_type": "stream",
     "text": [
      "2303-2</dreambig/qingyi/image_chicago/data/images/satellite/zoom15/>:  11%|█         | 11200/100000 [2:39:29<21:04:30,  1.17it/s]"
     ]
    },
    {
     "name": "stdout",
     "output_type": "stream",
     "text": [
      "G: 2.57 | D: 1.26 | GP: 0.80 | PL: 0.20\n"
     ]
    },
    {
     "name": "stderr",
     "output_type": "stream",
     "text": [
      "2303-2</dreambig/qingyi/image_chicago/data/images/satellite/zoom15/>:  11%|█▏        | 11250/100000 [2:40:13<21:03:56,  1.17it/s]"
     ]
    },
    {
     "name": "stdout",
     "output_type": "stream",
     "text": [
      "G: 0.10 | D: 1.02 | GP: 0.31 | PL: 0.20\n"
     ]
    },
    {
     "name": "stderr",
     "output_type": "stream",
     "text": [
      "2303-2</dreambig/qingyi/image_chicago/data/images/satellite/zoom15/>:  11%|█▏        | 11300/100000 [2:40:55<21:03:10,  1.17it/s]"
     ]
    },
    {
     "name": "stdout",
     "output_type": "stream",
     "text": [
      "G: 0.37 | D: 1.31 | GP: 2.35 | PL: 0.20\n"
     ]
    },
    {
     "name": "stderr",
     "output_type": "stream",
     "text": [
      "2303-2</dreambig/qingyi/image_chicago/data/images/satellite/zoom15/>:  11%|█▏        | 11350/100000 [2:41:38<21:02:31,  1.17it/s]"
     ]
    },
    {
     "name": "stdout",
     "output_type": "stream",
     "text": [
      "G: 0.20 | D: 1.53 | GP: 0.57 | PL: 0.20\n"
     ]
    },
    {
     "name": "stderr",
     "output_type": "stream",
     "text": [
      "2303-2</dreambig/qingyi/image_chicago/data/images/satellite/zoom15/>:  11%|█▏        | 11400/100000 [2:42:20<21:01:46,  1.17it/s]"
     ]
    },
    {
     "name": "stdout",
     "output_type": "stream",
     "text": [
      "G: 0.59 | D: 1.39 | GP: 0.75 | PL: 0.20\n"
     ]
    },
    {
     "name": "stderr",
     "output_type": "stream",
     "text": [
      "2303-2</dreambig/qingyi/image_chicago/data/images/satellite/zoom15/>:  11%|█▏        | 11450/100000 [2:43:04<21:01:07,  1.17it/s]"
     ]
    },
    {
     "name": "stdout",
     "output_type": "stream",
     "text": [
      "G: 0.95 | D: 1.06 | GP: 0.08 | PL: 0.20\n"
     ]
    },
    {
     "name": "stderr",
     "output_type": "stream",
     "text": [
      "2303-2</dreambig/qingyi/image_chicago/data/images/satellite/zoom15/>:  12%|█▏        | 11500/100000 [2:43:46<21:00:23,  1.17it/s]"
     ]
    },
    {
     "name": "stdout",
     "output_type": "stream",
     "text": [
      "G: 0.64 | D: 1.01 | GP: 0.58 | PL: 0.20\n"
     ]
    },
    {
     "name": "stderr",
     "output_type": "stream",
     "text": [
      "2303-2</dreambig/qingyi/image_chicago/data/images/satellite/zoom15/>:  12%|█▏        | 11550/100000 [2:44:30<20:59:44,  1.17it/s]"
     ]
    },
    {
     "name": "stdout",
     "output_type": "stream",
     "text": [
      "G: 1.02 | D: 1.28 | GP: 1.14 | PL: 0.21\n"
     ]
    },
    {
     "name": "stderr",
     "output_type": "stream",
     "text": [
      "2303-2</dreambig/qingyi/image_chicago/data/images/satellite/zoom15/>:  12%|█▏        | 11600/100000 [2:45:12<20:58:59,  1.17it/s]"
     ]
    },
    {
     "name": "stdout",
     "output_type": "stream",
     "text": [
      "G: 0.90 | D: 1.23 | GP: 0.12 | PL: 0.21\n"
     ]
    },
    {
     "name": "stderr",
     "output_type": "stream",
     "text": [
      "2303-2</dreambig/qingyi/image_chicago/data/images/satellite/zoom15/>:  12%|█▏        | 11650/100000 [2:45:56<20:58:23,  1.17it/s]"
     ]
    },
    {
     "name": "stdout",
     "output_type": "stream",
     "text": [
      "G: 1.25 | D: 1.53 | GP: 1.31 | PL: 0.21\n"
     ]
    },
    {
     "name": "stderr",
     "output_type": "stream",
     "text": [
      "2303-2</dreambig/qingyi/image_chicago/data/images/satellite/zoom15/>:  12%|█▏        | 11700/100000 [2:46:38<20:57:35,  1.17it/s]"
     ]
    },
    {
     "name": "stdout",
     "output_type": "stream",
     "text": [
      "G: 0.43 | D: 1.53 | GP: 0.60 | PL: 0.21\n"
     ]
    },
    {
     "name": "stderr",
     "output_type": "stream",
     "text": [
      "2303-2</dreambig/qingyi/image_chicago/data/images/satellite/zoom15/>:  12%|█▏        | 11750/100000 [2:47:21<20:56:59,  1.17it/s]"
     ]
    },
    {
     "name": "stdout",
     "output_type": "stream",
     "text": [
      "G: 1.72 | D: 1.21 | GP: 0.84 | PL: 0.21\n"
     ]
    },
    {
     "name": "stderr",
     "output_type": "stream",
     "text": [
      "2303-2</dreambig/qingyi/image_chicago/data/images/satellite/zoom15/>:  12%|█▏        | 11800/100000 [2:48:04<20:56:18,  1.17it/s]"
     ]
    },
    {
     "name": "stdout",
     "output_type": "stream",
     "text": [
      "G: 0.32 | D: 1.39 | GP: 5.95 | PL: 0.21\n"
     ]
    },
    {
     "name": "stderr",
     "output_type": "stream",
     "text": [
      "2303-2</dreambig/qingyi/image_chicago/data/images/satellite/zoom15/>:  12%|█▏        | 11850/100000 [2:48:48<20:55:44,  1.17it/s]"
     ]
    },
    {
     "name": "stdout",
     "output_type": "stream",
     "text": [
      "G: 1.14 | D: 1.49 | GP: 0.09 | PL: 0.22\n"
     ]
    },
    {
     "name": "stderr",
     "output_type": "stream",
     "text": [
      "2303-2</dreambig/qingyi/image_chicago/data/images/satellite/zoom15/>:  12%|█▏        | 11852/100000 [2:48:49<20:55:37,  1.17it/s]"
     ]
    }
   ],
   "source": [
    "rank = 0\n",
    "world_size = 1\n",
    "\n",
    "run_training(rank, world_size, model_args, data, load_from, new, num_train_steps, name, seed)"
   ]
  },
  {
   "cell_type": "code",
   "execution_count": null,
   "id": "d9b35980",
   "metadata": {},
   "outputs": [],
   "source": []
  }
 ],
 "metadata": {
  "kernelspec": {
   "display_name": "qingyi",
   "language": "python",
   "name": "qingyi"
  },
  "language_info": {
   "codemirror_mode": {
    "name": "ipython",
    "version": 3
   },
   "file_extension": ".py",
   "mimetype": "text/x-python",
   "name": "python",
   "nbconvert_exporter": "python",
   "pygments_lexer": "ipython3",
   "version": "3.8.3"
  }
 },
 "nbformat": 4,
 "nbformat_minor": 5
}
